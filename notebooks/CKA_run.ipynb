{
  "cells": [
    {
      "cell_type": "markdown",
      "metadata": {
        "id": "Am_Ubq6xTaBz"
      },
      "source": [
        "# Run contrastive knowledge assesment notebook\n",
        "\n",
        "<a target=\"_blank\" href=\"https://colab.research.google.com/github/daniel-furman/Capstone/blob/main/notebooks/CKA_run.ipynb\">\n",
        "  <img src=\"https://colab.research.google.com/assets/colab-badge.svg\" alt=\"Open In Colab\"/>\n",
        "</a>\n"
      ]
    },
    {
      "cell_type": "markdown",
      "metadata": {
        "id": "uccv2X7WeJGv"
      },
      "source": [
        "## Dependencies"
      ]
    },
    {
      "cell_type": "code",
      "execution_count": null,
      "metadata": {
        "colab": {
          "base_uri": "https://localhost:8080/"
        },
        "id": "A4gro-sOZz-O",
        "outputId": "dd3c9080-aa8a-485a-a921-8d8f4322de18"
      },
      "outputs": [
        {
          "output_type": "stream",
          "name": "stdout",
          "text": [
            "Cloning into 'Capstone'...\n",
            "remote: Enumerating objects: 247, done.\u001b[K\n",
            "remote: Counting objects: 100% (247/247), done.\u001b[K\n",
            "remote: Compressing objects: 100% (157/157), done.\u001b[K\n",
            "remote: Total 247 (delta 104), reused 198 (delta 56), pack-reused 0\u001b[K\n",
            "Receiving objects: 100% (247/247), 21.08 MiB | 18.33 MiB/s, done.\n",
            "Resolving deltas: 100% (104/104), done.\n"
          ]
        }
      ],
      "source": [
        "!git clone https://github.com/daniel-furman/Capstone.git"
      ]
    },
    {
      "cell_type": "code",
      "execution_count": null,
      "metadata": {
        "colab": {
          "base_uri": "https://localhost:8080/"
        },
        "id": "qaXMJaroH_TI",
        "outputId": "2b5dd67e-d6a0-444a-c30a-3d0e1a8b3edd"
      },
      "outputs": [
        {
          "output_type": "stream",
          "name": "stdout",
          "text": [
            "Looking in indexes: https://pypi.org/simple, https://us-python.pkg.dev/colab-wheels/public/simple/\n",
            "Requirement already satisfied: numpy==1.22.4 in /usr/local/lib/python3.9/dist-packages (from -r /content/Capstone/src/cka/scripts/requirements.txt (line 1)) (1.22.4)\n",
            "Requirement already satisfied: torch==1.13.1 in /usr/local/lib/python3.9/dist-packages (from -r /content/Capstone/src/cka/scripts/requirements.txt (line 2)) (1.13.1+cu116)\n",
            "Collecting transformers==4.26.1\n",
            "  Downloading transformers-4.26.1-py3-none-any.whl (6.3 MB)\n",
            "\u001b[2K     \u001b[90m━━━━━━━━━━━━━━━━━━━━━━━━━━━━━━━━━━━━━━━━\u001b[0m \u001b[32m6.3/6.3 MB\u001b[0m \u001b[31m39.9 MB/s\u001b[0m eta \u001b[36m0:00:00\u001b[0m\n",
            "\u001b[?25hCollecting sentencepiece==0.1.97\n",
            "  Downloading sentencepiece-0.1.97-cp39-cp39-manylinux_2_17_x86_64.manylinux2014_x86_64.whl (1.3 MB)\n",
            "\u001b[2K     \u001b[90m━━━━━━━━━━━━━━━━━━━━━━━━━━━━━━━━━━━━━━━━\u001b[0m \u001b[32m1.3/1.3 MB\u001b[0m \u001b[31m54.7 MB/s\u001b[0m eta \u001b[36m0:00:00\u001b[0m\n",
            "\u001b[?25hCollecting accelerate==0.16.0\n",
            "  Downloading accelerate-0.16.0-py3-none-any.whl (199 kB)\n",
            "\u001b[2K     \u001b[90m━━━━━━━━━━━━━━━━━━━━━━━━━━━━━━━━━━━━━━\u001b[0m \u001b[32m199.7/199.7 KB\u001b[0m \u001b[31m13.4 MB/s\u001b[0m eta \u001b[36m0:00:00\u001b[0m\n",
            "\u001b[?25hCollecting bitsandbytes==0.37.0\n",
            "  Downloading bitsandbytes-0.37.0-py3-none-any.whl (76.3 MB)\n",
            "\u001b[2K     \u001b[90m━━━━━━━━━━━━━━━━━━━━━━━━━━━━━━━━━━━━━━━━\u001b[0m \u001b[32m76.3/76.3 MB\u001b[0m \u001b[31m21.9 MB/s\u001b[0m eta \u001b[36m0:00:00\u001b[0m\n",
            "\u001b[?25hRequirement already satisfied: typing-extensions in /usr/local/lib/python3.9/dist-packages (from torch==1.13.1->-r /content/Capstone/src/cka/scripts/requirements.txt (line 2)) (4.5.0)\n",
            "Collecting tokenizers!=0.11.3,<0.14,>=0.11.1\n",
            "  Downloading tokenizers-0.13.2-cp39-cp39-manylinux_2_17_x86_64.manylinux2014_x86_64.whl (7.6 MB)\n",
            "\u001b[2K     \u001b[90m━━━━━━━━━━━━━━━━━━━━━━━━━━━━━━━━━━━━━━━━\u001b[0m \u001b[32m7.6/7.6 MB\u001b[0m \u001b[31m98.8 MB/s\u001b[0m eta \u001b[36m0:00:00\u001b[0m\n",
            "\u001b[?25hRequirement already satisfied: filelock in /usr/local/lib/python3.9/dist-packages (from transformers==4.26.1->-r /content/Capstone/src/cka/scripts/requirements.txt (line 3)) (3.9.0)\n",
            "Requirement already satisfied: regex!=2019.12.17 in /usr/local/lib/python3.9/dist-packages (from transformers==4.26.1->-r /content/Capstone/src/cka/scripts/requirements.txt (line 3)) (2022.6.2)\n",
            "Collecting huggingface-hub<1.0,>=0.11.0\n",
            "  Downloading huggingface_hub-0.13.1-py3-none-any.whl (199 kB)\n",
            "\u001b[2K     \u001b[90m━━━━━━━━━━━━━━━━━━━━━━━━━━━━━━━━━━━━━━\u001b[0m \u001b[32m199.2/199.2 KB\u001b[0m \u001b[31m24.6 MB/s\u001b[0m eta \u001b[36m0:00:00\u001b[0m\n",
            "\u001b[?25hRequirement already satisfied: packaging>=20.0 in /usr/local/lib/python3.9/dist-packages (from transformers==4.26.1->-r /content/Capstone/src/cka/scripts/requirements.txt (line 3)) (23.0)\n",
            "Requirement already satisfied: requests in /usr/local/lib/python3.9/dist-packages (from transformers==4.26.1->-r /content/Capstone/src/cka/scripts/requirements.txt (line 3)) (2.25.1)\n",
            "Requirement already satisfied: tqdm>=4.27 in /usr/local/lib/python3.9/dist-packages (from transformers==4.26.1->-r /content/Capstone/src/cka/scripts/requirements.txt (line 3)) (4.65.0)\n",
            "Requirement already satisfied: pyyaml>=5.1 in /usr/local/lib/python3.9/dist-packages (from transformers==4.26.1->-r /content/Capstone/src/cka/scripts/requirements.txt (line 3)) (6.0)\n",
            "Requirement already satisfied: psutil in /usr/local/lib/python3.9/dist-packages (from accelerate==0.16.0->-r /content/Capstone/src/cka/scripts/requirements.txt (line 5)) (5.4.8)\n",
            "Requirement already satisfied: chardet<5,>=3.0.2 in /usr/local/lib/python3.9/dist-packages (from requests->transformers==4.26.1->-r /content/Capstone/src/cka/scripts/requirements.txt (line 3)) (4.0.0)\n",
            "Requirement already satisfied: urllib3<1.27,>=1.21.1 in /usr/local/lib/python3.9/dist-packages (from requests->transformers==4.26.1->-r /content/Capstone/src/cka/scripts/requirements.txt (line 3)) (1.26.14)\n",
            "Requirement already satisfied: certifi>=2017.4.17 in /usr/local/lib/python3.9/dist-packages (from requests->transformers==4.26.1->-r /content/Capstone/src/cka/scripts/requirements.txt (line 3)) (2022.12.7)\n",
            "Requirement already satisfied: idna<3,>=2.5 in /usr/local/lib/python3.9/dist-packages (from requests->transformers==4.26.1->-r /content/Capstone/src/cka/scripts/requirements.txt (line 3)) (2.10)\n",
            "Installing collected packages: tokenizers, sentencepiece, bitsandbytes, huggingface-hub, accelerate, transformers\n",
            "Successfully installed accelerate-0.16.0 bitsandbytes-0.37.0 huggingface-hub-0.13.1 sentencepiece-0.1.97 tokenizers-0.13.2 transformers-4.26.1\n"
          ]
        }
      ],
      "source": [
        "!pip install -r /content/Capstone/src/cka/scripts/requirements.txt"
      ]
    },
    {
      "cell_type": "markdown",
      "metadata": {
        "id": "3yjnEaRtKd8L"
      },
      "source": [
        "## Imports"
      ]
    },
    {
      "cell_type": "code",
      "execution_count": null,
      "metadata": {
        "id": "IJQImaEDTRMr"
      },
      "outputs": [],
      "source": [
        "import os"
      ]
    },
    {
      "cell_type": "code",
      "execution_count": null,
      "metadata": {
        "id": "0jQTcgbNk-iA"
      },
      "outputs": [],
      "source": [
        "os.chdir('/content/Capstone/src/cka/scripts')"
      ]
    },
    {
      "cell_type": "markdown",
      "metadata": {
        "id": "j6lqNVBmhW-g"
      },
      "source": [
        "## CLI usage"
      ]
    },
    {
      "cell_type": "code",
      "execution_count": null,
      "metadata": {
        "colab": {
          "base_uri": "https://localhost:8080/"
        },
        "id": "1D4NDgkf8oAO",
        "outputId": "ee0a8139-8061-4666-f3c7-d446ff075156"
      },
      "outputs": [
        {
          "output_type": "stream",
          "name": "stdout",
          "text": [
            "2023-03-10 01:21:46.823310: I tensorflow/core/platform/cpu_feature_guard.cc:193] This TensorFlow binary is optimized with oneAPI Deep Neural Network Library (oneDNN) to use the following CPU instructions in performance-critical operations:  AVX2 AVX512F AVX512_VNNI FMA\n",
            "To enable them in other operations, rebuild TensorFlow with the appropriate compiler flags.\n",
            "2023-03-10 01:21:46.975372: I tensorflow/core/util/port.cc:104] oneDNN custom operations are on. You may see slightly different numerical results due to floating-point round-off errors from different computation orders. To turn them off, set the environment variable `TF_ENABLE_ONEDNN_OPTS=0`.\n",
            "2023-03-10 01:21:47.746837: W tensorflow/compiler/xla/stream_executor/platform/default/dso_loader.cc:64] Could not load dynamic library 'libnvinfer.so.7'; dlerror: libnvinfer.so.7: cannot open shared object file: No such file or directory; LD_LIBRARY_PATH: /usr/lib64-nvidia\n",
            "2023-03-10 01:21:47.746933: W tensorflow/compiler/xla/stream_executor/platform/default/dso_loader.cc:64] Could not load dynamic library 'libnvinfer_plugin.so.7'; dlerror: libnvinfer_plugin.so.7: cannot open shared object file: No such file or directory; LD_LIBRARY_PATH: /usr/lib64-nvidia\n",
            "2023-03-10 01:21:47.746954: W tensorflow/compiler/tf2tensorrt/utils/py_utils.cc:38] TF-TRT Warning: Cannot dlopen some TensorRT libraries. If you would like to use Nvidia GPU with TensorRT, please make sure the missing libraries mentioned above are installed properly.\n",
            "CKA for facebook/opt-125m\n",
            "Loading  model...\n",
            "Downloading (…)okenizer_config.json: 100% 685/685 [00:00<00:00, 103kB/s]\n",
            "Downloading (…)lve/main/config.json: 100% 651/651 [00:00<00:00, 106kB/s]\n",
            "Downloading (…)olve/main/vocab.json: 100% 899k/899k [00:01<00:00, 810kB/s]\n",
            "Downloading (…)olve/main/merges.txt: 100% 456k/456k [00:00<00:00, 507kB/s]\n",
            "Downloading (…)cial_tokens_map.json: 100% 441/441 [00:00<00:00, 175kB/s]\n",
            "Downloading pytorch_model.bin: 100% 251M/251M [00:02<00:00, 88.9MB/s]\n",
            "\n",
            "===================================BUG REPORT===================================\n",
            "Welcome to bitsandbytes. For bug reports, please submit your error trace to: https://github.com/TimDettmers/bitsandbytes/issues\n",
            "================================================================================\n",
            "Downloading (…)neration_config.json: 100% 137/137 [00:00<00:00, 23.2kB/s]\n",
            "Running comparisons...\n",
            "Done\n",
            "\n",
            "CKA for facebook/opt-350m\n",
            "Loading  model...\n",
            "Downloading (…)okenizer_config.json: 100% 685/685 [00:00<00:00, 115kB/s]\n",
            "Downloading (…)lve/main/config.json: 100% 644/644 [00:00<00:00, 231kB/s]\n",
            "Downloading (…)olve/main/vocab.json: 100% 899k/899k [00:01<00:00, 809kB/s]\n",
            "Downloading (…)olve/main/merges.txt: 100% 456k/456k [00:00<00:00, 513kB/s]\n",
            "Downloading (…)cial_tokens_map.json: 100% 441/441 [00:00<00:00, 167kB/s]\n",
            "Downloading pytorch_model.bin: 100% 663M/663M [00:07<00:00, 92.4MB/s]\n",
            "Downloading (…)neration_config.json: 100% 137/137 [00:00<00:00, 20.8kB/s]\n",
            "Running comparisons...\n",
            "Done\n",
            "\n",
            "CKA for facebook/opt-1.3b\n",
            "Loading  model...\n",
            "Downloading (…)okenizer_config.json: 100% 685/685 [00:00<00:00, 234kB/s]\n",
            "Downloading (…)lve/main/config.json: 100% 653/653 [00:00<00:00, 224kB/s]\n",
            "Downloading (…)olve/main/vocab.json: 100% 899k/899k [00:01<00:00, 806kB/s]\n",
            "Downloading (…)olve/main/merges.txt: 100% 456k/456k [00:00<00:00, 512kB/s]\n",
            "Downloading (…)cial_tokens_map.json: 100% 441/441 [00:00<00:00, 151kB/s]\n",
            "Downloading pytorch_model.bin: 100% 2.63G/2.63G [00:29<00:00, 90.7MB/s]\n",
            "Downloading (…)neration_config.json: 100% 137/137 [00:00<00:00, 48.2kB/s]\n",
            "Running comparisons...\n",
            "Done\n",
            "\n",
            "CKA for facebook/opt-2.7b\n",
            "Loading  model...\n",
            "Downloading (…)okenizer_config.json: 100% 685/685 [00:00<00:00, 226kB/s]\n",
            "Downloading (…)lve/main/config.json: 100% 691/691 [00:00<00:00, 236kB/s]\n",
            "Downloading (…)olve/main/vocab.json: 100% 899k/899k [00:01<00:00, 810kB/s]\n",
            "Downloading (…)olve/main/merges.txt: 100% 456k/456k [00:00<00:00, 514kB/s]\n",
            "Downloading (…)cial_tokens_map.json: 100% 441/441 [00:00<00:00, 147kB/s]\n",
            "Downloading pytorch_model.bin: 100% 5.30G/5.30G [00:29<00:00, 181MB/s]\n",
            "Downloading (…)neration_config.json: 100% 137/137 [00:00<00:00, 43.7kB/s]\n",
            "Running comparisons...\n",
            "Done\n",
            "\n",
            "CKA for facebook/opt-6.7b\n",
            "Loading  model...\n",
            "Downloading (…)okenizer_config.json: 100% 685/685 [00:00<00:00, 226kB/s]\n",
            "Downloading (…)lve/main/config.json: 100% 651/651 [00:00<00:00, 214kB/s]\n",
            "Downloading (…)olve/main/vocab.json: 100% 899k/899k [00:01<00:00, 810kB/s]\n",
            "Downloading (…)olve/main/merges.txt: 100% 456k/456k [00:00<00:00, 514kB/s]\n",
            "Downloading (…)cial_tokens_map.json: 100% 441/441 [00:00<00:00, 144kB/s]\n",
            "Downloading (…)model.bin.index.json: 100% 41.9k/41.9k [00:00<00:00, 189kB/s]\n",
            "Downloading (…)l-00001-of-00002.bin: 100% 9.96G/9.96G [00:25<00:00, 394MB/s]\n",
            "Downloading (…)l-00002-of-00002.bin: 100% 3.36G/3.36G [00:36<00:00, 93.0MB/s]\n",
            "Loading checkpoint shards: 100% 2/2 [00:10<00:00,  5.11s/it]\n",
            "Downloading (…)neration_config.json: 100% 137/137 [00:00<00:00, 47.9kB/s]\n",
            "Running comparisons...\n",
            "Done\n",
            "\n",
            "CKA for facebook/opt-13b\n",
            "Loading  model...\n",
            "Downloading (…)okenizer_config.json: 100% 721/721 [00:00<00:00, 236kB/s]\n",
            "Downloading (…)olve/main/vocab.json: 100% 899k/899k [00:01<00:00, 811kB/s]\n",
            "Downloading (…)olve/main/merges.txt: 100% 456k/456k [00:00<00:00, 512kB/s]\n",
            "Downloading (…)cial_tokens_map.json: 100% 441/441 [00:00<00:00, 149kB/s]\n",
            "Downloading (…)lve/main/config.json: 100% 719/719 [00:00<00:00, 274kB/s]\n",
            "Downloading (…)model.bin.index.json: 100% 52.4k/52.4k [00:00<00:00, 235kB/s]\n",
            "Downloading (…)l-00001-of-00003.bin: 100% 9.98G/9.98G [00:54<00:00, 182MB/s]\n",
            "Downloading (…)l-00002-of-00003.bin: 100% 9.86G/9.86G [01:40<00:00, 98.5MB/s]\n",
            "Downloading (…)l-00003-of-00003.bin: 100% 5.87G/5.87G [00:59<00:00, 98.8MB/s]\n",
            "Loading checkpoint shards: 100% 3/3 [00:19<00:00,  6.62s/it]\n",
            "Downloading (…)neration_config.json: 100% 137/137 [00:00<00:00, 44.1kB/s]\n",
            "Running comparisons...\n",
            "Done\n",
            "\n",
            "\n",
            "Score dict full:\n",
            "{'facebook/opt-125m': [{'The 2020 Olympics were held in': {'p_true': 0.1692, 'p_false': 0.036163330078125, 'p_true - p_false': 0.133026123046875, 'p_true > p_false': True}}, {'Operation Overlord took place in': {'p_true': 0.0005836, 'p_false': 0.00018596649169921875, 'p_true - p_false': 0.00039768218994140625, 'p_true > p_false': True}}, {'Steve Jobs is the founder of': {'p_true': 0.4473, 'p_false': 0.016876220703125, 'p_true - p_false': 0.430389404296875, 'p_true > p_false': True}}], 'facebook/opt-350m': [{'The 2020 Olympics were held in': {'p_true': 0.521, 'p_false': 0.01102447509765625, 'p_true - p_false': 0.5099716186523438, 'p_true > p_false': True}}, {'Operation Overlord took place in': {'p_true': 0.0001271, 'p_false': 3.641843795776367e-05, 'p_true - p_false': 9.065866470336914e-05, 'p_true > p_false': True}}, {'Steve Jobs is the founder of': {'p_true': 0.7217, 'p_false': 0.019744873046875, 'p_true - p_false': 0.701934814453125, 'p_true > p_false': True}}], 'facebook/opt-1.3b': [{'The 2020 Olympics were held in': {'p_true': 0.4316, 'p_false': 0.0002880096435546875, 'p_true - p_false': 0.4313526153564453, 'p_true > p_false': True}}, {'Operation Overlord took place in': {'p_true': 0.00797, 'p_false': 8.58306884765625e-05, 'p_true - p_false': 0.007886886596679688, 'p_true > p_false': True}}, {'Steve Jobs is the founder of': {'p_true': 0.8223, 'p_false': 0.0013628005981445312, 'p_true - p_false': 0.8209028244018555, 'p_true > p_false': True}}], 'facebook/opt-2.7b': [{'The 2020 Olympics were held in': {'p_true': 0.4382, 'p_false': 0.003452301025390625, 'p_true - p_false': 0.4347801208496094, 'p_true > p_false': True}}, {'Operation Overlord took place in': {'p_true': 0.09155, 'p_false': 5.364418029785156e-07, 'p_true - p_false': 0.09155219793319702, 'p_true > p_false': True}}, {'Steve Jobs is the founder of': {'p_true': 0.7095, 'p_false': 0.0006885528564453125, 'p_true - p_false': 0.7087841033935547, 'p_true > p_false': True}}], 'facebook/opt-6.7b': [{'The 2020 Olympics were held in': {'p_true': 0.7134, 'p_false': 0.00047588348388671875, 'p_true - p_false': 0.7129030227661133, 'p_true > p_false': True}}, {'Operation Overlord took place in': {'p_true': 0.3218, 'p_false': 5.960464477539063e-08, 'p_true - p_false': 0.3217772841453552, 'p_true > p_false': True}}, {'Steve Jobs is the founder of': {'p_true': 0.771, 'p_false': 0.0007634162902832031, 'p_true - p_false': 0.7702326774597168, 'p_true > p_false': True}}], 'facebook/opt-13b': [{'The 2020 Olympics were held in': {'p_true': 0.394, 'p_false': 0.0009927749633789062, 'p_true - p_false': 0.3930501937866211, 'p_true > p_false': True}}, {'Operation Overlord took place in': {'p_true': 0.05972, 'p_false': 2.682209014892578e-06, 'p_true - p_false': 0.05972021818161011, 'p_true > p_false': True}}, {'Steve Jobs is the founder of': {'p_true': 0.7495, 'p_false': 0.0004343986511230469, 'p_true - p_false': 0.749077320098877, 'p_true > p_false': True}}]}\n",
            "\n",
            "Score dict succinct:\n",
            "{'facebook/opt-125m': [{'The 2020 Olympics were held in': {'p_true > p_false': True}}, {'Operation Overlord took place in': {'p_true > p_false': True}}, {'Steve Jobs is the founder of': {'p_true > p_false': True}}], 'facebook/opt-350m': [{'The 2020 Olympics were held in': {'p_true > p_false': True}}, {'Operation Overlord took place in': {'p_true > p_false': True}}, {'Steve Jobs is the founder of': {'p_true > p_false': True}}], 'facebook/opt-1.3b': [{'The 2020 Olympics were held in': {'p_true > p_false': True}}, {'Operation Overlord took place in': {'p_true > p_false': True}}, {'Steve Jobs is the founder of': {'p_true > p_false': True}}], 'facebook/opt-2.7b': [{'The 2020 Olympics were held in': {'p_true > p_false': True}}, {'Operation Overlord took place in': {'p_true > p_false': True}}, {'Steve Jobs is the founder of': {'p_true > p_false': True}}], 'facebook/opt-6.7b': [{'The 2020 Olympics were held in': {'p_true > p_false': True}}, {'Operation Overlord took place in': {'p_true > p_false': True}}, {'Steve Jobs is the founder of': {'p_true > p_false': True}}], 'facebook/opt-13b': [{'The 2020 Olympics were held in': {'p_true > p_false': True}}, {'Operation Overlord took place in': {'p_true > p_false': True}}, {'Steve Jobs is the founder of': {'p_true > p_false': True}}]}\n",
            "\n",
            "Score dict summary:\n",
            "{'facebook/opt-125m': 'This model got 3/3 facts correct', 'facebook/opt-350m': 'This model got 3/3 facts correct', 'facebook/opt-1.3b': 'This model got 3/3 facts correct', 'facebook/opt-2.7b': 'This model got 3/3 facts correct', 'facebook/opt-6.7b': 'This model got 3/3 facts correct', 'facebook/opt-13b': 'This model got 3/3 facts correct'}\n"
          ]
        }
      ],
      "source": [
        "!python run_cka.py configs.opt_v0"
      ]
    },
    {
      "cell_type": "code",
      "source": [
        "!python run_cka.py configs.opt_30b_v0"
      ],
      "metadata": {
        "colab": {
          "base_uri": "https://localhost:8080/"
        },
        "id": "2MdpTxuy7Loy",
        "outputId": "c284d9be-9dd0-4f21-bc61-a725d2f41d7f"
      },
      "execution_count": null,
      "outputs": [
        {
          "output_type": "stream",
          "name": "stdout",
          "text": [
            "2023-03-10 00:30:37.784484: I tensorflow/core/platform/cpu_feature_guard.cc:193] This TensorFlow binary is optimized with oneAPI Deep Neural Network Library (oneDNN) to use the following CPU instructions in performance-critical operations:  AVX2 AVX512F AVX512_VNNI FMA\n",
            "To enable them in other operations, rebuild TensorFlow with the appropriate compiler flags.\n",
            "2023-03-10 00:30:37.939390: I tensorflow/core/util/port.cc:104] oneDNN custom operations are on. You may see slightly different numerical results due to floating-point round-off errors from different computation orders. To turn them off, set the environment variable `TF_ENABLE_ONEDNN_OPTS=0`.\n",
            "2023-03-10 00:30:38.713507: W tensorflow/compiler/xla/stream_executor/platform/default/dso_loader.cc:64] Could not load dynamic library 'libnvinfer.so.7'; dlerror: libnvinfer.so.7: cannot open shared object file: No such file or directory; LD_LIBRARY_PATH: /usr/lib64-nvidia\n",
            "2023-03-10 00:30:38.713628: W tensorflow/compiler/xla/stream_executor/platform/default/dso_loader.cc:64] Could not load dynamic library 'libnvinfer_plugin.so.7'; dlerror: libnvinfer_plugin.so.7: cannot open shared object file: No such file or directory; LD_LIBRARY_PATH: /usr/lib64-nvidia\n",
            "2023-03-10 00:30:38.713651: W tensorflow/compiler/tf2tensorrt/utils/py_utils.cc:38] TF-TRT Warning: Cannot dlopen some TensorRT libraries. If you would like to use Nvidia GPU with TensorRT, please make sure the missing libraries mentioned above are installed properly.\n",
            "CKA for facebook/opt-30b\n",
            "Loading  model...\n",
            "Downloading (…)okenizer_config.json: 100% 685/685 [00:00<00:00, 101kB/s]\n",
            "Downloading (…)lve/main/config.json: 100% 651/651 [00:00<00:00, 105kB/s]\n",
            "Downloading (…)olve/main/vocab.json: 100% 899k/899k [00:00<00:00, 2.92MB/s]\n",
            "Downloading (…)olve/main/merges.txt: 100% 456k/456k [00:00<00:00, 1.87MB/s]\n",
            "Downloading (…)cial_tokens_map.json: 100% 221/221 [00:00<00:00, 85.8kB/s]\n",
            "Downloading (…)model.bin.index.json: 100% 62.8k/62.8k [00:00<00:00, 1.03MB/s]\n",
            "Downloading (…)l-00001-of-00007.bin: 100% 9.79G/9.79G [01:12<00:00, 136MB/s]\n",
            "Downloading (…)l-00002-of-00007.bin: 100% 9.87G/9.87G [00:57<00:00, 171MB/s]\n",
            "Downloading (…)l-00003-of-00007.bin: 100% 9.87G/9.87G [03:00<00:00, 54.6MB/s]\n",
            "Downloading (…)l-00004-of-00007.bin: 100% 9.87G/9.87G [03:08<00:00, 52.4MB/s]\n",
            "Downloading (…)l-00005-of-00007.bin: 100% 9.87G/9.87G [02:46<00:00, 59.2MB/s]\n",
            "Downloading (…)l-00006-of-00007.bin: 100% 9.87G/9.87G [02:54<00:00, 56.4MB/s]\n",
            "Downloading (…)l-00007-of-00007.bin: 100% 822M/822M [00:04<00:00, 182MB/s]\n",
            "\n",
            "===================================BUG REPORT===================================\n",
            "Welcome to bitsandbytes. For bug reports, please submit your error trace to: https://github.com/TimDettmers/bitsandbytes/issues\n",
            "================================================================================\n",
            "Loading checkpoint shards: 100% 7/7 [04:11<00:00, 35.92s/it]\n",
            "Downloading (…)neration_config.json: 100% 137/137 [00:00<00:00, 46.5kB/s]\n",
            "Running comparisons...\n",
            "Done\n",
            "\n",
            "\n",
            "Score dict full:\n",
            "{'facebook/opt-30b': [{'The 2020 Olympics were held in': {'p_true': 0.3975, 'p_false': 0.0010089874267578125, 'p_true - p_false': 0.3964519500732422, 'p_true > p_false': True}}, {'Operation Overlord took place in': {'p_true': 0.11487, 'p_false': 3.5762786865234375e-07, 'p_true - p_false': 0.11486780643463135, 'p_true > p_false': True}}, {'Steve Jobs is the founder of': {'p_true': 0.7524, 'p_false': 0.0008087158203125, 'p_true - p_false': 0.7516326904296875, 'p_true > p_false': True}}]}\n",
            "\n",
            "Score dict succinct:\n",
            "{'facebook/opt-30b': [{'The 2020 Olympics were held in': {'p_true > p_false': True}}, {'Operation Overlord took place in': {'p_true > p_false': True}}, {'Steve Jobs is the founder of': {'p_true > p_false': True}}]}\n",
            "\n",
            "Score dict summary:\n",
            "{'facebook/opt-30b': 'This model got 3/3 facts correct'}\n"
          ]
        }
      ]
    },
    {
      "cell_type": "code",
      "execution_count": null,
      "metadata": {
        "colab": {
          "base_uri": "https://localhost:8080/"
        },
        "id": "-qB6RpDTZsJC",
        "outputId": "e2c3a93b-1896-4ba5-b724-630efc0ff859"
      },
      "outputs": [
        {
          "name": "stdout",
          "output_type": "stream",
          "text": [
            "2023-03-09 04:18:51.156533: I tensorflow/core/platform/cpu_feature_guard.cc:193] This TensorFlow binary is optimized with oneAPI Deep Neural Network Library (oneDNN) to use the following CPU instructions in performance-critical operations:  AVX2 AVX512F AVX512_VNNI FMA\n",
            "To enable them in other operations, rebuild TensorFlow with the appropriate compiler flags.\n",
            "2023-03-09 04:18:51.284218: I tensorflow/core/util/port.cc:104] oneDNN custom operations are on. You may see slightly different numerical results due to floating-point round-off errors from different computation orders. To turn them off, set the environment variable `TF_ENABLE_ONEDNN_OPTS=0`.\n",
            "2023-03-09 04:18:51.986680: W tensorflow/compiler/xla/stream_executor/platform/default/dso_loader.cc:64] Could not load dynamic library 'libnvinfer.so.7'; dlerror: libnvinfer.so.7: cannot open shared object file: No such file or directory; LD_LIBRARY_PATH: /usr/lib64-nvidia\n",
            "2023-03-09 04:18:51.986788: W tensorflow/compiler/xla/stream_executor/platform/default/dso_loader.cc:64] Could not load dynamic library 'libnvinfer_plugin.so.7'; dlerror: libnvinfer_plugin.so.7: cannot open shared object file: No such file or directory; LD_LIBRARY_PATH: /usr/lib64-nvidia\n",
            "2023-03-09 04:18:51.986807: W tensorflow/compiler/tf2tensorrt/utils/py_utils.cc:38] TF-TRT Warning: Cannot dlopen some TensorRT libraries. If you would like to use Nvidia GPU with TensorRT, please make sure the missing libraries mentioned above are installed properly.\n",
            "CKA for distilgpt2\n",
            "Loading  model...\n",
            "Downloading (…)lve/main/config.json: 100% 762/762 [00:00<00:00, 122kB/s]\n",
            "Downloading (…)olve/main/vocab.json: 100% 1.04M/1.04M [00:00<00:00, 7.02MB/s]\n",
            "Downloading (…)olve/main/merges.txt: 100% 456k/456k [00:00<00:00, 3.95MB/s]\n",
            "Downloading (…)/main/tokenizer.json: 100% 1.36M/1.36M [00:00<00:00, 9.62MB/s]\n",
            "Downloading pytorch_model.bin: 100% 353M/353M [00:03<00:00, 96.4MB/s]\n",
            "\n",
            "===================================BUG REPORT===================================\n",
            "Welcome to bitsandbytes. For bug reports, please submit your error trace to: https://github.com/TimDettmers/bitsandbytes/issues\n",
            "================================================================================\n",
            "Downloading (…)neration_config.json: 100% 124/124 [00:00<00:00, 53.5kB/s]\n",
            "Running comparisons...\n",
            "Done\n",
            "\n",
            "CKA for gpt2\n",
            "Loading  model...\n",
            "Downloading (…)lve/main/config.json: 100% 665/665 [00:00<00:00, 131kB/s]\n",
            "Downloading (…)olve/main/vocab.json: 100% 1.04M/1.04M [00:00<00:00, 7.79MB/s]\n",
            "Downloading (…)olve/main/merges.txt: 100% 456k/456k [00:00<00:00, 4.32MB/s]\n",
            "Downloading (…)/main/tokenizer.json: 100% 1.36M/1.36M [00:00<00:00, 7.70MB/s]\n",
            "Downloading pytorch_model.bin: 100% 548M/548M [00:02<00:00, 219MB/s]\n",
            "Downloading (…)neration_config.json: 100% 124/124 [00:00<00:00, 47.9kB/s]\n",
            "Running comparisons...\n",
            "Done\n",
            "\n",
            "CKA for gpt2-medium\n",
            "Loading  model...\n",
            "Downloading (…)lve/main/config.json: 100% 718/718 [00:00<00:00, 242kB/s]\n",
            "Downloading (…)olve/main/vocab.json: 100% 1.04M/1.04M [00:00<00:00, 7.06MB/s]\n",
            "Downloading (…)olve/main/merges.txt: 100% 456k/456k [00:00<00:00, 3.82MB/s]\n",
            "Downloading (…)/main/tokenizer.json: 100% 1.36M/1.36M [00:00<00:00, 7.69MB/s]\n",
            "Downloading pytorch_model.bin: 100% 1.52G/1.52G [00:15<00:00, 97.2MB/s]\n",
            "Downloading (…)neration_config.json: 100% 124/124 [00:00<00:00, 49.3kB/s]\n",
            "Running comparisons...\n",
            "Done\n",
            "\n",
            "CKA for gpt2-large\n",
            "Loading  model...\n",
            "Downloading (…)lve/main/config.json: 100% 666/666 [00:00<00:00, 288kB/s]\n",
            "Downloading (…)olve/main/vocab.json: 100% 1.04M/1.04M [00:00<00:00, 7.00MB/s]\n",
            "Downloading (…)olve/main/merges.txt: 100% 456k/456k [00:00<00:00, 3.92MB/s]\n",
            "Downloading (…)/main/tokenizer.json: 100% 1.36M/1.36M [00:00<00:00, 9.56MB/s]\n",
            "Downloading pytorch_model.bin: 100% 3.25G/3.25G [00:32<00:00, 98.8MB/s]\n",
            "Downloading (…)neration_config.json: 100% 124/124 [00:00<00:00, 56.1kB/s]\n",
            "Running comparisons...\n",
            "Done\n",
            "\n",
            "CKA for gpt2-xl\n",
            "Loading  model...\n",
            "Downloading (…)lve/main/config.json: 100% 689/689 [00:00<00:00, 304kB/s]\n",
            "Downloading (…)olve/main/vocab.json: 100% 1.04M/1.04M [00:00<00:00, 1.16MB/s]\n",
            "Downloading (…)olve/main/merges.txt: 100% 456k/456k [00:00<00:00, 1.46MB/s]\n",
            "Downloading (…)/main/tokenizer.json: 100% 1.36M/1.36M [00:00<00:00, 2.07MB/s]\n",
            "Downloading pytorch_model.bin: 100% 6.43G/6.43G [00:41<00:00, 156MB/s]\n",
            "Downloading (…)neration_config.json: 100% 124/124 [00:00<00:00, 50.7kB/s]\n",
            "Running comparisons...\n",
            "Done\n",
            "\n",
            "\n",
            "Score dict full:\n",
            "{'distilgpt2': [{'The 2020 Olympics were held in': {'p_true': 0.01055, 'p_false': 0.04730224609375, 'p_true - p_false': -0.03675079345703125, 'p_true > p_false': False}}, {'Operation Overlord took place in': {'p_true': 0.0007367, 'p_false': 0.0001983642578125, 'p_true - p_false': 0.0005383491516113281, 'p_true > p_false': True}}, {'Steve Jobs is the founder of': {'p_true': 0.01398, 'p_false': 0.01195526123046875, 'p_true - p_false': 0.00202178955078125, 'p_true > p_false': True}}], 'gpt2': [{'The 2020 Olympics were held in': {'p_true': 0.02582, 'p_false': 0.07470703125, 'p_true - p_false': -0.04888916015625, 'p_true > p_false': False}}, {'Operation Overlord took place in': {'p_true': 0.0004587, 'p_false': 0.00015854835510253906, 'p_true - p_false': 0.0003001689910888672, 'p_true > p_false': True}}, {'Steve Jobs is the founder of': {'p_true': 0.2382, 'p_false': 0.060211181640625, 'p_true - p_false': 0.177947998046875, 'p_true > p_false': True}}], 'gpt2-medium': [{'The 2020 Olympics were held in': {'p_true': 0.1772, 'p_false': 0.054046630859375, 'p_true - p_false': 0.123199462890625, 'p_true > p_false': True}}, {'Operation Overlord took place in': {'p_true': 0.0002395, 'p_false': 3.24249267578125e-05, 'p_true - p_false': 0.00020706653594970703, 'p_true > p_false': True}}, {'Steve Jobs is the founder of': {'p_true': 0.9307, 'p_false': 0.001056671142578125, 'p_true - p_false': 0.9296073913574219, 'p_true > p_false': True}}], 'gpt2-large': [{'The 2020 Olympics were held in': {'p_true': 0.54, 'p_false': 0.058746337890625, 'p_true - p_false': 0.481292724609375, 'p_true > p_false': True}}, {'Operation Overlord took place in': {'p_true': 0.000504, 'p_false': 0.00010716915130615234, 'p_true - p_false': 0.0003968477249145508, 'p_true > p_false': True}}, {'Steve Jobs is the founder of': {'p_true': 0.753, 'p_false': 0.0009946823120117188, 'p_true - p_false': 0.7519350051879883, 'p_true > p_false': True}}], 'gpt2-xl': [{'The 2020 Olympics were held in': {'p_true': 0.3728, 'p_false': 0.01491546630859375, 'p_true - p_false': 0.35788726806640625, 'p_true > p_false': True}}, {'Operation Overlord took place in': {'p_true': 0.0009227, 'p_false': 2.5153160095214844e-05, 'p_true - p_false': 0.000897526741027832, 'p_true > p_false': True}}, {'Steve Jobs is the founder of': {'p_true': 0.8247, 'p_false': 0.0010004043579101562, 'p_true - p_false': 0.8237066268920898, 'p_true > p_false': True}}]}\n",
            "\n",
            "Score dict succinct:\n",
            "{'distilgpt2': [{'The 2020 Olympics were held in': {'p_true > p_false': False}}, {'Operation Overlord took place in': {'p_true > p_false': True}}, {'Steve Jobs is the founder of': {'p_true > p_false': True}}], 'gpt2': [{'The 2020 Olympics were held in': {'p_true > p_false': False}}, {'Operation Overlord took place in': {'p_true > p_false': True}}, {'Steve Jobs is the founder of': {'p_true > p_false': True}}], 'gpt2-medium': [{'The 2020 Olympics were held in': {'p_true > p_false': True}}, {'Operation Overlord took place in': {'p_true > p_false': True}}, {'Steve Jobs is the founder of': {'p_true > p_false': True}}], 'gpt2-large': [{'The 2020 Olympics were held in': {'p_true > p_false': True}}, {'Operation Overlord took place in': {'p_true > p_false': True}}, {'Steve Jobs is the founder of': {'p_true > p_false': True}}], 'gpt2-xl': [{'The 2020 Olympics were held in': {'p_true > p_false': True}}, {'Operation Overlord took place in': {'p_true > p_false': True}}, {'Steve Jobs is the founder of': {'p_true > p_false': True}}]}\n",
            "\n",
            "Score dict summary:\n",
            "{'distilgpt2': 'This model got 2/3 facts correct', 'gpt2': 'This model got 2/3 facts correct', 'gpt2-medium': 'This model got 3/3 facts correct', 'gpt2-large': 'This model got 3/3 facts correct', 'gpt2-xl': 'This model got 3/3 facts correct'}\n"
          ]
        }
      ],
      "source": [
        "!python run_cka.py configs.gpt2_v0"
      ]
    },
    {
      "cell_type": "code",
      "execution_count": null,
      "metadata": {
        "colab": {
          "base_uri": "https://localhost:8080/"
        },
        "id": "AvAcClqXEtgB",
        "outputId": "2b5fcf2f-1500-46f5-b830-b24dacd4244d"
      },
      "outputs": [
        {
          "name": "stdout",
          "output_type": "stream",
          "text": [
            "2023-03-09 04:23:12.780152: I tensorflow/core/platform/cpu_feature_guard.cc:193] This TensorFlow binary is optimized with oneAPI Deep Neural Network Library (oneDNN) to use the following CPU instructions in performance-critical operations:  AVX2 AVX512F AVX512_VNNI FMA\n",
            "To enable them in other operations, rebuild TensorFlow with the appropriate compiler flags.\n",
            "2023-03-09 04:23:12.908490: I tensorflow/core/util/port.cc:104] oneDNN custom operations are on. You may see slightly different numerical results due to floating-point round-off errors from different computation orders. To turn them off, set the environment variable `TF_ENABLE_ONEDNN_OPTS=0`.\n",
            "2023-03-09 04:23:13.615350: W tensorflow/compiler/xla/stream_executor/platform/default/dso_loader.cc:64] Could not load dynamic library 'libnvinfer.so.7'; dlerror: libnvinfer.so.7: cannot open shared object file: No such file or directory; LD_LIBRARY_PATH: /usr/lib64-nvidia\n",
            "2023-03-09 04:23:13.615460: W tensorflow/compiler/xla/stream_executor/platform/default/dso_loader.cc:64] Could not load dynamic library 'libnvinfer_plugin.so.7'; dlerror: libnvinfer_plugin.so.7: cannot open shared object file: No such file or directory; LD_LIBRARY_PATH: /usr/lib64-nvidia\n",
            "2023-03-09 04:23:13.615483: W tensorflow/compiler/tf2tensorrt/utils/py_utils.cc:38] TF-TRT Warning: Cannot dlopen some TensorRT libraries. If you would like to use Nvidia GPU with TensorRT, please make sure the missing libraries mentioned above are installed properly.\n",
            "CKA for google/bert_uncased_L-2_H-128_A-2\n",
            "Loading  model...\n",
            "Downloading (…)lve/main/config.json: 100% 382/382 [00:00<00:00, 60.4kB/s]\n",
            "Downloading (…)solve/main/vocab.txt: 100% 232k/232k [00:00<00:00, 2.53MB/s]\n",
            "Downloading pytorch_model.bin: 100% 17.7M/17.7M [00:00<00:00, 78.4MB/s]\n",
            "Some weights of the model checkpoint at google/bert_uncased_L-2_H-128_A-2 were not used when initializing BertForMaskedLM: ['cls.seq_relationship.bias', 'cls.seq_relationship.weight']\n",
            "- This IS expected if you are initializing BertForMaskedLM from the checkpoint of a model trained on another task or with another architecture (e.g. initializing a BertForSequenceClassification model from a BertForPreTraining model).\n",
            "- This IS NOT expected if you are initializing BertForMaskedLM from the checkpoint of a model that you expect to be exactly identical (initializing a BertForSequenceClassification model from a BertForSequenceClassification model).\n",
            "Running comparisons...\n",
            "Done\n",
            "\n",
            "CKA for google/bert_uncased_L-4_H-256_A-4\n",
            "Loading  model...\n",
            "Downloading (…)lve/main/config.json: 100% 383/383 [00:00<00:00, 65.7kB/s]\n",
            "Downloading (…)solve/main/vocab.txt: 100% 232k/232k [00:00<00:00, 2.60MB/s]\n",
            "Downloading pytorch_model.bin: 100% 45.1M/45.1M [00:00<00:00, 98.6MB/s]\n",
            "Some weights of the model checkpoint at google/bert_uncased_L-4_H-256_A-4 were not used when initializing BertForMaskedLM: ['cls.seq_relationship.bias', 'cls.seq_relationship.weight']\n",
            "- This IS expected if you are initializing BertForMaskedLM from the checkpoint of a model trained on another task or with another architecture (e.g. initializing a BertForSequenceClassification model from a BertForPreTraining model).\n",
            "- This IS NOT expected if you are initializing BertForMaskedLM from the checkpoint of a model that you expect to be exactly identical (initializing a BertForSequenceClassification model from a BertForSequenceClassification model).\n",
            "Running comparisons...\n",
            "Done\n",
            "\n",
            "CKA for google/bert_uncased_L-4_H-512_A-8\n",
            "Loading  model...\n",
            "Downloading (…)lve/main/config.json: 100% 383/383 [00:00<00:00, 162kB/s]\n",
            "Downloading (…)solve/main/vocab.txt: 100% 232k/232k [00:00<00:00, 2.74MB/s]\n",
            "Downloading pytorch_model.bin: 100% 116M/116M [00:01<00:00, 91.6MB/s]\n",
            "Some weights of the model checkpoint at google/bert_uncased_L-4_H-512_A-8 were not used when initializing BertForMaskedLM: ['cls.seq_relationship.bias', 'cls.seq_relationship.weight']\n",
            "- This IS expected if you are initializing BertForMaskedLM from the checkpoint of a model trained on another task or with another architecture (e.g. initializing a BertForSequenceClassification model from a BertForPreTraining model).\n",
            "- This IS NOT expected if you are initializing BertForMaskedLM from the checkpoint of a model that you expect to be exactly identical (initializing a BertForSequenceClassification model from a BertForSequenceClassification model).\n",
            "Running comparisons...\n",
            "Done\n",
            "\n",
            "CKA for google/bert_uncased_L-8_H-512_A-8\n",
            "Loading  model...\n",
            "Downloading (…)lve/main/config.json: 100% 383/383 [00:00<00:00, 176kB/s]\n",
            "Downloading (…)solve/main/vocab.txt: 100% 232k/232k [00:00<00:00, 2.60MB/s]\n",
            "Downloading pytorch_model.bin: 100% 167M/167M [00:00<00:00, 203MB/s]\n",
            "Some weights of the model checkpoint at google/bert_uncased_L-8_H-512_A-8 were not used when initializing BertForMaskedLM: ['cls.seq_relationship.bias', 'cls.seq_relationship.weight']\n",
            "- This IS expected if you are initializing BertForMaskedLM from the checkpoint of a model trained on another task or with another architecture (e.g. initializing a BertForSequenceClassification model from a BertForPreTraining model).\n",
            "- This IS NOT expected if you are initializing BertForMaskedLM from the checkpoint of a model that you expect to be exactly identical (initializing a BertForSequenceClassification model from a BertForSequenceClassification model).\n",
            "Running comparisons...\n",
            "Done\n",
            "\n",
            "CKA for distilbert-base-uncased\n",
            "Loading  model...\n",
            "Downloading (…)okenizer_config.json: 100% 28.0/28.0 [00:00<00:00, 2.48kB/s]\n",
            "Downloading (…)lve/main/config.json: 100% 483/483 [00:00<00:00, 202kB/s]\n",
            "Downloading (…)solve/main/vocab.txt: 100% 232k/232k [00:00<00:00, 2.72MB/s]\n",
            "Downloading (…)/main/tokenizer.json: 100% 466k/466k [00:00<00:00, 4.20MB/s]\n",
            "Downloading pytorch_model.bin: 100% 268M/268M [00:01<00:00, 215MB/s]\n",
            "Running comparisons...\n",
            "Done\n",
            "\n",
            "CKA for bert-base-uncased\n",
            "Loading  model...\n",
            "Downloading (…)okenizer_config.json: 100% 28.0/28.0 [00:00<00:00, 2.79kB/s]\n",
            "Downloading (…)lve/main/config.json: 100% 570/570 [00:00<00:00, 249kB/s]\n",
            "Downloading (…)solve/main/vocab.txt: 100% 232k/232k [00:00<00:00, 1.54MB/s]\n",
            "Downloading (…)/main/tokenizer.json: 100% 466k/466k [00:00<00:00, 2.05MB/s]\n",
            "Downloading pytorch_model.bin: 100% 440M/440M [00:02<00:00, 220MB/s]\n",
            "Some weights of the model checkpoint at bert-base-uncased were not used when initializing BertForMaskedLM: ['cls.seq_relationship.bias', 'cls.seq_relationship.weight']\n",
            "- This IS expected if you are initializing BertForMaskedLM from the checkpoint of a model trained on another task or with another architecture (e.g. initializing a BertForSequenceClassification model from a BertForPreTraining model).\n",
            "- This IS NOT expected if you are initializing BertForMaskedLM from the checkpoint of a model that you expect to be exactly identical (initializing a BertForSequenceClassification model from a BertForSequenceClassification model).\n",
            "Running comparisons...\n",
            "Done\n",
            "\n",
            "CKA for bert-large-uncased\n",
            "Loading  model...\n",
            "Downloading (…)okenizer_config.json: 100% 28.0/28.0 [00:00<00:00, 1.40kB/s]\n",
            "Downloading (…)lve/main/config.json: 100% 571/571 [00:00<00:00, 259kB/s]\n",
            "Downloading (…)solve/main/vocab.txt: 100% 232k/232k [00:00<00:00, 1.62MB/s]\n",
            "Downloading (…)/main/tokenizer.json: 100% 466k/466k [00:00<00:00, 2.04MB/s]\n",
            "Downloading pytorch_model.bin: 100% 1.34G/1.34G [00:06<00:00, 220MB/s]\n",
            "Some weights of the model checkpoint at bert-large-uncased were not used when initializing BertForMaskedLM: ['cls.seq_relationship.bias', 'cls.seq_relationship.weight']\n",
            "- This IS expected if you are initializing BertForMaskedLM from the checkpoint of a model trained on another task or with another architecture (e.g. initializing a BertForSequenceClassification model from a BertForPreTraining model).\n",
            "- This IS NOT expected if you are initializing BertForMaskedLM from the checkpoint of a model that you expect to be exactly identical (initializing a BertForSequenceClassification model from a BertForSequenceClassification model).\n",
            "Running comparisons...\n",
            "Done\n",
            "\n",
            "\n",
            "Score dict full:\n",
            "{'google/bert_uncased_l-2_h-128_a-2': [{'The 2020 Olympics were held in [MASK].': {'p_true': 0.00196, 'p_false': 0.0017642974853515625, 'p_true - p_false': 0.0001964569091796875, 'p_true > p_false': True}}, {'Operation Overlord took place in [MASK].': {'p_true': 0.002722, 'p_false': 0.0004372596740722656, 'p_true - p_false': 0.002284526824951172, 'p_true > p_false': True}}, {'Steve Jobs is the founder of [MASK].': {'p_true': 7e-05, 'p_false': 0.00011348724365234375, 'p_true - p_false': -4.3511390686035156e-05, 'p_true > p_false': False}}], 'google/bert_uncased_l-4_h-256_a-4': [{'The 2020 Olympics were held in [MASK].': {'p_true': 0.01964, 'p_false': 0.0204315185546875, 'p_true - p_false': -0.00079345703125, 'p_true > p_false': False}}, {'Operation Overlord took place in [MASK].': {'p_true': 0.0007453, 'p_false': 0.0006132125854492188, 'p_true - p_false': 0.00013208389282226562, 'p_true > p_false': True}}, {'Steve Jobs is the founder of [MASK].': {'p_true': 0.0002391, 'p_false': 0.0020618438720703125, 'p_true - p_false': -0.0018227100372314453, 'p_true > p_false': False}}], 'google/bert_uncased_l-4_h-512_a-8': [{'The 2020 Olympics were held in [MASK].': {'p_true': 0.04623, 'p_false': 0.061737060546875, 'p_true - p_false': -0.0155029296875, 'p_true > p_false': False}}, {'Operation Overlord took place in [MASK].': {'p_true': 0.001323, 'p_false': 0.0006914138793945312, 'p_true - p_false': 0.0006313323974609375, 'p_true > p_false': True}}, {'Steve Jobs is the founder of [MASK].': {'p_true': 0.00412, 'p_false': 0.0115509033203125, 'p_true - p_false': -0.0074310302734375, 'p_true > p_false': False}}], 'google/bert_uncased_l-8_h-512_a-8': [{'The 2020 Olympics were held in [MASK].': {'p_true': 0.1456, 'p_false': 0.11517333984375, 'p_true - p_false': 0.03045654296875, 'p_true > p_false': True}}, {'Operation Overlord took place in [MASK].': {'p_true': 0.011345, 'p_false': 2.086162567138672e-06, 'p_true - p_false': 0.011342823505401611, 'p_true > p_false': True}}, {'Steve Jobs is the founder of [MASK].': {'p_true': 0.001446, 'p_false': 0.004833221435546875, 'p_true - p_false': -0.003387451171875, 'p_true > p_false': False}}], 'distilbert-base-uncased': [{'The 2020 Olympics were held in [MASK].': {'p_true': 0.2659, 'p_false': 0.007427215576171875, 'p_true - p_false': 0.2584419250488281, 'p_true > p_false': True}}, {'Operation Overlord took place in [MASK].': {'p_true': 0.003582, 'p_false': 2.473592758178711e-05, 'p_true - p_false': 0.003557264804840088, 'p_true > p_false': True}}, {'Steve Jobs is the founder of [MASK].': {'p_true': 0.0868, 'p_false': 0.053070068359375, 'p_true - p_false': 0.033721923828125, 'p_true > p_false': True}}], 'bert-base-uncased': [{'The 2020 Olympics were held in [MASK].': {'p_true': 0.7124, 'p_false': 0.003948211669921875, 'p_true - p_false': 0.7084541320800781, 'p_true > p_false': True}}, {'Operation Overlord took place in [MASK].': {'p_true': 0.0195, 'p_false': 1.3887882232666016e-05, 'p_true - p_false': 0.019486844539642334, 'p_true > p_false': True}}, {'Steve Jobs is the founder of [MASK].': {'p_true': 0.2832, 'p_false': 0.101806640625, 'p_true - p_false': 0.181396484375, 'p_true > p_false': True}}], 'bert-large-uncased': [{'The 2020 Olympics were held in [MASK].': {'p_true': 0.1373, 'p_false': 0.047821044921875, 'p_true - p_false': 0.089508056640625, 'p_true > p_false': True}}, {'Operation Overlord took place in [MASK].': {'p_true': 0.0924, 'p_false': 2.7418136596679688e-06, 'p_true - p_false': 0.09240448474884033, 'p_true > p_false': True}}, {'Steve Jobs is the founder of [MASK].': {'p_true': 0.2764, 'p_false': 0.026947021484375, 'p_true - p_false': 0.249420166015625, 'p_true > p_false': True}}]}\n",
            "\n",
            "Score dict succinct:\n",
            "{'google/bert_uncased_l-2_h-128_a-2': [{'The 2020 Olympics were held in [MASK].': {'p_true > p_false': True}}, {'Operation Overlord took place in [MASK].': {'p_true > p_false': True}}, {'Steve Jobs is the founder of [MASK].': {'p_true > p_false': False}}], 'google/bert_uncased_l-4_h-256_a-4': [{'The 2020 Olympics were held in [MASK].': {'p_true > p_false': False}}, {'Operation Overlord took place in [MASK].': {'p_true > p_false': True}}, {'Steve Jobs is the founder of [MASK].': {'p_true > p_false': False}}], 'google/bert_uncased_l-4_h-512_a-8': [{'The 2020 Olympics were held in [MASK].': {'p_true > p_false': False}}, {'Operation Overlord took place in [MASK].': {'p_true > p_false': True}}, {'Steve Jobs is the founder of [MASK].': {'p_true > p_false': False}}], 'google/bert_uncased_l-8_h-512_a-8': [{'The 2020 Olympics were held in [MASK].': {'p_true > p_false': True}}, {'Operation Overlord took place in [MASK].': {'p_true > p_false': True}}, {'Steve Jobs is the founder of [MASK].': {'p_true > p_false': False}}], 'distilbert-base-uncased': [{'The 2020 Olympics were held in [MASK].': {'p_true > p_false': True}}, {'Operation Overlord took place in [MASK].': {'p_true > p_false': True}}, {'Steve Jobs is the founder of [MASK].': {'p_true > p_false': True}}], 'bert-base-uncased': [{'The 2020 Olympics were held in [MASK].': {'p_true > p_false': True}}, {'Operation Overlord took place in [MASK].': {'p_true > p_false': True}}, {'Steve Jobs is the founder of [MASK].': {'p_true > p_false': True}}], 'bert-large-uncased': [{'The 2020 Olympics were held in [MASK].': {'p_true > p_false': True}}, {'Operation Overlord took place in [MASK].': {'p_true > p_false': True}}, {'Steve Jobs is the founder of [MASK].': {'p_true > p_false': True}}]}\n",
            "\n",
            "Score dict summary:\n",
            "{'google/bert_uncased_l-2_h-128_a-2': 'This model got 2/3 facts correct', 'google/bert_uncased_l-4_h-256_a-4': 'This model got 1/3 facts correct', 'google/bert_uncased_l-4_h-512_a-8': 'This model got 1/3 facts correct', 'google/bert_uncased_l-8_h-512_a-8': 'This model got 2/3 facts correct', 'distilbert-base-uncased': 'This model got 3/3 facts correct', 'bert-base-uncased': 'This model got 3/3 facts correct', 'bert-large-uncased': 'This model got 3/3 facts correct'}\n"
          ]
        }
      ],
      "source": [
        "!python run_cka.py configs.bert_v0"
      ]
    },
    {
      "cell_type": "code",
      "execution_count": null,
      "metadata": {
        "colab": {
          "base_uri": "https://localhost:8080/"
        },
        "id": "0_AfmHruPIFv",
        "outputId": "82bca616-a0ab-4c06-ef0a-8e8dba043832"
      },
      "outputs": [
        {
          "name": "stdout",
          "output_type": "stream",
          "text": [
            "2023-03-09 04:24:09.638610: I tensorflow/core/platform/cpu_feature_guard.cc:193] This TensorFlow binary is optimized with oneAPI Deep Neural Network Library (oneDNN) to use the following CPU instructions in performance-critical operations:  AVX2 AVX512F AVX512_VNNI FMA\n",
            "To enable them in other operations, rebuild TensorFlow with the appropriate compiler flags.\n",
            "2023-03-09 04:24:09.768672: I tensorflow/core/util/port.cc:104] oneDNN custom operations are on. You may see slightly different numerical results due to floating-point round-off errors from different computation orders. To turn them off, set the environment variable `TF_ENABLE_ONEDNN_OPTS=0`.\n",
            "2023-03-09 04:24:10.479281: W tensorflow/compiler/xla/stream_executor/platform/default/dso_loader.cc:64] Could not load dynamic library 'libnvinfer.so.7'; dlerror: libnvinfer.so.7: cannot open shared object file: No such file or directory; LD_LIBRARY_PATH: /usr/lib64-nvidia\n",
            "2023-03-09 04:24:10.479372: W tensorflow/compiler/xla/stream_executor/platform/default/dso_loader.cc:64] Could not load dynamic library 'libnvinfer_plugin.so.7'; dlerror: libnvinfer_plugin.so.7: cannot open shared object file: No such file or directory; LD_LIBRARY_PATH: /usr/lib64-nvidia\n",
            "2023-03-09 04:24:10.479390: W tensorflow/compiler/tf2tensorrt/utils/py_utils.cc:38] TF-TRT Warning: Cannot dlopen some TensorRT libraries. If you would like to use Nvidia GPU with TensorRT, please make sure the missing libraries mentioned above are installed properly.\n",
            "CKA for distilroberta-base\n",
            "Loading  model...\n",
            "Downloading (…)lve/main/config.json: 100% 480/480 [00:00<00:00, 74.9kB/s]\n",
            "Downloading (…)olve/main/vocab.json: 100% 899k/899k [00:00<00:00, 6.29MB/s]\n",
            "Downloading (…)olve/main/merges.txt: 100% 456k/456k [00:00<00:00, 3.83MB/s]\n",
            "Downloading (…)/main/tokenizer.json: 100% 1.36M/1.36M [00:00<00:00, 9.05MB/s]\n",
            "Downloading pytorch_model.bin: 100% 331M/331M [00:03<00:00, 91.1MB/s]\n",
            "Running comparisons...\n",
            "Done\n",
            "\n",
            "CKA for roberta-base\n",
            "Loading  model...\n",
            "Downloading (…)lve/main/config.json: 100% 481/481 [00:00<00:00, 86.5kB/s]\n",
            "Downloading (…)olve/main/vocab.json: 100% 899k/899k [00:00<00:00, 6.12MB/s]\n",
            "Downloading (…)olve/main/merges.txt: 100% 456k/456k [00:00<00:00, 3.84MB/s]\n",
            "Downloading (…)/main/tokenizer.json: 100% 1.36M/1.36M [00:00<00:00, 7.83MB/s]\n",
            "Downloading pytorch_model.bin: 100% 501M/501M [00:02<00:00, 220MB/s]\n",
            "Running comparisons...\n",
            "Done\n",
            "\n",
            "CKA for xlm-roberta-base\n",
            "Loading  model...\n",
            "Downloading (…)lve/main/config.json: 100% 615/615 [00:00<00:00, 138kB/s]\n",
            "Downloading (…)tencepiece.bpe.model: 100% 5.07M/5.07M [00:00<00:00, 24.0MB/s]\n",
            "Downloading (…)/main/tokenizer.json: 100% 9.10M/9.10M [00:00<00:00, 35.1MB/s]\n",
            "Downloading pytorch_model.bin: 100% 1.12G/1.12G [00:11<00:00, 101MB/s]\n",
            "Running comparisons...\n",
            "Done\n",
            "\n",
            "CKA for roberta-large\n",
            "Loading  model...\n",
            "Downloading (…)lve/main/config.json: 100% 482/482 [00:00<00:00, 210kB/s]\n",
            "Downloading (…)olve/main/vocab.json: 100% 899k/899k [00:00<00:00, 6.45MB/s]\n",
            "Downloading (…)olve/main/merges.txt: 100% 456k/456k [00:00<00:00, 4.11MB/s]\n",
            "Downloading (…)/main/tokenizer.json: 100% 1.36M/1.36M [00:00<00:00, 9.28MB/s]\n",
            "Downloading pytorch_model.bin: 100% 1.43G/1.43G [00:15<00:00, 90.7MB/s]\n",
            "Running comparisons...\n",
            "Done\n",
            "\n",
            "CKA for xlm-roberta-large\n",
            "Loading  model...\n",
            "Downloading (…)lve/main/config.json: 100% 616/616 [00:00<00:00, 248kB/s]\n",
            "Downloading (…)tencepiece.bpe.model: 100% 5.07M/5.07M [00:00<00:00, 26.4MB/s]\n",
            "Downloading (…)/main/tokenizer.json: 100% 9.10M/9.10M [00:00<00:00, 34.0MB/s]\n",
            "Downloading pytorch_model.bin: 100% 2.24G/2.24G [00:23<00:00, 95.4MB/s]\n",
            "Running comparisons...\n",
            "Done\n",
            "\n",
            "\n",
            "Score dict full:\n",
            "{'distilroberta-base': [{'The 2020 Olympics were held in <mask>.': {'p_true': 0.6597, 'p_false': 0.00830841064453125, 'p_true - p_false': 0.6513595581054688, 'p_true > p_false': True}}, {'Operation Overlord took place in <mask>.': {'p_true': 0.001526, 'p_false': 0.00012046098709106445, 'p_true - p_false': 0.0014054179191589355, 'p_true > p_false': True}}, {'Steve Jobs is the founder of <mask>.': {'p_true': 0.5625, 'p_false': 0.076171875, 'p_true - p_false': 0.486328125, 'p_true > p_false': True}}], 'roberta-base': [{'The 2020 Olympics were held in <mask>.': {'p_true': 0.961, 'p_false': 0.00109100341796875, 'p_true - p_false': 0.9598464965820312, 'p_true > p_false': True}}, {'Operation Overlord took place in <mask>.': {'p_true': 0.002314, 'p_false': 7.206201553344727e-05, 'p_true - p_false': 0.0022415518760681152, 'p_true > p_false': True}}, {'Steve Jobs is the founder of <mask>.': {'p_true': 0.9956, 'p_false': 0.0006747245788574219, 'p_true - p_false': 0.9949307441711426, 'p_true > p_false': True}}], 'xlm-roberta-base': [{'The 2020 Olympics were held in <mask>.': {'p_true': 0.0563, 'p_false': 0.1019287109375, 'p_true - p_false': -0.045623779296875, 'p_true > p_false': False}}, {'Operation Overlord took place in <mask>.': {'p_true': 8.76e-06, 'p_false': 1.9729137420654297e-05, 'p_true - p_false': -1.0967254638671875e-05, 'p_true > p_false': False}}, {'Steve Jobs is the founder of <mask>.': {'p_true': 0.4053, 'p_false': 0.0322265625, 'p_true - p_false': 0.373046875, 'p_true > p_false': True}}], 'roberta-large': [{'The 2020 Olympics were held in <mask>.': {'p_true': 0.9873, 'p_false': 5.40614128112793e-05, 'p_true - p_false': 0.9872506260871887, 'p_true > p_false': True}}, {'Operation Overlord took place in <mask>.': {'p_true': 0.0008, 'p_false': 7.444620132446289e-05, 'p_true - p_false': 0.0007256865501403809, 'p_true > p_false': True}}, {'Steve Jobs is the founder of <mask>.': {'p_true': 0.993, 'p_false': 0.00031304359436035156, 'p_true - p_false': 0.9928510189056396, 'p_true > p_false': True}}], 'xlm-roberta-large': [{'The 2020 Olympics were held in <mask>.': {'p_true': 0.6, 'p_false': 0.094970703125, 'p_true - p_false': 0.505126953125, 'p_true > p_false': True}}, {'Operation Overlord took place in <mask>.': {'p_true': 2.587e-05, 'p_false': 0.0006079673767089844, 'p_true - p_false': -0.0005820989608764648, 'p_true > p_false': False}}, {'Steve Jobs is the founder of <mask>.': {'p_true': 0.9834, 'p_false': 0.0015735626220703125, 'p_true - p_false': 0.9818248748779297, 'p_true > p_false': True}}]}\n",
            "\n",
            "Score dict succinct:\n",
            "{'distilroberta-base': [{'The 2020 Olympics were held in <mask>.': {'p_true > p_false': True}}, {'Operation Overlord took place in <mask>.': {'p_true > p_false': True}}, {'Steve Jobs is the founder of <mask>.': {'p_true > p_false': True}}], 'roberta-base': [{'The 2020 Olympics were held in <mask>.': {'p_true > p_false': True}}, {'Operation Overlord took place in <mask>.': {'p_true > p_false': True}}, {'Steve Jobs is the founder of <mask>.': {'p_true > p_false': True}}], 'xlm-roberta-base': [{'The 2020 Olympics were held in <mask>.': {'p_true > p_false': False}}, {'Operation Overlord took place in <mask>.': {'p_true > p_false': False}}, {'Steve Jobs is the founder of <mask>.': {'p_true > p_false': True}}], 'roberta-large': [{'The 2020 Olympics were held in <mask>.': {'p_true > p_false': True}}, {'Operation Overlord took place in <mask>.': {'p_true > p_false': True}}, {'Steve Jobs is the founder of <mask>.': {'p_true > p_false': True}}], 'xlm-roberta-large': [{'The 2020 Olympics were held in <mask>.': {'p_true > p_false': True}}, {'Operation Overlord took place in <mask>.': {'p_true > p_false': False}}, {'Steve Jobs is the founder of <mask>.': {'p_true > p_false': True}}]}\n",
            "\n",
            "Score dict summary:\n",
            "{'distilroberta-base': 'This model got 3/3 facts correct', 'roberta-base': 'This model got 3/3 facts correct', 'xlm-roberta-base': 'This model got 1/3 facts correct', 'roberta-large': 'This model got 3/3 facts correct', 'xlm-roberta-large': 'This model got 2/3 facts correct'}\n"
          ]
        }
      ],
      "source": [
        "!python run_cka.py configs.roberta_v0"
      ]
    },
    {
      "cell_type": "code",
      "execution_count": null,
      "metadata": {
        "colab": {
          "base_uri": "https://localhost:8080/"
        },
        "id": "_WFNxz3elvq3",
        "outputId": "3b5598bf-5f58-4415-d61e-c0c5caa69493"
      },
      "outputs": [
        {
          "name": "stdout",
          "output_type": "stream",
          "text": [
            "2023-03-09 04:26:31.924930: I tensorflow/core/platform/cpu_feature_guard.cc:193] This TensorFlow binary is optimized with oneAPI Deep Neural Network Library (oneDNN) to use the following CPU instructions in performance-critical operations:  AVX2 AVX512F AVX512_VNNI FMA\n",
            "To enable them in other operations, rebuild TensorFlow with the appropriate compiler flags.\n",
            "2023-03-09 04:26:32.056699: I tensorflow/core/util/port.cc:104] oneDNN custom operations are on. You may see slightly different numerical results due to floating-point round-off errors from different computation orders. To turn them off, set the environment variable `TF_ENABLE_ONEDNN_OPTS=0`.\n",
            "2023-03-09 04:26:32.813486: W tensorflow/compiler/xla/stream_executor/platform/default/dso_loader.cc:64] Could not load dynamic library 'libnvinfer.so.7'; dlerror: libnvinfer.so.7: cannot open shared object file: No such file or directory; LD_LIBRARY_PATH: /usr/lib64-nvidia\n",
            "2023-03-09 04:26:32.813588: W tensorflow/compiler/xla/stream_executor/platform/default/dso_loader.cc:64] Could not load dynamic library 'libnvinfer_plugin.so.7'; dlerror: libnvinfer_plugin.so.7: cannot open shared object file: No such file or directory; LD_LIBRARY_PATH: /usr/lib64-nvidia\n",
            "2023-03-09 04:26:32.813608: W tensorflow/compiler/tf2tensorrt/utils/py_utils.cc:38] TF-TRT Warning: Cannot dlopen some TensorRT libraries. If you would like to use Nvidia GPU with TensorRT, please make sure the missing libraries mentioned above are installed properly.\n",
            "CKA for google/flan-t5-small\n",
            "Loading  model...\n",
            "Downloading spiece.model: 100% 792k/792k [00:00<00:00, 14.1MB/s]\n",
            "Downloading (…)cial_tokens_map.json: 100% 2.20k/2.20k [00:00<00:00, 400kB/s]\n",
            "Downloading (…)okenizer_config.json: 100% 2.54k/2.54k [00:00<00:00, 1.25MB/s]\n",
            "Downloading (…)lve/main/config.json: 100% 1.40k/1.40k [00:00<00:00, 204kB/s]\n",
            "Downloading pytorch_model.bin: 100% 308M/308M [00:03<00:00, 98.1MB/s]\n",
            "\n",
            "===================================BUG REPORT===================================\n",
            "Welcome to bitsandbytes. For bug reports, please submit your error trace to: https://github.com/TimDettmers/bitsandbytes/issues\n",
            "================================================================================\n",
            "Downloading (…)neration_config.json: 100% 147/147 [00:00<00:00, 66.8kB/s]\n",
            "Running comparisons...\n",
            "Done\n",
            "\n",
            "CKA for google/flan-t5-base\n",
            "Loading  model...\n",
            "Downloading spiece.model: 100% 792k/792k [00:00<00:00, 15.7MB/s]\n",
            "Downloading (…)cial_tokens_map.json: 100% 2.20k/2.20k [00:00<00:00, 1.00MB/s]\n",
            "Downloading (…)okenizer_config.json: 100% 2.54k/2.54k [00:00<00:00, 1.11MB/s]\n",
            "Downloading (…)lve/main/config.json: 100% 1.40k/1.40k [00:00<00:00, 581kB/s]\n",
            "Downloading pytorch_model.bin: 100% 990M/990M [00:10<00:00, 96.6MB/s]\n",
            "Downloading (…)neration_config.json: 100% 147/147 [00:00<00:00, 63.1kB/s]\n",
            "Running comparisons...\n",
            "Done\n",
            "\n",
            "CKA for google/flan-t5-large\n",
            "Loading  model...\n",
            "Downloading spiece.model: 100% 792k/792k [00:00<00:00, 15.9MB/s]\n",
            "Downloading (…)cial_tokens_map.json: 100% 2.20k/2.20k [00:00<00:00, 971kB/s]\n",
            "Downloading (…)okenizer_config.json: 100% 2.54k/2.54k [00:00<00:00, 1.01MB/s]\n",
            "Downloading (…)lve/main/config.json: 100% 662/662 [00:00<00:00, 280kB/s]\n",
            "Downloading pytorch_model.bin: 100% 3.13G/3.13G [00:32<00:00, 95.3MB/s]\n",
            "Downloading (…)neration_config.json: 100% 147/147 [00:00<00:00, 55.7kB/s]\n",
            "Running comparisons...\n",
            "Done\n",
            "\n",
            "CKA for google/flan-t5-xl\n",
            "Loading  model...\n",
            "Downloading spiece.model: 100% 792k/792k [00:00<00:00, 15.9MB/s]\n",
            "Downloading (…)cial_tokens_map.json: 100% 2.20k/2.20k [00:00<00:00, 974kB/s]\n",
            "Downloading (…)okenizer_config.json: 100% 2.54k/2.54k [00:00<00:00, 1.04MB/s]\n",
            "Downloading (…)lve/main/config.json: 100% 1.44k/1.44k [00:00<00:00, 643kB/s]\n",
            "Downloading (…)model.bin.index.json: 100% 50.8k/50.8k [00:00<00:00, 1.74MB/s]\n",
            "Downloading (…)l-00001-of-00002.bin: 100% 9.45G/9.45G [00:43<00:00, 217MB/s]\n",
            "Downloading (…)l-00002-of-00002.bin: 100% 1.95G/1.95G [00:08<00:00, 222MB/s]\n",
            "Loading checkpoint shards: 100% 2/2 [00:07<00:00,  3.70s/it]\n",
            "Downloading (…)neration_config.json: 100% 147/147 [00:00<00:00, 63.2kB/s]\n",
            "Running comparisons...\n",
            "Done\n",
            "\n",
            "CKA for google/flan-t5-xxl\n",
            "Loading  model...\n",
            "Downloading spiece.model: 100% 792k/792k [00:00<00:00, 15.2MB/s]\n",
            "Downloading (…)cial_tokens_map.json: 100% 2.20k/2.20k [00:00<00:00, 792kB/s]\n",
            "Downloading (…)okenizer_config.json: 100% 2.54k/2.54k [00:00<00:00, 1.13MB/s]\n",
            "Downloading (…)lve/main/config.json: 100% 674/674 [00:00<00:00, 307kB/s]\n",
            "Downloading (…)model.bin.index.json: 100% 50.8k/50.8k [00:00<00:00, 1.67MB/s]\n",
            "Downloading (…)l-00001-of-00005.bin: 100% 9.45G/9.45G [01:36<00:00, 98.1MB/s]\n",
            "Downloading (…)l-00002-of-00005.bin: 100% 9.60G/9.60G [01:32<00:00, 104MB/s] \n",
            "Downloading (…)l-00003-of-00005.bin: 100% 9.96G/9.96G [01:41<00:00, 98.2MB/s]\n",
            "Downloading (…)l-00004-of-00005.bin: 100% 10.0G/10.0G [01:41<00:00, 98.5MB/s]\n",
            "Downloading (…)l-00005-of-00005.bin: 100% 6.06G/6.06G [01:01<00:00, 99.0MB/s]\n",
            "Loading checkpoint shards: 100% 5/5 [03:08<00:00, 37.75s/it]\n",
            "Downloading (…)neration_config.json: 100% 147/147 [00:00<00:00, 54.3kB/s]\n",
            "Running comparisons...\n",
            "Done\n",
            "\n",
            "\n",
            "Score dict full:\n",
            "{'google/flan-t5-small': [{'The 2020 Olympics were held in <extra_id_0>.': {'p_true': 4.23e-06, 'p_false': 4.023313522338867e-05, 'p_true - p_false': -3.600120544433594e-05, 'p_true > p_false': False}}, {'Operation Overlord took place in <extra_id_0>.': {'p_true': 2.06e-05, 'p_false': 1.0728836059570312e-06, 'p_true - p_false': 1.9550323486328125e-05, 'p_true > p_false': True}}, {'Steve Jobs is the founder of <extra_id_0>.': {'p_true': 0.0005684, 'p_false': 1.8715858459472656e-05, 'p_true - p_false': 0.0005496740341186523, 'p_true > p_false': True}}], 'google/flan-t5-base': [{'The 2020 Olympics were held in <extra_id_0>.': {'p_true': 2.83e-05, 'p_false': 8.577108383178711e-05, 'p_true - p_false': -5.745887756347656e-05, 'p_true > p_false': False}}, {'Operation Overlord took place in <extra_id_0>.': {'p_true': 1.07e-05, 'p_false': 8.344650268554688e-07, 'p_true - p_false': 9.894371032714844e-06, 'p_true > p_false': True}}, {'Steve Jobs is the founder of <extra_id_0>.': {'p_true': 0.001631, 'p_false': 0.000720977783203125, 'p_true - p_false': 0.0009098052978515625, 'p_true > p_false': True}}], 'google/flan-t5-large': [{'The 2020 Olympics were held in <extra_id_0>.': {'p_true': 0.005054, 'p_false': 0.0023345947265625, 'p_true - p_false': 0.002719879150390625, 'p_true > p_false': True}}, {'Operation Overlord took place in <extra_id_0>.': {'p_true': 3.35e-05, 'p_false': 1.33514404296875e-05, 'p_true - p_false': 2.014636993408203e-05, 'p_true > p_false': True}}, {'Steve Jobs is the founder of <extra_id_0>.': {'p_true': 0.007202, 'p_false': 1.8477439880371094e-06, 'p_true - p_false': 0.007200300693511963, 'p_true > p_false': True}}], 'google/flan-t5-xl': [{'The 2020 Olympics were held in <extra_id_0>.': {'p_true': 0.0557, 'p_false': 0.0004944801330566406, 'p_true - p_false': 0.05520009994506836, 'p_true > p_false': True}}, {'Operation Overlord took place in <extra_id_0>.': {'p_true': 0.03644, 'p_false': 0.0, 'p_true - p_false': 0.03643798828125, 'p_true > p_false': True}}, {'Steve Jobs is the founder of <extra_id_0>.': {'p_true': 0.16, 'p_false': 0.0004036426544189453, 'p_true - p_false': 0.15963053703308105, 'p_true > p_false': True}}], 'google/flan-t5-xxl': [{'The 2020 Olympics were held in <extra_id_0>.': {'p_true': 0.757, 'p_false': 0.0012693405151367188, 'p_true - p_false': 0.7555665969848633, 'p_true > p_false': True}}, {'Operation Overlord took place in <extra_id_0>.': {'p_true': 0.02434, 'p_false': 5.960464477539062e-07, 'p_true - p_false': 0.024337172508239746, 'p_true > p_false': True}}, {'Steve Jobs is the founder of <extra_id_0>.': {'p_true': 0.2954, 'p_false': 0.00036978721618652344, 'p_true - p_false': 0.2950403690338135, 'p_true > p_false': True}}]}\n",
            "\n",
            "Score dict succinct:\n",
            "{'google/flan-t5-small': [{'The 2020 Olympics were held in <extra_id_0>.': {'p_true > p_false': False}}, {'Operation Overlord took place in <extra_id_0>.': {'p_true > p_false': True}}, {'Steve Jobs is the founder of <extra_id_0>.': {'p_true > p_false': True}}], 'google/flan-t5-base': [{'The 2020 Olympics were held in <extra_id_0>.': {'p_true > p_false': False}}, {'Operation Overlord took place in <extra_id_0>.': {'p_true > p_false': True}}, {'Steve Jobs is the founder of <extra_id_0>.': {'p_true > p_false': True}}], 'google/flan-t5-large': [{'The 2020 Olympics were held in <extra_id_0>.': {'p_true > p_false': True}}, {'Operation Overlord took place in <extra_id_0>.': {'p_true > p_false': True}}, {'Steve Jobs is the founder of <extra_id_0>.': {'p_true > p_false': True}}], 'google/flan-t5-xl': [{'The 2020 Olympics were held in <extra_id_0>.': {'p_true > p_false': True}}, {'Operation Overlord took place in <extra_id_0>.': {'p_true > p_false': True}}, {'Steve Jobs is the founder of <extra_id_0>.': {'p_true > p_false': True}}], 'google/flan-t5-xxl': [{'The 2020 Olympics were held in <extra_id_0>.': {'p_true > p_false': True}}, {'Operation Overlord took place in <extra_id_0>.': {'p_true > p_false': True}}, {'Steve Jobs is the founder of <extra_id_0>.': {'p_true > p_false': True}}]}\n",
            "\n",
            "Score dict summary:\n",
            "{'google/flan-t5-small': 'This model got 2/3 facts correct', 'google/flan-t5-base': 'This model got 2/3 facts correct', 'google/flan-t5-large': 'This model got 3/3 facts correct', 'google/flan-t5-xl': 'This model got 3/3 facts correct', 'google/flan-t5-xxl': 'This model got 3/3 facts correct'}\n"
          ]
        }
      ],
      "source": [
        "!python run_cka.py configs.flan_t5_v0"
      ]
    },
    {
      "cell_type": "code",
      "execution_count": null,
      "metadata": {
        "colab": {
          "base_uri": "https://localhost:8080/"
        },
        "id": "kZJS1RQElwMt",
        "outputId": "e9d72719-7706-4e45-d253-e0d22b754309"
      },
      "outputs": [
        {
          "name": "stdout",
          "output_type": "stream",
          "text": [
            "2023-03-09 04:39:37.744891: I tensorflow/core/platform/cpu_feature_guard.cc:193] This TensorFlow binary is optimized with oneAPI Deep Neural Network Library (oneDNN) to use the following CPU instructions in performance-critical operations:  AVX2 AVX512F AVX512_VNNI FMA\n",
            "To enable them in other operations, rebuild TensorFlow with the appropriate compiler flags.\n",
            "2023-03-09 04:39:37.926587: I tensorflow/core/util/port.cc:104] oneDNN custom operations are on. You may see slightly different numerical results due to floating-point round-off errors from different computation orders. To turn them off, set the environment variable `TF_ENABLE_ONEDNN_OPTS=0`.\n",
            "2023-03-09 04:39:39.694155: W tensorflow/compiler/xla/stream_executor/platform/default/dso_loader.cc:64] Could not load dynamic library 'libnvinfer.so.7'; dlerror: libnvinfer.so.7: cannot open shared object file: No such file or directory; LD_LIBRARY_PATH: /usr/lib64-nvidia\n",
            "2023-03-09 04:39:39.694807: W tensorflow/compiler/xla/stream_executor/platform/default/dso_loader.cc:64] Could not load dynamic library 'libnvinfer_plugin.so.7'; dlerror: libnvinfer_plugin.so.7: cannot open shared object file: No such file or directory; LD_LIBRARY_PATH: /usr/lib64-nvidia\n",
            "2023-03-09 04:39:39.694829: W tensorflow/compiler/tf2tensorrt/utils/py_utils.cc:38] TF-TRT Warning: Cannot dlopen some TensorRT libraries. If you would like to use Nvidia GPU with TensorRT, please make sure the missing libraries mentioned above are installed properly.\n",
            "CKA for google/flan-ul2\n",
            "Loading  model...\n",
            "Downloading spiece.model: 100% 792k/792k [00:00<00:00, 14.1MB/s]\n",
            "Downloading (…)in/added_tokens.json: 100% 665/665 [00:00<00:00, 117kB/s]\n",
            "Downloading (…)cial_tokens_map.json: 100% 2.20k/2.20k [00:00<00:00, 1.01MB/s]\n",
            "Downloading (…)okenizer_config.json: 100% 2.35k/2.35k [00:00<00:00, 1.11MB/s]\n",
            "Downloading (…)lve/main/config.json: 100% 784/784 [00:00<00:00, 148kB/s]\n",
            "Downloading (…)model.bin.index.json: 100% 67.5k/67.5k [00:00<00:00, 1.20MB/s]\n",
            "Downloading (…)l-00001-of-00008.bin: 100% 4.69G/4.69G [00:52<00:00, 89.4MB/s]\n",
            "Downloading (…)l-00002-of-00008.bin: 100% 4.97G/4.97G [00:51<00:00, 97.2MB/s]\n",
            "Downloading (…)l-00003-of-00008.bin: 100% 4.97G/4.97G [00:50<00:00, 97.5MB/s]\n",
            "Downloading (…)l-00004-of-00008.bin: 100% 4.96G/4.96G [00:51<00:00, 97.0MB/s]\n",
            "Downloading (…)l-00005-of-00008.bin: 100% 5.00G/5.00G [00:28<00:00, 177MB/s]\n",
            "Downloading (…)l-00006-of-00008.bin: 100% 4.93G/4.93G [00:52<00:00, 94.2MB/s]\n",
            "Downloading (…)l-00007-of-00008.bin: 100% 5.00G/5.00G [00:51<00:00, 97.0MB/s]\n",
            "Downloading (…)l-00008-of-00008.bin: 100% 4.93G/4.93G [00:26<00:00, 187MB/s]\n",
            "\n",
            "===================================BUG REPORT===================================\n",
            "Welcome to bitsandbytes. For bug reports, please submit your error trace to: https://github.com/TimDettmers/bitsandbytes/issues\n",
            "================================================================================\n",
            "Loading checkpoint shards: 100% 8/8 [01:39<00:00, 12.45s/it]\n",
            "Running comparisons...\n",
            "Done\n",
            "\n",
            "\n",
            "Score dict full:\n",
            "{'google/flan-ul2': [{'The 2020 Olympics were held in <extra_id_0>.': {'p_true': 0.7124, 'p_false': 0.0003864765167236328, 'p_true - p_false': 0.7120158672332764, 'p_true > p_false': True}}, {'Operation Overlord took place in <extra_id_0>.': {'p_true': 0.2974, 'p_false': 0.0, 'p_true - p_false': 0.29736328125, 'p_true > p_false': True}}, {'Steve Jobs is the founder of <extra_id_0>.': {'p_true': 0.4827, 'p_false': 0.00016295909881591797, 'p_true - p_false': 0.4825030565261841, 'p_true > p_false': True}}]}\n",
            "\n",
            "Score dict succinct:\n",
            "{'google/flan-ul2': [{'The 2020 Olympics were held in <extra_id_0>.': {'p_true > p_false': True}}, {'Operation Overlord took place in <extra_id_0>.': {'p_true > p_false': True}}, {'Steve Jobs is the founder of <extra_id_0>.': {'p_true > p_false': True}}]}\n",
            "\n",
            "Score dict summary:\n",
            "{'google/flan-ul2': 'This model got 3/3 facts correct'}\n"
          ]
        }
      ],
      "source": [
        "!python run_cka.py configs.flan_ul2_v0"
      ]
    },
    {
      "cell_type": "markdown",
      "metadata": {
        "id": "8WXwAZfHMgAY"
      },
      "source": [
        "## Notebook usage"
      ]
    },
    {
      "cell_type": "code",
      "execution_count": null,
      "metadata": {
        "id": "GVCMUZJXV0mq"
      },
      "outputs": [],
      "source": [
        "from run_cka import main"
      ]
    },
    {
      "cell_type": "markdown",
      "metadata": {
        "id": "PFy4ijAPc_mS"
      },
      "source": [
        "### gpt2 example with \"verbosity\" turned on"
      ]
    },
    {
      "cell_type": "code",
      "execution_count": null,
      "metadata": {
        "id": "fXTO0xG4Zzx5"
      },
      "outputs": [],
      "source": [
        "config = {\n",
        "    \"models\": [\n",
        "        \"distilgpt2\",  # 82M params\n",
        "    ],\n",
        "    \"input_information\": {\n",
        "        \"The 2020 Olympics were held in\": [\"Tokyo\", \"London\"],\n",
        "        \"Operation Overlord took place in\": [\"Normandy\", \"Manila\"],\n",
        "        \"Steve Jobs is the founder of\": [\"Apple\", \"Microsoft\"],\n",
        "    },\n",
        "    \"verbosity\": True,\n",
        "}\n"
      ]
    },
    {
      "cell_type": "code",
      "execution_count": null,
      "metadata": {
        "colab": {
          "base_uri": "https://localhost:8080/"
        },
        "id": "1fHCY2r9Zzx6",
        "outputId": "3aefc10b-5db4-4a98-dfd3-ea38c594d83d"
      },
      "outputs": [
        {
          "name": "stdout",
          "output_type": "stream",
          "text": [
            "CKA for distilgpt2\n",
            "Loading  model...\n",
            "Running comparisons...\n",
            "\tcontext... The 2020 Olympics were held in\n",
            "\ttokenized_context ids... tensor([[  464, 12131, 14935,   547,  2714,   287]], device='cuda:0')\n",
            "\tdecoded tokenized_context... The 2020 Olympics were held in\n",
            "\tdecoded target id...  Tokyo\n",
            "\tmost probable prediction id decoded...  the\n",
            "\tcontext... The 2020 Olympics were held in\n",
            "\ttokenized_context ids... tensor([[  464, 12131, 14935,   547,  2714,   287]], device='cuda:0')\n",
            "\tdecoded tokenized_context... The 2020 Olympics were held in\n",
            "\tdecoded target id...  London\n",
            "\tmost probable prediction id decoded...  the\n",
            "\tcontext... Operation Overlord took place in\n",
            "\ttokenized_context ids... tensor([[32180,  3827, 10572,  1718,  1295,   287]], device='cuda:0')\n",
            "\tdecoded tokenized_context... Operation Overlord took place in\n",
            "\tdecoded target id...  Normandy\n",
            "\tmost probable prediction id decoded...  the\n",
            "\tcontext... Operation Overlord took place in\n",
            "\ttokenized_context ids... tensor([[32180,  3827, 10572,  1718,  1295,   287]], device='cuda:0')\n",
            "\tdecoded tokenized_context... Operation Overlord took place in\n",
            "\tdecoded target id...  Manila\n",
            "\tmost probable prediction id decoded...  the\n",
            "\tcontext... Steve Jobs is the founder of\n",
            "\ttokenized_context ids... tensor([[19206, 19161,   318,   262,  9119,   286]], device='cuda:0')\n",
            "\tdecoded tokenized_context... Steve Jobs is the founder of\n",
            "\tdecoded target id...  Apple\n",
            "\tmost probable prediction id decoded...  the\n",
            "\tcontext... Steve Jobs is the founder of\n",
            "\ttokenized_context ids... tensor([[19206, 19161,   318,   262,  9119,   286]], device='cuda:0')\n",
            "\tdecoded tokenized_context... Steve Jobs is the founder of\n",
            "\tdecoded target id...  Microsoft\n",
            "\tmost probable prediction id decoded...  the\n",
            "Done\n",
            "\n"
          ]
        }
      ],
      "source": [
        "score_dict_full, score_dict_succinct, score_dict_summary = main(config)"
      ]
    },
    {
      "cell_type": "code",
      "execution_count": null,
      "metadata": {
        "colab": {
          "base_uri": "https://localhost:8080/"
        },
        "id": "tEPONKOhZzx6",
        "outputId": "e63dd988-f643-4bd7-95c2-c07239b29cea"
      },
      "outputs": [
        {
          "data": {
            "text/plain": [
              "{'distilgpt2': [{'The 2020 Olympics were held in': {'p_true': 0.01055,\n",
              "    'p_false': 0.04730224609375,\n",
              "    'p_true - p_false': -0.03675079345703125,\n",
              "    'p_true > p_false': False}},\n",
              "  {'Operation Overlord took place in': {'p_true': 0.0007367,\n",
              "    'p_false': 0.0001983642578125,\n",
              "    'p_true - p_false': 0.0005383491516113281,\n",
              "    'p_true > p_false': True}},\n",
              "  {'Steve Jobs is the founder of': {'p_true': 0.01398,\n",
              "    'p_false': 0.01195526123046875,\n",
              "    'p_true - p_false': 0.00202178955078125,\n",
              "    'p_true > p_false': True}}]}"
            ]
          },
          "execution_count": 18,
          "metadata": {},
          "output_type": "execute_result"
        }
      ],
      "source": [
        "score_dict_full"
      ]
    },
    {
      "cell_type": "code",
      "execution_count": null,
      "metadata": {
        "colab": {
          "base_uri": "https://localhost:8080/"
        },
        "id": "K4bojZ4oZzx6",
        "outputId": "a20956a3-c2fb-45b6-80f4-849e4cb0d54f"
      },
      "outputs": [
        {
          "data": {
            "text/plain": [
              "{'distilgpt2': [{'The 2020 Olympics were held in': {'p_true > p_false': False}},\n",
              "  {'Operation Overlord took place in': {'p_true > p_false': True}},\n",
              "  {'Steve Jobs is the founder of': {'p_true > p_false': True}}]}"
            ]
          },
          "execution_count": 19,
          "metadata": {},
          "output_type": "execute_result"
        }
      ],
      "source": [
        "score_dict_succinct"
      ]
    },
    {
      "cell_type": "code",
      "execution_count": null,
      "metadata": {
        "colab": {
          "base_uri": "https://localhost:8080/"
        },
        "id": "jWdZ94ZhU7mE",
        "outputId": "342bfe04-467a-46f2-cf85-7955a8643203"
      },
      "outputs": [
        {
          "data": {
            "text/plain": [
              "{'distilgpt2': 'This model got 2/3 facts correct'}"
            ]
          },
          "execution_count": 20,
          "metadata": {},
          "output_type": "execute_result"
        }
      ],
      "source": [
        "score_dict_summary"
      ]
    },
    {
      "cell_type": "code",
      "execution_count": null,
      "metadata": {
        "id": "AGFcOIO0XU6O"
      },
      "outputs": [],
      "source": []
    }
  ],
  "metadata": {
    "accelerator": "GPU",
    "colab": {
      "provenance": []
    },
    "gpuClass": "premium",
    "kernelspec": {
      "display_name": "Python 3",
      "name": "python3"
    },
    "language_info": {
      "name": "python"
    }
  },
  "nbformat": 4,
  "nbformat_minor": 0
}