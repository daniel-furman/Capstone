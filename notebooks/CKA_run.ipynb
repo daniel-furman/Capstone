{
  "cells": [
    {
      "cell_type": "markdown",
      "metadata": {
        "id": "Am_Ubq6xTaBz"
      },
      "source": [
        "# Run contrastive knowledge assesment notebook\n",
        "\n",
        "<a target=\"_blank\" href=\"https://colab.research.google.com/github/daniel-furman/Capstone/blob/main/notebooks/CKA_run.ipynb\">\n",
        "  <img src=\"https://colab.research.google.com/assets/colab-badge.svg\" alt=\"Open In Colab\"/>\n",
        "</a>\n"
      ]
    },
    {
      "cell_type": "markdown",
      "metadata": {
        "id": "uccv2X7WeJGv"
      },
      "source": [
        "## Dependencies"
      ]
    },
    {
      "cell_type": "code",
      "execution_count": null,
      "metadata": {
        "colab": {
          "base_uri": "https://localhost:8080/"
        },
        "id": "A4gro-sOZz-O",
        "outputId": "0f067e9c-1199-4f05-81cb-580c2f7de356"
      },
      "outputs": [
        {
          "output_type": "stream",
          "name": "stdout",
          "text": [
            "Cloning into 'Capstone'...\n",
            "remote: Enumerating objects: 302, done.\u001b[K\n",
            "remote: Counting objects: 100% (302/302), done.\u001b[K\n",
            "remote: Compressing objects: 100% (182/182), done.\u001b[K\n",
            "remote: Total 302 (delta 140), reused 242 (delta 81), pack-reused 0\u001b[K\n",
            "Receiving objects: 100% (302/302), 21.10 MiB | 16.04 MiB/s, done.\n",
            "Resolving deltas: 100% (140/140), done.\n"
          ]
        }
      ],
      "source": [
        "!git clone https://github.com/daniel-furman/Capstone.git"
      ]
    },
    {
      "cell_type": "code",
      "execution_count": null,
      "metadata": {
        "colab": {
          "base_uri": "https://localhost:8080/"
        },
        "id": "qaXMJaroH_TI",
        "outputId": "947065af-b961-4d1a-ac3a-770ab0132904"
      },
      "outputs": [
        {
          "output_type": "stream",
          "name": "stdout",
          "text": [
            "Looking in indexes: https://pypi.org/simple, https://us-python.pkg.dev/colab-wheels/public/simple/\n",
            "Requirement already satisfied: numpy==1.22.4 in /usr/local/lib/python3.9/dist-packages (from -r /content/Capstone/requirements.txt (line 1)) (1.22.4)\n",
            "Collecting sentencepiece==0.1.97\n",
            "  Downloading sentencepiece-0.1.97-cp39-cp39-manylinux_2_17_x86_64.manylinux2014_x86_64.whl (1.3 MB)\n",
            "\u001b[2K     \u001b[90m━━━━━━━━━━━━━━━━━━━━━━━━━━━━━━━━━━━━━━━━\u001b[0m \u001b[32m1.3/1.3 MB\u001b[0m \u001b[31m31.4 MB/s\u001b[0m eta \u001b[36m0:00:00\u001b[0m\n",
            "\u001b[?25hRequirement already satisfied: torch==1.13.1 in /usr/local/lib/python3.9/dist-packages (from -r /content/Capstone/requirements.txt (line 3)) (1.13.1+cu116)\n",
            "Collecting transformers==4.26.1\n",
            "  Downloading transformers-4.26.1-py3-none-any.whl (6.3 MB)\n",
            "\u001b[2K     \u001b[90m━━━━━━━━━━━━━━━━━━━━━━━━━━━━━━━━━━━━━━━━\u001b[0m \u001b[32m6.3/6.3 MB\u001b[0m \u001b[31m96.4 MB/s\u001b[0m eta \u001b[36m0:00:00\u001b[0m\n",
            "\u001b[?25hCollecting accelerate==0.16.0\n",
            "  Downloading accelerate-0.16.0-py3-none-any.whl (199 kB)\n",
            "\u001b[2K     \u001b[90m━━━━━━━━━━━━━━━━━━━━━━━━━━━━━━━━━━━━━━\u001b[0m \u001b[32m199.7/199.7 KB\u001b[0m \u001b[31m23.9 MB/s\u001b[0m eta \u001b[36m0:00:00\u001b[0m\n",
            "\u001b[?25hCollecting bitsandbytes==0.37.0\n",
            "  Downloading bitsandbytes-0.37.0-py3-none-any.whl (76.3 MB)\n",
            "\u001b[2K     \u001b[90m━━━━━━━━━━━━━━━━━━━━━━━━━━━━━━━━━━━━━━━━\u001b[0m \u001b[32m76.3/76.3 MB\u001b[0m \u001b[31m23.7 MB/s\u001b[0m eta \u001b[36m0:00:00\u001b[0m\n",
            "\u001b[?25hRequirement already satisfied: typing-extensions in /usr/local/lib/python3.9/dist-packages (from torch==1.13.1->-r /content/Capstone/requirements.txt (line 3)) (4.5.0)\n",
            "Requirement already satisfied: packaging>=20.0 in /usr/local/lib/python3.9/dist-packages (from transformers==4.26.1->-r /content/Capstone/requirements.txt (line 4)) (23.0)\n",
            "Requirement already satisfied: pyyaml>=5.1 in /usr/local/lib/python3.9/dist-packages (from transformers==4.26.1->-r /content/Capstone/requirements.txt (line 4)) (6.0)\n",
            "Requirement already satisfied: regex!=2019.12.17 in /usr/local/lib/python3.9/dist-packages (from transformers==4.26.1->-r /content/Capstone/requirements.txt (line 4)) (2022.6.2)\n",
            "Requirement already satisfied: tqdm>=4.27 in /usr/local/lib/python3.9/dist-packages (from transformers==4.26.1->-r /content/Capstone/requirements.txt (line 4)) (4.65.0)\n",
            "Requirement already satisfied: requests in /usr/local/lib/python3.9/dist-packages (from transformers==4.26.1->-r /content/Capstone/requirements.txt (line 4)) (2.25.1)\n",
            "Requirement already satisfied: filelock in /usr/local/lib/python3.9/dist-packages (from transformers==4.26.1->-r /content/Capstone/requirements.txt (line 4)) (3.9.0)\n",
            "Collecting tokenizers!=0.11.3,<0.14,>=0.11.1\n",
            "  Downloading tokenizers-0.13.2-cp39-cp39-manylinux_2_17_x86_64.manylinux2014_x86_64.whl (7.6 MB)\n",
            "\u001b[2K     \u001b[90m━━━━━━━━━━━━━━━━━━━━━━━━━━━━━━━━━━━━━━━━\u001b[0m \u001b[32m7.6/7.6 MB\u001b[0m \u001b[31m93.2 MB/s\u001b[0m eta \u001b[36m0:00:00\u001b[0m\n",
            "\u001b[?25hCollecting huggingface-hub<1.0,>=0.11.0\n",
            "  Downloading huggingface_hub-0.13.1-py3-none-any.whl (199 kB)\n",
            "\u001b[2K     \u001b[90m━━━━━━━━━━━━━━━━━━━━━━━━━━━━━━━━━━━━━━\u001b[0m \u001b[32m199.2/199.2 KB\u001b[0m \u001b[31m24.7 MB/s\u001b[0m eta \u001b[36m0:00:00\u001b[0m\n",
            "\u001b[?25hRequirement already satisfied: psutil in /usr/local/lib/python3.9/dist-packages (from accelerate==0.16.0->-r /content/Capstone/requirements.txt (line 5)) (5.4.8)\n",
            "Requirement already satisfied: chardet<5,>=3.0.2 in /usr/local/lib/python3.9/dist-packages (from requests->transformers==4.26.1->-r /content/Capstone/requirements.txt (line 4)) (4.0.0)\n",
            "Requirement already satisfied: idna<3,>=2.5 in /usr/local/lib/python3.9/dist-packages (from requests->transformers==4.26.1->-r /content/Capstone/requirements.txt (line 4)) (2.10)\n",
            "Requirement already satisfied: certifi>=2017.4.17 in /usr/local/lib/python3.9/dist-packages (from requests->transformers==4.26.1->-r /content/Capstone/requirements.txt (line 4)) (2022.12.7)\n",
            "Requirement already satisfied: urllib3<1.27,>=1.21.1 in /usr/local/lib/python3.9/dist-packages (from requests->transformers==4.26.1->-r /content/Capstone/requirements.txt (line 4)) (1.26.14)\n",
            "Installing collected packages: tokenizers, sentencepiece, bitsandbytes, huggingface-hub, accelerate, transformers\n",
            "Successfully installed accelerate-0.16.0 bitsandbytes-0.37.0 huggingface-hub-0.13.1 sentencepiece-0.1.97 tokenizers-0.13.2 transformers-4.26.1\n"
          ]
        }
      ],
      "source": [
        "!pip install -r /content/Capstone/requirements.txt"
      ]
    },
    {
      "cell_type": "markdown",
      "metadata": {
        "id": "3yjnEaRtKd8L"
      },
      "source": [
        "## Imports"
      ]
    },
    {
      "cell_type": "code",
      "execution_count": null,
      "metadata": {
        "id": "IJQImaEDTRMr"
      },
      "outputs": [],
      "source": [
        "import os"
      ]
    },
    {
      "cell_type": "code",
      "execution_count": null,
      "metadata": {
        "id": "0jQTcgbNk-iA"
      },
      "outputs": [],
      "source": [
        "os.chdir('/content/Capstone/src/cka_scripts')"
      ]
    },
    {
      "cell_type": "markdown",
      "metadata": {
        "id": "j6lqNVBmhW-g"
      },
      "source": [
        "## CLI usage"
      ]
    },
    {
      "cell_type": "code",
      "execution_count": null,
      "metadata": {
        "colab": {
          "base_uri": "https://localhost:8080/"
        },
        "id": "1D4NDgkf8oAO",
        "outputId": "e839e63c-325a-4cc7-f51b-14394f96d1c8"
      },
      "outputs": [
        {
          "output_type": "stream",
          "name": "stdout",
          "text": [
            "2023-03-10 09:46:42.286192: I tensorflow/core/platform/cpu_feature_guard.cc:193] This TensorFlow binary is optimized with oneAPI Deep Neural Network Library (oneDNN) to use the following CPU instructions in performance-critical operations:  AVX2 AVX512F AVX512_VNNI FMA\n",
            "To enable them in other operations, rebuild TensorFlow with the appropriate compiler flags.\n",
            "2023-03-10 09:46:42.415345: I tensorflow/core/util/port.cc:104] oneDNN custom operations are on. You may see slightly different numerical results due to floating-point round-off errors from different computation orders. To turn them off, set the environment variable `TF_ENABLE_ONEDNN_OPTS=0`.\n",
            "2023-03-10 09:46:43.134709: W tensorflow/compiler/xla/stream_executor/platform/default/dso_loader.cc:64] Could not load dynamic library 'libnvinfer.so.7'; dlerror: libnvinfer.so.7: cannot open shared object file: No such file or directory; LD_LIBRARY_PATH: /usr/lib64-nvidia\n",
            "2023-03-10 09:46:43.134793: W tensorflow/compiler/xla/stream_executor/platform/default/dso_loader.cc:64] Could not load dynamic library 'libnvinfer_plugin.so.7'; dlerror: libnvinfer_plugin.so.7: cannot open shared object file: No such file or directory; LD_LIBRARY_PATH: /usr/lib64-nvidia\n",
            "2023-03-10 09:46:43.134811: W tensorflow/compiler/tf2tensorrt/utils/py_utils.cc:38] TF-TRT Warning: Cannot dlopen some TensorRT libraries. If you would like to use Nvidia GPU with TensorRT, please make sure the missing libraries mentioned above are installed properly.\n",
            "CKA for facebook/opt-125m\n",
            "Loading  model...\n",
            "Downloading (…)okenizer_config.json: 100% 685/685 [00:00<00:00, 105kB/s]\n",
            "Downloading (…)lve/main/config.json: 100% 651/651 [00:00<00:00, 107kB/s]\n",
            "Downloading (…)olve/main/vocab.json: 100% 899k/899k [00:01<00:00, 804kB/s]\n",
            "Downloading (…)olve/main/merges.txt: 100% 456k/456k [00:00<00:00, 514kB/s]\n",
            "Downloading (…)cial_tokens_map.json: 100% 441/441 [00:00<00:00, 182kB/s]\n",
            "Downloading pytorch_model.bin: 100% 251M/251M [00:03<00:00, 83.3MB/s]\n",
            "\n",
            "===================================BUG REPORT===================================\n",
            "Welcome to bitsandbytes. For bug reports, please submit your error trace to: https://github.com/TimDettmers/bitsandbytes/issues\n",
            "================================================================================\n",
            "Downloading (…)neration_config.json: 100% 137/137 [00:00<00:00, 23.5kB/s]\n",
            "Running comparisons...\n",
            "Done\n",
            "\n",
            "CKA for facebook/opt-350m\n",
            "Loading  model...\n",
            "Downloading (…)okenizer_config.json: 100% 685/685 [00:00<00:00, 112kB/s]\n",
            "Downloading (…)lve/main/config.json: 100% 644/644 [00:00<00:00, 244kB/s]\n",
            "Downloading (…)olve/main/vocab.json: 100% 899k/899k [00:01<00:00, 813kB/s]\n",
            "Downloading (…)olve/main/merges.txt: 100% 456k/456k [00:00<00:00, 512kB/s]\n",
            "Downloading (…)cial_tokens_map.json: 100% 441/441 [00:00<00:00, 156kB/s]\n",
            "Downloading pytorch_model.bin: 100% 663M/663M [00:10<00:00, 63.6MB/s]\n",
            "Downloading (…)neration_config.json: 100% 137/137 [00:00<00:00, 39.3kB/s]\n",
            "Running comparisons...\n",
            "Done\n",
            "\n",
            "CKA for facebook/opt-1.3b\n",
            "Loading  model...\n",
            "Downloading (…)okenizer_config.json: 100% 685/685 [00:00<00:00, 240kB/s]\n",
            "Downloading (…)lve/main/config.json: 100% 653/653 [00:00<00:00, 233kB/s]\n",
            "Downloading (…)olve/main/vocab.json: 100% 899k/899k [00:01<00:00, 806kB/s]\n",
            "Downloading (…)olve/main/merges.txt: 100% 456k/456k [00:00<00:00, 513kB/s]\n",
            "Downloading (…)cial_tokens_map.json: 100% 441/441 [00:00<00:00, 157kB/s]\n",
            "Downloading pytorch_model.bin: 100% 2.63G/2.63G [00:30<00:00, 87.3MB/s]\n",
            "Downloading (…)neration_config.json: 100% 137/137 [00:00<00:00, 48.8kB/s]\n",
            "Running comparisons...\n",
            "Done\n",
            "\n",
            "CKA for facebook/opt-2.7b\n",
            "Loading  model...\n",
            "Downloading (…)okenizer_config.json: 100% 685/685 [00:00<00:00, 240kB/s]\n",
            "Downloading (…)lve/main/config.json: 100% 691/691 [00:00<00:00, 241kB/s]\n",
            "Downloading (…)olve/main/vocab.json: 100% 899k/899k [00:01<00:00, 802kB/s]\n",
            "Downloading (…)olve/main/merges.txt: 100% 456k/456k [00:00<00:00, 511kB/s]\n",
            "Downloading (…)cial_tokens_map.json: 100% 441/441 [00:00<00:00, 154kB/s]\n",
            "Downloading pytorch_model.bin: 100% 5.30G/5.30G [00:27<00:00, 193MB/s]\n",
            "Downloading (…)neration_config.json: 100% 137/137 [00:00<00:00, 47.7kB/s]\n",
            "Running comparisons...\n",
            "Done\n",
            "\n",
            "CKA for facebook/opt-6.7b\n",
            "Loading  model...\n",
            "Downloading (…)okenizer_config.json: 100% 685/685 [00:00<00:00, 224kB/s]\n",
            "Downloading (…)lve/main/config.json: 100% 651/651 [00:00<00:00, 223kB/s]\n",
            "Downloading (…)olve/main/vocab.json: 100% 899k/899k [00:01<00:00, 808kB/s]\n",
            "Downloading (…)olve/main/merges.txt: 100% 456k/456k [00:00<00:00, 513kB/s]\n",
            "Downloading (…)cial_tokens_map.json: 100% 441/441 [00:00<00:00, 153kB/s]\n",
            "Downloading (…)model.bin.index.json: 100% 41.9k/41.9k [00:00<00:00, 187kB/s]\n",
            "Downloading (…)l-00001-of-00002.bin: 100% 9.96G/9.96G [00:54<00:00, 183MB/s]\n",
            "Downloading (…)l-00002-of-00002.bin: 100% 3.36G/3.36G [00:38<00:00, 86.9MB/s]\n",
            "Loading checkpoint shards: 100% 2/2 [00:09<00:00,  4.83s/it]\n",
            "Downloading (…)neration_config.json: 100% 137/137 [00:00<00:00, 45.0kB/s]\n",
            "Running comparisons...\n",
            "Done\n",
            "\n",
            "CKA for facebook/opt-13b\n",
            "Loading  model...\n",
            "Downloading (…)okenizer_config.json: 100% 721/721 [00:00<00:00, 247kB/s]\n",
            "Downloading (…)olve/main/vocab.json: 100% 899k/899k [00:01<00:00, 801kB/s]\n",
            "Downloading (…)olve/main/merges.txt: 100% 456k/456k [00:00<00:00, 510kB/s]\n",
            "Downloading (…)cial_tokens_map.json: 100% 441/441 [00:00<00:00, 152kB/s]\n",
            "Downloading (…)lve/main/config.json: 100% 719/719 [00:00<00:00, 288kB/s]\n",
            "Downloading (…)model.bin.index.json: 100% 52.4k/52.4k [00:00<00:00, 231kB/s]\n",
            "Downloading (…)l-00001-of-00003.bin: 100% 9.98G/9.98G [00:59<00:00, 166MB/s]\n",
            "Downloading (…)l-00002-of-00003.bin: 100% 9.86G/9.86G [02:00<00:00, 81.8MB/s]\n",
            "Downloading (…)l-00003-of-00003.bin: 100% 5.87G/5.87G [00:39<00:00, 148MB/s]\n",
            "Loading checkpoint shards: 100% 3/3 [00:18<00:00,  6.31s/it]\n",
            "Downloading (…)neration_config.json: 100% 137/137 [00:00<00:00, 48.0kB/s]\n",
            "Running comparisons...\n",
            "Done\n",
            "\n",
            "\n",
            "Score dict full:\n",
            "{'facebook/opt-125m': [{\"The 2020 Olympics were held in ['Tokyo', 'London']\": {'p_true': 0.1692, 'p_false': 0.036163330078125, 'p_true - p_false': 0.133026123046875, 'p_true > p_false': True}}, {\"The 2020 Olympics were held in ['Tokyo', 'Berlin']\": {'p_true': 0.1692, 'p_false': 0.0013380050659179688, 'p_true - p_false': 0.16785144805908203, 'p_true > p_false': True}}, {\"The 2020 Olympics were held in ['Tokyo', 'Chicago']\": {'p_true': 0.1692, 'p_false': 0.0008230209350585938, 'p_true - p_false': 0.1683664321899414, 'p_true > p_false': True}}, {\"Operation Overlord took place in ['Normandy', 'Manila']\": {'p_true': 0.0005836, 'p_false': 0.00018596649169921875, 'p_true - p_false': 0.00039768218994140625, 'p_true > p_false': True}}, {\"Operation Overlord took place in ['Normandy', 'Santiago']\": {'p_true': 0.0005836, 'p_false': 2.2292137145996094e-05, 'p_true - p_false': 0.0005613565444946289, 'p_true > p_false': True}}, {\"Operation Overlord took place in ['Normandy', 'Baghdad']\": {'p_true': 0.0005836, 'p_false': 0.0003402233123779297, 'p_true - p_false': 0.0002434253692626953, 'p_true > p_false': True}}, {\"Steve Jobs is the founder of ['Apple', 'Microsoft']\": {'p_true': 0.4473, 'p_false': 0.016876220703125, 'p_true - p_false': 0.430389404296875, 'p_true > p_false': True}}, {\"Steve Jobs is the founder of ['Apple', 'Oracle']\": {'p_true': 0.4473, 'p_false': 0.00023603439331054688, 'p_true - p_false': 0.44702959060668945, 'p_true > p_false': True}}, {\"Steve Jobs is the founder of ['Apple', 'Intel']\": {'p_true': 0.4473, 'p_false': 0.001239776611328125, 'p_true - p_false': 0.4460258483886719, 'p_true > p_false': True}}], 'facebook/opt-350m': [{\"The 2020 Olympics were held in ['Tokyo', 'London']\": {'p_true': 0.521, 'p_false': 0.01102447509765625, 'p_true - p_false': 0.5099716186523438, 'p_true > p_false': True}}, {\"The 2020 Olympics were held in ['Tokyo', 'Berlin']\": {'p_true': 0.521, 'p_false': 3.6776065826416016e-05, 'p_true - p_false': 0.5209593176841736, 'p_true > p_false': True}}, {\"The 2020 Olympics were held in ['Tokyo', 'Chicago']\": {'p_true': 0.521, 'p_false': 7.486343383789062e-05, 'p_true - p_false': 0.5209212303161621, 'p_true > p_false': True}}, {\"Operation Overlord took place in ['Normandy', 'Manila']\": {'p_true': 0.0001271, 'p_false': 3.641843795776367e-05, 'p_true - p_false': 9.065866470336914e-05, 'p_true > p_false': True}}, {\"Operation Overlord took place in ['Normandy', 'Santiago']\": {'p_true': 0.0001271, 'p_false': 5.662441253662109e-06, 'p_true - p_false': 0.0001214146614074707, 'p_true > p_false': True}}, {\"Operation Overlord took place in ['Normandy', 'Baghdad']\": {'p_true': 0.0001271, 'p_false': 7.18832015991211e-05, 'p_true - p_false': 5.519390106201172e-05, 'p_true > p_false': True}}, {\"Steve Jobs is the founder of ['Apple', 'Microsoft']\": {'p_true': 0.7217, 'p_false': 0.019744873046875, 'p_true - p_false': 0.701934814453125, 'p_true > p_false': True}}, {\"Steve Jobs is the founder of ['Apple', 'Oracle']\": {'p_true': 0.7217, 'p_false': 0.00040221214294433594, 'p_true - p_false': 0.7212774753570557, 'p_true > p_false': True}}, {\"Steve Jobs is the founder of ['Apple', 'Intel']\": {'p_true': 0.7217, 'p_false': 0.0023097991943359375, 'p_true - p_false': 0.7193698883056641, 'p_true > p_false': True}}], 'facebook/opt-1.3b': [{\"The 2020 Olympics were held in ['Tokyo', 'London']\": {'p_true': 0.4316, 'p_false': 0.0002880096435546875, 'p_true - p_false': 0.4313526153564453, 'p_true > p_false': True}}, {\"The 2020 Olympics were held in ['Tokyo', 'Berlin']\": {'p_true': 0.4316, 'p_false': 4.8220157623291016e-05, 'p_true - p_false': 0.4315924048423767, 'p_true > p_false': True}}, {\"The 2020 Olympics were held in ['Tokyo', 'Chicago']\": {'p_true': 0.4316, 'p_false': 5.739927291870117e-05, 'p_true - p_false': 0.4315832257270813, 'p_true > p_false': True}}, {\"Operation Overlord took place in ['Normandy', 'Manila']\": {'p_true': 0.00797, 'p_false': 8.58306884765625e-05, 'p_true - p_false': 0.007886886596679688, 'p_true > p_false': True}}, {\"Operation Overlord took place in ['Normandy', 'Santiago']\": {'p_true': 0.00797, 'p_false': 8.940696716308594e-06, 'p_true - p_false': 0.007963776588439941, 'p_true > p_false': True}}, {\"Operation Overlord took place in ['Normandy', 'Baghdad']\": {'p_true': 0.00797, 'p_false': 0.0005035400390625, 'p_true - p_false': 0.00746917724609375, 'p_true > p_false': True}}, {\"Steve Jobs is the founder of ['Apple', 'Microsoft']\": {'p_true': 0.8223, 'p_false': 0.0013628005981445312, 'p_true - p_false': 0.8209028244018555, 'p_true > p_false': True}}, {\"Steve Jobs is the founder of ['Apple', 'Oracle']\": {'p_true': 0.8223, 'p_false': 7.68899917602539e-05, 'p_true - p_false': 0.8221887350082397, 'p_true > p_false': True}}, {\"Steve Jobs is the founder of ['Apple', 'Intel']\": {'p_true': 0.8223, 'p_false': 0.0010576248168945312, 'p_true - p_false': 0.8212080001831055, 'p_true > p_false': True}}], 'facebook/opt-2.7b': [{\"The 2020 Olympics were held in ['Tokyo', 'London']\": {'p_true': 0.4382, 'p_false': 0.003452301025390625, 'p_true - p_false': 0.4347801208496094, 'p_true > p_false': True}}, {\"The 2020 Olympics were held in ['Tokyo', 'Berlin']\": {'p_true': 0.4382, 'p_false': 0.00011271238327026367, 'p_true - p_false': 0.43811970949172974, 'p_true > p_false': True}}, {\"The 2020 Olympics were held in ['Tokyo', 'Chicago']\": {'p_true': 0.4382, 'p_false': 9.196996688842773e-05, 'p_true - p_false': 0.4381404519081116, 'p_true > p_false': True}}, {\"Operation Overlord took place in ['Normandy', 'Manila']\": {'p_true': 0.09155, 'p_false': 5.364418029785156e-07, 'p_true - p_false': 0.09155219793319702, 'p_true > p_false': True}}, {\"Operation Overlord took place in ['Normandy', 'Santiago']\": {'p_true': 0.09155, 'p_false': 2.980232238769531e-07, 'p_true - p_false': 0.09155243635177612, 'p_true > p_false': True}}, {\"Operation Overlord took place in ['Normandy', 'Baghdad']\": {'p_true': 0.09155, 'p_false': 3.3974647521972656e-06, 'p_true - p_false': 0.0915493369102478, 'p_true > p_false': True}}, {\"Steve Jobs is the founder of ['Apple', 'Microsoft']\": {'p_true': 0.7095, 'p_false': 0.0006885528564453125, 'p_true - p_false': 0.7087841033935547, 'p_true > p_false': True}}, {\"Steve Jobs is the founder of ['Apple', 'Oracle']\": {'p_true': 0.7095, 'p_false': 5.78761100769043e-05, 'p_true - p_false': 0.7094147801399231, 'p_true > p_false': True}}, {\"Steve Jobs is the founder of ['Apple', 'Intel']\": {'p_true': 0.7095, 'p_false': 0.0010747909545898438, 'p_true - p_false': 0.7083978652954102, 'p_true > p_false': True}}], 'facebook/opt-6.7b': [{\"The 2020 Olympics were held in ['Tokyo', 'London']\": {'p_true': 0.7134, 'p_false': 0.00047588348388671875, 'p_true - p_false': 0.7129030227661133, 'p_true > p_false': True}}, {\"The 2020 Olympics were held in ['Tokyo', 'Berlin']\": {'p_true': 0.7134, 'p_false': 0.00012409687042236328, 'p_true - p_false': 0.7132548093795776, 'p_true > p_false': True}}, {\"The 2020 Olympics were held in ['Tokyo', 'Chicago']\": {'p_true': 0.7134, 'p_false': 2.1338462829589844e-05, 'p_true - p_false': 0.7133575677871704, 'p_true > p_false': True}}, {\"Operation Overlord took place in ['Normandy', 'Manila']\": {'p_true': 0.3218, 'p_false': 5.960464477539063e-08, 'p_true - p_false': 0.3217772841453552, 'p_true > p_false': True}}, {\"Operation Overlord took place in ['Normandy', 'Santiago']\": {'p_true': 0.3218, 'p_false': 0.0, 'p_true - p_false': 0.32177734375, 'p_true > p_false': True}}, {\"Operation Overlord took place in ['Normandy', 'Baghdad']\": {'p_true': 0.3218, 'p_false': 4.76837158203125e-07, 'p_true - p_false': 0.3217768669128418, 'p_true > p_false': True}}, {\"Steve Jobs is the founder of ['Apple', 'Microsoft']\": {'p_true': 0.771, 'p_false': 0.0007634162902832031, 'p_true - p_false': 0.7702326774597168, 'p_true > p_false': True}}, {\"Steve Jobs is the founder of ['Apple', 'Oracle']\": {'p_true': 0.771, 'p_false': 8.976459503173828e-05, 'p_true - p_false': 0.7709063291549683, 'p_true > p_false': True}}, {\"Steve Jobs is the founder of ['Apple', 'Intel']\": {'p_true': 0.771, 'p_false': 0.0002808570861816406, 'p_true - p_false': 0.7707152366638184, 'p_true > p_false': True}}], 'facebook/opt-13b': [{\"The 2020 Olympics were held in ['Tokyo', 'London']\": {'p_true': 0.394, 'p_false': 0.0009927749633789062, 'p_true - p_false': 0.3930501937866211, 'p_true > p_false': True}}, {\"The 2020 Olympics were held in ['Tokyo', 'Berlin']\": {'p_true': 0.394, 'p_false': 0.0002799034118652344, 'p_true - p_false': 0.39376306533813477, 'p_true > p_false': True}}, {\"The 2020 Olympics were held in ['Tokyo', 'Chicago']\": {'p_true': 0.394, 'p_false': 0.0001291036605834961, 'p_true - p_false': 0.3939138650894165, 'p_true > p_false': True}}, {\"Operation Overlord took place in ['Normandy', 'Manila']\": {'p_true': 0.05972, 'p_false': 2.682209014892578e-06, 'p_true - p_false': 0.05972021818161011, 'p_true > p_false': True}}, {\"Operation Overlord took place in ['Normandy', 'Santiago']\": {'p_true': 0.05972, 'p_false': 4.76837158203125e-07, 'p_true - p_false': 0.0597224235534668, 'p_true > p_false': True}}, {\"Operation Overlord took place in ['Normandy', 'Baghdad']\": {'p_true': 0.05972, 'p_false': 1.4126300811767578e-05, 'p_true - p_false': 0.05970877408981323, 'p_true > p_false': True}}, {\"Steve Jobs is the founder of ['Apple', 'Microsoft']\": {'p_true': 0.7495, 'p_false': 0.0004343986511230469, 'p_true - p_false': 0.749077320098877, 'p_true > p_false': True}}, {\"Steve Jobs is the founder of ['Apple', 'Oracle']\": {'p_true': 0.7495, 'p_false': 5.882978439331055e-05, 'p_true - p_false': 0.7494528889656067, 'p_true > p_false': True}}, {\"Steve Jobs is the founder of ['Apple', 'Intel']\": {'p_true': 0.7495, 'p_false': 0.0002849102020263672, 'p_true - p_false': 0.7492268085479736, 'p_true > p_false': True}}]}\n",
            "\n",
            "Score dict succinct:\n",
            "{'facebook/opt-125m': [{\"The 2020 Olympics were held in ['Tokyo', 'London']\": {'p_true > p_false': True}}, {\"The 2020 Olympics were held in ['Tokyo', 'Berlin']\": {'p_true > p_false': True}}, {\"The 2020 Olympics were held in ['Tokyo', 'Chicago']\": {'p_true > p_false': True}}, {\"Operation Overlord took place in ['Normandy', 'Manila']\": {'p_true > p_false': True}}, {\"Operation Overlord took place in ['Normandy', 'Santiago']\": {'p_true > p_false': True}}, {\"Operation Overlord took place in ['Normandy', 'Baghdad']\": {'p_true > p_false': True}}, {\"Steve Jobs is the founder of ['Apple', 'Microsoft']\": {'p_true > p_false': True}}, {\"Steve Jobs is the founder of ['Apple', 'Oracle']\": {'p_true > p_false': True}}, {\"Steve Jobs is the founder of ['Apple', 'Intel']\": {'p_true > p_false': True}}], 'facebook/opt-350m': [{\"The 2020 Olympics were held in ['Tokyo', 'London']\": {'p_true > p_false': True}}, {\"The 2020 Olympics were held in ['Tokyo', 'Berlin']\": {'p_true > p_false': True}}, {\"The 2020 Olympics were held in ['Tokyo', 'Chicago']\": {'p_true > p_false': True}}, {\"Operation Overlord took place in ['Normandy', 'Manila']\": {'p_true > p_false': True}}, {\"Operation Overlord took place in ['Normandy', 'Santiago']\": {'p_true > p_false': True}}, {\"Operation Overlord took place in ['Normandy', 'Baghdad']\": {'p_true > p_false': True}}, {\"Steve Jobs is the founder of ['Apple', 'Microsoft']\": {'p_true > p_false': True}}, {\"Steve Jobs is the founder of ['Apple', 'Oracle']\": {'p_true > p_false': True}}, {\"Steve Jobs is the founder of ['Apple', 'Intel']\": {'p_true > p_false': True}}], 'facebook/opt-1.3b': [{\"The 2020 Olympics were held in ['Tokyo', 'London']\": {'p_true > p_false': True}}, {\"The 2020 Olympics were held in ['Tokyo', 'Berlin']\": {'p_true > p_false': True}}, {\"The 2020 Olympics were held in ['Tokyo', 'Chicago']\": {'p_true > p_false': True}}, {\"Operation Overlord took place in ['Normandy', 'Manila']\": {'p_true > p_false': True}}, {\"Operation Overlord took place in ['Normandy', 'Santiago']\": {'p_true > p_false': True}}, {\"Operation Overlord took place in ['Normandy', 'Baghdad']\": {'p_true > p_false': True}}, {\"Steve Jobs is the founder of ['Apple', 'Microsoft']\": {'p_true > p_false': True}}, {\"Steve Jobs is the founder of ['Apple', 'Oracle']\": {'p_true > p_false': True}}, {\"Steve Jobs is the founder of ['Apple', 'Intel']\": {'p_true > p_false': True}}], 'facebook/opt-2.7b': [{\"The 2020 Olympics were held in ['Tokyo', 'London']\": {'p_true > p_false': True}}, {\"The 2020 Olympics were held in ['Tokyo', 'Berlin']\": {'p_true > p_false': True}}, {\"The 2020 Olympics were held in ['Tokyo', 'Chicago']\": {'p_true > p_false': True}}, {\"Operation Overlord took place in ['Normandy', 'Manila']\": {'p_true > p_false': True}}, {\"Operation Overlord took place in ['Normandy', 'Santiago']\": {'p_true > p_false': True}}, {\"Operation Overlord took place in ['Normandy', 'Baghdad']\": {'p_true > p_false': True}}, {\"Steve Jobs is the founder of ['Apple', 'Microsoft']\": {'p_true > p_false': True}}, {\"Steve Jobs is the founder of ['Apple', 'Oracle']\": {'p_true > p_false': True}}, {\"Steve Jobs is the founder of ['Apple', 'Intel']\": {'p_true > p_false': True}}], 'facebook/opt-6.7b': [{\"The 2020 Olympics were held in ['Tokyo', 'London']\": {'p_true > p_false': True}}, {\"The 2020 Olympics were held in ['Tokyo', 'Berlin']\": {'p_true > p_false': True}}, {\"The 2020 Olympics were held in ['Tokyo', 'Chicago']\": {'p_true > p_false': True}}, {\"Operation Overlord took place in ['Normandy', 'Manila']\": {'p_true > p_false': True}}, {\"Operation Overlord took place in ['Normandy', 'Santiago']\": {'p_true > p_false': True}}, {\"Operation Overlord took place in ['Normandy', 'Baghdad']\": {'p_true > p_false': True}}, {\"Steve Jobs is the founder of ['Apple', 'Microsoft']\": {'p_true > p_false': True}}, {\"Steve Jobs is the founder of ['Apple', 'Oracle']\": {'p_true > p_false': True}}, {\"Steve Jobs is the founder of ['Apple', 'Intel']\": {'p_true > p_false': True}}], 'facebook/opt-13b': [{\"The 2020 Olympics were held in ['Tokyo', 'London']\": {'p_true > p_false': True}}, {\"The 2020 Olympics were held in ['Tokyo', 'Berlin']\": {'p_true > p_false': True}}, {\"The 2020 Olympics were held in ['Tokyo', 'Chicago']\": {'p_true > p_false': True}}, {\"Operation Overlord took place in ['Normandy', 'Manila']\": {'p_true > p_false': True}}, {\"Operation Overlord took place in ['Normandy', 'Santiago']\": {'p_true > p_false': True}}, {\"Operation Overlord took place in ['Normandy', 'Baghdad']\": {'p_true > p_false': True}}, {\"Steve Jobs is the founder of ['Apple', 'Microsoft']\": {'p_true > p_false': True}}, {\"Steve Jobs is the founder of ['Apple', 'Oracle']\": {'p_true > p_false': True}}, {\"Steve Jobs is the founder of ['Apple', 'Intel']\": {'p_true > p_false': True}}]}\n",
            "\n",
            "Score dict summary:\n",
            "{'facebook/opt-125m': 'This model got 9/9 facts correct', 'facebook/opt-350m': 'This model got 9/9 facts correct', 'facebook/opt-1.3b': 'This model got 9/9 facts correct', 'facebook/opt-2.7b': 'This model got 9/9 facts correct', 'facebook/opt-6.7b': 'This model got 9/9 facts correct', 'facebook/opt-13b': 'This model got 9/9 facts correct'}\n"
          ]
        }
      ],
      "source": [
        "!python run_cka.py configs.opt_v0"
      ]
    },
    {
      "cell_type": "code",
      "source": [
        "!python run_cka.py configs.opt_30b_v0"
      ],
      "metadata": {
        "colab": {
          "base_uri": "https://localhost:8080/"
        },
        "id": "2MdpTxuy7Loy",
        "outputId": "1695eff4-ab36-4834-965c-c8a26493d55b"
      },
      "execution_count": null,
      "outputs": [
        {
          "output_type": "stream",
          "name": "stdout",
          "text": [
            "2023-03-10 09:56:11.947225: I tensorflow/core/platform/cpu_feature_guard.cc:193] This TensorFlow binary is optimized with oneAPI Deep Neural Network Library (oneDNN) to use the following CPU instructions in performance-critical operations:  AVX2 AVX512F AVX512_VNNI FMA\n",
            "To enable them in other operations, rebuild TensorFlow with the appropriate compiler flags.\n",
            "2023-03-10 09:56:12.117025: I tensorflow/core/util/port.cc:104] oneDNN custom operations are on. You may see slightly different numerical results due to floating-point round-off errors from different computation orders. To turn them off, set the environment variable `TF_ENABLE_ONEDNN_OPTS=0`.\n",
            "2023-03-10 09:56:12.849010: W tensorflow/compiler/xla/stream_executor/platform/default/dso_loader.cc:64] Could not load dynamic library 'libnvinfer.so.7'; dlerror: libnvinfer.so.7: cannot open shared object file: No such file or directory; LD_LIBRARY_PATH: /usr/lib64-nvidia\n",
            "2023-03-10 09:56:12.849109: W tensorflow/compiler/xla/stream_executor/platform/default/dso_loader.cc:64] Could not load dynamic library 'libnvinfer_plugin.so.7'; dlerror: libnvinfer_plugin.so.7: cannot open shared object file: No such file or directory; LD_LIBRARY_PATH: /usr/lib64-nvidia\n",
            "2023-03-10 09:56:12.849128: W tensorflow/compiler/tf2tensorrt/utils/py_utils.cc:38] TF-TRT Warning: Cannot dlopen some TensorRT libraries. If you would like to use Nvidia GPU with TensorRT, please make sure the missing libraries mentioned above are installed properly.\n",
            "CKA for facebook/opt-30b\n",
            "Loading  model...\n",
            "Downloading (…)okenizer_config.json: 100% 685/685 [00:00<00:00, 100kB/s]\n",
            "Downloading (…)lve/main/config.json: 100% 651/651 [00:00<00:00, 105kB/s]\n",
            "Downloading (…)olve/main/vocab.json: 100% 899k/899k [00:01<00:00, 801kB/s]\n",
            "Downloading (…)olve/main/merges.txt: 100% 456k/456k [00:00<00:00, 513kB/s]\n",
            "Downloading (…)cial_tokens_map.json: 100% 221/221 [00:00<00:00, 86.4kB/s]\n",
            "Downloading (…)model.bin.index.json: 100% 62.8k/62.8k [00:00<00:00, 275kB/s]\n",
            "Downloading (…)l-00001-of-00007.bin: 100% 9.79G/9.79G [01:08<00:00, 144MB/s]\n",
            "Downloading (…)l-00002-of-00007.bin: 100% 9.87G/9.87G [01:46<00:00, 92.6MB/s]\n",
            "Downloading (…)l-00003-of-00007.bin: 100% 9.87G/9.87G [01:09<00:00, 142MB/s]\n",
            "Downloading (…)l-00004-of-00007.bin: 100% 9.87G/9.87G [13:23<00:00, 12.3MB/s]\n",
            "Downloading (…)l-00005-of-00007.bin: 100% 9.87G/9.87G [01:13<00:00, 133MB/s]\n",
            "Downloading (…)l-00006-of-00007.bin: 100% 9.87G/9.87G [09:17<00:00, 17.7MB/s]\n",
            "Downloading (…)l-00007-of-00007.bin: 100% 822M/822M [00:05<00:00, 139MB/s]\n",
            "\n",
            "===================================BUG REPORT===================================\n",
            "Welcome to bitsandbytes. For bug reports, please submit your error trace to: https://github.com/TimDettmers/bitsandbytes/issues\n",
            "================================================================================\n",
            "Loading checkpoint shards: 100% 7/7 [04:02<00:00, 34.68s/it]\n",
            "Downloading (…)neration_config.json: 100% 137/137 [00:00<00:00, 43.7kB/s]\n",
            "Running comparisons...\n",
            "Done\n",
            "\n",
            "\n",
            "Score dict full:\n",
            "{'facebook/opt-30b': [{\"The 2020 Olympics were held in ['Tokyo', 'London']\": {'p_true': 0.3975, 'p_false': 0.0010089874267578125, 'p_true - p_false': 0.3964519500732422, 'p_true > p_false': True}}, {\"The 2020 Olympics were held in ['Tokyo', 'Berlin']\": {'p_true': 0.3975, 'p_false': 0.00015234947204589844, 'p_true - p_false': 0.3973085880279541, 'p_true > p_false': True}}, {\"The 2020 Olympics were held in ['Tokyo', 'Chicago']\": {'p_true': 0.3975, 'p_false': 8.279085159301758e-05, 'p_true - p_false': 0.397378146648407, 'p_true > p_false': True}}, {\"Operation Overlord took place in ['Normandy', 'Manila']\": {'p_true': 0.11487, 'p_false': 3.5762786865234375e-07, 'p_true - p_false': 0.11486780643463135, 'p_true > p_false': True}}, {\"Operation Overlord took place in ['Normandy', 'Santiago']\": {'p_true': 0.11487, 'p_false': 1.7881393432617188e-07, 'p_true - p_false': 0.11486798524856567, 'p_true > p_false': True}}, {\"Operation Overlord took place in ['Normandy', 'Baghdad']\": {'p_true': 0.11487, 'p_false': 7.808208465576172e-06, 'p_true - p_false': 0.11486035585403442, 'p_true > p_false': True}}, {\"Steve Jobs is the founder of ['Apple', 'Microsoft']\": {'p_true': 0.7524, 'p_false': 0.0008087158203125, 'p_true - p_false': 0.7516326904296875, 'p_true > p_false': True}}, {\"Steve Jobs is the founder of ['Apple', 'Oracle']\": {'p_true': 0.7524, 'p_false': 4.7087669372558594e-05, 'p_true - p_false': 0.7523943185806274, 'p_true > p_false': True}}, {\"Steve Jobs is the founder of ['Apple', 'Intel']\": {'p_true': 0.7524, 'p_false': 0.00015676021575927734, 'p_true - p_false': 0.7522846460342407, 'p_true > p_false': True}}]}\n",
            "\n",
            "Score dict succinct:\n",
            "{'facebook/opt-30b': [{\"The 2020 Olympics were held in ['Tokyo', 'London']\": {'p_true > p_false': True}}, {\"The 2020 Olympics were held in ['Tokyo', 'Berlin']\": {'p_true > p_false': True}}, {\"The 2020 Olympics were held in ['Tokyo', 'Chicago']\": {'p_true > p_false': True}}, {\"Operation Overlord took place in ['Normandy', 'Manila']\": {'p_true > p_false': True}}, {\"Operation Overlord took place in ['Normandy', 'Santiago']\": {'p_true > p_false': True}}, {\"Operation Overlord took place in ['Normandy', 'Baghdad']\": {'p_true > p_false': True}}, {\"Steve Jobs is the founder of ['Apple', 'Microsoft']\": {'p_true > p_false': True}}, {\"Steve Jobs is the founder of ['Apple', 'Oracle']\": {'p_true > p_false': True}}, {\"Steve Jobs is the founder of ['Apple', 'Intel']\": {'p_true > p_false': True}}]}\n",
            "\n",
            "Score dict summary:\n",
            "{'facebook/opt-30b': 'This model got 9/9 facts correct'}\n"
          ]
        }
      ]
    },
    {
      "cell_type": "code",
      "execution_count": null,
      "metadata": {
        "colab": {
          "base_uri": "https://localhost:8080/"
        },
        "id": "-qB6RpDTZsJC",
        "outputId": "33348d40-dd76-46c7-b83b-549b1fc45535"
      },
      "outputs": [
        {
          "output_type": "stream",
          "name": "stdout",
          "text": [
            "2023-03-10 10:29:08.532465: I tensorflow/core/platform/cpu_feature_guard.cc:193] This TensorFlow binary is optimized with oneAPI Deep Neural Network Library (oneDNN) to use the following CPU instructions in performance-critical operations:  AVX2 AVX512F AVX512_VNNI FMA\n",
            "To enable them in other operations, rebuild TensorFlow with the appropriate compiler flags.\n",
            "2023-03-10 10:29:08.697142: I tensorflow/core/util/port.cc:104] oneDNN custom operations are on. You may see slightly different numerical results due to floating-point round-off errors from different computation orders. To turn them off, set the environment variable `TF_ENABLE_ONEDNN_OPTS=0`.\n",
            "2023-03-10 10:29:09.647085: W tensorflow/compiler/xla/stream_executor/platform/default/dso_loader.cc:64] Could not load dynamic library 'libnvinfer.so.7'; dlerror: libnvinfer.so.7: cannot open shared object file: No such file or directory; LD_LIBRARY_PATH: /usr/lib64-nvidia\n",
            "2023-03-10 10:29:09.647201: W tensorflow/compiler/xla/stream_executor/platform/default/dso_loader.cc:64] Could not load dynamic library 'libnvinfer_plugin.so.7'; dlerror: libnvinfer_plugin.so.7: cannot open shared object file: No such file or directory; LD_LIBRARY_PATH: /usr/lib64-nvidia\n",
            "2023-03-10 10:29:09.647225: W tensorflow/compiler/tf2tensorrt/utils/py_utils.cc:38] TF-TRT Warning: Cannot dlopen some TensorRT libraries. If you would like to use Nvidia GPU with TensorRT, please make sure the missing libraries mentioned above are installed properly.\n",
            "CKA for distilgpt2\n",
            "Loading  model...\n",
            "Downloading (…)lve/main/config.json: 100% 762/762 [00:00<00:00, 111kB/s]\n",
            "Downloading (…)olve/main/vocab.json: 100% 1.04M/1.04M [00:01<00:00, 936kB/s]\n",
            "Downloading (…)olve/main/merges.txt: 100% 456k/456k [00:00<00:00, 514kB/s]\n",
            "Downloading (…)/main/tokenizer.json: 100% 1.36M/1.36M [00:01<00:00, 1.00MB/s]\n",
            "Downloading pytorch_model.bin: 100% 353M/353M [00:02<00:00, 143MB/s]\n",
            "\n",
            "===================================BUG REPORT===================================\n",
            "Welcome to bitsandbytes. For bug reports, please submit your error trace to: https://github.com/TimDettmers/bitsandbytes/issues\n",
            "================================================================================\n",
            "Downloading (…)neration_config.json: 100% 124/124 [00:00<00:00, 45.2kB/s]\n",
            "Running comparisons...\n",
            "Done\n",
            "\n",
            "CKA for gpt2\n",
            "Loading  model...\n",
            "Downloading (…)lve/main/config.json: 100% 665/665 [00:00<00:00, 114kB/s]\n",
            "Downloading (…)olve/main/vocab.json: 100% 1.04M/1.04M [00:01<00:00, 938kB/s]\n",
            "Downloading (…)olve/main/merges.txt: 100% 456k/456k [00:00<00:00, 515kB/s]\n",
            "Downloading (…)/main/tokenizer.json: 100% 1.36M/1.36M [00:01<00:00, 1.22MB/s]\n",
            "Downloading pytorch_model.bin: 100% 548M/548M [00:03<00:00, 158MB/s]\n",
            "Downloading (…)neration_config.json: 100% 124/124 [00:00<00:00, 46.3kB/s]\n",
            "Running comparisons...\n",
            "Done\n",
            "\n",
            "CKA for gpt2-medium\n",
            "Loading  model...\n",
            "Downloading (…)lve/main/config.json: 100% 718/718 [00:00<00:00, 262kB/s]\n",
            "Downloading (…)olve/main/vocab.json: 100% 1.04M/1.04M [00:01<00:00, 937kB/s]\n",
            "Downloading (…)olve/main/merges.txt: 100% 456k/456k [00:00<00:00, 510kB/s]\n",
            "Downloading (…)/main/tokenizer.json: 100% 1.36M/1.36M [00:01<00:00, 1.02MB/s]\n",
            "Downloading pytorch_model.bin: 100% 1.52G/1.52G [00:24<00:00, 60.9MB/s]\n",
            "Downloading (…)neration_config.json: 100% 124/124 [00:00<00:00, 41.8kB/s]\n",
            "Running comparisons...\n",
            "Done\n",
            "\n",
            "CKA for gpt2-large\n",
            "Loading  model...\n",
            "Downloading (…)lve/main/config.json: 100% 666/666 [00:00<00:00, 237kB/s]\n",
            "Downloading (…)olve/main/vocab.json: 100% 1.04M/1.04M [00:01<00:00, 937kB/s]\n",
            "Downloading (…)olve/main/merges.txt: 100% 456k/456k [00:00<00:00, 512kB/s]\n",
            "Downloading (…)/main/tokenizer.json: 100% 1.36M/1.36M [00:01<00:00, 1.22MB/s]\n",
            "Downloading pytorch_model.bin: 100% 3.25G/3.25G [00:34<00:00, 93.5MB/s]\n",
            "Downloading (…)neration_config.json: 100% 124/124 [00:00<00:00, 44.2kB/s]\n",
            "Running comparisons...\n",
            "Done\n",
            "\n",
            "CKA for gpt2-xl\n",
            "Loading  model...\n",
            "Downloading (…)lve/main/config.json: 100% 689/689 [00:00<00:00, 216kB/s]\n",
            "Downloading (…)olve/main/vocab.json: 100% 1.04M/1.04M [00:01<00:00, 935kB/s]\n",
            "Downloading (…)olve/main/merges.txt: 100% 456k/456k [00:00<00:00, 509kB/s]\n",
            "Downloading (…)/main/tokenizer.json: 100% 1.36M/1.36M [00:01<00:00, 1.02MB/s]\n",
            "Downloading pytorch_model.bin: 100% 6.43G/6.43G [00:39<00:00, 165MB/s]\n",
            "Downloading (…)neration_config.json: 100% 124/124 [00:00<00:00, 40.4kB/s]\n",
            "Running comparisons...\n",
            "Done\n",
            "\n",
            "\n",
            "Score dict full:\n",
            "{'distilgpt2': [{\"The 2020 Olympics were held in ['Tokyo', 'London']\": {'p_true': 0.01055, 'p_false': 0.04730224609375, 'p_true - p_false': -0.03675079345703125, 'p_true > p_false': False}}, {\"The 2020 Olympics were held in ['Tokyo', 'Berlin']\": {'p_true': 0.01055, 'p_false': 0.006011962890625, 'p_true - p_false': 0.00453948974609375, 'p_true > p_false': True}}, {\"The 2020 Olympics were held in ['Tokyo', 'Chicago']\": {'p_true': 0.01055, 'p_false': 0.0015201568603515625, 'p_true - p_false': 0.009031295776367188, 'p_true > p_false': True}}, {\"Operation Overlord took place in ['Normandy', 'Manila']\": {'p_true': 0.0007367, 'p_false': 0.0001983642578125, 'p_true - p_false': 0.0005383491516113281, 'p_true > p_false': True}}, {\"Operation Overlord took place in ['Normandy', 'Santiago']\": {'p_true': 0.0007367, 'p_false': 6.854534149169922e-05, 'p_true - p_false': 0.0006681680679321289, 'p_true > p_false': True}}, {\"Operation Overlord took place in ['Normandy', 'Baghdad']\": {'p_true': 0.0007367, 'p_false': 0.00027108192443847656, 'p_true - p_false': 0.00046563148498535156, 'p_true > p_false': True}}, {\"Steve Jobs is the founder of ['Apple', 'Microsoft']\": {'p_true': 0.01398, 'p_false': 0.01195526123046875, 'p_true - p_false': 0.00202178955078125, 'p_true > p_false': True}}, {\"Steve Jobs is the founder of ['Apple', 'Oracle']\": {'p_true': 0.01398, 'p_false': 0.001617431640625, 'p_true - p_false': 0.012359619140625, 'p_true > p_false': True}}, {\"Steve Jobs is the founder of ['Apple', 'Intel']\": {'p_true': 0.01398, 'p_false': 0.004261016845703125, 'p_true - p_false': 0.009716033935546875, 'p_true > p_false': True}}], 'gpt2': [{\"The 2020 Olympics were held in ['Tokyo', 'London']\": {'p_true': 0.02582, 'p_false': 0.07470703125, 'p_true - p_false': -0.04888916015625, 'p_true > p_false': False}}, {\"The 2020 Olympics were held in ['Tokyo', 'Berlin']\": {'p_true': 0.02582, 'p_false': 0.005764007568359375, 'p_true - p_false': 0.020053863525390625, 'p_true > p_false': True}}, {\"The 2020 Olympics were held in ['Tokyo', 'Chicago']\": {'p_true': 0.02582, 'p_false': 0.0012073516845703125, 'p_true - p_false': 0.024610519409179688, 'p_true > p_false': True}}, {\"Operation Overlord took place in ['Normandy', 'Manila']\": {'p_true': 0.0004587, 'p_false': 0.00015854835510253906, 'p_true - p_false': 0.0003001689910888672, 'p_true > p_false': True}}, {\"Operation Overlord took place in ['Normandy', 'Santiago']\": {'p_true': 0.0004587, 'p_false': 4.5418739318847656e-05, 'p_true - p_false': 0.0004132986068725586, 'p_true > p_false': True}}, {\"Operation Overlord took place in ['Normandy', 'Baghdad']\": {'p_true': 0.0004587, 'p_false': 0.0007104873657226562, 'p_true - p_false': -0.00025177001953125, 'p_true > p_false': False}}, {\"Steve Jobs is the founder of ['Apple', 'Microsoft']\": {'p_true': 0.2382, 'p_false': 0.060211181640625, 'p_true - p_false': 0.177947998046875, 'p_true > p_false': True}}, {\"Steve Jobs is the founder of ['Apple', 'Oracle']\": {'p_true': 0.2382, 'p_false': 0.00409698486328125, 'p_true - p_false': 0.23406219482421875, 'p_true > p_false': True}}, {\"Steve Jobs is the founder of ['Apple', 'Intel']\": {'p_true': 0.2382, 'p_false': 0.01262664794921875, 'p_true - p_false': 0.22553253173828125, 'p_true > p_false': True}}], 'gpt2-medium': [{\"The 2020 Olympics were held in ['Tokyo', 'London']\": {'p_true': 0.1772, 'p_false': 0.054046630859375, 'p_true - p_false': 0.123199462890625, 'p_true > p_false': True}}, {\"The 2020 Olympics were held in ['Tokyo', 'Berlin']\": {'p_true': 0.1772, 'p_false': 0.00502777099609375, 'p_true - p_false': 0.17221832275390625, 'p_true > p_false': True}}, {\"The 2020 Olympics were held in ['Tokyo', 'Chicago']\": {'p_true': 0.1772, 'p_false': 0.000873565673828125, 'p_true - p_false': 0.17637252807617188, 'p_true > p_false': True}}, {\"Operation Overlord took place in ['Normandy', 'Manila']\": {'p_true': 0.0002395, 'p_false': 3.24249267578125e-05, 'p_true - p_false': 0.00020706653594970703, 'p_true > p_false': True}}, {\"Operation Overlord took place in ['Normandy', 'Santiago']\": {'p_true': 0.0002395, 'p_false': 1.531839370727539e-05, 'p_true - p_false': 0.00022417306900024414, 'p_true > p_false': True}}, {\"Operation Overlord took place in ['Normandy', 'Baghdad']\": {'p_true': 0.0002395, 'p_false': 6.443262100219727e-05, 'p_true - p_false': 0.00017505884170532227, 'p_true > p_false': True}}, {\"Steve Jobs is the founder of ['Apple', 'Microsoft']\": {'p_true': 0.9307, 'p_false': 0.001056671142578125, 'p_true - p_false': 0.9296073913574219, 'p_true > p_false': True}}, {\"Steve Jobs is the founder of ['Apple', 'Oracle']\": {'p_true': 0.9307, 'p_false': 0.00017249584197998047, 'p_true - p_false': 0.93049156665802, 'p_true > p_false': True}}, {\"Steve Jobs is the founder of ['Apple', 'Intel']\": {'p_true': 0.9307, 'p_false': 0.0011243820190429688, 'p_true - p_false': 0.929539680480957, 'p_true > p_false': True}}], 'gpt2-large': [{\"The 2020 Olympics were held in ['Tokyo', 'London']\": {'p_true': 0.54, 'p_false': 0.058746337890625, 'p_true - p_false': 0.481292724609375, 'p_true > p_false': True}}, {\"The 2020 Olympics were held in ['Tokyo', 'Berlin']\": {'p_true': 0.54, 'p_false': 0.00537872314453125, 'p_true - p_false': 0.5346603393554688, 'p_true > p_false': True}}, {\"The 2020 Olympics were held in ['Tokyo', 'Chicago']\": {'p_true': 0.54, 'p_false': 0.0006890296936035156, 'p_true - p_false': 0.5393500328063965, 'p_true > p_false': True}}, {\"Operation Overlord took place in ['Normandy', 'Manila']\": {'p_true': 0.000504, 'p_false': 0.00010716915130615234, 'p_true - p_false': 0.0003968477249145508, 'p_true > p_false': True}}, {\"Operation Overlord took place in ['Normandy', 'Santiago']\": {'p_true': 0.000504, 'p_false': 4.369020462036133e-05, 'p_true - p_false': 0.0004603266716003418, 'p_true > p_false': True}}, {\"Operation Overlord took place in ['Normandy', 'Baghdad']\": {'p_true': 0.000504, 'p_false': 0.00022113323211669922, 'p_true - p_false': 0.0002828836441040039, 'p_true > p_false': True}}, {\"Steve Jobs is the founder of ['Apple', 'Microsoft']\": {'p_true': 0.753, 'p_false': 0.0009946823120117188, 'p_true - p_false': 0.7519350051879883, 'p_true > p_false': True}}, {\"Steve Jobs is the founder of ['Apple', 'Oracle']\": {'p_true': 0.753, 'p_false': 1.055002212524414e-05, 'p_true - p_false': 0.7529191374778748, 'p_true > p_false': True}}, {\"Steve Jobs is the founder of ['Apple', 'Intel']\": {'p_true': 0.753, 'p_false': 0.0007166862487792969, 'p_true - p_false': 0.7522130012512207, 'p_true > p_false': True}}], 'gpt2-xl': [{\"The 2020 Olympics were held in ['Tokyo', 'London']\": {'p_true': 0.3728, 'p_false': 0.01491546630859375, 'p_true - p_false': 0.35788726806640625, 'p_true > p_false': True}}, {\"The 2020 Olympics were held in ['Tokyo', 'Berlin']\": {'p_true': 0.3728, 'p_false': 0.0006923675537109375, 'p_true - p_false': 0.37211036682128906, 'p_true > p_false': True}}, {\"The 2020 Olympics were held in ['Tokyo', 'Chicago']\": {'p_true': 0.3728, 'p_false': 0.0008187294006347656, 'p_true - p_false': 0.37198400497436523, 'p_true > p_false': True}}, {\"Operation Overlord took place in ['Normandy', 'Manila']\": {'p_true': 0.0009227, 'p_false': 2.5153160095214844e-05, 'p_true - p_false': 0.000897526741027832, 'p_true > p_false': True}}, {\"Operation Overlord took place in ['Normandy', 'Santiago']\": {'p_true': 0.0009227, 'p_false': 4.351139068603516e-06, 'p_true - p_false': 0.0009183287620544434, 'p_true > p_false': True}}, {\"Operation Overlord took place in ['Normandy', 'Baghdad']\": {'p_true': 0.0009227, 'p_false': 5.316734313964844e-05, 'p_true - p_false': 0.0008695125579833984, 'p_true > p_false': True}}, {\"Steve Jobs is the founder of ['Apple', 'Microsoft']\": {'p_true': 0.8247, 'p_false': 0.0010004043579101562, 'p_true - p_false': 0.8237066268920898, 'p_true > p_false': True}}, {\"Steve Jobs is the founder of ['Apple', 'Oracle']\": {'p_true': 0.8247, 'p_false': 2.5331974029541016e-05, 'p_true - p_false': 0.8246816992759705, 'p_true > p_false': True}}, {\"Steve Jobs is the founder of ['Apple', 'Intel']\": {'p_true': 0.8247, 'p_false': 0.0014667510986328125, 'p_true - p_false': 0.8232402801513672, 'p_true > p_false': True}}]}\n",
            "\n",
            "Score dict succinct:\n",
            "{'distilgpt2': [{\"The 2020 Olympics were held in ['Tokyo', 'London']\": {'p_true > p_false': False}}, {\"The 2020 Olympics were held in ['Tokyo', 'Berlin']\": {'p_true > p_false': True}}, {\"The 2020 Olympics were held in ['Tokyo', 'Chicago']\": {'p_true > p_false': True}}, {\"Operation Overlord took place in ['Normandy', 'Manila']\": {'p_true > p_false': True}}, {\"Operation Overlord took place in ['Normandy', 'Santiago']\": {'p_true > p_false': True}}, {\"Operation Overlord took place in ['Normandy', 'Baghdad']\": {'p_true > p_false': True}}, {\"Steve Jobs is the founder of ['Apple', 'Microsoft']\": {'p_true > p_false': True}}, {\"Steve Jobs is the founder of ['Apple', 'Oracle']\": {'p_true > p_false': True}}, {\"Steve Jobs is the founder of ['Apple', 'Intel']\": {'p_true > p_false': True}}], 'gpt2': [{\"The 2020 Olympics were held in ['Tokyo', 'London']\": {'p_true > p_false': False}}, {\"The 2020 Olympics were held in ['Tokyo', 'Berlin']\": {'p_true > p_false': True}}, {\"The 2020 Olympics were held in ['Tokyo', 'Chicago']\": {'p_true > p_false': True}}, {\"Operation Overlord took place in ['Normandy', 'Manila']\": {'p_true > p_false': True}}, {\"Operation Overlord took place in ['Normandy', 'Santiago']\": {'p_true > p_false': True}}, {\"Operation Overlord took place in ['Normandy', 'Baghdad']\": {'p_true > p_false': False}}, {\"Steve Jobs is the founder of ['Apple', 'Microsoft']\": {'p_true > p_false': True}}, {\"Steve Jobs is the founder of ['Apple', 'Oracle']\": {'p_true > p_false': True}}, {\"Steve Jobs is the founder of ['Apple', 'Intel']\": {'p_true > p_false': True}}], 'gpt2-medium': [{\"The 2020 Olympics were held in ['Tokyo', 'London']\": {'p_true > p_false': True}}, {\"The 2020 Olympics were held in ['Tokyo', 'Berlin']\": {'p_true > p_false': True}}, {\"The 2020 Olympics were held in ['Tokyo', 'Chicago']\": {'p_true > p_false': True}}, {\"Operation Overlord took place in ['Normandy', 'Manila']\": {'p_true > p_false': True}}, {\"Operation Overlord took place in ['Normandy', 'Santiago']\": {'p_true > p_false': True}}, {\"Operation Overlord took place in ['Normandy', 'Baghdad']\": {'p_true > p_false': True}}, {\"Steve Jobs is the founder of ['Apple', 'Microsoft']\": {'p_true > p_false': True}}, {\"Steve Jobs is the founder of ['Apple', 'Oracle']\": {'p_true > p_false': True}}, {\"Steve Jobs is the founder of ['Apple', 'Intel']\": {'p_true > p_false': True}}], 'gpt2-large': [{\"The 2020 Olympics were held in ['Tokyo', 'London']\": {'p_true > p_false': True}}, {\"The 2020 Olympics were held in ['Tokyo', 'Berlin']\": {'p_true > p_false': True}}, {\"The 2020 Olympics were held in ['Tokyo', 'Chicago']\": {'p_true > p_false': True}}, {\"Operation Overlord took place in ['Normandy', 'Manila']\": {'p_true > p_false': True}}, {\"Operation Overlord took place in ['Normandy', 'Santiago']\": {'p_true > p_false': True}}, {\"Operation Overlord took place in ['Normandy', 'Baghdad']\": {'p_true > p_false': True}}, {\"Steve Jobs is the founder of ['Apple', 'Microsoft']\": {'p_true > p_false': True}}, {\"Steve Jobs is the founder of ['Apple', 'Oracle']\": {'p_true > p_false': True}}, {\"Steve Jobs is the founder of ['Apple', 'Intel']\": {'p_true > p_false': True}}], 'gpt2-xl': [{\"The 2020 Olympics were held in ['Tokyo', 'London']\": {'p_true > p_false': True}}, {\"The 2020 Olympics were held in ['Tokyo', 'Berlin']\": {'p_true > p_false': True}}, {\"The 2020 Olympics were held in ['Tokyo', 'Chicago']\": {'p_true > p_false': True}}, {\"Operation Overlord took place in ['Normandy', 'Manila']\": {'p_true > p_false': True}}, {\"Operation Overlord took place in ['Normandy', 'Santiago']\": {'p_true > p_false': True}}, {\"Operation Overlord took place in ['Normandy', 'Baghdad']\": {'p_true > p_false': True}}, {\"Steve Jobs is the founder of ['Apple', 'Microsoft']\": {'p_true > p_false': True}}, {\"Steve Jobs is the founder of ['Apple', 'Oracle']\": {'p_true > p_false': True}}, {\"Steve Jobs is the founder of ['Apple', 'Intel']\": {'p_true > p_false': True}}]}\n",
            "\n",
            "Score dict summary:\n",
            "{'distilgpt2': 'This model got 8/9 facts correct', 'gpt2': 'This model got 7/9 facts correct', 'gpt2-medium': 'This model got 9/9 facts correct', 'gpt2-large': 'This model got 9/9 facts correct', 'gpt2-xl': 'This model got 9/9 facts correct'}\n"
          ]
        }
      ],
      "source": [
        "!python run_cka.py configs.gpt2_v0"
      ]
    },
    {
      "cell_type": "code",
      "execution_count": null,
      "metadata": {
        "colab": {
          "base_uri": "https://localhost:8080/"
        },
        "id": "AvAcClqXEtgB",
        "outputId": "ffacbad8-ce67-4bd7-d38e-15b6c000efe5"
      },
      "outputs": [
        {
          "output_type": "stream",
          "name": "stdout",
          "text": [
            "2023-03-10 10:34:49.832512: I tensorflow/core/platform/cpu_feature_guard.cc:193] This TensorFlow binary is optimized with oneAPI Deep Neural Network Library (oneDNN) to use the following CPU instructions in performance-critical operations:  AVX2 AVX512F AVX512_VNNI FMA\n",
            "To enable them in other operations, rebuild TensorFlow with the appropriate compiler flags.\n",
            "2023-03-10 10:34:49.964307: I tensorflow/core/util/port.cc:104] oneDNN custom operations are on. You may see slightly different numerical results due to floating-point round-off errors from different computation orders. To turn them off, set the environment variable `TF_ENABLE_ONEDNN_OPTS=0`.\n",
            "2023-03-10 10:34:50.703496: W tensorflow/compiler/xla/stream_executor/platform/default/dso_loader.cc:64] Could not load dynamic library 'libnvinfer.so.7'; dlerror: libnvinfer.so.7: cannot open shared object file: No such file or directory; LD_LIBRARY_PATH: /usr/lib64-nvidia\n",
            "2023-03-10 10:34:50.703616: W tensorflow/compiler/xla/stream_executor/platform/default/dso_loader.cc:64] Could not load dynamic library 'libnvinfer_plugin.so.7'; dlerror: libnvinfer_plugin.so.7: cannot open shared object file: No such file or directory; LD_LIBRARY_PATH: /usr/lib64-nvidia\n",
            "2023-03-10 10:34:50.703644: W tensorflow/compiler/tf2tensorrt/utils/py_utils.cc:38] TF-TRT Warning: Cannot dlopen some TensorRT libraries. If you would like to use Nvidia GPU with TensorRT, please make sure the missing libraries mentioned above are installed properly.\n",
            "CKA for google/bert_uncased_L-2_H-128_A-2\n",
            "Loading  model...\n",
            "Downloading (…)lve/main/config.json: 100% 382/382 [00:00<00:00, 53.0kB/s]\n",
            "Downloading (…)solve/main/vocab.txt: 100% 232k/232k [00:00<00:00, 345kB/s]\n",
            "Downloading pytorch_model.bin: 100% 17.7M/17.7M [00:00<00:00, 67.9MB/s]\n",
            "Some weights of the model checkpoint at google/bert_uncased_L-2_H-128_A-2 were not used when initializing BertForMaskedLM: ['cls.seq_relationship.bias', 'cls.seq_relationship.weight']\n",
            "- This IS expected if you are initializing BertForMaskedLM from the checkpoint of a model trained on another task or with another architecture (e.g. initializing a BertForSequenceClassification model from a BertForPreTraining model).\n",
            "- This IS NOT expected if you are initializing BertForMaskedLM from the checkpoint of a model that you expect to be exactly identical (initializing a BertForSequenceClassification model from a BertForSequenceClassification model).\n",
            "Running comparisons...\n",
            "Done\n",
            "\n",
            "CKA for google/bert_uncased_L-4_H-256_A-4\n",
            "Loading  model...\n",
            "Downloading (…)lve/main/config.json: 100% 383/383 [00:00<00:00, 62.0kB/s]\n",
            "Downloading (…)solve/main/vocab.txt: 100% 232k/232k [00:00<00:00, 347kB/s]\n",
            "Downloading pytorch_model.bin: 100% 45.1M/45.1M [00:00<00:00, 251MB/s]\n",
            "Some weights of the model checkpoint at google/bert_uncased_L-4_H-256_A-4 were not used when initializing BertForMaskedLM: ['cls.seq_relationship.bias', 'cls.seq_relationship.weight']\n",
            "- This IS expected if you are initializing BertForMaskedLM from the checkpoint of a model trained on another task or with another architecture (e.g. initializing a BertForSequenceClassification model from a BertForPreTraining model).\n",
            "- This IS NOT expected if you are initializing BertForMaskedLM from the checkpoint of a model that you expect to be exactly identical (initializing a BertForSequenceClassification model from a BertForSequenceClassification model).\n",
            "Running comparisons...\n",
            "Done\n",
            "\n",
            "CKA for google/bert_uncased_L-4_H-512_A-8\n",
            "Loading  model...\n",
            "Downloading (…)lve/main/config.json: 100% 383/383 [00:00<00:00, 57.8kB/s]\n",
            "Downloading (…)solve/main/vocab.txt: 100% 232k/232k [00:00<00:00, 345kB/s]\n",
            "Downloading pytorch_model.bin: 100% 116M/116M [00:00<00:00, 257MB/s] \n",
            "Some weights of the model checkpoint at google/bert_uncased_L-4_H-512_A-8 were not used when initializing BertForMaskedLM: ['cls.seq_relationship.bias', 'cls.seq_relationship.weight']\n",
            "- This IS expected if you are initializing BertForMaskedLM from the checkpoint of a model trained on another task or with another architecture (e.g. initializing a BertForSequenceClassification model from a BertForPreTraining model).\n",
            "- This IS NOT expected if you are initializing BertForMaskedLM from the checkpoint of a model that you expect to be exactly identical (initializing a BertForSequenceClassification model from a BertForSequenceClassification model).\n",
            "Running comparisons...\n",
            "Done\n",
            "\n",
            "CKA for google/bert_uncased_L-8_H-512_A-8\n",
            "Loading  model...\n",
            "Downloading (…)lve/main/config.json: 100% 383/383 [00:00<00:00, 55.9kB/s]\n",
            "Downloading (…)solve/main/vocab.txt: 100% 232k/232k [00:00<00:00, 347kB/s]\n",
            "Downloading pytorch_model.bin: 100% 167M/167M [00:00<00:00, 232MB/s]\n",
            "Some weights of the model checkpoint at google/bert_uncased_L-8_H-512_A-8 were not used when initializing BertForMaskedLM: ['cls.seq_relationship.bias', 'cls.seq_relationship.weight']\n",
            "- This IS expected if you are initializing BertForMaskedLM from the checkpoint of a model trained on another task or with another architecture (e.g. initializing a BertForSequenceClassification model from a BertForPreTraining model).\n",
            "- This IS NOT expected if you are initializing BertForMaskedLM from the checkpoint of a model that you expect to be exactly identical (initializing a BertForSequenceClassification model from a BertForSequenceClassification model).\n",
            "Running comparisons...\n",
            "Done\n",
            "\n",
            "CKA for distilbert-base-uncased\n",
            "Loading  model...\n",
            "Downloading (…)okenizer_config.json: 100% 28.0/28.0 [00:00<00:00, 2.04kB/s]\n",
            "Downloading (…)lve/main/config.json: 100% 483/483 [00:00<00:00, 73.1kB/s]\n",
            "Downloading (…)solve/main/vocab.txt: 100% 232k/232k [00:00<00:00, 348kB/s]\n",
            "Downloading (…)/main/tokenizer.json: 100% 466k/466k [00:01<00:00, 415kB/s]\n",
            "Downloading pytorch_model.bin: 100% 268M/268M [00:00<00:00, 365MB/s]\n",
            "Running comparisons...\n",
            "Done\n",
            "\n",
            "CKA for bert-base-uncased\n",
            "Loading  model...\n",
            "Downloading (…)okenizer_config.json: 100% 28.0/28.0 [00:00<00:00, 1.79kB/s]\n",
            "Downloading (…)lve/main/config.json: 100% 570/570 [00:00<00:00, 85.2kB/s]\n",
            "Downloading (…)solve/main/vocab.txt: 100% 232k/232k [00:00<00:00, 343kB/s]\n",
            "Downloading (…)/main/tokenizer.json: 100% 466k/466k [00:00<00:00, 521kB/s]\n",
            "Downloading pytorch_model.bin: 100% 440M/440M [00:01<00:00, 340MB/s]\n",
            "Some weights of the model checkpoint at bert-base-uncased were not used when initializing BertForMaskedLM: ['cls.seq_relationship.bias', 'cls.seq_relationship.weight']\n",
            "- This IS expected if you are initializing BertForMaskedLM from the checkpoint of a model trained on another task or with another architecture (e.g. initializing a BertForSequenceClassification model from a BertForPreTraining model).\n",
            "- This IS NOT expected if you are initializing BertForMaskedLM from the checkpoint of a model that you expect to be exactly identical (initializing a BertForSequenceClassification model from a BertForSequenceClassification model).\n",
            "Running comparisons...\n",
            "Done\n",
            "\n",
            "CKA for bert-large-uncased\n",
            "Loading  model...\n",
            "Downloading (…)okenizer_config.json: 100% 28.0/28.0 [00:00<00:00, 1.03kB/s]\n",
            "Downloading (…)lve/main/config.json: 100% 571/571 [00:00<00:00, 86.0kB/s]\n",
            "Downloading (…)solve/main/vocab.txt: 100% 232k/232k [00:00<00:00, 347kB/s]\n",
            "Downloading (…)/main/tokenizer.json: 100% 466k/466k [00:00<00:00, 520kB/s]\n",
            "Downloading pytorch_model.bin: 100% 1.34G/1.34G [00:16<00:00, 79.9MB/s]\n",
            "Some weights of the model checkpoint at bert-large-uncased were not used when initializing BertForMaskedLM: ['cls.seq_relationship.bias', 'cls.seq_relationship.weight']\n",
            "- This IS expected if you are initializing BertForMaskedLM from the checkpoint of a model trained on another task or with another architecture (e.g. initializing a BertForSequenceClassification model from a BertForPreTraining model).\n",
            "- This IS NOT expected if you are initializing BertForMaskedLM from the checkpoint of a model that you expect to be exactly identical (initializing a BertForSequenceClassification model from a BertForSequenceClassification model).\n",
            "Running comparisons...\n",
            "Done\n",
            "\n",
            "\n",
            "Score dict full:\n",
            "{'google/bert_uncased_l-2_h-128_a-2': [{\"The 2020 Olympics were held in [MASK]. ['Tokyo', 'London']\": {'p_true': 0.00196, 'p_false': 0.0017642974853515625, 'p_true - p_false': 0.0001964569091796875, 'p_true > p_false': True}}, {\"The 2020 Olympics were held in [MASK]. ['Tokyo', 'Berlin']\": {'p_true': 0.00196, 'p_false': 0.004199981689453125, 'p_true - p_false': -0.002239227294921875, 'p_true > p_false': False}}, {\"The 2020 Olympics were held in [MASK]. ['Tokyo', 'Chicago']\": {'p_true': 0.00196, 'p_false': 9.799003601074219e-05, 'p_true - p_false': 0.0018627643585205078, 'p_true > p_false': True}}, {\"Operation Overlord took place in [MASK]. ['Normandy', 'Manila']\": {'p_true': 0.002722, 'p_false': 0.0004372596740722656, 'p_true - p_false': 0.002284526824951172, 'p_true > p_false': True}}, {\"Operation Overlord took place in [MASK]. ['Normandy', 'Santiago']\": {'p_true': 0.002722, 'p_false': 6.73532485961914e-05, 'p_true - p_false': 0.002654433250427246, 'p_true > p_false': True}}, {\"Operation Overlord took place in [MASK]. ['Normandy', 'Baghdad']\": {'p_true': 0.002722, 'p_false': 0.0009479522705078125, 'p_true - p_false': 0.001773834228515625, 'p_true > p_false': True}}, {\"Steve Jobs is the founder of [MASK]. ['Apple', 'Microsoft']\": {'p_true': 7e-05, 'p_false': 0.00011348724365234375, 'p_true - p_false': -4.3511390686035156e-05, 'p_true > p_false': False}}, {\"Steve Jobs is the founder of [MASK]. ['Apple', 'Oracle']\": {'p_true': 7e-05, 'p_false': 2.491474151611328e-05, 'p_true - p_false': 4.506111145019531e-05, 'p_true > p_false': True}}, {\"Steve Jobs is the founder of [MASK]. ['Apple', 'Intel']\": {'p_true': 7e-05, 'p_false': 7.68899917602539e-06, 'p_true - p_false': 6.22868537902832e-05, 'p_true > p_false': True}}], 'google/bert_uncased_l-4_h-256_a-4': [{\"The 2020 Olympics were held in [MASK]. ['Tokyo', 'London']\": {'p_true': 0.01964, 'p_false': 0.0204315185546875, 'p_true - p_false': -0.00079345703125, 'p_true > p_false': False}}, {\"The 2020 Olympics were held in [MASK]. ['Tokyo', 'Berlin']\": {'p_true': 0.01964, 'p_false': 0.07183837890625, 'p_true - p_false': -0.0522003173828125, 'p_true > p_false': False}}, {\"The 2020 Olympics were held in [MASK]. ['Tokyo', 'Chicago']\": {'p_true': 0.01964, 'p_false': 0.0001436471939086914, 'p_true - p_false': 0.01949441432952881, 'p_true > p_false': True}}, {\"Operation Overlord took place in [MASK]. ['Normandy', 'Manila']\": {'p_true': 0.0007453, 'p_false': 0.0006132125854492188, 'p_true - p_false': 0.00013208389282226562, 'p_true > p_false': True}}, {\"Operation Overlord took place in [MASK]. ['Normandy', 'Santiago']\": {'p_true': 0.0007453, 'p_false': 0.00022554397583007812, 'p_true - p_false': 0.0005197525024414062, 'p_true > p_false': True}}, {\"Operation Overlord took place in [MASK]. ['Normandy', 'Baghdad']\": {'p_true': 0.0007453, 'p_false': 0.00045013427734375, 'p_true - p_false': 0.0002951622009277344, 'p_true > p_false': True}}, {\"Steve Jobs is the founder of [MASK]. ['Apple', 'Microsoft']\": {'p_true': 0.0002391, 'p_false': 0.0020618438720703125, 'p_true - p_false': -0.0018227100372314453, 'p_true > p_false': False}}, {\"Steve Jobs is the founder of [MASK]. ['Apple', 'Oracle']\": {'p_true': 0.0002391, 'p_false': 5.882978439331055e-05, 'p_true - p_false': 0.00018030405044555664, 'p_true > p_false': True}}, {\"Steve Jobs is the founder of [MASK]. ['Apple', 'Intel']\": {'p_true': 0.0002391, 'p_false': 0.0002472400665283203, 'p_true - p_false': -8.106231689453125e-06, 'p_true > p_false': False}}], 'google/bert_uncased_l-4_h-512_a-8': [{\"The 2020 Olympics were held in [MASK]. ['Tokyo', 'London']\": {'p_true': 0.04623, 'p_false': 0.061737060546875, 'p_true - p_false': -0.0155029296875, 'p_true > p_false': False}}, {\"The 2020 Olympics were held in [MASK]. ['Tokyo', 'Berlin']\": {'p_true': 0.04623, 'p_false': 0.05755615234375, 'p_true - p_false': -0.011322021484375, 'p_true > p_false': False}}, {\"The 2020 Olympics were held in [MASK]. ['Tokyo', 'Chicago']\": {'p_true': 0.04623, 'p_false': 0.00103759765625, 'p_true - p_false': 0.045196533203125, 'p_true > p_false': True}}, {\"Operation Overlord took place in [MASK]. ['Normandy', 'Manila']\": {'p_true': 0.001323, 'p_false': 0.0006914138793945312, 'p_true - p_false': 0.0006313323974609375, 'p_true > p_false': True}}, {\"Operation Overlord took place in [MASK]. ['Normandy', 'Santiago']\": {'p_true': 0.001323, 'p_false': 0.00010156631469726562, 'p_true - p_false': 0.0012211799621582031, 'p_true > p_false': True}}, {\"Operation Overlord took place in [MASK]. ['Normandy', 'Baghdad']\": {'p_true': 0.001323, 'p_false': 0.0006008148193359375, 'p_true - p_false': 0.0007219314575195312, 'p_true > p_false': True}}, {\"Steve Jobs is the founder of [MASK]. ['Apple', 'Microsoft']\": {'p_true': 0.00412, 'p_false': 0.0115509033203125, 'p_true - p_false': -0.0074310302734375, 'p_true > p_false': False}}, {\"Steve Jobs is the founder of [MASK]. ['Apple', 'Oracle']\": {'p_true': 0.00412, 'p_false': 0.00038909912109375, 'p_true - p_false': 0.00373077392578125, 'p_true > p_false': True}}, {\"Steve Jobs is the founder of [MASK]. ['Apple', 'Intel']\": {'p_true': 0.00412, 'p_false': 0.003749847412109375, 'p_true - p_false': 0.000370025634765625, 'p_true > p_false': True}}], 'google/bert_uncased_l-8_h-512_a-8': [{\"The 2020 Olympics were held in [MASK]. ['Tokyo', 'London']\": {'p_true': 0.1456, 'p_false': 0.11517333984375, 'p_true - p_false': 0.03045654296875, 'p_true > p_false': True}}, {\"The 2020 Olympics were held in [MASK]. ['Tokyo', 'Berlin']\": {'p_true': 0.1456, 'p_false': 0.0169830322265625, 'p_true - p_false': 0.1286468505859375, 'p_true > p_false': True}}, {\"The 2020 Olympics were held in [MASK]. ['Tokyo', 'Chicago']\": {'p_true': 0.1456, 'p_false': 0.005100250244140625, 'p_true - p_false': 0.14052963256835938, 'p_true > p_false': True}}, {\"Operation Overlord took place in [MASK]. ['Normandy', 'Manila']\": {'p_true': 0.011345, 'p_false': 2.086162567138672e-06, 'p_true - p_false': 0.011342823505401611, 'p_true > p_false': True}}, {\"Operation Overlord took place in [MASK]. ['Normandy', 'Santiago']\": {'p_true': 0.011345, 'p_false': 5.364418029785156e-06, 'p_true - p_false': 0.011339545249938965, 'p_true > p_false': True}}, {\"Operation Overlord took place in [MASK]. ['Normandy', 'Baghdad']\": {'p_true': 0.011345, 'p_false': 0.00013267993927001953, 'p_true - p_false': 0.01121222972869873, 'p_true > p_false': True}}, {\"Steve Jobs is the founder of [MASK]. ['Apple', 'Microsoft']\": {'p_true': 0.001446, 'p_false': 0.004833221435546875, 'p_true - p_false': -0.003387451171875, 'p_true > p_false': False}}, {\"Steve Jobs is the founder of [MASK]. ['Apple', 'Oracle']\": {'p_true': 0.001446, 'p_false': 0.0005955696105957031, 'p_true - p_false': 0.0008502006530761719, 'p_true > p_false': True}}, {\"Steve Jobs is the founder of [MASK]. ['Apple', 'Intel']\": {'p_true': 0.001446, 'p_false': 0.0007114410400390625, 'p_true - p_false': 0.0007343292236328125, 'p_true > p_false': True}}], 'distilbert-base-uncased': [{\"The 2020 Olympics were held in [MASK]. ['Tokyo', 'London']\": {'p_true': 0.2659, 'p_false': 0.007427215576171875, 'p_true - p_false': 0.2584419250488281, 'p_true > p_false': True}}, {\"The 2020 Olympics were held in [MASK]. ['Tokyo', 'Berlin']\": {'p_true': 0.2659, 'p_false': 0.00522613525390625, 'p_true - p_false': 0.26064300537109375, 'p_true > p_false': True}}, {\"The 2020 Olympics were held in [MASK]. ['Tokyo', 'Chicago']\": {'p_true': 0.2659, 'p_false': 0.00011235475540161133, 'p_true - p_false': 0.2657567858695984, 'p_true > p_false': True}}, {\"Operation Overlord took place in [MASK]. ['Normandy', 'Manila']\": {'p_true': 0.003582, 'p_false': 2.473592758178711e-05, 'p_true - p_false': 0.003557264804840088, 'p_true > p_false': True}}, {\"Operation Overlord took place in [MASK]. ['Normandy', 'Santiago']\": {'p_true': 0.003582, 'p_false': 1.9311904907226562e-05, 'p_true - p_false': 0.0035626888275146484, 'p_true > p_false': True}}, {\"Operation Overlord took place in [MASK]. ['Normandy', 'Baghdad']\": {'p_true': 0.003582, 'p_false': 0.0003864765167236328, 'p_true - p_false': 0.003195524215698242, 'p_true > p_false': True}}, {\"Steve Jobs is the founder of [MASK]. ['Apple', 'Microsoft']\": {'p_true': 0.0868, 'p_false': 0.053070068359375, 'p_true - p_false': 0.033721923828125, 'p_true > p_false': True}}, {\"Steve Jobs is the founder of [MASK]. ['Apple', 'Oracle']\": {'p_true': 0.0868, 'p_false': 0.0079803466796875, 'p_true - p_false': 0.0788116455078125, 'p_true > p_false': True}}, {\"Steve Jobs is the founder of [MASK]. ['Apple', 'Intel']\": {'p_true': 0.0868, 'p_false': 0.00337982177734375, 'p_true - p_false': 0.08341217041015625, 'p_true > p_false': True}}], 'bert-base-uncased': [{\"The 2020 Olympics were held in [MASK]. ['Tokyo', 'London']\": {'p_true': 0.7124, 'p_false': 0.003948211669921875, 'p_true - p_false': 0.7084541320800781, 'p_true > p_false': True}}, {\"The 2020 Olympics were held in [MASK]. ['Tokyo', 'Berlin']\": {'p_true': 0.7124, 'p_false': 0.0009603500366210938, 'p_true - p_false': 0.7114419937133789, 'p_true > p_false': True}}, {\"The 2020 Olympics were held in [MASK]. ['Tokyo', 'Chicago']\": {'p_true': 0.7124, 'p_false': 2.682209014892578e-05, 'p_true - p_false': 0.7123755216598511, 'p_true > p_false': True}}, {\"Operation Overlord took place in [MASK]. ['Normandy', 'Manila']\": {'p_true': 0.0195, 'p_false': 1.3887882232666016e-05, 'p_true - p_false': 0.019486844539642334, 'p_true > p_false': True}}, {\"Operation Overlord took place in [MASK]. ['Normandy', 'Santiago']\": {'p_true': 0.0195, 'p_false': 7.331371307373047e-06, 'p_true - p_false': 0.019493401050567627, 'p_true > p_false': True}}, {\"Operation Overlord took place in [MASK]. ['Normandy', 'Baghdad']\": {'p_true': 0.0195, 'p_false': 0.0004191398620605469, 'p_true - p_false': 0.019081592559814453, 'p_true > p_false': True}}, {\"Steve Jobs is the founder of [MASK]. ['Apple', 'Microsoft']\": {'p_true': 0.2832, 'p_false': 0.101806640625, 'p_true - p_false': 0.181396484375, 'p_true > p_false': True}}, {\"Steve Jobs is the founder of [MASK]. ['Apple', 'Oracle']\": {'p_true': 0.2832, 'p_false': 0.004558563232421875, 'p_true - p_false': 0.2786445617675781, 'p_true > p_false': True}}, {\"Steve Jobs is the founder of [MASK]. ['Apple', 'Intel']\": {'p_true': 0.2832, 'p_false': 0.0035381317138671875, 'p_true - p_false': 0.2796649932861328, 'p_true > p_false': True}}], 'bert-large-uncased': [{\"The 2020 Olympics were held in [MASK]. ['Tokyo', 'London']\": {'p_true': 0.1373, 'p_false': 0.047821044921875, 'p_true - p_false': 0.089508056640625, 'p_true > p_false': True}}, {\"The 2020 Olympics were held in [MASK]. ['Tokyo', 'Berlin']\": {'p_true': 0.1373, 'p_false': 0.0032291412353515625, 'p_true - p_false': 0.13409996032714844, 'p_true > p_false': True}}, {\"The 2020 Olympics were held in [MASK]. ['Tokyo', 'Chicago']\": {'p_true': 0.1373, 'p_false': 0.0015192031860351562, 'p_true - p_false': 0.13580989837646484, 'p_true > p_false': True}}, {\"Operation Overlord took place in [MASK]. ['Normandy', 'Manila']\": {'p_true': 0.0924, 'p_false': 2.7418136596679688e-06, 'p_true - p_false': 0.09240448474884033, 'p_true > p_false': True}}, {\"Operation Overlord took place in [MASK]. ['Normandy', 'Santiago']\": {'p_true': 0.0924, 'p_false': 2.86102294921875e-06, 'p_true - p_false': 0.09240436553955078, 'p_true > p_false': True}}, {\"Operation Overlord took place in [MASK]. ['Normandy', 'Baghdad']\": {'p_true': 0.0924, 'p_false': 2.6285648345947266e-05, 'p_true - p_false': 0.09238094091415405, 'p_true > p_false': True}}, {\"Steve Jobs is the founder of [MASK]. ['Apple', 'Microsoft']\": {'p_true': 0.2764, 'p_false': 0.026947021484375, 'p_true - p_false': 0.249420166015625, 'p_true > p_false': True}}, {\"Steve Jobs is the founder of [MASK]. ['Apple', 'Oracle']\": {'p_true': 0.2764, 'p_false': 0.0016565322875976562, 'p_true - p_false': 0.27471065521240234, 'p_true > p_false': True}}, {\"Steve Jobs is the founder of [MASK]. ['Apple', 'Intel']\": {'p_true': 0.2764, 'p_false': 0.005390167236328125, 'p_true - p_false': 0.2709770202636719, 'p_true > p_false': True}}]}\n",
            "\n",
            "Score dict succinct:\n",
            "{'google/bert_uncased_l-2_h-128_a-2': [{\"The 2020 Olympics were held in [MASK]. ['Tokyo', 'London']\": {'p_true > p_false': True}}, {\"The 2020 Olympics were held in [MASK]. ['Tokyo', 'Berlin']\": {'p_true > p_false': False}}, {\"The 2020 Olympics were held in [MASK]. ['Tokyo', 'Chicago']\": {'p_true > p_false': True}}, {\"Operation Overlord took place in [MASK]. ['Normandy', 'Manila']\": {'p_true > p_false': True}}, {\"Operation Overlord took place in [MASK]. ['Normandy', 'Santiago']\": {'p_true > p_false': True}}, {\"Operation Overlord took place in [MASK]. ['Normandy', 'Baghdad']\": {'p_true > p_false': True}}, {\"Steve Jobs is the founder of [MASK]. ['Apple', 'Microsoft']\": {'p_true > p_false': False}}, {\"Steve Jobs is the founder of [MASK]. ['Apple', 'Oracle']\": {'p_true > p_false': True}}, {\"Steve Jobs is the founder of [MASK]. ['Apple', 'Intel']\": {'p_true > p_false': True}}], 'google/bert_uncased_l-4_h-256_a-4': [{\"The 2020 Olympics were held in [MASK]. ['Tokyo', 'London']\": {'p_true > p_false': False}}, {\"The 2020 Olympics were held in [MASK]. ['Tokyo', 'Berlin']\": {'p_true > p_false': False}}, {\"The 2020 Olympics were held in [MASK]. ['Tokyo', 'Chicago']\": {'p_true > p_false': True}}, {\"Operation Overlord took place in [MASK]. ['Normandy', 'Manila']\": {'p_true > p_false': True}}, {\"Operation Overlord took place in [MASK]. ['Normandy', 'Santiago']\": {'p_true > p_false': True}}, {\"Operation Overlord took place in [MASK]. ['Normandy', 'Baghdad']\": {'p_true > p_false': True}}, {\"Steve Jobs is the founder of [MASK]. ['Apple', 'Microsoft']\": {'p_true > p_false': False}}, {\"Steve Jobs is the founder of [MASK]. ['Apple', 'Oracle']\": {'p_true > p_false': True}}, {\"Steve Jobs is the founder of [MASK]. ['Apple', 'Intel']\": {'p_true > p_false': False}}], 'google/bert_uncased_l-4_h-512_a-8': [{\"The 2020 Olympics were held in [MASK]. ['Tokyo', 'London']\": {'p_true > p_false': False}}, {\"The 2020 Olympics were held in [MASK]. ['Tokyo', 'Berlin']\": {'p_true > p_false': False}}, {\"The 2020 Olympics were held in [MASK]. ['Tokyo', 'Chicago']\": {'p_true > p_false': True}}, {\"Operation Overlord took place in [MASK]. ['Normandy', 'Manila']\": {'p_true > p_false': True}}, {\"Operation Overlord took place in [MASK]. ['Normandy', 'Santiago']\": {'p_true > p_false': True}}, {\"Operation Overlord took place in [MASK]. ['Normandy', 'Baghdad']\": {'p_true > p_false': True}}, {\"Steve Jobs is the founder of [MASK]. ['Apple', 'Microsoft']\": {'p_true > p_false': False}}, {\"Steve Jobs is the founder of [MASK]. ['Apple', 'Oracle']\": {'p_true > p_false': True}}, {\"Steve Jobs is the founder of [MASK]. ['Apple', 'Intel']\": {'p_true > p_false': True}}], 'google/bert_uncased_l-8_h-512_a-8': [{\"The 2020 Olympics were held in [MASK]. ['Tokyo', 'London']\": {'p_true > p_false': True}}, {\"The 2020 Olympics were held in [MASK]. ['Tokyo', 'Berlin']\": {'p_true > p_false': True}}, {\"The 2020 Olympics were held in [MASK]. ['Tokyo', 'Chicago']\": {'p_true > p_false': True}}, {\"Operation Overlord took place in [MASK]. ['Normandy', 'Manila']\": {'p_true > p_false': True}}, {\"Operation Overlord took place in [MASK]. ['Normandy', 'Santiago']\": {'p_true > p_false': True}}, {\"Operation Overlord took place in [MASK]. ['Normandy', 'Baghdad']\": {'p_true > p_false': True}}, {\"Steve Jobs is the founder of [MASK]. ['Apple', 'Microsoft']\": {'p_true > p_false': False}}, {\"Steve Jobs is the founder of [MASK]. ['Apple', 'Oracle']\": {'p_true > p_false': True}}, {\"Steve Jobs is the founder of [MASK]. ['Apple', 'Intel']\": {'p_true > p_false': True}}], 'distilbert-base-uncased': [{\"The 2020 Olympics were held in [MASK]. ['Tokyo', 'London']\": {'p_true > p_false': True}}, {\"The 2020 Olympics were held in [MASK]. ['Tokyo', 'Berlin']\": {'p_true > p_false': True}}, {\"The 2020 Olympics were held in [MASK]. ['Tokyo', 'Chicago']\": {'p_true > p_false': True}}, {\"Operation Overlord took place in [MASK]. ['Normandy', 'Manila']\": {'p_true > p_false': True}}, {\"Operation Overlord took place in [MASK]. ['Normandy', 'Santiago']\": {'p_true > p_false': True}}, {\"Operation Overlord took place in [MASK]. ['Normandy', 'Baghdad']\": {'p_true > p_false': True}}, {\"Steve Jobs is the founder of [MASK]. ['Apple', 'Microsoft']\": {'p_true > p_false': True}}, {\"Steve Jobs is the founder of [MASK]. ['Apple', 'Oracle']\": {'p_true > p_false': True}}, {\"Steve Jobs is the founder of [MASK]. ['Apple', 'Intel']\": {'p_true > p_false': True}}], 'bert-base-uncased': [{\"The 2020 Olympics were held in [MASK]. ['Tokyo', 'London']\": {'p_true > p_false': True}}, {\"The 2020 Olympics were held in [MASK]. ['Tokyo', 'Berlin']\": {'p_true > p_false': True}}, {\"The 2020 Olympics were held in [MASK]. ['Tokyo', 'Chicago']\": {'p_true > p_false': True}}, {\"Operation Overlord took place in [MASK]. ['Normandy', 'Manila']\": {'p_true > p_false': True}}, {\"Operation Overlord took place in [MASK]. ['Normandy', 'Santiago']\": {'p_true > p_false': True}}, {\"Operation Overlord took place in [MASK]. ['Normandy', 'Baghdad']\": {'p_true > p_false': True}}, {\"Steve Jobs is the founder of [MASK]. ['Apple', 'Microsoft']\": {'p_true > p_false': True}}, {\"Steve Jobs is the founder of [MASK]. ['Apple', 'Oracle']\": {'p_true > p_false': True}}, {\"Steve Jobs is the founder of [MASK]. ['Apple', 'Intel']\": {'p_true > p_false': True}}], 'bert-large-uncased': [{\"The 2020 Olympics were held in [MASK]. ['Tokyo', 'London']\": {'p_true > p_false': True}}, {\"The 2020 Olympics were held in [MASK]. ['Tokyo', 'Berlin']\": {'p_true > p_false': True}}, {\"The 2020 Olympics were held in [MASK]. ['Tokyo', 'Chicago']\": {'p_true > p_false': True}}, {\"Operation Overlord took place in [MASK]. ['Normandy', 'Manila']\": {'p_true > p_false': True}}, {\"Operation Overlord took place in [MASK]. ['Normandy', 'Santiago']\": {'p_true > p_false': True}}, {\"Operation Overlord took place in [MASK]. ['Normandy', 'Baghdad']\": {'p_true > p_false': True}}, {\"Steve Jobs is the founder of [MASK]. ['Apple', 'Microsoft']\": {'p_true > p_false': True}}, {\"Steve Jobs is the founder of [MASK]. ['Apple', 'Oracle']\": {'p_true > p_false': True}}, {\"Steve Jobs is the founder of [MASK]. ['Apple', 'Intel']\": {'p_true > p_false': True}}]}\n",
            "\n",
            "Score dict summary:\n",
            "{'google/bert_uncased_l-2_h-128_a-2': 'This model got 7/9 facts correct', 'google/bert_uncased_l-4_h-256_a-4': 'This model got 5/9 facts correct', 'google/bert_uncased_l-4_h-512_a-8': 'This model got 6/9 facts correct', 'google/bert_uncased_l-8_h-512_a-8': 'This model got 8/9 facts correct', 'distilbert-base-uncased': 'This model got 9/9 facts correct', 'bert-base-uncased': 'This model got 9/9 facts correct', 'bert-large-uncased': 'This model got 9/9 facts correct'}\n"
          ]
        }
      ],
      "source": [
        "!python run_cka.py configs.bert_v0"
      ]
    },
    {
      "cell_type": "code",
      "execution_count": null,
      "metadata": {
        "colab": {
          "base_uri": "https://localhost:8080/"
        },
        "id": "0_AfmHruPIFv",
        "outputId": "2b3b10f7-1a0c-49e9-d96e-454ec7e70c63"
      },
      "outputs": [
        {
          "output_type": "stream",
          "name": "stdout",
          "text": [
            "2023-03-10 10:37:12.646910: I tensorflow/core/platform/cpu_feature_guard.cc:193] This TensorFlow binary is optimized with oneAPI Deep Neural Network Library (oneDNN) to use the following CPU instructions in performance-critical operations:  AVX2 AVX512F AVX512_VNNI FMA\n",
            "To enable them in other operations, rebuild TensorFlow with the appropriate compiler flags.\n",
            "2023-03-10 10:37:12.779844: I tensorflow/core/util/port.cc:104] oneDNN custom operations are on. You may see slightly different numerical results due to floating-point round-off errors from different computation orders. To turn them off, set the environment variable `TF_ENABLE_ONEDNN_OPTS=0`.\n",
            "2023-03-10 10:37:13.515144: W tensorflow/compiler/xla/stream_executor/platform/default/dso_loader.cc:64] Could not load dynamic library 'libnvinfer.so.7'; dlerror: libnvinfer.so.7: cannot open shared object file: No such file or directory; LD_LIBRARY_PATH: /usr/lib64-nvidia\n",
            "2023-03-10 10:37:13.515236: W tensorflow/compiler/xla/stream_executor/platform/default/dso_loader.cc:64] Could not load dynamic library 'libnvinfer_plugin.so.7'; dlerror: libnvinfer_plugin.so.7: cannot open shared object file: No such file or directory; LD_LIBRARY_PATH: /usr/lib64-nvidia\n",
            "2023-03-10 10:37:13.515256: W tensorflow/compiler/tf2tensorrt/utils/py_utils.cc:38] TF-TRT Warning: Cannot dlopen some TensorRT libraries. If you would like to use Nvidia GPU with TensorRT, please make sure the missing libraries mentioned above are installed properly.\n",
            "CKA for distilroberta-base\n",
            "Loading  model...\n",
            "Downloading (…)lve/main/config.json: 100% 480/480 [00:00<00:00, 66.8kB/s]\n",
            "Downloading (…)olve/main/vocab.json: 100% 899k/899k [00:01<00:00, 810kB/s]\n",
            "Downloading (…)olve/main/merges.txt: 100% 456k/456k [00:00<00:00, 510kB/s]\n",
            "Downloading (…)/main/tokenizer.json: 100% 1.36M/1.36M [00:01<00:00, 1.21MB/s]\n",
            "Downloading pytorch_model.bin: 100% 331M/331M [00:03<00:00, 84.0MB/s]\n",
            "Running comparisons...\n",
            "Done\n",
            "\n",
            "CKA for roberta-base\n",
            "Loading  model...\n",
            "Downloading (…)lve/main/config.json: 100% 481/481 [00:00<00:00, 71.8kB/s]\n",
            "Downloading (…)olve/main/vocab.json: 100% 899k/899k [00:01<00:00, 812kB/s]\n",
            "Downloading (…)olve/main/merges.txt: 100% 456k/456k [00:00<00:00, 509kB/s]\n",
            "Downloading (…)/main/tokenizer.json: 100% 1.36M/1.36M [00:01<00:00, 1.21MB/s]\n",
            "Downloading pytorch_model.bin: 100% 501M/501M [00:06<00:00, 78.1MB/s]\n",
            "Running comparisons...\n",
            "Done\n",
            "\n",
            "CKA for xlm-roberta-base\n",
            "Loading  model...\n",
            "Downloading (…)lve/main/config.json: 100% 615/615 [00:00<00:00, 226kB/s]\n",
            "Downloading (…)tencepiece.bpe.model: 100% 5.07M/5.07M [00:01<00:00, 3.25MB/s]\n",
            "Downloading (…)/main/tokenizer.json: 100% 9.10M/9.10M [00:02<00:00, 4.47MB/s]\n",
            "Downloading pytorch_model.bin: 100% 1.12G/1.12G [00:04<00:00, 241MB/s]\n",
            "Running comparisons...\n",
            "Done\n",
            "\n",
            "CKA for roberta-large\n",
            "Loading  model...\n",
            "Downloading (…)lve/main/config.json: 100% 482/482 [00:00<00:00, 21.1kB/s]\n",
            "Downloading (…)olve/main/vocab.json: 100% 899k/899k [00:01<00:00, 809kB/s]\n",
            "Downloading (…)olve/main/merges.txt: 100% 456k/456k [00:00<00:00, 512kB/s]\n",
            "Downloading (…)/main/tokenizer.json: 100% 1.36M/1.36M [00:01<00:00, 1.02MB/s]\n",
            "Downloading pytorch_model.bin: 100% 1.43G/1.43G [00:16<00:00, 84.2MB/s]\n",
            "Running comparisons...\n",
            "Done\n",
            "\n",
            "CKA for xlm-roberta-large\n",
            "Loading  model...\n",
            "Downloading (…)lve/main/config.json: 100% 616/616 [00:00<00:00, 186kB/s]\n",
            "Downloading (…)tencepiece.bpe.model: 100% 5.07M/5.07M [00:01<00:00, 3.26MB/s]\n",
            "Downloading (…)/main/tokenizer.json: 100% 9.10M/9.10M [00:02<00:00, 4.52MB/s]\n",
            "Downloading pytorch_model.bin: 100% 2.24G/2.24G [00:24<00:00, 91.2MB/s]\n",
            "Running comparisons...\n",
            "Done\n",
            "\n",
            "\n",
            "Score dict full:\n",
            "{'distilroberta-base': [{\"The 2020 Olympics were held in <mask>. ['Tokyo', 'London']\": {'p_true': 0.6597, 'p_false': 0.00830841064453125, 'p_true - p_false': 0.6513595581054688, 'p_true > p_false': True}}, {\"The 2020 Olympics were held in <mask>. ['Tokyo', 'Berlin']\": {'p_true': 0.6597, 'p_false': 0.01152801513671875, 'p_true - p_false': 0.6481399536132812, 'p_true > p_false': True}}, {\"The 2020 Olympics were held in <mask>. ['Tokyo', 'Chicago']\": {'p_true': 0.6597, 'p_false': 0.0012540817260742188, 'p_true - p_false': 0.6584138870239258, 'p_true > p_false': True}}, {\"Operation Overlord took place in <mask>. ['Normandy', 'Manila']\": {'p_true': 0.001526, 'p_false': 0.00012046098709106445, 'p_true - p_false': 0.0014054179191589355, 'p_true > p_false': True}}, {\"Operation Overlord took place in <mask>. ['Normandy', 'Santiago']\": {'p_true': 0.001526, 'p_false': 2.849102020263672e-05, 'p_true - p_false': 0.0014973878860473633, 'p_true > p_false': True}}, {\"Operation Overlord took place in <mask>. ['Normandy', 'Baghdad']\": {'p_true': 0.001526, 'p_false': 0.0006718635559082031, 'p_true - p_false': 0.0008540153503417969, 'p_true > p_false': True}}, {\"Steve Jobs is the founder of <mask>. ['Apple', 'Microsoft']\": {'p_true': 0.5625, 'p_false': 0.076171875, 'p_true - p_false': 0.486328125, 'p_true > p_false': True}}, {\"Steve Jobs is the founder of <mask>. ['Apple', 'Oracle']\": {'p_true': 0.5625, 'p_false': 0.0167236328125, 'p_true - p_false': 0.5457763671875, 'p_true > p_false': True}}, {\"Steve Jobs is the founder of <mask>. ['Apple', 'Intel']\": {'p_true': 0.5625, 'p_false': 0.004329681396484375, 'p_true - p_false': 0.5581703186035156, 'p_true > p_false': True}}], 'roberta-base': [{\"The 2020 Olympics were held in <mask>. ['Tokyo', 'London']\": {'p_true': 0.961, 'p_false': 0.00109100341796875, 'p_true - p_false': 0.9598464965820312, 'p_true > p_false': True}}, {\"The 2020 Olympics were held in <mask>. ['Tokyo', 'Berlin']\": {'p_true': 0.961, 'p_false': 0.0004475116729736328, 'p_true - p_false': 0.9604899883270264, 'p_true > p_false': True}}, {\"The 2020 Olympics were held in <mask>. ['Tokyo', 'Chicago']\": {'p_true': 0.961, 'p_false': 6.973743438720703e-05, 'p_true - p_false': 0.9608677625656128, 'p_true > p_false': True}}, {\"Operation Overlord took place in <mask>. ['Normandy', 'Manila']\": {'p_true': 0.002314, 'p_false': 7.206201553344727e-05, 'p_true - p_false': 0.0022415518760681152, 'p_true > p_false': True}}, {\"Operation Overlord took place in <mask>. ['Normandy', 'Santiago']\": {'p_true': 0.002314, 'p_false': 9.59634780883789e-06, 'p_true - p_false': 0.0023040175437927246, 'p_true > p_false': True}}, {\"Operation Overlord took place in <mask>. ['Normandy', 'Baghdad']\": {'p_true': 0.002314, 'p_false': 0.0011720657348632812, 'p_true - p_false': 0.0011415481567382812, 'p_true > p_false': True}}, {\"Steve Jobs is the founder of <mask>. ['Apple', 'Microsoft']\": {'p_true': 0.9956, 'p_false': 0.0006747245788574219, 'p_true - p_false': 0.9949307441711426, 'p_true > p_false': True}}, {\"Steve Jobs is the founder of <mask>. ['Apple', 'Oracle']\": {'p_true': 0.9956, 'p_false': 0.00017333030700683594, 'p_true - p_false': 0.9954321384429932, 'p_true > p_false': True}}, {\"Steve Jobs is the founder of <mask>. ['Apple', 'Intel']\": {'p_true': 0.9956, 'p_false': 2.86102294921875e-06, 'p_true - p_false': 0.9956026077270508, 'p_true > p_false': True}}], 'xlm-roberta-base': [{\"The 2020 Olympics were held in <mask>. ['Tokyo', 'London']\": {'p_true': 0.0563, 'p_false': 0.1019287109375, 'p_true - p_false': -0.045623779296875, 'p_true > p_false': False}}, {\"The 2020 Olympics were held in <mask>. ['Tokyo', 'Berlin']\": {'p_true': 0.0563, 'p_false': 0.0078582763671875, 'p_true - p_false': 0.0484466552734375, 'p_true > p_false': True}}, {\"The 2020 Olympics were held in <mask>. ['Tokyo', 'Chicago']\": {'p_true': 0.0563, 'p_false': 0.0012054443359375, 'p_true - p_false': 0.0550994873046875, 'p_true > p_false': True}}, {\"Operation Overlord took place in <mask>. ['Normandy', 'Manila']\": {'p_true': 8.76e-06, 'p_false': 1.9729137420654297e-05, 'p_true - p_false': -1.0967254638671875e-05, 'p_true > p_false': False}}, {\"Operation Overlord took place in <mask>. ['Normandy', 'Santiago']\": {'p_true': 8.76e-06, 'p_false': 5.4836273193359375e-06, 'p_true - p_false': 3.2782554626464844e-06, 'p_true > p_false': True}}, {\"Operation Overlord took place in <mask>. ['Normandy', 'Baghdad']\": {'p_true': 8.76e-06, 'p_false': 2.9206275939941406e-06, 'p_true - p_false': 5.841255187988281e-06, 'p_true > p_false': True}}, {\"Steve Jobs is the founder of <mask>. ['Apple', 'Microsoft']\": {'p_true': 0.4053, 'p_false': 0.0322265625, 'p_true - p_false': 0.373046875, 'p_true > p_false': True}}, {\"Steve Jobs is the founder of <mask>. ['Apple', 'Oracle']\": {'p_true': 0.4053, 'p_false': 0.000690460205078125, 'p_true - p_false': 0.4045829772949219, 'p_true > p_false': True}}, {\"Steve Jobs is the founder of <mask>. ['Apple', 'Intel']\": {'p_true': 0.4053, 'p_false': 0.0011377334594726562, 'p_true - p_false': 0.40413570404052734, 'p_true > p_false': True}}], 'roberta-large': [{\"The 2020 Olympics were held in <mask>. ['Tokyo', 'London']\": {'p_true': 0.9873, 'p_false': 5.40614128112793e-05, 'p_true - p_false': 0.9872506260871887, 'p_true > p_false': True}}, {\"The 2020 Olympics were held in <mask>. ['Tokyo', 'Berlin']\": {'p_true': 0.9873, 'p_false': 2.0265579223632812e-06, 'p_true - p_false': 0.9873026609420776, 'p_true > p_false': True}}, {\"The 2020 Olympics were held in <mask>. ['Tokyo', 'Chicago']\": {'p_true': 0.9873, 'p_false': 8.940696716308594e-07, 'p_true - p_false': 0.9873037934303284, 'p_true > p_false': True}}, {\"Operation Overlord took place in <mask>. ['Normandy', 'Manila']\": {'p_true': 0.0008, 'p_false': 7.444620132446289e-05, 'p_true - p_false': 0.0007256865501403809, 'p_true > p_false': True}}, {\"Operation Overlord took place in <mask>. ['Normandy', 'Santiago']\": {'p_true': 0.0008, 'p_false': 9.775161743164062e-06, 'p_true - p_false': 0.0007903575897216797, 'p_true > p_false': True}}, {\"Operation Overlord took place in <mask>. ['Normandy', 'Baghdad']\": {'p_true': 0.0008, 'p_false': 0.0006427764892578125, 'p_true - p_false': 0.00015735626220703125, 'p_true > p_false': True}}, {\"Steve Jobs is the founder of <mask>. ['Apple', 'Microsoft']\": {'p_true': 0.993, 'p_false': 0.00031304359436035156, 'p_true - p_false': 0.9928510189056396, 'p_true > p_false': True}}, {\"Steve Jobs is the founder of <mask>. ['Apple', 'Oracle']\": {'p_true': 0.993, 'p_false': 1.3709068298339844e-06, 'p_true - p_false': 0.9931626915931702, 'p_true > p_false': True}}, {\"Steve Jobs is the founder of <mask>. ['Apple', 'Intel']\": {'p_true': 0.993, 'p_false': 5.1081180572509766e-05, 'p_true - p_false': 0.9931129813194275, 'p_true > p_false': True}}], 'xlm-roberta-large': [{\"The 2020 Olympics were held in <mask>. ['Tokyo', 'London']\": {'p_true': 0.6, 'p_false': 0.094970703125, 'p_true - p_false': 0.505126953125, 'p_true > p_false': True}}, {\"The 2020 Olympics were held in <mask>. ['Tokyo', 'Berlin']\": {'p_true': 0.6, 'p_false': 0.0075531005859375, 'p_true - p_false': 0.5925445556640625, 'p_true > p_false': True}}, {\"The 2020 Olympics were held in <mask>. ['Tokyo', 'Chicago']\": {'p_true': 0.6, 'p_false': 0.002033233642578125, 'p_true - p_false': 0.5980644226074219, 'p_true > p_false': True}}, {\"Operation Overlord took place in <mask>. ['Normandy', 'Manila']\": {'p_true': 2.587e-05, 'p_false': 0.0006079673767089844, 'p_true - p_false': -0.0005820989608764648, 'p_true > p_false': False}}, {\"Operation Overlord took place in <mask>. ['Normandy', 'Santiago']\": {'p_true': 2.587e-05, 'p_false': 2.586841583251953e-05, 'p_true - p_false': 0.0, 'p_true > p_false': False}}, {\"Operation Overlord took place in <mask>. ['Normandy', 'Baghdad']\": {'p_true': 2.587e-05, 'p_false': 2.6226043701171875e-06, 'p_true - p_false': 2.3245811462402344e-05, 'p_true > p_false': True}}, {\"Steve Jobs is the founder of <mask>. ['Apple', 'Microsoft']\": {'p_true': 0.9834, 'p_false': 0.0015735626220703125, 'p_true - p_false': 0.9818248748779297, 'p_true > p_false': True}}, {\"Steve Jobs is the founder of <mask>. ['Apple', 'Oracle']\": {'p_true': 0.9834, 'p_false': 0.0001418590545654297, 'p_true - p_false': 0.9832565784454346, 'p_true > p_false': True}}, {\"Steve Jobs is the founder of <mask>. ['Apple', 'Intel']\": {'p_true': 0.9834, 'p_false': 9.453296661376953e-05, 'p_true - p_false': 0.9833039045333862, 'p_true > p_false': True}}]}\n",
            "\n",
            "Score dict succinct:\n",
            "{'distilroberta-base': [{\"The 2020 Olympics were held in <mask>. ['Tokyo', 'London']\": {'p_true > p_false': True}}, {\"The 2020 Olympics were held in <mask>. ['Tokyo', 'Berlin']\": {'p_true > p_false': True}}, {\"The 2020 Olympics were held in <mask>. ['Tokyo', 'Chicago']\": {'p_true > p_false': True}}, {\"Operation Overlord took place in <mask>. ['Normandy', 'Manila']\": {'p_true > p_false': True}}, {\"Operation Overlord took place in <mask>. ['Normandy', 'Santiago']\": {'p_true > p_false': True}}, {\"Operation Overlord took place in <mask>. ['Normandy', 'Baghdad']\": {'p_true > p_false': True}}, {\"Steve Jobs is the founder of <mask>. ['Apple', 'Microsoft']\": {'p_true > p_false': True}}, {\"Steve Jobs is the founder of <mask>. ['Apple', 'Oracle']\": {'p_true > p_false': True}}, {\"Steve Jobs is the founder of <mask>. ['Apple', 'Intel']\": {'p_true > p_false': True}}], 'roberta-base': [{\"The 2020 Olympics were held in <mask>. ['Tokyo', 'London']\": {'p_true > p_false': True}}, {\"The 2020 Olympics were held in <mask>. ['Tokyo', 'Berlin']\": {'p_true > p_false': True}}, {\"The 2020 Olympics were held in <mask>. ['Tokyo', 'Chicago']\": {'p_true > p_false': True}}, {\"Operation Overlord took place in <mask>. ['Normandy', 'Manila']\": {'p_true > p_false': True}}, {\"Operation Overlord took place in <mask>. ['Normandy', 'Santiago']\": {'p_true > p_false': True}}, {\"Operation Overlord took place in <mask>. ['Normandy', 'Baghdad']\": {'p_true > p_false': True}}, {\"Steve Jobs is the founder of <mask>. ['Apple', 'Microsoft']\": {'p_true > p_false': True}}, {\"Steve Jobs is the founder of <mask>. ['Apple', 'Oracle']\": {'p_true > p_false': True}}, {\"Steve Jobs is the founder of <mask>. ['Apple', 'Intel']\": {'p_true > p_false': True}}], 'xlm-roberta-base': [{\"The 2020 Olympics were held in <mask>. ['Tokyo', 'London']\": {'p_true > p_false': False}}, {\"The 2020 Olympics were held in <mask>. ['Tokyo', 'Berlin']\": {'p_true > p_false': True}}, {\"The 2020 Olympics were held in <mask>. ['Tokyo', 'Chicago']\": {'p_true > p_false': True}}, {\"Operation Overlord took place in <mask>. ['Normandy', 'Manila']\": {'p_true > p_false': False}}, {\"Operation Overlord took place in <mask>. ['Normandy', 'Santiago']\": {'p_true > p_false': True}}, {\"Operation Overlord took place in <mask>. ['Normandy', 'Baghdad']\": {'p_true > p_false': True}}, {\"Steve Jobs is the founder of <mask>. ['Apple', 'Microsoft']\": {'p_true > p_false': True}}, {\"Steve Jobs is the founder of <mask>. ['Apple', 'Oracle']\": {'p_true > p_false': True}}, {\"Steve Jobs is the founder of <mask>. ['Apple', 'Intel']\": {'p_true > p_false': True}}], 'roberta-large': [{\"The 2020 Olympics were held in <mask>. ['Tokyo', 'London']\": {'p_true > p_false': True}}, {\"The 2020 Olympics were held in <mask>. ['Tokyo', 'Berlin']\": {'p_true > p_false': True}}, {\"The 2020 Olympics were held in <mask>. ['Tokyo', 'Chicago']\": {'p_true > p_false': True}}, {\"Operation Overlord took place in <mask>. ['Normandy', 'Manila']\": {'p_true > p_false': True}}, {\"Operation Overlord took place in <mask>. ['Normandy', 'Santiago']\": {'p_true > p_false': True}}, {\"Operation Overlord took place in <mask>. ['Normandy', 'Baghdad']\": {'p_true > p_false': True}}, {\"Steve Jobs is the founder of <mask>. ['Apple', 'Microsoft']\": {'p_true > p_false': True}}, {\"Steve Jobs is the founder of <mask>. ['Apple', 'Oracle']\": {'p_true > p_false': True}}, {\"Steve Jobs is the founder of <mask>. ['Apple', 'Intel']\": {'p_true > p_false': True}}], 'xlm-roberta-large': [{\"The 2020 Olympics were held in <mask>. ['Tokyo', 'London']\": {'p_true > p_false': True}}, {\"The 2020 Olympics were held in <mask>. ['Tokyo', 'Berlin']\": {'p_true > p_false': True}}, {\"The 2020 Olympics were held in <mask>. ['Tokyo', 'Chicago']\": {'p_true > p_false': True}}, {\"Operation Overlord took place in <mask>. ['Normandy', 'Manila']\": {'p_true > p_false': False}}, {\"Operation Overlord took place in <mask>. ['Normandy', 'Santiago']\": {'p_true > p_false': False}}, {\"Operation Overlord took place in <mask>. ['Normandy', 'Baghdad']\": {'p_true > p_false': True}}, {\"Steve Jobs is the founder of <mask>. ['Apple', 'Microsoft']\": {'p_true > p_false': True}}, {\"Steve Jobs is the founder of <mask>. ['Apple', 'Oracle']\": {'p_true > p_false': True}}, {\"Steve Jobs is the founder of <mask>. ['Apple', 'Intel']\": {'p_true > p_false': True}}]}\n",
            "\n",
            "Score dict summary:\n",
            "{'distilroberta-base': 'This model got 9/9 facts correct', 'roberta-base': 'This model got 9/9 facts correct', 'xlm-roberta-base': 'This model got 7/9 facts correct', 'roberta-large': 'This model got 9/9 facts correct', 'xlm-roberta-large': 'This model got 7/9 facts correct'}\n"
          ]
        }
      ],
      "source": [
        "!python run_cka.py configs.roberta_v0"
      ]
    },
    {
      "cell_type": "code",
      "execution_count": null,
      "metadata": {
        "id": "_WFNxz3elvq3"
      },
      "outputs": [],
      "source": [
        "!python run_cka.py configs.flan_t5_v0"
      ]
    },
    {
      "cell_type": "code",
      "execution_count": null,
      "metadata": {
        "id": "kZJS1RQElwMt"
      },
      "outputs": [],
      "source": [
        "!python run_cka.py configs.flan_ul2_v0"
      ]
    },
    {
      "cell_type": "markdown",
      "metadata": {
        "id": "8WXwAZfHMgAY"
      },
      "source": [
        "## Notebook usage"
      ]
    },
    {
      "cell_type": "code",
      "execution_count": null,
      "metadata": {
        "id": "GVCMUZJXV0mq"
      },
      "outputs": [],
      "source": [
        "from run_cka import main"
      ]
    },
    {
      "cell_type": "markdown",
      "metadata": {
        "id": "PFy4ijAPc_mS"
      },
      "source": [
        "### gpt2 example with \"verbosity\" turned on"
      ]
    },
    {
      "cell_type": "code",
      "execution_count": null,
      "metadata": {
        "id": "fXTO0xG4Zzx5"
      },
      "outputs": [],
      "source": [
        "config = {\n",
        "    \"models\": [\n",
        "        \"distilgpt2\",  # 82M params\n",
        "    ],\n",
        "    \"input_information\": {\n",
        "        \"0\": {\n",
        "            \"stem\": \"The 2020 Olympics were held in\",\n",
        "            \"true\": \"Tokyo\",\n",
        "            \"false\": [\"London\", \"Berlin\", \"Chicago\"],\n",
        "        },\n",
        "        \"1\": {\n",
        "            \"stem\": \"Operation Overlord took place in\",\n",
        "            \"true\": \"Normandy\",\n",
        "            \"false\": [\"Manila\", \"Santiago\", \"Baghdad\"],\n",
        "        },\n",
        "        \"2\": {\n",
        "            \"stem\": \"Steve Jobs is the founder of\",\n",
        "            \"true\": \"Apple\",\n",
        "            \"false\": [\"Microsoft\", \"Oracle\", \"Intel\"],\n",
        "        },\n",
        "    },\n",
        "    \"verbosity\": True,\n",
        "}\n"
      ]
    },
    {
      "cell_type": "code",
      "execution_count": null,
      "metadata": {
        "id": "1fHCY2r9Zzx6"
      },
      "outputs": [],
      "source": [
        "score_dict_full, score_dict_succinct, score_dict_summary = main(config)"
      ]
    },
    {
      "cell_type": "code",
      "execution_count": null,
      "metadata": {
        "id": "tEPONKOhZzx6"
      },
      "outputs": [],
      "source": [
        "score_dict_full"
      ]
    },
    {
      "cell_type": "code",
      "execution_count": null,
      "metadata": {
        "id": "K4bojZ4oZzx6"
      },
      "outputs": [],
      "source": [
        "score_dict_succinct"
      ]
    },
    {
      "cell_type": "code",
      "execution_count": null,
      "metadata": {
        "id": "jWdZ94ZhU7mE"
      },
      "outputs": [],
      "source": [
        "score_dict_summary"
      ]
    },
    {
      "cell_type": "code",
      "execution_count": null,
      "metadata": {
        "id": "AGFcOIO0XU6O"
      },
      "outputs": [],
      "source": []
    }
  ],
  "metadata": {
    "accelerator": "GPU",
    "colab": {
      "provenance": []
    },
    "gpuClass": "premium",
    "kernelspec": {
      "display_name": "Python 3",
      "name": "python3"
    },
    "language_info": {
      "name": "python"
    }
  },
  "nbformat": 4,
  "nbformat_minor": 0
}