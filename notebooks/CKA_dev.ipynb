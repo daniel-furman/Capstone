{
  "nbformat": 4,
  "nbformat_minor": 0,
  "metadata": {
    "colab": {
      "provenance": []
    },
    "kernelspec": {
      "name": "python3",
      "display_name": "Python 3"
    },
    "language_info": {
      "name": "python"
    },
    "accelerator": "GPU",
    "gpuClass": "standard",
    "widgets": {
      "application/vnd.jupyter.widget-state+json": {
        "547bcaa2e3a5423d89a79f8acebb5797": {
          "model_module": "@jupyter-widgets/controls",
          "model_name": "HBoxModel",
          "model_module_version": "1.5.0",
          "state": {
            "_dom_classes": [],
            "_model_module": "@jupyter-widgets/controls",
            "_model_module_version": "1.5.0",
            "_model_name": "HBoxModel",
            "_view_count": null,
            "_view_module": "@jupyter-widgets/controls",
            "_view_module_version": "1.5.0",
            "_view_name": "HBoxView",
            "box_style": "",
            "children": [
              "IPY_MODEL_355b456dba884c7d923a228b7e583277",
              "IPY_MODEL_d977c5790c224422b3217e15a3a415f6",
              "IPY_MODEL_069afd9e870248859bb57d1464a1ed0b"
            ],
            "layout": "IPY_MODEL_4dc2a27d931641f1b0b5ec3995206596"
          }
        },
        "355b456dba884c7d923a228b7e583277": {
          "model_module": "@jupyter-widgets/controls",
          "model_name": "HTMLModel",
          "model_module_version": "1.5.0",
          "state": {
            "_dom_classes": [],
            "_model_module": "@jupyter-widgets/controls",
            "_model_module_version": "1.5.0",
            "_model_name": "HTMLModel",
            "_view_count": null,
            "_view_module": "@jupyter-widgets/controls",
            "_view_module_version": "1.5.0",
            "_view_name": "HTMLView",
            "description": "",
            "description_tooltip": null,
            "layout": "IPY_MODEL_f4526428b4cf4e5d8f91f94c341eeb99",
            "placeholder": "​",
            "style": "IPY_MODEL_63e9345193c34572a888c5131b2cb72c",
            "value": "Downloading (…)okenizer_config.json: 100%"
          }
        },
        "d977c5790c224422b3217e15a3a415f6": {
          "model_module": "@jupyter-widgets/controls",
          "model_name": "FloatProgressModel",
          "model_module_version": "1.5.0",
          "state": {
            "_dom_classes": [],
            "_model_module": "@jupyter-widgets/controls",
            "_model_module_version": "1.5.0",
            "_model_name": "FloatProgressModel",
            "_view_count": null,
            "_view_module": "@jupyter-widgets/controls",
            "_view_module_version": "1.5.0",
            "_view_name": "ProgressView",
            "bar_style": "success",
            "description": "",
            "description_tooltip": null,
            "layout": "IPY_MODEL_f3714918704e42fc8524354a1e8d657a",
            "max": 685,
            "min": 0,
            "orientation": "horizontal",
            "style": "IPY_MODEL_283e730ce5dc4ac483c6af2af5ca4c3f",
            "value": 685
          }
        },
        "069afd9e870248859bb57d1464a1ed0b": {
          "model_module": "@jupyter-widgets/controls",
          "model_name": "HTMLModel",
          "model_module_version": "1.5.0",
          "state": {
            "_dom_classes": [],
            "_model_module": "@jupyter-widgets/controls",
            "_model_module_version": "1.5.0",
            "_model_name": "HTMLModel",
            "_view_count": null,
            "_view_module": "@jupyter-widgets/controls",
            "_view_module_version": "1.5.0",
            "_view_name": "HTMLView",
            "description": "",
            "description_tooltip": null,
            "layout": "IPY_MODEL_f5e8e2e51f1a4e0b845d4b4046633027",
            "placeholder": "​",
            "style": "IPY_MODEL_3252f9a6667c46ce9d47c975f3caa9dd",
            "value": " 685/685 [00:00&lt;00:00, 21.6kB/s]"
          }
        },
        "4dc2a27d931641f1b0b5ec3995206596": {
          "model_module": "@jupyter-widgets/base",
          "model_name": "LayoutModel",
          "model_module_version": "1.2.0",
          "state": {
            "_model_module": "@jupyter-widgets/base",
            "_model_module_version": "1.2.0",
            "_model_name": "LayoutModel",
            "_view_count": null,
            "_view_module": "@jupyter-widgets/base",
            "_view_module_version": "1.2.0",
            "_view_name": "LayoutView",
            "align_content": null,
            "align_items": null,
            "align_self": null,
            "border": null,
            "bottom": null,
            "display": null,
            "flex": null,
            "flex_flow": null,
            "grid_area": null,
            "grid_auto_columns": null,
            "grid_auto_flow": null,
            "grid_auto_rows": null,
            "grid_column": null,
            "grid_gap": null,
            "grid_row": null,
            "grid_template_areas": null,
            "grid_template_columns": null,
            "grid_template_rows": null,
            "height": null,
            "justify_content": null,
            "justify_items": null,
            "left": null,
            "margin": null,
            "max_height": null,
            "max_width": null,
            "min_height": null,
            "min_width": null,
            "object_fit": null,
            "object_position": null,
            "order": null,
            "overflow": null,
            "overflow_x": null,
            "overflow_y": null,
            "padding": null,
            "right": null,
            "top": null,
            "visibility": null,
            "width": null
          }
        },
        "f4526428b4cf4e5d8f91f94c341eeb99": {
          "model_module": "@jupyter-widgets/base",
          "model_name": "LayoutModel",
          "model_module_version": "1.2.0",
          "state": {
            "_model_module": "@jupyter-widgets/base",
            "_model_module_version": "1.2.0",
            "_model_name": "LayoutModel",
            "_view_count": null,
            "_view_module": "@jupyter-widgets/base",
            "_view_module_version": "1.2.0",
            "_view_name": "LayoutView",
            "align_content": null,
            "align_items": null,
            "align_self": null,
            "border": null,
            "bottom": null,
            "display": null,
            "flex": null,
            "flex_flow": null,
            "grid_area": null,
            "grid_auto_columns": null,
            "grid_auto_flow": null,
            "grid_auto_rows": null,
            "grid_column": null,
            "grid_gap": null,
            "grid_row": null,
            "grid_template_areas": null,
            "grid_template_columns": null,
            "grid_template_rows": null,
            "height": null,
            "justify_content": null,
            "justify_items": null,
            "left": null,
            "margin": null,
            "max_height": null,
            "max_width": null,
            "min_height": null,
            "min_width": null,
            "object_fit": null,
            "object_position": null,
            "order": null,
            "overflow": null,
            "overflow_x": null,
            "overflow_y": null,
            "padding": null,
            "right": null,
            "top": null,
            "visibility": null,
            "width": null
          }
        },
        "63e9345193c34572a888c5131b2cb72c": {
          "model_module": "@jupyter-widgets/controls",
          "model_name": "DescriptionStyleModel",
          "model_module_version": "1.5.0",
          "state": {
            "_model_module": "@jupyter-widgets/controls",
            "_model_module_version": "1.5.0",
            "_model_name": "DescriptionStyleModel",
            "_view_count": null,
            "_view_module": "@jupyter-widgets/base",
            "_view_module_version": "1.2.0",
            "_view_name": "StyleView",
            "description_width": ""
          }
        },
        "f3714918704e42fc8524354a1e8d657a": {
          "model_module": "@jupyter-widgets/base",
          "model_name": "LayoutModel",
          "model_module_version": "1.2.0",
          "state": {
            "_model_module": "@jupyter-widgets/base",
            "_model_module_version": "1.2.0",
            "_model_name": "LayoutModel",
            "_view_count": null,
            "_view_module": "@jupyter-widgets/base",
            "_view_module_version": "1.2.0",
            "_view_name": "LayoutView",
            "align_content": null,
            "align_items": null,
            "align_self": null,
            "border": null,
            "bottom": null,
            "display": null,
            "flex": null,
            "flex_flow": null,
            "grid_area": null,
            "grid_auto_columns": null,
            "grid_auto_flow": null,
            "grid_auto_rows": null,
            "grid_column": null,
            "grid_gap": null,
            "grid_row": null,
            "grid_template_areas": null,
            "grid_template_columns": null,
            "grid_template_rows": null,
            "height": null,
            "justify_content": null,
            "justify_items": null,
            "left": null,
            "margin": null,
            "max_height": null,
            "max_width": null,
            "min_height": null,
            "min_width": null,
            "object_fit": null,
            "object_position": null,
            "order": null,
            "overflow": null,
            "overflow_x": null,
            "overflow_y": null,
            "padding": null,
            "right": null,
            "top": null,
            "visibility": null,
            "width": null
          }
        },
        "283e730ce5dc4ac483c6af2af5ca4c3f": {
          "model_module": "@jupyter-widgets/controls",
          "model_name": "ProgressStyleModel",
          "model_module_version": "1.5.0",
          "state": {
            "_model_module": "@jupyter-widgets/controls",
            "_model_module_version": "1.5.0",
            "_model_name": "ProgressStyleModel",
            "_view_count": null,
            "_view_module": "@jupyter-widgets/base",
            "_view_module_version": "1.2.0",
            "_view_name": "StyleView",
            "bar_color": null,
            "description_width": ""
          }
        },
        "f5e8e2e51f1a4e0b845d4b4046633027": {
          "model_module": "@jupyter-widgets/base",
          "model_name": "LayoutModel",
          "model_module_version": "1.2.0",
          "state": {
            "_model_module": "@jupyter-widgets/base",
            "_model_module_version": "1.2.0",
            "_model_name": "LayoutModel",
            "_view_count": null,
            "_view_module": "@jupyter-widgets/base",
            "_view_module_version": "1.2.0",
            "_view_name": "LayoutView",
            "align_content": null,
            "align_items": null,
            "align_self": null,
            "border": null,
            "bottom": null,
            "display": null,
            "flex": null,
            "flex_flow": null,
            "grid_area": null,
            "grid_auto_columns": null,
            "grid_auto_flow": null,
            "grid_auto_rows": null,
            "grid_column": null,
            "grid_gap": null,
            "grid_row": null,
            "grid_template_areas": null,
            "grid_template_columns": null,
            "grid_template_rows": null,
            "height": null,
            "justify_content": null,
            "justify_items": null,
            "left": null,
            "margin": null,
            "max_height": null,
            "max_width": null,
            "min_height": null,
            "min_width": null,
            "object_fit": null,
            "object_position": null,
            "order": null,
            "overflow": null,
            "overflow_x": null,
            "overflow_y": null,
            "padding": null,
            "right": null,
            "top": null,
            "visibility": null,
            "width": null
          }
        },
        "3252f9a6667c46ce9d47c975f3caa9dd": {
          "model_module": "@jupyter-widgets/controls",
          "model_name": "DescriptionStyleModel",
          "model_module_version": "1.5.0",
          "state": {
            "_model_module": "@jupyter-widgets/controls",
            "_model_module_version": "1.5.0",
            "_model_name": "DescriptionStyleModel",
            "_view_count": null,
            "_view_module": "@jupyter-widgets/base",
            "_view_module_version": "1.2.0",
            "_view_name": "StyleView",
            "description_width": ""
          }
        },
        "0aae997f3fbf44af88cc297787ab03d1": {
          "model_module": "@jupyter-widgets/controls",
          "model_name": "HBoxModel",
          "model_module_version": "1.5.0",
          "state": {
            "_dom_classes": [],
            "_model_module": "@jupyter-widgets/controls",
            "_model_module_version": "1.5.0",
            "_model_name": "HBoxModel",
            "_view_count": null,
            "_view_module": "@jupyter-widgets/controls",
            "_view_module_version": "1.5.0",
            "_view_name": "HBoxView",
            "box_style": "",
            "children": [
              "IPY_MODEL_c405fdfdffca47418f81e8ed081164d3",
              "IPY_MODEL_54087aa5c52a43c4ae21b8a389b722bc",
              "IPY_MODEL_17bbda6f600c497d891fb034eda11951"
            ],
            "layout": "IPY_MODEL_4efc9987c2a94d368916593e7572922a"
          }
        },
        "c405fdfdffca47418f81e8ed081164d3": {
          "model_module": "@jupyter-widgets/controls",
          "model_name": "HTMLModel",
          "model_module_version": "1.5.0",
          "state": {
            "_dom_classes": [],
            "_model_module": "@jupyter-widgets/controls",
            "_model_module_version": "1.5.0",
            "_model_name": "HTMLModel",
            "_view_count": null,
            "_view_module": "@jupyter-widgets/controls",
            "_view_module_version": "1.5.0",
            "_view_name": "HTMLView",
            "description": "",
            "description_tooltip": null,
            "layout": "IPY_MODEL_6389c9f22fae40af9720941d99d37067",
            "placeholder": "​",
            "style": "IPY_MODEL_291acc7ef1104d2d8b28767950400213",
            "value": "Downloading (…)lve/main/config.json: 100%"
          }
        },
        "54087aa5c52a43c4ae21b8a389b722bc": {
          "model_module": "@jupyter-widgets/controls",
          "model_name": "FloatProgressModel",
          "model_module_version": "1.5.0",
          "state": {
            "_dom_classes": [],
            "_model_module": "@jupyter-widgets/controls",
            "_model_module_version": "1.5.0",
            "_model_name": "FloatProgressModel",
            "_view_count": null,
            "_view_module": "@jupyter-widgets/controls",
            "_view_module_version": "1.5.0",
            "_view_name": "ProgressView",
            "bar_style": "success",
            "description": "",
            "description_tooltip": null,
            "layout": "IPY_MODEL_95d5f1bb60344983bfb5d3af90b137d8",
            "max": 651,
            "min": 0,
            "orientation": "horizontal",
            "style": "IPY_MODEL_28d522cbb31b44f1864ac952ce08df6c",
            "value": 651
          }
        },
        "17bbda6f600c497d891fb034eda11951": {
          "model_module": "@jupyter-widgets/controls",
          "model_name": "HTMLModel",
          "model_module_version": "1.5.0",
          "state": {
            "_dom_classes": [],
            "_model_module": "@jupyter-widgets/controls",
            "_model_module_version": "1.5.0",
            "_model_name": "HTMLModel",
            "_view_count": null,
            "_view_module": "@jupyter-widgets/controls",
            "_view_module_version": "1.5.0",
            "_view_name": "HTMLView",
            "description": "",
            "description_tooltip": null,
            "layout": "IPY_MODEL_0e4f36324b914c14bfd8836559828ae7",
            "placeholder": "​",
            "style": "IPY_MODEL_179b51107f9e4377a2226cdb21ed4910",
            "value": " 651/651 [00:00&lt;00:00, 21.6kB/s]"
          }
        },
        "4efc9987c2a94d368916593e7572922a": {
          "model_module": "@jupyter-widgets/base",
          "model_name": "LayoutModel",
          "model_module_version": "1.2.0",
          "state": {
            "_model_module": "@jupyter-widgets/base",
            "_model_module_version": "1.2.0",
            "_model_name": "LayoutModel",
            "_view_count": null,
            "_view_module": "@jupyter-widgets/base",
            "_view_module_version": "1.2.0",
            "_view_name": "LayoutView",
            "align_content": null,
            "align_items": null,
            "align_self": null,
            "border": null,
            "bottom": null,
            "display": null,
            "flex": null,
            "flex_flow": null,
            "grid_area": null,
            "grid_auto_columns": null,
            "grid_auto_flow": null,
            "grid_auto_rows": null,
            "grid_column": null,
            "grid_gap": null,
            "grid_row": null,
            "grid_template_areas": null,
            "grid_template_columns": null,
            "grid_template_rows": null,
            "height": null,
            "justify_content": null,
            "justify_items": null,
            "left": null,
            "margin": null,
            "max_height": null,
            "max_width": null,
            "min_height": null,
            "min_width": null,
            "object_fit": null,
            "object_position": null,
            "order": null,
            "overflow": null,
            "overflow_x": null,
            "overflow_y": null,
            "padding": null,
            "right": null,
            "top": null,
            "visibility": null,
            "width": null
          }
        },
        "6389c9f22fae40af9720941d99d37067": {
          "model_module": "@jupyter-widgets/base",
          "model_name": "LayoutModel",
          "model_module_version": "1.2.0",
          "state": {
            "_model_module": "@jupyter-widgets/base",
            "_model_module_version": "1.2.0",
            "_model_name": "LayoutModel",
            "_view_count": null,
            "_view_module": "@jupyter-widgets/base",
            "_view_module_version": "1.2.0",
            "_view_name": "LayoutView",
            "align_content": null,
            "align_items": null,
            "align_self": null,
            "border": null,
            "bottom": null,
            "display": null,
            "flex": null,
            "flex_flow": null,
            "grid_area": null,
            "grid_auto_columns": null,
            "grid_auto_flow": null,
            "grid_auto_rows": null,
            "grid_column": null,
            "grid_gap": null,
            "grid_row": null,
            "grid_template_areas": null,
            "grid_template_columns": null,
            "grid_template_rows": null,
            "height": null,
            "justify_content": null,
            "justify_items": null,
            "left": null,
            "margin": null,
            "max_height": null,
            "max_width": null,
            "min_height": null,
            "min_width": null,
            "object_fit": null,
            "object_position": null,
            "order": null,
            "overflow": null,
            "overflow_x": null,
            "overflow_y": null,
            "padding": null,
            "right": null,
            "top": null,
            "visibility": null,
            "width": null
          }
        },
        "291acc7ef1104d2d8b28767950400213": {
          "model_module": "@jupyter-widgets/controls",
          "model_name": "DescriptionStyleModel",
          "model_module_version": "1.5.0",
          "state": {
            "_model_module": "@jupyter-widgets/controls",
            "_model_module_version": "1.5.0",
            "_model_name": "DescriptionStyleModel",
            "_view_count": null,
            "_view_module": "@jupyter-widgets/base",
            "_view_module_version": "1.2.0",
            "_view_name": "StyleView",
            "description_width": ""
          }
        },
        "95d5f1bb60344983bfb5d3af90b137d8": {
          "model_module": "@jupyter-widgets/base",
          "model_name": "LayoutModel",
          "model_module_version": "1.2.0",
          "state": {
            "_model_module": "@jupyter-widgets/base",
            "_model_module_version": "1.2.0",
            "_model_name": "LayoutModel",
            "_view_count": null,
            "_view_module": "@jupyter-widgets/base",
            "_view_module_version": "1.2.0",
            "_view_name": "LayoutView",
            "align_content": null,
            "align_items": null,
            "align_self": null,
            "border": null,
            "bottom": null,
            "display": null,
            "flex": null,
            "flex_flow": null,
            "grid_area": null,
            "grid_auto_columns": null,
            "grid_auto_flow": null,
            "grid_auto_rows": null,
            "grid_column": null,
            "grid_gap": null,
            "grid_row": null,
            "grid_template_areas": null,
            "grid_template_columns": null,
            "grid_template_rows": null,
            "height": null,
            "justify_content": null,
            "justify_items": null,
            "left": null,
            "margin": null,
            "max_height": null,
            "max_width": null,
            "min_height": null,
            "min_width": null,
            "object_fit": null,
            "object_position": null,
            "order": null,
            "overflow": null,
            "overflow_x": null,
            "overflow_y": null,
            "padding": null,
            "right": null,
            "top": null,
            "visibility": null,
            "width": null
          }
        },
        "28d522cbb31b44f1864ac952ce08df6c": {
          "model_module": "@jupyter-widgets/controls",
          "model_name": "ProgressStyleModel",
          "model_module_version": "1.5.0",
          "state": {
            "_model_module": "@jupyter-widgets/controls",
            "_model_module_version": "1.5.0",
            "_model_name": "ProgressStyleModel",
            "_view_count": null,
            "_view_module": "@jupyter-widgets/base",
            "_view_module_version": "1.2.0",
            "_view_name": "StyleView",
            "bar_color": null,
            "description_width": ""
          }
        },
        "0e4f36324b914c14bfd8836559828ae7": {
          "model_module": "@jupyter-widgets/base",
          "model_name": "LayoutModel",
          "model_module_version": "1.2.0",
          "state": {
            "_model_module": "@jupyter-widgets/base",
            "_model_module_version": "1.2.0",
            "_model_name": "LayoutModel",
            "_view_count": null,
            "_view_module": "@jupyter-widgets/base",
            "_view_module_version": "1.2.0",
            "_view_name": "LayoutView",
            "align_content": null,
            "align_items": null,
            "align_self": null,
            "border": null,
            "bottom": null,
            "display": null,
            "flex": null,
            "flex_flow": null,
            "grid_area": null,
            "grid_auto_columns": null,
            "grid_auto_flow": null,
            "grid_auto_rows": null,
            "grid_column": null,
            "grid_gap": null,
            "grid_row": null,
            "grid_template_areas": null,
            "grid_template_columns": null,
            "grid_template_rows": null,
            "height": null,
            "justify_content": null,
            "justify_items": null,
            "left": null,
            "margin": null,
            "max_height": null,
            "max_width": null,
            "min_height": null,
            "min_width": null,
            "object_fit": null,
            "object_position": null,
            "order": null,
            "overflow": null,
            "overflow_x": null,
            "overflow_y": null,
            "padding": null,
            "right": null,
            "top": null,
            "visibility": null,
            "width": null
          }
        },
        "179b51107f9e4377a2226cdb21ed4910": {
          "model_module": "@jupyter-widgets/controls",
          "model_name": "DescriptionStyleModel",
          "model_module_version": "1.5.0",
          "state": {
            "_model_module": "@jupyter-widgets/controls",
            "_model_module_version": "1.5.0",
            "_model_name": "DescriptionStyleModel",
            "_view_count": null,
            "_view_module": "@jupyter-widgets/base",
            "_view_module_version": "1.2.0",
            "_view_name": "StyleView",
            "description_width": ""
          }
        },
        "9af75a1ff07442f7891fc4db0dc0895b": {
          "model_module": "@jupyter-widgets/controls",
          "model_name": "HBoxModel",
          "model_module_version": "1.5.0",
          "state": {
            "_dom_classes": [],
            "_model_module": "@jupyter-widgets/controls",
            "_model_module_version": "1.5.0",
            "_model_name": "HBoxModel",
            "_view_count": null,
            "_view_module": "@jupyter-widgets/controls",
            "_view_module_version": "1.5.0",
            "_view_name": "HBoxView",
            "box_style": "",
            "children": [
              "IPY_MODEL_dc79e1096a1842019d0fca4ad6da05d9",
              "IPY_MODEL_80432baafdeb4d74915a052e12a1ac8a",
              "IPY_MODEL_ad52daf4e5794617b83968ab6f713882"
            ],
            "layout": "IPY_MODEL_26fda879677c43eeb3b21efd3d8fecdc"
          }
        },
        "dc79e1096a1842019d0fca4ad6da05d9": {
          "model_module": "@jupyter-widgets/controls",
          "model_name": "HTMLModel",
          "model_module_version": "1.5.0",
          "state": {
            "_dom_classes": [],
            "_model_module": "@jupyter-widgets/controls",
            "_model_module_version": "1.5.0",
            "_model_name": "HTMLModel",
            "_view_count": null,
            "_view_module": "@jupyter-widgets/controls",
            "_view_module_version": "1.5.0",
            "_view_name": "HTMLView",
            "description": "",
            "description_tooltip": null,
            "layout": "IPY_MODEL_b5aac8844aa843c48669d27a8bfd6884",
            "placeholder": "​",
            "style": "IPY_MODEL_d72a9ecb979e41268028c0ef171391fc",
            "value": "Downloading (…)olve/main/vocab.json: 100%"
          }
        },
        "80432baafdeb4d74915a052e12a1ac8a": {
          "model_module": "@jupyter-widgets/controls",
          "model_name": "FloatProgressModel",
          "model_module_version": "1.5.0",
          "state": {
            "_dom_classes": [],
            "_model_module": "@jupyter-widgets/controls",
            "_model_module_version": "1.5.0",
            "_model_name": "FloatProgressModel",
            "_view_count": null,
            "_view_module": "@jupyter-widgets/controls",
            "_view_module_version": "1.5.0",
            "_view_name": "ProgressView",
            "bar_style": "success",
            "description": "",
            "description_tooltip": null,
            "layout": "IPY_MODEL_74583cbe0f3e4620bbfb718be410a523",
            "max": 898822,
            "min": 0,
            "orientation": "horizontal",
            "style": "IPY_MODEL_dc357b8b3de841538dbff3927e81bc74",
            "value": 898822
          }
        },
        "ad52daf4e5794617b83968ab6f713882": {
          "model_module": "@jupyter-widgets/controls",
          "model_name": "HTMLModel",
          "model_module_version": "1.5.0",
          "state": {
            "_dom_classes": [],
            "_model_module": "@jupyter-widgets/controls",
            "_model_module_version": "1.5.0",
            "_model_name": "HTMLModel",
            "_view_count": null,
            "_view_module": "@jupyter-widgets/controls",
            "_view_module_version": "1.5.0",
            "_view_name": "HTMLView",
            "description": "",
            "description_tooltip": null,
            "layout": "IPY_MODEL_be4ece785e6442429c08a59812ac936a",
            "placeholder": "​",
            "style": "IPY_MODEL_9a9cc184438a453cb4edfd66d16af8d0",
            "value": " 899k/899k [00:00&lt;00:00, 2.10MB/s]"
          }
        },
        "26fda879677c43eeb3b21efd3d8fecdc": {
          "model_module": "@jupyter-widgets/base",
          "model_name": "LayoutModel",
          "model_module_version": "1.2.0",
          "state": {
            "_model_module": "@jupyter-widgets/base",
            "_model_module_version": "1.2.0",
            "_model_name": "LayoutModel",
            "_view_count": null,
            "_view_module": "@jupyter-widgets/base",
            "_view_module_version": "1.2.0",
            "_view_name": "LayoutView",
            "align_content": null,
            "align_items": null,
            "align_self": null,
            "border": null,
            "bottom": null,
            "display": null,
            "flex": null,
            "flex_flow": null,
            "grid_area": null,
            "grid_auto_columns": null,
            "grid_auto_flow": null,
            "grid_auto_rows": null,
            "grid_column": null,
            "grid_gap": null,
            "grid_row": null,
            "grid_template_areas": null,
            "grid_template_columns": null,
            "grid_template_rows": null,
            "height": null,
            "justify_content": null,
            "justify_items": null,
            "left": null,
            "margin": null,
            "max_height": null,
            "max_width": null,
            "min_height": null,
            "min_width": null,
            "object_fit": null,
            "object_position": null,
            "order": null,
            "overflow": null,
            "overflow_x": null,
            "overflow_y": null,
            "padding": null,
            "right": null,
            "top": null,
            "visibility": null,
            "width": null
          }
        },
        "b5aac8844aa843c48669d27a8bfd6884": {
          "model_module": "@jupyter-widgets/base",
          "model_name": "LayoutModel",
          "model_module_version": "1.2.0",
          "state": {
            "_model_module": "@jupyter-widgets/base",
            "_model_module_version": "1.2.0",
            "_model_name": "LayoutModel",
            "_view_count": null,
            "_view_module": "@jupyter-widgets/base",
            "_view_module_version": "1.2.0",
            "_view_name": "LayoutView",
            "align_content": null,
            "align_items": null,
            "align_self": null,
            "border": null,
            "bottom": null,
            "display": null,
            "flex": null,
            "flex_flow": null,
            "grid_area": null,
            "grid_auto_columns": null,
            "grid_auto_flow": null,
            "grid_auto_rows": null,
            "grid_column": null,
            "grid_gap": null,
            "grid_row": null,
            "grid_template_areas": null,
            "grid_template_columns": null,
            "grid_template_rows": null,
            "height": null,
            "justify_content": null,
            "justify_items": null,
            "left": null,
            "margin": null,
            "max_height": null,
            "max_width": null,
            "min_height": null,
            "min_width": null,
            "object_fit": null,
            "object_position": null,
            "order": null,
            "overflow": null,
            "overflow_x": null,
            "overflow_y": null,
            "padding": null,
            "right": null,
            "top": null,
            "visibility": null,
            "width": null
          }
        },
        "d72a9ecb979e41268028c0ef171391fc": {
          "model_module": "@jupyter-widgets/controls",
          "model_name": "DescriptionStyleModel",
          "model_module_version": "1.5.0",
          "state": {
            "_model_module": "@jupyter-widgets/controls",
            "_model_module_version": "1.5.0",
            "_model_name": "DescriptionStyleModel",
            "_view_count": null,
            "_view_module": "@jupyter-widgets/base",
            "_view_module_version": "1.2.0",
            "_view_name": "StyleView",
            "description_width": ""
          }
        },
        "74583cbe0f3e4620bbfb718be410a523": {
          "model_module": "@jupyter-widgets/base",
          "model_name": "LayoutModel",
          "model_module_version": "1.2.0",
          "state": {
            "_model_module": "@jupyter-widgets/base",
            "_model_module_version": "1.2.0",
            "_model_name": "LayoutModel",
            "_view_count": null,
            "_view_module": "@jupyter-widgets/base",
            "_view_module_version": "1.2.0",
            "_view_name": "LayoutView",
            "align_content": null,
            "align_items": null,
            "align_self": null,
            "border": null,
            "bottom": null,
            "display": null,
            "flex": null,
            "flex_flow": null,
            "grid_area": null,
            "grid_auto_columns": null,
            "grid_auto_flow": null,
            "grid_auto_rows": null,
            "grid_column": null,
            "grid_gap": null,
            "grid_row": null,
            "grid_template_areas": null,
            "grid_template_columns": null,
            "grid_template_rows": null,
            "height": null,
            "justify_content": null,
            "justify_items": null,
            "left": null,
            "margin": null,
            "max_height": null,
            "max_width": null,
            "min_height": null,
            "min_width": null,
            "object_fit": null,
            "object_position": null,
            "order": null,
            "overflow": null,
            "overflow_x": null,
            "overflow_y": null,
            "padding": null,
            "right": null,
            "top": null,
            "visibility": null,
            "width": null
          }
        },
        "dc357b8b3de841538dbff3927e81bc74": {
          "model_module": "@jupyter-widgets/controls",
          "model_name": "ProgressStyleModel",
          "model_module_version": "1.5.0",
          "state": {
            "_model_module": "@jupyter-widgets/controls",
            "_model_module_version": "1.5.0",
            "_model_name": "ProgressStyleModel",
            "_view_count": null,
            "_view_module": "@jupyter-widgets/base",
            "_view_module_version": "1.2.0",
            "_view_name": "StyleView",
            "bar_color": null,
            "description_width": ""
          }
        },
        "be4ece785e6442429c08a59812ac936a": {
          "model_module": "@jupyter-widgets/base",
          "model_name": "LayoutModel",
          "model_module_version": "1.2.0",
          "state": {
            "_model_module": "@jupyter-widgets/base",
            "_model_module_version": "1.2.0",
            "_model_name": "LayoutModel",
            "_view_count": null,
            "_view_module": "@jupyter-widgets/base",
            "_view_module_version": "1.2.0",
            "_view_name": "LayoutView",
            "align_content": null,
            "align_items": null,
            "align_self": null,
            "border": null,
            "bottom": null,
            "display": null,
            "flex": null,
            "flex_flow": null,
            "grid_area": null,
            "grid_auto_columns": null,
            "grid_auto_flow": null,
            "grid_auto_rows": null,
            "grid_column": null,
            "grid_gap": null,
            "grid_row": null,
            "grid_template_areas": null,
            "grid_template_columns": null,
            "grid_template_rows": null,
            "height": null,
            "justify_content": null,
            "justify_items": null,
            "left": null,
            "margin": null,
            "max_height": null,
            "max_width": null,
            "min_height": null,
            "min_width": null,
            "object_fit": null,
            "object_position": null,
            "order": null,
            "overflow": null,
            "overflow_x": null,
            "overflow_y": null,
            "padding": null,
            "right": null,
            "top": null,
            "visibility": null,
            "width": null
          }
        },
        "9a9cc184438a453cb4edfd66d16af8d0": {
          "model_module": "@jupyter-widgets/controls",
          "model_name": "DescriptionStyleModel",
          "model_module_version": "1.5.0",
          "state": {
            "_model_module": "@jupyter-widgets/controls",
            "_model_module_version": "1.5.0",
            "_model_name": "DescriptionStyleModel",
            "_view_count": null,
            "_view_module": "@jupyter-widgets/base",
            "_view_module_version": "1.2.0",
            "_view_name": "StyleView",
            "description_width": ""
          }
        },
        "28733ac4639140f1bd48e230a27bbd7a": {
          "model_module": "@jupyter-widgets/controls",
          "model_name": "HBoxModel",
          "model_module_version": "1.5.0",
          "state": {
            "_dom_classes": [],
            "_model_module": "@jupyter-widgets/controls",
            "_model_module_version": "1.5.0",
            "_model_name": "HBoxModel",
            "_view_count": null,
            "_view_module": "@jupyter-widgets/controls",
            "_view_module_version": "1.5.0",
            "_view_name": "HBoxView",
            "box_style": "",
            "children": [
              "IPY_MODEL_a582486fbb1f46f9bc4938c9386f0128",
              "IPY_MODEL_1919f044667f477f995b0e79f0ac2b96",
              "IPY_MODEL_9c41514345244203ab400d4e1d4e77fb"
            ],
            "layout": "IPY_MODEL_f5adcb5fb3484b8c87d8f8a3f7a44a8d"
          }
        },
        "a582486fbb1f46f9bc4938c9386f0128": {
          "model_module": "@jupyter-widgets/controls",
          "model_name": "HTMLModel",
          "model_module_version": "1.5.0",
          "state": {
            "_dom_classes": [],
            "_model_module": "@jupyter-widgets/controls",
            "_model_module_version": "1.5.0",
            "_model_name": "HTMLModel",
            "_view_count": null,
            "_view_module": "@jupyter-widgets/controls",
            "_view_module_version": "1.5.0",
            "_view_name": "HTMLView",
            "description": "",
            "description_tooltip": null,
            "layout": "IPY_MODEL_0c08957df9fa40dea92c5ed2d465523e",
            "placeholder": "​",
            "style": "IPY_MODEL_716b41dd96c641bda429054b8f152729",
            "value": "Downloading (…)olve/main/merges.txt: 100%"
          }
        },
        "1919f044667f477f995b0e79f0ac2b96": {
          "model_module": "@jupyter-widgets/controls",
          "model_name": "FloatProgressModel",
          "model_module_version": "1.5.0",
          "state": {
            "_dom_classes": [],
            "_model_module": "@jupyter-widgets/controls",
            "_model_module_version": "1.5.0",
            "_model_name": "FloatProgressModel",
            "_view_count": null,
            "_view_module": "@jupyter-widgets/controls",
            "_view_module_version": "1.5.0",
            "_view_name": "ProgressView",
            "bar_style": "success",
            "description": "",
            "description_tooltip": null,
            "layout": "IPY_MODEL_cbd380d7824945c2a52e89ed2959cd66",
            "max": 456318,
            "min": 0,
            "orientation": "horizontal",
            "style": "IPY_MODEL_80d5a25e9af346128cdbb6c3ffe81696",
            "value": 456318
          }
        },
        "9c41514345244203ab400d4e1d4e77fb": {
          "model_module": "@jupyter-widgets/controls",
          "model_name": "HTMLModel",
          "model_module_version": "1.5.0",
          "state": {
            "_dom_classes": [],
            "_model_module": "@jupyter-widgets/controls",
            "_model_module_version": "1.5.0",
            "_model_name": "HTMLModel",
            "_view_count": null,
            "_view_module": "@jupyter-widgets/controls",
            "_view_module_version": "1.5.0",
            "_view_name": "HTMLView",
            "description": "",
            "description_tooltip": null,
            "layout": "IPY_MODEL_d2462a3bafb04584b102f01e726734aa",
            "placeholder": "​",
            "style": "IPY_MODEL_b36b335ce2484edfbc9574a047d38712",
            "value": " 456k/456k [00:00&lt;00:00, 1.27MB/s]"
          }
        },
        "f5adcb5fb3484b8c87d8f8a3f7a44a8d": {
          "model_module": "@jupyter-widgets/base",
          "model_name": "LayoutModel",
          "model_module_version": "1.2.0",
          "state": {
            "_model_module": "@jupyter-widgets/base",
            "_model_module_version": "1.2.0",
            "_model_name": "LayoutModel",
            "_view_count": null,
            "_view_module": "@jupyter-widgets/base",
            "_view_module_version": "1.2.0",
            "_view_name": "LayoutView",
            "align_content": null,
            "align_items": null,
            "align_self": null,
            "border": null,
            "bottom": null,
            "display": null,
            "flex": null,
            "flex_flow": null,
            "grid_area": null,
            "grid_auto_columns": null,
            "grid_auto_flow": null,
            "grid_auto_rows": null,
            "grid_column": null,
            "grid_gap": null,
            "grid_row": null,
            "grid_template_areas": null,
            "grid_template_columns": null,
            "grid_template_rows": null,
            "height": null,
            "justify_content": null,
            "justify_items": null,
            "left": null,
            "margin": null,
            "max_height": null,
            "max_width": null,
            "min_height": null,
            "min_width": null,
            "object_fit": null,
            "object_position": null,
            "order": null,
            "overflow": null,
            "overflow_x": null,
            "overflow_y": null,
            "padding": null,
            "right": null,
            "top": null,
            "visibility": null,
            "width": null
          }
        },
        "0c08957df9fa40dea92c5ed2d465523e": {
          "model_module": "@jupyter-widgets/base",
          "model_name": "LayoutModel",
          "model_module_version": "1.2.0",
          "state": {
            "_model_module": "@jupyter-widgets/base",
            "_model_module_version": "1.2.0",
            "_model_name": "LayoutModel",
            "_view_count": null,
            "_view_module": "@jupyter-widgets/base",
            "_view_module_version": "1.2.0",
            "_view_name": "LayoutView",
            "align_content": null,
            "align_items": null,
            "align_self": null,
            "border": null,
            "bottom": null,
            "display": null,
            "flex": null,
            "flex_flow": null,
            "grid_area": null,
            "grid_auto_columns": null,
            "grid_auto_flow": null,
            "grid_auto_rows": null,
            "grid_column": null,
            "grid_gap": null,
            "grid_row": null,
            "grid_template_areas": null,
            "grid_template_columns": null,
            "grid_template_rows": null,
            "height": null,
            "justify_content": null,
            "justify_items": null,
            "left": null,
            "margin": null,
            "max_height": null,
            "max_width": null,
            "min_height": null,
            "min_width": null,
            "object_fit": null,
            "object_position": null,
            "order": null,
            "overflow": null,
            "overflow_x": null,
            "overflow_y": null,
            "padding": null,
            "right": null,
            "top": null,
            "visibility": null,
            "width": null
          }
        },
        "716b41dd96c641bda429054b8f152729": {
          "model_module": "@jupyter-widgets/controls",
          "model_name": "DescriptionStyleModel",
          "model_module_version": "1.5.0",
          "state": {
            "_model_module": "@jupyter-widgets/controls",
            "_model_module_version": "1.5.0",
            "_model_name": "DescriptionStyleModel",
            "_view_count": null,
            "_view_module": "@jupyter-widgets/base",
            "_view_module_version": "1.2.0",
            "_view_name": "StyleView",
            "description_width": ""
          }
        },
        "cbd380d7824945c2a52e89ed2959cd66": {
          "model_module": "@jupyter-widgets/base",
          "model_name": "LayoutModel",
          "model_module_version": "1.2.0",
          "state": {
            "_model_module": "@jupyter-widgets/base",
            "_model_module_version": "1.2.0",
            "_model_name": "LayoutModel",
            "_view_count": null,
            "_view_module": "@jupyter-widgets/base",
            "_view_module_version": "1.2.0",
            "_view_name": "LayoutView",
            "align_content": null,
            "align_items": null,
            "align_self": null,
            "border": null,
            "bottom": null,
            "display": null,
            "flex": null,
            "flex_flow": null,
            "grid_area": null,
            "grid_auto_columns": null,
            "grid_auto_flow": null,
            "grid_auto_rows": null,
            "grid_column": null,
            "grid_gap": null,
            "grid_row": null,
            "grid_template_areas": null,
            "grid_template_columns": null,
            "grid_template_rows": null,
            "height": null,
            "justify_content": null,
            "justify_items": null,
            "left": null,
            "margin": null,
            "max_height": null,
            "max_width": null,
            "min_height": null,
            "min_width": null,
            "object_fit": null,
            "object_position": null,
            "order": null,
            "overflow": null,
            "overflow_x": null,
            "overflow_y": null,
            "padding": null,
            "right": null,
            "top": null,
            "visibility": null,
            "width": null
          }
        },
        "80d5a25e9af346128cdbb6c3ffe81696": {
          "model_module": "@jupyter-widgets/controls",
          "model_name": "ProgressStyleModel",
          "model_module_version": "1.5.0",
          "state": {
            "_model_module": "@jupyter-widgets/controls",
            "_model_module_version": "1.5.0",
            "_model_name": "ProgressStyleModel",
            "_view_count": null,
            "_view_module": "@jupyter-widgets/base",
            "_view_module_version": "1.2.0",
            "_view_name": "StyleView",
            "bar_color": null,
            "description_width": ""
          }
        },
        "d2462a3bafb04584b102f01e726734aa": {
          "model_module": "@jupyter-widgets/base",
          "model_name": "LayoutModel",
          "model_module_version": "1.2.0",
          "state": {
            "_model_module": "@jupyter-widgets/base",
            "_model_module_version": "1.2.0",
            "_model_name": "LayoutModel",
            "_view_count": null,
            "_view_module": "@jupyter-widgets/base",
            "_view_module_version": "1.2.0",
            "_view_name": "LayoutView",
            "align_content": null,
            "align_items": null,
            "align_self": null,
            "border": null,
            "bottom": null,
            "display": null,
            "flex": null,
            "flex_flow": null,
            "grid_area": null,
            "grid_auto_columns": null,
            "grid_auto_flow": null,
            "grid_auto_rows": null,
            "grid_column": null,
            "grid_gap": null,
            "grid_row": null,
            "grid_template_areas": null,
            "grid_template_columns": null,
            "grid_template_rows": null,
            "height": null,
            "justify_content": null,
            "justify_items": null,
            "left": null,
            "margin": null,
            "max_height": null,
            "max_width": null,
            "min_height": null,
            "min_width": null,
            "object_fit": null,
            "object_position": null,
            "order": null,
            "overflow": null,
            "overflow_x": null,
            "overflow_y": null,
            "padding": null,
            "right": null,
            "top": null,
            "visibility": null,
            "width": null
          }
        },
        "b36b335ce2484edfbc9574a047d38712": {
          "model_module": "@jupyter-widgets/controls",
          "model_name": "DescriptionStyleModel",
          "model_module_version": "1.5.0",
          "state": {
            "_model_module": "@jupyter-widgets/controls",
            "_model_module_version": "1.5.0",
            "_model_name": "DescriptionStyleModel",
            "_view_count": null,
            "_view_module": "@jupyter-widgets/base",
            "_view_module_version": "1.2.0",
            "_view_name": "StyleView",
            "description_width": ""
          }
        },
        "9e76d809c3f64c68aeb043526e2dc6bb": {
          "model_module": "@jupyter-widgets/controls",
          "model_name": "HBoxModel",
          "model_module_version": "1.5.0",
          "state": {
            "_dom_classes": [],
            "_model_module": "@jupyter-widgets/controls",
            "_model_module_version": "1.5.0",
            "_model_name": "HBoxModel",
            "_view_count": null,
            "_view_module": "@jupyter-widgets/controls",
            "_view_module_version": "1.5.0",
            "_view_name": "HBoxView",
            "box_style": "",
            "children": [
              "IPY_MODEL_b28cca9d323743a49e884e233f37458d",
              "IPY_MODEL_617da1561f2f49eaa3114f944c38fdc9",
              "IPY_MODEL_f8ee65f8aa7c4b0aac336eff6f3b04bb"
            ],
            "layout": "IPY_MODEL_ef10471c5b6f46d892e5812d962fffe1"
          }
        },
        "b28cca9d323743a49e884e233f37458d": {
          "model_module": "@jupyter-widgets/controls",
          "model_name": "HTMLModel",
          "model_module_version": "1.5.0",
          "state": {
            "_dom_classes": [],
            "_model_module": "@jupyter-widgets/controls",
            "_model_module_version": "1.5.0",
            "_model_name": "HTMLModel",
            "_view_count": null,
            "_view_module": "@jupyter-widgets/controls",
            "_view_module_version": "1.5.0",
            "_view_name": "HTMLView",
            "description": "",
            "description_tooltip": null,
            "layout": "IPY_MODEL_439166c887b34cd8b1fbd1934093bce1",
            "placeholder": "​",
            "style": "IPY_MODEL_00f03ce83d0f4704a8b51aaa29336bb7",
            "value": "Downloading (…)cial_tokens_map.json: 100%"
          }
        },
        "617da1561f2f49eaa3114f944c38fdc9": {
          "model_module": "@jupyter-widgets/controls",
          "model_name": "FloatProgressModel",
          "model_module_version": "1.5.0",
          "state": {
            "_dom_classes": [],
            "_model_module": "@jupyter-widgets/controls",
            "_model_module_version": "1.5.0",
            "_model_name": "FloatProgressModel",
            "_view_count": null,
            "_view_module": "@jupyter-widgets/controls",
            "_view_module_version": "1.5.0",
            "_view_name": "ProgressView",
            "bar_style": "success",
            "description": "",
            "description_tooltip": null,
            "layout": "IPY_MODEL_9f3d5e1e519b45a68ca7a1a4ac8cfab7",
            "max": 441,
            "min": 0,
            "orientation": "horizontal",
            "style": "IPY_MODEL_2fe8224f675d414ab037f2276ccc8e9a",
            "value": 441
          }
        },
        "f8ee65f8aa7c4b0aac336eff6f3b04bb": {
          "model_module": "@jupyter-widgets/controls",
          "model_name": "HTMLModel",
          "model_module_version": "1.5.0",
          "state": {
            "_dom_classes": [],
            "_model_module": "@jupyter-widgets/controls",
            "_model_module_version": "1.5.0",
            "_model_name": "HTMLModel",
            "_view_count": null,
            "_view_module": "@jupyter-widgets/controls",
            "_view_module_version": "1.5.0",
            "_view_name": "HTMLView",
            "description": "",
            "description_tooltip": null,
            "layout": "IPY_MODEL_620c077d0cb841248496cf8cbd0b1347",
            "placeholder": "​",
            "style": "IPY_MODEL_8451856162534927bf15c1f42daff709",
            "value": " 441/441 [00:00&lt;00:00, 22.7kB/s]"
          }
        },
        "ef10471c5b6f46d892e5812d962fffe1": {
          "model_module": "@jupyter-widgets/base",
          "model_name": "LayoutModel",
          "model_module_version": "1.2.0",
          "state": {
            "_model_module": "@jupyter-widgets/base",
            "_model_module_version": "1.2.0",
            "_model_name": "LayoutModel",
            "_view_count": null,
            "_view_module": "@jupyter-widgets/base",
            "_view_module_version": "1.2.0",
            "_view_name": "LayoutView",
            "align_content": null,
            "align_items": null,
            "align_self": null,
            "border": null,
            "bottom": null,
            "display": null,
            "flex": null,
            "flex_flow": null,
            "grid_area": null,
            "grid_auto_columns": null,
            "grid_auto_flow": null,
            "grid_auto_rows": null,
            "grid_column": null,
            "grid_gap": null,
            "grid_row": null,
            "grid_template_areas": null,
            "grid_template_columns": null,
            "grid_template_rows": null,
            "height": null,
            "justify_content": null,
            "justify_items": null,
            "left": null,
            "margin": null,
            "max_height": null,
            "max_width": null,
            "min_height": null,
            "min_width": null,
            "object_fit": null,
            "object_position": null,
            "order": null,
            "overflow": null,
            "overflow_x": null,
            "overflow_y": null,
            "padding": null,
            "right": null,
            "top": null,
            "visibility": null,
            "width": null
          }
        },
        "439166c887b34cd8b1fbd1934093bce1": {
          "model_module": "@jupyter-widgets/base",
          "model_name": "LayoutModel",
          "model_module_version": "1.2.0",
          "state": {
            "_model_module": "@jupyter-widgets/base",
            "_model_module_version": "1.2.0",
            "_model_name": "LayoutModel",
            "_view_count": null,
            "_view_module": "@jupyter-widgets/base",
            "_view_module_version": "1.2.0",
            "_view_name": "LayoutView",
            "align_content": null,
            "align_items": null,
            "align_self": null,
            "border": null,
            "bottom": null,
            "display": null,
            "flex": null,
            "flex_flow": null,
            "grid_area": null,
            "grid_auto_columns": null,
            "grid_auto_flow": null,
            "grid_auto_rows": null,
            "grid_column": null,
            "grid_gap": null,
            "grid_row": null,
            "grid_template_areas": null,
            "grid_template_columns": null,
            "grid_template_rows": null,
            "height": null,
            "justify_content": null,
            "justify_items": null,
            "left": null,
            "margin": null,
            "max_height": null,
            "max_width": null,
            "min_height": null,
            "min_width": null,
            "object_fit": null,
            "object_position": null,
            "order": null,
            "overflow": null,
            "overflow_x": null,
            "overflow_y": null,
            "padding": null,
            "right": null,
            "top": null,
            "visibility": null,
            "width": null
          }
        },
        "00f03ce83d0f4704a8b51aaa29336bb7": {
          "model_module": "@jupyter-widgets/controls",
          "model_name": "DescriptionStyleModel",
          "model_module_version": "1.5.0",
          "state": {
            "_model_module": "@jupyter-widgets/controls",
            "_model_module_version": "1.5.0",
            "_model_name": "DescriptionStyleModel",
            "_view_count": null,
            "_view_module": "@jupyter-widgets/base",
            "_view_module_version": "1.2.0",
            "_view_name": "StyleView",
            "description_width": ""
          }
        },
        "9f3d5e1e519b45a68ca7a1a4ac8cfab7": {
          "model_module": "@jupyter-widgets/base",
          "model_name": "LayoutModel",
          "model_module_version": "1.2.0",
          "state": {
            "_model_module": "@jupyter-widgets/base",
            "_model_module_version": "1.2.0",
            "_model_name": "LayoutModel",
            "_view_count": null,
            "_view_module": "@jupyter-widgets/base",
            "_view_module_version": "1.2.0",
            "_view_name": "LayoutView",
            "align_content": null,
            "align_items": null,
            "align_self": null,
            "border": null,
            "bottom": null,
            "display": null,
            "flex": null,
            "flex_flow": null,
            "grid_area": null,
            "grid_auto_columns": null,
            "grid_auto_flow": null,
            "grid_auto_rows": null,
            "grid_column": null,
            "grid_gap": null,
            "grid_row": null,
            "grid_template_areas": null,
            "grid_template_columns": null,
            "grid_template_rows": null,
            "height": null,
            "justify_content": null,
            "justify_items": null,
            "left": null,
            "margin": null,
            "max_height": null,
            "max_width": null,
            "min_height": null,
            "min_width": null,
            "object_fit": null,
            "object_position": null,
            "order": null,
            "overflow": null,
            "overflow_x": null,
            "overflow_y": null,
            "padding": null,
            "right": null,
            "top": null,
            "visibility": null,
            "width": null
          }
        },
        "2fe8224f675d414ab037f2276ccc8e9a": {
          "model_module": "@jupyter-widgets/controls",
          "model_name": "ProgressStyleModel",
          "model_module_version": "1.5.0",
          "state": {
            "_model_module": "@jupyter-widgets/controls",
            "_model_module_version": "1.5.0",
            "_model_name": "ProgressStyleModel",
            "_view_count": null,
            "_view_module": "@jupyter-widgets/base",
            "_view_module_version": "1.2.0",
            "_view_name": "StyleView",
            "bar_color": null,
            "description_width": ""
          }
        },
        "620c077d0cb841248496cf8cbd0b1347": {
          "model_module": "@jupyter-widgets/base",
          "model_name": "LayoutModel",
          "model_module_version": "1.2.0",
          "state": {
            "_model_module": "@jupyter-widgets/base",
            "_model_module_version": "1.2.0",
            "_model_name": "LayoutModel",
            "_view_count": null,
            "_view_module": "@jupyter-widgets/base",
            "_view_module_version": "1.2.0",
            "_view_name": "LayoutView",
            "align_content": null,
            "align_items": null,
            "align_self": null,
            "border": null,
            "bottom": null,
            "display": null,
            "flex": null,
            "flex_flow": null,
            "grid_area": null,
            "grid_auto_columns": null,
            "grid_auto_flow": null,
            "grid_auto_rows": null,
            "grid_column": null,
            "grid_gap": null,
            "grid_row": null,
            "grid_template_areas": null,
            "grid_template_columns": null,
            "grid_template_rows": null,
            "height": null,
            "justify_content": null,
            "justify_items": null,
            "left": null,
            "margin": null,
            "max_height": null,
            "max_width": null,
            "min_height": null,
            "min_width": null,
            "object_fit": null,
            "object_position": null,
            "order": null,
            "overflow": null,
            "overflow_x": null,
            "overflow_y": null,
            "padding": null,
            "right": null,
            "top": null,
            "visibility": null,
            "width": null
          }
        },
        "8451856162534927bf15c1f42daff709": {
          "model_module": "@jupyter-widgets/controls",
          "model_name": "DescriptionStyleModel",
          "model_module_version": "1.5.0",
          "state": {
            "_model_module": "@jupyter-widgets/controls",
            "_model_module_version": "1.5.0",
            "_model_name": "DescriptionStyleModel",
            "_view_count": null,
            "_view_module": "@jupyter-widgets/base",
            "_view_module_version": "1.2.0",
            "_view_name": "StyleView",
            "description_width": ""
          }
        },
        "a0977351d6e049938d1c33a2ee108553": {
          "model_module": "@jupyter-widgets/controls",
          "model_name": "HBoxModel",
          "model_module_version": "1.5.0",
          "state": {
            "_dom_classes": [],
            "_model_module": "@jupyter-widgets/controls",
            "_model_module_version": "1.5.0",
            "_model_name": "HBoxModel",
            "_view_count": null,
            "_view_module": "@jupyter-widgets/controls",
            "_view_module_version": "1.5.0",
            "_view_name": "HBoxView",
            "box_style": "",
            "children": [
              "IPY_MODEL_2ef618e882704340bad5db73a5dff9b9",
              "IPY_MODEL_967ca9898c2a456093dc699b20a6897a",
              "IPY_MODEL_e067bc42856d44e8b6a0930fb8eeffa4"
            ],
            "layout": "IPY_MODEL_9e9c46241d30441fa246a8790eaef0c7"
          }
        },
        "2ef618e882704340bad5db73a5dff9b9": {
          "model_module": "@jupyter-widgets/controls",
          "model_name": "HTMLModel",
          "model_module_version": "1.5.0",
          "state": {
            "_dom_classes": [],
            "_model_module": "@jupyter-widgets/controls",
            "_model_module_version": "1.5.0",
            "_model_name": "HTMLModel",
            "_view_count": null,
            "_view_module": "@jupyter-widgets/controls",
            "_view_module_version": "1.5.0",
            "_view_name": "HTMLView",
            "description": "",
            "description_tooltip": null,
            "layout": "IPY_MODEL_468023a72c0c4ad399f135eef9f13ca7",
            "placeholder": "​",
            "style": "IPY_MODEL_30c898c37f154b9eabfccb50f1a7d111",
            "value": "Downloading pytorch_model.bin: 100%"
          }
        },
        "967ca9898c2a456093dc699b20a6897a": {
          "model_module": "@jupyter-widgets/controls",
          "model_name": "FloatProgressModel",
          "model_module_version": "1.5.0",
          "state": {
            "_dom_classes": [],
            "_model_module": "@jupyter-widgets/controls",
            "_model_module_version": "1.5.0",
            "_model_name": "FloatProgressModel",
            "_view_count": null,
            "_view_module": "@jupyter-widgets/controls",
            "_view_module_version": "1.5.0",
            "_view_name": "ProgressView",
            "bar_style": "success",
            "description": "",
            "description_tooltip": null,
            "layout": "IPY_MODEL_b60f7ab7ec01400c87ec140814fe63ef",
            "max": 250540281,
            "min": 0,
            "orientation": "horizontal",
            "style": "IPY_MODEL_42386d01da6f4483ab910dede24ba97f",
            "value": 250540281
          }
        },
        "e067bc42856d44e8b6a0930fb8eeffa4": {
          "model_module": "@jupyter-widgets/controls",
          "model_name": "HTMLModel",
          "model_module_version": "1.5.0",
          "state": {
            "_dom_classes": [],
            "_model_module": "@jupyter-widgets/controls",
            "_model_module_version": "1.5.0",
            "_model_name": "HTMLModel",
            "_view_count": null,
            "_view_module": "@jupyter-widgets/controls",
            "_view_module_version": "1.5.0",
            "_view_name": "HTMLView",
            "description": "",
            "description_tooltip": null,
            "layout": "IPY_MODEL_bd8937660d174a5c9d000ed28b462359",
            "placeholder": "​",
            "style": "IPY_MODEL_a9f1054349bc48be95a87bc47d1f59b2",
            "value": " 251M/251M [00:00&lt;00:00, 319MB/s]"
          }
        },
        "9e9c46241d30441fa246a8790eaef0c7": {
          "model_module": "@jupyter-widgets/base",
          "model_name": "LayoutModel",
          "model_module_version": "1.2.0",
          "state": {
            "_model_module": "@jupyter-widgets/base",
            "_model_module_version": "1.2.0",
            "_model_name": "LayoutModel",
            "_view_count": null,
            "_view_module": "@jupyter-widgets/base",
            "_view_module_version": "1.2.0",
            "_view_name": "LayoutView",
            "align_content": null,
            "align_items": null,
            "align_self": null,
            "border": null,
            "bottom": null,
            "display": null,
            "flex": null,
            "flex_flow": null,
            "grid_area": null,
            "grid_auto_columns": null,
            "grid_auto_flow": null,
            "grid_auto_rows": null,
            "grid_column": null,
            "grid_gap": null,
            "grid_row": null,
            "grid_template_areas": null,
            "grid_template_columns": null,
            "grid_template_rows": null,
            "height": null,
            "justify_content": null,
            "justify_items": null,
            "left": null,
            "margin": null,
            "max_height": null,
            "max_width": null,
            "min_height": null,
            "min_width": null,
            "object_fit": null,
            "object_position": null,
            "order": null,
            "overflow": null,
            "overflow_x": null,
            "overflow_y": null,
            "padding": null,
            "right": null,
            "top": null,
            "visibility": null,
            "width": null
          }
        },
        "468023a72c0c4ad399f135eef9f13ca7": {
          "model_module": "@jupyter-widgets/base",
          "model_name": "LayoutModel",
          "model_module_version": "1.2.0",
          "state": {
            "_model_module": "@jupyter-widgets/base",
            "_model_module_version": "1.2.0",
            "_model_name": "LayoutModel",
            "_view_count": null,
            "_view_module": "@jupyter-widgets/base",
            "_view_module_version": "1.2.0",
            "_view_name": "LayoutView",
            "align_content": null,
            "align_items": null,
            "align_self": null,
            "border": null,
            "bottom": null,
            "display": null,
            "flex": null,
            "flex_flow": null,
            "grid_area": null,
            "grid_auto_columns": null,
            "grid_auto_flow": null,
            "grid_auto_rows": null,
            "grid_column": null,
            "grid_gap": null,
            "grid_row": null,
            "grid_template_areas": null,
            "grid_template_columns": null,
            "grid_template_rows": null,
            "height": null,
            "justify_content": null,
            "justify_items": null,
            "left": null,
            "margin": null,
            "max_height": null,
            "max_width": null,
            "min_height": null,
            "min_width": null,
            "object_fit": null,
            "object_position": null,
            "order": null,
            "overflow": null,
            "overflow_x": null,
            "overflow_y": null,
            "padding": null,
            "right": null,
            "top": null,
            "visibility": null,
            "width": null
          }
        },
        "30c898c37f154b9eabfccb50f1a7d111": {
          "model_module": "@jupyter-widgets/controls",
          "model_name": "DescriptionStyleModel",
          "model_module_version": "1.5.0",
          "state": {
            "_model_module": "@jupyter-widgets/controls",
            "_model_module_version": "1.5.0",
            "_model_name": "DescriptionStyleModel",
            "_view_count": null,
            "_view_module": "@jupyter-widgets/base",
            "_view_module_version": "1.2.0",
            "_view_name": "StyleView",
            "description_width": ""
          }
        },
        "b60f7ab7ec01400c87ec140814fe63ef": {
          "model_module": "@jupyter-widgets/base",
          "model_name": "LayoutModel",
          "model_module_version": "1.2.0",
          "state": {
            "_model_module": "@jupyter-widgets/base",
            "_model_module_version": "1.2.0",
            "_model_name": "LayoutModel",
            "_view_count": null,
            "_view_module": "@jupyter-widgets/base",
            "_view_module_version": "1.2.0",
            "_view_name": "LayoutView",
            "align_content": null,
            "align_items": null,
            "align_self": null,
            "border": null,
            "bottom": null,
            "display": null,
            "flex": null,
            "flex_flow": null,
            "grid_area": null,
            "grid_auto_columns": null,
            "grid_auto_flow": null,
            "grid_auto_rows": null,
            "grid_column": null,
            "grid_gap": null,
            "grid_row": null,
            "grid_template_areas": null,
            "grid_template_columns": null,
            "grid_template_rows": null,
            "height": null,
            "justify_content": null,
            "justify_items": null,
            "left": null,
            "margin": null,
            "max_height": null,
            "max_width": null,
            "min_height": null,
            "min_width": null,
            "object_fit": null,
            "object_position": null,
            "order": null,
            "overflow": null,
            "overflow_x": null,
            "overflow_y": null,
            "padding": null,
            "right": null,
            "top": null,
            "visibility": null,
            "width": null
          }
        },
        "42386d01da6f4483ab910dede24ba97f": {
          "model_module": "@jupyter-widgets/controls",
          "model_name": "ProgressStyleModel",
          "model_module_version": "1.5.0",
          "state": {
            "_model_module": "@jupyter-widgets/controls",
            "_model_module_version": "1.5.0",
            "_model_name": "ProgressStyleModel",
            "_view_count": null,
            "_view_module": "@jupyter-widgets/base",
            "_view_module_version": "1.2.0",
            "_view_name": "StyleView",
            "bar_color": null,
            "description_width": ""
          }
        },
        "bd8937660d174a5c9d000ed28b462359": {
          "model_module": "@jupyter-widgets/base",
          "model_name": "LayoutModel",
          "model_module_version": "1.2.0",
          "state": {
            "_model_module": "@jupyter-widgets/base",
            "_model_module_version": "1.2.0",
            "_model_name": "LayoutModel",
            "_view_count": null,
            "_view_module": "@jupyter-widgets/base",
            "_view_module_version": "1.2.0",
            "_view_name": "LayoutView",
            "align_content": null,
            "align_items": null,
            "align_self": null,
            "border": null,
            "bottom": null,
            "display": null,
            "flex": null,
            "flex_flow": null,
            "grid_area": null,
            "grid_auto_columns": null,
            "grid_auto_flow": null,
            "grid_auto_rows": null,
            "grid_column": null,
            "grid_gap": null,
            "grid_row": null,
            "grid_template_areas": null,
            "grid_template_columns": null,
            "grid_template_rows": null,
            "height": null,
            "justify_content": null,
            "justify_items": null,
            "left": null,
            "margin": null,
            "max_height": null,
            "max_width": null,
            "min_height": null,
            "min_width": null,
            "object_fit": null,
            "object_position": null,
            "order": null,
            "overflow": null,
            "overflow_x": null,
            "overflow_y": null,
            "padding": null,
            "right": null,
            "top": null,
            "visibility": null,
            "width": null
          }
        },
        "a9f1054349bc48be95a87bc47d1f59b2": {
          "model_module": "@jupyter-widgets/controls",
          "model_name": "DescriptionStyleModel",
          "model_module_version": "1.5.0",
          "state": {
            "_model_module": "@jupyter-widgets/controls",
            "_model_module_version": "1.5.0",
            "_model_name": "DescriptionStyleModel",
            "_view_count": null,
            "_view_module": "@jupyter-widgets/base",
            "_view_module_version": "1.2.0",
            "_view_name": "StyleView",
            "description_width": ""
          }
        },
        "89338dc39c5d4680a1a7fa691ab708da": {
          "model_module": "@jupyter-widgets/controls",
          "model_name": "HBoxModel",
          "model_module_version": "1.5.0",
          "state": {
            "_dom_classes": [],
            "_model_module": "@jupyter-widgets/controls",
            "_model_module_version": "1.5.0",
            "_model_name": "HBoxModel",
            "_view_count": null,
            "_view_module": "@jupyter-widgets/controls",
            "_view_module_version": "1.5.0",
            "_view_name": "HBoxView",
            "box_style": "",
            "children": [
              "IPY_MODEL_1cc953f1de3b4d4a9c5ff0e64cdc813e",
              "IPY_MODEL_74d62226c60f4497abd32fa476e4d05e",
              "IPY_MODEL_450c1fb076ec4f5687209a436e3a234f"
            ],
            "layout": "IPY_MODEL_bf4e589aa12f4194a040d3d88f347878"
          }
        },
        "1cc953f1de3b4d4a9c5ff0e64cdc813e": {
          "model_module": "@jupyter-widgets/controls",
          "model_name": "HTMLModel",
          "model_module_version": "1.5.0",
          "state": {
            "_dom_classes": [],
            "_model_module": "@jupyter-widgets/controls",
            "_model_module_version": "1.5.0",
            "_model_name": "HTMLModel",
            "_view_count": null,
            "_view_module": "@jupyter-widgets/controls",
            "_view_module_version": "1.5.0",
            "_view_name": "HTMLView",
            "description": "",
            "description_tooltip": null,
            "layout": "IPY_MODEL_951b063c5b20434e895420d0e5ce9218",
            "placeholder": "​",
            "style": "IPY_MODEL_fd70490a60c94c1ca40f9d2c52666847",
            "value": "Downloading (…)neration_config.json: 100%"
          }
        },
        "74d62226c60f4497abd32fa476e4d05e": {
          "model_module": "@jupyter-widgets/controls",
          "model_name": "FloatProgressModel",
          "model_module_version": "1.5.0",
          "state": {
            "_dom_classes": [],
            "_model_module": "@jupyter-widgets/controls",
            "_model_module_version": "1.5.0",
            "_model_name": "FloatProgressModel",
            "_view_count": null,
            "_view_module": "@jupyter-widgets/controls",
            "_view_module_version": "1.5.0",
            "_view_name": "ProgressView",
            "bar_style": "success",
            "description": "",
            "description_tooltip": null,
            "layout": "IPY_MODEL_7d1f2f04887742bd98218d0f9e678845",
            "max": 137,
            "min": 0,
            "orientation": "horizontal",
            "style": "IPY_MODEL_4826be0ff67248b3925a2e459acbd06b",
            "value": 137
          }
        },
        "450c1fb076ec4f5687209a436e3a234f": {
          "model_module": "@jupyter-widgets/controls",
          "model_name": "HTMLModel",
          "model_module_version": "1.5.0",
          "state": {
            "_dom_classes": [],
            "_model_module": "@jupyter-widgets/controls",
            "_model_module_version": "1.5.0",
            "_model_name": "HTMLModel",
            "_view_count": null,
            "_view_module": "@jupyter-widgets/controls",
            "_view_module_version": "1.5.0",
            "_view_name": "HTMLView",
            "description": "",
            "description_tooltip": null,
            "layout": "IPY_MODEL_37c6d55dfd974f658a16aa031a757690",
            "placeholder": "​",
            "style": "IPY_MODEL_0653bdc8952c4fe48fbb6c7398d31ce1",
            "value": " 137/137 [00:00&lt;00:00, 2.87kB/s]"
          }
        },
        "bf4e589aa12f4194a040d3d88f347878": {
          "model_module": "@jupyter-widgets/base",
          "model_name": "LayoutModel",
          "model_module_version": "1.2.0",
          "state": {
            "_model_module": "@jupyter-widgets/base",
            "_model_module_version": "1.2.0",
            "_model_name": "LayoutModel",
            "_view_count": null,
            "_view_module": "@jupyter-widgets/base",
            "_view_module_version": "1.2.0",
            "_view_name": "LayoutView",
            "align_content": null,
            "align_items": null,
            "align_self": null,
            "border": null,
            "bottom": null,
            "display": null,
            "flex": null,
            "flex_flow": null,
            "grid_area": null,
            "grid_auto_columns": null,
            "grid_auto_flow": null,
            "grid_auto_rows": null,
            "grid_column": null,
            "grid_gap": null,
            "grid_row": null,
            "grid_template_areas": null,
            "grid_template_columns": null,
            "grid_template_rows": null,
            "height": null,
            "justify_content": null,
            "justify_items": null,
            "left": null,
            "margin": null,
            "max_height": null,
            "max_width": null,
            "min_height": null,
            "min_width": null,
            "object_fit": null,
            "object_position": null,
            "order": null,
            "overflow": null,
            "overflow_x": null,
            "overflow_y": null,
            "padding": null,
            "right": null,
            "top": null,
            "visibility": null,
            "width": null
          }
        },
        "951b063c5b20434e895420d0e5ce9218": {
          "model_module": "@jupyter-widgets/base",
          "model_name": "LayoutModel",
          "model_module_version": "1.2.0",
          "state": {
            "_model_module": "@jupyter-widgets/base",
            "_model_module_version": "1.2.0",
            "_model_name": "LayoutModel",
            "_view_count": null,
            "_view_module": "@jupyter-widgets/base",
            "_view_module_version": "1.2.0",
            "_view_name": "LayoutView",
            "align_content": null,
            "align_items": null,
            "align_self": null,
            "border": null,
            "bottom": null,
            "display": null,
            "flex": null,
            "flex_flow": null,
            "grid_area": null,
            "grid_auto_columns": null,
            "grid_auto_flow": null,
            "grid_auto_rows": null,
            "grid_column": null,
            "grid_gap": null,
            "grid_row": null,
            "grid_template_areas": null,
            "grid_template_columns": null,
            "grid_template_rows": null,
            "height": null,
            "justify_content": null,
            "justify_items": null,
            "left": null,
            "margin": null,
            "max_height": null,
            "max_width": null,
            "min_height": null,
            "min_width": null,
            "object_fit": null,
            "object_position": null,
            "order": null,
            "overflow": null,
            "overflow_x": null,
            "overflow_y": null,
            "padding": null,
            "right": null,
            "top": null,
            "visibility": null,
            "width": null
          }
        },
        "fd70490a60c94c1ca40f9d2c52666847": {
          "model_module": "@jupyter-widgets/controls",
          "model_name": "DescriptionStyleModel",
          "model_module_version": "1.5.0",
          "state": {
            "_model_module": "@jupyter-widgets/controls",
            "_model_module_version": "1.5.0",
            "_model_name": "DescriptionStyleModel",
            "_view_count": null,
            "_view_module": "@jupyter-widgets/base",
            "_view_module_version": "1.2.0",
            "_view_name": "StyleView",
            "description_width": ""
          }
        },
        "7d1f2f04887742bd98218d0f9e678845": {
          "model_module": "@jupyter-widgets/base",
          "model_name": "LayoutModel",
          "model_module_version": "1.2.0",
          "state": {
            "_model_module": "@jupyter-widgets/base",
            "_model_module_version": "1.2.0",
            "_model_name": "LayoutModel",
            "_view_count": null,
            "_view_module": "@jupyter-widgets/base",
            "_view_module_version": "1.2.0",
            "_view_name": "LayoutView",
            "align_content": null,
            "align_items": null,
            "align_self": null,
            "border": null,
            "bottom": null,
            "display": null,
            "flex": null,
            "flex_flow": null,
            "grid_area": null,
            "grid_auto_columns": null,
            "grid_auto_flow": null,
            "grid_auto_rows": null,
            "grid_column": null,
            "grid_gap": null,
            "grid_row": null,
            "grid_template_areas": null,
            "grid_template_columns": null,
            "grid_template_rows": null,
            "height": null,
            "justify_content": null,
            "justify_items": null,
            "left": null,
            "margin": null,
            "max_height": null,
            "max_width": null,
            "min_height": null,
            "min_width": null,
            "object_fit": null,
            "object_position": null,
            "order": null,
            "overflow": null,
            "overflow_x": null,
            "overflow_y": null,
            "padding": null,
            "right": null,
            "top": null,
            "visibility": null,
            "width": null
          }
        },
        "4826be0ff67248b3925a2e459acbd06b": {
          "model_module": "@jupyter-widgets/controls",
          "model_name": "ProgressStyleModel",
          "model_module_version": "1.5.0",
          "state": {
            "_model_module": "@jupyter-widgets/controls",
            "_model_module_version": "1.5.0",
            "_model_name": "ProgressStyleModel",
            "_view_count": null,
            "_view_module": "@jupyter-widgets/base",
            "_view_module_version": "1.2.0",
            "_view_name": "StyleView",
            "bar_color": null,
            "description_width": ""
          }
        },
        "37c6d55dfd974f658a16aa031a757690": {
          "model_module": "@jupyter-widgets/base",
          "model_name": "LayoutModel",
          "model_module_version": "1.2.0",
          "state": {
            "_model_module": "@jupyter-widgets/base",
            "_model_module_version": "1.2.0",
            "_model_name": "LayoutModel",
            "_view_count": null,
            "_view_module": "@jupyter-widgets/base",
            "_view_module_version": "1.2.0",
            "_view_name": "LayoutView",
            "align_content": null,
            "align_items": null,
            "align_self": null,
            "border": null,
            "bottom": null,
            "display": null,
            "flex": null,
            "flex_flow": null,
            "grid_area": null,
            "grid_auto_columns": null,
            "grid_auto_flow": null,
            "grid_auto_rows": null,
            "grid_column": null,
            "grid_gap": null,
            "grid_row": null,
            "grid_template_areas": null,
            "grid_template_columns": null,
            "grid_template_rows": null,
            "height": null,
            "justify_content": null,
            "justify_items": null,
            "left": null,
            "margin": null,
            "max_height": null,
            "max_width": null,
            "min_height": null,
            "min_width": null,
            "object_fit": null,
            "object_position": null,
            "order": null,
            "overflow": null,
            "overflow_x": null,
            "overflow_y": null,
            "padding": null,
            "right": null,
            "top": null,
            "visibility": null,
            "width": null
          }
        },
        "0653bdc8952c4fe48fbb6c7398d31ce1": {
          "model_module": "@jupyter-widgets/controls",
          "model_name": "DescriptionStyleModel",
          "model_module_version": "1.5.0",
          "state": {
            "_model_module": "@jupyter-widgets/controls",
            "_model_module_version": "1.5.0",
            "_model_name": "DescriptionStyleModel",
            "_view_count": null,
            "_view_module": "@jupyter-widgets/base",
            "_view_module_version": "1.2.0",
            "_view_name": "StyleView",
            "description_width": ""
          }
        }
      }
    }
  },
  "cells": [
    {
      "cell_type": "markdown",
      "source": [
        "# Dev contrastive knowledge assesment notebook\n",
        "\n",
        "<a target=\"_blank\" href=\"https://colab.research.google.com/github/daniel-furman/Capstone/blob/main/notebooks/CKA_dev.ipynb\">\n",
        "  <img src=\"https://colab.research.google.com/assets/colab-badge.svg\" alt=\"Open In Colab\"/>\n",
        "</a>\n"
      ],
      "metadata": {
        "id": "Am_Ubq6xTaBz"
      }
    },
    {
      "cell_type": "markdown",
      "source": [
        "## Dependencies"
      ],
      "metadata": {
        "id": "uccv2X7WeJGv"
      }
    },
    {
      "cell_type": "code",
      "source": [
        "!git clone https://github.com/daniel-furman/Capstone.git"
      ],
      "metadata": {
        "colab": {
          "base_uri": "https://localhost:8080/"
        },
        "id": "A4gro-sOZz-O",
        "outputId": "e4e9a6a2-96a3-4fa1-cd00-f5d45c70005e"
      },
      "execution_count": null,
      "outputs": [
        {
          "output_type": "stream",
          "name": "stdout",
          "text": [
            "Cloning into 'Capstone'...\n",
            "remote: Enumerating objects: 240, done.\u001b[K\n",
            "remote: Counting objects: 100% (240/240), done.\u001b[K\n",
            "remote: Compressing objects: 100% (151/151), done.\u001b[K\n",
            "remote: Total 240 (delta 98), reused 197 (delta 56), pack-reused 0\u001b[K\n",
            "Receiving objects: 100% (240/240), 21.08 MiB | 14.67 MiB/s, done.\n",
            "Resolving deltas: 100% (98/98), done.\n"
          ]
        }
      ]
    },
    {
      "cell_type": "code",
      "source": [
        "!pip install -r /content/Capstone/src/cka/scripts/requirements.txt"
      ],
      "metadata": {
        "colab": {
          "base_uri": "https://localhost:8080/"
        },
        "id": "qaXMJaroH_TI",
        "outputId": "c8fd5f3f-a4ac-495d-e2fb-565a9b45b6cc"
      },
      "execution_count": null,
      "outputs": [
        {
          "output_type": "stream",
          "name": "stdout",
          "text": [
            "Looking in indexes: https://pypi.org/simple, https://us-python.pkg.dev/colab-wheels/public/simple/\n",
            "Requirement already satisfied: numpy==1.22.4 in /usr/local/lib/python3.9/dist-packages (from -r /content/Capstone/src/cka/scripts/requirements.txt (line 1)) (1.22.4)\n",
            "Requirement already satisfied: torch==1.13.1 in /usr/local/lib/python3.9/dist-packages (from -r /content/Capstone/src/cka/scripts/requirements.txt (line 2)) (1.13.1+cu116)\n",
            "Collecting transformers==4.26.1\n",
            "  Downloading transformers-4.26.1-py3-none-any.whl (6.3 MB)\n",
            "\u001b[2K     \u001b[90m━━━━━━━━━━━━━━━━━━━━━━━━━━━━━━━━━━━━━━━━\u001b[0m \u001b[32m6.3/6.3 MB\u001b[0m \u001b[31m38.7 MB/s\u001b[0m eta \u001b[36m0:00:00\u001b[0m\n",
            "\u001b[?25hCollecting sentencepiece==0.1.97\n",
            "  Downloading sentencepiece-0.1.97-cp39-cp39-manylinux_2_17_x86_64.manylinux2014_x86_64.whl (1.3 MB)\n",
            "\u001b[2K     \u001b[90m━━━━━━━━━━━━━━━━━━━━━━━━━━━━━━━━━━━━━━━━\u001b[0m \u001b[32m1.3/1.3 MB\u001b[0m \u001b[31m32.7 MB/s\u001b[0m eta \u001b[36m0:00:00\u001b[0m\n",
            "\u001b[?25hCollecting accelerate==0.16.0\n",
            "  Downloading accelerate-0.16.0-py3-none-any.whl (199 kB)\n",
            "\u001b[2K     \u001b[90m━━━━━━━━━━━━━━━━━━━━━━━━━━━━━━━━━━━━━━━\u001b[0m \u001b[32m199.7/199.7 KB\u001b[0m \u001b[31m8.8 MB/s\u001b[0m eta \u001b[36m0:00:00\u001b[0m\n",
            "\u001b[?25hCollecting bitsandbytes==0.37.0\n",
            "  Downloading bitsandbytes-0.37.0-py3-none-any.whl (76.3 MB)\n",
            "\u001b[2K     \u001b[90m━━━━━━━━━━━━━━━━━━━━━━━━━━━━━━━━━━━━━━━━\u001b[0m \u001b[32m76.3/76.3 MB\u001b[0m \u001b[31m11.0 MB/s\u001b[0m eta \u001b[36m0:00:00\u001b[0m\n",
            "\u001b[?25hRequirement already satisfied: typing-extensions in /usr/local/lib/python3.9/dist-packages (from torch==1.13.1->-r /content/Capstone/src/cka/scripts/requirements.txt (line 2)) (4.5.0)\n",
            "Requirement already satisfied: pyyaml>=5.1 in /usr/local/lib/python3.9/dist-packages (from transformers==4.26.1->-r /content/Capstone/src/cka/scripts/requirements.txt (line 3)) (6.0)\n",
            "Requirement already satisfied: requests in /usr/local/lib/python3.9/dist-packages (from transformers==4.26.1->-r /content/Capstone/src/cka/scripts/requirements.txt (line 3)) (2.25.1)\n",
            "Requirement already satisfied: tqdm>=4.27 in /usr/local/lib/python3.9/dist-packages (from transformers==4.26.1->-r /content/Capstone/src/cka/scripts/requirements.txt (line 3)) (4.65.0)\n",
            "Requirement already satisfied: filelock in /usr/local/lib/python3.9/dist-packages (from transformers==4.26.1->-r /content/Capstone/src/cka/scripts/requirements.txt (line 3)) (3.9.0)\n",
            "Requirement already satisfied: packaging>=20.0 in /usr/local/lib/python3.9/dist-packages (from transformers==4.26.1->-r /content/Capstone/src/cka/scripts/requirements.txt (line 3)) (23.0)\n",
            "Collecting huggingface-hub<1.0,>=0.11.0\n",
            "  Downloading huggingface_hub-0.13.1-py3-none-any.whl (199 kB)\n",
            "\u001b[2K     \u001b[90m━━━━━━━━━━━━━━━━━━━━━━━━━━━━━━━━━━━━━━━\u001b[0m \u001b[32m199.2/199.2 KB\u001b[0m \u001b[31m8.6 MB/s\u001b[0m eta \u001b[36m0:00:00\u001b[0m\n",
            "\u001b[?25hCollecting tokenizers!=0.11.3,<0.14,>=0.11.1\n",
            "  Downloading tokenizers-0.13.2-cp39-cp39-manylinux_2_17_x86_64.manylinux2014_x86_64.whl (7.6 MB)\n",
            "\u001b[2K     \u001b[90m━━━━━━━━━━━━━━━━━━━━━━━━━━━━━━━━━━━━━━━━\u001b[0m \u001b[32m7.6/7.6 MB\u001b[0m \u001b[31m42.2 MB/s\u001b[0m eta \u001b[36m0:00:00\u001b[0m\n",
            "\u001b[?25hRequirement already satisfied: regex!=2019.12.17 in /usr/local/lib/python3.9/dist-packages (from transformers==4.26.1->-r /content/Capstone/src/cka/scripts/requirements.txt (line 3)) (2022.6.2)\n",
            "Requirement already satisfied: psutil in /usr/local/lib/python3.9/dist-packages (from accelerate==0.16.0->-r /content/Capstone/src/cka/scripts/requirements.txt (line 5)) (5.4.8)\n",
            "Requirement already satisfied: urllib3<1.27,>=1.21.1 in /usr/local/lib/python3.9/dist-packages (from requests->transformers==4.26.1->-r /content/Capstone/src/cka/scripts/requirements.txt (line 3)) (1.26.14)\n",
            "Requirement already satisfied: chardet<5,>=3.0.2 in /usr/local/lib/python3.9/dist-packages (from requests->transformers==4.26.1->-r /content/Capstone/src/cka/scripts/requirements.txt (line 3)) (4.0.0)\n",
            "Requirement already satisfied: idna<3,>=2.5 in /usr/local/lib/python3.9/dist-packages (from requests->transformers==4.26.1->-r /content/Capstone/src/cka/scripts/requirements.txt (line 3)) (2.10)\n",
            "Requirement already satisfied: certifi>=2017.4.17 in /usr/local/lib/python3.9/dist-packages (from requests->transformers==4.26.1->-r /content/Capstone/src/cka/scripts/requirements.txt (line 3)) (2022.12.7)\n",
            "Installing collected packages: tokenizers, sentencepiece, bitsandbytes, huggingface-hub, accelerate, transformers\n",
            "Successfully installed accelerate-0.16.0 bitsandbytes-0.37.0 huggingface-hub-0.13.1 sentencepiece-0.1.97 tokenizers-0.13.2 transformers-4.26.1\n"
          ]
        }
      ]
    },
    {
      "cell_type": "markdown",
      "source": [
        "## Imports"
      ],
      "metadata": {
        "id": "3yjnEaRtKd8L"
      }
    },
    {
      "cell_type": "code",
      "source": [
        "import os\n",
        "import numpy as np\n",
        "\n",
        "import torch\n",
        "from torch.nn.functional import softmax\n",
        "\n",
        "from transformers import (\n",
        "    set_seed,\n",
        "    AutoTokenizer,\n",
        "    AutoModelForCausalLM,\n",
        "    AutoModelForMaskedLM,\n",
        "    T5Tokenizer,\n",
        "    T5ForConditionalGeneration,\n",
        ")"
      ],
      "metadata": {
        "id": "IJQImaEDTRMr"
      },
      "execution_count": null,
      "outputs": []
    },
    {
      "cell_type": "code",
      "source": [
        "device = torch.device('cuda' if torch.cuda.is_available() else 'cpu')"
      ],
      "metadata": {
        "id": "IcsgN58-SbSE"
      },
      "execution_count": null,
      "outputs": []
    },
    {
      "cell_type": "markdown",
      "source": [
        "## Dev functions for new models"
      ],
      "metadata": {
        "id": "_4FP9EpRc7H1"
      }
    },
    {
      "cell_type": "code",
      "source": [
        "def probe_flan(model, tokenizer, target_id, context, verbose=False):\n",
        "\n",
        "    # tokenize context\n",
        "    tokenized_context = tokenizer(\n",
        "        context,\n",
        "        padding=\"longest\",\n",
        "        max_length=512,\n",
        "        truncation=True,\n",
        "        return_tensors=\"pt\",\n",
        "    ).to(device)\n",
        "\n",
        "    input_ids = tokenized_context[\"input_ids\"]\n",
        "\n",
        "    # use model to solicit a prediction\n",
        "    outputs = model(\n",
        "        input_ids=input_ids,\n",
        "        decoder_input_ids=torch.tensor([[0, 32099]], device=\"cuda:0\"),\n",
        "        output_hidden_states=True,\n",
        "        return_dict=True,\n",
        "    )\n",
        "\n",
        "    # We have batch size of 1, so grab that, then,\n",
        "    # Take the entire last matrix which corresponds to the last layer\n",
        "    logits = outputs[\"logits\"][0, -1]\n",
        "\n",
        "    # convert our prediction scores to a probability distribution with softmax\n",
        "    probs = softmax(logits, dim=-1)\n",
        "\n",
        "    probs = probs.detach().cpu().numpy()\n",
        "\n",
        "    if verbose:\n",
        "        print(f\"\\tcontext... {context}\")\n",
        "        print(f'\\ttokenized_context ids... {tokenized_context[\"input_ids\"]}')\n",
        "        print(\n",
        "            f'\\tdecoded tokenized_context... {tokenizer.decode(tokenized_context[\"input_ids\"][0])}'\n",
        "        )\n",
        "        print(f\"\\tdecoded target id... {tokenizer.decode([target_id.item()])}\")\n",
        "        print(\n",
        "            f\"\\tmost probable prediction id decoded... {tokenizer.decode([np.argmax(probs)])}\"\n",
        "        )\n",
        "\n",
        "    return probs[target_id.item()]\n",
        "\n",
        "\n",
        "def probe_gpt2(model, tokenizer, target_id, context, verbose=False):\n",
        "\n",
        "    # tokenize context\n",
        "    tokenized_context = tokenizer(\n",
        "        context,\n",
        "        return_tensors=\"pt\",\n",
        "    ).to(device)\n",
        "\n",
        "    input_ids = tokenized_context[\"input_ids\"]\n",
        "\n",
        "    # grab value\n",
        "    target_scalar = target_id.detach().cpu().numpy()\n",
        "\n",
        "    # use model to solicit a prediction\n",
        "    outputs = model(input_ids=input_ids, output_hidden_states=True, return_dict=True)\n",
        "\n",
        "    # shape of 50257 which corresponds to the vocab size of GPT\n",
        "    # every token in GPT's vocab gets a representative prediction from the model\n",
        "    logits = outputs[\"logits\"][0, -1]\n",
        "    # convert our prediction scores to a probability distribution with softmax\n",
        "    probs = softmax(logits, dim=-1)\n",
        "\n",
        "    probs = list(probs.detach().cpu().numpy())\n",
        "\n",
        "    if verbose:\n",
        "        print(f\"\\tcontext... {context}\")\n",
        "        print(f'\\ttokenized_context ids... {tokenized_context[\"input_ids\"]}')\n",
        "        print(\n",
        "            f'\\tdecoded tokenized_context... {tokenizer.decode(tokenized_context[\"input_ids\"][0])}'\n",
        "        )\n",
        "        print(f\"\\tdecoded target id... {tokenizer.decode([target_id.item()])}\")\n",
        "        print(\n",
        "            f\"\\tmost probable prediction id decoded... {tokenizer.decode([np.argmax(probs)])}\"\n",
        "        )\n",
        "\n",
        "    # double check weird-ness before accessing prob\n",
        "    if len(probs) < target_id:\n",
        "        return None\n",
        "\n",
        "    # return the likelihood that our stipulated target would follow the context,\n",
        "    # according to the model\n",
        "    try:\n",
        "        return np.take(probs, [target_scalar])[0]\n",
        "\n",
        "    except IndexError:\n",
        "\n",
        "        print(\"target index not in model vocabulary scope; raising IndexError\")\n",
        "        return None\n",
        "\n",
        "\n",
        "def probe_bert(model, tokenizer, target_id, context, verbose=False):\n",
        "\n",
        "    # tokenize context\n",
        "    tokenized_context = tokenizer(\n",
        "        context,\n",
        "        padding=\"longest\",\n",
        "        max_length=512,\n",
        "        truncation=True,\n",
        "        return_tensors=\"pt\",\n",
        "    )\n",
        "\n",
        "    mask_token_index = torch.where(\n",
        "        tokenized_context[\"input_ids\"] == tokenizer.mask_token_id\n",
        "    )[1]\n",
        "\n",
        "    # use model to solicit a prediction\n",
        "    logits = model(**tokenized_context.to(device)).logits\n",
        "    mask_token_logits = logits[0, mask_token_index, :]\n",
        "\n",
        "    # Convert our prediction scores to a probability distribution with softmax\n",
        "    probs = torch.squeeze(softmax(mask_token_logits, dim=-1))\n",
        "\n",
        "    probs = probs.detach().cpu().numpy()\n",
        "\n",
        "    if verbose:\n",
        "        print(f\"\\tcontext... {context}\")\n",
        "        print(f'\\ttokenized_context ids... {tokenized_context[\"input_ids\"]}')\n",
        "        print(\n",
        "            f'\\tdecoded tokenize_context... {tokenizer.decode(tokenized_context[\"input_ids\"][0])}'\n",
        "        )\n",
        "        print(f\"\\tmask token id... {tokenizer.mask_token_id}\")\n",
        "        print(f\"\\tmask token index in context... {mask_token_index}\")\n",
        "        print(f\"\\tdecoded target id... {tokenizer.decode([target_id.item()])}\")\n",
        "        print(\n",
        "            f\"\\tmost probable prediction id decoded... {tokenizer.decode([np.argmax(probs)])}\"\n",
        "        )\n",
        "\n",
        "    return probs[target_id.item()]\n"
      ],
      "metadata": {
        "id": "a_ZuMXQ3STf4"
      },
      "execution_count": null,
      "outputs": []
    },
    {
      "cell_type": "code",
      "source": [
        "# first, write helper to pull a pretrained LM and tokenizer off the shelf\n",
        "def get_model_and_tokenizer(model_name):\n",
        "    if \"flan\" in model_name.lower():\n",
        "        return T5Tokenizer.from_pretrained(\n",
        "            model_name\n",
        "        ), T5ForConditionalGeneration.from_pretrained(\n",
        "            model_name, load_in_8bit=True, device_map=\"auto\"\n",
        "        )\n",
        "\n",
        "    elif (\"gpt\" in model_name.lower()) or (\"opt\" in model_name.lower()):\n",
        "        return AutoTokenizer.from_pretrained(\n",
        "            model_name\n",
        "        ), AutoModelForCausalLM.from_pretrained(\n",
        "            model_name, load_in_8bit=True, device_map=\"auto\"\n",
        "        )\n",
        "\n",
        "    elif \"bert\" in model_name.lower():\n",
        "        return AutoTokenizer.from_pretrained(\n",
        "            model_name\n",
        "        ), AutoModelForMaskedLM.from_pretrained(\n",
        "            model_name, torch_dtype=torch.float16\n",
        "        ).to(\n",
        "            device\n",
        "        )\n",
        "\n",
        "\n",
        "# next, write a helper to pull a probe function for the given LM\n",
        "def get_probe_function(prefix):\n",
        "    probe_functions = [probe_flan, probe_gpt2, probe_bert]\n",
        "    for func in probe_functions:\n",
        "        if prefix.lower() in func.__name__:\n",
        "            return func\n",
        "\n",
        "\n",
        "# lastly, write a wrapper function to compare models\n",
        "def compare_models(model_name_list, input_pairings, verbose):\n",
        "\n",
        "    \"\"\"\n",
        "    Model-wise comparison helper function\n",
        "\n",
        "    we should be able to do the following:\n",
        "      * input a set of models we want to evaluate\n",
        "      * input an expression of interest\n",
        "      * input a 'true' next-token alonside a false\n",
        "      * and get an output report that contains..\n",
        "        * the 'result' ie is true > false\n",
        "        * the probabilities of both of those values\n",
        "      * running this method over a large set of positive/negative pairings should result in a large pool of information that can be used to compare model-families\n",
        "      * we can also look at the relative 'certainty' across different models (at least in orders of magnitude)\n",
        "\n",
        "    \"\"\"\n",
        "\n",
        "    score_dict_full = {}\n",
        "    score_dict_succinct = {}\n",
        "    score_dict_summary = {}\n",
        "\n",
        "    for model_name in model_name_list:\n",
        "        true_count = 0\n",
        "        fact_count = 0\n",
        "        print(f\"CKA for {model_name}\")\n",
        "        print(\"Loading  model...\")\n",
        "\n",
        "        # get proper model and tokenizer\n",
        "        tokenizer, model = get_model_and_tokenizer(model_name)\n",
        "\n",
        "        print(\"Running comparisons...\")\n",
        "\n",
        "        # establish prefix\n",
        "        prefix = \"\"\n",
        "        probe_func = None\n",
        "\n",
        "        # get correct CKA function\n",
        "        if (\"t5\" in model_name.lower()) or (\"ul2\" in model_name.lower()):\n",
        "            prefix = \"flan\"\n",
        "            probe_func = get_probe_function(prefix)\n",
        "\n",
        "        elif \"gpt\" in model_name.lower():\n",
        "            prefix = \"gpt\"\n",
        "            probe_func = get_probe_function(prefix)\n",
        "\n",
        "        elif \"opt\" in model_name.lower():\n",
        "            prefix = \"opt\"\n",
        "            probe_func = get_probe_function(\"gpt\")\n",
        "\n",
        "        elif \"roberta\" in model_name.lower():\n",
        "            prefix = \"roberta\"\n",
        "            probe_func = get_probe_function(\"bert\")\n",
        "\n",
        "        elif \"bert\" in model_name.lower():\n",
        "            prefix = \"bert\"\n",
        "            probe_func = get_probe_function(prefix)\n",
        "\n",
        "        # iterate over context/entity pairings\n",
        "        # input_pairings is a dict\n",
        "        # context is a plain string (since our context's will be unique)\n",
        "        # and entities is a list containing, in the first slot, the true\n",
        "        # value for the statement and in the subsequent slots, incorrect information\n",
        "\n",
        "        for context, entities in input_pairings.items():\n",
        "            entity_count = 0\n",
        "            p_true = 0.0\n",
        "            p_false = 0.0\n",
        "\n",
        "            if prefix == \"flan\":\n",
        "                context += \" <extra_id_0>.\"\n",
        "            elif prefix == \"roberta\":\n",
        "                context += \" <mask>.\"\n",
        "            elif prefix == \"bert\":\n",
        "                context += \" [MASK].\"\n",
        "\n",
        "            for entity in entities:\n",
        "                target_id = None\n",
        "                # first find target vocab id\n",
        "                # default to the very first token that get's predicted\n",
        "                # e.g. in the case of Tokyo, which gets split into <Tok> <yo>,\n",
        "\n",
        "                if prefix == \"flan\":\n",
        "                    target_id = tokenizer.encode(\n",
        "                        entity,\n",
        "                        padding=\"longest\",\n",
        "                        max_length=512,\n",
        "                        truncation=True,\n",
        "                        return_tensors=\"pt\",\n",
        "                    ).to(device)[0][0]\n",
        "\n",
        "                elif prefix == \"gpt\":\n",
        "                    target_id = tokenizer.encode(\" \" + entity, return_tensors=\"pt\").to(\n",
        "                        device\n",
        "                    )[0][0]\n",
        "\n",
        "                elif prefix == \"opt\":\n",
        "                    target_id = tokenizer.encode(\" \" + entity, return_tensors=\"pt\").to(\n",
        "                        device\n",
        "                    )[0][1]\n",
        "\n",
        "                elif prefix == \"roberta\":\n",
        "                    target_id = tokenizer.encode(\n",
        "                        \" \" + entity,\n",
        "                        padding=\"longest\",\n",
        "                        max_length=512,\n",
        "                        truncation=True,\n",
        "                        return_tensors=\"pt\",\n",
        "                    ).to(device)[0][1]\n",
        "\n",
        "                elif prefix == \"bert\":\n",
        "                    target_id = tokenizer.encode(\n",
        "                        entity,\n",
        "                        padding=\"longest\",\n",
        "                        max_length=512,\n",
        "                        truncation=True,\n",
        "                        return_tensors=\"pt\",\n",
        "                    ).to(device)[0][1]\n",
        "\n",
        "                # next call probe function\n",
        "                model_prob = probe_func(model, tokenizer, target_id, context, verbose)\n",
        "\n",
        "                # lastly, register results\n",
        "                if entity_count == 0:\n",
        "                    p_true = model_prob\n",
        "\n",
        "                else:\n",
        "                    p_false += model_prob\n",
        "\n",
        "                entity_count += 1\n",
        "\n",
        "            p_false /= entity_count - 1\n",
        "\n",
        "            try:\n",
        "                score_dict_full[model_name.lower()].append(\n",
        "                    {\n",
        "                        context: {\n",
        "                            \"p_true\": p_true,\n",
        "                            \"p_false\": p_false,\n",
        "                            \"p_true - p_false\": p_true - p_false,\n",
        "                            \"p_true > p_false\": p_true > p_false,\n",
        "                        }\n",
        "                    }\n",
        "                )\n",
        "            except KeyError:\n",
        "                score_dict_full[model_name.lower()] = [\n",
        "                    {\n",
        "                        context: {\n",
        "                            \"p_true\": p_true,\n",
        "                            \"p_false\": p_false,\n",
        "                            \"p_true - p_false\": p_true - p_false,\n",
        "                            \"p_true > p_false\": p_true > p_false,\n",
        "                        }\n",
        "                    }\n",
        "                ]\n",
        "\n",
        "            try:\n",
        "                score_dict_succinct[model_name.lower()].append(\n",
        "                    {\n",
        "                        context: {\n",
        "                            \"p_true > p_false\": p_true > p_false,\n",
        "                        }\n",
        "                    }\n",
        "                )\n",
        "            except KeyError:\n",
        "                score_dict_succinct[model_name.lower()] = [\n",
        "                    {\n",
        "                        context: {\n",
        "                            \"p_true > p_false\": p_true > p_false,\n",
        "                        }\n",
        "                    }\n",
        "                ]\n",
        "\n",
        "            if p_true > p_false:\n",
        "                true_count += 1\n",
        "            fact_count += 1\n",
        "\n",
        "        score_dict_summary[\n",
        "            model_name.lower()\n",
        "        ] = f\"This model got {true_count}/{fact_count} facts correct\"\n",
        "\n",
        "        print(\"Done\\n\")\n",
        "        del tokenizer\n",
        "        del model\n",
        "        torch.cuda.empty_cache()\n",
        "\n",
        "    return score_dict_full, score_dict_succinct, score_dict_summary\n"
      ],
      "metadata": {
        "id": "fLR5_MOvZjCo"
      },
      "execution_count": null,
      "outputs": []
    },
    {
      "cell_type": "markdown",
      "source": [
        "## Test the functions"
      ],
      "metadata": {
        "id": "2emIMZ2ilA6G"
      }
    },
    {
      "cell_type": "code",
      "source": [
        "def main(config):\n",
        "\n",
        "    set_seed(42)\n",
        "\n",
        "    score_dict_full, score_dict_succinct, score_dict_summary = compare_models(\n",
        "        config[\"models\"], config[\"input_information\"], config[\"verbosity\"]\n",
        "    )\n",
        "\n",
        "    return score_dict_full, score_dict_succinct, score_dict_summary"
      ],
      "metadata": {
        "id": "owTTbePjkpDW"
      },
      "execution_count": null,
      "outputs": []
    },
    {
      "cell_type": "markdown",
      "source": [
        "### OPT"
      ],
      "metadata": {
        "id": "jvFFE7EA4Zco"
      }
    },
    {
      "cell_type": "code",
      "source": [
        "config = {\n",
        "    \"models\": [\n",
        "        \"facebook/opt-125m\",  # 125M params\n",
        "    ],\n",
        "    \"input_information\": {\n",
        "        \"The 2020 Olympics were held in\": [\"Tokyo\", \"London\"],\n",
        "        \"Operation Overlord took place in\": [\"Normandy\", \"Manila\"],\n",
        "        \"Steve Jobs is the founder of\": [\"Apple\", \"Microsoft\"],\n",
        "    },\n",
        "    \"verbosity\": True\n",
        "}\n"
      ],
      "metadata": {
        "id": "JLTwKR1p4Zcp"
      },
      "execution_count": null,
      "outputs": []
    },
    {
      "cell_type": "code",
      "source": [
        "score_dict_full, score_dict_succinct, score_dict_summary = main(config)"
      ],
      "metadata": {
        "colab": {
          "base_uri": "https://localhost:8080/",
          "height": 938,
          "referenced_widgets": [
            "547bcaa2e3a5423d89a79f8acebb5797",
            "355b456dba884c7d923a228b7e583277",
            "d977c5790c224422b3217e15a3a415f6",
            "069afd9e870248859bb57d1464a1ed0b",
            "4dc2a27d931641f1b0b5ec3995206596",
            "f4526428b4cf4e5d8f91f94c341eeb99",
            "63e9345193c34572a888c5131b2cb72c",
            "f3714918704e42fc8524354a1e8d657a",
            "283e730ce5dc4ac483c6af2af5ca4c3f",
            "f5e8e2e51f1a4e0b845d4b4046633027",
            "3252f9a6667c46ce9d47c975f3caa9dd",
            "0aae997f3fbf44af88cc297787ab03d1",
            "c405fdfdffca47418f81e8ed081164d3",
            "54087aa5c52a43c4ae21b8a389b722bc",
            "17bbda6f600c497d891fb034eda11951",
            "4efc9987c2a94d368916593e7572922a",
            "6389c9f22fae40af9720941d99d37067",
            "291acc7ef1104d2d8b28767950400213",
            "95d5f1bb60344983bfb5d3af90b137d8",
            "28d522cbb31b44f1864ac952ce08df6c",
            "0e4f36324b914c14bfd8836559828ae7",
            "179b51107f9e4377a2226cdb21ed4910",
            "9af75a1ff07442f7891fc4db0dc0895b",
            "dc79e1096a1842019d0fca4ad6da05d9",
            "80432baafdeb4d74915a052e12a1ac8a",
            "ad52daf4e5794617b83968ab6f713882",
            "26fda879677c43eeb3b21efd3d8fecdc",
            "b5aac8844aa843c48669d27a8bfd6884",
            "d72a9ecb979e41268028c0ef171391fc",
            "74583cbe0f3e4620bbfb718be410a523",
            "dc357b8b3de841538dbff3927e81bc74",
            "be4ece785e6442429c08a59812ac936a",
            "9a9cc184438a453cb4edfd66d16af8d0",
            "28733ac4639140f1bd48e230a27bbd7a",
            "a582486fbb1f46f9bc4938c9386f0128",
            "1919f044667f477f995b0e79f0ac2b96",
            "9c41514345244203ab400d4e1d4e77fb",
            "f5adcb5fb3484b8c87d8f8a3f7a44a8d",
            "0c08957df9fa40dea92c5ed2d465523e",
            "716b41dd96c641bda429054b8f152729",
            "cbd380d7824945c2a52e89ed2959cd66",
            "80d5a25e9af346128cdbb6c3ffe81696",
            "d2462a3bafb04584b102f01e726734aa",
            "b36b335ce2484edfbc9574a047d38712",
            "9e76d809c3f64c68aeb043526e2dc6bb",
            "b28cca9d323743a49e884e233f37458d",
            "617da1561f2f49eaa3114f944c38fdc9",
            "f8ee65f8aa7c4b0aac336eff6f3b04bb",
            "ef10471c5b6f46d892e5812d962fffe1",
            "439166c887b34cd8b1fbd1934093bce1",
            "00f03ce83d0f4704a8b51aaa29336bb7",
            "9f3d5e1e519b45a68ca7a1a4ac8cfab7",
            "2fe8224f675d414ab037f2276ccc8e9a",
            "620c077d0cb841248496cf8cbd0b1347",
            "8451856162534927bf15c1f42daff709",
            "a0977351d6e049938d1c33a2ee108553",
            "2ef618e882704340bad5db73a5dff9b9",
            "967ca9898c2a456093dc699b20a6897a",
            "e067bc42856d44e8b6a0930fb8eeffa4",
            "9e9c46241d30441fa246a8790eaef0c7",
            "468023a72c0c4ad399f135eef9f13ca7",
            "30c898c37f154b9eabfccb50f1a7d111",
            "b60f7ab7ec01400c87ec140814fe63ef",
            "42386d01da6f4483ab910dede24ba97f",
            "bd8937660d174a5c9d000ed28b462359",
            "a9f1054349bc48be95a87bc47d1f59b2",
            "89338dc39c5d4680a1a7fa691ab708da",
            "1cc953f1de3b4d4a9c5ff0e64cdc813e",
            "74d62226c60f4497abd32fa476e4d05e",
            "450c1fb076ec4f5687209a436e3a234f",
            "bf4e589aa12f4194a040d3d88f347878",
            "951b063c5b20434e895420d0e5ce9218",
            "fd70490a60c94c1ca40f9d2c52666847",
            "7d1f2f04887742bd98218d0f9e678845",
            "4826be0ff67248b3925a2e459acbd06b",
            "37c6d55dfd974f658a16aa031a757690",
            "0653bdc8952c4fe48fbb6c7398d31ce1"
          ]
        },
        "outputId": "00df751a-0454-4eb2-8af2-81d9e246cefa",
        "id": "CuoP6Wng4Zcp"
      },
      "execution_count": null,
      "outputs": [
        {
          "output_type": "stream",
          "name": "stdout",
          "text": [
            "CKA for facebook/opt-125m\n",
            "Loading  model...\n"
          ]
        },
        {
          "output_type": "display_data",
          "data": {
            "text/plain": [
              "Downloading (…)okenizer_config.json:   0%|          | 0.00/685 [00:00<?, ?B/s]"
            ],
            "application/vnd.jupyter.widget-view+json": {
              "version_major": 2,
              "version_minor": 0,
              "model_id": "547bcaa2e3a5423d89a79f8acebb5797"
            }
          },
          "metadata": {}
        },
        {
          "output_type": "display_data",
          "data": {
            "text/plain": [
              "Downloading (…)lve/main/config.json:   0%|          | 0.00/651 [00:00<?, ?B/s]"
            ],
            "application/vnd.jupyter.widget-view+json": {
              "version_major": 2,
              "version_minor": 0,
              "model_id": "0aae997f3fbf44af88cc297787ab03d1"
            }
          },
          "metadata": {}
        },
        {
          "output_type": "display_data",
          "data": {
            "text/plain": [
              "Downloading (…)olve/main/vocab.json:   0%|          | 0.00/899k [00:00<?, ?B/s]"
            ],
            "application/vnd.jupyter.widget-view+json": {
              "version_major": 2,
              "version_minor": 0,
              "model_id": "9af75a1ff07442f7891fc4db0dc0895b"
            }
          },
          "metadata": {}
        },
        {
          "output_type": "display_data",
          "data": {
            "text/plain": [
              "Downloading (…)olve/main/merges.txt:   0%|          | 0.00/456k [00:00<?, ?B/s]"
            ],
            "application/vnd.jupyter.widget-view+json": {
              "version_major": 2,
              "version_minor": 0,
              "model_id": "28733ac4639140f1bd48e230a27bbd7a"
            }
          },
          "metadata": {}
        },
        {
          "output_type": "display_data",
          "data": {
            "text/plain": [
              "Downloading (…)cial_tokens_map.json:   0%|          | 0.00/441 [00:00<?, ?B/s]"
            ],
            "application/vnd.jupyter.widget-view+json": {
              "version_major": 2,
              "version_minor": 0,
              "model_id": "9e76d809c3f64c68aeb043526e2dc6bb"
            }
          },
          "metadata": {}
        },
        {
          "output_type": "display_data",
          "data": {
            "text/plain": [
              "Downloading pytorch_model.bin:   0%|          | 0.00/251M [00:00<?, ?B/s]"
            ],
            "application/vnd.jupyter.widget-view+json": {
              "version_major": 2,
              "version_minor": 0,
              "model_id": "a0977351d6e049938d1c33a2ee108553"
            }
          },
          "metadata": {}
        },
        {
          "output_type": "stream",
          "name": "stdout",
          "text": [
            "\n",
            "===================================BUG REPORT===================================\n",
            "Welcome to bitsandbytes. For bug reports, please submit your error trace to: https://github.com/TimDettmers/bitsandbytes/issues\n",
            "================================================================================\n"
          ]
        },
        {
          "output_type": "display_data",
          "data": {
            "text/plain": [
              "Downloading (…)neration_config.json:   0%|          | 0.00/137 [00:00<?, ?B/s]"
            ],
            "application/vnd.jupyter.widget-view+json": {
              "version_major": 2,
              "version_minor": 0,
              "model_id": "89338dc39c5d4680a1a7fa691ab708da"
            }
          },
          "metadata": {}
        },
        {
          "output_type": "stream",
          "name": "stdout",
          "text": [
            "Running comparisons...\n",
            "\tcontext... The 2020 Olympics were held in\n",
            "\ttokenized_context ids... tensor([[   2,  133, 2760, 4365,   58,  547,   11]], device='cuda:0')\n",
            "\tdecoded tokenized_context... </s>The 2020 Olympics were held in\n",
            "\tdecoded target id...  Tokyo\n",
            "\tmost probable prediction id decoded...  Tokyo\n",
            "\tcontext... The 2020 Olympics were held in\n",
            "\ttokenized_context ids... tensor([[   2,  133, 2760, 4365,   58,  547,   11]], device='cuda:0')\n",
            "\tdecoded tokenized_context... </s>The 2020 Olympics were held in\n",
            "\tdecoded target id...  Chicago\n",
            "\tmost probable prediction id decoded...  Tokyo\n",
            "\tcontext... Operation Overlord took place in\n",
            "\ttokenized_context ids... tensor([[    2, 35360,  2306, 30669,   362,   317,    11]], device='cuda:0')\n",
            "\tdecoded tokenized_context... </s>Operation Overlord took place in\n",
            "\tdecoded target id...  Normandy\n",
            "\tmost probable prediction id decoded...  the\n",
            "\tcontext... Operation Overlord took place in\n",
            "\ttokenized_context ids... tensor([[    2, 35360,  2306, 30669,   362,   317,    11]], device='cuda:0')\n",
            "\tdecoded tokenized_context... </s>Operation Overlord took place in\n",
            "\tdecoded target id...  Baghdad\n",
            "\tmost probable prediction id decoded...  the\n",
            "\tcontext... Steve Jobs is the founder of\n",
            "\ttokenized_context ids... tensor([[    2, 21976, 13499,    16,     5,  3787,     9]], device='cuda:0')\n",
            "\tdecoded tokenized_context... </s>Steve Jobs is the founder of\n",
            "\tdecoded target id...  Apple\n",
            "\tmost probable prediction id decoded...  Apple\n",
            "\tcontext... Steve Jobs is the founder of\n",
            "\ttokenized_context ids... tensor([[    2, 21976, 13499,    16,     5,  3787,     9]], device='cuda:0')\n",
            "\tdecoded tokenized_context... </s>Steve Jobs is the founder of\n",
            "\tdecoded target id...  Intel\n",
            "\tmost probable prediction id decoded...  Apple\n",
            "Done\n",
            "\n"
          ]
        }
      ]
    },
    {
      "cell_type": "code",
      "source": [
        "score_dict_full"
      ],
      "metadata": {
        "colab": {
          "base_uri": "https://localhost:8080/"
        },
        "outputId": "b1c72a3c-670a-427c-b54f-e5ca47a5c306",
        "id": "t0nHaT604Zcp"
      },
      "execution_count": null,
      "outputs": [
        {
          "output_type": "execute_result",
          "data": {
            "text/plain": [
              "{'facebook/opt-125m': [{'The 2020 Olympics were held in': {'p_true': 0.1683,\n",
              "    'p_false': 0.0007886886596679688,\n",
              "    'p_true - p_false': 0.16754627227783203,\n",
              "    'p_true > p_false': True}},\n",
              "  {'Operation Overlord took place in': {'p_true': 0.0005836,\n",
              "    'p_false': 0.0003402233123779297,\n",
              "    'p_true - p_false': 0.0002434253692626953,\n",
              "    'p_true > p_false': True}},\n",
              "  {'Steve Jobs is the founder of': {'p_true': 0.4473,\n",
              "    'p_false': 0.0012388229370117188,\n",
              "    'p_true - p_false': 0.4460268020629883,\n",
              "    'p_true > p_false': True}}]}"
            ]
          },
          "metadata": {},
          "execution_count": 10
        }
      ]
    },
    {
      "cell_type": "code",
      "source": [
        "score_dict_succinct"
      ],
      "metadata": {
        "colab": {
          "base_uri": "https://localhost:8080/"
        },
        "outputId": "7c63fe56-40e7-49c9-96d5-1b42112b6632",
        "id": "fH_HH6UF4Zcq"
      },
      "execution_count": null,
      "outputs": [
        {
          "output_type": "execute_result",
          "data": {
            "text/plain": [
              "{'facebook/opt-125m': [{'The 2020 Olympics were held in': {'p_true > p_false': True}},\n",
              "  {'Operation Overlord took place in': {'p_true > p_false': True}},\n",
              "  {'Steve Jobs is the founder of': {'p_true > p_false': True}}]}"
            ]
          },
          "metadata": {},
          "execution_count": 11
        }
      ]
    },
    {
      "cell_type": "code",
      "source": [
        "score_dict_summary"
      ],
      "metadata": {
        "colab": {
          "base_uri": "https://localhost:8080/"
        },
        "outputId": "5503f12c-1097-4319-c188-b306d50ff256",
        "id": "UFLc4nuT4Zcq"
      },
      "execution_count": null,
      "outputs": [
        {
          "output_type": "execute_result",
          "data": {
            "text/plain": [
              "{'facebook/opt-125m': 'This model got 3/3 facts correct'}"
            ]
          },
          "metadata": {},
          "execution_count": 12
        }
      ]
    },
    {
      "cell_type": "markdown",
      "source": [
        "### RoBERTa"
      ],
      "metadata": {
        "id": "7HbmWkOt7gEI"
      }
    },
    {
      "cell_type": "code",
      "source": [
        "config = {\n",
        "    \"models\": [\n",
        "        \"distilroberta-base\",  # 82M params\n",
        "    ],\n",
        "    \"input_information\": {\n",
        "        \"The 2020 Olympics were held in\": [\"Tokyo\", \"London\"],\n",
        "        \"Operation Overlord took place in\": [\"Normandy\", \"Manila\"],\n",
        "        \"Steve Jobs is the founder of\": [\"Apple\", \"Microsoft\"],\n",
        "    },\n",
        "    \"verbosity\": True\n",
        "}\n"
      ],
      "metadata": {
        "id": "VAe3mxAu7gEI"
      },
      "execution_count": null,
      "outputs": []
    },
    {
      "cell_type": "code",
      "source": [
        "score_dict_full, score_dict_succinct, score_dict_summary = main(config)"
      ],
      "metadata": {
        "colab": {
          "base_uri": "https://localhost:8080/"
        },
        "outputId": "dc27ac0b-7b40-4fc2-b6b6-812cbf1c4d75",
        "id": "uDB1pVRE7gEJ"
      },
      "execution_count": null,
      "outputs": [
        {
          "output_type": "stream",
          "name": "stdout",
          "text": [
            "CKA for distilroberta-base\n",
            "Loading  model...\n",
            "Running comparisons...\n",
            "\tcontext... The 2020 Olympics were held in <mask>.\n",
            "\ttokenized_context ids... tensor([[    0,   133,  2760,  4365,    58,   547,    11, 50264,     4,     2]],\n",
            "       device='cuda:0')\n",
            "\tdecoded tokenize_context... <s>The 2020 Olympics were held in<mask>.</s>\n",
            "\tmask token id... 50264\n",
            "\tmask token index in context... tensor([7])\n",
            "\tdecoded target id...  Tokyo\n",
            "\tmost probable prediction id decoded...  Tokyo\n",
            "\tcontext... The 2020 Olympics were held in <mask>.\n",
            "\ttokenized_context ids... tensor([[    0,   133,  2760,  4365,    58,   547,    11, 50264,     4,     2]],\n",
            "       device='cuda:0')\n",
            "\tdecoded tokenize_context... <s>The 2020 Olympics were held in<mask>.</s>\n",
            "\tmask token id... 50264\n",
            "\tmask token index in context... tensor([7])\n",
            "\tdecoded target id...  London\n",
            "\tmost probable prediction id decoded...  Tokyo\n",
            "\tcontext... Operation Overlord took place in <mask>.\n",
            "\ttokenized_context ids... tensor([[    0, 35360,  2306, 30669,   362,   317,    11, 50264,     4,     2]],\n",
            "       device='cuda:0')\n",
            "\tdecoded tokenize_context... <s>Operation Overlord took place in<mask>.</s>\n",
            "\tmask token id... 50264\n",
            "\tmask token index in context... tensor([7])\n",
            "\tdecoded target id...  Normandy\n",
            "\tmost probable prediction id decoded...  2009\n",
            "\tcontext... Operation Overlord took place in <mask>.\n",
            "\ttokenized_context ids... tensor([[    0, 35360,  2306, 30669,   362,   317,    11, 50264,     4,     2]],\n",
            "       device='cuda:0')\n",
            "\tdecoded tokenize_context... <s>Operation Overlord took place in<mask>.</s>\n",
            "\tmask token id... 50264\n",
            "\tmask token index in context... tensor([7])\n",
            "\tdecoded target id...  Manila\n",
            "\tmost probable prediction id decoded...  2009\n",
            "\tcontext... Steve Jobs is the founder of <mask>.\n",
            "\ttokenized_context ids... tensor([[    0, 21976, 13499,    16,     5,  3787,     9, 50264,     4,     2]],\n",
            "       device='cuda:0')\n",
            "\tdecoded tokenize_context... <s>Steve Jobs is the founder of<mask>.</s>\n",
            "\tmask token id... 50264\n",
            "\tmask token index in context... tensor([7])\n",
            "\tdecoded target id...  Apple\n",
            "\tmost probable prediction id decoded...  Apple\n",
            "\tcontext... Steve Jobs is the founder of <mask>.\n",
            "\ttokenized_context ids... tensor([[    0, 21976, 13499,    16,     5,  3787,     9, 50264,     4,     2]],\n",
            "       device='cuda:0')\n",
            "\tdecoded tokenize_context... <s>Steve Jobs is the founder of<mask>.</s>\n",
            "\tmask token id... 50264\n",
            "\tmask token index in context... tensor([7])\n",
            "\tdecoded target id...  Microsoft\n",
            "\tmost probable prediction id decoded...  Apple\n",
            "Done\n",
            "\n"
          ]
        }
      ]
    },
    {
      "cell_type": "code",
      "source": [
        "score_dict_full"
      ],
      "metadata": {
        "colab": {
          "base_uri": "https://localhost:8080/"
        },
        "outputId": "8daee93f-eed5-4af1-c3bc-e010f24ab208",
        "id": "3CP5t_qQ7gEJ"
      },
      "execution_count": null,
      "outputs": [
        {
          "output_type": "execute_result",
          "data": {
            "text/plain": [
              "{'distilroberta-base': [{'The 2020 Olympics were held in <mask>.': {'p_true': 0.6587,\n",
              "    'p_false': 0.0084228515625,\n",
              "    'p_true - p_false': 0.6502685546875,\n",
              "    'p_true > p_false': True}},\n",
              "  {'Operation Overlord took place in <mask>.': {'p_true': 0.0015335,\n",
              "    'p_false': 0.00012105703353881836,\n",
              "    'p_true - p_false': 0.0014124512672424316,\n",
              "    'p_true > p_false': True}},\n",
              "  {'Steve Jobs is the founder of <mask>.': {'p_true': 0.5645,\n",
              "    'p_false': 0.076416015625,\n",
              "    'p_true - p_false': 0.488037109375,\n",
              "    'p_true > p_false': True}}]}"
            ]
          },
          "metadata": {},
          "execution_count": 33
        }
      ]
    },
    {
      "cell_type": "code",
      "source": [
        "score_dict_succinct"
      ],
      "metadata": {
        "colab": {
          "base_uri": "https://localhost:8080/"
        },
        "outputId": "7d43bf7a-ef33-4e98-e1f8-105e09a9a498",
        "id": "lQuE3UAt7gEJ"
      },
      "execution_count": null,
      "outputs": [
        {
          "output_type": "execute_result",
          "data": {
            "text/plain": [
              "{'distilroberta-base': [{'The 2020 Olympics were held in <mask>.': {'p_true > p_false': True}},\n",
              "  {'Operation Overlord took place in <mask>.': {'p_true > p_false': True}},\n",
              "  {'Steve Jobs is the founder of <mask>.': {'p_true > p_false': True}}]}"
            ]
          },
          "metadata": {},
          "execution_count": 34
        }
      ]
    },
    {
      "cell_type": "code",
      "source": [
        "score_dict_summary"
      ],
      "metadata": {
        "colab": {
          "base_uri": "https://localhost:8080/"
        },
        "id": "SUQr0sVOTKk3",
        "outputId": "d14d6af2-c23b-42cc-90ee-48e39835cc74"
      },
      "execution_count": null,
      "outputs": [
        {
          "output_type": "execute_result",
          "data": {
            "text/plain": [
              "{'distilroberta-base': 'This model got 3/3 facts correct'}"
            ]
          },
          "metadata": {},
          "execution_count": 35
        }
      ]
    },
    {
      "cell_type": "markdown",
      "source": [
        "### Bert"
      ],
      "metadata": {
        "id": "wjc5I0IeyXPe"
      }
    },
    {
      "cell_type": "code",
      "source": [
        "config = {\n",
        "    \"models\": [\n",
        "        \"bert-base-uncased\", # 110M params\n",
        "    ],\n",
        "    \"input_information\": {\n",
        "        \"The 2020 Olympics were held in\": [\"Tokyo\", \"London\"],\n",
        "        \"Operation Overlord took place in\": [\"Normandy\", \"Manila\"],\n",
        "        \"Steve Jobs is the founder of\": [\"Apple\", \"Microsoft\"],\n",
        "    },\n",
        "    \"verbosity\": True\n",
        "}\n"
      ],
      "metadata": {
        "id": "13NVylxhao2Y"
      },
      "execution_count": null,
      "outputs": []
    },
    {
      "cell_type": "code",
      "source": [
        "score_dict_full, score_dict_succinct, score_dict_summary = main(config)"
      ],
      "metadata": {
        "colab": {
          "base_uri": "https://localhost:8080/"
        },
        "id": "oVkmOngqRp2I",
        "outputId": "383f8ee7-b42a-45c4-a8bd-37098263a68e"
      },
      "execution_count": null,
      "outputs": [
        {
          "output_type": "stream",
          "name": "stdout",
          "text": [
            "CKA for bert-base-uncased\n",
            "Loading  model...\n"
          ]
        },
        {
          "output_type": "stream",
          "name": "stderr",
          "text": [
            "Some weights of the model checkpoint at bert-base-uncased were not used when initializing BertForMaskedLM: ['cls.seq_relationship.bias', 'cls.seq_relationship.weight']\n",
            "- This IS expected if you are initializing BertForMaskedLM from the checkpoint of a model trained on another task or with another architecture (e.g. initializing a BertForSequenceClassification model from a BertForPreTraining model).\n",
            "- This IS NOT expected if you are initializing BertForMaskedLM from the checkpoint of a model that you expect to be exactly identical (initializing a BertForSequenceClassification model from a BertForSequenceClassification model).\n"
          ]
        },
        {
          "output_type": "stream",
          "name": "stdout",
          "text": [
            "Running comparisons...\n",
            "\tcontext... The 2020 Olympics were held in [MASK].\n",
            "\ttokenized_context ids... tensor([[  101,  1996, 12609,  3783,  2020,  2218,  1999,   103,  1012,   102]],\n",
            "       device='cuda:0')\n",
            "\tdecoded tokenize_context... [CLS] the 2020 olympics were held in [MASK]. [SEP]\n",
            "\tmask token id... 103\n",
            "\tmask token index in context... tensor([7])\n",
            "\tdecoded target id... tokyo\n",
            "\tmost probable prediction id decoded... tokyo\n",
            "\tcontext... The 2020 Olympics were held in [MASK].\n",
            "\ttokenized_context ids... tensor([[  101,  1996, 12609,  3783,  2020,  2218,  1999,   103,  1012,   102]],\n",
            "       device='cuda:0')\n",
            "\tdecoded tokenize_context... [CLS] the 2020 olympics were held in [MASK]. [SEP]\n",
            "\tmask token id... 103\n",
            "\tmask token index in context... tensor([7])\n",
            "\tdecoded target id... london\n",
            "\tmost probable prediction id decoded... tokyo\n",
            "\tcontext... Operation Overlord took place in [MASK].\n",
            "\ttokenized_context ids... tensor([[  101,  3169,  2058, 19980,  2165,  2173,  1999,   103,  1012,   102]],\n",
            "       device='cuda:0')\n",
            "\tdecoded tokenize_context... [CLS] operation overlord took place in [MASK]. [SEP]\n",
            "\tmask token id... 103\n",
            "\tmask token index in context... tensor([7])\n",
            "\tdecoded target id... normandy\n",
            "\tmost probable prediction id decoded... europe\n",
            "\tcontext... Operation Overlord took place in [MASK].\n",
            "\ttokenized_context ids... tensor([[  101,  3169,  2058, 19980,  2165,  2173,  1999,   103,  1012,   102]],\n",
            "       device='cuda:0')\n",
            "\tdecoded tokenize_context... [CLS] operation overlord took place in [MASK]. [SEP]\n",
            "\tmask token id... 103\n",
            "\tmask token index in context... tensor([7])\n",
            "\tdecoded target id... manila\n",
            "\tmost probable prediction id decoded... europe\n",
            "\tcontext... Steve Jobs is the founder of [MASK].\n",
            "\ttokenized_context ids... tensor([[ 101, 3889, 5841, 2003, 1996, 3910, 1997,  103, 1012,  102]],\n",
            "       device='cuda:0')\n",
            "\tdecoded tokenize_context... [CLS] steve jobs is the founder of [MASK]. [SEP]\n",
            "\tmask token id... 103\n",
            "\tmask token index in context... tensor([7])\n",
            "\tdecoded target id... apple\n",
            "\tmost probable prediction id decoded... apple\n",
            "\tcontext... Steve Jobs is the founder of [MASK].\n",
            "\ttokenized_context ids... tensor([[ 101, 3889, 5841, 2003, 1996, 3910, 1997,  103, 1012,  102]],\n",
            "       device='cuda:0')\n",
            "\tdecoded tokenize_context... [CLS] steve jobs is the founder of [MASK]. [SEP]\n",
            "\tmask token id... 103\n",
            "\tmask token index in context... tensor([7])\n",
            "\tdecoded target id... microsoft\n",
            "\tmost probable prediction id decoded... apple\n",
            "Done\n",
            "\n"
          ]
        }
      ]
    },
    {
      "cell_type": "code",
      "source": [
        "score_dict_full"
      ],
      "metadata": {
        "id": "eN3ov6pRdR6O",
        "colab": {
          "base_uri": "https://localhost:8080/"
        },
        "outputId": "8e4b6c81-9ba1-441d-e222-95942c39670e"
      },
      "execution_count": null,
      "outputs": [
        {
          "output_type": "execute_result",
          "data": {
            "text/plain": [
              "{'bert-base-uncased': [{'The 2020 Olympics were held in [MASK].': {'p_true': 0.7124,\n",
              "    'p_false': 0.0040130615234375,\n",
              "    'p_true - p_false': 0.7083892822265625,\n",
              "    'p_true > p_false': True}},\n",
              "  {'Operation Overlord took place in [MASK].': {'p_true': 0.01952,\n",
              "    'p_false': 1.3828277587890625e-05,\n",
              "    'p_true - p_false': 0.01950216293334961,\n",
              "    'p_true > p_false': True}},\n",
              "  {'Steve Jobs is the founder of [MASK].': {'p_true': 0.2837,\n",
              "    'p_false': 0.10113525390625,\n",
              "    'p_true - p_false': 0.18255615234375,\n",
              "    'p_true > p_false': True}}]}"
            ]
          },
          "metadata": {},
          "execution_count": 38
        }
      ]
    },
    {
      "cell_type": "code",
      "source": [
        "score_dict_succinct"
      ],
      "metadata": {
        "colab": {
          "base_uri": "https://localhost:8080/"
        },
        "id": "U-yCRhR8ZzrU",
        "outputId": "bed26e3a-0bc9-454a-f7f8-b762af22010f"
      },
      "execution_count": null,
      "outputs": [
        {
          "output_type": "execute_result",
          "data": {
            "text/plain": [
              "{'bert-base-uncased': [{'The 2020 Olympics were held in [MASK].': {'p_true > p_false': True}},\n",
              "  {'Operation Overlord took place in [MASK].': {'p_true > p_false': True}},\n",
              "  {'Steve Jobs is the founder of [MASK].': {'p_true > p_false': True}}]}"
            ]
          },
          "metadata": {},
          "execution_count": 39
        }
      ]
    },
    {
      "cell_type": "code",
      "source": [
        "score_dict_summary"
      ],
      "metadata": {
        "colab": {
          "base_uri": "https://localhost:8080/"
        },
        "id": "wnFuE5HXTJHL",
        "outputId": "094aac5d-ee1c-42a3-a2e7-1762229ab3b3"
      },
      "execution_count": null,
      "outputs": [
        {
          "output_type": "execute_result",
          "data": {
            "text/plain": [
              "{'bert-base-uncased': 'This model got 3/3 facts correct'}"
            ]
          },
          "metadata": {},
          "execution_count": 40
        }
      ]
    },
    {
      "cell_type": "markdown",
      "source": [
        "### gpt2s"
      ],
      "metadata": {
        "id": "RR-ujx3myY6d"
      }
    },
    {
      "cell_type": "code",
      "source": [
        "config = {\n",
        "    \"models\": [\n",
        "        \"distilgpt2\",  # 82M params\n",
        "    ],\n",
        "    \"input_information\": {\n",
        "        \"The 2020 Olympics were held in\": [\"Tokyo\", \"London\"],\n",
        "        \"Operation Overlord took place in\": [\"Normandy\", \"Manila\"],\n",
        "        \"Steve Jobs is the founder of\": [\"Apple\", \"Microsoft\"],\n",
        "    },\n",
        "    \"verbosity\": True\n",
        "\n",
        "}\n"
      ],
      "metadata": {
        "id": "fXTO0xG4Zzx5"
      },
      "execution_count": null,
      "outputs": []
    },
    {
      "cell_type": "code",
      "source": [
        "score_dict_full, score_dict_succinct, score_dict_summary = main(config)"
      ],
      "metadata": {
        "id": "1fHCY2r9Zzx6",
        "colab": {
          "base_uri": "https://localhost:8080/"
        },
        "outputId": "13ed3248-b791-4cda-b5f1-962416e62c01"
      },
      "execution_count": null,
      "outputs": [
        {
          "output_type": "stream",
          "name": "stdout",
          "text": [
            "CKA for distilgpt2\n",
            "Loading  model...\n",
            "Running comparisons...\n",
            "\tcontext... The 2020 Olympics were held in\n",
            "\ttokenized_context ids... tensor([[  464, 12131, 14935,   547,  2714,   287]], device='cuda:0')\n",
            "\tdecoded tokenized_context... The 2020 Olympics were held in\n",
            "\tdecoded target id...  Tokyo\n",
            "\tmost probable prediction id decoded...  the\n",
            "\tcontext... The 2020 Olympics were held in\n",
            "\ttokenized_context ids... tensor([[  464, 12131, 14935,   547,  2714,   287]], device='cuda:0')\n",
            "\tdecoded tokenized_context... The 2020 Olympics were held in\n",
            "\tdecoded target id...  London\n",
            "\tmost probable prediction id decoded...  the\n",
            "\tcontext... Operation Overlord took place in\n",
            "\ttokenized_context ids... tensor([[32180,  3827, 10572,  1718,  1295,   287]], device='cuda:0')\n",
            "\tdecoded tokenized_context... Operation Overlord took place in\n",
            "\tdecoded target id...  Normandy\n",
            "\tmost probable prediction id decoded...  the\n",
            "\tcontext... Operation Overlord took place in\n",
            "\ttokenized_context ids... tensor([[32180,  3827, 10572,  1718,  1295,   287]], device='cuda:0')\n",
            "\tdecoded tokenized_context... Operation Overlord took place in\n",
            "\tdecoded target id...  Manila\n",
            "\tmost probable prediction id decoded...  the\n",
            "\tcontext... Steve Jobs is the founder of\n",
            "\ttokenized_context ids... tensor([[19206, 19161,   318,   262,  9119,   286]], device='cuda:0')\n",
            "\tdecoded tokenized_context... Steve Jobs is the founder of\n",
            "\tdecoded target id...  Apple\n",
            "\tmost probable prediction id decoded...  the\n",
            "\tcontext... Steve Jobs is the founder of\n",
            "\ttokenized_context ids... tensor([[19206, 19161,   318,   262,  9119,   286]], device='cuda:0')\n",
            "\tdecoded tokenized_context... Steve Jobs is the founder of\n",
            "\tdecoded target id...  Microsoft\n",
            "\tmost probable prediction id decoded...  the\n",
            "Done\n",
            "\n"
          ]
        }
      ]
    },
    {
      "cell_type": "code",
      "source": [
        "score_dict_full"
      ],
      "metadata": {
        "id": "tEPONKOhZzx6",
        "colab": {
          "base_uri": "https://localhost:8080/"
        },
        "outputId": "5c3cfe0c-f320-461f-df96-dc33441870a3"
      },
      "execution_count": null,
      "outputs": [
        {
          "output_type": "execute_result",
          "data": {
            "text/plain": [
              "{'distilgpt2': [{'The 2020 Olympics were held in': {'p_true': 0.01068,\n",
              "    'p_false': 0.0478515625,\n",
              "    'p_true - p_false': -0.03717041015625,\n",
              "    'p_true > p_false': False}},\n",
              "  {'Operation Overlord took place in': {'p_true': 0.0007377,\n",
              "    'p_false': 0.00019848346710205078,\n",
              "    'p_true - p_false': 0.0005391836166381836,\n",
              "    'p_true > p_false': True}},\n",
              "  {'Steve Jobs is the founder of': {'p_true': 0.014046,\n",
              "    'p_false': 0.01201629638671875,\n",
              "    'p_true - p_false': 0.0020294189453125,\n",
              "    'p_true > p_false': True}}]}"
            ]
          },
          "metadata": {},
          "execution_count": 43
        }
      ]
    },
    {
      "cell_type": "code",
      "source": [
        "score_dict_succinct"
      ],
      "metadata": {
        "id": "K4bojZ4oZzx6",
        "colab": {
          "base_uri": "https://localhost:8080/"
        },
        "outputId": "17bd8351-c3ae-4807-8a05-1f412d7bba35"
      },
      "execution_count": null,
      "outputs": [
        {
          "output_type": "execute_result",
          "data": {
            "text/plain": [
              "{'distilgpt2': [{'The 2020 Olympics were held in': {'p_true > p_false': False}},\n",
              "  {'Operation Overlord took place in': {'p_true > p_false': True}},\n",
              "  {'Steve Jobs is the founder of': {'p_true > p_false': True}}]}"
            ]
          },
          "metadata": {},
          "execution_count": 44
        }
      ]
    },
    {
      "cell_type": "code",
      "source": [
        "score_dict_summary"
      ],
      "metadata": {
        "colab": {
          "base_uri": "https://localhost:8080/"
        },
        "id": "xQxxZ0IwTIJL",
        "outputId": "e6cc8854-3dd6-4757-9f8e-15f78e3d8d21"
      },
      "execution_count": null,
      "outputs": [
        {
          "output_type": "execute_result",
          "data": {
            "text/plain": [
              "{'distilgpt2': 'This model got 2/3 facts correct'}"
            ]
          },
          "metadata": {},
          "execution_count": 45
        }
      ]
    },
    {
      "cell_type": "markdown",
      "source": [
        "### Google/flans"
      ],
      "metadata": {
        "id": "4M_QOAlk4Gvn"
      }
    },
    {
      "cell_type": "code",
      "source": [
        "config = {\n",
        "    \"models\": [\n",
        "        \"google/flan-t5-small\",  # 80M params\n",
        "    ],\n",
        "    \"input_information\": {\n",
        "        \"The 2020 Olympics were held in\": [\"Tokyo\", \"London\"],\n",
        "        \"Operation Overlord took place in\": [\"Normandy\", \"Manila\"],\n",
        "        \"Steve Jobs is the founder of\": [\"Apple\", \"Microsoft\"],\n",
        "    },\n",
        "    \"verbosity\": True\n",
        "\n",
        "}\n"
      ],
      "metadata": {
        "id": "h-jeQ58Q4If2"
      },
      "execution_count": null,
      "outputs": []
    },
    {
      "cell_type": "code",
      "source": [
        "score_dict_full, score_dict_succinct, score_dict_summary = main(config)"
      ],
      "metadata": {
        "colab": {
          "base_uri": "https://localhost:8080/"
        },
        "outputId": "2cb850d7-750d-4e96-e784-eb2de960ddc2",
        "id": "Q2zKxFlB4If3"
      },
      "execution_count": null,
      "outputs": [
        {
          "output_type": "stream",
          "name": "stdout",
          "text": [
            "CKA for google/flan-t5-small\n",
            "Loading  model...\n",
            "Running comparisons...\n",
            "\tcontext... The 2020 Olympics were held in <extra_id_0>.\n",
            "\ttokenized_context ids... tensor([[   37,  6503, 17793,   130,  1213,    16, 32099,     3,     5,     1]],\n",
            "       device='cuda:0')\n",
            "\tdecoded tokenized_context... The 2020 Olympics were held in<extra_id_0>.</s>\n",
            "\tdecoded target id... Tokyo\n",
            "\tmost probable prediction id decoded... a\n",
            "\tcontext... The 2020 Olympics were held in <extra_id_0>.\n",
            "\ttokenized_context ids... tensor([[   37,  6503, 17793,   130,  1213,    16, 32099,     3,     5,     1]],\n",
            "       device='cuda:0')\n",
            "\tdecoded tokenized_context... The 2020 Olympics were held in<extra_id_0>.</s>\n",
            "\tdecoded target id... London\n",
            "\tmost probable prediction id decoded... a\n",
            "\tcontext... Operation Overlord took place in <extra_id_0>.\n",
            "\ttokenized_context ids... tensor([[ 6411,  1575,  2035,   322,    26,   808,   286,    16, 32099,     3,\n",
            "             5,     1]], device='cuda:0')\n",
            "\tdecoded tokenized_context... Operation Overlord took place in<extra_id_0>.</s>\n",
            "\tdecoded target id... Norman\n",
            "\tmost probable prediction id decoded... or\n",
            "\tcontext... Operation Overlord took place in <extra_id_0>.\n",
            "\ttokenized_context ids... tensor([[ 6411,  1575,  2035,   322,    26,   808,   286,    16, 32099,     3,\n",
            "             5,     1]], device='cuda:0')\n",
            "\tdecoded tokenized_context... Operation Overlord took place in<extra_id_0>.</s>\n",
            "\tdecoded target id... Manila\n",
            "\tmost probable prediction id decoded... or\n",
            "\tcontext... Steve Jobs is the founder of <extra_id_0>.\n",
            "\ttokenized_context ids... tensor([[ 5659, 15106,    19,     8,  7174,    13, 32099,     3,     5,     1]],\n",
            "       device='cuda:0')\n",
            "\tdecoded tokenized_context... Steve Jobs is the founder of<extra_id_0>.</s>\n",
            "\tdecoded target id... Apple\n",
            "\tmost probable prediction id decoded... \n",
            "\tcontext... Steve Jobs is the founder of <extra_id_0>.\n",
            "\ttokenized_context ids... tensor([[ 5659, 15106,    19,     8,  7174,    13, 32099,     3,     5,     1]],\n",
            "       device='cuda:0')\n",
            "\tdecoded tokenized_context... Steve Jobs is the founder of<extra_id_0>.</s>\n",
            "\tdecoded target id... Microsoft\n",
            "\tmost probable prediction id decoded... \n",
            "Done\n",
            "\n"
          ]
        }
      ]
    },
    {
      "cell_type": "code",
      "source": [
        "score_dict_full"
      ],
      "metadata": {
        "colab": {
          "base_uri": "https://localhost:8080/"
        },
        "outputId": "05de681d-2c75-496d-a575-c0e75dca1508",
        "id": "B-P8m5dU4If3"
      },
      "execution_count": null,
      "outputs": [
        {
          "output_type": "execute_result",
          "data": {
            "text/plain": [
              "{'google/flan-t5-small': [{'The 2020 Olympics were held in <extra_id_0>.': {'p_true': 3.46e-06,\n",
              "    'p_false': 2.9742717742919922e-05,\n",
              "    'p_true - p_false': -2.6285648345947266e-05,\n",
              "    'p_true > p_false': False}},\n",
              "  {'Operation Overlord took place in <extra_id_0>.': {'p_true': 2.06e-05,\n",
              "    'p_false': 1.0728836059570312e-06,\n",
              "    'p_true - p_false': 1.9550323486328125e-05,\n",
              "    'p_true > p_false': True}},\n",
              "  {'Steve Jobs is the founder of <extra_id_0>.': {'p_true': 0.0005684,\n",
              "    'p_false': 1.8715858459472656e-05,\n",
              "    'p_true - p_false': 0.0005496740341186523,\n",
              "    'p_true > p_false': True}}]}"
            ]
          },
          "metadata": {},
          "execution_count": 48
        }
      ]
    },
    {
      "cell_type": "code",
      "source": [
        "score_dict_succinct"
      ],
      "metadata": {
        "colab": {
          "base_uri": "https://localhost:8080/"
        },
        "outputId": "ee43abfe-fead-4747-ddb9-8bd8978b087d",
        "id": "WMxxBOMy4If4"
      },
      "execution_count": null,
      "outputs": [
        {
          "output_type": "execute_result",
          "data": {
            "text/plain": [
              "{'google/flan-t5-small': [{'The 2020 Olympics were held in <extra_id_0>.': {'p_true > p_false': False}},\n",
              "  {'Operation Overlord took place in <extra_id_0>.': {'p_true > p_false': True}},\n",
              "  {'Steve Jobs is the founder of <extra_id_0>.': {'p_true > p_false': True}}]}"
            ]
          },
          "metadata": {},
          "execution_count": 49
        }
      ]
    },
    {
      "cell_type": "code",
      "source": [
        "score_dict_summary"
      ],
      "metadata": {
        "colab": {
          "base_uri": "https://localhost:8080/"
        },
        "id": "w0sXjIGc5r2S",
        "outputId": "b24564aa-b12f-4ef7-9c52-7419e79ea754"
      },
      "execution_count": null,
      "outputs": [
        {
          "output_type": "execute_result",
          "data": {
            "text/plain": [
              "{'google/flan-t5-small': 'This model got 2/3 facts correct'}"
            ]
          },
          "metadata": {},
          "execution_count": 50
        }
      ]
    }
  ]
}