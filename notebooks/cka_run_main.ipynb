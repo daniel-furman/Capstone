{
  "cells": [
    {
      "cell_type": "markdown",
      "metadata": {
        "id": "Am_Ubq6xTaBz"
      },
      "source": [
        "# Run contrastive knowledge assesment notebook\n",
        "\n",
        "<a target=\"_blank\" href=\"https://colab.research.google.com/github/daniel-furman/Capstone/blob/main/notebooks/cka_run_main.ipynb\">\n",
        "  <img src=\"https://colab.research.google.com/assets/colab-badge.svg\" alt=\"Open In Colab\"/>\n",
        "</a>\n"
      ]
    },
    {
      "cell_type": "markdown",
      "metadata": {
        "id": "uccv2X7WeJGv"
      },
      "source": [
        "## Dependencies"
      ]
    },
    {
      "cell_type": "code",
      "execution_count": null,
      "metadata": {
        "colab": {
          "base_uri": "https://localhost:8080/"
        },
        "id": "A4gro-sOZz-O",
        "outputId": "04271a33-8a26-4955-c438-02ad7d96160a"
      },
      "outputs": [
        {
          "name": "stdout",
          "output_type": "stream",
          "text": [
            "Cloning into 'Capstone'...\n",
            "remote: Enumerating objects: 388, done.\u001b[K\n",
            "remote: Counting objects: 100% (45/45), done.\u001b[K\n",
            "remote: Compressing objects: 100% (29/29), done.\u001b[K\n",
            "remote: Total 388 (delta 18), reused 34 (delta 12), pack-reused 343\u001b[K\n",
            "Receiving objects: 100% (388/388), 23.65 MiB | 16.47 MiB/s, done.\n",
            "Resolving deltas: 100% (180/180), done.\n"
          ]
        }
      ],
      "source": [
        "!git clone https://github.com/daniel-furman/Capstone.git"
      ]
    },
    {
      "cell_type": "code",
      "execution_count": null,
      "metadata": {
        "colab": {
          "base_uri": "https://localhost:8080/"
        },
        "id": "qaXMJaroH_TI",
        "outputId": "05bf5a1a-b1b2-483a-abb0-1668214dc421"
      },
      "outputs": [
        {
          "name": "stdout",
          "output_type": "stream",
          "text": [
            "Looking in indexes: https://pypi.org/simple, https://us-python.pkg.dev/colab-wheels/public/simple/\n",
            "Requirement already satisfied: numpy==1.22.4 in /usr/local/lib/python3.9/dist-packages (from -r /content/Capstone/requirements.txt (line 1)) (1.22.4)\n",
            "Collecting sentencepiece==0.1.97\n",
            "  Downloading sentencepiece-0.1.97-cp39-cp39-manylinux_2_17_x86_64.manylinux2014_x86_64.whl (1.3 MB)\n",
            "\u001b[2K     \u001b[90m━━━━━━━━━━━━━━━━━━━━━━━━━━━━━━━━━━━━━━━━\u001b[0m \u001b[32m1.3/1.3 MB\u001b[0m \u001b[31m5.7 MB/s\u001b[0m eta \u001b[36m0:00:00\u001b[0m\n",
            "\u001b[?25hRequirement already satisfied: torch==1.13.1 in /usr/local/lib/python3.9/dist-packages (from -r /content/Capstone/requirements.txt (line 3)) (1.13.1+cu116)\n",
            "Collecting transformers==4.26.1\n",
            "  Downloading transformers-4.26.1-py3-none-any.whl (6.3 MB)\n",
            "\u001b[2K     \u001b[90m━━━━━━━━━━━━━━━━━━━━━━━━━━━━━━━━━━━━━━━━\u001b[0m \u001b[32m6.3/6.3 MB\u001b[0m \u001b[31m109.0 MB/s\u001b[0m eta \u001b[36m0:00:00\u001b[0m\n",
            "\u001b[?25hCollecting accelerate==0.16.0\n",
            "  Downloading accelerate-0.16.0-py3-none-any.whl (199 kB)\n",
            "\u001b[2K     \u001b[90m━━━━━━━━━━━━━━━━━━━━━━━━━━━━━━━━━━━━━━\u001b[0m \u001b[32m199.7/199.7 KB\u001b[0m \u001b[31m25.5 MB/s\u001b[0m eta \u001b[36m0:00:00\u001b[0m\n",
            "\u001b[?25hCollecting bitsandbytes==0.37.0\n",
            "  Downloading bitsandbytes-0.37.0-py3-none-any.whl (76.3 MB)\n",
            "\u001b[2K     \u001b[90m━━━━━━━━━━━━━━━━━━━━━━━━━━━━━━━━━━━━━━━━\u001b[0m \u001b[32m76.3/76.3 MB\u001b[0m \u001b[31m22.7 MB/s\u001b[0m eta \u001b[36m0:00:00\u001b[0m\n",
            "\u001b[?25hRequirement already satisfied: typing-extensions in /usr/local/lib/python3.9/dist-packages (from torch==1.13.1->-r /content/Capstone/requirements.txt (line 3)) (4.5.0)\n",
            "Requirement already satisfied: packaging>=20.0 in /usr/local/lib/python3.9/dist-packages (from transformers==4.26.1->-r /content/Capstone/requirements.txt (line 4)) (23.0)\n",
            "Requirement already satisfied: requests in /usr/local/lib/python3.9/dist-packages (from transformers==4.26.1->-r /content/Capstone/requirements.txt (line 4)) (2.25.1)\n",
            "Requirement already satisfied: filelock in /usr/local/lib/python3.9/dist-packages (from transformers==4.26.1->-r /content/Capstone/requirements.txt (line 4)) (3.9.0)\n",
            "Requirement already satisfied: regex!=2019.12.17 in /usr/local/lib/python3.9/dist-packages (from transformers==4.26.1->-r /content/Capstone/requirements.txt (line 4)) (2022.6.2)\n",
            "Requirement already satisfied: pyyaml>=5.1 in /usr/local/lib/python3.9/dist-packages (from transformers==4.26.1->-r /content/Capstone/requirements.txt (line 4)) (6.0)\n",
            "Collecting tokenizers!=0.11.3,<0.14,>=0.11.1\n",
            "  Downloading tokenizers-0.13.2-cp39-cp39-manylinux_2_17_x86_64.manylinux2014_x86_64.whl (7.6 MB)\n",
            "\u001b[2K     \u001b[90m━━━━━━━━━━━━━━━━━━━━━━━━━━━━━━━━━━━━━━━━\u001b[0m \u001b[32m7.6/7.6 MB\u001b[0m \u001b[31m115.8 MB/s\u001b[0m eta \u001b[36m0:00:00\u001b[0m\n",
            "\u001b[?25hCollecting huggingface-hub<1.0,>=0.11.0\n",
            "  Downloading huggingface_hub-0.13.1-py3-none-any.whl (199 kB)\n",
            "\u001b[2K     \u001b[90m━━━━━━━━━━━━━━━━━━━━━━━━━━━━━━━━━━━━━━\u001b[0m \u001b[32m199.2/199.2 KB\u001b[0m \u001b[31m24.5 MB/s\u001b[0m eta \u001b[36m0:00:00\u001b[0m\n",
            "\u001b[?25hRequirement already satisfied: tqdm>=4.27 in /usr/local/lib/python3.9/dist-packages (from transformers==4.26.1->-r /content/Capstone/requirements.txt (line 4)) (4.65.0)\n",
            "Requirement already satisfied: psutil in /usr/local/lib/python3.9/dist-packages (from accelerate==0.16.0->-r /content/Capstone/requirements.txt (line 5)) (5.4.8)\n",
            "Requirement already satisfied: urllib3<1.27,>=1.21.1 in /usr/local/lib/python3.9/dist-packages (from requests->transformers==4.26.1->-r /content/Capstone/requirements.txt (line 4)) (1.26.14)\n",
            "Requirement already satisfied: idna<3,>=2.5 in /usr/local/lib/python3.9/dist-packages (from requests->transformers==4.26.1->-r /content/Capstone/requirements.txt (line 4)) (2.10)\n",
            "Requirement already satisfied: certifi>=2017.4.17 in /usr/local/lib/python3.9/dist-packages (from requests->transformers==4.26.1->-r /content/Capstone/requirements.txt (line 4)) (2022.12.7)\n",
            "Requirement already satisfied: chardet<5,>=3.0.2 in /usr/local/lib/python3.9/dist-packages (from requests->transformers==4.26.1->-r /content/Capstone/requirements.txt (line 4)) (4.0.0)\n",
            "Installing collected packages: tokenizers, sentencepiece, bitsandbytes, huggingface-hub, accelerate, transformers\n",
            "Successfully installed accelerate-0.16.0 bitsandbytes-0.37.0 huggingface-hub-0.13.1 sentencepiece-0.1.97 tokenizers-0.13.2 transformers-4.26.1\n"
          ]
        }
      ],
      "source": [
        "!pip install -r /content/Capstone/requirements.txt"
      ]
    },
    {
      "cell_type": "markdown",
      "metadata": {
        "id": "3yjnEaRtKd8L"
      },
      "source": [
        "## Imports"
      ]
    },
    {
      "cell_type": "code",
      "execution_count": null,
      "metadata": {
        "id": "IJQImaEDTRMr"
      },
      "outputs": [],
      "source": [
        "import os"
      ]
    },
    {
      "cell_type": "code",
      "execution_count": null,
      "metadata": {
        "id": "0jQTcgbNk-iA"
      },
      "outputs": [],
      "source": [
        "os.chdir('/content/Capstone/src/cka_scripts')"
      ]
    },
    {
      "cell_type": "markdown",
      "metadata": {
        "id": "j6lqNVBmhW-g"
      },
      "source": [
        "## CLI usage"
      ]
    },
    {
      "cell_type": "code",
      "execution_count": null,
      "metadata": {
        "colab": {
          "base_uri": "https://localhost:8080/"
        },
        "id": "1D4NDgkf8oAO",
        "outputId": "b04f7e4f-3b70-4b7e-b7f1-95d0eba98ce7"
      },
      "outputs": [
        {
          "name": "stdout",
          "output_type": "stream",
          "text": [
            "2023-03-12 06:51:39.644287: I tensorflow/core/platform/cpu_feature_guard.cc:193] This TensorFlow binary is optimized with oneAPI Deep Neural Network Library (oneDNN) to use the following CPU instructions in performance-critical operations:  AVX2 AVX512F FMA\n",
            "To enable them in other operations, rebuild TensorFlow with the appropriate compiler flags.\n",
            "2023-03-12 06:51:40.467427: W tensorflow/compiler/xla/stream_executor/platform/default/dso_loader.cc:64] Could not load dynamic library 'libnvinfer.so.7'; dlerror: libnvinfer.so.7: cannot open shared object file: No such file or directory; LD_LIBRARY_PATH: /usr/lib64-nvidia\n",
            "2023-03-12 06:51:40.467510: W tensorflow/compiler/xla/stream_executor/platform/default/dso_loader.cc:64] Could not load dynamic library 'libnvinfer_plugin.so.7'; dlerror: libnvinfer_plugin.so.7: cannot open shared object file: No such file or directory; LD_LIBRARY_PATH: /usr/lib64-nvidia\n",
            "2023-03-12 06:51:40.467526: W tensorflow/compiler/tf2tensorrt/utils/py_utils.cc:38] TF-TRT Warning: Cannot dlopen some TensorRT libraries. If you would like to use Nvidia GPU with TensorRT, please make sure the missing libraries mentioned above are installed properly.\n",
            "CKA for facebook/opt-125m\n",
            "Loading  model...\n",
            "Downloading (…)okenizer_config.json: 100% 685/685 [00:00<00:00, 102kB/s]\n",
            "Downloading (…)lve/main/config.json: 100% 651/651 [00:00<00:00, 110kB/s]\n",
            "Downloading (…)olve/main/vocab.json: 100% 899k/899k [00:01<00:00, 814kB/s]\n",
            "Downloading (…)olve/main/merges.txt: 100% 456k/456k [00:01<00:00, 411kB/s]\n",
            "Downloading (…)cial_tokens_map.json: 100% 441/441 [00:00<00:00, 175kB/s]\n",
            "Downloading pytorch_model.bin: 100% 251M/251M [00:00<00:00, 340MB/s]\n",
            "\n",
            "===================================BUG REPORT===================================\n",
            "Welcome to bitsandbytes. For bug reports, please submit your error trace to: https://github.com/TimDettmers/bitsandbytes/issues\n",
            "================================================================================\n",
            "Downloading (…)neration_config.json: 100% 137/137 [00:00<00:00, 54.4kB/s]\n",
            "Running comparisons...\n",
            "Done\n",
            "\n",
            "CKA for facebook/opt-350m\n",
            "Loading  model...\n",
            "Downloading (…)okenizer_config.json: 100% 685/685 [00:00<00:00, 115kB/s]\n",
            "Downloading (…)lve/main/config.json: 100% 644/644 [00:00<00:00, 232kB/s]\n",
            "Downloading (…)olve/main/vocab.json: 100% 899k/899k [00:01<00:00, 811kB/s]\n",
            "Downloading (…)olve/main/merges.txt: 100% 456k/456k [00:01<00:00, 406kB/s]\n",
            "Downloading (…)cial_tokens_map.json: 100% 441/441 [00:00<00:00, 164kB/s]\n",
            "Downloading pytorch_model.bin: 100% 663M/663M [00:07<00:00, 86.9MB/s]\n",
            "Downloading (…)neration_config.json: 100% 137/137 [00:00<00:00, 40.5kB/s]\n",
            "Running comparisons...\n",
            "Done\n",
            "\n",
            "CKA for facebook/opt-1.3b\n",
            "Loading  model...\n",
            "Downloading (…)okenizer_config.json: 100% 685/685 [00:00<00:00, 243kB/s]\n",
            "Downloading (…)lve/main/config.json: 100% 653/653 [00:00<00:00, 219kB/s]\n",
            "Downloading (…)olve/main/vocab.json: 100% 899k/899k [00:01<00:00, 675kB/s]\n",
            "Downloading (…)olve/main/merges.txt: 100% 456k/456k [00:01<00:00, 413kB/s]\n",
            "Downloading (…)cial_tokens_map.json: 100% 441/441 [00:00<00:00, 157kB/s]\n",
            "Downloading pytorch_model.bin: 100% 2.63G/2.63G [00:15<00:00, 165MB/s]\n",
            "Downloading (…)neration_config.json: 100% 137/137 [00:00<00:00, 49.2kB/s]\n",
            "Running comparisons...\n",
            "Done\n",
            "\n",
            "\n",
            "Score dict full:\n",
            "{'facebook/opt-125m': [{\"The 2020 Olympics were held in ['Tokyo', 'London']\": {'p_true': 0.1683349609375, 'p_false': 0.0361328125, 'p_true - p_false': 0.1322021484375, 'p_true > p_false': 'True'}}, {\"The 2020 Olympics were held in ['Tokyo', 'Berlin']\": {'p_true': 0.1683349609375, 'p_false': 0.0012950897216796875, 'p_true - p_false': 0.1670398712158203, 'p_true > p_false': 'True'}}, {\"The 2020 Olympics were held in ['Tokyo', 'Chicago']\": {'p_true': 0.1683349609375, 'p_false': 0.0007886886596679688, 'p_true - p_false': 0.16754627227783203, 'p_true > p_false': 'True'}}, {\"Operation Overlord took place in ['Normandy', 'Manila']\": {'p_true': 0.000583648681640625, 'p_false': 0.00018596649169921875, 'p_true - p_false': 0.00039768218994140625, 'p_true > p_false': 'True'}}, {\"Operation Overlord took place in ['Normandy', 'Santiago']\": {'p_true': 0.000583648681640625, 'p_false': 2.2292137145996094e-05, 'p_true - p_false': 0.0005613565444946289, 'p_true > p_false': 'True'}}, {\"Operation Overlord took place in ['Normandy', 'Baghdad']\": {'p_true': 0.000583648681640625, 'p_false': 0.0003402233123779297, 'p_true - p_false': 0.0002434253692626953, 'p_true > p_false': 'True'}}, {\"Steve Jobs is the founder of ['Apple', 'Microsoft']\": {'p_true': 0.447265625, 'p_false': 0.016876220703125, 'p_true - p_false': 0.430389404296875, 'p_true > p_false': 'True'}}, {\"Steve Jobs is the founder of ['Apple', 'Oracle']\": {'p_true': 0.447265625, 'p_false': 0.00023603439331054688, 'p_true - p_false': 0.44702959060668945, 'p_true > p_false': 'True'}}, {\"Steve Jobs is the founder of ['Apple', 'Intel']\": {'p_true': 0.447265625, 'p_false': 0.0012388229370117188, 'p_true - p_false': 0.4460268020629883, 'p_true > p_false': 'True'}}], 'facebook/opt-350m': [{\"The 2020 Olympics were held in ['Tokyo', 'London']\": {'p_true': 0.52099609375, 'p_false': 0.01102447509765625, 'p_true - p_false': 0.5099716186523438, 'p_true > p_false': 'True'}}, {\"The 2020 Olympics were held in ['Tokyo', 'Berlin']\": {'p_true': 0.52099609375, 'p_false': 3.6776065826416016e-05, 'p_true - p_false': 0.5209593176841736, 'p_true > p_false': 'True'}}, {\"The 2020 Olympics were held in ['Tokyo', 'Chicago']\": {'p_true': 0.52099609375, 'p_false': 7.486343383789062e-05, 'p_true - p_false': 0.5209212303161621, 'p_true > p_false': 'True'}}, {\"Operation Overlord took place in ['Normandy', 'Manila']\": {'p_true': 0.00012862682342529297, 'p_false': 3.832578659057617e-05, 'p_true - p_false': 9.03010368347168e-05, 'p_true > p_false': 'True'}}, {\"Operation Overlord took place in ['Normandy', 'Santiago']\": {'p_true': 0.00012862682342529297, 'p_false': 6.079673767089844e-06, 'p_true - p_false': 0.00012254714965820312, 'p_true > p_false': 'True'}}, {\"Operation Overlord took place in ['Normandy', 'Baghdad']\": {'p_true': 0.00012862682342529297, 'p_false': 8.565187454223633e-05, 'p_true - p_false': 4.297494888305664e-05, 'p_true > p_false': 'True'}}, {\"Steve Jobs is the founder of ['Apple', 'Microsoft']\": {'p_true': 0.71875, 'p_false': 0.0203399658203125, 'p_true - p_false': 0.6984100341796875, 'p_true > p_false': 'True'}}, {\"Steve Jobs is the founder of ['Apple', 'Oracle']\": {'p_true': 0.71875, 'p_false': 0.0004000663757324219, 'p_true - p_false': 0.7183499336242676, 'p_true > p_false': 'True'}}, {\"Steve Jobs is the founder of ['Apple', 'Intel']\": {'p_true': 0.71875, 'p_false': 0.0022945404052734375, 'p_true - p_false': 0.7164554595947266, 'p_true > p_false': 'True'}}], 'facebook/opt-1.3b': [{\"The 2020 Olympics were held in ['Tokyo', 'London']\": {'p_true': 0.3828125, 'p_false': 0.00032806396484375, 'p_true - p_false': 0.38248443603515625, 'p_true > p_false': 'True'}}, {\"The 2020 Olympics were held in ['Tokyo', 'Berlin']\": {'p_true': 0.3828125, 'p_false': 4.839897155761719e-05, 'p_true - p_false': 0.3827641010284424, 'p_true > p_false': 'True'}}, {\"The 2020 Olympics were held in ['Tokyo', 'Chicago']\": {'p_true': 0.3828125, 'p_false': 6.246566772460938e-05, 'p_true - p_false': 0.3827500343322754, 'p_true > p_false': 'True'}}, {\"Operation Overlord took place in ['Normandy', 'Manila']\": {'p_true': 0.00714111328125, 'p_false': 8.20159912109375e-05, 'p_true - p_false': 0.0070590972900390625, 'p_true > p_false': 'True'}}, {\"Operation Overlord took place in ['Normandy', 'Santiago']\": {'p_true': 0.00714111328125, 'p_false': 7.808208465576172e-06, 'p_true - p_false': 0.007133305072784424, 'p_true > p_false': 'True'}}, {\"Operation Overlord took place in ['Normandy', 'Baghdad']\": {'p_true': 0.00714111328125, 'p_false': 0.0004646778106689453, 'p_true - p_false': 0.006676435470581055, 'p_true > p_false': 'True'}}, {\"Steve Jobs is the founder of ['Apple', 'Microsoft']\": {'p_true': 0.82275390625, 'p_false': 0.0012569427490234375, 'p_true - p_false': 0.8214969635009766, 'p_true > p_false': 'True'}}, {\"Steve Jobs is the founder of ['Apple', 'Oracle']\": {'p_true': 0.82275390625, 'p_false': 8.225440979003906e-05, 'p_true - p_false': 0.82267165184021, 'p_true > p_false': 'True'}}, {\"Steve Jobs is the founder of ['Apple', 'Intel']\": {'p_true': 0.82275390625, 'p_false': 0.0010747909545898438, 'p_true - p_false': 0.8216791152954102, 'p_true > p_false': 'True'}}]}\n",
            "\n",
            "Score dict succinct:\n",
            "{'facebook/opt-125m': [{\"The 2020 Olympics were held in ['Tokyo', 'London']\": {'p_true > p_false': 'True'}}, {\"The 2020 Olympics were held in ['Tokyo', 'Berlin']\": {'p_true > p_false': 'True'}}, {\"The 2020 Olympics were held in ['Tokyo', 'Chicago']\": {'p_true > p_false': 'True'}}, {\"Operation Overlord took place in ['Normandy', 'Manila']\": {'p_true > p_false': 'True'}}, {\"Operation Overlord took place in ['Normandy', 'Santiago']\": {'p_true > p_false': 'True'}}, {\"Operation Overlord took place in ['Normandy', 'Baghdad']\": {'p_true > p_false': 'True'}}, {\"Steve Jobs is the founder of ['Apple', 'Microsoft']\": {'p_true > p_false': 'True'}}, {\"Steve Jobs is the founder of ['Apple', 'Oracle']\": {'p_true > p_false': 'True'}}, {\"Steve Jobs is the founder of ['Apple', 'Intel']\": {'p_true > p_false': 'True'}}], 'facebook/opt-350m': [{\"The 2020 Olympics were held in ['Tokyo', 'London']\": {'p_true > p_false': 'True'}}, {\"The 2020 Olympics were held in ['Tokyo', 'Berlin']\": {'p_true > p_false': 'True'}}, {\"The 2020 Olympics were held in ['Tokyo', 'Chicago']\": {'p_true > p_false': 'True'}}, {\"Operation Overlord took place in ['Normandy', 'Manila']\": {'p_true > p_false': 'True'}}, {\"Operation Overlord took place in ['Normandy', 'Santiago']\": {'p_true > p_false': 'True'}}, {\"Operation Overlord took place in ['Normandy', 'Baghdad']\": {'p_true > p_false': 'True'}}, {\"Steve Jobs is the founder of ['Apple', 'Microsoft']\": {'p_true > p_false': 'True'}}, {\"Steve Jobs is the founder of ['Apple', 'Oracle']\": {'p_true > p_false': 'True'}}, {\"Steve Jobs is the founder of ['Apple', 'Intel']\": {'p_true > p_false': 'True'}}], 'facebook/opt-1.3b': [{\"The 2020 Olympics were held in ['Tokyo', 'London']\": {'p_true > p_false': 'True'}}, {\"The 2020 Olympics were held in ['Tokyo', 'Berlin']\": {'p_true > p_false': 'True'}}, {\"The 2020 Olympics were held in ['Tokyo', 'Chicago']\": {'p_true > p_false': 'True'}}, {\"Operation Overlord took place in ['Normandy', 'Manila']\": {'p_true > p_false': 'True'}}, {\"Operation Overlord took place in ['Normandy', 'Santiago']\": {'p_true > p_false': 'True'}}, {\"Operation Overlord took place in ['Normandy', 'Baghdad']\": {'p_true > p_false': 'True'}}, {\"Steve Jobs is the founder of ['Apple', 'Microsoft']\": {'p_true > p_false': 'True'}}, {\"Steve Jobs is the founder of ['Apple', 'Oracle']\": {'p_true > p_false': 'True'}}, {\"Steve Jobs is the founder of ['Apple', 'Intel']\": {'p_true > p_false': 'True'}}]}\n",
            "\n",
            "Score dict summary:\n",
            "{'facebook/opt-125m': 'This model predicted 9/9 facts at a higher prob than the given counterfactual.', 'facebook/opt-350m': 'This model predicted 9/9 facts at a higher prob than the given counterfactual.', 'facebook/opt-1.3b': 'This model predicted 9/9 facts at a higher prob than the given counterfactual.'}\n"
          ]
        }
      ],
      "source": [
        "!python run_cka.py configs.tests.opt_v0"
      ]
    },
    {
      "cell_type": "code",
      "execution_count": null,
      "metadata": {
        "colab": {
          "base_uri": "https://localhost:8080/"
        },
        "id": "-qB6RpDTZsJC",
        "outputId": "ddad857e-e8e9-443d-9c7e-b144b67b3d50"
      },
      "outputs": [
        {
          "name": "stdout",
          "output_type": "stream",
          "text": [
            "2023-03-12 06:53:23.422540: I tensorflow/core/platform/cpu_feature_guard.cc:193] This TensorFlow binary is optimized with oneAPI Deep Neural Network Library (oneDNN) to use the following CPU instructions in performance-critical operations:  AVX2 AVX512F FMA\n",
            "To enable them in other operations, rebuild TensorFlow with the appropriate compiler flags.\n",
            "2023-03-12 06:53:24.206944: W tensorflow/compiler/xla/stream_executor/platform/default/dso_loader.cc:64] Could not load dynamic library 'libnvinfer.so.7'; dlerror: libnvinfer.so.7: cannot open shared object file: No such file or directory; LD_LIBRARY_PATH: /usr/lib64-nvidia\n",
            "2023-03-12 06:53:24.207024: W tensorflow/compiler/xla/stream_executor/platform/default/dso_loader.cc:64] Could not load dynamic library 'libnvinfer_plugin.so.7'; dlerror: libnvinfer_plugin.so.7: cannot open shared object file: No such file or directory; LD_LIBRARY_PATH: /usr/lib64-nvidia\n",
            "2023-03-12 06:53:24.207039: W tensorflow/compiler/tf2tensorrt/utils/py_utils.cc:38] TF-TRT Warning: Cannot dlopen some TensorRT libraries. If you would like to use Nvidia GPU with TensorRT, please make sure the missing libraries mentioned above are installed properly.\n",
            "CKA for distilgpt2\n",
            "Loading  model...\n",
            "Downloading (…)lve/main/config.json: 100% 762/762 [00:00<00:00, 114kB/s]\n",
            "Downloading (…)olve/main/vocab.json: 100% 1.04M/1.04M [00:01<00:00, 941kB/s]\n",
            "Downloading (…)olve/main/merges.txt: 100% 456k/456k [00:01<00:00, 408kB/s]\n",
            "Downloading (…)/main/tokenizer.json: 100% 1.36M/1.36M [00:01<00:00, 1.02MB/s]\n",
            "Downloading pytorch_model.bin: 100% 353M/353M [00:04<00:00, 85.2MB/s]\n",
            "\n",
            "===================================BUG REPORT===================================\n",
            "Welcome to bitsandbytes. For bug reports, please submit your error trace to: https://github.com/TimDettmers/bitsandbytes/issues\n",
            "================================================================================\n",
            "Downloading (…)neration_config.json: 100% 124/124 [00:00<00:00, 48.9kB/s]\n",
            "Running comparisons...\n",
            "Done\n",
            "\n",
            "CKA for gpt2\n",
            "Loading  model...\n",
            "Downloading (…)lve/main/config.json: 100% 665/665 [00:00<00:00, 122kB/s]\n",
            "Downloading (…)olve/main/vocab.json: 100% 1.04M/1.04M [00:01<00:00, 943kB/s]\n",
            "Downloading (…)olve/main/merges.txt: 100% 456k/456k [00:01<00:00, 411kB/s]\n",
            "Downloading (…)/main/tokenizer.json: 100% 1.36M/1.36M [00:01<00:00, 1.02MB/s]\n",
            "Downloading pytorch_model.bin: 100% 548M/548M [00:01<00:00, 354MB/s]\n",
            "Downloading (…)neration_config.json: 100% 124/124 [00:00<00:00, 45.9kB/s]\n",
            "Running comparisons...\n",
            "Done\n",
            "\n",
            "CKA for gpt2-medium\n",
            "Loading  model...\n",
            "Downloading (…)lve/main/config.json: 100% 718/718 [00:00<00:00, 269kB/s]\n",
            "Downloading (…)olve/main/vocab.json: 100% 1.04M/1.04M [00:01<00:00, 937kB/s]\n",
            "Downloading (…)olve/main/merges.txt: 100% 456k/456k [00:01<00:00, 414kB/s]\n",
            "Downloading (…)/main/tokenizer.json: 100% 1.36M/1.36M [00:01<00:00, 1.02MB/s]\n",
            "Downloading pytorch_model.bin: 100% 1.52G/1.52G [00:15<00:00, 98.6MB/s]\n",
            "Downloading (…)neration_config.json: 100% 124/124 [00:00<00:00, 45.1kB/s]\n",
            "Running comparisons...\n",
            "Done\n",
            "\n",
            "CKA for gpt2-large\n",
            "Loading  model...\n",
            "Downloading (…)lve/main/config.json: 100% 666/666 [00:00<00:00, 245kB/s]\n",
            "Downloading (…)olve/main/vocab.json: 100% 1.04M/1.04M [00:01<00:00, 934kB/s]\n",
            "Downloading (…)olve/main/merges.txt: 100% 456k/456k [00:01<00:00, 408kB/s]\n",
            "Downloading (…)/main/tokenizer.json: 100% 1.36M/1.36M [00:01<00:00, 1.22MB/s]\n",
            "Downloading pytorch_model.bin: 100% 3.25G/3.25G [00:38<00:00, 83.3MB/s]\n",
            "Downloading (…)neration_config.json: 100% 124/124 [00:00<00:00, 43.5kB/s]\n",
            "Running comparisons...\n",
            "Done\n",
            "\n",
            "CKA for gpt2-xl\n",
            "Loading  model...\n",
            "Downloading (…)lve/main/config.json: 100% 689/689 [00:00<00:00, 241kB/s]\n",
            "Downloading (…)olve/main/vocab.json: 100% 1.04M/1.04M [00:01<00:00, 942kB/s]\n",
            "Downloading (…)olve/main/merges.txt: 100% 456k/456k [00:00<00:00, 508kB/s]\n",
            "Downloading (…)/main/tokenizer.json: 100% 1.36M/1.36M [00:01<00:00, 1.01MB/s]\n",
            "Downloading pytorch_model.bin: 100% 6.43G/6.43G [01:13<00:00, 87.0MB/s]\n",
            "Downloading (…)neration_config.json: 100% 124/124 [00:00<00:00, 43.9kB/s]\n",
            "Running comparisons...\n",
            "Done\n",
            "\n",
            "\n",
            "Score dict full:\n",
            "{'distilgpt2': [{\"The 2020 Olympics were held in ['Tokyo', 'London']\": {'p_true': 0.01068115234375, 'p_false': 0.0478515625, 'p_true - p_false': -0.03717041015625, 'p_true > p_false': 'False'}}, {\"The 2020 Olympics were held in ['Tokyo', 'Berlin']\": {'p_true': 0.01068115234375, 'p_false': 0.006084442138671875, 'p_true - p_false': 0.004596710205078125, 'p_true > p_false': 'True'}}, {\"The 2020 Olympics were held in ['Tokyo', 'Chicago']\": {'p_true': 0.01068115234375, 'p_false': 0.0015382766723632812, 'p_true - p_false': 0.009142875671386719, 'p_true > p_false': 'True'}}, {\"Operation Overlord took place in ['Normandy', 'Manila']\": {'p_true': 0.0007376670837402344, 'p_false': 0.00019848346710205078, 'p_true - p_false': 0.0005391836166381836, 'p_true > p_false': 'True'}}, {\"Operation Overlord took place in ['Normandy', 'Santiago']\": {'p_true': 0.0007376670837402344, 'p_false': 6.860494613647461e-05, 'p_true - p_false': 0.0006690621376037598, 'p_true > p_false': 'True'}}, {\"Operation Overlord took place in ['Normandy', 'Baghdad']\": {'p_true': 0.0007376670837402344, 'p_false': 0.0002713203430175781, 'p_true - p_false': 0.00046634674072265625, 'p_true > p_false': 'True'}}, {\"Steve Jobs is the founder of ['Apple', 'Microsoft']\": {'p_true': 0.01404571533203125, 'p_false': 0.01201629638671875, 'p_true - p_false': 0.0020294189453125, 'p_true > p_false': 'True'}}, {\"Steve Jobs is the founder of ['Apple', 'Oracle']\": {'p_true': 0.01404571533203125, 'p_false': 0.0016260147094726562, 'p_true - p_false': 0.012419700622558594, 'p_true > p_false': 'True'}}, {\"Steve Jobs is the founder of ['Apple', 'Intel']\": {'p_true': 0.01404571533203125, 'p_false': 0.004283905029296875, 'p_true - p_false': 0.009761810302734375, 'p_true > p_false': 'True'}}], 'gpt2': [{\"The 2020 Olympics were held in ['Tokyo', 'London']\": {'p_true': 0.025970458984375, 'p_false': 0.07513427734375, 'p_true - p_false': -0.049163818359375, 'p_true > p_false': 'False'}}, {\"The 2020 Olympics were held in ['Tokyo', 'Berlin']\": {'p_true': 0.025970458984375, 'p_false': 0.005443572998046875, 'p_true - p_false': 0.020526885986328125, 'p_true > p_false': 'True'}}, {\"The 2020 Olympics were held in ['Tokyo', 'Chicago']\": {'p_true': 0.025970458984375, 'p_false': 0.0012140274047851562, 'p_true - p_false': 0.024756431579589844, 'p_true > p_false': 'True'}}, {\"Operation Overlord took place in ['Normandy', 'Manila']\": {'p_true': 0.0004494190216064453, 'p_false': 0.00015532970428466797, 'p_true - p_false': 0.00029408931732177734, 'p_true > p_false': 'True'}}, {\"Operation Overlord took place in ['Normandy', 'Santiago']\": {'p_true': 0.0004494190216064453, 'p_false': 4.45246696472168e-05, 'p_true - p_false': 0.0004048943519592285, 'p_true > p_false': 'True'}}, {\"Operation Overlord took place in ['Normandy', 'Baghdad']\": {'p_true': 0.0004494190216064453, 'p_false': 0.0006961822509765625, 'p_true - p_false': -0.0002467632293701172, 'p_true > p_false': 'False'}}, {\"Steve Jobs is the founder of ['Apple', 'Microsoft']\": {'p_true': 0.23974609375, 'p_false': 0.06060791015625, 'p_true - p_false': 0.17913818359375, 'p_true > p_false': 'True'}}, {\"Steve Jobs is the founder of ['Apple', 'Oracle']\": {'p_true': 0.23974609375, 'p_false': 0.0038738250732421875, 'p_true - p_false': 0.2358722686767578, 'p_true > p_false': 'True'}}, {\"Steve Jobs is the founder of ['Apple', 'Intel']\": {'p_true': 0.23974609375, 'p_false': 0.011932373046875, 'p_true - p_false': 0.227813720703125, 'p_true > p_false': 'True'}}], 'gpt2-medium': [{\"The 2020 Olympics were held in ['Tokyo', 'London']\": {'p_true': 0.1800537109375, 'p_false': 0.054931640625, 'p_true - p_false': 0.1251220703125, 'p_true > p_false': 'True'}}, {\"The 2020 Olympics were held in ['Tokyo', 'Berlin']\": {'p_true': 0.1800537109375, 'p_false': 0.005107879638671875, 'p_true - p_false': 0.17494583129882812, 'p_true > p_false': 'True'}}, {\"The 2020 Olympics were held in ['Tokyo', 'Chicago']\": {'p_true': 0.1800537109375, 'p_false': 0.0008339881896972656, 'p_true - p_false': 0.17921972274780273, 'p_true > p_false': 'True'}}, {\"Operation Overlord took place in ['Normandy', 'Manila']\": {'p_true': 0.00024116039276123047, 'p_false': 3.260374069213867e-05, 'p_true - p_false': 0.0002085566520690918, 'p_true > p_false': 'True'}}, {\"Operation Overlord took place in ['Normandy', 'Santiago']\": {'p_true': 0.00024116039276123047, 'p_false': 1.5437602996826172e-05, 'p_true - p_false': 0.0002257227897644043, 'p_true > p_false': 'True'}}, {\"Operation Overlord took place in ['Normandy', 'Baghdad']\": {'p_true': 0.00024116039276123047, 'p_false': 6.490945816040039e-05, 'p_true - p_false': 0.00017625093460083008, 'p_true > p_false': 'True'}}, {\"Steve Jobs is the founder of ['Apple', 'Microsoft']\": {'p_true': 0.93115234375, 'p_false': 0.001056671142578125, 'p_true - p_false': 0.9300956726074219, 'p_true > p_false': 'True'}}, {\"Steve Jobs is the founder of ['Apple', 'Oracle']\": {'p_true': 0.93115234375, 'p_false': 0.00017249584197998047, 'p_true - p_false': 0.93097984790802, 'p_true > p_false': 'True'}}, {\"Steve Jobs is the founder of ['Apple', 'Intel']\": {'p_true': 0.93115234375, 'p_false': 0.001056671142578125, 'p_true - p_false': 0.9300956726074219, 'p_true > p_false': 'True'}}], 'gpt2-large': [{\"The 2020 Olympics were held in ['Tokyo', 'London']\": {'p_true': 0.5400390625, 'p_false': 0.058746337890625, 'p_true - p_false': 0.481292724609375, 'p_true > p_false': 'True'}}, {\"The 2020 Olympics were held in ['Tokyo', 'Berlin']\": {'p_true': 0.5400390625, 'p_false': 0.00537872314453125, 'p_true - p_false': 0.5346603393554688, 'p_true > p_false': 'True'}}, {\"The 2020 Olympics were held in ['Tokyo', 'Chicago']\": {'p_true': 0.5400390625, 'p_false': 0.0006866455078125, 'p_true - p_false': 0.5393524169921875, 'p_true > p_false': 'True'}}, {\"Operation Overlord took place in ['Normandy', 'Manila']\": {'p_true': 0.0005059242248535156, 'p_false': 0.00010764598846435547, 'p_true - p_false': 0.00039827823638916016, 'p_true > p_false': 'True'}}, {\"Operation Overlord took place in ['Normandy', 'Santiago']\": {'p_true': 0.0005059242248535156, 'p_false': 4.380941390991211e-05, 'p_true - p_false': 0.0004621148109436035, 'p_true > p_false': 'True'}}, {\"Operation Overlord took place in ['Normandy', 'Baghdad']\": {'p_true': 0.0005059242248535156, 'p_false': 0.00022232532501220703, 'p_true - p_false': 0.0002835988998413086, 'p_true > p_false': 'True'}}, {\"Steve Jobs is the founder of ['Apple', 'Microsoft']\": {'p_true': 0.75244140625, 'p_false': 0.0009984970092773438, 'p_true - p_false': 0.7514429092407227, 'p_true > p_false': 'True'}}, {\"Steve Jobs is the founder of ['Apple', 'Oracle']\": {'p_true': 0.75244140625, 'p_false': 1.055002212524414e-05, 'p_true - p_false': 0.7524308562278748, 'p_true > p_false': 'True'}}, {\"Steve Jobs is the founder of ['Apple', 'Intel']\": {'p_true': 0.75244140625, 'p_false': 0.0007219314575195312, 'p_true - p_false': 0.7517194747924805, 'p_true > p_false': 'True'}}], 'gpt2-xl': [{\"The 2020 Olympics were held in ['Tokyo', 'London']\": {'p_true': 0.37353515625, 'p_false': 0.0149383544921875, 'p_true - p_false': 0.3585968017578125, 'p_true > p_false': 'True'}}, {\"The 2020 Olympics were held in ['Tokyo', 'Berlin']\": {'p_true': 0.37353515625, 'p_false': 0.000690460205078125, 'p_true - p_false': 0.3728446960449219, 'p_true > p_false': 'True'}}, {\"The 2020 Olympics were held in ['Tokyo', 'Chicago']\": {'p_true': 0.37353515625, 'p_false': 0.0008168220520019531, 'p_true - p_false': 0.37271833419799805, 'p_true > p_false': 'True'}}, {\"Operation Overlord took place in ['Normandy', 'Manila']\": {'p_true': 0.0009212493896484375, 'p_false': 2.5212764739990234e-05, 'p_true - p_false': 0.0008960366249084473, 'p_true > p_false': 'True'}}, {\"Operation Overlord took place in ['Normandy', 'Santiago']\": {'p_true': 0.0009212493896484375, 'p_false': 4.410743713378906e-06, 'p_true - p_false': 0.0009168386459350586, 'p_true > p_false': 'True'}}, {\"Operation Overlord took place in ['Normandy', 'Baghdad']\": {'p_true': 0.0009212493896484375, 'p_false': 5.322694778442383e-05, 'p_true - p_false': 0.0008680224418640137, 'p_true > p_false': 'True'}}, {\"Steve Jobs is the founder of ['Apple', 'Microsoft']\": {'p_true': 0.82470703125, 'p_false': 0.0009965896606445312, 'p_true - p_false': 0.8237104415893555, 'p_true > p_false': 'True'}}, {\"Steve Jobs is the founder of ['Apple', 'Oracle']\": {'p_true': 0.82470703125, 'p_false': 2.5451183319091797e-05, 'p_true - p_false': 0.8246815800666809, 'p_true > p_false': 'True'}}, {\"Steve Jobs is the founder of ['Apple', 'Intel']\": {'p_true': 0.82470703125, 'p_false': 0.0014667510986328125, 'p_true - p_false': 0.8232402801513672, 'p_true > p_false': 'True'}}]}\n",
            "\n",
            "Score dict succinct:\n",
            "{'distilgpt2': [{\"The 2020 Olympics were held in ['Tokyo', 'London']\": {'p_true > p_false': 'False'}}, {\"The 2020 Olympics were held in ['Tokyo', 'Berlin']\": {'p_true > p_false': 'True'}}, {\"The 2020 Olympics were held in ['Tokyo', 'Chicago']\": {'p_true > p_false': 'True'}}, {\"Operation Overlord took place in ['Normandy', 'Manila']\": {'p_true > p_false': 'True'}}, {\"Operation Overlord took place in ['Normandy', 'Santiago']\": {'p_true > p_false': 'True'}}, {\"Operation Overlord took place in ['Normandy', 'Baghdad']\": {'p_true > p_false': 'True'}}, {\"Steve Jobs is the founder of ['Apple', 'Microsoft']\": {'p_true > p_false': 'True'}}, {\"Steve Jobs is the founder of ['Apple', 'Oracle']\": {'p_true > p_false': 'True'}}, {\"Steve Jobs is the founder of ['Apple', 'Intel']\": {'p_true > p_false': 'True'}}], 'gpt2': [{\"The 2020 Olympics were held in ['Tokyo', 'London']\": {'p_true > p_false': 'False'}}, {\"The 2020 Olympics were held in ['Tokyo', 'Berlin']\": {'p_true > p_false': 'True'}}, {\"The 2020 Olympics were held in ['Tokyo', 'Chicago']\": {'p_true > p_false': 'True'}}, {\"Operation Overlord took place in ['Normandy', 'Manila']\": {'p_true > p_false': 'True'}}, {\"Operation Overlord took place in ['Normandy', 'Santiago']\": {'p_true > p_false': 'True'}}, {\"Operation Overlord took place in ['Normandy', 'Baghdad']\": {'p_true > p_false': 'False'}}, {\"Steve Jobs is the founder of ['Apple', 'Microsoft']\": {'p_true > p_false': 'True'}}, {\"Steve Jobs is the founder of ['Apple', 'Oracle']\": {'p_true > p_false': 'True'}}, {\"Steve Jobs is the founder of ['Apple', 'Intel']\": {'p_true > p_false': 'True'}}], 'gpt2-medium': [{\"The 2020 Olympics were held in ['Tokyo', 'London']\": {'p_true > p_false': 'True'}}, {\"The 2020 Olympics were held in ['Tokyo', 'Berlin']\": {'p_true > p_false': 'True'}}, {\"The 2020 Olympics were held in ['Tokyo', 'Chicago']\": {'p_true > p_false': 'True'}}, {\"Operation Overlord took place in ['Normandy', 'Manila']\": {'p_true > p_false': 'True'}}, {\"Operation Overlord took place in ['Normandy', 'Santiago']\": {'p_true > p_false': 'True'}}, {\"Operation Overlord took place in ['Normandy', 'Baghdad']\": {'p_true > p_false': 'True'}}, {\"Steve Jobs is the founder of ['Apple', 'Microsoft']\": {'p_true > p_false': 'True'}}, {\"Steve Jobs is the founder of ['Apple', 'Oracle']\": {'p_true > p_false': 'True'}}, {\"Steve Jobs is the founder of ['Apple', 'Intel']\": {'p_true > p_false': 'True'}}], 'gpt2-large': [{\"The 2020 Olympics were held in ['Tokyo', 'London']\": {'p_true > p_false': 'True'}}, {\"The 2020 Olympics were held in ['Tokyo', 'Berlin']\": {'p_true > p_false': 'True'}}, {\"The 2020 Olympics were held in ['Tokyo', 'Chicago']\": {'p_true > p_false': 'True'}}, {\"Operation Overlord took place in ['Normandy', 'Manila']\": {'p_true > p_false': 'True'}}, {\"Operation Overlord took place in ['Normandy', 'Santiago']\": {'p_true > p_false': 'True'}}, {\"Operation Overlord took place in ['Normandy', 'Baghdad']\": {'p_true > p_false': 'True'}}, {\"Steve Jobs is the founder of ['Apple', 'Microsoft']\": {'p_true > p_false': 'True'}}, {\"Steve Jobs is the founder of ['Apple', 'Oracle']\": {'p_true > p_false': 'True'}}, {\"Steve Jobs is the founder of ['Apple', 'Intel']\": {'p_true > p_false': 'True'}}], 'gpt2-xl': [{\"The 2020 Olympics were held in ['Tokyo', 'London']\": {'p_true > p_false': 'True'}}, {\"The 2020 Olympics were held in ['Tokyo', 'Berlin']\": {'p_true > p_false': 'True'}}, {\"The 2020 Olympics were held in ['Tokyo', 'Chicago']\": {'p_true > p_false': 'True'}}, {\"Operation Overlord took place in ['Normandy', 'Manila']\": {'p_true > p_false': 'True'}}, {\"Operation Overlord took place in ['Normandy', 'Santiago']\": {'p_true > p_false': 'True'}}, {\"Operation Overlord took place in ['Normandy', 'Baghdad']\": {'p_true > p_false': 'True'}}, {\"Steve Jobs is the founder of ['Apple', 'Microsoft']\": {'p_true > p_false': 'True'}}, {\"Steve Jobs is the founder of ['Apple', 'Oracle']\": {'p_true > p_false': 'True'}}, {\"Steve Jobs is the founder of ['Apple', 'Intel']\": {'p_true > p_false': 'True'}}]}\n",
            "\n",
            "Score dict summary:\n",
            "{'distilgpt2': 'This model predicted 8/9 facts at a higher prob than the given counterfactual.', 'gpt2': 'This model predicted 7/9 facts at a higher prob than the given counterfactual.', 'gpt2-medium': 'This model predicted 9/9 facts at a higher prob than the given counterfactual.', 'gpt2-large': 'This model predicted 9/9 facts at a higher prob than the given counterfactual.', 'gpt2-xl': 'This model predicted 9/9 facts at a higher prob than the given counterfactual.'}\n"
          ]
        }
      ],
      "source": [
        "!python run_cka.py configs.tests.gpt2_v0"
      ]
    },
    {
      "cell_type": "code",
      "execution_count": null,
      "metadata": {
        "colab": {
          "base_uri": "https://localhost:8080/"
        },
        "id": "AvAcClqXEtgB",
        "outputId": "fa80fa53-9e73-4474-ad71-494da46f8cd2"
      },
      "outputs": [
        {
          "name": "stdout",
          "output_type": "stream",
          "text": [
            "2023-03-12 06:59:21.359118: I tensorflow/core/platform/cpu_feature_guard.cc:193] This TensorFlow binary is optimized with oneAPI Deep Neural Network Library (oneDNN) to use the following CPU instructions in performance-critical operations:  AVX2 AVX512F FMA\n",
            "To enable them in other operations, rebuild TensorFlow with the appropriate compiler flags.\n",
            "2023-03-12 06:59:22.152451: W tensorflow/compiler/xla/stream_executor/platform/default/dso_loader.cc:64] Could not load dynamic library 'libnvinfer.so.7'; dlerror: libnvinfer.so.7: cannot open shared object file: No such file or directory; LD_LIBRARY_PATH: /usr/lib64-nvidia\n",
            "2023-03-12 06:59:22.152534: W tensorflow/compiler/xla/stream_executor/platform/default/dso_loader.cc:64] Could not load dynamic library 'libnvinfer_plugin.so.7'; dlerror: libnvinfer_plugin.so.7: cannot open shared object file: No such file or directory; LD_LIBRARY_PATH: /usr/lib64-nvidia\n",
            "2023-03-12 06:59:22.152545: W tensorflow/compiler/tf2tensorrt/utils/py_utils.cc:38] TF-TRT Warning: Cannot dlopen some TensorRT libraries. If you would like to use Nvidia GPU with TensorRT, please make sure the missing libraries mentioned above are installed properly.\n",
            "CKA for google/bert_uncased_L-2_H-128_A-2\n",
            "Loading  model...\n",
            "Downloading (…)lve/main/config.json: 100% 382/382 [00:00<00:00, 59.1kB/s]\n",
            "Downloading (…)solve/main/vocab.txt: 100% 232k/232k [00:00<00:00, 349kB/s]\n",
            "Downloading pytorch_model.bin: 100% 17.7M/17.7M [00:00<00:00, 90.8MB/s]\n",
            "Some weights of the model checkpoint at google/bert_uncased_L-2_H-128_A-2 were not used when initializing BertForMaskedLM: ['cls.seq_relationship.bias', 'cls.seq_relationship.weight']\n",
            "- This IS expected if you are initializing BertForMaskedLM from the checkpoint of a model trained on another task or with another architecture (e.g. initializing a BertForSequenceClassification model from a BertForPreTraining model).\n",
            "- This IS NOT expected if you are initializing BertForMaskedLM from the checkpoint of a model that you expect to be exactly identical (initializing a BertForSequenceClassification model from a BertForSequenceClassification model).\n",
            "Running comparisons...\n",
            "Done\n",
            "\n",
            "CKA for google/bert_uncased_L-4_H-256_A-4\n",
            "Loading  model...\n",
            "Downloading (…)lve/main/config.json: 100% 383/383 [00:00<00:00, 72.7kB/s]\n",
            "Downloading (…)solve/main/vocab.txt: 100% 232k/232k [00:00<00:00, 343kB/s]\n",
            "Downloading pytorch_model.bin: 100% 45.1M/45.1M [00:00<00:00, 242MB/s]\n",
            "Some weights of the model checkpoint at google/bert_uncased_L-4_H-256_A-4 were not used when initializing BertForMaskedLM: ['cls.seq_relationship.bias', 'cls.seq_relationship.weight']\n",
            "- This IS expected if you are initializing BertForMaskedLM from the checkpoint of a model trained on another task or with another architecture (e.g. initializing a BertForSequenceClassification model from a BertForPreTraining model).\n",
            "- This IS NOT expected if you are initializing BertForMaskedLM from the checkpoint of a model that you expect to be exactly identical (initializing a BertForSequenceClassification model from a BertForSequenceClassification model).\n",
            "Running comparisons...\n",
            "Done\n",
            "\n",
            "CKA for google/bert_uncased_L-4_H-512_A-8\n",
            "Loading  model...\n",
            "Downloading (…)lve/main/config.json: 100% 383/383 [00:00<00:00, 136kB/s]\n",
            "Downloading (…)solve/main/vocab.txt: 100% 232k/232k [00:00<00:00, 259kB/s]\n",
            "Downloading pytorch_model.bin: 100% 116M/116M [00:00<00:00, 183MB/s]\n",
            "Some weights of the model checkpoint at google/bert_uncased_L-4_H-512_A-8 were not used when initializing BertForMaskedLM: ['cls.seq_relationship.bias', 'cls.seq_relationship.weight']\n",
            "- This IS expected if you are initializing BertForMaskedLM from the checkpoint of a model trained on another task or with another architecture (e.g. initializing a BertForSequenceClassification model from a BertForPreTraining model).\n",
            "- This IS NOT expected if you are initializing BertForMaskedLM from the checkpoint of a model that you expect to be exactly identical (initializing a BertForSequenceClassification model from a BertForSequenceClassification model).\n",
            "Running comparisons...\n",
            "Done\n",
            "\n",
            "CKA for google/bert_uncased_L-8_H-512_A-8\n",
            "Loading  model...\n",
            "Downloading (…)lve/main/config.json: 100% 383/383 [00:00<00:00, 137kB/s]\n",
            "Downloading (…)solve/main/vocab.txt: 100% 232k/232k [00:00<00:00, 259kB/s]\n",
            "Downloading pytorch_model.bin: 100% 167M/167M [00:00<00:00, 217MB/s]\n",
            "Some weights of the model checkpoint at google/bert_uncased_L-8_H-512_A-8 were not used when initializing BertForMaskedLM: ['cls.seq_relationship.bias', 'cls.seq_relationship.weight']\n",
            "- This IS expected if you are initializing BertForMaskedLM from the checkpoint of a model trained on another task or with another architecture (e.g. initializing a BertForSequenceClassification model from a BertForPreTraining model).\n",
            "- This IS NOT expected if you are initializing BertForMaskedLM from the checkpoint of a model that you expect to be exactly identical (initializing a BertForSequenceClassification model from a BertForSequenceClassification model).\n",
            "Running comparisons...\n",
            "Done\n",
            "\n",
            "CKA for distilbert-base-uncased\n",
            "Loading  model...\n",
            "Downloading (…)okenizer_config.json: 100% 28.0/28.0 [00:00<00:00, 3.13kB/s]\n",
            "Downloading (…)lve/main/config.json: 100% 483/483 [00:00<00:00, 179kB/s]\n",
            "Downloading (…)solve/main/vocab.txt: 100% 232k/232k [00:00<00:00, 259kB/s]\n",
            "Downloading (…)/main/tokenizer.json: 100% 466k/466k [00:01<00:00, 422kB/s]\n",
            "Downloading pytorch_model.bin: 100% 268M/268M [00:03<00:00, 83.0MB/s]\n",
            "Running comparisons...\n",
            "Done\n",
            "\n",
            "CKA for bert-base-uncased\n",
            "Loading  model...\n",
            "Downloading (…)okenizer_config.json: 100% 28.0/28.0 [00:00<00:00, 10.7kB/s]\n",
            "Downloading (…)lve/main/config.json: 100% 570/570 [00:00<00:00, 179kB/s]\n",
            "Downloading (…)solve/main/vocab.txt: 100% 232k/232k [00:00<00:00, 349kB/s]\n",
            "Downloading (…)/main/tokenizer.json: 100% 466k/466k [00:01<00:00, 418kB/s]\n",
            "Downloading pytorch_model.bin: 100% 440M/440M [00:01<00:00, 364MB/s]\n",
            "Some weights of the model checkpoint at bert-base-uncased were not used when initializing BertForMaskedLM: ['cls.seq_relationship.bias', 'cls.seq_relationship.weight']\n",
            "- This IS expected if you are initializing BertForMaskedLM from the checkpoint of a model trained on another task or with another architecture (e.g. initializing a BertForSequenceClassification model from a BertForPreTraining model).\n",
            "- This IS NOT expected if you are initializing BertForMaskedLM from the checkpoint of a model that you expect to be exactly identical (initializing a BertForSequenceClassification model from a BertForSequenceClassification model).\n",
            "Running comparisons...\n",
            "Done\n",
            "\n",
            "CKA for bert-large-uncased\n",
            "Loading  model...\n",
            "Downloading (…)okenizer_config.json: 100% 28.0/28.0 [00:00<00:00, 1.52kB/s]\n",
            "Downloading (…)lve/main/config.json: 100% 571/571 [00:00<00:00, 218kB/s]\n",
            "Downloading (…)solve/main/vocab.txt: 100% 232k/232k [00:00<00:00, 348kB/s]\n",
            "Downloading (…)/main/tokenizer.json: 100% 466k/466k [00:00<00:00, 528kB/s]\n",
            "Downloading pytorch_model.bin: 100% 1.34G/1.34G [00:13<00:00, 96.5MB/s]\n",
            "Some weights of the model checkpoint at bert-large-uncased were not used when initializing BertForMaskedLM: ['cls.seq_relationship.bias', 'cls.seq_relationship.weight']\n",
            "- This IS expected if you are initializing BertForMaskedLM from the checkpoint of a model trained on another task or with another architecture (e.g. initializing a BertForSequenceClassification model from a BertForPreTraining model).\n",
            "- This IS NOT expected if you are initializing BertForMaskedLM from the checkpoint of a model that you expect to be exactly identical (initializing a BertForSequenceClassification model from a BertForSequenceClassification model).\n",
            "Running comparisons...\n",
            "Done\n",
            "\n",
            "\n",
            "Score dict full:\n",
            "{'google/bert_uncased_l-2_h-128_a-2': [{\"The 2020 Olympics were held in [MASK]. ['Tokyo', 'London']\": {'p_true': 0.001953125, 'p_false': 0.0017576217651367188, 'p_true - p_false': 0.00019550323486328125, 'p_true > p_false': 'True'}}, {\"The 2020 Olympics were held in [MASK]. ['Tokyo', 'Berlin']\": {'p_true': 0.001953125, 'p_false': 0.004199981689453125, 'p_true - p_false': -0.002246856689453125, 'p_true > p_false': 'False'}}, {\"The 2020 Olympics were held in [MASK]. ['Tokyo', 'Chicago']\": {'p_true': 0.001953125, 'p_false': 9.840726852416992e-05, 'p_true - p_false': 0.00185471773147583, 'p_true > p_false': 'True'}}, {\"Operation Overlord took place in [MASK]. ['Normandy', 'Manila']\": {'p_true': 0.002727508544921875, 'p_false': 0.0004382133483886719, 'p_true - p_false': 0.002289295196533203, 'p_true > p_false': 'True'}}, {\"Operation Overlord took place in [MASK]. ['Normandy', 'Santiago']\": {'p_true': 0.002727508544921875, 'p_false': 6.73532485961914e-05, 'p_true - p_false': 0.0026601552963256836, 'p_true > p_false': 'True'}}, {\"Operation Overlord took place in [MASK]. ['Normandy', 'Baghdad']\": {'p_true': 0.002727508544921875, 'p_false': 0.000949859619140625, 'p_true - p_false': 0.00177764892578125, 'p_true > p_false': 'True'}}, {\"Steve Jobs is the founder of [MASK]. ['Apple', 'Microsoft']\": {'p_true': 6.985664367675781e-05, 'p_false': 0.00011336803436279297, 'p_true - p_false': -4.3511390686035156e-05, 'p_true > p_false': 'False'}}, {\"Steve Jobs is the founder of [MASK]. ['Apple', 'Oracle']\": {'p_true': 6.985664367675781e-05, 'p_false': 2.47955322265625e-05, 'p_true - p_false': 4.506111145019531e-05, 'p_true > p_false': 'True'}}, {\"Steve Jobs is the founder of [MASK]. ['Apple', 'Intel']\": {'p_true': 6.985664367675781e-05, 'p_false': 7.62939453125e-06, 'p_true - p_false': 6.222724914550781e-05, 'p_true > p_false': 'True'}}], 'google/bert_uncased_l-4_h-256_a-4': [{\"The 2020 Olympics were held in [MASK]. ['Tokyo', 'London']\": {'p_true': 0.0196990966796875, 'p_false': 0.0206451416015625, 'p_true - p_false': -0.000946044921875, 'p_true > p_false': 'False'}}, {\"The 2020 Olympics were held in [MASK]. ['Tokyo', 'Berlin']\": {'p_true': 0.0196990966796875, 'p_false': 0.072021484375, 'p_true - p_false': -0.0523223876953125, 'p_true > p_false': 'False'}}, {\"The 2020 Olympics were held in [MASK]. ['Tokyo', 'Chicago']\": {'p_true': 0.0196990966796875, 'p_false': 0.00014412403106689453, 'p_true - p_false': 0.019554972648620605, 'p_true > p_false': 'True'}}, {\"Operation Overlord took place in [MASK]. ['Normandy', 'Manila']\": {'p_true': 0.0007500648498535156, 'p_false': 0.0006146430969238281, 'p_true - p_false': 0.0001354217529296875, 'p_true > p_false': 'True'}}, {\"Operation Overlord took place in [MASK]. ['Normandy', 'Santiago']\": {'p_true': 0.0007500648498535156, 'p_false': 0.00022709369659423828, 'p_true - p_false': 0.0005229711532592773, 'p_true > p_false': 'True'}}, {\"Operation Overlord took place in [MASK]. ['Normandy', 'Baghdad']\": {'p_true': 0.0007500648498535156, 'p_false': 0.0004515647888183594, 'p_true - p_false': 0.00029850006103515625, 'p_true > p_false': 'True'}}, {\"Steve Jobs is the founder of [MASK]. ['Apple', 'Microsoft']\": {'p_true': 0.00024271011352539062, 'p_false': 0.00211334228515625, 'p_true - p_false': -0.0018706321716308594, 'p_true > p_false': 'False'}}, {\"Steve Jobs is the founder of [MASK]. ['Apple', 'Oracle']\": {'p_true': 0.00024271011352539062, 'p_false': 6.002187728881836e-05, 'p_true - p_false': 0.00018268823623657227, 'p_true > p_false': 'True'}}, {\"Steve Jobs is the founder of [MASK]. ['Apple', 'Intel']\": {'p_true': 0.00024271011352539062, 'p_false': 0.0002512931823730469, 'p_true - p_false': -8.58306884765625e-06, 'p_true > p_false': 'False'}}], 'google/bert_uncased_l-4_h-512_a-8': [{\"The 2020 Olympics were held in [MASK]. ['Tokyo', 'London']\": {'p_true': 0.045989990234375, 'p_false': 0.061431884765625, 'p_true - p_false': -0.01544189453125, 'p_true > p_false': 'False'}}, {\"The 2020 Olympics were held in [MASK]. ['Tokyo', 'Berlin']\": {'p_true': 0.045989990234375, 'p_false': 0.057708740234375, 'p_true - p_false': -0.01171875, 'p_true > p_false': 'False'}}, {\"The 2020 Olympics were held in [MASK]. ['Tokyo', 'Chicago']\": {'p_true': 0.045989990234375, 'p_false': 0.0010318756103515625, 'p_true - p_false': 0.04495811462402344, 'p_true > p_false': 'True'}}, {\"Operation Overlord took place in [MASK]. ['Normandy', 'Manila']\": {'p_true': 0.0013217926025390625, 'p_false': 0.0006914138793945312, 'p_true - p_false': 0.0006303787231445312, 'p_true > p_false': 'True'}}, {\"Operation Overlord took place in [MASK]. ['Normandy', 'Santiago']\": {'p_true': 0.0013217926025390625, 'p_false': 0.00010156631469726562, 'p_true - p_false': 0.0012202262878417969, 'p_true > p_false': 'True'}}, {\"Operation Overlord took place in [MASK]. ['Normandy', 'Baghdad']\": {'p_true': 0.0013217926025390625, 'p_false': 0.0005984306335449219, 'p_true - p_false': 0.0007233619689941406, 'p_true > p_false': 'True'}}, {\"Steve Jobs is the founder of [MASK]. ['Apple', 'Microsoft']\": {'p_true': 0.004100799560546875, 'p_false': 0.01149749755859375, 'p_true - p_false': -0.007396697998046875, 'p_true > p_false': 'False'}}, {\"Steve Jobs is the founder of [MASK]. ['Apple', 'Oracle']\": {'p_true': 0.004100799560546875, 'p_false': 0.0003895759582519531, 'p_true - p_false': 0.003711223602294922, 'p_true > p_false': 'True'}}, {\"Steve Jobs is the founder of [MASK]. ['Apple', 'Intel']\": {'p_true': 0.004100799560546875, 'p_false': 0.0037326812744140625, 'p_true - p_false': 0.0003681182861328125, 'p_true > p_false': 'True'}}], 'google/bert_uncased_l-8_h-512_a-8': [{\"The 2020 Olympics were held in [MASK]. ['Tokyo', 'London']\": {'p_true': 0.14599609375, 'p_false': 0.115478515625, 'p_true - p_false': 0.030517578125, 'p_true > p_false': 'True'}}, {\"The 2020 Olympics were held in [MASK]. ['Tokyo', 'Berlin']\": {'p_true': 0.14599609375, 'p_false': 0.01702880859375, 'p_true - p_false': 0.12896728515625, 'p_true > p_false': 'True'}}, {\"The 2020 Olympics were held in [MASK]. ['Tokyo', 'Chicago']\": {'p_true': 0.14599609375, 'p_false': 0.005115509033203125, 'p_true - p_false': 0.14088058471679688, 'p_true > p_false': 'True'}}, {\"Operation Overlord took place in [MASK]. ['Normandy', 'Manila']\": {'p_true': 0.01122283935546875, 'p_false': 2.086162567138672e-06, 'p_true - p_false': 0.011220753192901611, 'p_true > p_false': 'True'}}, {\"Operation Overlord took place in [MASK]. ['Normandy', 'Santiago']\": {'p_true': 0.01122283935546875, 'p_false': 5.304813385009766e-06, 'p_true - p_false': 0.01121753454208374, 'p_true > p_false': 'True'}}, {\"Operation Overlord took place in [MASK]. ['Normandy', 'Baghdad']\": {'p_true': 0.01122283935546875, 'p_false': 0.00013172626495361328, 'p_true - p_false': 0.011091113090515137, 'p_true > p_false': 'True'}}, {\"Steve Jobs is the founder of [MASK]. ['Apple', 'Microsoft']\": {'p_true': 0.0014400482177734375, 'p_false': 0.004833221435546875, 'p_true - p_false': -0.0033931732177734375, 'p_true > p_false': 'False'}}, {\"Steve Jobs is the founder of [MASK]. ['Apple', 'Oracle']\": {'p_true': 0.0014400482177734375, 'p_false': 0.0005936622619628906, 'p_true - p_false': 0.0008463859558105469, 'p_true > p_false': 'True'}}, {\"Steve Jobs is the founder of [MASK]. ['Apple', 'Intel']\": {'p_true': 0.0014400482177734375, 'p_false': 0.0007128715515136719, 'p_true - p_false': 0.0007271766662597656, 'p_true > p_false': 'True'}}], 'distilbert-base-uncased': [{\"The 2020 Olympics were held in [MASK]. ['Tokyo', 'London']\": {'p_true': 0.267333984375, 'p_false': 0.007411956787109375, 'p_true - p_false': 0.2599220275878906, 'p_true > p_false': 'True'}}, {\"The 2020 Olympics were held in [MASK]. ['Tokyo', 'Berlin']\": {'p_true': 0.267333984375, 'p_false': 0.00525665283203125, 'p_true - p_false': 0.26207733154296875, 'p_true > p_false': 'True'}}, {\"The 2020 Olympics were held in [MASK]. ['Tokyo', 'Chicago']\": {'p_true': 0.267333984375, 'p_false': 0.00011205673217773438, 'p_true - p_false': 0.26722192764282227, 'p_true > p_false': 'True'}}, {\"Operation Overlord took place in [MASK]. ['Normandy', 'Manila']\": {'p_true': 0.0035839080810546875, 'p_false': 2.4616718292236328e-05, 'p_true - p_false': 0.003559291362762451, 'p_true > p_false': 'True'}}, {\"Operation Overlord took place in [MASK]. ['Normandy', 'Santiago']\": {'p_true': 0.0035839080810546875, 'p_false': 1.9311904907226562e-05, 'p_true - p_false': 0.003564596176147461, 'p_true > p_false': 'True'}}, {\"Operation Overlord took place in [MASK]. ['Normandy', 'Baghdad']\": {'p_true': 0.0035839080810546875, 'p_false': 0.0003867149353027344, 'p_true - p_false': 0.003197193145751953, 'p_true > p_false': 'True'}}, {\"Steve Jobs is the founder of [MASK]. ['Apple', 'Microsoft']\": {'p_true': 0.08697509765625, 'p_false': 0.053192138671875, 'p_true - p_false': 0.033782958984375, 'p_true > p_false': 'True'}}, {\"Steve Jobs is the founder of [MASK]. ['Apple', 'Oracle']\": {'p_true': 0.08697509765625, 'p_false': 0.0079345703125, 'p_true - p_false': 0.07904052734375, 'p_true > p_false': 'True'}}, {\"Steve Jobs is the founder of [MASK]. ['Apple', 'Intel']\": {'p_true': 0.08697509765625, 'p_false': 0.0033740997314453125, 'p_true - p_false': 0.08360099792480469, 'p_true > p_false': 'True'}}], 'bert-base-uncased': [{\"The 2020 Olympics were held in [MASK]. ['Tokyo', 'London']\": {'p_true': 0.71240234375, 'p_false': 0.0040130615234375, 'p_true - p_false': 0.7083892822265625, 'p_true > p_false': 'True'}}, {\"The 2020 Olympics were held in [MASK]. ['Tokyo', 'Berlin']\": {'p_true': 0.71240234375, 'p_false': 0.0009756088256835938, 'p_true - p_false': 0.7114267349243164, 'p_true > p_false': 'True'}}, {\"The 2020 Olympics were held in [MASK]. ['Tokyo', 'Chicago']\": {'p_true': 0.71240234375, 'p_false': 2.7358531951904297e-05, 'p_true - p_false': 0.7123749852180481, 'p_true > p_false': 'True'}}, {\"Operation Overlord took place in [MASK]. ['Normandy', 'Manila']\": {'p_true': 0.0195159912109375, 'p_false': 1.3828277587890625e-05, 'p_true - p_false': 0.01950216293334961, 'p_true > p_false': 'True'}}, {\"Operation Overlord took place in [MASK]. ['Normandy', 'Santiago']\": {'p_true': 0.0195159912109375, 'p_false': 7.331371307373047e-06, 'p_true - p_false': 0.019508659839630127, 'p_true > p_false': 'True'}}, {\"Operation Overlord took place in [MASK]. ['Normandy', 'Baghdad']\": {'p_true': 0.0195159912109375, 'p_false': 0.00041937828063964844, 'p_true - p_false': 0.01909661293029785, 'p_true > p_false': 'True'}}, {\"Steve Jobs is the founder of [MASK]. ['Apple', 'Microsoft']\": {'p_true': 0.28369140625, 'p_false': 0.10113525390625, 'p_true - p_false': 0.18255615234375, 'p_true > p_false': 'True'}}, {\"Steve Jobs is the founder of [MASK]. ['Apple', 'Oracle']\": {'p_true': 0.28369140625, 'p_false': 0.004566192626953125, 'p_true - p_false': 0.2791252136230469, 'p_true > p_false': 'True'}}, {\"Steve Jobs is the founder of [MASK]. ['Apple', 'Intel']\": {'p_true': 0.28369140625, 'p_false': 0.003543853759765625, 'p_true - p_false': 0.2801475524902344, 'p_true > p_false': 'True'}}], 'bert-large-uncased': [{\"The 2020 Olympics were held in [MASK]. ['Tokyo', 'London']\": {'p_true': 0.1373291015625, 'p_false': 0.047454833984375, 'p_true - p_false': 0.089874267578125, 'p_true > p_false': 'True'}}, {\"The 2020 Olympics were held in [MASK]. ['Tokyo', 'Berlin']\": {'p_true': 0.1373291015625, 'p_false': 0.0032291412353515625, 'p_true - p_false': 0.13409996032714844, 'p_true > p_false': 'True'}}, {\"The 2020 Olympics were held in [MASK]. ['Tokyo', 'Chicago']\": {'p_true': 0.1373291015625, 'p_false': 0.0015192031860351562, 'p_true - p_false': 0.13580989837646484, 'p_true > p_false': 'True'}}, {\"Operation Overlord took place in [MASK]. ['Normandy', 'Manila']\": {'p_true': 0.093505859375, 'p_false': 2.7418136596679688e-06, 'p_true - p_false': 0.09350311756134033, 'p_true > p_false': 'True'}}, {\"Operation Overlord took place in [MASK]. ['Normandy', 'Santiago']\": {'p_true': 0.093505859375, 'p_false': 2.86102294921875e-06, 'p_true - p_false': 0.09350299835205078, 'p_true > p_false': 'True'}}, {\"Operation Overlord took place in [MASK]. ['Normandy', 'Baghdad']\": {'p_true': 0.093505859375, 'p_false': 2.6106834411621094e-05, 'p_true - p_false': 0.09347975254058838, 'p_true > p_false': 'True'}}, {\"Steve Jobs is the founder of [MASK]. ['Apple', 'Microsoft']\": {'p_true': 0.27587890625, 'p_false': 0.027099609375, 'p_true - p_false': 0.248779296875, 'p_true > p_false': 'True'}}, {\"Steve Jobs is the founder of [MASK]. ['Apple', 'Oracle']\": {'p_true': 0.27587890625, 'p_false': 0.0016536712646484375, 'p_true - p_false': 0.27422523498535156, 'p_true > p_false': 'True'}}, {\"Steve Jobs is the founder of [MASK]. ['Apple', 'Intel']\": {'p_true': 0.27587890625, 'p_false': 0.005420684814453125, 'p_true - p_false': 0.2704582214355469, 'p_true > p_false': 'True'}}]}\n",
            "\n",
            "Score dict succinct:\n",
            "{'google/bert_uncased_l-2_h-128_a-2': [{\"The 2020 Olympics were held in [MASK]. ['Tokyo', 'London']\": {'p_true > p_false': 'True'}}, {\"The 2020 Olympics were held in [MASK]. ['Tokyo', 'Berlin']\": {'p_true > p_false': 'False'}}, {\"The 2020 Olympics were held in [MASK]. ['Tokyo', 'Chicago']\": {'p_true > p_false': 'True'}}, {\"Operation Overlord took place in [MASK]. ['Normandy', 'Manila']\": {'p_true > p_false': 'True'}}, {\"Operation Overlord took place in [MASK]. ['Normandy', 'Santiago']\": {'p_true > p_false': 'True'}}, {\"Operation Overlord took place in [MASK]. ['Normandy', 'Baghdad']\": {'p_true > p_false': 'True'}}, {\"Steve Jobs is the founder of [MASK]. ['Apple', 'Microsoft']\": {'p_true > p_false': 'False'}}, {\"Steve Jobs is the founder of [MASK]. ['Apple', 'Oracle']\": {'p_true > p_false': 'True'}}, {\"Steve Jobs is the founder of [MASK]. ['Apple', 'Intel']\": {'p_true > p_false': 'True'}}], 'google/bert_uncased_l-4_h-256_a-4': [{\"The 2020 Olympics were held in [MASK]. ['Tokyo', 'London']\": {'p_true > p_false': 'False'}}, {\"The 2020 Olympics were held in [MASK]. ['Tokyo', 'Berlin']\": {'p_true > p_false': 'False'}}, {\"The 2020 Olympics were held in [MASK]. ['Tokyo', 'Chicago']\": {'p_true > p_false': 'True'}}, {\"Operation Overlord took place in [MASK]. ['Normandy', 'Manila']\": {'p_true > p_false': 'True'}}, {\"Operation Overlord took place in [MASK]. ['Normandy', 'Santiago']\": {'p_true > p_false': 'True'}}, {\"Operation Overlord took place in [MASK]. ['Normandy', 'Baghdad']\": {'p_true > p_false': 'True'}}, {\"Steve Jobs is the founder of [MASK]. ['Apple', 'Microsoft']\": {'p_true > p_false': 'False'}}, {\"Steve Jobs is the founder of [MASK]. ['Apple', 'Oracle']\": {'p_true > p_false': 'True'}}, {\"Steve Jobs is the founder of [MASK]. ['Apple', 'Intel']\": {'p_true > p_false': 'False'}}], 'google/bert_uncased_l-4_h-512_a-8': [{\"The 2020 Olympics were held in [MASK]. ['Tokyo', 'London']\": {'p_true > p_false': 'False'}}, {\"The 2020 Olympics were held in [MASK]. ['Tokyo', 'Berlin']\": {'p_true > p_false': 'False'}}, {\"The 2020 Olympics were held in [MASK]. ['Tokyo', 'Chicago']\": {'p_true > p_false': 'True'}}, {\"Operation Overlord took place in [MASK]. ['Normandy', 'Manila']\": {'p_true > p_false': 'True'}}, {\"Operation Overlord took place in [MASK]. ['Normandy', 'Santiago']\": {'p_true > p_false': 'True'}}, {\"Operation Overlord took place in [MASK]. ['Normandy', 'Baghdad']\": {'p_true > p_false': 'True'}}, {\"Steve Jobs is the founder of [MASK]. ['Apple', 'Microsoft']\": {'p_true > p_false': 'False'}}, {\"Steve Jobs is the founder of [MASK]. ['Apple', 'Oracle']\": {'p_true > p_false': 'True'}}, {\"Steve Jobs is the founder of [MASK]. ['Apple', 'Intel']\": {'p_true > p_false': 'True'}}], 'google/bert_uncased_l-8_h-512_a-8': [{\"The 2020 Olympics were held in [MASK]. ['Tokyo', 'London']\": {'p_true > p_false': 'True'}}, {\"The 2020 Olympics were held in [MASK]. ['Tokyo', 'Berlin']\": {'p_true > p_false': 'True'}}, {\"The 2020 Olympics were held in [MASK]. ['Tokyo', 'Chicago']\": {'p_true > p_false': 'True'}}, {\"Operation Overlord took place in [MASK]. ['Normandy', 'Manila']\": {'p_true > p_false': 'True'}}, {\"Operation Overlord took place in [MASK]. ['Normandy', 'Santiago']\": {'p_true > p_false': 'True'}}, {\"Operation Overlord took place in [MASK]. ['Normandy', 'Baghdad']\": {'p_true > p_false': 'True'}}, {\"Steve Jobs is the founder of [MASK]. ['Apple', 'Microsoft']\": {'p_true > p_false': 'False'}}, {\"Steve Jobs is the founder of [MASK]. ['Apple', 'Oracle']\": {'p_true > p_false': 'True'}}, {\"Steve Jobs is the founder of [MASK]. ['Apple', 'Intel']\": {'p_true > p_false': 'True'}}], 'distilbert-base-uncased': [{\"The 2020 Olympics were held in [MASK]. ['Tokyo', 'London']\": {'p_true > p_false': 'True'}}, {\"The 2020 Olympics were held in [MASK]. ['Tokyo', 'Berlin']\": {'p_true > p_false': 'True'}}, {\"The 2020 Olympics were held in [MASK]. ['Tokyo', 'Chicago']\": {'p_true > p_false': 'True'}}, {\"Operation Overlord took place in [MASK]. ['Normandy', 'Manila']\": {'p_true > p_false': 'True'}}, {\"Operation Overlord took place in [MASK]. ['Normandy', 'Santiago']\": {'p_true > p_false': 'True'}}, {\"Operation Overlord took place in [MASK]. ['Normandy', 'Baghdad']\": {'p_true > p_false': 'True'}}, {\"Steve Jobs is the founder of [MASK]. ['Apple', 'Microsoft']\": {'p_true > p_false': 'True'}}, {\"Steve Jobs is the founder of [MASK]. ['Apple', 'Oracle']\": {'p_true > p_false': 'True'}}, {\"Steve Jobs is the founder of [MASK]. ['Apple', 'Intel']\": {'p_true > p_false': 'True'}}], 'bert-base-uncased': [{\"The 2020 Olympics were held in [MASK]. ['Tokyo', 'London']\": {'p_true > p_false': 'True'}}, {\"The 2020 Olympics were held in [MASK]. ['Tokyo', 'Berlin']\": {'p_true > p_false': 'True'}}, {\"The 2020 Olympics were held in [MASK]. ['Tokyo', 'Chicago']\": {'p_true > p_false': 'True'}}, {\"Operation Overlord took place in [MASK]. ['Normandy', 'Manila']\": {'p_true > p_false': 'True'}}, {\"Operation Overlord took place in [MASK]. ['Normandy', 'Santiago']\": {'p_true > p_false': 'True'}}, {\"Operation Overlord took place in [MASK]. ['Normandy', 'Baghdad']\": {'p_true > p_false': 'True'}}, {\"Steve Jobs is the founder of [MASK]. ['Apple', 'Microsoft']\": {'p_true > p_false': 'True'}}, {\"Steve Jobs is the founder of [MASK]. ['Apple', 'Oracle']\": {'p_true > p_false': 'True'}}, {\"Steve Jobs is the founder of [MASK]. ['Apple', 'Intel']\": {'p_true > p_false': 'True'}}], 'bert-large-uncased': [{\"The 2020 Olympics were held in [MASK]. ['Tokyo', 'London']\": {'p_true > p_false': 'True'}}, {\"The 2020 Olympics were held in [MASK]. ['Tokyo', 'Berlin']\": {'p_true > p_false': 'True'}}, {\"The 2020 Olympics were held in [MASK]. ['Tokyo', 'Chicago']\": {'p_true > p_false': 'True'}}, {\"Operation Overlord took place in [MASK]. ['Normandy', 'Manila']\": {'p_true > p_false': 'True'}}, {\"Operation Overlord took place in [MASK]. ['Normandy', 'Santiago']\": {'p_true > p_false': 'True'}}, {\"Operation Overlord took place in [MASK]. ['Normandy', 'Baghdad']\": {'p_true > p_false': 'True'}}, {\"Steve Jobs is the founder of [MASK]. ['Apple', 'Microsoft']\": {'p_true > p_false': 'True'}}, {\"Steve Jobs is the founder of [MASK]. ['Apple', 'Oracle']\": {'p_true > p_false': 'True'}}, {\"Steve Jobs is the founder of [MASK]. ['Apple', 'Intel']\": {'p_true > p_false': 'True'}}]}\n",
            "\n",
            "Score dict summary:\n",
            "{'google/bert_uncased_l-2_h-128_a-2': 'This model predicted 7/9 facts at a higher prob than the given counterfactual.', 'google/bert_uncased_l-4_h-256_a-4': 'This model predicted 5/9 facts at a higher prob than the given counterfactual.', 'google/bert_uncased_l-4_h-512_a-8': 'This model predicted 6/9 facts at a higher prob than the given counterfactual.', 'google/bert_uncased_l-8_h-512_a-8': 'This model predicted 8/9 facts at a higher prob than the given counterfactual.', 'distilbert-base-uncased': 'This model predicted 9/9 facts at a higher prob than the given counterfactual.', 'bert-base-uncased': 'This model predicted 9/9 facts at a higher prob than the given counterfactual.', 'bert-large-uncased': 'This model predicted 9/9 facts at a higher prob than the given counterfactual.'}\n"
          ]
        }
      ],
      "source": [
        "!python run_cka.py configs.tests.bert_v0"
      ]
    },
    {
      "cell_type": "code",
      "execution_count": null,
      "metadata": {
        "colab": {
          "base_uri": "https://localhost:8080/"
        },
        "id": "0_AfmHruPIFv",
        "outputId": "89ecd3c9-c932-492a-c7b6-7c099506a9f0"
      },
      "outputs": [
        {
          "name": "stdout",
          "output_type": "stream",
          "text": [
            "2023-03-12 07:01:39.885813: I tensorflow/core/platform/cpu_feature_guard.cc:193] This TensorFlow binary is optimized with oneAPI Deep Neural Network Library (oneDNN) to use the following CPU instructions in performance-critical operations:  AVX2 AVX512F FMA\n",
            "To enable them in other operations, rebuild TensorFlow with the appropriate compiler flags.\n",
            "2023-03-12 07:01:40.684874: W tensorflow/compiler/xla/stream_executor/platform/default/dso_loader.cc:64] Could not load dynamic library 'libnvinfer.so.7'; dlerror: libnvinfer.so.7: cannot open shared object file: No such file or directory; LD_LIBRARY_PATH: /usr/lib64-nvidia\n",
            "2023-03-12 07:01:40.684956: W tensorflow/compiler/xla/stream_executor/platform/default/dso_loader.cc:64] Could not load dynamic library 'libnvinfer_plugin.so.7'; dlerror: libnvinfer_plugin.so.7: cannot open shared object file: No such file or directory; LD_LIBRARY_PATH: /usr/lib64-nvidia\n",
            "2023-03-12 07:01:40.684968: W tensorflow/compiler/tf2tensorrt/utils/py_utils.cc:38] TF-TRT Warning: Cannot dlopen some TensorRT libraries. If you would like to use Nvidia GPU with TensorRT, please make sure the missing libraries mentioned above are installed properly.\n",
            "CKA for distilroberta-base\n",
            "Loading  model...\n",
            "Downloading (…)lve/main/config.json: 100% 480/480 [00:00<00:00, 75.7kB/s]\n",
            "Downloading (…)olve/main/vocab.json: 100% 899k/899k [00:01<00:00, 677kB/s]\n",
            "Downloading (…)olve/main/merges.txt: 100% 456k/456k [00:00<00:00, 508kB/s]\n",
            "Downloading (…)/main/tokenizer.json: 100% 1.36M/1.36M [00:01<00:00, 1.01MB/s]\n",
            "Downloading pytorch_model.bin: 100% 331M/331M [00:03<00:00, 94.4MB/s]\n",
            "Running comparisons...\n",
            "Done\n",
            "\n",
            "CKA for roberta-base\n",
            "Loading  model...\n",
            "Downloading (…)lve/main/config.json: 100% 481/481 [00:00<00:00, 82.6kB/s]\n",
            "Downloading (…)olve/main/vocab.json: 100% 899k/899k [00:01<00:00, 806kB/s]\n",
            "Downloading (…)olve/main/merges.txt: 100% 456k/456k [00:00<00:00, 515kB/s]\n",
            "Downloading (…)/main/tokenizer.json: 100% 1.36M/1.36M [00:01<00:00, 861kB/s]\n",
            "Downloading pytorch_model.bin: 100% 501M/501M [00:01<00:00, 471MB/s]\n",
            "Running comparisons...\n",
            "Done\n",
            "\n",
            "CKA for xlm-roberta-base\n",
            "Loading  model...\n",
            "Downloading (…)lve/main/config.json: 100% 615/615 [00:00<00:00, 103kB/s]\n",
            "Downloading (…)tencepiece.bpe.model: 100% 5.07M/5.07M [00:01<00:00, 2.82MB/s]\n",
            "Downloading (…)/main/tokenizer.json: 100% 9.10M/9.10M [00:02<00:00, 4.54MB/s]\n",
            "Downloading pytorch_model.bin: 100% 1.12G/1.12G [00:02<00:00, 403MB/s]\n",
            "Running comparisons...\n",
            "Done\n",
            "\n",
            "CKA for roberta-large\n",
            "Loading  model...\n",
            "Downloading (…)lve/main/config.json: 100% 482/482 [00:00<00:00, 23.1kB/s]\n",
            "Downloading (…)olve/main/vocab.json: 100% 899k/899k [00:01<00:00, 805kB/s]\n",
            "Downloading (…)olve/main/merges.txt: 100% 456k/456k [00:01<00:00, 413kB/s]\n",
            "Downloading (…)/main/tokenizer.json: 100% 1.36M/1.36M [00:01<00:00, 1.01MB/s]\n",
            "Downloading pytorch_model.bin: 100% 1.43G/1.43G [00:17<00:00, 83.3MB/s]\n",
            "Running comparisons...\n",
            "Done\n",
            "\n",
            "CKA for xlm-roberta-large\n",
            "Loading  model...\n",
            "Downloading (…)lve/main/config.json: 100% 616/616 [00:00<00:00, 234kB/s]\n",
            "Downloading (…)tencepiece.bpe.model: 100% 5.07M/5.07M [00:01<00:00, 3.26MB/s]\n",
            "Downloading (…)/main/tokenizer.json: 100% 9.10M/9.10M [00:01<00:00, 4.56MB/s]\n",
            "Downloading pytorch_model.bin: 100% 2.24G/2.24G [00:21<00:00, 104MB/s]\n",
            "Running comparisons...\n",
            "Done\n",
            "\n",
            "\n",
            "Score dict full:\n",
            "{'distilroberta-base': [{\"The 2020 Olympics were held in <mask>. ['Tokyo', 'London']\": {'p_true': 0.65869140625, 'p_false': 0.0084228515625, 'p_true - p_false': 0.6502685546875, 'p_true > p_false': 'True'}}, {\"The 2020 Olympics were held in <mask>. ['Tokyo', 'Berlin']\": {'p_true': 0.65869140625, 'p_false': 0.011688232421875, 'p_true - p_false': 0.647003173828125, 'p_true > p_false': 'True'}}, {\"The 2020 Olympics were held in <mask>. ['Tokyo', 'Chicago']\": {'p_true': 0.65869140625, 'p_false': 0.0012617111206054688, 'p_true - p_false': 0.6574296951293945, 'p_true > p_false': 'True'}}, {\"Operation Overlord took place in <mask>. ['Normandy', 'Manila']\": {'p_true': 0.00153350830078125, 'p_false': 0.00012105703353881836, 'p_true - p_false': 0.0014124512672424316, 'p_true > p_false': 'True'}}, {\"Operation Overlord took place in <mask>. ['Normandy', 'Santiago']\": {'p_true': 0.00153350830078125, 'p_false': 2.866983413696289e-05, 'p_true - p_false': 0.0015048384666442871, 'p_true > p_false': 'True'}}, {\"Operation Overlord took place in <mask>. ['Normandy', 'Baghdad']\": {'p_true': 0.00153350830078125, 'p_false': 0.0006699562072753906, 'p_true - p_false': 0.0008635520935058594, 'p_true > p_false': 'True'}}, {\"Steve Jobs is the founder of <mask>. ['Apple', 'Microsoft']\": {'p_true': 0.564453125, 'p_false': 0.076416015625, 'p_true - p_false': 0.488037109375, 'p_true > p_false': 'True'}}, {\"Steve Jobs is the founder of <mask>. ['Apple', 'Oracle']\": {'p_true': 0.564453125, 'p_false': 0.0165252685546875, 'p_true - p_false': 0.5479278564453125, 'p_true > p_false': 'True'}}, {\"Steve Jobs is the founder of <mask>. ['Apple', 'Intel']\": {'p_true': 0.564453125, 'p_false': 0.004276275634765625, 'p_true - p_false': 0.5601768493652344, 'p_true > p_false': 'True'}}], 'roberta-base': [{\"The 2020 Olympics were held in <mask>. ['Tokyo', 'London']\": {'p_true': 0.9609375, 'p_false': 0.00109100341796875, 'p_true - p_false': 0.9598464965820312, 'p_true > p_false': 'True'}}, {\"The 2020 Olympics were held in <mask>. ['Tokyo', 'Berlin']\": {'p_true': 0.9609375, 'p_false': 0.0004475116729736328, 'p_true - p_false': 0.9604899883270264, 'p_true > p_false': 'True'}}, {\"The 2020 Olympics were held in <mask>. ['Tokyo', 'Chicago']\": {'p_true': 0.9609375, 'p_false': 6.973743438720703e-05, 'p_true - p_false': 0.9608677625656128, 'p_true > p_false': 'True'}}, {\"Operation Overlord took place in <mask>. ['Normandy', 'Manila']\": {'p_true': 0.002300262451171875, 'p_false': 7.218122482299805e-05, 'p_true - p_false': 0.002228081226348877, 'p_true > p_false': 'True'}}, {\"Operation Overlord took place in <mask>. ['Normandy', 'Santiago']\": {'p_true': 0.002300262451171875, 'p_false': 9.59634780883789e-06, 'p_true - p_false': 0.002290666103363037, 'p_true > p_false': 'True'}}, {\"Operation Overlord took place in <mask>. ['Normandy', 'Baghdad']\": {'p_true': 0.002300262451171875, 'p_false': 0.0011739730834960938, 'p_true - p_false': 0.0011262893676757812, 'p_true > p_false': 'True'}}, {\"Steve Jobs is the founder of <mask>. ['Apple', 'Microsoft']\": {'p_true': 0.99560546875, 'p_false': 0.0006961822509765625, 'p_true - p_false': 0.9949092864990234, 'p_true > p_false': 'True'}}, {\"Steve Jobs is the founder of <mask>. ['Apple', 'Oracle']\": {'p_true': 0.99560546875, 'p_false': 0.00017881393432617188, 'p_true - p_false': 0.9954266548156738, 'p_true > p_false': 'True'}}, {\"Steve Jobs is the founder of <mask>. ['Apple', 'Intel']\": {'p_true': 0.99560546875, 'p_false': 2.86102294921875e-06, 'p_true - p_false': 0.9956026077270508, 'p_true > p_false': 'True'}}], 'xlm-roberta-base': [{\"The 2020 Olympics were held in <mask>. ['Tokyo', 'London']\": {'p_true': 0.056732177734375, 'p_false': 0.10272216796875, 'p_true - p_false': -0.045989990234375, 'p_true > p_false': 'False'}}, {\"The 2020 Olympics were held in <mask>. ['Tokyo', 'Berlin']\": {'p_true': 0.056732177734375, 'p_false': 0.0079193115234375, 'p_true - p_false': 0.0488128662109375, 'p_true > p_false': 'True'}}, {\"The 2020 Olympics were held in <mask>. ['Tokyo', 'Chicago']\": {'p_true': 0.056732177734375, 'p_false': 0.0011777877807617188, 'p_true - p_false': 0.05555438995361328, 'p_true > p_false': 'True'}}, {\"Operation Overlord took place in <mask>. ['Normandy', 'Manila']\": {'p_true': 8.881092071533203e-06, 'p_false': 2.002716064453125e-05, 'p_true - p_false': -1.1146068572998047e-05, 'p_true > p_false': 'False'}}, {\"Operation Overlord took place in <mask>. ['Normandy', 'Santiago']\": {'p_true': 8.881092071533203e-06, 'p_false': 5.543231964111328e-06, 'p_true - p_false': 3.337860107421875e-06, 'p_true > p_false': 'True'}}, {\"Operation Overlord took place in <mask>. ['Normandy', 'Baghdad']\": {'p_true': 8.881092071533203e-06, 'p_false': 2.9802322387695312e-06, 'p_true - p_false': 5.900859832763672e-06, 'p_true > p_false': 'True'}}, {\"Steve Jobs is the founder of <mask>. ['Apple', 'Microsoft']\": {'p_true': 0.40625, 'p_false': 0.032318115234375, 'p_true - p_false': 0.373931884765625, 'p_true > p_false': 'True'}}, {\"Steve Jobs is the founder of <mask>. ['Apple', 'Oracle']\": {'p_true': 0.40625, 'p_false': 0.0006918907165527344, 'p_true - p_false': 0.40555810928344727, 'p_true > p_false': 'True'}}, {\"Steve Jobs is the founder of <mask>. ['Apple', 'Intel']\": {'p_true': 0.40625, 'p_false': 0.001140594482421875, 'p_true - p_false': 0.4051094055175781, 'p_true > p_false': 'True'}}], 'roberta-large': [{\"The 2020 Olympics were held in <mask>. ['Tokyo', 'London']\": {'p_true': 0.9873046875, 'p_false': 5.5789947509765625e-05, 'p_true - p_false': 0.9872488975524902, 'p_true > p_false': 'True'}}, {\"The 2020 Olympics were held in <mask>. ['Tokyo', 'Berlin']\": {'p_true': 0.9873046875, 'p_false': 2.086162567138672e-06, 'p_true - p_false': 0.9873026013374329, 'p_true > p_false': 'True'}}, {\"The 2020 Olympics were held in <mask>. ['Tokyo', 'Chicago']\": {'p_true': 0.9873046875, 'p_false': 8.940696716308594e-07, 'p_true - p_false': 0.9873037934303284, 'p_true > p_false': 'True'}}, {\"Operation Overlord took place in <mask>. ['Normandy', 'Manila']\": {'p_true': 0.0008039474487304688, 'p_false': 7.2479248046875e-05, 'p_true - p_false': 0.0007314682006835938, 'p_true > p_false': 'True'}}, {\"Operation Overlord took place in <mask>. ['Normandy', 'Santiago']\": {'p_true': 0.0008039474487304688, 'p_false': 9.834766387939453e-06, 'p_true - p_false': 0.0007941126823425293, 'p_true > p_false': 'True'}}, {\"Operation Overlord took place in <mask>. ['Normandy', 'Baghdad']\": {'p_true': 0.0008039474487304688, 'p_false': 0.0006461143493652344, 'p_true - p_false': 0.00015783309936523438, 'p_true > p_false': 'True'}}, {\"Steve Jobs is the founder of <mask>. ['Apple', 'Microsoft']\": {'p_true': 0.9931640625, 'p_false': 0.00031304359436035156, 'p_true - p_false': 0.9928510189056396, 'p_true > p_false': 'True'}}, {\"Steve Jobs is the founder of <mask>. ['Apple', 'Oracle']\": {'p_true': 0.9931640625, 'p_false': 1.3709068298339844e-06, 'p_true - p_false': 0.9931626915931702, 'p_true > p_false': 'True'}}, {\"Steve Jobs is the founder of <mask>. ['Apple', 'Intel']\": {'p_true': 0.9931640625, 'p_false': 5.1081180572509766e-05, 'p_true - p_false': 0.9931129813194275, 'p_true > p_false': 'True'}}], 'xlm-roberta-large': [{\"The 2020 Olympics were held in <mask>. ['Tokyo', 'London']\": {'p_true': 0.60302734375, 'p_false': 0.095458984375, 'p_true - p_false': 0.507568359375, 'p_true > p_false': 'True'}}, {\"The 2020 Olympics were held in <mask>. ['Tokyo', 'Berlin']\": {'p_true': 0.60302734375, 'p_false': 0.007358551025390625, 'p_true - p_false': 0.5956687927246094, 'p_true > p_false': 'True'}}, {\"The 2020 Olympics were held in <mask>. ['Tokyo', 'Chicago']\": {'p_true': 0.60302734375, 'p_false': 0.001979827880859375, 'p_true - p_false': 0.6010475158691406, 'p_true > p_false': 'True'}}, {\"Operation Overlord took place in <mask>. ['Normandy', 'Manila']\": {'p_true': 2.5391578674316406e-05, 'p_false': 0.0006146430969238281, 'p_true - p_false': -0.0005892515182495117, 'p_true > p_false': 'False'}}, {\"Operation Overlord took place in <mask>. ['Normandy', 'Santiago']\": {'p_true': 2.5391578674316406e-05, 'p_false': 2.6166439056396484e-05, 'p_true - p_false': -7.748603820800781e-07, 'p_true > p_false': 'False'}}, {\"Operation Overlord took place in <mask>. ['Normandy', 'Baghdad']\": {'p_true': 2.5391578674316406e-05, 'p_false': 2.682209014892578e-06, 'p_true - p_false': 2.2709369659423828e-05, 'p_true > p_false': 'True'}}, {\"Steve Jobs is the founder of <mask>. ['Apple', 'Microsoft']\": {'p_true': 0.9833984375, 'p_false': 0.0015735626220703125, 'p_true - p_false': 0.9818248748779297, 'p_true > p_false': 'True'}}, {\"Steve Jobs is the founder of <mask>. ['Apple', 'Oracle']\": {'p_true': 0.9833984375, 'p_false': 0.00014638900756835938, 'p_true - p_false': 0.9832520484924316, 'p_true > p_false': 'True'}}, {\"Steve Jobs is the founder of <mask>. ['Apple', 'Intel']\": {'p_true': 0.9833984375, 'p_false': 9.447336196899414e-05, 'p_true - p_false': 0.983303964138031, 'p_true > p_false': 'True'}}]}\n",
            "\n",
            "Score dict succinct:\n",
            "{'distilroberta-base': [{\"The 2020 Olympics were held in <mask>. ['Tokyo', 'London']\": {'p_true > p_false': 'True'}}, {\"The 2020 Olympics were held in <mask>. ['Tokyo', 'Berlin']\": {'p_true > p_false': 'True'}}, {\"The 2020 Olympics were held in <mask>. ['Tokyo', 'Chicago']\": {'p_true > p_false': 'True'}}, {\"Operation Overlord took place in <mask>. ['Normandy', 'Manila']\": {'p_true > p_false': 'True'}}, {\"Operation Overlord took place in <mask>. ['Normandy', 'Santiago']\": {'p_true > p_false': 'True'}}, {\"Operation Overlord took place in <mask>. ['Normandy', 'Baghdad']\": {'p_true > p_false': 'True'}}, {\"Steve Jobs is the founder of <mask>. ['Apple', 'Microsoft']\": {'p_true > p_false': 'True'}}, {\"Steve Jobs is the founder of <mask>. ['Apple', 'Oracle']\": {'p_true > p_false': 'True'}}, {\"Steve Jobs is the founder of <mask>. ['Apple', 'Intel']\": {'p_true > p_false': 'True'}}], 'roberta-base': [{\"The 2020 Olympics were held in <mask>. ['Tokyo', 'London']\": {'p_true > p_false': 'True'}}, {\"The 2020 Olympics were held in <mask>. ['Tokyo', 'Berlin']\": {'p_true > p_false': 'True'}}, {\"The 2020 Olympics were held in <mask>. ['Tokyo', 'Chicago']\": {'p_true > p_false': 'True'}}, {\"Operation Overlord took place in <mask>. ['Normandy', 'Manila']\": {'p_true > p_false': 'True'}}, {\"Operation Overlord took place in <mask>. ['Normandy', 'Santiago']\": {'p_true > p_false': 'True'}}, {\"Operation Overlord took place in <mask>. ['Normandy', 'Baghdad']\": {'p_true > p_false': 'True'}}, {\"Steve Jobs is the founder of <mask>. ['Apple', 'Microsoft']\": {'p_true > p_false': 'True'}}, {\"Steve Jobs is the founder of <mask>. ['Apple', 'Oracle']\": {'p_true > p_false': 'True'}}, {\"Steve Jobs is the founder of <mask>. ['Apple', 'Intel']\": {'p_true > p_false': 'True'}}], 'xlm-roberta-base': [{\"The 2020 Olympics were held in <mask>. ['Tokyo', 'London']\": {'p_true > p_false': 'False'}}, {\"The 2020 Olympics were held in <mask>. ['Tokyo', 'Berlin']\": {'p_true > p_false': 'True'}}, {\"The 2020 Olympics were held in <mask>. ['Tokyo', 'Chicago']\": {'p_true > p_false': 'True'}}, {\"Operation Overlord took place in <mask>. ['Normandy', 'Manila']\": {'p_true > p_false': 'False'}}, {\"Operation Overlord took place in <mask>. ['Normandy', 'Santiago']\": {'p_true > p_false': 'True'}}, {\"Operation Overlord took place in <mask>. ['Normandy', 'Baghdad']\": {'p_true > p_false': 'True'}}, {\"Steve Jobs is the founder of <mask>. ['Apple', 'Microsoft']\": {'p_true > p_false': 'True'}}, {\"Steve Jobs is the founder of <mask>. ['Apple', 'Oracle']\": {'p_true > p_false': 'True'}}, {\"Steve Jobs is the founder of <mask>. ['Apple', 'Intel']\": {'p_true > p_false': 'True'}}], 'roberta-large': [{\"The 2020 Olympics were held in <mask>. ['Tokyo', 'London']\": {'p_true > p_false': 'True'}}, {\"The 2020 Olympics were held in <mask>. ['Tokyo', 'Berlin']\": {'p_true > p_false': 'True'}}, {\"The 2020 Olympics were held in <mask>. ['Tokyo', 'Chicago']\": {'p_true > p_false': 'True'}}, {\"Operation Overlord took place in <mask>. ['Normandy', 'Manila']\": {'p_true > p_false': 'True'}}, {\"Operation Overlord took place in <mask>. ['Normandy', 'Santiago']\": {'p_true > p_false': 'True'}}, {\"Operation Overlord took place in <mask>. ['Normandy', 'Baghdad']\": {'p_true > p_false': 'True'}}, {\"Steve Jobs is the founder of <mask>. ['Apple', 'Microsoft']\": {'p_true > p_false': 'True'}}, {\"Steve Jobs is the founder of <mask>. ['Apple', 'Oracle']\": {'p_true > p_false': 'True'}}, {\"Steve Jobs is the founder of <mask>. ['Apple', 'Intel']\": {'p_true > p_false': 'True'}}], 'xlm-roberta-large': [{\"The 2020 Olympics were held in <mask>. ['Tokyo', 'London']\": {'p_true > p_false': 'True'}}, {\"The 2020 Olympics were held in <mask>. ['Tokyo', 'Berlin']\": {'p_true > p_false': 'True'}}, {\"The 2020 Olympics were held in <mask>. ['Tokyo', 'Chicago']\": {'p_true > p_false': 'True'}}, {\"Operation Overlord took place in <mask>. ['Normandy', 'Manila']\": {'p_true > p_false': 'False'}}, {\"Operation Overlord took place in <mask>. ['Normandy', 'Santiago']\": {'p_true > p_false': 'False'}}, {\"Operation Overlord took place in <mask>. ['Normandy', 'Baghdad']\": {'p_true > p_false': 'True'}}, {\"Steve Jobs is the founder of <mask>. ['Apple', 'Microsoft']\": {'p_true > p_false': 'True'}}, {\"Steve Jobs is the founder of <mask>. ['Apple', 'Oracle']\": {'p_true > p_false': 'True'}}, {\"Steve Jobs is the founder of <mask>. ['Apple', 'Intel']\": {'p_true > p_false': 'True'}}]}\n",
            "\n",
            "Score dict summary:\n",
            "{'distilroberta-base': 'This model predicted 9/9 facts at a higher prob than the given counterfactual.', 'roberta-base': 'This model predicted 9/9 facts at a higher prob than the given counterfactual.', 'xlm-roberta-base': 'This model predicted 7/9 facts at a higher prob than the given counterfactual.', 'roberta-large': 'This model predicted 9/9 facts at a higher prob than the given counterfactual.', 'xlm-roberta-large': 'This model predicted 7/9 facts at a higher prob than the given counterfactual.'}\n"
          ]
        }
      ],
      "source": [
        "!python run_cka.py configs.tests.roberta_v0"
      ]
    },
    {
      "cell_type": "code",
      "execution_count": null,
      "metadata": {
        "colab": {
          "base_uri": "https://localhost:8080/"
        },
        "id": "_WFNxz3elvq3",
        "outputId": "9ceafb77-de32-4854-9bb7-46ad77c9d339"
      },
      "outputs": [
        {
          "name": "stdout",
          "output_type": "stream",
          "text": [
            "2023-03-12 07:04:54.532962: I tensorflow/core/platform/cpu_feature_guard.cc:193] This TensorFlow binary is optimized with oneAPI Deep Neural Network Library (oneDNN) to use the following CPU instructions in performance-critical operations:  AVX2 AVX512F FMA\n",
            "To enable them in other operations, rebuild TensorFlow with the appropriate compiler flags.\n",
            "2023-03-12 07:04:55.376089: W tensorflow/compiler/xla/stream_executor/platform/default/dso_loader.cc:64] Could not load dynamic library 'libnvinfer.so.7'; dlerror: libnvinfer.so.7: cannot open shared object file: No such file or directory; LD_LIBRARY_PATH: /usr/lib64-nvidia\n",
            "2023-03-12 07:04:55.376172: W tensorflow/compiler/xla/stream_executor/platform/default/dso_loader.cc:64] Could not load dynamic library 'libnvinfer_plugin.so.7'; dlerror: libnvinfer_plugin.so.7: cannot open shared object file: No such file or directory; LD_LIBRARY_PATH: /usr/lib64-nvidia\n",
            "2023-03-12 07:04:55.376188: W tensorflow/compiler/tf2tensorrt/utils/py_utils.cc:38] TF-TRT Warning: Cannot dlopen some TensorRT libraries. If you would like to use Nvidia GPU with TensorRT, please make sure the missing libraries mentioned above are installed properly.\n",
            "CKA for google/flan-t5-small\n",
            "Loading  model...\n",
            "Downloading spiece.model: 100% 792k/792k [00:00<00:00, 45.7MB/s]\n",
            "Downloading (…)cial_tokens_map.json: 100% 2.20k/2.20k [00:00<00:00, 378kB/s]\n",
            "Downloading (…)okenizer_config.json: 100% 2.54k/2.54k [00:00<00:00, 1.02MB/s]\n",
            "Downloading (…)lve/main/config.json: 100% 1.40k/1.40k [00:00<00:00, 260kB/s]\n",
            "Downloading pytorch_model.bin: 100% 308M/308M [00:03<00:00, 94.6MB/s]\n",
            "\n",
            "===================================BUG REPORT===================================\n",
            "Welcome to bitsandbytes. For bug reports, please submit your error trace to: https://github.com/TimDettmers/bitsandbytes/issues\n",
            "================================================================================\n",
            "Downloading (…)neration_config.json: 100% 147/147 [00:00<00:00, 57.6kB/s]\n",
            "Running comparisons...\n",
            "Done\n",
            "\n",
            "CKA for google/flan-t5-base\n",
            "Loading  model...\n",
            "Downloading spiece.model: 100% 792k/792k [00:00<00:00, 40.9MB/s]\n",
            "Downloading (…)cial_tokens_map.json: 100% 2.20k/2.20k [00:00<00:00, 803kB/s]\n",
            "Downloading (…)okenizer_config.json: 100% 2.54k/2.54k [00:00<00:00, 932kB/s]\n",
            "Downloading (…)lve/main/config.json: 100% 1.40k/1.40k [00:00<00:00, 529kB/s]\n",
            "Downloading pytorch_model.bin: 100% 990M/990M [00:10<00:00, 93.6MB/s]\n",
            "Downloading (…)neration_config.json: 100% 147/147 [00:00<00:00, 52.1kB/s]\n",
            "Running comparisons...\n",
            "Done\n",
            "\n",
            "CKA for google/flan-t5-large\n",
            "Loading  model...\n",
            "Downloading spiece.model: 100% 792k/792k [00:00<00:00, 66.5MB/s]\n",
            "Downloading (…)cial_tokens_map.json: 100% 2.20k/2.20k [00:00<00:00, 779kB/s]\n",
            "Downloading (…)okenizer_config.json: 100% 2.54k/2.54k [00:00<00:00, 882kB/s]\n",
            "Downloading (…)lve/main/config.json: 100% 662/662 [00:00<00:00, 265kB/s]\n",
            "Downloading pytorch_model.bin: 100% 3.13G/3.13G [00:22<00:00, 139MB/s]\n",
            "Downloading (…)neration_config.json: 100% 147/147 [00:00<00:00, 52.4kB/s]\n",
            "Running comparisons...\n",
            "Done\n",
            "\n",
            "\n",
            "Score dict full:\n",
            "{'google/flan-t5-small': [{\"The 2020 Olympics were held in ['Tokyo', 'London']\": {'p_true': 0.021453857421875, 'p_false': 0.05426025390625, 'p_true - p_false': -0.032806396484375, 'p_true > p_false': 'False'}}, {\"The 2020 Olympics were held in ['Tokyo', 'Berlin']\": {'p_true': 0.021453857421875, 'p_false': 0.006832122802734375, 'p_true - p_false': 0.014621734619140625, 'p_true > p_false': 'True'}}, {\"The 2020 Olympics were held in ['Tokyo', 'Chicago']\": {'p_true': 0.021453857421875, 'p_false': 0.0006775856018066406, 'p_true - p_false': 0.02077627182006836, 'p_true > p_false': 'True'}}, {\"Operation Overlord took place in ['Normandy', 'Manila']\": {'p_true': 0.004978179931640625, 'p_false': 0.00044274330139160156, 'p_true - p_false': 0.0045354366302490234, 'p_true > p_false': 'True'}}, {\"Operation Overlord took place in ['Normandy', 'Santiago']\": {'p_true': 0.004978179931640625, 'p_false': 1.0907649993896484e-05, 'p_true - p_false': 0.0049672722816467285, 'p_true > p_false': 'True'}}, {\"Operation Overlord took place in ['Normandy', 'Baghdad']\": {'p_true': 0.004978179931640625, 'p_false': 0.00026535987854003906, 'p_true - p_false': 0.004712820053100586, 'p_true > p_false': 'True'}}, {\"Steve Jobs is the founder of ['Apple', 'Microsoft']\": {'p_true': 0.034698486328125, 'p_false': 0.0074005126953125, 'p_true - p_false': 0.0272979736328125, 'p_true > p_false': 'True'}}, {\"Steve Jobs is the founder of ['Apple', 'Oracle']\": {'p_true': 0.034698486328125, 'p_false': 7.611513137817383e-05, 'p_true - p_false': 0.034622371196746826, 'p_true > p_false': 'True'}}, {\"Steve Jobs is the founder of ['Apple', 'Intel']\": {'p_true': 0.034698486328125, 'p_false': 0.00013375282287597656, 'p_true - p_false': 0.03456473350524902, 'p_true > p_false': 'True'}}], 'google/flan-t5-base': [{\"The 2020 Olympics were held in ['Tokyo', 'London']\": {'p_true': 0.10015869140625, 'p_false': 0.137939453125, 'p_true - p_false': -0.03778076171875, 'p_true > p_false': 'False'}}, {\"The 2020 Olympics were held in ['Tokyo', 'Berlin']\": {'p_true': 0.10015869140625, 'p_false': 0.0028324127197265625, 'p_true - p_false': 0.09732627868652344, 'p_true > p_false': 'True'}}, {\"The 2020 Olympics were held in ['Tokyo', 'Chicago']\": {'p_true': 0.10015869140625, 'p_false': 0.0032405853271484375, 'p_true - p_false': 0.09691810607910156, 'p_true > p_false': 'True'}}, {\"Operation Overlord took place in ['Normandy', 'Manila']\": {'p_true': 0.0012025833129882812, 'p_false': 0.0003266334533691406, 'p_true - p_false': 0.0008759498596191406, 'p_true > p_false': 'True'}}, {\"Operation Overlord took place in ['Normandy', 'Santiago']\": {'p_true': 0.0012025833129882812, 'p_false': 1.239776611328125e-05, 'p_true - p_false': 0.001190185546875, 'p_true > p_false': 'True'}}, {\"Operation Overlord took place in ['Normandy', 'Baghdad']\": {'p_true': 0.0012025833129882812, 'p_false': 0.0002713203430175781, 'p_true - p_false': 0.0009312629699707031, 'p_true > p_false': 'True'}}, {\"Steve Jobs is the founder of ['Apple', 'Microsoft']\": {'p_true': 0.54638671875, 'p_false': 0.0267791748046875, 'p_true - p_false': 0.5196075439453125, 'p_true > p_false': 'True'}}, {\"Steve Jobs is the founder of ['Apple', 'Oracle']\": {'p_true': 0.54638671875, 'p_false': 0.00016760826110839844, 'p_true - p_false': 0.5462191104888916, 'p_true > p_false': 'True'}}, {\"Steve Jobs is the founder of ['Apple', 'Intel']\": {'p_true': 0.54638671875, 'p_false': 0.0018262863159179688, 'p_true - p_false': 0.544560432434082, 'p_true > p_false': 'True'}}], 'google/flan-t5-large': [{\"The 2020 Olympics were held in ['Tokyo', 'London']\": {'p_true': 0.434326171875, 'p_false': 0.033172607421875, 'p_true - p_false': 0.401153564453125, 'p_true > p_false': 'True'}}, {\"The 2020 Olympics were held in ['Tokyo', 'Berlin']\": {'p_true': 0.434326171875, 'p_false': 0.0006632804870605469, 'p_true - p_false': 0.43366289138793945, 'p_true > p_false': 'True'}}, {\"The 2020 Olympics were held in ['Tokyo', 'Chicago']\": {'p_true': 0.434326171875, 'p_false': 0.0012645721435546875, 'p_true - p_false': 0.4330615997314453, 'p_true > p_false': 'True'}}, {\"Operation Overlord took place in ['Normandy', 'Manila']\": {'p_true': 0.0003437995910644531, 'p_false': 0.0008955001831054688, 'p_true - p_false': -0.0005517005920410156, 'p_true > p_false': 'False'}}, {\"Operation Overlord took place in ['Normandy', 'Santiago']\": {'p_true': 0.0003437995910644531, 'p_false': 4.0650367736816406e-05, 'p_true - p_false': 0.0003031492233276367, 'p_true > p_false': 'True'}}, {\"Operation Overlord took place in ['Normandy', 'Baghdad']\": {'p_true': 0.0003437995910644531, 'p_false': 0.0009341239929199219, 'p_true - p_false': -0.0005903244018554688, 'p_true > p_false': 'False'}}, {\"Steve Jobs is the founder of ['Apple', 'Microsoft']\": {'p_true': 0.68603515625, 'p_false': 0.00011485815048217773, 'p_true - p_false': 0.6859202980995178, 'p_true > p_false': 'True'}}, {\"Steve Jobs is the founder of ['Apple', 'Oracle']\": {'p_true': 0.68603515625, 'p_false': 2.86102294921875e-06, 'p_true - p_false': 0.6860322952270508, 'p_true > p_false': 'True'}}, {\"Steve Jobs is the founder of ['Apple', 'Intel']\": {'p_true': 0.68603515625, 'p_false': 7.587671279907227e-05, 'p_true - p_false': 0.6859592795372009, 'p_true > p_false': 'True'}}]}\n",
            "\n",
            "Score dict succinct:\n",
            "{'google/flan-t5-small': [{\"The 2020 Olympics were held in ['Tokyo', 'London']\": {'p_true > p_false': 'False'}}, {\"The 2020 Olympics were held in ['Tokyo', 'Berlin']\": {'p_true > p_false': 'True'}}, {\"The 2020 Olympics were held in ['Tokyo', 'Chicago']\": {'p_true > p_false': 'True'}}, {\"Operation Overlord took place in ['Normandy', 'Manila']\": {'p_true > p_false': 'True'}}, {\"Operation Overlord took place in ['Normandy', 'Santiago']\": {'p_true > p_false': 'True'}}, {\"Operation Overlord took place in ['Normandy', 'Baghdad']\": {'p_true > p_false': 'True'}}, {\"Steve Jobs is the founder of ['Apple', 'Microsoft']\": {'p_true > p_false': 'True'}}, {\"Steve Jobs is the founder of ['Apple', 'Oracle']\": {'p_true > p_false': 'True'}}, {\"Steve Jobs is the founder of ['Apple', 'Intel']\": {'p_true > p_false': 'True'}}], 'google/flan-t5-base': [{\"The 2020 Olympics were held in ['Tokyo', 'London']\": {'p_true > p_false': 'False'}}, {\"The 2020 Olympics were held in ['Tokyo', 'Berlin']\": {'p_true > p_false': 'True'}}, {\"The 2020 Olympics were held in ['Tokyo', 'Chicago']\": {'p_true > p_false': 'True'}}, {\"Operation Overlord took place in ['Normandy', 'Manila']\": {'p_true > p_false': 'True'}}, {\"Operation Overlord took place in ['Normandy', 'Santiago']\": {'p_true > p_false': 'True'}}, {\"Operation Overlord took place in ['Normandy', 'Baghdad']\": {'p_true > p_false': 'True'}}, {\"Steve Jobs is the founder of ['Apple', 'Microsoft']\": {'p_true > p_false': 'True'}}, {\"Steve Jobs is the founder of ['Apple', 'Oracle']\": {'p_true > p_false': 'True'}}, {\"Steve Jobs is the founder of ['Apple', 'Intel']\": {'p_true > p_false': 'True'}}], 'google/flan-t5-large': [{\"The 2020 Olympics were held in ['Tokyo', 'London']\": {'p_true > p_false': 'True'}}, {\"The 2020 Olympics were held in ['Tokyo', 'Berlin']\": {'p_true > p_false': 'True'}}, {\"The 2020 Olympics were held in ['Tokyo', 'Chicago']\": {'p_true > p_false': 'True'}}, {\"Operation Overlord took place in ['Normandy', 'Manila']\": {'p_true > p_false': 'False'}}, {\"Operation Overlord took place in ['Normandy', 'Santiago']\": {'p_true > p_false': 'True'}}, {\"Operation Overlord took place in ['Normandy', 'Baghdad']\": {'p_true > p_false': 'False'}}, {\"Steve Jobs is the founder of ['Apple', 'Microsoft']\": {'p_true > p_false': 'True'}}, {\"Steve Jobs is the founder of ['Apple', 'Oracle']\": {'p_true > p_false': 'True'}}, {\"Steve Jobs is the founder of ['Apple', 'Intel']\": {'p_true > p_false': 'True'}}]}\n",
            "\n",
            "Score dict summary:\n",
            "{'google/flan-t5-small': 'This model predicted 8/9 facts at a higher prob than the given counterfactual.', 'google/flan-t5-base': 'This model predicted 8/9 facts at a higher prob than the given counterfactual.', 'google/flan-t5-large': 'This model predicted 7/9 facts at a higher prob than the given counterfactual.'}\n"
          ]
        }
      ],
      "source": [
        "!python run_cka.py configs.tests.flan_t5_v0"
      ]
    },
    {
      "cell_type": "code",
      "execution_count": null,
      "metadata": {
        "colab": {
          "base_uri": "https://localhost:8080/"
        },
        "id": "kZJS1RQElwMt",
        "outputId": "85a48bc3-e2d3-4711-96e9-1a2b585a424c"
      },
      "outputs": [
        {
          "name": "stdout",
          "output_type": "stream",
          "text": [
            "2023-03-12 07:06:28.735375: I tensorflow/core/platform/cpu_feature_guard.cc:193] This TensorFlow binary is optimized with oneAPI Deep Neural Network Library (oneDNN) to use the following CPU instructions in performance-critical operations:  AVX2 AVX512F FMA\n",
            "To enable them in other operations, rebuild TensorFlow with the appropriate compiler flags.\n",
            "2023-03-12 07:06:29.590426: W tensorflow/compiler/xla/stream_executor/platform/default/dso_loader.cc:64] Could not load dynamic library 'libnvinfer.so.7'; dlerror: libnvinfer.so.7: cannot open shared object file: No such file or directory; LD_LIBRARY_PATH: /usr/lib64-nvidia\n",
            "2023-03-12 07:06:29.590519: W tensorflow/compiler/xla/stream_executor/platform/default/dso_loader.cc:64] Could not load dynamic library 'libnvinfer_plugin.so.7'; dlerror: libnvinfer_plugin.so.7: cannot open shared object file: No such file or directory; LD_LIBRARY_PATH: /usr/lib64-nvidia\n",
            "2023-03-12 07:06:29.590537: W tensorflow/compiler/tf2tensorrt/utils/py_utils.cc:38] TF-TRT Warning: Cannot dlopen some TensorRT libraries. If you would like to use Nvidia GPU with TensorRT, please make sure the missing libraries mentioned above are installed properly.\n",
            "CKA for EleutherAI/gpt-neo-125M\n",
            "Loading  model...\n",
            "Downloading (…)okenizer_config.json: 100% 560/560 [00:00<00:00, 84.0kB/s]\n",
            "Downloading (…)lve/main/config.json: 100% 1.01k/1.01k [00:00<00:00, 169kB/s]\n",
            "Downloading (…)olve/main/vocab.json: 100% 899k/899k [00:01<00:00, 807kB/s]\n",
            "Downloading (…)olve/main/merges.txt: 100% 456k/456k [00:01<00:00, 412kB/s]\n",
            "Downloading (…)cial_tokens_map.json: 100% 357/357 [00:00<00:00, 141kB/s]\n",
            "Downloading pytorch_model.bin: 100% 526M/526M [00:05<00:00, 95.9MB/s]\n",
            "\n",
            "===================================BUG REPORT===================================\n",
            "Welcome to bitsandbytes. For bug reports, please submit your error trace to: https://github.com/TimDettmers/bitsandbytes/issues\n",
            "================================================================================\n",
            "Running comparisons...\n",
            "Done\n",
            "\n",
            "CKA for EleutherAI/gpt-neo-1.3b\n",
            "Loading  model...\n",
            "Downloading (…)okenizer_config.json: 100% 200/200 [00:00<00:00, 69.2kB/s]\n",
            "Downloading (…)lve/main/config.json: 100% 1.35k/1.35k [00:00<00:00, 487kB/s]\n",
            "Downloading (…)olve/main/vocab.json: 100% 798k/798k [00:01<00:00, 715kB/s]\n",
            "Downloading (…)olve/main/merges.txt: 100% 456k/456k [00:01<00:00, 413kB/s]\n",
            "Downloading (…)cial_tokens_map.json: 100% 90.0/90.0 [00:00<00:00, 32.9kB/s]\n",
            "Downloading pytorch_model.bin: 100% 5.31G/5.31G [00:56<00:00, 94.8MB/s]\n",
            "Running comparisons...\n",
            "Done\n",
            "\n",
            "CKA for EleutherAI/pythia-70m\n",
            "Loading  model...\n",
            "Downloading (…)okenizer_config.json: 100% 394/394 [00:00<00:00, 136kB/s]\n",
            "Downloading (…)/main/tokenizer.json: 100% 2.11M/2.11M [00:01<00:00, 1.59MB/s]\n",
            "Downloading (…)cial_tokens_map.json: 100% 99.0/99.0 [00:00<00:00, 33.2kB/s]\n",
            "Downloading (…)lve/main/config.json: 100% 534/534 [00:00<00:00, 199kB/s]\n",
            "Downloading pytorch_model.bin: 100% 166M/166M [00:00<00:00, 234MB/s]\n",
            "Running comparisons...\n",
            "Done\n",
            "\n",
            "CKA for EleutherAI/pythia-160m\n",
            "Loading  model...\n",
            "Downloading (…)okenizer_config.json: 100% 394/394 [00:00<00:00, 126kB/s]\n",
            "Downloading (…)/main/tokenizer.json: 100% 2.11M/2.11M [00:01<00:00, 1.57MB/s]\n",
            "Downloading (…)cial_tokens_map.json: 100% 99.0/99.0 [00:00<00:00, 36.5kB/s]\n",
            "Downloading (…)lve/main/config.json: 100% 536/536 [00:00<00:00, 209kB/s]\n",
            "Downloading pytorch_model.bin: 100% 375M/375M [00:01<00:00, 192MB/s]\n",
            "Running comparisons...\n",
            "Done\n",
            "\n",
            "CKA for EleutherAI/pythia-410m\n",
            "Loading  model...\n",
            "Downloading (…)okenizer_config.json: 100% 394/394 [00:00<00:00, 119kB/s]\n",
            "Downloading (…)/main/tokenizer.json: 100% 2.11M/2.11M [00:01<00:00, 1.58MB/s]\n",
            "Downloading (…)cial_tokens_map.json: 100% 99.0/99.0 [00:00<00:00, 34.4kB/s]\n",
            "Downloading (…)lve/main/config.json: 100% 537/537 [00:00<00:00, 176kB/s]\n",
            "Downloading pytorch_model.bin: 100% 911M/911M [00:11<00:00, 81.0MB/s]\n",
            "Running comparisons...\n",
            "Done\n",
            "\n",
            "CKA for EleutherAI/pythia-1b\n",
            "Loading  model...\n",
            "Downloading (…)okenizer_config.json: 100% 394/394 [00:00<00:00, 138kB/s]\n",
            "Downloading (…)/main/tokenizer.json: 100% 2.11M/2.11M [00:01<00:00, 1.59MB/s]\n",
            "Downloading (…)cial_tokens_map.json: 100% 99.0/99.0 [00:00<00:00, 34.7kB/s]\n",
            "Downloading (…)lve/main/config.json: 100% 536/536 [00:00<00:00, 199kB/s]\n",
            "Downloading pytorch_model.bin: 100% 2.09G/2.09G [00:16<00:00, 126MB/s] \n",
            "Running comparisons...\n",
            "Done\n",
            "\n",
            "CKA for EleutherAI/pythia-1.4b\n",
            "Loading  model...\n",
            "Downloading (…)okenizer_config.json: 100% 394/394 [00:00<00:00, 141kB/s]\n",
            "Downloading (…)/main/tokenizer.json: 100% 2.11M/2.11M [00:01<00:00, 1.59MB/s]\n",
            "Downloading (…)cial_tokens_map.json: 100% 99.0/99.0 [00:00<00:00, 35.7kB/s]\n",
            "Downloading (…)lve/main/config.json: 100% 537/537 [00:00<00:00, 202kB/s]\n",
            "Downloading pytorch_model.bin: 100% 2.93G/2.93G [00:22<00:00, 132MB/s]\n",
            "Running comparisons...\n",
            "Done\n",
            "\n",
            "\n",
            "Score dict full:\n",
            "{'eleutherai/gpt-neo-125m': [{\"The 2020 Olympics were held in ['Tokyo', 'London']\": {'p_true': 0.04473876953125, 'p_false': 0.06689453125, 'p_true - p_false': -0.02215576171875, 'p_true > p_false': 'False'}}, {\"The 2020 Olympics were held in ['Tokyo', 'Berlin']\": {'p_true': 0.04473876953125, 'p_false': 0.01111602783203125, 'p_true - p_false': 0.03362274169921875, 'p_true > p_false': 'True'}}, {\"The 2020 Olympics were held in ['Tokyo', 'Chicago']\": {'p_true': 0.04473876953125, 'p_false': 0.0034961700439453125, 'p_true - p_false': 0.04124259948730469, 'p_true > p_false': 'True'}}, {\"Operation Overlord took place in ['Normandy', 'Manila']\": {'p_true': 0.0007739067077636719, 'p_false': 0.00023603439331054688, 'p_true - p_false': 0.000537872314453125, 'p_true > p_false': 'True'}}, {\"Operation Overlord took place in ['Normandy', 'Santiago']\": {'p_true': 0.0007739067077636719, 'p_false': 4.315376281738281e-05, 'p_true - p_false': 0.0007307529449462891, 'p_true > p_false': 'True'}}, {\"Operation Overlord took place in ['Normandy', 'Baghdad']\": {'p_true': 0.0007739067077636719, 'p_false': 0.000579833984375, 'p_true - p_false': 0.00019407272338867188, 'p_true > p_false': 'True'}}, {\"Steve Jobs is the founder of ['Apple', 'Microsoft']\": {'p_true': 0.02459716796875, 'p_false': 0.005146026611328125, 'p_true - p_false': 0.019451141357421875, 'p_true > p_false': 'True'}}, {\"Steve Jobs is the founder of ['Apple', 'Oracle']\": {'p_true': 0.02459716796875, 'p_false': 0.000278472900390625, 'p_true - p_false': 0.024318695068359375, 'p_true > p_false': 'True'}}, {\"Steve Jobs is the founder of ['Apple', 'Intel']\": {'p_true': 0.02459716796875, 'p_false': 0.0011806488037109375, 'p_true - p_false': 0.023416519165039062, 'p_true > p_false': 'True'}}], 'eleutherai/gpt-neo-1.3b': [{\"The 2020 Olympics were held in ['Tokyo', 'London']\": {'p_true': 0.7294921875, 'p_false': 0.05108642578125, 'p_true - p_false': 0.67840576171875, 'p_true > p_false': 'True'}}, {\"The 2020 Olympics were held in ['Tokyo', 'Berlin']\": {'p_true': 0.7294921875, 'p_false': 0.0006103515625, 'p_true - p_false': 0.7288818359375, 'p_true > p_false': 'True'}}, {\"The 2020 Olympics were held in ['Tokyo', 'Chicago']\": {'p_true': 0.7294921875, 'p_false': 2.9265880584716797e-05, 'p_true - p_false': 0.7294629216194153, 'p_true > p_false': 'True'}}, {\"Operation Overlord took place in ['Normandy', 'Manila']\": {'p_true': 0.103515625, 'p_false': 1.7881393432617188e-07, 'p_true - p_false': 0.10351544618606567, 'p_true > p_false': 'True'}}, {\"Operation Overlord took place in ['Normandy', 'Santiago']\": {'p_true': 0.103515625, 'p_false': 1.7881393432617188e-07, 'p_true - p_false': 0.10351544618606567, 'p_true > p_false': 'True'}}, {\"Operation Overlord took place in ['Normandy', 'Baghdad']\": {'p_true': 0.103515625, 'p_false': 7.212162017822266e-06, 'p_true - p_false': 0.10350841283798218, 'p_true > p_false': 'True'}}, {\"Steve Jobs is the founder of ['Apple', 'Microsoft']\": {'p_true': 0.90625, 'p_false': 0.0005192756652832031, 'p_true - p_false': 0.9057307243347168, 'p_true > p_false': 'True'}}, {\"Steve Jobs is the founder of ['Apple', 'Oracle']\": {'p_true': 0.90625, 'p_false': 8.571147918701172e-05, 'p_true - p_false': 0.906164288520813, 'p_true > p_false': 'True'}}, {\"Steve Jobs is the founder of ['Apple', 'Intel']\": {'p_true': 0.90625, 'p_false': 0.0004138946533203125, 'p_true - p_false': 0.9058361053466797, 'p_true > p_false': 'True'}}], 'eleutherai/pythia-70m': [{\"The 2020 Olympics were held in ['Tokyo', 'London']\": {'p_true': 0.0189208984375, 'p_false': 0.0189208984375, 'p_true - p_false': 0.0, 'p_true > p_false': 'False'}}, {\"The 2020 Olympics were held in ['Tokyo', 'Berlin']\": {'p_true': 0.0189208984375, 'p_false': 0.005420684814453125, 'p_true - p_false': 0.013500213623046875, 'p_true > p_false': 'True'}}, {\"The 2020 Olympics were held in ['Tokyo', 'Chicago']\": {'p_true': 0.0189208984375, 'p_false': 0.01300811767578125, 'p_true - p_false': 0.00591278076171875, 'p_true > p_false': 'True'}}, {\"Operation Overlord took place in ['Normandy', 'Manila']\": {'p_true': 9.334087371826172e-05, 'p_false': 0.00011259317398071289, 'p_true - p_false': -1.9252300262451172e-05, 'p_true > p_false': 'False'}}, {\"Operation Overlord took place in ['Normandy', 'Santiago']\": {'p_true': 9.334087371826172e-05, 'p_false': 1.1861324310302734e-05, 'p_true - p_false': 8.147954940795898e-05, 'p_true > p_false': 'True'}}, {\"Operation Overlord took place in ['Normandy', 'Baghdad']\": {'p_true': 9.334087371826172e-05, 'p_false': 0.00017440319061279297, 'p_true - p_false': -8.106231689453125e-05, 'p_true > p_false': 'False'}}, {\"Steve Jobs is the founder of ['Apple', 'Microsoft']\": {'p_true': 0.0283203125, 'p_false': 0.0035991668701171875, 'p_true - p_false': 0.024721145629882812, 'p_true > p_false': 'True'}}, {\"Steve Jobs is the founder of ['Apple', 'Oracle']\": {'p_true': 0.0283203125, 'p_false': 0.0018100738525390625, 'p_true - p_false': 0.026510238647460938, 'p_true > p_false': 'True'}}, {\"Steve Jobs is the founder of ['Apple', 'Intel']\": {'p_true': 0.0283203125, 'p_false': 0.0004870891571044922, 'p_true - p_false': 0.027833223342895508, 'p_true > p_false': 'True'}}], 'eleutherai/pythia-160m': [{\"The 2020 Olympics were held in ['Tokyo', 'London']\": {'p_true': 0.09271240234375, 'p_false': 0.00597381591796875, 'p_true - p_false': 0.08673858642578125, 'p_true > p_false': 'True'}}, {\"The 2020 Olympics were held in ['Tokyo', 'Berlin']\": {'p_true': 0.09271240234375, 'p_false': 0.00917816162109375, 'p_true - p_false': 0.08353424072265625, 'p_true > p_false': 'True'}}, {\"The 2020 Olympics were held in ['Tokyo', 'Chicago']\": {'p_true': 0.09271240234375, 'p_false': 0.0017385482788085938, 'p_true - p_false': 0.0909738540649414, 'p_true > p_false': 'True'}}, {\"Operation Overlord took place in ['Normandy', 'Manila']\": {'p_true': 0.0011157989501953125, 'p_false': 1.3828277587890625e-05, 'p_true - p_false': 0.0011019706726074219, 'p_true > p_false': 'True'}}, {\"Operation Overlord took place in ['Normandy', 'Santiago']\": {'p_true': 0.0011157989501953125, 'p_false': 5.245208740234375e-06, 'p_true - p_false': 0.0011105537414550781, 'p_true > p_false': 'True'}}, {\"Operation Overlord took place in ['Normandy', 'Baghdad']\": {'p_true': 0.0011157989501953125, 'p_false': 0.00012129545211791992, 'p_true - p_false': 0.0009945034980773926, 'p_true > p_false': 'True'}}, {\"Steve Jobs is the founder of ['Apple', 'Microsoft']\": {'p_true': 0.0511474609375, 'p_false': 0.00848388671875, 'p_true - p_false': 0.04266357421875, 'p_true > p_false': 'True'}}, {\"Steve Jobs is the founder of ['Apple', 'Oracle']\": {'p_true': 0.0511474609375, 'p_false': 0.0012416839599609375, 'p_true - p_false': 0.04990577697753906, 'p_true > p_false': 'True'}}, {\"Steve Jobs is the founder of ['Apple', 'Intel']\": {'p_true': 0.0511474609375, 'p_false': 0.0027332305908203125, 'p_true - p_false': 0.04841423034667969, 'p_true > p_false': 'True'}}], 'eleutherai/pythia-410m': [{\"The 2020 Olympics were held in ['Tokyo', 'London']\": {'p_true': 0.1119384765625, 'p_false': 0.05853271484375, 'p_true - p_false': 0.05340576171875, 'p_true > p_false': 'True'}}, {\"The 2020 Olympics were held in ['Tokyo', 'Berlin']\": {'p_true': 0.1119384765625, 'p_false': 0.003101348876953125, 'p_true - p_false': 0.10883712768554688, 'p_true > p_false': 'True'}}, {\"The 2020 Olympics were held in ['Tokyo', 'Chicago']\": {'p_true': 0.1119384765625, 'p_false': 0.00017917156219482422, 'p_true - p_false': 0.11175930500030518, 'p_true > p_false': 'True'}}, {\"Operation Overlord took place in ['Normandy', 'Manila']\": {'p_true': 0.0005850791931152344, 'p_false': 0.00020706653594970703, 'p_true - p_false': 0.00037801265716552734, 'p_true > p_false': 'True'}}, {\"Operation Overlord took place in ['Normandy', 'Santiago']\": {'p_true': 0.0005850791931152344, 'p_false': 3.528594970703125e-05, 'p_true - p_false': 0.0005497932434082031, 'p_true > p_false': 'True'}}, {\"Operation Overlord took place in ['Normandy', 'Baghdad']\": {'p_true': 0.0005850791931152344, 'p_false': 0.0008788108825683594, 'p_true - p_false': -0.000293731689453125, 'p_true > p_false': 'False'}}, {\"Steve Jobs is the founder of ['Apple', 'Microsoft']\": {'p_true': 0.37548828125, 'p_false': 0.01422119140625, 'p_true - p_false': 0.36126708984375, 'p_true > p_false': 'True'}}, {\"Steve Jobs is the founder of ['Apple', 'Oracle']\": {'p_true': 0.37548828125, 'p_false': 0.0010461807250976562, 'p_true - p_false': 0.37444210052490234, 'p_true > p_false': 'True'}}, {\"Steve Jobs is the founder of ['Apple', 'Intel']\": {'p_true': 0.37548828125, 'p_false': 0.002979278564453125, 'p_true - p_false': 0.3725090026855469, 'p_true > p_false': 'True'}}], 'eleutherai/pythia-1b': [{\"The 2020 Olympics were held in ['Tokyo', 'London']\": {'p_true': 0.6650390625, 'p_false': 0.00562286376953125, 'p_true - p_false': 0.6594161987304688, 'p_true > p_false': 'True'}}, {\"The 2020 Olympics were held in ['Tokyo', 'Berlin']\": {'p_true': 0.6650390625, 'p_false': 9.632110595703125e-05, 'p_true - p_false': 0.664942741394043, 'p_true > p_false': 'True'}}, {\"The 2020 Olympics were held in ['Tokyo', 'Chicago']\": {'p_true': 0.6650390625, 'p_false': 0.00040078163146972656, 'p_true - p_false': 0.6646382808685303, 'p_true > p_false': 'True'}}, {\"Operation Overlord took place in ['Normandy', 'Manila']\": {'p_true': 0.00823974609375, 'p_false': 0.00010961294174194336, 'p_true - p_false': 0.008130133152008057, 'p_true > p_false': 'True'}}, {\"Operation Overlord took place in ['Normandy', 'Santiago']\": {'p_true': 0.00823974609375, 'p_false': 1.150369644165039e-05, 'p_true - p_false': 0.00822824239730835, 'p_true > p_false': 'True'}}, {\"Operation Overlord took place in ['Normandy', 'Baghdad']\": {'p_true': 0.00823974609375, 'p_false': 0.0001538991928100586, 'p_true - p_false': 0.008085846900939941, 'p_true > p_false': 'True'}}, {\"Steve Jobs is the founder of ['Apple', 'Microsoft']\": {'p_true': 0.826171875, 'p_false': 0.0005598068237304688, 'p_true - p_false': 0.8256120681762695, 'p_true > p_false': 'True'}}, {\"Steve Jobs is the founder of ['Apple', 'Oracle']\": {'p_true': 0.826171875, 'p_false': 5.835294723510742e-05, 'p_true - p_false': 0.8261135220527649, 'p_true > p_false': 'True'}}, {\"Steve Jobs is the founder of ['Apple', 'Intel']\": {'p_true': 0.826171875, 'p_false': 0.0084228515625, 'p_true - p_false': 0.8177490234375, 'p_true > p_false': 'True'}}], 'eleutherai/pythia-1.4b': [{\"The 2020 Olympics were held in ['Tokyo', 'London']\": {'p_true': 0.92529296875, 'p_false': 0.00247955322265625, 'p_true - p_false': 0.9228134155273438, 'p_true > p_false': 'True'}}, {\"The 2020 Olympics were held in ['Tokyo', 'Berlin']\": {'p_true': 0.92529296875, 'p_false': 0.00022172927856445312, 'p_true - p_false': 0.9250712394714355, 'p_true > p_false': 'True'}}, {\"The 2020 Olympics were held in ['Tokyo', 'Chicago']\": {'p_true': 0.92529296875, 'p_false': 2.4437904357910156e-06, 'p_true - p_false': 0.9252905249595642, 'p_true > p_false': 'True'}}, {\"Operation Overlord took place in ['Normandy', 'Manila']\": {'p_true': 0.004001617431640625, 'p_false': 0.0003781318664550781, 'p_true - p_false': 0.003623485565185547, 'p_true > p_false': 'True'}}, {\"Operation Overlord took place in ['Normandy', 'Santiago']\": {'p_true': 0.004001617431640625, 'p_false': 0.0001704692840576172, 'p_true - p_false': 0.003831148147583008, 'p_true > p_false': 'True'}}, {\"Operation Overlord took place in ['Normandy', 'Baghdad']\": {'p_true': 0.004001617431640625, 'p_false': 0.0005087852478027344, 'p_true - p_false': 0.0034928321838378906, 'p_true > p_false': 'True'}}, {\"Steve Jobs is the founder of ['Apple', 'Microsoft']\": {'p_true': 0.85791015625, 'p_false': 0.0007467269897460938, 'p_true - p_false': 0.8571634292602539, 'p_true > p_false': 'True'}}, {\"Steve Jobs is the founder of ['Apple', 'Oracle']\": {'p_true': 0.85791015625, 'p_false': 7.390975952148438e-05, 'p_true - p_false': 0.8578362464904785, 'p_true > p_false': 'True'}}, {\"Steve Jobs is the founder of ['Apple', 'Intel']\": {'p_true': 0.85791015625, 'p_false': 0.00029468536376953125, 'p_true - p_false': 0.8576154708862305, 'p_true > p_false': 'True'}}]}\n",
            "\n",
            "Score dict succinct:\n",
            "{'eleutherai/gpt-neo-125m': [{\"The 2020 Olympics were held in ['Tokyo', 'London']\": {'p_true > p_false': 'False'}}, {\"The 2020 Olympics were held in ['Tokyo', 'Berlin']\": {'p_true > p_false': 'True'}}, {\"The 2020 Olympics were held in ['Tokyo', 'Chicago']\": {'p_true > p_false': 'True'}}, {\"Operation Overlord took place in ['Normandy', 'Manila']\": {'p_true > p_false': 'True'}}, {\"Operation Overlord took place in ['Normandy', 'Santiago']\": {'p_true > p_false': 'True'}}, {\"Operation Overlord took place in ['Normandy', 'Baghdad']\": {'p_true > p_false': 'True'}}, {\"Steve Jobs is the founder of ['Apple', 'Microsoft']\": {'p_true > p_false': 'True'}}, {\"Steve Jobs is the founder of ['Apple', 'Oracle']\": {'p_true > p_false': 'True'}}, {\"Steve Jobs is the founder of ['Apple', 'Intel']\": {'p_true > p_false': 'True'}}], 'eleutherai/gpt-neo-1.3b': [{\"The 2020 Olympics were held in ['Tokyo', 'London']\": {'p_true > p_false': 'True'}}, {\"The 2020 Olympics were held in ['Tokyo', 'Berlin']\": {'p_true > p_false': 'True'}}, {\"The 2020 Olympics were held in ['Tokyo', 'Chicago']\": {'p_true > p_false': 'True'}}, {\"Operation Overlord took place in ['Normandy', 'Manila']\": {'p_true > p_false': 'True'}}, {\"Operation Overlord took place in ['Normandy', 'Santiago']\": {'p_true > p_false': 'True'}}, {\"Operation Overlord took place in ['Normandy', 'Baghdad']\": {'p_true > p_false': 'True'}}, {\"Steve Jobs is the founder of ['Apple', 'Microsoft']\": {'p_true > p_false': 'True'}}, {\"Steve Jobs is the founder of ['Apple', 'Oracle']\": {'p_true > p_false': 'True'}}, {\"Steve Jobs is the founder of ['Apple', 'Intel']\": {'p_true > p_false': 'True'}}], 'eleutherai/pythia-70m': [{\"The 2020 Olympics were held in ['Tokyo', 'London']\": {'p_true > p_false': 'False'}}, {\"The 2020 Olympics were held in ['Tokyo', 'Berlin']\": {'p_true > p_false': 'True'}}, {\"The 2020 Olympics were held in ['Tokyo', 'Chicago']\": {'p_true > p_false': 'True'}}, {\"Operation Overlord took place in ['Normandy', 'Manila']\": {'p_true > p_false': 'False'}}, {\"Operation Overlord took place in ['Normandy', 'Santiago']\": {'p_true > p_false': 'True'}}, {\"Operation Overlord took place in ['Normandy', 'Baghdad']\": {'p_true > p_false': 'False'}}, {\"Steve Jobs is the founder of ['Apple', 'Microsoft']\": {'p_true > p_false': 'True'}}, {\"Steve Jobs is the founder of ['Apple', 'Oracle']\": {'p_true > p_false': 'True'}}, {\"Steve Jobs is the founder of ['Apple', 'Intel']\": {'p_true > p_false': 'True'}}], 'eleutherai/pythia-160m': [{\"The 2020 Olympics were held in ['Tokyo', 'London']\": {'p_true > p_false': 'True'}}, {\"The 2020 Olympics were held in ['Tokyo', 'Berlin']\": {'p_true > p_false': 'True'}}, {\"The 2020 Olympics were held in ['Tokyo', 'Chicago']\": {'p_true > p_false': 'True'}}, {\"Operation Overlord took place in ['Normandy', 'Manila']\": {'p_true > p_false': 'True'}}, {\"Operation Overlord took place in ['Normandy', 'Santiago']\": {'p_true > p_false': 'True'}}, {\"Operation Overlord took place in ['Normandy', 'Baghdad']\": {'p_true > p_false': 'True'}}, {\"Steve Jobs is the founder of ['Apple', 'Microsoft']\": {'p_true > p_false': 'True'}}, {\"Steve Jobs is the founder of ['Apple', 'Oracle']\": {'p_true > p_false': 'True'}}, {\"Steve Jobs is the founder of ['Apple', 'Intel']\": {'p_true > p_false': 'True'}}], 'eleutherai/pythia-410m': [{\"The 2020 Olympics were held in ['Tokyo', 'London']\": {'p_true > p_false': 'True'}}, {\"The 2020 Olympics were held in ['Tokyo', 'Berlin']\": {'p_true > p_false': 'True'}}, {\"The 2020 Olympics were held in ['Tokyo', 'Chicago']\": {'p_true > p_false': 'True'}}, {\"Operation Overlord took place in ['Normandy', 'Manila']\": {'p_true > p_false': 'True'}}, {\"Operation Overlord took place in ['Normandy', 'Santiago']\": {'p_true > p_false': 'True'}}, {\"Operation Overlord took place in ['Normandy', 'Baghdad']\": {'p_true > p_false': 'False'}}, {\"Steve Jobs is the founder of ['Apple', 'Microsoft']\": {'p_true > p_false': 'True'}}, {\"Steve Jobs is the founder of ['Apple', 'Oracle']\": {'p_true > p_false': 'True'}}, {\"Steve Jobs is the founder of ['Apple', 'Intel']\": {'p_true > p_false': 'True'}}], 'eleutherai/pythia-1b': [{\"The 2020 Olympics were held in ['Tokyo', 'London']\": {'p_true > p_false': 'True'}}, {\"The 2020 Olympics were held in ['Tokyo', 'Berlin']\": {'p_true > p_false': 'True'}}, {\"The 2020 Olympics were held in ['Tokyo', 'Chicago']\": {'p_true > p_false': 'True'}}, {\"Operation Overlord took place in ['Normandy', 'Manila']\": {'p_true > p_false': 'True'}}, {\"Operation Overlord took place in ['Normandy', 'Santiago']\": {'p_true > p_false': 'True'}}, {\"Operation Overlord took place in ['Normandy', 'Baghdad']\": {'p_true > p_false': 'True'}}, {\"Steve Jobs is the founder of ['Apple', 'Microsoft']\": {'p_true > p_false': 'True'}}, {\"Steve Jobs is the founder of ['Apple', 'Oracle']\": {'p_true > p_false': 'True'}}, {\"Steve Jobs is the founder of ['Apple', 'Intel']\": {'p_true > p_false': 'True'}}], 'eleutherai/pythia-1.4b': [{\"The 2020 Olympics were held in ['Tokyo', 'London']\": {'p_true > p_false': 'True'}}, {\"The 2020 Olympics were held in ['Tokyo', 'Berlin']\": {'p_true > p_false': 'True'}}, {\"The 2020 Olympics were held in ['Tokyo', 'Chicago']\": {'p_true > p_false': 'True'}}, {\"Operation Overlord took place in ['Normandy', 'Manila']\": {'p_true > p_false': 'True'}}, {\"Operation Overlord took place in ['Normandy', 'Santiago']\": {'p_true > p_false': 'True'}}, {\"Operation Overlord took place in ['Normandy', 'Baghdad']\": {'p_true > p_false': 'True'}}, {\"Steve Jobs is the founder of ['Apple', 'Microsoft']\": {'p_true > p_false': 'True'}}, {\"Steve Jobs is the founder of ['Apple', 'Oracle']\": {'p_true > p_false': 'True'}}, {\"Steve Jobs is the founder of ['Apple', 'Intel']\": {'p_true > p_false': 'True'}}]}\n",
            "\n",
            "Score dict summary:\n",
            "{'eleutherai/gpt-neo-125m': 'This model predicted 8/9 facts at a higher prob than the given counterfactual.', 'eleutherai/gpt-neo-1.3b': 'This model predicted 9/9 facts at a higher prob than the given counterfactual.', 'eleutherai/pythia-70m': 'This model predicted 6/9 facts at a higher prob than the given counterfactual.', 'eleutherai/pythia-160m': 'This model predicted 9/9 facts at a higher prob than the given counterfactual.', 'eleutherai/pythia-410m': 'This model predicted 8/9 facts at a higher prob than the given counterfactual.', 'eleutherai/pythia-1b': 'This model predicted 9/9 facts at a higher prob than the given counterfactual.', 'eleutherai/pythia-1.4b': 'This model predicted 9/9 facts at a higher prob than the given counterfactual.'}\n"
          ]
        }
      ],
      "source": [
        "!python run_cka.py configs.tests.eleutherai_v0"
      ]
    },
    {
      "cell_type": "markdown",
      "metadata": {
        "id": "8WXwAZfHMgAY"
      },
      "source": [
        "## Notebook usage"
      ]
    },
    {
      "cell_type": "code",
      "execution_count": null,
      "metadata": {
        "id": "GVCMUZJXV0mq"
      },
      "outputs": [],
      "source": [
        "from run_cka import main"
      ]
    },
    {
      "cell_type": "markdown",
      "metadata": {
        "id": "PFy4ijAPc_mS"
      },
      "source": [
        "### gpt2 example with \"verbosity\" turned on"
      ]
    },
    {
      "cell_type": "code",
      "execution_count": null,
      "metadata": {
        "colab": {
          "base_uri": "https://localhost:8080/"
        },
        "id": "fXTO0xG4Zzx5",
        "outputId": "1d928585-ad08-4a7b-e754-291a9fb92897"
      },
      "outputs": [
        {
          "name": "stdout",
          "output_type": "stream",
          "text": [
            "CKA for distilgpt2\n",
            "Loading  model...\n",
            "\n",
            "===================================BUG REPORT===================================\n",
            "Welcome to bitsandbytes. For bug reports, please submit your error trace to: https://github.com/TimDettmers/bitsandbytes/issues\n",
            "================================================================================\n",
            "Running comparisons...\n",
            "\n",
            "\tcontext... The 2020 Olympics were held in\n",
            "\ttokenized_context ids... tensor([[  464, 12131, 14935,   547,  2714,   287]], device='cuda:0')\n",
            "\tdecoded tokenized_context... The 2020 Olympics were held in\n",
            "\tdecoded target id...  Tokyo\n",
            "\tmost probable prediction id decoded...  the\n",
            "\n",
            "\n",
            "\tcontext... The 2020 Olympics were held in\n",
            "\ttokenized_context ids... tensor([[  464, 12131, 14935,   547,  2714,   287]], device='cuda:0')\n",
            "\tdecoded tokenized_context... The 2020 Olympics were held in\n",
            "\tdecoded target id...  London\n",
            "\tmost probable prediction id decoded...  the\n",
            "\n",
            "\n",
            "\tcontext... The 2020 Olympics were held in\n",
            "\ttokenized_context ids... tensor([[  464, 12131, 14935,   547,  2714,   287]], device='cuda:0')\n",
            "\tdecoded tokenized_context... The 2020 Olympics were held in\n",
            "\tdecoded target id...  Tokyo\n",
            "\tmost probable prediction id decoded...  the\n",
            "\n",
            "\n",
            "\tcontext... The 2020 Olympics were held in\n",
            "\ttokenized_context ids... tensor([[  464, 12131, 14935,   547,  2714,   287]], device='cuda:0')\n",
            "\tdecoded tokenized_context... The 2020 Olympics were held in\n",
            "\tdecoded target id...  Berlin\n",
            "\tmost probable prediction id decoded...  the\n",
            "\n",
            "\n",
            "\tcontext... The 2020 Olympics were held in\n",
            "\ttokenized_context ids... tensor([[  464, 12131, 14935,   547,  2714,   287]], device='cuda:0')\n",
            "\tdecoded tokenized_context... The 2020 Olympics were held in\n",
            "\tdecoded target id...  Tokyo\n",
            "\tmost probable prediction id decoded...  the\n",
            "\n",
            "\n",
            "\tcontext... The 2020 Olympics were held in\n",
            "\ttokenized_context ids... tensor([[  464, 12131, 14935,   547,  2714,   287]], device='cuda:0')\n",
            "\tdecoded tokenized_context... The 2020 Olympics were held in\n",
            "\tdecoded target id...  Chicago\n",
            "\tmost probable prediction id decoded...  the\n",
            "\n",
            "\n",
            "\tcontext... Operation Overlord took place in\n",
            "\ttokenized_context ids... tensor([[32180,  3827, 10572,  1718,  1295,   287]], device='cuda:0')\n",
            "\tdecoded tokenized_context... Operation Overlord took place in\n",
            "\tdecoded target id...  Normandy\n",
            "\tmost probable prediction id decoded...  the\n",
            "\n",
            "\n",
            "\tcontext... Operation Overlord took place in\n",
            "\ttokenized_context ids... tensor([[32180,  3827, 10572,  1718,  1295,   287]], device='cuda:0')\n",
            "\tdecoded tokenized_context... Operation Overlord took place in\n",
            "\tdecoded target id...  Manila\n",
            "\tmost probable prediction id decoded...  the\n",
            "\n",
            "\n",
            "\tcontext... Operation Overlord took place in\n",
            "\ttokenized_context ids... tensor([[32180,  3827, 10572,  1718,  1295,   287]], device='cuda:0')\n",
            "\tdecoded tokenized_context... Operation Overlord took place in\n",
            "\tdecoded target id...  Normandy\n",
            "\tmost probable prediction id decoded...  the\n",
            "\n",
            "\n",
            "\tcontext... Operation Overlord took place in\n",
            "\ttokenized_context ids... tensor([[32180,  3827, 10572,  1718,  1295,   287]], device='cuda:0')\n",
            "\tdecoded tokenized_context... Operation Overlord took place in\n",
            "\tdecoded target id...  Santiago\n",
            "\tmost probable prediction id decoded...  the\n",
            "\n",
            "\n",
            "\tcontext... Operation Overlord took place in\n",
            "\ttokenized_context ids... tensor([[32180,  3827, 10572,  1718,  1295,   287]], device='cuda:0')\n",
            "\tdecoded tokenized_context... Operation Overlord took place in\n",
            "\tdecoded target id...  Normandy\n",
            "\tmost probable prediction id decoded...  the\n",
            "\n",
            "\n",
            "\tcontext... Operation Overlord took place in\n",
            "\ttokenized_context ids... tensor([[32180,  3827, 10572,  1718,  1295,   287]], device='cuda:0')\n",
            "\tdecoded tokenized_context... Operation Overlord took place in\n",
            "\tdecoded target id...  Baghdad\n",
            "\tmost probable prediction id decoded...  the\n",
            "\n",
            "\n",
            "\tcontext... Steve Jobs is the founder of\n",
            "\ttokenized_context ids... tensor([[19206, 19161,   318,   262,  9119,   286]], device='cuda:0')\n",
            "\tdecoded tokenized_context... Steve Jobs is the founder of\n",
            "\tdecoded target id...  Apple\n",
            "\tmost probable prediction id decoded...  the\n",
            "\n",
            "\n",
            "\tcontext... Steve Jobs is the founder of\n",
            "\ttokenized_context ids... tensor([[19206, 19161,   318,   262,  9119,   286]], device='cuda:0')\n",
            "\tdecoded tokenized_context... Steve Jobs is the founder of\n",
            "\tdecoded target id...  Microsoft\n",
            "\tmost probable prediction id decoded...  the\n",
            "\n",
            "\n",
            "\tcontext... Steve Jobs is the founder of\n",
            "\ttokenized_context ids... tensor([[19206, 19161,   318,   262,  9119,   286]], device='cuda:0')\n",
            "\tdecoded tokenized_context... Steve Jobs is the founder of\n",
            "\tdecoded target id...  Apple\n",
            "\tmost probable prediction id decoded...  the\n",
            "\n",
            "\n",
            "\tcontext... Steve Jobs is the founder of\n",
            "\ttokenized_context ids... tensor([[19206, 19161,   318,   262,  9119,   286]], device='cuda:0')\n",
            "\tdecoded tokenized_context... Steve Jobs is the founder of\n",
            "\tdecoded target id...  Oracle\n",
            "\tmost probable prediction id decoded...  the\n",
            "\n",
            "\n",
            "\tcontext... Steve Jobs is the founder of\n",
            "\ttokenized_context ids... tensor([[19206, 19161,   318,   262,  9119,   286]], device='cuda:0')\n",
            "\tdecoded tokenized_context... Steve Jobs is the founder of\n",
            "\tdecoded target id...  Apple\n",
            "\tmost probable prediction id decoded...  the\n",
            "\n",
            "\n",
            "\tcontext... Steve Jobs is the founder of\n",
            "\ttokenized_context ids... tensor([[19206, 19161,   318,   262,  9119,   286]], device='cuda:0')\n",
            "\tdecoded tokenized_context... Steve Jobs is the founder of\n",
            "\tdecoded target id...  Intel\n",
            "\tmost probable prediction id decoded...  the\n",
            "\n",
            "Done\n",
            "\n",
            "{'distilgpt2': [{\"The 2020 Olympics were held in ['Tokyo', 'London']\": {'p_true': 0.01068115234375, 'p_false': 0.0478515625, 'p_true - p_false': -0.03717041015625, 'p_true > p_false': 'False'}}, {\"The 2020 Olympics were held in ['Tokyo', 'Berlin']\": {'p_true': 0.01068115234375, 'p_false': 0.006084442138671875, 'p_true - p_false': 0.004596710205078125, 'p_true > p_false': 'True'}}, {\"The 2020 Olympics were held in ['Tokyo', 'Chicago']\": {'p_true': 0.01068115234375, 'p_false': 0.0015382766723632812, 'p_true - p_false': 0.009142875671386719, 'p_true > p_false': 'True'}}, {\"Operation Overlord took place in ['Normandy', 'Manila']\": {'p_true': 0.0007376670837402344, 'p_false': 0.00019848346710205078, 'p_true - p_false': 0.0005391836166381836, 'p_true > p_false': 'True'}}, {\"Operation Overlord took place in ['Normandy', 'Santiago']\": {'p_true': 0.0007376670837402344, 'p_false': 6.860494613647461e-05, 'p_true - p_false': 0.0006690621376037598, 'p_true > p_false': 'True'}}, {\"Operation Overlord took place in ['Normandy', 'Baghdad']\": {'p_true': 0.0007376670837402344, 'p_false': 0.0002713203430175781, 'p_true - p_false': 0.00046634674072265625, 'p_true > p_false': 'True'}}, {\"Steve Jobs is the founder of ['Apple', 'Microsoft']\": {'p_true': 0.01404571533203125, 'p_false': 0.01201629638671875, 'p_true - p_false': 0.0020294189453125, 'p_true > p_false': 'True'}}, {\"Steve Jobs is the founder of ['Apple', 'Oracle']\": {'p_true': 0.01404571533203125, 'p_false': 0.0016260147094726562, 'p_true - p_false': 0.012419700622558594, 'p_true > p_false': 'True'}}, {\"Steve Jobs is the founder of ['Apple', 'Intel']\": {'p_true': 0.01404571533203125, 'p_false': 0.004283905029296875, 'p_true - p_false': 0.009761810302734375, 'p_true > p_false': 'True'}}]}\n",
            "{'distilgpt2': [{\"The 2020 Olympics were held in ['Tokyo', 'London']\": {'p_true > p_false': 'False'}}, {\"The 2020 Olympics were held in ['Tokyo', 'Berlin']\": {'p_true > p_false': 'True'}}, {\"The 2020 Olympics were held in ['Tokyo', 'Chicago']\": {'p_true > p_false': 'True'}}, {\"Operation Overlord took place in ['Normandy', 'Manila']\": {'p_true > p_false': 'True'}}, {\"Operation Overlord took place in ['Normandy', 'Santiago']\": {'p_true > p_false': 'True'}}, {\"Operation Overlord took place in ['Normandy', 'Baghdad']\": {'p_true > p_false': 'True'}}, {\"Steve Jobs is the founder of ['Apple', 'Microsoft']\": {'p_true > p_false': 'True'}}, {\"Steve Jobs is the founder of ['Apple', 'Oracle']\": {'p_true > p_false': 'True'}}, {\"Steve Jobs is the founder of ['Apple', 'Intel']\": {'p_true > p_false': 'True'}}]}\n",
            "{'distilgpt2': 'This model predicted 8/9 facts at a higher prob than the given counterfactual.'}\n"
          ]
        }
      ],
      "source": [
        "config = {\n",
        "    \"models\": [\n",
        "        \"distilgpt2\",\n",
        "    ],\n",
        "    \"input_information\": {\n",
        "        \"0\": {\n",
        "            \"stem\": \"The 2020 Olympics were held in\",\n",
        "            \"true\": \"Tokyo\",\n",
        "            \"false\": [\"London\", \"Berlin\", \"Chicago\"],\n",
        "        },\n",
        "        \"1\": {\n",
        "            \"stem\": \"Operation Overlord took place in\",\n",
        "            \"true\": \"Normandy\",\n",
        "            \"false\": [\"Manila\", \"Santiago\", \"Baghdad\"],\n",
        "        },\n",
        "        \"2\": {\n",
        "            \"stem\": \"Steve Jobs is the founder of\",\n",
        "            \"true\": \"Apple\",\n",
        "            \"false\": [\"Microsoft\", \"Oracle\", \"Intel\"],\n",
        "        },\n",
        "    },\n",
        "    \"verbosity\": True,\n",
        "}\n",
        "\n",
        "score_dicts = main(config)\n",
        "\n",
        "print(score_dicts[0])\n",
        "print(score_dicts[1])\n",
        "print(score_dicts[2])"
      ]
    },
    {
      "cell_type": "code",
      "execution_count": null,
      "metadata": {
        "id": "AGFcOIO0XU6O"
      },
      "outputs": [],
      "source": []
    }
  ],
  "metadata": {
    "accelerator": "GPU",
    "colab": {
      "machine_shape": "hm",
      "provenance": []
    },
    "gpuClass": "standard",
    "kernelspec": {
      "display_name": "Python 3",
      "name": "python3"
    },
    "language_info": {
      "name": "python"
    }
  },
  "nbformat": 4,
  "nbformat_minor": 0
}
