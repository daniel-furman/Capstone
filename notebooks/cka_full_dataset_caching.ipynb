{
 "cells": [
  {
   "cell_type": "code",
   "execution_count": 1,
   "metadata": {},
   "outputs": [],
   "source": [
    "import json\n",
    "import numpy as np\n",
    "import pandas as pd"
   ]
  },
  {
   "cell_type": "markdown",
   "metadata": {},
   "source": [
    "## Cache calinet probing data"
   ]
  },
  {
   "cell_type": "code",
   "execution_count": 2,
   "metadata": {},
   "outputs": [],
   "source": [
    "with open('../data/calinet_probing_data_original/probing_data_trex_500each.json', 'r') as f:\n",
    "    data_calinet = json.load(f)\n",
    "    starter_df = pd.DataFrame(list(data_calinet['data']))"
   ]
  },
  {
   "cell_type": "code",
   "execution_count": 3,
   "metadata": {},
   "outputs": [
    {
     "data": {
      "text/html": [
       "<div>\n",
       "<style scoped>\n",
       "    .dataframe tbody tr th:only-of-type {\n",
       "        vertical-align: middle;\n",
       "    }\n",
       "\n",
       "    .dataframe tbody tr th {\n",
       "        vertical-align: top;\n",
       "    }\n",
       "\n",
       "    .dataframe thead th {\n",
       "        text-align: right;\n",
       "    }\n",
       "</style>\n",
       "<table border=\"1\" class=\"dataframe\">\n",
       "  <thead>\n",
       "    <tr style=\"text-align: right;\">\n",
       "      <th></th>\n",
       "      <th>fact_id</th>\n",
       "      <th>relation</th>\n",
       "      <th>triplet</th>\n",
       "      <th>sentences</th>\n",
       "    </tr>\n",
       "  </thead>\n",
       "  <tbody>\n",
       "    <tr>\n",
       "      <th>0</th>\n",
       "      <td>1</td>\n",
       "      <td>P47</td>\n",
       "      <td>{'sub_label': 'Norfolk', 'obj_label': 'Suffolk'}</td>\n",
       "      <td>[[Norfolk shares border with &lt;extra_id_0&gt;., &lt;e...</td>\n",
       "    </tr>\n",
       "    <tr>\n",
       "      <th>1</th>\n",
       "      <td>2</td>\n",
       "      <td>P47</td>\n",
       "      <td>{'sub_label': 'Jordan', 'obj_label': 'Israel'}</td>\n",
       "      <td>[[&lt;extra_id_0&gt; shares border with Israel., &lt;ex...</td>\n",
       "    </tr>\n",
       "    <tr>\n",
       "      <th>2</th>\n",
       "      <td>3</td>\n",
       "      <td>P47</td>\n",
       "      <td>{'sub_label': 'Kenya', 'obj_label': 'Ethiopia'}</td>\n",
       "      <td>[[Kenya shares border with &lt;extra_id_0&gt;., &lt;ext...</td>\n",
       "    </tr>\n",
       "    <tr>\n",
       "      <th>3</th>\n",
       "      <td>4</td>\n",
       "      <td>P47</td>\n",
       "      <td>{'sub_label': 'Egypt', 'obj_label': 'Israel'}</td>\n",
       "      <td>[[&lt;extra_id_0&gt; shares border with Israel., &lt;ex...</td>\n",
       "    </tr>\n",
       "    <tr>\n",
       "      <th>4</th>\n",
       "      <td>5</td>\n",
       "      <td>P47</td>\n",
       "      <td>{'sub_label': 'Tanzania', 'obj_label': 'Uganda'}</td>\n",
       "      <td>[[Tanzania shares border with &lt;extra_id_0&gt;., &lt;...</td>\n",
       "    </tr>\n",
       "  </tbody>\n",
       "</table>\n",
       "</div>"
      ],
      "text/plain": [
       "   fact_id relation                                           triplet  \\\n",
       "0        1      P47  {'sub_label': 'Norfolk', 'obj_label': 'Suffolk'}   \n",
       "1        2      P47    {'sub_label': 'Jordan', 'obj_label': 'Israel'}   \n",
       "2        3      P47   {'sub_label': 'Kenya', 'obj_label': 'Ethiopia'}   \n",
       "3        4      P47     {'sub_label': 'Egypt', 'obj_label': 'Israel'}   \n",
       "4        5      P47  {'sub_label': 'Tanzania', 'obj_label': 'Uganda'}   \n",
       "\n",
       "                                           sentences  \n",
       "0  [[Norfolk shares border with <extra_id_0>., <e...  \n",
       "1  [[<extra_id_0> shares border with Israel., <ex...  \n",
       "2  [[Kenya shares border with <extra_id_0>., <ext...  \n",
       "3  [[<extra_id_0> shares border with Israel., <ex...  \n",
       "4  [[Tanzania shares border with <extra_id_0>., <...  "
      ]
     },
     "execution_count": 3,
     "metadata": {},
     "output_type": "execute_result"
    }
   ],
   "source": [
    "# starter df\n",
    "starter_df.head()"
   ]
  },
  {
   "cell_type": "code",
   "execution_count": 4,
   "metadata": {},
   "outputs": [
    {
     "data": {
      "text/plain": [
       "['Norfolk shares border with <extra_id_0>.',\n",
       " '<extra_id_0> Suffolk <extra_id_1>',\n",
       " '<extra_id_0> Upper Macungie Township <extra_id_1>']"
      ]
     },
     "execution_count": 4,
     "metadata": {},
     "output_type": "execute_result"
    }
   ],
   "source": [
    "# all of these have to do with fact id 1\n",
    "# the sentences are formed in this format...\n",
    "# the start of a factual sentence, involving the subject\n",
    "# and then two possibilities: one true and one false?\n",
    "# storing these, then, we should do something like\n",
    "# sentence stem | correct | incorrect\n",
    "# and we can strip out the <extra_id_x> parts\n",
    "# to keep it model agnostic\n",
    "starter_df['sentences'][0][0]"
   ]
  },
  {
   "cell_type": "code",
   "execution_count": 5,
   "metadata": {},
   "outputs": [],
   "source": [
    "# create containers to hold our clean data\n",
    "sentence_stems = []\n",
    "correct = []\n",
    "incorrect = []\n",
    "fact_ids = []\n",
    "relations = []\n",
    "subjects = []\n",
    "objects = []"
   ]
  },
  {
   "cell_type": "code",
   "execution_count": 6,
   "metadata": {},
   "outputs": [],
   "source": [
    "for index, row in starter_df.iterrows():\n",
    "    sentence_list = row['sentences']\n",
    "    for entry in sentence_list:\n",
    "        \n",
    "        # minor cleanup \n",
    "        cleaned_stem = entry[0].replace(\"<extra_id_0>\", \"[BLANK]\").strip()\n",
    "        cleaned_correct = entry[1].replace(\"<extra_id_0>\", \"\").replace(\"<extra_id_1>\", \"\").strip()\n",
    "        cleaned_incorrect = entry[2].replace(\"<extra_id_0>\", \"\").replace(\"<extra_id_1>\", \"\").strip()\n",
    "        \n",
    "        # grab sub<->obj\n",
    "        subjects_and_objects = pd.json_normalize(row['triplet'])\n",
    "        subjects.append(subjects_and_objects.sub_label.values[0])\n",
    "        objects.append(subjects_and_objects.obj_label.values[0])\n",
    "        \n",
    "        # commit \n",
    "        sentence_stems.append(cleaned_stem)\n",
    "        correct.append(cleaned_correct)\n",
    "        incorrect.append(cleaned_incorrect)\n",
    "        fact_ids.append(row['fact_id'])\n",
    "        relations.append(row['relation'])"
   ]
  },
  {
   "cell_type": "code",
   "execution_count": 7,
   "metadata": {},
   "outputs": [],
   "source": [
    "# sanity check\n",
    "assert(len(sentence_stems) ==\n",
    "       len(correct) ==\n",
    "       len(incorrect) ==\n",
    "       len(fact_ids) ==\n",
    "       len(relations) ==\n",
    "      len(subjects) ==\n",
    "      len(objects))"
   ]
  },
  {
   "cell_type": "code",
   "execution_count": 8,
   "metadata": {},
   "outputs": [],
   "source": [
    "# also generate a 'calibra id' just to give us a primary key\n",
    "calibra_id = np.arange(0, len(sentence_stems))"
   ]
  },
  {
   "cell_type": "code",
   "execution_count": 9,
   "metadata": {},
   "outputs": [],
   "source": [
    "# merge into big df\n",
    "trex_df = pd.DataFrame({'id': calibra_id, 'fact_id': fact_ids,\n",
    "                        'relation': relations, 'subject': subjects,\n",
    "                        'object': objects, 'stem': sentence_stems, 'true': correct,\n",
    "                        'false': incorrect})"
   ]
  },
  {
   "cell_type": "code",
   "execution_count": 10,
   "metadata": {},
   "outputs": [
    {
     "data": {
      "text/html": [
       "<div>\n",
       "<style scoped>\n",
       "    .dataframe tbody tr th:only-of-type {\n",
       "        vertical-align: middle;\n",
       "    }\n",
       "\n",
       "    .dataframe tbody tr th {\n",
       "        vertical-align: top;\n",
       "    }\n",
       "\n",
       "    .dataframe thead th {\n",
       "        text-align: right;\n",
       "    }\n",
       "</style>\n",
       "<table border=\"1\" class=\"dataframe\">\n",
       "  <thead>\n",
       "    <tr style=\"text-align: right;\">\n",
       "      <th></th>\n",
       "      <th>id</th>\n",
       "      <th>fact_id</th>\n",
       "      <th>relation</th>\n",
       "      <th>subject</th>\n",
       "      <th>object</th>\n",
       "      <th>stem</th>\n",
       "      <th>true</th>\n",
       "      <th>false</th>\n",
       "    </tr>\n",
       "  </thead>\n",
       "  <tbody>\n",
       "    <tr>\n",
       "      <th>0</th>\n",
       "      <td>0</td>\n",
       "      <td>1</td>\n",
       "      <td>P47</td>\n",
       "      <td>Norfolk</td>\n",
       "      <td>Suffolk</td>\n",
       "      <td>Norfolk shares border with [BLANK].</td>\n",
       "      <td>Suffolk</td>\n",
       "      <td>Upper Macungie Township</td>\n",
       "    </tr>\n",
       "    <tr>\n",
       "      <th>1</th>\n",
       "      <td>1</td>\n",
       "      <td>1</td>\n",
       "      <td>P47</td>\n",
       "      <td>Norfolk</td>\n",
       "      <td>Suffolk</td>\n",
       "      <td>Norfolk borders with [BLANK].</td>\n",
       "      <td>Suffolk</td>\n",
       "      <td>Vadena</td>\n",
       "    </tr>\n",
       "    <tr>\n",
       "      <th>2</th>\n",
       "      <td>2</td>\n",
       "      <td>1</td>\n",
       "      <td>P47</td>\n",
       "      <td>Norfolk</td>\n",
       "      <td>Suffolk</td>\n",
       "      <td>[BLANK] shares the border with Suffolk.</td>\n",
       "      <td>Norfolk</td>\n",
       "      <td>Northern Cape province</td>\n",
       "    </tr>\n",
       "    <tr>\n",
       "      <th>3</th>\n",
       "      <td>3</td>\n",
       "      <td>1</td>\n",
       "      <td>P47</td>\n",
       "      <td>Norfolk</td>\n",
       "      <td>Suffolk</td>\n",
       "      <td>[BLANK] shares its border with Suffolk.</td>\n",
       "      <td>Norfolk</td>\n",
       "      <td>Sunamganj District</td>\n",
       "    </tr>\n",
       "    <tr>\n",
       "      <th>4</th>\n",
       "      <td>4</td>\n",
       "      <td>1</td>\n",
       "      <td>P47</td>\n",
       "      <td>Norfolk</td>\n",
       "      <td>Suffolk</td>\n",
       "      <td>Norfolk shares a common border with [BLANK].</td>\n",
       "      <td>Suffolk</td>\n",
       "      <td>Anabar</td>\n",
       "    </tr>\n",
       "  </tbody>\n",
       "</table>\n",
       "</div>"
      ],
      "text/plain": [
       "   id  fact_id relation  subject   object  \\\n",
       "0   0        1      P47  Norfolk  Suffolk   \n",
       "1   1        1      P47  Norfolk  Suffolk   \n",
       "2   2        1      P47  Norfolk  Suffolk   \n",
       "3   3        1      P47  Norfolk  Suffolk   \n",
       "4   4        1      P47  Norfolk  Suffolk   \n",
       "\n",
       "                                           stem     true  \\\n",
       "0           Norfolk shares border with [BLANK].  Suffolk   \n",
       "1                 Norfolk borders with [BLANK].  Suffolk   \n",
       "2       [BLANK] shares the border with Suffolk.  Norfolk   \n",
       "3       [BLANK] shares its border with Suffolk.  Norfolk   \n",
       "4  Norfolk shares a common border with [BLANK].  Suffolk   \n",
       "\n",
       "                     false  \n",
       "0  Upper Macungie Township  \n",
       "1                   Vadena  \n",
       "2   Northern Cape province  \n",
       "3       Sunamganj District  \n",
       "4                   Anabar  "
      ]
     },
     "execution_count": 10,
     "metadata": {},
     "output_type": "execute_result"
    }
   ],
   "source": [
    "# full df\n",
    "trex_df.head()"
   ]
  },
  {
   "cell_type": "code",
   "execution_count": 11,
   "metadata": {},
   "outputs": [
    {
     "data": {
      "text/plain": [
       "(143000, 8)"
      ]
     },
     "execution_count": 11,
     "metadata": {},
     "output_type": "execute_result"
    }
   ],
   "source": [
    "trex_df.shape"
   ]
  },
  {
   "cell_type": "code",
   "execution_count": 12,
   "metadata": {},
   "outputs": [],
   "source": [
    "# write out initial df\n",
    "trex_df.to_json('../data/calinet_trex_full_data.json', orient='records', lines=True)"
   ]
  },
  {
   "cell_type": "code",
   "execution_count": 13,
   "metadata": {},
   "outputs": [
    {
     "name": "stdout",
     "output_type": "stream",
     "text": [
      "50451\n"
     ]
    }
   ],
   "source": [
    "# how many stems end in [BLANK]? -> 50451, or about 1/3.\n",
    "c = 0\n",
    "for stem in trex_df['stem']:\n",
    "    if stem.endswith(\"[BLANK].\"):\n",
    "        c+=1\n",
    "print(c)"
   ]
  },
  {
   "cell_type": "code",
   "execution_count": 14,
   "metadata": {},
   "outputs": [],
   "source": [
    "def check_for_causal_compatibility(stem):\n",
    "    return stem.endswith(\"[BLANK].\")"
   ]
  },
  {
   "cell_type": "code",
   "execution_count": 15,
   "metadata": {},
   "outputs": [],
   "source": [
    "def trim_stem(stem):\n",
    "    if stem.endswith(\"[BLANK].\"):\n",
    "        return stem[0: len(stem)-8]"
   ]
  },
  {
   "cell_type": "code",
   "execution_count": 16,
   "metadata": {},
   "outputs": [],
   "source": [
    "trex_causal_df = trex_df[trex_df.apply(lambda x: check_for_causal_compatibility(x.stem), axis=1)]"
   ]
  },
  {
   "cell_type": "code",
   "execution_count": 17,
   "metadata": {},
   "outputs": [],
   "source": [
    "trex_causal_df = trex_causal_df.copy()"
   ]
  },
  {
   "cell_type": "code",
   "execution_count": 18,
   "metadata": {},
   "outputs": [],
   "source": [
    "trimmed_stems = trex_causal_df.apply(lambda x: trim_stem(x.stem), axis=1)"
   ]
  },
  {
   "cell_type": "code",
   "execution_count": 19,
   "metadata": {},
   "outputs": [],
   "source": [
    "trex_causal_df['stem'] = list(trimmed_stems)"
   ]
  },
  {
   "cell_type": "code",
   "execution_count": 20,
   "metadata": {},
   "outputs": [],
   "source": [
    "# write out cleaned/formatted df\n",
    "trex_causal_df.to_json('../data/calinet_trex_causal_data.json', orient='records', lines=True)"
   ]
  },
  {
   "cell_type": "markdown",
   "metadata": {},
   "source": [
    "## Cache ROME counterfact data"
   ]
  },
  {
   "cell_type": "code",
   "execution_count": 4,
   "metadata": {},
   "outputs": [],
   "source": [
    "with open('../data/rome_counterfact_original/counterfact.json', 'r') as f:\n",
    "    data_rome = json.load(f)"
   ]
  },
  {
   "cell_type": "code",
   "execution_count": 5,
   "metadata": {},
   "outputs": [
    {
     "data": {
      "text/plain": [
       "21919"
      ]
     },
     "execution_count": 5,
     "metadata": {},
     "output_type": "execute_result"
    }
   ],
   "source": [
    "len(data_rome)"
   ]
  },
  {
   "cell_type": "code",
   "execution_count": 6,
   "metadata": {},
   "outputs": [],
   "source": [
    "data_rome_input_information = {}\n",
    "\n",
    "for i in range(len(data_rome)):\n",
    "    stem = data_rome[i]['requested_rewrite']['prompt'].replace('{}', data_rome[i]['requested_rewrite']['subject'])\n",
    "    \n",
    "    data_rome_input_information[str(i)] = {\n",
    "        \"stem\": stem,\n",
    "        \"true\": data_rome[i]['requested_rewrite']['target_true']['str'],\n",
    "        \"false\": [data_rome[i]['requested_rewrite']['target_new']['str']],\n",
    "        \"case_id\":  data_rome[i]['case_id']\n",
    "    }"
   ]
  },
  {
   "cell_type": "code",
   "execution_count": null,
   "metadata": {},
   "outputs": [],
   "source": [
    "data_rome_input_information"
   ]
  },
  {
   "cell_type": "code",
   "execution_count": 8,
   "metadata": {},
   "outputs": [],
   "source": [
    "with open(\n",
    "    f\"../data/rome_counterfact_input_information.json\", \"w\"\n",
    ") as outfile:\n",
    "    json.dump(data_rome_input_information, outfile)"
   ]
  },
  {
   "cell_type": "code",
   "execution_count": null,
   "metadata": {},
   "outputs": [],
   "source": []
  }
 ],
 "metadata": {
  "interpreter": {
   "hash": "301faebbd5cea7fd4466786a19f1bea9d8baf657aaca95ef39840c46b8697603"
  },
  "kernelspec": {
   "display_name": "Python 3 (ipykernel)",
   "language": "python",
   "name": "python3"
  },
  "language_info": {
   "codemirror_mode": {
    "name": "ipython",
    "version": 3
   },
   "file_extension": ".py",
   "mimetype": "text/x-python",
   "name": "python",
   "nbconvert_exporter": "python",
   "pygments_lexer": "ipython3",
   "version": "3.8.8"
  }
 },
 "nbformat": 4,
 "nbformat_minor": 2
}
