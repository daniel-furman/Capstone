{
 "cells": [
  {
   "cell_type": "code",
   "execution_count": 1,
   "metadata": {},
   "outputs": [],
   "source": [
    "import json"
   ]
  },
  {
   "cell_type": "code",
   "execution_count": 2,
   "metadata": {},
   "outputs": [],
   "source": [
    "with open('../data/calinet_probing_data_original/probing_data_trex_500each.json', 'r') as f:\n",
    "    data_calinet = json.load(f)"
   ]
  },
  {
   "cell_type": "code",
   "execution_count": 3,
   "metadata": {},
   "outputs": [
    {
     "data": {
      "text/plain": [
       "{'fact_id': 1,\n",
       " 'relation': 'P47',\n",
       " 'triplet': {'sub_label': 'Norfolk', 'obj_label': 'Suffolk'},\n",
       " 'sentences': [['Norfolk shares border with <extra_id_0>.',\n",
       "   '<extra_id_0> Suffolk <extra_id_1>',\n",
       "   '<extra_id_0> Upper Macungie Township <extra_id_1>'],\n",
       "  ['Norfolk borders with <extra_id_0>.',\n",
       "   '<extra_id_0> Suffolk <extra_id_1>',\n",
       "   '<extra_id_0> Vadena <extra_id_1>'],\n",
       "  ['<extra_id_0> shares the border with Suffolk.',\n",
       "   '<extra_id_0> Norfolk <extra_id_1>',\n",
       "   '<extra_id_0> Northern Cape province <extra_id_1>'],\n",
       "  ['<extra_id_0> shares its border with Suffolk.',\n",
       "   '<extra_id_0> Norfolk <extra_id_1>',\n",
       "   '<extra_id_0> Sunamganj District <extra_id_1>'],\n",
       "  ['Norfolk shares a common border with <extra_id_0>.',\n",
       "   '<extra_id_0> Suffolk <extra_id_1>',\n",
       "   '<extra_id_0> Anabar <extra_id_1>'],\n",
       "  ['Suffolk borders with <extra_id_0>.',\n",
       "   '<extra_id_0> Norfolk <extra_id_1>',\n",
       "   '<extra_id_0> Riau <extra_id_1>'],\n",
       "  ['<extra_id_0> shares the border with Norfolk.',\n",
       "   '<extra_id_0> Suffolk <extra_id_1>',\n",
       "   '<extra_id_0> Pototan <extra_id_1>'],\n",
       "  ['Suffolk shares its border with <extra_id_0>.',\n",
       "   '<extra_id_0> Norfolk <extra_id_1>',\n",
       "   '<extra_id_0> Bologna <extra_id_1>'],\n",
       "  ['<extra_id_0> shares a common border with Norfolk.',\n",
       "   '<extra_id_0> Suffolk <extra_id_1>',\n",
       "   '<extra_id_0> Ouled Khodeïr <extra_id_1>']]}"
      ]
     },
     "execution_count": 3,
     "metadata": {},
     "output_type": "execute_result"
    }
   ],
   "source": [
    "data_calinet['data'][0]"
   ]
  },
  {
   "cell_type": "code",
   "execution_count": 5,
   "metadata": {},
   "outputs": [],
   "source": [
    "with open('../data/rome_counterfact_original/counterfact.json', 'r') as f:\n",
    "    data_rome = json.load(f)"
   ]
  },
  {
   "cell_type": "code",
   "execution_count": 6,
   "metadata": {},
   "outputs": [
    {
     "data": {
      "text/plain": [
       "{'case_id': 0,\n",
       " 'pararel_idx': 2796,\n",
       " 'requested_rewrite': {'prompt': 'The mother tongue of {} is',\n",
       "  'relation_id': 'P103',\n",
       "  'target_new': {'str': 'English', 'id': 'Q1860'},\n",
       "  'target_true': {'str': 'French', 'id': 'Q150'},\n",
       "  'subject': 'Danielle Darrieux'},\n",
       " 'paraphrase_prompts': ['Shayna does this and Yossel goes still and dies. Danielle Darrieux, a native',\n",
       "  'An album was recorded for Capitol Nashville but never released. Danielle Darrieux spoke the language'],\n",
       " 'neighborhood_prompts': ['The mother tongue of Léon Blum is',\n",
       "  'The native language of Montesquieu is',\n",
       "  'François Bayrou, a native',\n",
       "  'The native language of Raymond Barre is',\n",
       "  'Michel Rocard is a native speaker of',\n",
       "  'Jacques Chaban-Delmas is a native speaker of',\n",
       "  'The native language of François Bayrou is',\n",
       "  'Maurice Genevoix, speaker of',\n",
       "  'The mother tongue of François Bayrou is',\n",
       "  'Melchior de Vogüé, speaker of'],\n",
       " 'attribute_prompts': ['J.\\xa0R.\\xa0R. Tolkien is a native speaker of',\n",
       "  'The mother tongue of Douglas Adams is',\n",
       "  'The mother tongue of Paul McCartney is',\n",
       "  'Elvis Presley is a native speaker of',\n",
       "  'Barack Obama, speaker of',\n",
       "  'Douglas Adams, speaker of',\n",
       "  'Meryl Streep, a native',\n",
       "  'George Orwell spoke the language',\n",
       "  'George Washington, a native',\n",
       "  'Michael Jackson, a native'],\n",
       " 'generation_prompts': [\"Danielle Darrieux's mother tongue is\",\n",
       "  'Where Danielle Darrieux is from, people speak the language of',\n",
       "  \"Danielle Darrieux's mother tongue is\",\n",
       "  'Danielle Darrieux was born in',\n",
       "  \"Danielle Darrieux's mother tongue is\",\n",
       "  \"Danielle Darrieux's mother tongue is\",\n",
       "  'Danielle Darrieux was born in',\n",
       "  'Where Danielle Darrieux is from, people speak the language of',\n",
       "  'Danielle Darrieux was born in',\n",
       "  'Danielle Darrieux was born in']}"
      ]
     },
     "execution_count": 6,
     "metadata": {},
     "output_type": "execute_result"
    }
   ],
   "source": [
    "data_rome[0]"
   ]
  },
  {
   "cell_type": "code",
   "execution_count": null,
   "metadata": {},
   "outputs": [],
   "source": []
  }
 ],
 "metadata": {
  "interpreter": {
   "hash": "301faebbd5cea7fd4466786a19f1bea9d8baf657aaca95ef39840c46b8697603"
  },
  "kernelspec": {
   "display_name": "Python 3.8.8 64-bit ('base': conda)",
   "name": "python3"
  },
  "language_info": {
   "codemirror_mode": {
    "name": "ipython",
    "version": 3
   },
   "file_extension": ".py",
   "mimetype": "text/x-python",
   "name": "python",
   "nbconvert_exporter": "python",
   "pygments_lexer": "ipython3",
   "version": "3.8.8"
  },
  "orig_nbformat": 4
 },
 "nbformat": 4,
 "nbformat_minor": 2
}
