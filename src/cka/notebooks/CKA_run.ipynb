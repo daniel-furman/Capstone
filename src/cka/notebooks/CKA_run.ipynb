{
  "cells": [
    {
      "cell_type": "markdown",
      "metadata": {
        "id": "Am_Ubq6xTaBz"
      },
      "source": [
        "# Run contrastive knowledge assesment (CKA) notebook\n",
        "\n",
        "* See [Capstone Repo](https://github.com/daniel-furman/Capstone) for more details\n",
        "---"
      ]
    },
    {
      "cell_type": "markdown",
      "metadata": {
        "id": "uccv2X7WeJGv"
      },
      "source": [
        "## Dependencies"
      ]
    },
    {
      "cell_type": "code",
      "execution_count": 1,
      "metadata": {
        "colab": {
          "base_uri": "https://localhost:8080/"
        },
        "id": "A4gro-sOZz-O",
        "outputId": "498d174f-2ea8-4ca4-ed44-e2b86dd9ebe9"
      },
      "outputs": [
        {
          "output_type": "stream",
          "name": "stdout",
          "text": [
            "Cloning into 'Capstone'...\n",
            "remote: Enumerating objects: 147, done.\u001b[K\n",
            "remote: Counting objects: 100% (147/147), done.\u001b[K\n",
            "remote: Compressing objects: 100% (100/100), done.\u001b[K\n",
            "remote: Total 147 (delta 43), reused 128 (delta 25), pack-reused 0\u001b[K\n",
            "Receiving objects: 100% (147/147), 21.04 MiB | 4.67 MiB/s, done.\n",
            "Resolving deltas: 100% (43/43), done.\n"
          ]
        }
      ],
      "source": [
        "!git clone https://github.com/daniel-furman/Capstone.git"
      ]
    },
    {
      "cell_type": "code",
      "execution_count": 2,
      "metadata": {
        "colab": {
          "base_uri": "https://localhost:8080/"
        },
        "id": "qaXMJaroH_TI",
        "outputId": "30146df0-8adc-4080-9c53-5c1480dffd17"
      },
      "outputs": [
        {
          "output_type": "stream",
          "name": "stdout",
          "text": [
            "Looking in indexes: https://pypi.org/simple, https://us-python.pkg.dev/colab-wheels/public/simple/\n",
            "Requirement already satisfied: numpy==1.22.4 in /usr/local/lib/python3.9/dist-packages (from -r /content/Capstone/src/cka/scripts/requirements.txt (line 1)) (1.22.4)\n",
            "Requirement already satisfied: torch==1.13.1 in /usr/local/lib/python3.9/dist-packages (from -r /content/Capstone/src/cka/scripts/requirements.txt (line 2)) (1.13.1+cu116)\n",
            "Collecting transformers==4.26.1\n",
            "  Downloading transformers-4.26.1-py3-none-any.whl (6.3 MB)\n",
            "\u001b[2K     \u001b[90m━━━━━━━━━━━━━━━━━━━━━━━━━━━━━━━━━━━━━━━━\u001b[0m \u001b[32m6.3/6.3 MB\u001b[0m \u001b[31m55.2 MB/s\u001b[0m eta \u001b[36m0:00:00\u001b[0m\n",
            "\u001b[?25hCollecting sentencepiece==0.1.97\n",
            "  Downloading sentencepiece-0.1.97-cp39-cp39-manylinux_2_17_x86_64.manylinux2014_x86_64.whl (1.3 MB)\n",
            "\u001b[2K     \u001b[90m━━━━━━━━━━━━━━━━━━━━━━━━━━━━━━━━━━━━━━━━\u001b[0m \u001b[32m1.3/1.3 MB\u001b[0m \u001b[31m7.2 MB/s\u001b[0m eta \u001b[36m0:00:00\u001b[0m\n",
            "\u001b[?25hCollecting accelerate==0.16.0\n",
            "  Downloading accelerate-0.16.0-py3-none-any.whl (199 kB)\n",
            "\u001b[2K     \u001b[90m━━━━━━━━━━━━━━━━━━━━━━━━━━━━━━━━━━━━━━\u001b[0m \u001b[32m199.7/199.7 KB\u001b[0m \u001b[31m10.8 MB/s\u001b[0m eta \u001b[36m0:00:00\u001b[0m\n",
            "\u001b[?25hCollecting bitsandbytes==0.37.0\n",
            "  Downloading bitsandbytes-0.37.0-py3-none-any.whl (76.3 MB)\n",
            "\u001b[2K     \u001b[90m━━━━━━━━━━━━━━━━━━━━━━━━━━━━━━━━━━━━━━━━\u001b[0m \u001b[32m76.3/76.3 MB\u001b[0m \u001b[31m11.7 MB/s\u001b[0m eta \u001b[36m0:00:00\u001b[0m\n",
            "\u001b[?25hRequirement already satisfied: typing-extensions in /usr/local/lib/python3.9/dist-packages (from torch==1.13.1->-r /content/Capstone/src/cka/scripts/requirements.txt (line 2)) (4.5.0)\n",
            "Requirement already satisfied: filelock in /usr/local/lib/python3.9/dist-packages (from transformers==4.26.1->-r /content/Capstone/src/cka/scripts/requirements.txt (line 3)) (3.9.0)\n",
            "Requirement already satisfied: requests in /usr/local/lib/python3.9/dist-packages (from transformers==4.26.1->-r /content/Capstone/src/cka/scripts/requirements.txt (line 3)) (2.25.1)\n",
            "Collecting tokenizers!=0.11.3,<0.14,>=0.11.1\n",
            "  Downloading tokenizers-0.13.2-cp39-cp39-manylinux_2_17_x86_64.manylinux2014_x86_64.whl (7.6 MB)\n",
            "\u001b[2K     \u001b[90m━━━━━━━━━━━━━━━━━━━━━━━━━━━━━━━━━━━━━━━━\u001b[0m \u001b[32m7.6/7.6 MB\u001b[0m \u001b[31m93.6 MB/s\u001b[0m eta \u001b[36m0:00:00\u001b[0m\n",
            "\u001b[?25hRequirement already satisfied: packaging>=20.0 in /usr/local/lib/python3.9/dist-packages (from transformers==4.26.1->-r /content/Capstone/src/cka/scripts/requirements.txt (line 3)) (23.0)\n",
            "Requirement already satisfied: regex!=2019.12.17 in /usr/local/lib/python3.9/dist-packages (from transformers==4.26.1->-r /content/Capstone/src/cka/scripts/requirements.txt (line 3)) (2022.6.2)\n",
            "Collecting huggingface-hub<1.0,>=0.11.0\n",
            "  Downloading huggingface_hub-0.13.0-py3-none-any.whl (199 kB)\n",
            "\u001b[2K     \u001b[90m━━━━━━━━━━━━━━━━━━━━━━━━━━━━━━━━━━━━━━\u001b[0m \u001b[32m199.1/199.1 KB\u001b[0m \u001b[31m22.4 MB/s\u001b[0m eta \u001b[36m0:00:00\u001b[0m\n",
            "\u001b[?25hRequirement already satisfied: pyyaml>=5.1 in /usr/local/lib/python3.9/dist-packages (from transformers==4.26.1->-r /content/Capstone/src/cka/scripts/requirements.txt (line 3)) (6.0)\n",
            "Requirement already satisfied: tqdm>=4.27 in /usr/local/lib/python3.9/dist-packages (from transformers==4.26.1->-r /content/Capstone/src/cka/scripts/requirements.txt (line 3)) (4.65.0)\n",
            "Requirement already satisfied: psutil in /usr/local/lib/python3.9/dist-packages (from accelerate==0.16.0->-r /content/Capstone/src/cka/scripts/requirements.txt (line 5)) (5.4.8)\n",
            "Requirement already satisfied: certifi>=2017.4.17 in /usr/local/lib/python3.9/dist-packages (from requests->transformers==4.26.1->-r /content/Capstone/src/cka/scripts/requirements.txt (line 3)) (2022.12.7)\n",
            "Requirement already satisfied: urllib3<1.27,>=1.21.1 in /usr/local/lib/python3.9/dist-packages (from requests->transformers==4.26.1->-r /content/Capstone/src/cka/scripts/requirements.txt (line 3)) (1.26.14)\n",
            "Requirement already satisfied: idna<3,>=2.5 in /usr/local/lib/python3.9/dist-packages (from requests->transformers==4.26.1->-r /content/Capstone/src/cka/scripts/requirements.txt (line 3)) (2.10)\n",
            "Requirement already satisfied: chardet<5,>=3.0.2 in /usr/local/lib/python3.9/dist-packages (from requests->transformers==4.26.1->-r /content/Capstone/src/cka/scripts/requirements.txt (line 3)) (4.0.0)\n",
            "Installing collected packages: tokenizers, sentencepiece, bitsandbytes, huggingface-hub, accelerate, transformers\n",
            "Successfully installed accelerate-0.16.0 bitsandbytes-0.37.0 huggingface-hub-0.13.0 sentencepiece-0.1.97 tokenizers-0.13.2 transformers-4.26.1\n"
          ]
        }
      ],
      "source": [
        "!pip install -r /content/Capstone/src/cka/scripts/requirements.txt"
      ]
    },
    {
      "cell_type": "markdown",
      "metadata": {
        "id": "3yjnEaRtKd8L"
      },
      "source": [
        "## Imports"
      ]
    },
    {
      "cell_type": "code",
      "execution_count": 3,
      "metadata": {
        "id": "IJQImaEDTRMr"
      },
      "outputs": [],
      "source": [
        "import os"
      ]
    },
    {
      "cell_type": "code",
      "execution_count": 4,
      "metadata": {
        "id": "0jQTcgbNk-iA"
      },
      "outputs": [],
      "source": [
        "os.chdir('/content/Capstone/src/cka/scripts')"
      ]
    },
    {
      "cell_type": "markdown",
      "metadata": {
        "id": "j6lqNVBmhW-g"
      },
      "source": [
        "## CLI usage"
      ]
    },
    {
      "cell_type": "code",
      "execution_count": 5,
      "metadata": {
        "colab": {
          "base_uri": "https://localhost:8080/"
        },
        "id": "yP8xlKDGTku-",
        "outputId": "ee7cde17-d528-47bb-af33-27d779f1d587"
      },
      "outputs": [
        {
          "output_type": "stream",
          "name": "stdout",
          "text": [
            "2023-03-08 21:19:20.315637: I tensorflow/core/platform/cpu_feature_guard.cc:193] This TensorFlow binary is optimized with oneAPI Deep Neural Network Library (oneDNN) to use the following CPU instructions in performance-critical operations:  AVX2 AVX512F FMA\n",
            "To enable them in other operations, rebuild TensorFlow with the appropriate compiler flags.\n",
            "2023-03-08 21:19:21.227326: W tensorflow/compiler/xla/stream_executor/platform/default/dso_loader.cc:64] Could not load dynamic library 'libnvinfer.so.7'; dlerror: libnvinfer.so.7: cannot open shared object file: No such file or directory; LD_LIBRARY_PATH: /usr/lib64-nvidia\n",
            "2023-03-08 21:19:21.227446: W tensorflow/compiler/xla/stream_executor/platform/default/dso_loader.cc:64] Could not load dynamic library 'libnvinfer_plugin.so.7'; dlerror: libnvinfer_plugin.so.7: cannot open shared object file: No such file or directory; LD_LIBRARY_PATH: /usr/lib64-nvidia\n",
            "2023-03-08 21:19:21.227468: W tensorflow/compiler/tf2tensorrt/utils/py_utils.cc:38] TF-TRT Warning: Cannot dlopen some TensorRT libraries. If you would like to use Nvidia GPU with TensorRT, please make sure the missing libraries mentioned above are installed properly.\n",
            "CKA for google/flan-t5-small\n",
            "Loading  model...\n",
            "Downloading spiece.model: 100% 792k/792k [00:00<00:00, 25.2MB/s]\n",
            "Downloading (…)cial_tokens_map.json: 100% 2.20k/2.20k [00:00<00:00, 183kB/s]\n",
            "Downloading (…)okenizer_config.json: 100% 2.54k/2.54k [00:00<00:00, 895kB/s]\n",
            "Downloading (…)lve/main/config.json: 100% 1.40k/1.40k [00:00<00:00, 245kB/s]\n",
            "Downloading pytorch_model.bin: 100% 308M/308M [00:01<00:00, 169MB/s]\n",
            "\n",
            "===================================BUG REPORT===================================\n",
            "Welcome to bitsandbytes. For bug reports, please submit your error trace to: https://github.com/TimDettmers/bitsandbytes/issues\n",
            "================================================================================\n",
            "Downloading (…)neration_config.json: 100% 147/147 [00:00<00:00, 53.9kB/s]\n",
            "Running comparisons...\n",
            "Done\n",
            "\n",
            "CKA for google/flan-t5-base\n",
            "Loading  model...\n",
            "Downloading spiece.model: 100% 792k/792k [00:00<00:00, 28.0MB/s]\n",
            "Downloading (…)cial_tokens_map.json: 100% 2.20k/2.20k [00:00<00:00, 933kB/s]\n",
            "Downloading (…)okenizer_config.json: 100% 2.54k/2.54k [00:00<00:00, 954kB/s]\n",
            "Downloading (…)lve/main/config.json: 100% 1.40k/1.40k [00:00<00:00, 499kB/s]\n",
            "Downloading pytorch_model.bin: 100% 990M/990M [00:09<00:00, 107MB/s]\n",
            "Downloading (…)neration_config.json: 100% 147/147 [00:00<00:00, 57.8kB/s]\n",
            "Running comparisons...\n",
            "Done\n",
            "\n",
            "CKA for google/flan-t5-large\n",
            "Loading  model...\n",
            "Downloading spiece.model: 100% 792k/792k [00:00<00:00, 37.9MB/s]\n",
            "Downloading (…)cial_tokens_map.json: 100% 2.20k/2.20k [00:00<00:00, 754kB/s]\n",
            "Downloading (…)okenizer_config.json: 100% 2.54k/2.54k [00:00<00:00, 841kB/s]\n",
            "Downloading (…)lve/main/config.json: 100% 662/662 [00:00<00:00, 217kB/s]\n",
            "Downloading pytorch_model.bin: 100% 3.13G/3.13G [00:47<00:00, 65.3MB/s]\n",
            "Downloading (…)neration_config.json: 100% 147/147 [00:00<00:00, 50.2kB/s]\n",
            "Running comparisons...\n",
            "Done\n",
            "\n",
            "\n",
            "Score dict full:\n",
            "{'google/flan-t5-small: The 2020 Olympics were held in <extra_id_0>.': {'p_true': 3.46e-06, 'p_false': 3.5762786865234375e-07, 'p_true - p_false': 3.0994415283203125e-06, 'p_true > p_false': True}, 'google/flan-t5-small: Operation Overlord took place in <extra_id_0>.': {'p_true': 2.06e-05, 'p_false': 1.0728836059570312e-06, 'p_true - p_false': 1.9550323486328125e-05, 'p_true > p_false': True}, 'google/flan-t5-small: Steve Jobs is the founder of <extra_id_0>.': {'p_true': 0.0005684, 'p_false': 1.8715858459472656e-05, 'p_true - p_false': 0.0005496740341186523, 'p_true > p_false': True}, 'google/flan-t5-base: The 2020 Olympics were held in <extra_id_0>.': {'p_true': 2.35e-05, 'p_false': 1.3113021850585938e-06, 'p_true - p_false': 2.2172927856445312e-05, 'p_true > p_false': True}, 'google/flan-t5-base: Operation Overlord took place in <extra_id_0>.': {'p_true': 8.8e-06, 'p_false': 6.556510925292969e-07, 'p_true - p_false': 8.165836334228516e-06, 'p_true > p_false': True}, 'google/flan-t5-base: Steve Jobs is the founder of <extra_id_0>.': {'p_true': 0.001665, 'p_false': 0.000629425048828125, 'p_true - p_false': 0.0010356903076171875, 'p_true > p_false': True}, 'google/flan-t5-large: The 2020 Olympics were held in <extra_id_0>.': {'p_true': 0.004585, 'p_false': 0.0002827644348144531, 'p_true - p_false': 0.004302501678466797, 'p_true > p_false': True}, 'google/flan-t5-large: Operation Overlord took place in <extra_id_0>.': {'p_true': 3.165e-05, 'p_false': 1.245737075805664e-05, 'p_true - p_false': 1.919269561767578e-05, 'p_true > p_false': True}, 'google/flan-t5-large: Steve Jobs is the founder of <extra_id_0>.': {'p_true': 0.00808, 'p_false': 2.205371856689453e-06, 'p_true - p_false': 0.00807732343673706, 'p_true > p_false': True}}\n",
            "\n",
            "Score dict succinct:\n",
            "{'google/flan-t5-small: The 2020 Olympics were held in <extra_id_0>.': {'p_true > p_false': True}, 'google/flan-t5-small: Operation Overlord took place in <extra_id_0>.': {'p_true > p_false': True}, 'google/flan-t5-small: Steve Jobs is the founder of <extra_id_0>.': {'p_true > p_false': True}, 'google/flan-t5-base: The 2020 Olympics were held in <extra_id_0>.': {'p_true > p_false': True}, 'google/flan-t5-base: Operation Overlord took place in <extra_id_0>.': {'p_true > p_false': True}, 'google/flan-t5-base: Steve Jobs is the founder of <extra_id_0>.': {'p_true > p_false': True}, 'google/flan-t5-large: The 2020 Olympics were held in <extra_id_0>.': {'p_true > p_false': True}, 'google/flan-t5-large: Operation Overlord took place in <extra_id_0>.': {'p_true > p_false': True}, 'google/flan-t5-large: Steve Jobs is the founder of <extra_id_0>.': {'p_true > p_false': True}}\n"
          ]
        }
      ],
      "source": [
        "!python run_cka.py configs.flan_v0"
      ]
    },
    {
      "cell_type": "code",
      "execution_count": 6,
      "metadata": {
        "colab": {
          "base_uri": "https://localhost:8080/"
        },
        "id": "-qB6RpDTZsJC",
        "outputId": "f763b890-6da3-4bd2-9c11-29ab25240a2a"
      },
      "outputs": [
        {
          "output_type": "stream",
          "name": "stdout",
          "text": [
            "2023-03-08 21:21:08.544732: I tensorflow/core/platform/cpu_feature_guard.cc:193] This TensorFlow binary is optimized with oneAPI Deep Neural Network Library (oneDNN) to use the following CPU instructions in performance-critical operations:  AVX2 AVX512F FMA\n",
            "To enable them in other operations, rebuild TensorFlow with the appropriate compiler flags.\n",
            "2023-03-08 21:21:10.475870: W tensorflow/compiler/xla/stream_executor/platform/default/dso_loader.cc:64] Could not load dynamic library 'libnvinfer.so.7'; dlerror: libnvinfer.so.7: cannot open shared object file: No such file or directory; LD_LIBRARY_PATH: /usr/lib64-nvidia\n",
            "2023-03-08 21:21:10.476891: W tensorflow/compiler/xla/stream_executor/platform/default/dso_loader.cc:64] Could not load dynamic library 'libnvinfer_plugin.so.7'; dlerror: libnvinfer_plugin.so.7: cannot open shared object file: No such file or directory; LD_LIBRARY_PATH: /usr/lib64-nvidia\n",
            "2023-03-08 21:21:10.476916: W tensorflow/compiler/tf2tensorrt/utils/py_utils.cc:38] TF-TRT Warning: Cannot dlopen some TensorRT libraries. If you would like to use Nvidia GPU with TensorRT, please make sure the missing libraries mentioned above are installed properly.\n",
            "CKA for distilgpt2\n",
            "Loading  model...\n",
            "Downloading (…)lve/main/config.json: 100% 762/762 [00:00<00:00, 109kB/s]\n",
            "Downloading (…)olve/main/vocab.json: 100% 1.04M/1.04M [00:00<00:00, 2.40MB/s]\n",
            "Downloading (…)olve/main/merges.txt: 100% 456k/456k [00:00<00:00, 1.06MB/s]\n",
            "Downloading (…)/main/tokenizer.json: 100% 1.36M/1.36M [00:00<00:00, 3.14MB/s]\n",
            "Downloading pytorch_model.bin: 100% 353M/353M [00:03<00:00, 94.7MB/s]\n",
            "\n",
            "===================================BUG REPORT===================================\n",
            "Welcome to bitsandbytes. For bug reports, please submit your error trace to: https://github.com/TimDettmers/bitsandbytes/issues\n",
            "================================================================================\n",
            "Downloading (…)neration_config.json: 100% 124/124 [00:00<00:00, 54.8kB/s]\n",
            "Running comparisons...\n",
            "Done\n",
            "\n",
            "CKA for gpt2\n",
            "Loading  model...\n",
            "Downloading (…)lve/main/config.json: 100% 665/665 [00:00<00:00, 106kB/s]\n",
            "Downloading (…)olve/main/vocab.json: 100% 1.04M/1.04M [00:00<00:00, 2.42MB/s]\n",
            "Downloading (…)olve/main/merges.txt: 100% 456k/456k [00:00<00:00, 1.32MB/s]\n",
            "Downloading (…)/main/tokenizer.json: 100% 1.36M/1.36M [00:00<00:00, 3.12MB/s]\n",
            "Downloading pytorch_model.bin: 100% 548M/548M [00:04<00:00, 130MB/s]\n",
            "Downloading (…)neration_config.json: 100% 124/124 [00:00<00:00, 52.7kB/s]\n",
            "Running comparisons...\n",
            "Done\n",
            "\n",
            "CKA for gpt2-medium\n",
            "Loading  model...\n",
            "Downloading (…)lve/main/config.json: 100% 718/718 [00:00<00:00, 278kB/s]\n",
            "Downloading (…)olve/main/vocab.json: 100% 1.04M/1.04M [00:00<00:00, 2.42MB/s]\n",
            "Downloading (…)olve/main/merges.txt: 100% 456k/456k [00:00<00:00, 1.31MB/s]\n",
            "Downloading (…)/main/tokenizer.json: 100% 1.36M/1.36M [00:00<00:00, 3.12MB/s]\n",
            "Downloading pytorch_model.bin: 100% 1.52G/1.52G [00:17<00:00, 89.3MB/s]\n",
            "Downloading (…)neration_config.json: 100% 124/124 [00:00<00:00, 55.4kB/s]\n",
            "Running comparisons...\n",
            "Done\n",
            "\n",
            "CKA for gpt2-large\n",
            "Loading  model...\n",
            "Downloading (…)lve/main/config.json: 100% 666/666 [00:00<00:00, 298kB/s]\n",
            "Downloading (…)olve/main/vocab.json: 100% 1.04M/1.04M [00:00<00:00, 2.41MB/s]\n",
            "Downloading (…)olve/main/merges.txt: 100% 456k/456k [00:00<00:00, 1.32MB/s]\n",
            "Downloading (…)/main/tokenizer.json: 100% 1.36M/1.36M [00:00<00:00, 3.16MB/s]\n",
            "Downloading pytorch_model.bin: 100% 3.25G/3.25G [00:14<00:00, 230MB/s]\n",
            "Downloading (…)neration_config.json: 100% 124/124 [00:00<00:00, 53.3kB/s]\n",
            "Running comparisons...\n",
            "Done\n",
            "\n",
            "\n",
            "Score dict full:\n",
            "{'distilgpt2: The 2020 Olympics were held in': {'p_true': 4e-07, 'p_false': 5.960464477539063e-08, 'p_true - p_false': 3.5762786865234375e-07, 'p_true > p_false': True}, 'distilgpt2: Operation Overlord took place in': {'p_true': 0.0, 'p_false': 1.1920928955078125e-07, 'p_true - p_false': -1.1920928955078125e-07, 'p_true > p_false': False}, 'distilgpt2: Steve Jobs is the founder of': {'p_true': 9.36e-06, 'p_false': 6.258487701416016e-06, 'p_true - p_false': 3.0994415283203125e-06, 'p_true > p_false': True}, 'gpt2: The 2020 Olympics were held in': {'p_true': 1.2e-06, 'p_false': 5.960464477539063e-08, 'p_true - p_false': 1.1324882507324219e-06, 'p_true > p_false': True}, 'gpt2: Operation Overlord took place in': {'p_true': 0.0, 'p_false': 5.960464477539063e-08, 'p_true - p_false': -5.960464477539063e-08, 'p_true > p_false': False}, 'gpt2: Steve Jobs is the founder of': {'p_true': 9.114e-05, 'p_false': 1.3113021850585938e-05, 'p_true - p_false': 7.802248001098633e-05, 'p_true > p_false': True}, 'gpt2-medium: The 2020 Olympics were held in': {'p_true': 4.42e-05, 'p_false': 5.960464477539063e-08, 'p_true - p_false': 4.416704177856445e-05, 'p_true > p_false': True}, 'gpt2-medium: Operation Overlord took place in': {'p_true': 0.0, 'p_false': 5.960464477539063e-08, 'p_true - p_false': -5.960464477539063e-08, 'p_true > p_false': False}, 'gpt2-medium: Steve Jobs is the founder of': {'p_true': 2.646e-05, 'p_false': 5.960464477539063e-08, 'p_true - p_false': 2.6404857635498047e-05, 'p_true > p_false': True}, 'gpt2-large: The 2020 Olympics were held in': {'p_true': 2.99e-05, 'p_false': 0.0, 'p_true - p_false': 2.9921531677246094e-05, 'p_true > p_false': True}, 'gpt2-large: Operation Overlord took place in': {'p_true': 6e-08, 'p_false': 1.7881393432617188e-07, 'p_true - p_false': -1.1920928955078125e-07, 'p_true > p_false': False}, 'gpt2-large: Steve Jobs is the founder of': {'p_true': 9.38e-05, 'p_false': 1.1920928955078125e-07, 'p_true - p_false': 9.369850158691406e-05, 'p_true > p_false': True}}\n",
            "\n",
            "Score dict succinct:\n",
            "{'distilgpt2: The 2020 Olympics were held in': {'p_true > p_false': True}, 'distilgpt2: Operation Overlord took place in': {'p_true > p_false': False}, 'distilgpt2: Steve Jobs is the founder of': {'p_true > p_false': True}, 'gpt2: The 2020 Olympics were held in': {'p_true > p_false': True}, 'gpt2: Operation Overlord took place in': {'p_true > p_false': False}, 'gpt2: Steve Jobs is the founder of': {'p_true > p_false': True}, 'gpt2-medium: The 2020 Olympics were held in': {'p_true > p_false': True}, 'gpt2-medium: Operation Overlord took place in': {'p_true > p_false': False}, 'gpt2-medium: Steve Jobs is the founder of': {'p_true > p_false': True}, 'gpt2-large: The 2020 Olympics were held in': {'p_true > p_false': True}, 'gpt2-large: Operation Overlord took place in': {'p_true > p_false': False}, 'gpt2-large: Steve Jobs is the founder of': {'p_true > p_false': True}}\n"
          ]
        }
      ],
      "source": [
        "!python run_cka.py configs.gpt2_v0"
      ]
    },
    {
      "cell_type": "code",
      "execution_count": 7,
      "metadata": {
        "id": "AvAcClqXEtgB",
        "colab": {
          "base_uri": "https://localhost:8080/"
        },
        "outputId": "e9c6ab57-df06-4678-eb11-2ea1d7463ce9"
      },
      "outputs": [
        {
          "output_type": "stream",
          "name": "stdout",
          "text": [
            "2023-03-08 21:23:52.706106: I tensorflow/core/platform/cpu_feature_guard.cc:193] This TensorFlow binary is optimized with oneAPI Deep Neural Network Library (oneDNN) to use the following CPU instructions in performance-critical operations:  AVX2 AVX512F FMA\n",
            "To enable them in other operations, rebuild TensorFlow with the appropriate compiler flags.\n",
            "2023-03-08 21:23:55.889209: W tensorflow/compiler/xla/stream_executor/platform/default/dso_loader.cc:64] Could not load dynamic library 'libnvinfer.so.7'; dlerror: libnvinfer.so.7: cannot open shared object file: No such file or directory; LD_LIBRARY_PATH: /usr/lib64-nvidia\n",
            "2023-03-08 21:23:55.889756: W tensorflow/compiler/xla/stream_executor/platform/default/dso_loader.cc:64] Could not load dynamic library 'libnvinfer_plugin.so.7'; dlerror: libnvinfer_plugin.so.7: cannot open shared object file: No such file or directory; LD_LIBRARY_PATH: /usr/lib64-nvidia\n",
            "2023-03-08 21:23:55.889783: W tensorflow/compiler/tf2tensorrt/utils/py_utils.cc:38] TF-TRT Warning: Cannot dlopen some TensorRT libraries. If you would like to use Nvidia GPU with TensorRT, please make sure the missing libraries mentioned above are installed properly.\n",
            "CKA for bert-base-uncased\n",
            "Loading  model...\n",
            "Downloading (…)okenizer_config.json: 100% 28.0/28.0 [00:00<00:00, 4.33kB/s]\n",
            "Downloading (…)lve/main/config.json: 100% 570/570 [00:00<00:00, 62.2kB/s]\n",
            "Downloading (…)solve/main/vocab.txt: 100% 232k/232k [00:00<00:00, 889kB/s]\n",
            "Downloading (…)/main/tokenizer.json: 100% 466k/466k [00:00<00:00, 1.35MB/s]\n",
            "Downloading pytorch_model.bin: 100% 440M/440M [00:01<00:00, 224MB/s]\n",
            "Some weights of the model checkpoint at bert-base-uncased were not used when initializing BertForMaskedLM: ['cls.seq_relationship.weight', 'cls.seq_relationship.bias']\n",
            "- This IS expected if you are initializing BertForMaskedLM from the checkpoint of a model trained on another task or with another architecture (e.g. initializing a BertForSequenceClassification model from a BertForPreTraining model).\n",
            "- This IS NOT expected if you are initializing BertForMaskedLM from the checkpoint of a model that you expect to be exactly identical (initializing a BertForSequenceClassification model from a BertForSequenceClassification model).\n",
            "Running comparisons...\n",
            "Done\n",
            "\n",
            "CKA for bert-large-uncased\n",
            "Loading  model...\n",
            "Downloading (…)okenizer_config.json: 100% 28.0/28.0 [00:00<00:00, 4.49kB/s]\n",
            "Downloading (…)lve/main/config.json: 100% 571/571 [00:00<00:00, 204kB/s]\n",
            "Downloading (…)solve/main/vocab.txt: 100% 232k/232k [00:00<00:00, 890kB/s]\n",
            "Downloading (…)/main/tokenizer.json: 100% 466k/466k [00:00<00:00, 1.34MB/s]\n",
            "Downloading pytorch_model.bin: 100% 1.34G/1.34G [00:06<00:00, 203MB/s]\n",
            "Some weights of the model checkpoint at bert-large-uncased were not used when initializing BertForMaskedLM: ['cls.seq_relationship.weight', 'cls.seq_relationship.bias']\n",
            "- This IS expected if you are initializing BertForMaskedLM from the checkpoint of a model trained on another task or with another architecture (e.g. initializing a BertForSequenceClassification model from a BertForPreTraining model).\n",
            "- This IS NOT expected if you are initializing BertForMaskedLM from the checkpoint of a model that you expect to be exactly identical (initializing a BertForSequenceClassification model from a BertForSequenceClassification model).\n",
            "Running comparisons...\n",
            "Done\n",
            "\n",
            "\n",
            "Score dict full:\n",
            "{'bert-base-uncased: The 2020 Olympics were held in [MASK].': {'p_true': 0.7124, 'p_false': 0.0009756088256835938, 'p_true - p_false': 0.7114267349243164, 'p_true > p_false': True}, 'bert-base-uncased: Operation Overlord took place in [MASK].': {'p_true': 0.01952, 'p_false': 1.3828277587890625e-05, 'p_true - p_false': 0.01950216293334961, 'p_true > p_false': True}, 'bert-base-uncased: Steve Jobs is the founder of [MASK].': {'p_true': 0.2837, 'p_false': 0.10113525390625, 'p_true - p_false': 0.18255615234375, 'p_true > p_false': True}, 'bert-large-uncased: The 2020 Olympics were held in [MASK].': {'p_true': 0.1373, 'p_false': 0.0032291412353515625, 'p_true - p_false': 0.13409996032714844, 'p_true > p_false': True}, 'bert-large-uncased: Operation Overlord took place in [MASK].': {'p_true': 0.0935, 'p_false': 2.7418136596679688e-06, 'p_true - p_false': 0.09350311756134033, 'p_true > p_false': True}, 'bert-large-uncased: Steve Jobs is the founder of [MASK].': {'p_true': 0.276, 'p_false': 0.027099609375, 'p_true - p_false': 0.248779296875, 'p_true > p_false': True}}\n",
            "\n",
            "Score dict succinct:\n",
            "{'bert-base-uncased: The 2020 Olympics were held in [MASK].': {'p_true > p_false': True}, 'bert-base-uncased: Operation Overlord took place in [MASK].': {'p_true > p_false': True}, 'bert-base-uncased: Steve Jobs is the founder of [MASK].': {'p_true > p_false': True}, 'bert-large-uncased: The 2020 Olympics were held in [MASK].': {'p_true > p_false': True}, 'bert-large-uncased: Operation Overlord took place in [MASK].': {'p_true > p_false': True}, 'bert-large-uncased: Steve Jobs is the founder of [MASK].': {'p_true > p_false': True}}\n"
          ]
        }
      ],
      "source": [
        "!python run_cka.py configs.bert_v0"
      ]
    },
    {
      "cell_type": "markdown",
      "metadata": {
        "id": "8WXwAZfHMgAY"
      },
      "source": [
        "## Notebook usage"
      ]
    },
    {
      "cell_type": "code",
      "execution_count": 8,
      "metadata": {
        "id": "GVCMUZJXV0mq"
      },
      "outputs": [],
      "source": [
        "from run_cka import main"
      ]
    },
    {
      "cell_type": "markdown",
      "metadata": {
        "id": "_4FP9EpRc7H1"
      },
      "source": [
        "### Google/flans"
      ]
    },
    {
      "cell_type": "code",
      "execution_count": 21,
      "metadata": {
        "id": "13NVylxhao2Y"
      },
      "outputs": [],
      "source": [
        "config = {\n",
        "    \"models\": [\n",
        "        \"google/flan-t5-small\",  # 80M params\n",
        "        # \"google/flan-t5-base\",  # 250M params\n",
        "        # \"google/flan-t5-large\",  # 780M params\n",
        "        # \"google/flan-t5-xl\",  # 3B params\n",
        "        # \"google/flan-t5-xxl\",  # 11B params\n",
        "        # \"google/flan-ul2\",  # 20B params\n",
        "    ],\n",
        "    \"input_information\": {\n",
        "        \"The 2020 Olympics were held in\": [\"Tokyo\", \"Berlin\"],\n",
        "        \"Operation Overlord took place in\": [\"Normandy\", \"Manila\"],\n",
        "        \"Steve Jobs is the founder of\": [\"Apple\", \"Microsoft\"],\n",
        "    },\n",
        "    \"verbosity\": True,\n",
        "}\n"
      ]
    },
    {
      "cell_type": "code",
      "execution_count": 22,
      "metadata": {
        "colab": {
          "base_uri": "https://localhost:8080/"
        },
        "id": "oVkmOngqRp2I",
        "outputId": "6d1f5d77-25c2-43db-f701-f535e4fbf01a"
      },
      "outputs": [
        {
          "output_type": "stream",
          "name": "stdout",
          "text": [
            "CKA for google/flan-t5-small\n",
            "Loading  model...\n",
            "Running comparisons...\n",
            "\tcontext... The 2020 Olympics were held in <extra_id_0>.\n",
            "\ttokenized_context ids... tensor([[   37,  6503, 17793,   130,  1213,    16, 32099,     3,     5,     1]],\n",
            "       device='cuda:0')\n",
            "\tdecoded tokenized_context... The 2020 Olympics were held in<extra_id_0>.</s>\n",
            "\tdecoded target id... Tokyo\n",
            "\tcontext... The 2020 Olympics were held in <extra_id_0>.\n",
            "\ttokenized_context ids... tensor([[   37,  6503, 17793,   130,  1213,    16, 32099,     3,     5,     1]],\n",
            "       device='cuda:0')\n",
            "\tdecoded tokenized_context... The 2020 Olympics were held in<extra_id_0>.</s>\n",
            "\tdecoded target id... Berlin\n",
            "\tcontext... Operation Overlord took place in <extra_id_0>.\n",
            "\ttokenized_context ids... tensor([[ 6411,  1575,  2035,   322,    26,   808,   286,    16, 32099,     3,\n",
            "             5,     1]], device='cuda:0')\n",
            "\tdecoded tokenized_context... Operation Overlord took place in<extra_id_0>.</s>\n",
            "\tdecoded target id... Norman\n",
            "\tcontext... Operation Overlord took place in <extra_id_0>.\n",
            "\ttokenized_context ids... tensor([[ 6411,  1575,  2035,   322,    26,   808,   286,    16, 32099,     3,\n",
            "             5,     1]], device='cuda:0')\n",
            "\tdecoded tokenized_context... Operation Overlord took place in<extra_id_0>.</s>\n",
            "\tdecoded target id... Manila\n",
            "\tcontext... Steve Jobs is the founder of <extra_id_0>.\n",
            "\ttokenized_context ids... tensor([[ 5659, 15106,    19,     8,  7174,    13, 32099,     3,     5,     1]],\n",
            "       device='cuda:0')\n",
            "\tdecoded tokenized_context... Steve Jobs is the founder of<extra_id_0>.</s>\n",
            "\tdecoded target id... Apple\n",
            "\tcontext... Steve Jobs is the founder of <extra_id_0>.\n",
            "\ttokenized_context ids... tensor([[ 5659, 15106,    19,     8,  7174,    13, 32099,     3,     5,     1]],\n",
            "       device='cuda:0')\n",
            "\tdecoded tokenized_context... Steve Jobs is the founder of<extra_id_0>.</s>\n",
            "\tdecoded target id... Microsoft\n",
            "Done\n",
            "\n"
          ]
        }
      ],
      "source": [
        "score_dict_full, score_dict_succinct = main(config)"
      ]
    },
    {
      "cell_type": "code",
      "execution_count": 23,
      "metadata": {
        "colab": {
          "base_uri": "https://localhost:8080/"
        },
        "id": "eN3ov6pRdR6O",
        "outputId": "ab9df0c9-aa35-4e09-d353-4b6bec981663"
      },
      "outputs": [
        {
          "output_type": "execute_result",
          "data": {
            "text/plain": [
              "{'google/flan-t5-small: The 2020 Olympics were held in <extra_id_0>.': {'p_true': 3.46e-06,\n",
              "  'p_false': 3.5762786865234375e-07,\n",
              "  'p_true - p_false': 3.0994415283203125e-06,\n",
              "  'p_true > p_false': True},\n",
              " 'google/flan-t5-small: Operation Overlord took place in <extra_id_0>.': {'p_true': 2.06e-05,\n",
              "  'p_false': 1.0728836059570312e-06,\n",
              "  'p_true - p_false': 1.9550323486328125e-05,\n",
              "  'p_true > p_false': True},\n",
              " 'google/flan-t5-small: Steve Jobs is the founder of <extra_id_0>.': {'p_true': 0.0005684,\n",
              "  'p_false': 1.8715858459472656e-05,\n",
              "  'p_true - p_false': 0.0005496740341186523,\n",
              "  'p_true > p_false': True}}"
            ]
          },
          "metadata": {},
          "execution_count": 23
        }
      ],
      "source": [
        "score_dict_full"
      ]
    },
    {
      "cell_type": "code",
      "execution_count": 24,
      "metadata": {
        "colab": {
          "base_uri": "https://localhost:8080/"
        },
        "id": "U-yCRhR8ZzrU",
        "outputId": "7557a2d1-d32e-4483-ecd1-16c816711565"
      },
      "outputs": [
        {
          "output_type": "execute_result",
          "data": {
            "text/plain": [
              "{'google/flan-t5-small: The 2020 Olympics were held in <extra_id_0>.': {'p_true > p_false': True},\n",
              " 'google/flan-t5-small: Operation Overlord took place in <extra_id_0>.': {'p_true > p_false': True},\n",
              " 'google/flan-t5-small: Steve Jobs is the founder of <extra_id_0>.': {'p_true > p_false': True}}"
            ]
          },
          "metadata": {},
          "execution_count": 24
        }
      ],
      "source": [
        "score_dict_succinct"
      ]
    },
    {
      "cell_type": "markdown",
      "metadata": {
        "id": "PFy4ijAPc_mS"
      },
      "source": [
        "### gpt2s"
      ]
    },
    {
      "cell_type": "code",
      "execution_count": 13,
      "metadata": {
        "id": "fXTO0xG4Zzx5"
      },
      "outputs": [],
      "source": [
        "config = {\n",
        "    \"models\": [\n",
        "        \"distilgpt2\",  # 82M params\n",
        "        # \"gpt2\",  # 124M params\n",
        "        # \"gpt2-medium\",  # 355M params\n",
        "        # \"gpt2-large\",  # 774M params\n",
        "        # \"gpt2-xl\",  # 1.5B params\n",
        "    ],\n",
        "    \"input_information\": {\n",
        "        \"The 2020 Olympics were held in\": [\"Tokyo\", \"Berlin\"],\n",
        "        \"Operation Overlord took place in\": [\"Normandy\", \"Manila\"],\n",
        "        \"Steve Jobs is the founder of\": [\"Apple\", \"Microsoft\"],\n",
        "    },\n",
        "    \"verbosity\": True,\n",
        "}\n"
      ]
    },
    {
      "cell_type": "code",
      "execution_count": 14,
      "metadata": {
        "colab": {
          "base_uri": "https://localhost:8080/"
        },
        "id": "1fHCY2r9Zzx6",
        "outputId": "ecaf0024-7e9c-4aad-dab0-5274ceef20d8"
      },
      "outputs": [
        {
          "output_type": "stream",
          "name": "stdout",
          "text": [
            "CKA for distilgpt2\n",
            "Loading  model...\n",
            "Running comparisons...\n",
            "\tcontext... The 2020 Olympics were held in\n",
            "\ttokenized_context ids... tensor([[  464, 12131, 14935,   547,  2714,   287]], device='cuda:0')\n",
            "\tdecoded tokenized_context... The 2020 Olympics were held in\n",
            "\tdecoded target id... Tok\n",
            "\tcontext... The 2020 Olympics were held in\n",
            "\ttokenized_context ids... tensor([[  464, 12131, 14935,   547,  2714,   287]], device='cuda:0')\n",
            "\tdecoded tokenized_context... The 2020 Olympics were held in\n",
            "\tdecoded target id... Ber\n",
            "\tcontext... Operation Overlord took place in\n",
            "\ttokenized_context ids... tensor([[32180,  3827, 10572,  1718,  1295,   287]], device='cuda:0')\n",
            "\tdecoded tokenized_context... Operation Overlord took place in\n",
            "\tdecoded target id... Norm\n",
            "\tcontext... Operation Overlord took place in\n",
            "\ttokenized_context ids... tensor([[32180,  3827, 10572,  1718,  1295,   287]], device='cuda:0')\n",
            "\tdecoded tokenized_context... Operation Overlord took place in\n",
            "\tdecoded target id... Man\n",
            "\tcontext... Steve Jobs is the founder of\n",
            "\ttokenized_context ids... tensor([[19206, 19161,   318,   262,  9119,   286]], device='cuda:0')\n",
            "\tdecoded tokenized_context... Steve Jobs is the founder of\n",
            "\tdecoded target id... Apple\n",
            "\tcontext... Steve Jobs is the founder of\n",
            "\ttokenized_context ids... tensor([[19206, 19161,   318,   262,  9119,   286]], device='cuda:0')\n",
            "\tdecoded tokenized_context... Steve Jobs is the founder of\n",
            "\tdecoded target id... Microsoft\n",
            "Done\n",
            "\n"
          ]
        }
      ],
      "source": [
        "score_dict_full, score_dict_succinct = main(config)"
      ]
    },
    {
      "cell_type": "code",
      "execution_count": 15,
      "metadata": {
        "colab": {
          "base_uri": "https://localhost:8080/"
        },
        "id": "tEPONKOhZzx6",
        "outputId": "e6475c54-9028-4843-a967-fe747adf886a"
      },
      "outputs": [
        {
          "output_type": "execute_result",
          "data": {
            "text/plain": [
              "{'distilgpt2: The 2020 Olympics were held in': {'p_true': 4e-07,\n",
              "  'p_false': 5.960464477539063e-08,\n",
              "  'p_true - p_false': 3.5762786865234375e-07,\n",
              "  'p_true > p_false': True},\n",
              " 'distilgpt2: Operation Overlord took place in': {'p_true': 0.0,\n",
              "  'p_false': 1.1920928955078125e-07,\n",
              "  'p_true - p_false': -1.1920928955078125e-07,\n",
              "  'p_true > p_false': False},\n",
              " 'distilgpt2: Steve Jobs is the founder of': {'p_true': 9.36e-06,\n",
              "  'p_false': 6.258487701416016e-06,\n",
              "  'p_true - p_false': 3.0994415283203125e-06,\n",
              "  'p_true > p_false': True}}"
            ]
          },
          "metadata": {},
          "execution_count": 15
        }
      ],
      "source": [
        "score_dict_full"
      ]
    },
    {
      "cell_type": "code",
      "execution_count": 16,
      "metadata": {
        "colab": {
          "base_uri": "https://localhost:8080/"
        },
        "id": "K4bojZ4oZzx6",
        "outputId": "0fb19087-106a-4a21-ad10-d9a57422ecee"
      },
      "outputs": [
        {
          "output_type": "execute_result",
          "data": {
            "text/plain": [
              "{'distilgpt2: The 2020 Olympics were held in': {'p_true > p_false': True},\n",
              " 'distilgpt2: Operation Overlord took place in': {'p_true > p_false': False},\n",
              " 'distilgpt2: Steve Jobs is the founder of': {'p_true > p_false': True}}"
            ]
          },
          "metadata": {},
          "execution_count": 16
        }
      ],
      "source": [
        "score_dict_succinct"
      ]
    },
    {
      "cell_type": "markdown",
      "metadata": {
        "id": "x8wbJ-CuFKjz"
      },
      "source": [
        "### Berts"
      ]
    },
    {
      "cell_type": "code",
      "execution_count": 17,
      "metadata": {
        "id": "EOAGREP5FKj0"
      },
      "outputs": [],
      "source": [
        "config = {\n",
        "    \"models\": [\n",
        "        \"bert-base-uncased\",  # 110M params\n",
        "        # \"bert-large-uncased\",  # 330M params\n",
        "    ],\n",
        "    \"input_information\": {\n",
        "        \"The 2020 Olympics were held in\": [\"Tokyo\", \"Berlin\"],\n",
        "        \"Operation Overlord took place in\": [\"Normandy\", \"Manila\"],\n",
        "        \"Steve Jobs is the founder of\": [\"Apple\", \"Microsoft\"],\n",
        "    },\n",
        "    \"verbosity\": True,\n",
        "}\n"
      ]
    },
    {
      "cell_type": "code",
      "execution_count": 18,
      "metadata": {
        "colab": {
          "base_uri": "https://localhost:8080/"
        },
        "outputId": "4d5b3655-2214-443e-b023-2e7203de2ed6",
        "id": "9TeF5CfVFKj0"
      },
      "outputs": [
        {
          "output_type": "stream",
          "name": "stdout",
          "text": [
            "CKA for bert-base-uncased\n",
            "Loading  model...\n"
          ]
        },
        {
          "output_type": "stream",
          "name": "stderr",
          "text": [
            "Some weights of the model checkpoint at bert-base-uncased were not used when initializing BertForMaskedLM: ['cls.seq_relationship.weight', 'cls.seq_relationship.bias']\n",
            "- This IS expected if you are initializing BertForMaskedLM from the checkpoint of a model trained on another task or with another architecture (e.g. initializing a BertForSequenceClassification model from a BertForPreTraining model).\n",
            "- This IS NOT expected if you are initializing BertForMaskedLM from the checkpoint of a model that you expect to be exactly identical (initializing a BertForSequenceClassification model from a BertForSequenceClassification model).\n"
          ]
        },
        {
          "output_type": "stream",
          "name": "stdout",
          "text": [
            "Running comparisons...\n",
            "\tcontext... The 2020 Olympics were held in [MASK].\n",
            "\ttokenized_context ids... tensor([[  101,  1996, 12609,  3783,  2020,  2218,  1999,   103,  1012,   102]],\n",
            "       device='cuda:0')\n",
            "\tdecoded tokenize_context... [CLS] the 2020 olympics were held in [MASK]. [SEP]\n",
            "\tmask token id... 103\n",
            "\tmask token index in context... tensor([7])\n",
            "\tdecoded target id... tokyo\n",
            "\tcontext... The 2020 Olympics were held in [MASK].\n",
            "\ttokenized_context ids... tensor([[  101,  1996, 12609,  3783,  2020,  2218,  1999,   103,  1012,   102]],\n",
            "       device='cuda:0')\n",
            "\tdecoded tokenize_context... [CLS] the 2020 olympics were held in [MASK]. [SEP]\n",
            "\tmask token id... 103\n",
            "\tmask token index in context... tensor([7])\n",
            "\tdecoded target id... berlin\n",
            "\tcontext... Operation Overlord took place in [MASK].\n",
            "\ttokenized_context ids... tensor([[  101,  3169,  2058, 19980,  2165,  2173,  1999,   103,  1012,   102]],\n",
            "       device='cuda:0')\n",
            "\tdecoded tokenize_context... [CLS] operation overlord took place in [MASK]. [SEP]\n",
            "\tmask token id... 103\n",
            "\tmask token index in context... tensor([7])\n",
            "\tdecoded target id... normandy\n",
            "\tcontext... Operation Overlord took place in [MASK].\n",
            "\ttokenized_context ids... tensor([[  101,  3169,  2058, 19980,  2165,  2173,  1999,   103,  1012,   102]],\n",
            "       device='cuda:0')\n",
            "\tdecoded tokenize_context... [CLS] operation overlord took place in [MASK]. [SEP]\n",
            "\tmask token id... 103\n",
            "\tmask token index in context... tensor([7])\n",
            "\tdecoded target id... manila\n",
            "\tcontext... Steve Jobs is the founder of [MASK].\n",
            "\ttokenized_context ids... tensor([[ 101, 3889, 5841, 2003, 1996, 3910, 1997,  103, 1012,  102]],\n",
            "       device='cuda:0')\n",
            "\tdecoded tokenize_context... [CLS] steve jobs is the founder of [MASK]. [SEP]\n",
            "\tmask token id... 103\n",
            "\tmask token index in context... tensor([7])\n",
            "\tdecoded target id... apple\n",
            "\tcontext... Steve Jobs is the founder of [MASK].\n",
            "\ttokenized_context ids... tensor([[ 101, 3889, 5841, 2003, 1996, 3910, 1997,  103, 1012,  102]],\n",
            "       device='cuda:0')\n",
            "\tdecoded tokenize_context... [CLS] steve jobs is the founder of [MASK]. [SEP]\n",
            "\tmask token id... 103\n",
            "\tmask token index in context... tensor([7])\n",
            "\tdecoded target id... microsoft\n",
            "Done\n",
            "\n"
          ]
        }
      ],
      "source": [
        "score_dict_full, score_dict_succinct = main(config)"
      ]
    },
    {
      "cell_type": "code",
      "execution_count": 19,
      "metadata": {
        "colab": {
          "base_uri": "https://localhost:8080/"
        },
        "outputId": "b9b532a1-6226-4279-d2ea-4120223ac986",
        "id": "pbmLt931FKj0"
      },
      "outputs": [
        {
          "output_type": "execute_result",
          "data": {
            "text/plain": [
              "{'bert-base-uncased: The 2020 Olympics were held in [MASK].': {'p_true': 0.7124,\n",
              "  'p_false': 0.0009756088256835938,\n",
              "  'p_true - p_false': 0.7114267349243164,\n",
              "  'p_true > p_false': True},\n",
              " 'bert-base-uncased: Operation Overlord took place in [MASK].': {'p_true': 0.01952,\n",
              "  'p_false': 1.3828277587890625e-05,\n",
              "  'p_true - p_false': 0.01950216293334961,\n",
              "  'p_true > p_false': True},\n",
              " 'bert-base-uncased: Steve Jobs is the founder of [MASK].': {'p_true': 0.2837,\n",
              "  'p_false': 0.10113525390625,\n",
              "  'p_true - p_false': 0.18255615234375,\n",
              "  'p_true > p_false': True}}"
            ]
          },
          "metadata": {},
          "execution_count": 19
        }
      ],
      "source": [
        "score_dict_full"
      ]
    },
    {
      "cell_type": "code",
      "execution_count": 20,
      "metadata": {
        "colab": {
          "base_uri": "https://localhost:8080/"
        },
        "outputId": "d204625b-2d4e-4ce7-c04b-de897709134b",
        "id": "lBX66NYBFKj0"
      },
      "outputs": [
        {
          "output_type": "execute_result",
          "data": {
            "text/plain": [
              "{'bert-base-uncased: The 2020 Olympics were held in [MASK].': {'p_true > p_false': True},\n",
              " 'bert-base-uncased: Operation Overlord took place in [MASK].': {'p_true > p_false': True},\n",
              " 'bert-base-uncased: Steve Jobs is the founder of [MASK].': {'p_true > p_false': True}}"
            ]
          },
          "metadata": {},
          "execution_count": 20
        }
      ],
      "source": [
        "score_dict_succinct"
      ]
    },
    {
      "cell_type": "code",
      "source": [],
      "metadata": {
        "id": "8Z-cxQMFFe77"
      },
      "execution_count": 20,
      "outputs": []
    }
  ],
  "metadata": {
    "accelerator": "GPU",
    "colab": {
      "provenance": []
    },
    "gpuClass": "standard",
    "kernelspec": {
      "display_name": "Python 3",
      "name": "python3"
    },
    "language_info": {
      "name": "python"
    }
  },
  "nbformat": 4,
  "nbformat_minor": 0
}