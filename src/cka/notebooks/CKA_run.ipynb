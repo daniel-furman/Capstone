{
  "cells": [
    {
      "cell_type": "markdown",
      "metadata": {
        "id": "Am_Ubq6xTaBz"
      },
      "source": [
        "# Run contrastive knowledge assesment (CKA) notebook\n",
        "\n",
        "* See [Capstone Repo](https://github.com/daniel-furman/Capstone) for more details\n",
        "---"
      ]
    },
    {
      "cell_type": "markdown",
      "metadata": {
        "id": "uccv2X7WeJGv"
      },
      "source": [
        "## Dependencies"
      ]
    },
    {
      "cell_type": "code",
      "execution_count": 1,
      "metadata": {
        "colab": {
          "base_uri": "https://localhost:8080/"
        },
        "id": "A4gro-sOZz-O",
        "outputId": "3e13b5b3-21ff-43f9-cedf-b8d4421b9352"
      },
      "outputs": [
        {
          "output_type": "stream",
          "name": "stdout",
          "text": [
            "Cloning into 'Capstone'...\n",
            "remote: Enumerating objects: 181, done.\u001b[K\n",
            "remote: Counting objects: 100% (181/181), done.\u001b[K\n",
            "remote: Compressing objects: 100% (118/118), done.\u001b[K\n",
            "remote: Total 181 (delta 64), reused 153 (delta 37), pack-reused 0\u001b[K\n",
            "Receiving objects: 100% (181/181), 21.05 MiB | 16.22 MiB/s, done.\n",
            "Resolving deltas: 100% (64/64), done.\n"
          ]
        }
      ],
      "source": [
        "!git clone https://github.com/daniel-furman/Capstone.git"
      ]
    },
    {
      "cell_type": "code",
      "execution_count": 2,
      "metadata": {
        "colab": {
          "base_uri": "https://localhost:8080/"
        },
        "id": "qaXMJaroH_TI",
        "outputId": "2273f057-52fa-4324-ffd5-be64c80cf5c2"
      },
      "outputs": [
        {
          "output_type": "stream",
          "name": "stdout",
          "text": [
            "Looking in indexes: https://pypi.org/simple, https://us-python.pkg.dev/colab-wheels/public/simple/\n",
            "Requirement already satisfied: numpy==1.22.4 in /usr/local/lib/python3.9/dist-packages (from -r /content/Capstone/src/cka/scripts/requirements.txt (line 1)) (1.22.4)\n",
            "Requirement already satisfied: torch==1.13.1 in /usr/local/lib/python3.9/dist-packages (from -r /content/Capstone/src/cka/scripts/requirements.txt (line 2)) (1.13.1+cu116)\n",
            "Collecting transformers==4.26.1\n",
            "  Downloading transformers-4.26.1-py3-none-any.whl (6.3 MB)\n",
            "\u001b[2K     \u001b[90m━━━━━━━━━━━━━━━━━━━━━━━━━━━━━━━━━━━━━━━━\u001b[0m \u001b[32m6.3/6.3 MB\u001b[0m \u001b[31m15.3 MB/s\u001b[0m eta \u001b[36m0:00:00\u001b[0m\n",
            "\u001b[?25hCollecting sentencepiece==0.1.97\n",
            "  Downloading sentencepiece-0.1.97-cp39-cp39-manylinux_2_17_x86_64.manylinux2014_x86_64.whl (1.3 MB)\n",
            "\u001b[2K     \u001b[90m━━━━━━━━━━━━━━━━━━━━━━━━━━━━━━━━━━━━━━━━\u001b[0m \u001b[32m1.3/1.3 MB\u001b[0m \u001b[31m22.7 MB/s\u001b[0m eta \u001b[36m0:00:00\u001b[0m\n",
            "\u001b[?25hCollecting accelerate==0.16.0\n",
            "  Downloading accelerate-0.16.0-py3-none-any.whl (199 kB)\n",
            "\u001b[2K     \u001b[90m━━━━━━━━━━━━━━━━━━━━━━━━━━━━━━━━━━━━━━\u001b[0m \u001b[32m199.7/199.7 KB\u001b[0m \u001b[31m13.3 MB/s\u001b[0m eta \u001b[36m0:00:00\u001b[0m\n",
            "\u001b[?25hCollecting bitsandbytes==0.37.0\n",
            "  Downloading bitsandbytes-0.37.0-py3-none-any.whl (76.3 MB)\n",
            "\u001b[2K     \u001b[90m━━━━━━━━━━━━━━━━━━━━━━━━━━━━━━━━━━━━━━━━\u001b[0m \u001b[32m76.3/76.3 MB\u001b[0m \u001b[31m11.7 MB/s\u001b[0m eta \u001b[36m0:00:00\u001b[0m\n",
            "\u001b[?25hRequirement already satisfied: typing-extensions in /usr/local/lib/python3.9/dist-packages (from torch==1.13.1->-r /content/Capstone/src/cka/scripts/requirements.txt (line 2)) (4.5.0)\n",
            "Requirement already satisfied: tqdm>=4.27 in /usr/local/lib/python3.9/dist-packages (from transformers==4.26.1->-r /content/Capstone/src/cka/scripts/requirements.txt (line 3)) (4.65.0)\n",
            "Requirement already satisfied: filelock in /usr/local/lib/python3.9/dist-packages (from transformers==4.26.1->-r /content/Capstone/src/cka/scripts/requirements.txt (line 3)) (3.9.0)\n",
            "Requirement already satisfied: regex!=2019.12.17 in /usr/local/lib/python3.9/dist-packages (from transformers==4.26.1->-r /content/Capstone/src/cka/scripts/requirements.txt (line 3)) (2022.6.2)\n",
            "Requirement already satisfied: pyyaml>=5.1 in /usr/local/lib/python3.9/dist-packages (from transformers==4.26.1->-r /content/Capstone/src/cka/scripts/requirements.txt (line 3)) (6.0)\n",
            "Requirement already satisfied: requests in /usr/local/lib/python3.9/dist-packages (from transformers==4.26.1->-r /content/Capstone/src/cka/scripts/requirements.txt (line 3)) (2.25.1)\n",
            "Collecting huggingface-hub<1.0,>=0.11.0\n",
            "  Downloading huggingface_hub-0.13.0-py3-none-any.whl (199 kB)\n",
            "\u001b[2K     \u001b[90m━━━━━━━━━━━━━━━━━━━━━━━━━━━━━━━━━━━━━━\u001b[0m \u001b[32m199.1/199.1 KB\u001b[0m \u001b[31m13.8 MB/s\u001b[0m eta \u001b[36m0:00:00\u001b[0m\n",
            "\u001b[?25hRequirement already satisfied: packaging>=20.0 in /usr/local/lib/python3.9/dist-packages (from transformers==4.26.1->-r /content/Capstone/src/cka/scripts/requirements.txt (line 3)) (23.0)\n",
            "Collecting tokenizers!=0.11.3,<0.14,>=0.11.1\n",
            "  Downloading tokenizers-0.13.2-cp39-cp39-manylinux_2_17_x86_64.manylinux2014_x86_64.whl (7.6 MB)\n",
            "\u001b[2K     \u001b[90m━━━━━━━━━━━━━━━━━━━━━━━━━━━━━━━━━━━━━━━━\u001b[0m \u001b[32m7.6/7.6 MB\u001b[0m \u001b[31m73.0 MB/s\u001b[0m eta \u001b[36m0:00:00\u001b[0m\n",
            "\u001b[?25hRequirement already satisfied: psutil in /usr/local/lib/python3.9/dist-packages (from accelerate==0.16.0->-r /content/Capstone/src/cka/scripts/requirements.txt (line 5)) (5.4.8)\n",
            "Requirement already satisfied: urllib3<1.27,>=1.21.1 in /usr/local/lib/python3.9/dist-packages (from requests->transformers==4.26.1->-r /content/Capstone/src/cka/scripts/requirements.txt (line 3)) (1.26.14)\n",
            "Requirement already satisfied: idna<3,>=2.5 in /usr/local/lib/python3.9/dist-packages (from requests->transformers==4.26.1->-r /content/Capstone/src/cka/scripts/requirements.txt (line 3)) (2.10)\n",
            "Requirement already satisfied: certifi>=2017.4.17 in /usr/local/lib/python3.9/dist-packages (from requests->transformers==4.26.1->-r /content/Capstone/src/cka/scripts/requirements.txt (line 3)) (2022.12.7)\n",
            "Requirement already satisfied: chardet<5,>=3.0.2 in /usr/local/lib/python3.9/dist-packages (from requests->transformers==4.26.1->-r /content/Capstone/src/cka/scripts/requirements.txt (line 3)) (4.0.0)\n",
            "Installing collected packages: tokenizers, sentencepiece, bitsandbytes, huggingface-hub, accelerate, transformers\n",
            "Successfully installed accelerate-0.16.0 bitsandbytes-0.37.0 huggingface-hub-0.13.0 sentencepiece-0.1.97 tokenizers-0.13.2 transformers-4.26.1\n"
          ]
        }
      ],
      "source": [
        "!pip install -r /content/Capstone/src/cka/scripts/requirements.txt"
      ]
    },
    {
      "cell_type": "markdown",
      "metadata": {
        "id": "3yjnEaRtKd8L"
      },
      "source": [
        "## Imports"
      ]
    },
    {
      "cell_type": "code",
      "execution_count": 3,
      "metadata": {
        "id": "IJQImaEDTRMr"
      },
      "outputs": [],
      "source": [
        "import os"
      ]
    },
    {
      "cell_type": "code",
      "execution_count": 4,
      "metadata": {
        "id": "0jQTcgbNk-iA"
      },
      "outputs": [],
      "source": [
        "os.chdir('/content/Capstone/src/cka/scripts')"
      ]
    },
    {
      "cell_type": "markdown",
      "metadata": {
        "id": "j6lqNVBmhW-g"
      },
      "source": [
        "## CLI usage"
      ]
    },
    {
      "cell_type": "code",
      "execution_count": 5,
      "metadata": {
        "colab": {
          "base_uri": "https://localhost:8080/"
        },
        "id": "yP8xlKDGTku-",
        "outputId": "7abd57bc-a511-4ff8-b78b-e5d23e791734"
      },
      "outputs": [
        {
          "output_type": "stream",
          "name": "stdout",
          "text": [
            "2023-03-09 03:03:57.242439: I tensorflow/core/platform/cpu_feature_guard.cc:193] This TensorFlow binary is optimized with oneAPI Deep Neural Network Library (oneDNN) to use the following CPU instructions in performance-critical operations:  AVX2 AVX512F FMA\n",
            "To enable them in other operations, rebuild TensorFlow with the appropriate compiler flags.\n",
            "2023-03-09 03:03:58.147109: W tensorflow/compiler/xla/stream_executor/platform/default/dso_loader.cc:64] Could not load dynamic library 'libnvinfer.so.7'; dlerror: libnvinfer.so.7: cannot open shared object file: No such file or directory; LD_LIBRARY_PATH: /usr/lib64-nvidia\n",
            "2023-03-09 03:03:58.147247: W tensorflow/compiler/xla/stream_executor/platform/default/dso_loader.cc:64] Could not load dynamic library 'libnvinfer_plugin.so.7'; dlerror: libnvinfer_plugin.so.7: cannot open shared object file: No such file or directory; LD_LIBRARY_PATH: /usr/lib64-nvidia\n",
            "2023-03-09 03:03:58.147272: W tensorflow/compiler/tf2tensorrt/utils/py_utils.cc:38] TF-TRT Warning: Cannot dlopen some TensorRT libraries. If you would like to use Nvidia GPU with TensorRT, please make sure the missing libraries mentioned above are installed properly.\n",
            "CKA for google/flan-t5-small\n",
            "Loading  model...\n",
            "Downloading spiece.model: 100% 792k/792k [00:00<00:00, 26.3MB/s]\n",
            "Downloading (…)cial_tokens_map.json: 100% 2.20k/2.20k [00:00<00:00, 237kB/s]\n",
            "Downloading (…)okenizer_config.json: 100% 2.54k/2.54k [00:00<00:00, 801kB/s]\n",
            "Downloading (…)lve/main/config.json: 100% 1.40k/1.40k [00:00<00:00, 73.3kB/s]\n",
            "Downloading pytorch_model.bin: 100% 308M/308M [00:00<00:00, 311MB/s]\n",
            "\n",
            "===================================BUG REPORT===================================\n",
            "Welcome to bitsandbytes. For bug reports, please submit your error trace to: https://github.com/TimDettmers/bitsandbytes/issues\n",
            "================================================================================\n",
            "Downloading (…)neration_config.json: 100% 147/147 [00:00<00:00, 48.9kB/s]\n",
            "Running comparisons...\n",
            "Done\n",
            "\n",
            "CKA for google/flan-t5-base\n",
            "Loading  model...\n",
            "Downloading spiece.model: 100% 792k/792k [00:00<00:00, 27.7MB/s]\n",
            "Downloading (…)cial_tokens_map.json: 100% 2.20k/2.20k [00:00<00:00, 807kB/s]\n",
            "Downloading (…)okenizer_config.json: 100% 2.54k/2.54k [00:00<00:00, 907kB/s]\n",
            "Downloading (…)lve/main/config.json: 100% 1.40k/1.40k [00:00<00:00, 528kB/s]\n",
            "Downloading pytorch_model.bin: 100% 990M/990M [00:03<00:00, 272MB/s]\n",
            "Downloading (…)neration_config.json: 100% 147/147 [00:00<00:00, 52.0kB/s]\n",
            "Running comparisons...\n",
            "Done\n",
            "\n",
            "CKA for google/flan-t5-large\n",
            "Loading  model...\n",
            "Downloading spiece.model: 100% 792k/792k [00:00<00:00, 38.4MB/s]\n",
            "Downloading (…)cial_tokens_map.json: 100% 2.20k/2.20k [00:00<00:00, 768kB/s]\n",
            "Downloading (…)okenizer_config.json: 100% 2.54k/2.54k [00:00<00:00, 803kB/s]\n",
            "Downloading (…)lve/main/config.json: 100% 662/662 [00:00<00:00, 261kB/s]\n",
            "Downloading pytorch_model.bin: 100% 3.13G/3.13G [00:44<00:00, 70.7MB/s]\n",
            "Downloading (…)neration_config.json: 100% 147/147 [00:00<00:00, 45.7kB/s]\n",
            "Running comparisons...\n",
            "Done\n",
            "\n",
            "\n",
            "Score dict full:\n",
            "{'google/flan-t5-small': [{'The 2020 Olympics were held in <extra_id_0>.': {'p_true': 3.46e-06, 'p_false': 2.9742717742919922e-05, 'p_true - p_false': -2.6285648345947266e-05, 'p_true > p_false': False}}, {'Operation Overlord took place in <extra_id_0>.': {'p_true': 2.06e-05, 'p_false': 1.0728836059570312e-06, 'p_true - p_false': 1.9550323486328125e-05, 'p_true > p_false': True}}, {'Steve Jobs is the founder of <extra_id_0>.': {'p_true': 0.0005684, 'p_false': 1.8715858459472656e-05, 'p_true - p_false': 0.0005496740341186523, 'p_true > p_false': True}}], 'google/flan-t5-base': [{'The 2020 Olympics were held in <extra_id_0>.': {'p_true': 2.35e-05, 'p_false': 8.624792098999023e-05, 'p_true - p_false': -6.276369094848633e-05, 'p_true > p_false': False}}, {'Operation Overlord took place in <extra_id_0>.': {'p_true': 8.8e-06, 'p_false': 6.556510925292969e-07, 'p_true - p_false': 8.165836334228516e-06, 'p_true > p_false': True}}, {'Steve Jobs is the founder of <extra_id_0>.': {'p_true': 0.001665, 'p_false': 0.000629425048828125, 'p_true - p_false': 0.0010356903076171875, 'p_true > p_false': True}}], 'google/flan-t5-large': [{'The 2020 Olympics were held in <extra_id_0>.': {'p_true': 0.004585, 'p_false': 0.002391815185546875, 'p_true - p_false': 0.002193450927734375, 'p_true > p_false': True}}, {'Operation Overlord took place in <extra_id_0>.': {'p_true': 3.165e-05, 'p_false': 1.245737075805664e-05, 'p_true - p_false': 1.919269561767578e-05, 'p_true > p_false': True}}, {'Steve Jobs is the founder of <extra_id_0>.': {'p_true': 0.00808, 'p_false': 2.205371856689453e-06, 'p_true - p_false': 0.00807732343673706, 'p_true > p_false': True}}]}\n",
            "\n",
            "Score dict succinct:\n",
            "{'google/flan-t5-small': [{'The 2020 Olympics were held in <extra_id_0>.': {'p_true > p_false': False}}, {'Operation Overlord took place in <extra_id_0>.': {'p_true > p_false': True}}, {'Steve Jobs is the founder of <extra_id_0>.': {'p_true > p_false': True}}], 'google/flan-t5-base': [{'The 2020 Olympics were held in <extra_id_0>.': {'p_true > p_false': False}}, {'Operation Overlord took place in <extra_id_0>.': {'p_true > p_false': True}}, {'Steve Jobs is the founder of <extra_id_0>.': {'p_true > p_false': True}}], 'google/flan-t5-large': [{'The 2020 Olympics were held in <extra_id_0>.': {'p_true > p_false': True}}, {'Operation Overlord took place in <extra_id_0>.': {'p_true > p_false': True}}, {'Steve Jobs is the founder of <extra_id_0>.': {'p_true > p_false': True}}]}\n",
            "\n",
            "Score dict summary:\n",
            "{'google/flan-t5-small': 'This model got 2/3 facts correct', 'google/flan-t5-base': 'This model got 2/3 facts correct', 'google/flan-t5-large': 'This model got 3/3 facts correct'}\n"
          ]
        }
      ],
      "source": [
        "!python run_cka.py configs.flan_v0"
      ]
    },
    {
      "cell_type": "code",
      "execution_count": 6,
      "metadata": {
        "colab": {
          "base_uri": "https://localhost:8080/"
        },
        "id": "-qB6RpDTZsJC",
        "outputId": "3a6a8009-5193-4666-9317-192e3af84f8e"
      },
      "outputs": [
        {
          "output_type": "stream",
          "name": "stdout",
          "text": [
            "2023-03-09 03:05:36.701945: I tensorflow/core/platform/cpu_feature_guard.cc:193] This TensorFlow binary is optimized with oneAPI Deep Neural Network Library (oneDNN) to use the following CPU instructions in performance-critical operations:  AVX2 AVX512F FMA\n",
            "To enable them in other operations, rebuild TensorFlow with the appropriate compiler flags.\n",
            "2023-03-09 03:05:39.013664: W tensorflow/compiler/xla/stream_executor/platform/default/dso_loader.cc:64] Could not load dynamic library 'libnvinfer.so.7'; dlerror: libnvinfer.so.7: cannot open shared object file: No such file or directory; LD_LIBRARY_PATH: /usr/lib64-nvidia\n",
            "2023-03-09 03:05:39.014424: W tensorflow/compiler/xla/stream_executor/platform/default/dso_loader.cc:64] Could not load dynamic library 'libnvinfer_plugin.so.7'; dlerror: libnvinfer_plugin.so.7: cannot open shared object file: No such file or directory; LD_LIBRARY_PATH: /usr/lib64-nvidia\n",
            "2023-03-09 03:05:39.014452: W tensorflow/compiler/tf2tensorrt/utils/py_utils.cc:38] TF-TRT Warning: Cannot dlopen some TensorRT libraries. If you would like to use Nvidia GPU with TensorRT, please make sure the missing libraries mentioned above are installed properly.\n",
            "CKA for distilgpt2\n",
            "Loading  model...\n",
            "Downloading (…)lve/main/config.json: 100% 762/762 [00:00<00:00, 113kB/s]\n",
            "Downloading (…)olve/main/vocab.json: 100% 1.04M/1.04M [00:00<00:00, 2.40MB/s]\n",
            "Downloading (…)olve/main/merges.txt: 100% 456k/456k [00:00<00:00, 1.32MB/s]\n",
            "Downloading (…)/main/tokenizer.json: 100% 1.36M/1.36M [00:00<00:00, 3.13MB/s]\n",
            "Downloading pytorch_model.bin: 100% 353M/353M [00:01<00:00, 292MB/s]\n",
            "\n",
            "===================================BUG REPORT===================================\n",
            "Welcome to bitsandbytes. For bug reports, please submit your error trace to: https://github.com/TimDettmers/bitsandbytes/issues\n",
            "================================================================================\n",
            "Downloading (…)neration_config.json: 100% 124/124 [00:00<00:00, 42.4kB/s]\n",
            "Running comparisons...\n",
            "Done\n",
            "\n",
            "CKA for gpt2\n",
            "Loading  model...\n",
            "Downloading (…)lve/main/config.json: 100% 665/665 [00:00<00:00, 110kB/s]\n",
            "Downloading (…)olve/main/vocab.json: 100% 1.04M/1.04M [00:00<00:00, 2.43MB/s]\n",
            "Downloading (…)olve/main/merges.txt: 100% 456k/456k [00:00<00:00, 1.32MB/s]\n",
            "Downloading (…)/main/tokenizer.json: 100% 1.36M/1.36M [00:00<00:00, 3.12MB/s]\n",
            "Downloading pytorch_model.bin: 100% 548M/548M [00:01<00:00, 302MB/s]\n",
            "Downloading (…)neration_config.json: 100% 124/124 [00:00<00:00, 44.5kB/s]\n",
            "Running comparisons...\n",
            "Done\n",
            "\n",
            "CKA for gpt2-medium\n",
            "Loading  model...\n",
            "Downloading (…)lve/main/config.json: 100% 718/718 [00:00<00:00, 236kB/s]\n",
            "Downloading (…)olve/main/vocab.json: 100% 1.04M/1.04M [00:00<00:00, 2.41MB/s]\n",
            "Downloading (…)olve/main/merges.txt: 100% 456k/456k [00:00<00:00, 1.32MB/s]\n",
            "Downloading (…)/main/tokenizer.json: 100% 1.36M/1.36M [00:00<00:00, 3.13MB/s]\n",
            "Downloading pytorch_model.bin: 100% 1.52G/1.52G [00:12<00:00, 127MB/s]\n",
            "Downloading (…)neration_config.json: 100% 124/124 [00:00<00:00, 44.3kB/s]\n",
            "Running comparisons...\n",
            "Done\n",
            "\n",
            "CKA for gpt2-large\n",
            "Loading  model...\n",
            "Downloading (…)lve/main/config.json: 100% 666/666 [00:00<00:00, 207kB/s]\n",
            "Downloading (…)olve/main/vocab.json: 100% 1.04M/1.04M [00:00<00:00, 2.40MB/s]\n",
            "Downloading (…)olve/main/merges.txt: 100% 456k/456k [00:00<00:00, 1.32MB/s]\n",
            "Downloading (…)/main/tokenizer.json: 100% 1.36M/1.36M [00:00<00:00, 3.11MB/s]\n",
            "Downloading pytorch_model.bin: 100% 3.25G/3.25G [00:25<00:00, 125MB/s]\n",
            "Downloading (…)neration_config.json: 100% 124/124 [00:00<00:00, 41.3kB/s]\n",
            "Running comparisons...\n",
            "Done\n",
            "\n",
            "\n",
            "Score dict full:\n",
            "{'distilgpt2': [{'The 2020 Olympics were held in': {'p_true': 0.01068, 'p_false': 0.0478515625, 'p_true - p_false': -0.03717041015625, 'p_true > p_false': False}}, {'Operation Overlord took place in': {'p_true': 0.0007377, 'p_false': 0.00019848346710205078, 'p_true - p_false': 0.0005391836166381836, 'p_true > p_false': True}}, {'Steve Jobs is the founder of': {'p_true': 0.014046, 'p_false': 0.01201629638671875, 'p_true - p_false': 0.0020294189453125, 'p_true > p_false': True}}], 'gpt2': [{'The 2020 Olympics were held in': {'p_true': 0.02597, 'p_false': 0.07513427734375, 'p_true - p_false': -0.049163818359375, 'p_true > p_false': False}}, {'Operation Overlord took place in': {'p_true': 0.0004494, 'p_false': 0.00015532970428466797, 'p_true - p_false': 0.00029408931732177734, 'p_true > p_false': True}}, {'Steve Jobs is the founder of': {'p_true': 0.2397, 'p_false': 0.06060791015625, 'p_true - p_false': 0.17913818359375, 'p_true > p_false': True}}], 'gpt2-medium': [{'The 2020 Olympics were held in': {'p_true': 0.18, 'p_false': 0.054931640625, 'p_true - p_false': 0.1251220703125, 'p_true > p_false': True}}, {'Operation Overlord took place in': {'p_true': 0.0002412, 'p_false': 3.260374069213867e-05, 'p_true - p_false': 0.0002085566520690918, 'p_true > p_false': True}}, {'Steve Jobs is the founder of': {'p_true': 0.931, 'p_false': 0.001056671142578125, 'p_true - p_false': 0.9300956726074219, 'p_true > p_false': True}}], 'gpt2-large': [{'The 2020 Olympics were held in': {'p_true': 0.54, 'p_false': 0.058746337890625, 'p_true - p_false': 0.481292724609375, 'p_true > p_false': True}}, {'Operation Overlord took place in': {'p_true': 0.000506, 'p_false': 0.00010764598846435547, 'p_true - p_false': 0.00039827823638916016, 'p_true > p_false': True}}, {'Steve Jobs is the founder of': {'p_true': 0.7524, 'p_false': 0.0009984970092773438, 'p_true - p_false': 0.7514429092407227, 'p_true > p_false': True}}]}\n",
            "\n",
            "Score dict succinct:\n",
            "{'distilgpt2': [{'The 2020 Olympics were held in': {'p_true > p_false': False}}, {'Operation Overlord took place in': {'p_true > p_false': True}}, {'Steve Jobs is the founder of': {'p_true > p_false': True}}], 'gpt2': [{'The 2020 Olympics were held in': {'p_true > p_false': False}}, {'Operation Overlord took place in': {'p_true > p_false': True}}, {'Steve Jobs is the founder of': {'p_true > p_false': True}}], 'gpt2-medium': [{'The 2020 Olympics were held in': {'p_true > p_false': True}}, {'Operation Overlord took place in': {'p_true > p_false': True}}, {'Steve Jobs is the founder of': {'p_true > p_false': True}}], 'gpt2-large': [{'The 2020 Olympics were held in': {'p_true > p_false': True}}, {'Operation Overlord took place in': {'p_true > p_false': True}}, {'Steve Jobs is the founder of': {'p_true > p_false': True}}]}\n",
            "\n",
            "Score dict summary:\n",
            "{'distilgpt2': 'This model got 2/3 facts correct', 'gpt2': 'This model got 2/3 facts correct', 'gpt2-medium': 'This model got 3/3 facts correct', 'gpt2-large': 'This model got 3/3 facts correct'}\n"
          ]
        }
      ],
      "source": [
        "!python run_cka.py configs.gpt2_v0"
      ]
    },
    {
      "cell_type": "code",
      "execution_count": 7,
      "metadata": {
        "id": "AvAcClqXEtgB",
        "colab": {
          "base_uri": "https://localhost:8080/"
        },
        "outputId": "541635bf-da0a-4311-96ea-8e17be75bd4e"
      },
      "outputs": [
        {
          "output_type": "stream",
          "name": "stdout",
          "text": [
            "2023-03-09 03:08:25.978604: I tensorflow/core/platform/cpu_feature_guard.cc:193] This TensorFlow binary is optimized with oneAPI Deep Neural Network Library (oneDNN) to use the following CPU instructions in performance-critical operations:  AVX2 AVX512F FMA\n",
            "To enable them in other operations, rebuild TensorFlow with the appropriate compiler flags.\n",
            "2023-03-09 03:08:28.716364: W tensorflow/compiler/xla/stream_executor/platform/default/dso_loader.cc:64] Could not load dynamic library 'libnvinfer.so.7'; dlerror: libnvinfer.so.7: cannot open shared object file: No such file or directory; LD_LIBRARY_PATH: /usr/lib64-nvidia\n",
            "2023-03-09 03:08:28.717323: W tensorflow/compiler/xla/stream_executor/platform/default/dso_loader.cc:64] Could not load dynamic library 'libnvinfer_plugin.so.7'; dlerror: libnvinfer_plugin.so.7: cannot open shared object file: No such file or directory; LD_LIBRARY_PATH: /usr/lib64-nvidia\n",
            "2023-03-09 03:08:28.717349: W tensorflow/compiler/tf2tensorrt/utils/py_utils.cc:38] TF-TRT Warning: Cannot dlopen some TensorRT libraries. If you would like to use Nvidia GPU with TensorRT, please make sure the missing libraries mentioned above are installed properly.\n",
            "CKA for google/bert_uncased_L-2_H-128_A-2\n",
            "Loading  model...\n",
            "Downloading (…)lve/main/config.json: 100% 382/382 [00:00<00:00, 54.1kB/s]\n",
            "Downloading (…)solve/main/vocab.txt: 100% 232k/232k [00:00<00:00, 901kB/s]\n",
            "Downloading pytorch_model.bin: 100% 17.7M/17.7M [00:00<00:00, 217MB/s]\n",
            "Some weights of the model checkpoint at google/bert_uncased_L-2_H-128_A-2 were not used when initializing BertForMaskedLM: ['cls.seq_relationship.weight', 'cls.seq_relationship.bias']\n",
            "- This IS expected if you are initializing BertForMaskedLM from the checkpoint of a model trained on another task or with another architecture (e.g. initializing a BertForSequenceClassification model from a BertForPreTraining model).\n",
            "- This IS NOT expected if you are initializing BertForMaskedLM from the checkpoint of a model that you expect to be exactly identical (initializing a BertForSequenceClassification model from a BertForSequenceClassification model).\n",
            "Running comparisons...\n",
            "Done\n",
            "\n",
            "CKA for google/bert_uncased_L-4_H-256_A-4\n",
            "Loading  model...\n",
            "Downloading (…)lve/main/config.json: 100% 383/383 [00:00<00:00, 47.3kB/s]\n",
            "Downloading (…)solve/main/vocab.txt: 100% 232k/232k [00:00<00:00, 889kB/s]\n",
            "Downloading pytorch_model.bin: 100% 45.1M/45.1M [00:00<00:00, 314MB/s]\n",
            "Some weights of the model checkpoint at google/bert_uncased_L-4_H-256_A-4 were not used when initializing BertForMaskedLM: ['cls.seq_relationship.bias', 'cls.seq_relationship.weight']\n",
            "- This IS expected if you are initializing BertForMaskedLM from the checkpoint of a model trained on another task or with another architecture (e.g. initializing a BertForSequenceClassification model from a BertForPreTraining model).\n",
            "- This IS NOT expected if you are initializing BertForMaskedLM from the checkpoint of a model that you expect to be exactly identical (initializing a BertForSequenceClassification model from a BertForSequenceClassification model).\n",
            "Running comparisons...\n",
            "Done\n",
            "\n",
            "CKA for google/bert_uncased_L-4_H-512_A-8\n",
            "Loading  model...\n",
            "Downloading (…)lve/main/config.json: 100% 383/383 [00:00<00:00, 129kB/s]\n",
            "Downloading (…)solve/main/vocab.txt: 100% 232k/232k [00:00<00:00, 890kB/s]\n",
            "Downloading pytorch_model.bin: 100% 116M/116M [00:03<00:00, 30.0MB/s]\n",
            "Some weights of the model checkpoint at google/bert_uncased_L-4_H-512_A-8 were not used when initializing BertForMaskedLM: ['cls.seq_relationship.bias', 'cls.seq_relationship.weight']\n",
            "- This IS expected if you are initializing BertForMaskedLM from the checkpoint of a model trained on another task or with another architecture (e.g. initializing a BertForSequenceClassification model from a BertForPreTraining model).\n",
            "- This IS NOT expected if you are initializing BertForMaskedLM from the checkpoint of a model that you expect to be exactly identical (initializing a BertForSequenceClassification model from a BertForSequenceClassification model).\n",
            "Running comparisons...\n",
            "Done\n",
            "\n",
            "CKA for google/bert_uncased_L-8_H-512_A-8\n",
            "Loading  model...\n",
            "Downloading (…)lve/main/config.json: 100% 383/383 [00:00<00:00, 132kB/s]\n",
            "Downloading (…)solve/main/vocab.txt: 100% 232k/232k [00:00<00:00, 888kB/s]\n",
            "Downloading pytorch_model.bin: 100% 167M/167M [00:00<00:00, 271MB/s]\n",
            "Some weights of the model checkpoint at google/bert_uncased_L-8_H-512_A-8 were not used when initializing BertForMaskedLM: ['cls.seq_relationship.bias', 'cls.seq_relationship.weight']\n",
            "- This IS expected if you are initializing BertForMaskedLM from the checkpoint of a model trained on another task or with another architecture (e.g. initializing a BertForSequenceClassification model from a BertForPreTraining model).\n",
            "- This IS NOT expected if you are initializing BertForMaskedLM from the checkpoint of a model that you expect to be exactly identical (initializing a BertForSequenceClassification model from a BertForSequenceClassification model).\n",
            "Running comparisons...\n",
            "Done\n",
            "\n",
            "CKA for distilbert-base-uncased\n",
            "Loading  model...\n",
            "Downloading (…)okenizer_config.json: 100% 28.0/28.0 [00:00<00:00, 3.32kB/s]\n",
            "Downloading (…)lve/main/config.json: 100% 483/483 [00:00<00:00, 169kB/s]\n",
            "Downloading (…)solve/main/vocab.txt: 100% 232k/232k [00:00<00:00, 897kB/s]\n",
            "Downloading (…)/main/tokenizer.json: 100% 466k/466k [00:00<00:00, 1.35MB/s]\n",
            "Downloading pytorch_model.bin: 100% 268M/268M [00:00<00:00, 330MB/s]\n",
            "Running comparisons...\n",
            "Done\n",
            "\n",
            "CKA for bert-base-uncased\n",
            "Loading  model...\n",
            "Downloading (…)okenizer_config.json: 100% 28.0/28.0 [00:00<00:00, 2.69kB/s]\n",
            "Downloading (…)lve/main/config.json: 100% 570/570 [00:00<00:00, 199kB/s]\n",
            "Downloading (…)solve/main/vocab.txt: 100% 232k/232k [00:00<00:00, 903kB/s]\n",
            "Downloading (…)/main/tokenizer.json: 100% 466k/466k [00:00<00:00, 1.09MB/s]\n",
            "Downloading pytorch_model.bin: 100% 440M/440M [00:01<00:00, 257MB/s]\n",
            "Some weights of the model checkpoint at bert-base-uncased were not used when initializing BertForMaskedLM: ['cls.seq_relationship.bias', 'cls.seq_relationship.weight']\n",
            "- This IS expected if you are initializing BertForMaskedLM from the checkpoint of a model trained on another task or with another architecture (e.g. initializing a BertForSequenceClassification model from a BertForPreTraining model).\n",
            "- This IS NOT expected if you are initializing BertForMaskedLM from the checkpoint of a model that you expect to be exactly identical (initializing a BertForSequenceClassification model from a BertForSequenceClassification model).\n",
            "Running comparisons...\n",
            "Done\n",
            "\n",
            "CKA for bert-large-uncased\n",
            "Loading  model...\n",
            "Downloading (…)okenizer_config.json: 100% 28.0/28.0 [00:00<00:00, 1.04kB/s]\n",
            "Downloading (…)lve/main/config.json: 100% 571/571 [00:00<00:00, 185kB/s]\n",
            "Downloading (…)solve/main/vocab.txt: 100% 232k/232k [00:00<00:00, 889kB/s]\n",
            "Downloading (…)/main/tokenizer.json: 100% 466k/466k [00:00<00:00, 1.35MB/s]\n",
            "Downloading pytorch_model.bin: 100% 1.34G/1.34G [00:05<00:00, 265MB/s]\n",
            "Some weights of the model checkpoint at bert-large-uncased were not used when initializing BertForMaskedLM: ['cls.seq_relationship.bias', 'cls.seq_relationship.weight']\n",
            "- This IS expected if you are initializing BertForMaskedLM from the checkpoint of a model trained on another task or with another architecture (e.g. initializing a BertForSequenceClassification model from a BertForPreTraining model).\n",
            "- This IS NOT expected if you are initializing BertForMaskedLM from the checkpoint of a model that you expect to be exactly identical (initializing a BertForSequenceClassification model from a BertForSequenceClassification model).\n",
            "Running comparisons...\n",
            "Done\n",
            "\n",
            "\n",
            "Score dict full:\n",
            "{'google/bert_uncased_l-2_h-128_a-2': [{'The 2020 Olympics were held in [MASK].': {'p_true': 0.001953, 'p_false': 0.0017576217651367188, 'p_true - p_false': 0.00019550323486328125, 'p_true > p_false': True}}, {'Operation Overlord took place in [MASK].': {'p_true': 0.002728, 'p_false': 0.0004382133483886719, 'p_true - p_false': 0.002289295196533203, 'p_true > p_false': True}}, {'Steve Jobs is the founder of [MASK].': {'p_true': 6.986e-05, 'p_false': 0.00011336803436279297, 'p_true - p_false': -4.3511390686035156e-05, 'p_true > p_false': False}}], 'google/bert_uncased_l-4_h-256_a-4': [{'The 2020 Olympics were held in [MASK].': {'p_true': 0.0197, 'p_false': 0.0206451416015625, 'p_true - p_false': -0.000946044921875, 'p_true > p_false': False}}, {'Operation Overlord took place in [MASK].': {'p_true': 0.00075, 'p_false': 0.0006146430969238281, 'p_true - p_false': 0.0001354217529296875, 'p_true > p_false': True}}, {'Steve Jobs is the founder of [MASK].': {'p_true': 0.0002427, 'p_false': 0.00211334228515625, 'p_true - p_false': -0.0018706321716308594, 'p_true > p_false': False}}], 'google/bert_uncased_l-4_h-512_a-8': [{'The 2020 Olympics were held in [MASK].': {'p_true': 0.046, 'p_false': 0.061431884765625, 'p_true - p_false': -0.01544189453125, 'p_true > p_false': False}}, {'Operation Overlord took place in [MASK].': {'p_true': 0.001322, 'p_false': 0.0006914138793945312, 'p_true - p_false': 0.0006303787231445312, 'p_true > p_false': True}}, {'Steve Jobs is the founder of [MASK].': {'p_true': 0.0041, 'p_false': 0.01149749755859375, 'p_true - p_false': -0.007396697998046875, 'p_true > p_false': False}}], 'google/bert_uncased_l-8_h-512_a-8': [{'The 2020 Olympics were held in [MASK].': {'p_true': 0.146, 'p_false': 0.115478515625, 'p_true - p_false': 0.030517578125, 'p_true > p_false': True}}, {'Operation Overlord took place in [MASK].': {'p_true': 0.01122, 'p_false': 2.086162567138672e-06, 'p_true - p_false': 0.011220753192901611, 'p_true > p_false': True}}, {'Steve Jobs is the founder of [MASK].': {'p_true': 0.00144, 'p_false': 0.004833221435546875, 'p_true - p_false': -0.0033931732177734375, 'p_true > p_false': False}}], 'distilbert-base-uncased': [{'The 2020 Olympics were held in [MASK].': {'p_true': 0.2673, 'p_false': 0.007411956787109375, 'p_true - p_false': 0.2599220275878906, 'p_true > p_false': True}}, {'Operation Overlord took place in [MASK].': {'p_true': 0.003584, 'p_false': 2.4616718292236328e-05, 'p_true - p_false': 0.003559291362762451, 'p_true > p_false': True}}, {'Steve Jobs is the founder of [MASK].': {'p_true': 0.087, 'p_false': 0.053192138671875, 'p_true - p_false': 0.033782958984375, 'p_true > p_false': True}}], 'bert-base-uncased': [{'The 2020 Olympics were held in [MASK].': {'p_true': 0.7124, 'p_false': 0.0040130615234375, 'p_true - p_false': 0.7083892822265625, 'p_true > p_false': True}}, {'Operation Overlord took place in [MASK].': {'p_true': 0.01952, 'p_false': 1.3828277587890625e-05, 'p_true - p_false': 0.01950216293334961, 'p_true > p_false': True}}, {'Steve Jobs is the founder of [MASK].': {'p_true': 0.2837, 'p_false': 0.10113525390625, 'p_true - p_false': 0.18255615234375, 'p_true > p_false': True}}], 'bert-large-uncased': [{'The 2020 Olympics were held in [MASK].': {'p_true': 0.1373, 'p_false': 0.047454833984375, 'p_true - p_false': 0.089874267578125, 'p_true > p_false': True}}, {'Operation Overlord took place in [MASK].': {'p_true': 0.0935, 'p_false': 2.7418136596679688e-06, 'p_true - p_false': 0.09350311756134033, 'p_true > p_false': True}}, {'Steve Jobs is the founder of [MASK].': {'p_true': 0.276, 'p_false': 0.027099609375, 'p_true - p_false': 0.248779296875, 'p_true > p_false': True}}]}\n",
            "\n",
            "Score dict succinct:\n",
            "{'google/bert_uncased_l-2_h-128_a-2': [{'The 2020 Olympics were held in [MASK].': {'p_true > p_false': True}}, {'Operation Overlord took place in [MASK].': {'p_true > p_false': True}}, {'Steve Jobs is the founder of [MASK].': {'p_true > p_false': False}}], 'google/bert_uncased_l-4_h-256_a-4': [{'The 2020 Olympics were held in [MASK].': {'p_true > p_false': False}}, {'Operation Overlord took place in [MASK].': {'p_true > p_false': True}}, {'Steve Jobs is the founder of [MASK].': {'p_true > p_false': False}}], 'google/bert_uncased_l-4_h-512_a-8': [{'The 2020 Olympics were held in [MASK].': {'p_true > p_false': False}}, {'Operation Overlord took place in [MASK].': {'p_true > p_false': True}}, {'Steve Jobs is the founder of [MASK].': {'p_true > p_false': False}}], 'google/bert_uncased_l-8_h-512_a-8': [{'The 2020 Olympics were held in [MASK].': {'p_true > p_false': True}}, {'Operation Overlord took place in [MASK].': {'p_true > p_false': True}}, {'Steve Jobs is the founder of [MASK].': {'p_true > p_false': False}}], 'distilbert-base-uncased': [{'The 2020 Olympics were held in [MASK].': {'p_true > p_false': True}}, {'Operation Overlord took place in [MASK].': {'p_true > p_false': True}}, {'Steve Jobs is the founder of [MASK].': {'p_true > p_false': True}}], 'bert-base-uncased': [{'The 2020 Olympics were held in [MASK].': {'p_true > p_false': True}}, {'Operation Overlord took place in [MASK].': {'p_true > p_false': True}}, {'Steve Jobs is the founder of [MASK].': {'p_true > p_false': True}}], 'bert-large-uncased': [{'The 2020 Olympics were held in [MASK].': {'p_true > p_false': True}}, {'Operation Overlord took place in [MASK].': {'p_true > p_false': True}}, {'Steve Jobs is the founder of [MASK].': {'p_true > p_false': True}}]}\n",
            "\n",
            "Score dict summary:\n",
            "{'google/bert_uncased_l-2_h-128_a-2': 'This model got 2/3 facts correct', 'google/bert_uncased_l-4_h-256_a-4': 'This model got 1/3 facts correct', 'google/bert_uncased_l-4_h-512_a-8': 'This model got 1/3 facts correct', 'google/bert_uncased_l-8_h-512_a-8': 'This model got 2/3 facts correct', 'distilbert-base-uncased': 'This model got 3/3 facts correct', 'bert-base-uncased': 'This model got 3/3 facts correct', 'bert-large-uncased': 'This model got 3/3 facts correct'}\n"
          ]
        }
      ],
      "source": [
        "!python run_cka.py configs.bert_v0"
      ]
    },
    {
      "cell_type": "code",
      "source": [
        "!python run_cka.py configs.roberta_v0"
      ],
      "metadata": {
        "colab": {
          "base_uri": "https://localhost:8080/"
        },
        "id": "0_AfmHruPIFv",
        "outputId": "8fc6058b-a5f3-4401-8dae-80c204dfc04d"
      },
      "execution_count": 8,
      "outputs": [
        {
          "output_type": "stream",
          "name": "stdout",
          "text": [
            "2023-03-09 03:10:02.692725: I tensorflow/core/platform/cpu_feature_guard.cc:193] This TensorFlow binary is optimized with oneAPI Deep Neural Network Library (oneDNN) to use the following CPU instructions in performance-critical operations:  AVX2 AVX512F FMA\n",
            "To enable them in other operations, rebuild TensorFlow with the appropriate compiler flags.\n",
            "2023-03-09 03:10:04.421473: W tensorflow/compiler/xla/stream_executor/platform/default/dso_loader.cc:64] Could not load dynamic library 'libnvinfer.so.7'; dlerror: libnvinfer.so.7: cannot open shared object file: No such file or directory; LD_LIBRARY_PATH: /usr/lib64-nvidia\n",
            "2023-03-09 03:10:04.421590: W tensorflow/compiler/xla/stream_executor/platform/default/dso_loader.cc:64] Could not load dynamic library 'libnvinfer_plugin.so.7'; dlerror: libnvinfer_plugin.so.7: cannot open shared object file: No such file or directory; LD_LIBRARY_PATH: /usr/lib64-nvidia\n",
            "2023-03-09 03:10:04.421611: W tensorflow/compiler/tf2tensorrt/utils/py_utils.cc:38] TF-TRT Warning: Cannot dlopen some TensorRT libraries. If you would like to use Nvidia GPU with TensorRT, please make sure the missing libraries mentioned above are installed properly.\n",
            "CKA for distilroberta-base\n",
            "Loading  model...\n",
            "Downloading (…)lve/main/config.json: 100% 480/480 [00:00<00:00, 55.8kB/s]\n",
            "Downloading (…)olve/main/vocab.json: 100% 899k/899k [00:00<00:00, 2.05MB/s]\n",
            "Downloading (…)olve/main/merges.txt: 100% 456k/456k [00:00<00:00, 1.33MB/s]\n",
            "Downloading (…)/main/tokenizer.json: 100% 1.36M/1.36M [00:00<00:00, 3.14MB/s]\n",
            "Downloading pytorch_model.bin: 100% 331M/331M [00:01<00:00, 286MB/s]\n",
            "Running comparisons...\n",
            "Done\n",
            "\n",
            "CKA for roberta-base\n",
            "Loading  model...\n",
            "Downloading (…)lve/main/config.json: 100% 481/481 [00:00<00:00, 75.2kB/s]\n",
            "Downloading (…)olve/main/vocab.json: 100% 899k/899k [00:00<00:00, 2.09MB/s]\n",
            "Downloading (…)olve/main/merges.txt: 100% 456k/456k [00:00<00:00, 1.32MB/s]\n",
            "Downloading (…)/main/tokenizer.json: 100% 1.36M/1.36M [00:00<00:00, 2.65MB/s]\n",
            "Downloading pytorch_model.bin: 100% 501M/501M [00:01<00:00, 326MB/s]\n",
            "Running comparisons...\n",
            "Done\n",
            "\n",
            "CKA for xlm-roberta-base\n",
            "Loading  model...\n",
            "Downloading (…)lve/main/config.json: 100% 615/615 [00:00<00:00, 87.8kB/s]\n",
            "Downloading (…)tencepiece.bpe.model: 100% 5.07M/5.07M [00:00<00:00, 8.36MB/s]\n",
            "Downloading (…)/main/tokenizer.json: 100% 9.10M/9.10M [00:00<00:00, 11.6MB/s]\n",
            "Downloading pytorch_model.bin: 100% 1.12G/1.12G [00:04<00:00, 262MB/s]\n",
            "Running comparisons...\n",
            "Done\n",
            "\n",
            "CKA for roberta-large\n",
            "Loading  model...\n",
            "Downloading (…)lve/main/config.json: 100% 482/482 [00:00<00:00, 20.9kB/s]\n",
            "Downloading (…)olve/main/vocab.json: 100% 899k/899k [00:00<00:00, 2.09MB/s]\n",
            "Downloading (…)olve/main/merges.txt: 100% 456k/456k [00:00<00:00, 1.06MB/s]\n",
            "Downloading (…)/main/tokenizer.json: 100% 1.36M/1.36M [00:00<00:00, 3.15MB/s]\n",
            "Downloading pytorch_model.bin: 100% 1.43G/1.43G [00:12<00:00, 111MB/s]\n",
            "Running comparisons...\n",
            "Done\n",
            "\n",
            "CKA for xlm-roberta-large\n",
            "Loading  model...\n",
            "Downloading (…)lve/main/config.json: 100% 616/616 [00:00<00:00, 223kB/s]\n",
            "Downloading (…)tencepiece.bpe.model: 100% 5.07M/5.07M [00:00<00:00, 8.34MB/s]\n",
            "Downloading (…)/main/tokenizer.json: 100% 9.10M/9.10M [00:00<00:00, 11.6MB/s]\n",
            "Downloading pytorch_model.bin: 100% 2.24G/2.24G [00:08<00:00, 259MB/s]\n",
            "Running comparisons...\n",
            "Done\n",
            "\n",
            "\n",
            "Score dict full:\n",
            "{'distilroberta-base': [{'The 2020 Olympics were held in <mask>.': {'p_true': 0.6587, 'p_false': 0.0084228515625, 'p_true - p_false': 0.6502685546875, 'p_true > p_false': True}}, {'Operation Overlord took place in <mask>.': {'p_true': 0.0015335, 'p_false': 0.00012105703353881836, 'p_true - p_false': 0.0014124512672424316, 'p_true > p_false': True}}, {'Steve Jobs is the founder of <mask>.': {'p_true': 0.5645, 'p_false': 0.076416015625, 'p_true - p_false': 0.488037109375, 'p_true > p_false': True}}], 'roberta-base': [{'The 2020 Olympics were held in <mask>.': {'p_true': 0.961, 'p_false': 0.00109100341796875, 'p_true - p_false': 0.9598464965820312, 'p_true > p_false': True}}, {'Operation Overlord took place in <mask>.': {'p_true': 0.0023, 'p_false': 7.218122482299805e-05, 'p_true - p_false': 0.002228081226348877, 'p_true > p_false': True}}, {'Steve Jobs is the founder of <mask>.': {'p_true': 0.9956, 'p_false': 0.0006961822509765625, 'p_true - p_false': 0.9949092864990234, 'p_true > p_false': True}}], 'xlm-roberta-base': [{'The 2020 Olympics were held in <mask>.': {'p_true': 0.05673, 'p_false': 0.10272216796875, 'p_true - p_false': -0.045989990234375, 'p_true > p_false': False}}, {'Operation Overlord took place in <mask>.': {'p_true': 8.9e-06, 'p_false': 2.002716064453125e-05, 'p_true - p_false': -1.1146068572998047e-05, 'p_true > p_false': False}}, {'Steve Jobs is the founder of <mask>.': {'p_true': 0.4062, 'p_false': 0.032318115234375, 'p_true - p_false': 0.373931884765625, 'p_true > p_false': True}}], 'roberta-large': [{'The 2020 Olympics were held in <mask>.': {'p_true': 0.9873, 'p_false': 5.5789947509765625e-05, 'p_true - p_false': 0.9872488975524902, 'p_true > p_false': True}}, {'Operation Overlord took place in <mask>.': {'p_true': 0.000804, 'p_false': 7.2479248046875e-05, 'p_true - p_false': 0.0007314682006835938, 'p_true > p_false': True}}, {'Steve Jobs is the founder of <mask>.': {'p_true': 0.993, 'p_false': 0.00031304359436035156, 'p_true - p_false': 0.9928510189056396, 'p_true > p_false': True}}], 'xlm-roberta-large': [{'The 2020 Olympics were held in <mask>.': {'p_true': 0.603, 'p_false': 0.095458984375, 'p_true - p_false': 0.507568359375, 'p_true > p_false': True}}, {'Operation Overlord took place in <mask>.': {'p_true': 2.54e-05, 'p_false': 0.0006146430969238281, 'p_true - p_false': -0.0005892515182495117, 'p_true > p_false': False}}, {'Steve Jobs is the founder of <mask>.': {'p_true': 0.9834, 'p_false': 0.0015735626220703125, 'p_true - p_false': 0.9818248748779297, 'p_true > p_false': True}}]}\n",
            "\n",
            "Score dict succinct:\n",
            "{'distilroberta-base': [{'The 2020 Olympics were held in <mask>.': {'p_true > p_false': True}}, {'Operation Overlord took place in <mask>.': {'p_true > p_false': True}}, {'Steve Jobs is the founder of <mask>.': {'p_true > p_false': True}}], 'roberta-base': [{'The 2020 Olympics were held in <mask>.': {'p_true > p_false': True}}, {'Operation Overlord took place in <mask>.': {'p_true > p_false': True}}, {'Steve Jobs is the founder of <mask>.': {'p_true > p_false': True}}], 'xlm-roberta-base': [{'The 2020 Olympics were held in <mask>.': {'p_true > p_false': False}}, {'Operation Overlord took place in <mask>.': {'p_true > p_false': False}}, {'Steve Jobs is the founder of <mask>.': {'p_true > p_false': True}}], 'roberta-large': [{'The 2020 Olympics were held in <mask>.': {'p_true > p_false': True}}, {'Operation Overlord took place in <mask>.': {'p_true > p_false': True}}, {'Steve Jobs is the founder of <mask>.': {'p_true > p_false': True}}], 'xlm-roberta-large': [{'The 2020 Olympics were held in <mask>.': {'p_true > p_false': True}}, {'Operation Overlord took place in <mask>.': {'p_true > p_false': False}}, {'Steve Jobs is the founder of <mask>.': {'p_true > p_false': True}}]}\n",
            "\n",
            "Score dict summary:\n",
            "{'distilroberta-base': 'This model got 3/3 facts correct', 'roberta-base': 'This model got 3/3 facts correct', 'xlm-roberta-base': 'This model got 1/3 facts correct', 'roberta-large': 'This model got 3/3 facts correct', 'xlm-roberta-large': 'This model got 2/3 facts correct'}\n"
          ]
        }
      ]
    },
    {
      "cell_type": "markdown",
      "metadata": {
        "id": "8WXwAZfHMgAY"
      },
      "source": [
        "## Notebook usage"
      ]
    },
    {
      "cell_type": "code",
      "execution_count": 9,
      "metadata": {
        "id": "GVCMUZJXV0mq"
      },
      "outputs": [],
      "source": [
        "from run_cka import main"
      ]
    },
    {
      "cell_type": "markdown",
      "metadata": {
        "id": "_4FP9EpRc7H1"
      },
      "source": [
        "### Google/flans"
      ]
    },
    {
      "cell_type": "code",
      "execution_count": 10,
      "metadata": {
        "id": "13NVylxhao2Y"
      },
      "outputs": [],
      "source": [
        "config = {\n",
        "    \"models\": [\n",
        "        \"google/flan-t5-small\",  # 80M params\n",
        "        # \"google/flan-t5-base\",  # 250M params\n",
        "        # \"google/flan-t5-large\",  # 780M params\n",
        "        # \"google/flan-t5-xl\",  # 3B params\n",
        "        # \"google/flan-t5-xxl\",  # 11B params\n",
        "        # \"google/flan-ul2\",  # 20B params\n",
        "    ],\n",
        "    \"input_information\": {\n",
        "        \"The 2020 Olympics were held in\": [\"Tokyo\", \"London\"],\n",
        "        \"Operation Overlord took place in\": [\"Normandy\", \"Manila\"],\n",
        "        \"Steve Jobs is the founder of\": [\"Apple\", \"Microsoft\"],\n",
        "    },\n",
        "    \"verbosity\": True,\n",
        "}\n"
      ]
    },
    {
      "cell_type": "code",
      "execution_count": 11,
      "metadata": {
        "colab": {
          "base_uri": "https://localhost:8080/"
        },
        "id": "oVkmOngqRp2I",
        "outputId": "9b0f4c06-662c-439e-a343-0ecbcf0f732e"
      },
      "outputs": [
        {
          "output_type": "stream",
          "name": "stdout",
          "text": [
            "CKA for google/flan-t5-small\n",
            "Loading  model...\n",
            "\n",
            "===================================BUG REPORT===================================\n",
            "Welcome to bitsandbytes. For bug reports, please submit your error trace to: https://github.com/TimDettmers/bitsandbytes/issues\n",
            "================================================================================\n",
            "Running comparisons...\n",
            "\tcontext... The 2020 Olympics were held in <extra_id_0>.\n",
            "\ttokenized_context ids... tensor([[   37,  6503, 17793,   130,  1213,    16, 32099,     3,     5,     1]],\n",
            "       device='cuda:0')\n",
            "\tdecoded tokenized_context... The 2020 Olympics were held in<extra_id_0>.</s>\n",
            "\tdecoded target id... Tokyo\n",
            "\tmost probable prediction id decoded... a\n",
            "\tcontext... The 2020 Olympics were held in <extra_id_0>.\n",
            "\ttokenized_context ids... tensor([[   37,  6503, 17793,   130,  1213,    16, 32099,     3,     5,     1]],\n",
            "       device='cuda:0')\n",
            "\tdecoded tokenized_context... The 2020 Olympics were held in<extra_id_0>.</s>\n",
            "\tdecoded target id... London\n",
            "\tmost probable prediction id decoded... a\n",
            "\tcontext... Operation Overlord took place in <extra_id_0>.\n",
            "\ttokenized_context ids... tensor([[ 6411,  1575,  2035,   322,    26,   808,   286,    16, 32099,     3,\n",
            "             5,     1]], device='cuda:0')\n",
            "\tdecoded tokenized_context... Operation Overlord took place in<extra_id_0>.</s>\n",
            "\tdecoded target id... Norman\n",
            "\tmost probable prediction id decoded... or\n",
            "\tcontext... Operation Overlord took place in <extra_id_0>.\n",
            "\ttokenized_context ids... tensor([[ 6411,  1575,  2035,   322,    26,   808,   286,    16, 32099,     3,\n",
            "             5,     1]], device='cuda:0')\n",
            "\tdecoded tokenized_context... Operation Overlord took place in<extra_id_0>.</s>\n",
            "\tdecoded target id... Manila\n",
            "\tmost probable prediction id decoded... or\n",
            "\tcontext... Steve Jobs is the founder of <extra_id_0>.\n",
            "\ttokenized_context ids... tensor([[ 5659, 15106,    19,     8,  7174,    13, 32099,     3,     5,     1]],\n",
            "       device='cuda:0')\n",
            "\tdecoded tokenized_context... Steve Jobs is the founder of<extra_id_0>.</s>\n",
            "\tdecoded target id... Apple\n",
            "\tmost probable prediction id decoded... \n",
            "\tcontext... Steve Jobs is the founder of <extra_id_0>.\n",
            "\ttokenized_context ids... tensor([[ 5659, 15106,    19,     8,  7174,    13, 32099,     3,     5,     1]],\n",
            "       device='cuda:0')\n",
            "\tdecoded tokenized_context... Steve Jobs is the founder of<extra_id_0>.</s>\n",
            "\tdecoded target id... Microsoft\n",
            "\tmost probable prediction id decoded... \n",
            "Done\n",
            "\n"
          ]
        }
      ],
      "source": [
        "score_dict_full, score_dict_succinct, score_dict_summary = main(config)"
      ]
    },
    {
      "cell_type": "code",
      "execution_count": 12,
      "metadata": {
        "colab": {
          "base_uri": "https://localhost:8080/"
        },
        "id": "eN3ov6pRdR6O",
        "outputId": "e7f7815a-6492-40a3-ee86-31a2a6ad5aa0"
      },
      "outputs": [
        {
          "output_type": "execute_result",
          "data": {
            "text/plain": [
              "{'google/flan-t5-small': [{'The 2020 Olympics were held in <extra_id_0>.': {'p_true': 3.46e-06,\n",
              "    'p_false': 2.9742717742919922e-05,\n",
              "    'p_true - p_false': -2.6285648345947266e-05,\n",
              "    'p_true > p_false': False}},\n",
              "  {'Operation Overlord took place in <extra_id_0>.': {'p_true': 2.06e-05,\n",
              "    'p_false': 1.0728836059570312e-06,\n",
              "    'p_true - p_false': 1.9550323486328125e-05,\n",
              "    'p_true > p_false': True}},\n",
              "  {'Steve Jobs is the founder of <extra_id_0>.': {'p_true': 0.0005684,\n",
              "    'p_false': 1.8715858459472656e-05,\n",
              "    'p_true - p_false': 0.0005496740341186523,\n",
              "    'p_true > p_false': True}}]}"
            ]
          },
          "metadata": {},
          "execution_count": 12
        }
      ],
      "source": [
        "score_dict_full"
      ]
    },
    {
      "cell_type": "code",
      "execution_count": 13,
      "metadata": {
        "colab": {
          "base_uri": "https://localhost:8080/"
        },
        "id": "U-yCRhR8ZzrU",
        "outputId": "07b69946-c0d8-4654-86cf-4979e8e223f4"
      },
      "outputs": [
        {
          "output_type": "execute_result",
          "data": {
            "text/plain": [
              "{'google/flan-t5-small': [{'The 2020 Olympics were held in <extra_id_0>.': {'p_true > p_false': False}},\n",
              "  {'Operation Overlord took place in <extra_id_0>.': {'p_true > p_false': True}},\n",
              "  {'Steve Jobs is the founder of <extra_id_0>.': {'p_true > p_false': True}}]}"
            ]
          },
          "metadata": {},
          "execution_count": 13
        }
      ],
      "source": [
        "score_dict_succinct"
      ]
    },
    {
      "cell_type": "code",
      "source": [
        "score_dict_summary"
      ],
      "metadata": {
        "colab": {
          "base_uri": "https://localhost:8080/"
        },
        "id": "GM9wsT0nU61p",
        "outputId": "c2e77c5b-e826-4fcb-9f42-7ab4ebfc5c82"
      },
      "execution_count": 14,
      "outputs": [
        {
          "output_type": "execute_result",
          "data": {
            "text/plain": [
              "{'google/flan-t5-small': 'This model got 2/3 facts correct'}"
            ]
          },
          "metadata": {},
          "execution_count": 14
        }
      ]
    },
    {
      "cell_type": "markdown",
      "metadata": {
        "id": "PFy4ijAPc_mS"
      },
      "source": [
        "### gpt2s"
      ]
    },
    {
      "cell_type": "code",
      "execution_count": 15,
      "metadata": {
        "id": "fXTO0xG4Zzx5"
      },
      "outputs": [],
      "source": [
        "config = {\n",
        "    \"models\": [\n",
        "        \"distilgpt2\",  # 82M params\n",
        "        # \"gpt2\",  # 124M params\n",
        "        # \"gpt2-medium\",  # 355M params\n",
        "        # \"gpt2-large\",  # 774M params\n",
        "        # \"gpt2-xl\",  # 1.5B params\n",
        "    ],\n",
        "    \"input_information\": {\n",
        "        \"The 2020 Olympics were held in\": [\"Tokyo\", \"London\"],\n",
        "        \"Operation Overlord took place in\": [\"Normandy\", \"Manila\"],\n",
        "        \"Steve Jobs is the founder of\": [\"Apple\", \"Microsoft\"],\n",
        "    },\n",
        "    \"verbosity\": True,\n",
        "}\n"
      ]
    },
    {
      "cell_type": "code",
      "execution_count": 16,
      "metadata": {
        "colab": {
          "base_uri": "https://localhost:8080/"
        },
        "id": "1fHCY2r9Zzx6",
        "outputId": "24c44011-3c1c-4dd3-c816-6b8ae70169be"
      },
      "outputs": [
        {
          "output_type": "stream",
          "name": "stdout",
          "text": [
            "CKA for distilgpt2\n",
            "Loading  model...\n",
            "Running comparisons...\n",
            "\tcontext... The 2020 Olympics were held in\n",
            "\ttokenized_context ids... tensor([[  464, 12131, 14935,   547,  2714,   287]], device='cuda:0')\n",
            "\tdecoded tokenized_context... The 2020 Olympics were held in\n",
            "\tdecoded target id...  Tokyo\n",
            "\tmost probable prediction id decoded...  the\n",
            "\tcontext... The 2020 Olympics were held in\n",
            "\ttokenized_context ids... tensor([[  464, 12131, 14935,   547,  2714,   287]], device='cuda:0')\n",
            "\tdecoded tokenized_context... The 2020 Olympics were held in\n",
            "\tdecoded target id...  London\n",
            "\tmost probable prediction id decoded...  the\n",
            "\tcontext... Operation Overlord took place in\n",
            "\ttokenized_context ids... tensor([[32180,  3827, 10572,  1718,  1295,   287]], device='cuda:0')\n",
            "\tdecoded tokenized_context... Operation Overlord took place in\n",
            "\tdecoded target id...  Normandy\n",
            "\tmost probable prediction id decoded...  the\n",
            "\tcontext... Operation Overlord took place in\n",
            "\ttokenized_context ids... tensor([[32180,  3827, 10572,  1718,  1295,   287]], device='cuda:0')\n",
            "\tdecoded tokenized_context... Operation Overlord took place in\n",
            "\tdecoded target id...  Manila\n",
            "\tmost probable prediction id decoded...  the\n",
            "\tcontext... Steve Jobs is the founder of\n",
            "\ttokenized_context ids... tensor([[19206, 19161,   318,   262,  9119,   286]], device='cuda:0')\n",
            "\tdecoded tokenized_context... Steve Jobs is the founder of\n",
            "\tdecoded target id...  Apple\n",
            "\tmost probable prediction id decoded...  the\n",
            "\tcontext... Steve Jobs is the founder of\n",
            "\ttokenized_context ids... tensor([[19206, 19161,   318,   262,  9119,   286]], device='cuda:0')\n",
            "\tdecoded tokenized_context... Steve Jobs is the founder of\n",
            "\tdecoded target id...  Microsoft\n",
            "\tmost probable prediction id decoded...  the\n",
            "Done\n",
            "\n"
          ]
        }
      ],
      "source": [
        "score_dict_full, score_dict_succinct, score_dict_summary = main(config)"
      ]
    },
    {
      "cell_type": "code",
      "execution_count": 17,
      "metadata": {
        "colab": {
          "base_uri": "https://localhost:8080/"
        },
        "id": "tEPONKOhZzx6",
        "outputId": "b4373dbf-a519-479a-bd9c-cd9fecb00093"
      },
      "outputs": [
        {
          "output_type": "execute_result",
          "data": {
            "text/plain": [
              "{'distilgpt2': [{'The 2020 Olympics were held in': {'p_true': 0.01068,\n",
              "    'p_false': 0.0478515625,\n",
              "    'p_true - p_false': -0.03717041015625,\n",
              "    'p_true > p_false': False}},\n",
              "  {'Operation Overlord took place in': {'p_true': 0.0007377,\n",
              "    'p_false': 0.00019848346710205078,\n",
              "    'p_true - p_false': 0.0005391836166381836,\n",
              "    'p_true > p_false': True}},\n",
              "  {'Steve Jobs is the founder of': {'p_true': 0.014046,\n",
              "    'p_false': 0.01201629638671875,\n",
              "    'p_true - p_false': 0.0020294189453125,\n",
              "    'p_true > p_false': True}}]}"
            ]
          },
          "metadata": {},
          "execution_count": 17
        }
      ],
      "source": [
        "score_dict_full"
      ]
    },
    {
      "cell_type": "code",
      "execution_count": 18,
      "metadata": {
        "colab": {
          "base_uri": "https://localhost:8080/"
        },
        "id": "K4bojZ4oZzx6",
        "outputId": "24818852-145b-49b3-eb8e-38e65765c32e"
      },
      "outputs": [
        {
          "output_type": "execute_result",
          "data": {
            "text/plain": [
              "{'distilgpt2': [{'The 2020 Olympics were held in': {'p_true > p_false': False}},\n",
              "  {'Operation Overlord took place in': {'p_true > p_false': True}},\n",
              "  {'Steve Jobs is the founder of': {'p_true > p_false': True}}]}"
            ]
          },
          "metadata": {},
          "execution_count": 18
        }
      ],
      "source": [
        "score_dict_succinct"
      ]
    },
    {
      "cell_type": "code",
      "source": [
        "score_dict_summary"
      ],
      "metadata": {
        "colab": {
          "base_uri": "https://localhost:8080/"
        },
        "id": "jWdZ94ZhU7mE",
        "outputId": "014b1bc3-51dd-4291-a882-815f11d11f87"
      },
      "execution_count": 19,
      "outputs": [
        {
          "output_type": "execute_result",
          "data": {
            "text/plain": [
              "{'distilgpt2': 'This model got 2/3 facts correct'}"
            ]
          },
          "metadata": {},
          "execution_count": 19
        }
      ]
    },
    {
      "cell_type": "markdown",
      "metadata": {
        "id": "x8wbJ-CuFKjz"
      },
      "source": [
        "### Berts"
      ]
    },
    {
      "cell_type": "code",
      "execution_count": 20,
      "metadata": {
        "id": "EOAGREP5FKj0"
      },
      "outputs": [],
      "source": [
        "config = {\n",
        "    \"models\": [\n",
        "        \"bert-base-uncased\",  # 110M params\n",
        "        # \"bert-large-uncased\",  # 330M params\n",
        "    ],\n",
        "    \"input_information\": {\n",
        "        \"The 2020 Olympics were held in\": [\"Tokyo\", \"London\"],\n",
        "        \"Operation Overlord took place in\": [\"Normandy\", \"Manila\"],\n",
        "        \"Steve Jobs is the founder of\": [\"Apple\", \"Microsoft\"],\n",
        "    },\n",
        "    \"verbosity\": True,\n",
        "}\n"
      ]
    },
    {
      "cell_type": "code",
      "execution_count": 21,
      "metadata": {
        "colab": {
          "base_uri": "https://localhost:8080/"
        },
        "outputId": "1273f2da-d9fe-4a77-bfea-312a435778b0",
        "id": "9TeF5CfVFKj0"
      },
      "outputs": [
        {
          "output_type": "stream",
          "name": "stdout",
          "text": [
            "CKA for bert-base-uncased\n",
            "Loading  model...\n"
          ]
        },
        {
          "output_type": "stream",
          "name": "stderr",
          "text": [
            "Some weights of the model checkpoint at bert-base-uncased were not used when initializing BertForMaskedLM: ['cls.seq_relationship.weight', 'cls.seq_relationship.bias']\n",
            "- This IS expected if you are initializing BertForMaskedLM from the checkpoint of a model trained on another task or with another architecture (e.g. initializing a BertForSequenceClassification model from a BertForPreTraining model).\n",
            "- This IS NOT expected if you are initializing BertForMaskedLM from the checkpoint of a model that you expect to be exactly identical (initializing a BertForSequenceClassification model from a BertForSequenceClassification model).\n"
          ]
        },
        {
          "output_type": "stream",
          "name": "stdout",
          "text": [
            "Running comparisons...\n",
            "\tcontext... The 2020 Olympics were held in [MASK].\n",
            "\ttokenized_context ids... tensor([[  101,  1996, 12609,  3783,  2020,  2218,  1999,   103,  1012,   102]],\n",
            "       device='cuda:0')\n",
            "\tdecoded tokenize_context... [CLS] the 2020 olympics were held in [MASK]. [SEP]\n",
            "\tmask token id... 103\n",
            "\tmask token index in context... tensor([7])\n",
            "\tdecoded target id... tokyo\n",
            "\tmost probable prediction id decoded... tokyo\n",
            "\tcontext... The 2020 Olympics were held in [MASK].\n",
            "\ttokenized_context ids... tensor([[  101,  1996, 12609,  3783,  2020,  2218,  1999,   103,  1012,   102]],\n",
            "       device='cuda:0')\n",
            "\tdecoded tokenize_context... [CLS] the 2020 olympics were held in [MASK]. [SEP]\n",
            "\tmask token id... 103\n",
            "\tmask token index in context... tensor([7])\n",
            "\tdecoded target id... london\n",
            "\tmost probable prediction id decoded... tokyo\n",
            "\tcontext... Operation Overlord took place in [MASK].\n",
            "\ttokenized_context ids... tensor([[  101,  3169,  2058, 19980,  2165,  2173,  1999,   103,  1012,   102]],\n",
            "       device='cuda:0')\n",
            "\tdecoded tokenize_context... [CLS] operation overlord took place in [MASK]. [SEP]\n",
            "\tmask token id... 103\n",
            "\tmask token index in context... tensor([7])\n",
            "\tdecoded target id... normandy\n",
            "\tmost probable prediction id decoded... europe\n",
            "\tcontext... Operation Overlord took place in [MASK].\n",
            "\ttokenized_context ids... tensor([[  101,  3169,  2058, 19980,  2165,  2173,  1999,   103,  1012,   102]],\n",
            "       device='cuda:0')\n",
            "\tdecoded tokenize_context... [CLS] operation overlord took place in [MASK]. [SEP]\n",
            "\tmask token id... 103\n",
            "\tmask token index in context... tensor([7])\n",
            "\tdecoded target id... manila\n",
            "\tmost probable prediction id decoded... europe\n",
            "\tcontext... Steve Jobs is the founder of [MASK].\n",
            "\ttokenized_context ids... tensor([[ 101, 3889, 5841, 2003, 1996, 3910, 1997,  103, 1012,  102]],\n",
            "       device='cuda:0')\n",
            "\tdecoded tokenize_context... [CLS] steve jobs is the founder of [MASK]. [SEP]\n",
            "\tmask token id... 103\n",
            "\tmask token index in context... tensor([7])\n",
            "\tdecoded target id... apple\n",
            "\tmost probable prediction id decoded... apple\n",
            "\tcontext... Steve Jobs is the founder of [MASK].\n",
            "\ttokenized_context ids... tensor([[ 101, 3889, 5841, 2003, 1996, 3910, 1997,  103, 1012,  102]],\n",
            "       device='cuda:0')\n",
            "\tdecoded tokenize_context... [CLS] steve jobs is the founder of [MASK]. [SEP]\n",
            "\tmask token id... 103\n",
            "\tmask token index in context... tensor([7])\n",
            "\tdecoded target id... microsoft\n",
            "\tmost probable prediction id decoded... apple\n",
            "Done\n",
            "\n"
          ]
        }
      ],
      "source": [
        "score_dict_full, score_dict_succinct, score_dict_summary = main(config)"
      ]
    },
    {
      "cell_type": "code",
      "execution_count": 22,
      "metadata": {
        "colab": {
          "base_uri": "https://localhost:8080/"
        },
        "outputId": "4ddae391-d110-4d51-e14f-5224553dc6f6",
        "id": "pbmLt931FKj0"
      },
      "outputs": [
        {
          "output_type": "execute_result",
          "data": {
            "text/plain": [
              "{'bert-base-uncased': [{'The 2020 Olympics were held in [MASK].': {'p_true': 0.7124,\n",
              "    'p_false': 0.0040130615234375,\n",
              "    'p_true - p_false': 0.7083892822265625,\n",
              "    'p_true > p_false': True}},\n",
              "  {'Operation Overlord took place in [MASK].': {'p_true': 0.01952,\n",
              "    'p_false': 1.3828277587890625e-05,\n",
              "    'p_true - p_false': 0.01950216293334961,\n",
              "    'p_true > p_false': True}},\n",
              "  {'Steve Jobs is the founder of [MASK].': {'p_true': 0.2837,\n",
              "    'p_false': 0.10113525390625,\n",
              "    'p_true - p_false': 0.18255615234375,\n",
              "    'p_true > p_false': True}}]}"
            ]
          },
          "metadata": {},
          "execution_count": 22
        }
      ],
      "source": [
        "score_dict_full"
      ]
    },
    {
      "cell_type": "code",
      "execution_count": 23,
      "metadata": {
        "colab": {
          "base_uri": "https://localhost:8080/"
        },
        "outputId": "a469cf4f-5e8c-4d9a-a557-8c1cf52aa3be",
        "id": "lBX66NYBFKj0"
      },
      "outputs": [
        {
          "output_type": "execute_result",
          "data": {
            "text/plain": [
              "{'bert-base-uncased': [{'The 2020 Olympics were held in [MASK].': {'p_true > p_false': True}},\n",
              "  {'Operation Overlord took place in [MASK].': {'p_true > p_false': True}},\n",
              "  {'Steve Jobs is the founder of [MASK].': {'p_true > p_false': True}}]}"
            ]
          },
          "metadata": {},
          "execution_count": 23
        }
      ],
      "source": [
        "score_dict_succinct"
      ]
    },
    {
      "cell_type": "code",
      "source": [
        "score_dict_summary"
      ],
      "metadata": {
        "colab": {
          "base_uri": "https://localhost:8080/"
        },
        "id": "N00wRQHVU81g",
        "outputId": "95118afa-5ebd-4600-c9c9-58b471c8fea4"
      },
      "execution_count": 24,
      "outputs": [
        {
          "output_type": "execute_result",
          "data": {
            "text/plain": [
              "{'bert-base-uncased': 'This model got 3/3 facts correct'}"
            ]
          },
          "metadata": {},
          "execution_count": 24
        }
      ]
    },
    {
      "cell_type": "markdown",
      "metadata": {
        "id": "2CzsqOaSPTDo"
      },
      "source": [
        "### Robertas"
      ]
    },
    {
      "cell_type": "code",
      "execution_count": 25,
      "metadata": {
        "id": "XiskLblLPTDp"
      },
      "outputs": [],
      "source": [
        "config = {\n",
        "    \"models\": [\n",
        "        \"distilroberta-base\",  # 82M params\n",
        "        # \"roberta-base\",  # 125M params\n",
        "        # \"xlm-roberta-base\",  # 125M params\n",
        "        # \"roberta-large\",  # 354M params\n",
        "        # \"xlm-roberta-large\",  # 354M params\n",
        "    ],\n",
        "    \"input_information\": {\n",
        "        \"The 2020 Olympics were held in\": [\"Tokyo\", \"London\"],\n",
        "        \"Operation Overlord took place in\": [\"Normandy\", \"Manila\"],\n",
        "        \"Steve Jobs is the founder of\": [\"Apple\", \"Microsoft\"],\n",
        "    },\n",
        "    \"verbosity\": True,\n",
        "}\n"
      ]
    },
    {
      "cell_type": "code",
      "execution_count": 26,
      "metadata": {
        "colab": {
          "base_uri": "https://localhost:8080/"
        },
        "id": "YTS6lZJmPTDp",
        "outputId": "e535a71b-23f5-4640-cda7-ab25e14f423f"
      },
      "outputs": [
        {
          "output_type": "stream",
          "name": "stdout",
          "text": [
            "CKA for distilroberta-base\n",
            "Loading  model...\n",
            "Running comparisons...\n",
            "\tcontext... The 2020 Olympics were held in <mask>.\n",
            "\ttokenized_context ids... tensor([[    0,   133,  2760,  4365,    58,   547,    11, 50264,     4,     2]],\n",
            "       device='cuda:0')\n",
            "\tdecoded tokenize_context... <s>The 2020 Olympics were held in<mask>.</s>\n",
            "\tmask token id... 50264\n",
            "\tmask token index in context... tensor([7])\n",
            "\tdecoded target id...  Tokyo\n",
            "\tmost probable prediction id decoded...  Tokyo\n",
            "\tcontext... The 2020 Olympics were held in <mask>.\n",
            "\ttokenized_context ids... tensor([[    0,   133,  2760,  4365,    58,   547,    11, 50264,     4,     2]],\n",
            "       device='cuda:0')\n",
            "\tdecoded tokenize_context... <s>The 2020 Olympics were held in<mask>.</s>\n",
            "\tmask token id... 50264\n",
            "\tmask token index in context... tensor([7])\n",
            "\tdecoded target id...  London\n",
            "\tmost probable prediction id decoded...  Tokyo\n",
            "\tcontext... Operation Overlord took place in <mask>.\n",
            "\ttokenized_context ids... tensor([[    0, 35360,  2306, 30669,   362,   317,    11, 50264,     4,     2]],\n",
            "       device='cuda:0')\n",
            "\tdecoded tokenize_context... <s>Operation Overlord took place in<mask>.</s>\n",
            "\tmask token id... 50264\n",
            "\tmask token index in context... tensor([7])\n",
            "\tdecoded target id...  Normandy\n",
            "\tmost probable prediction id decoded...  2009\n",
            "\tcontext... Operation Overlord took place in <mask>.\n",
            "\ttokenized_context ids... tensor([[    0, 35360,  2306, 30669,   362,   317,    11, 50264,     4,     2]],\n",
            "       device='cuda:0')\n",
            "\tdecoded tokenize_context... <s>Operation Overlord took place in<mask>.</s>\n",
            "\tmask token id... 50264\n",
            "\tmask token index in context... tensor([7])\n",
            "\tdecoded target id...  Manila\n",
            "\tmost probable prediction id decoded...  2009\n",
            "\tcontext... Steve Jobs is the founder of <mask>.\n",
            "\ttokenized_context ids... tensor([[    0, 21976, 13499,    16,     5,  3787,     9, 50264,     4,     2]],\n",
            "       device='cuda:0')\n",
            "\tdecoded tokenize_context... <s>Steve Jobs is the founder of<mask>.</s>\n",
            "\tmask token id... 50264\n",
            "\tmask token index in context... tensor([7])\n",
            "\tdecoded target id...  Apple\n",
            "\tmost probable prediction id decoded...  Apple\n",
            "\tcontext... Steve Jobs is the founder of <mask>.\n",
            "\ttokenized_context ids... tensor([[    0, 21976, 13499,    16,     5,  3787,     9, 50264,     4,     2]],\n",
            "       device='cuda:0')\n",
            "\tdecoded tokenize_context... <s>Steve Jobs is the founder of<mask>.</s>\n",
            "\tmask token id... 50264\n",
            "\tmask token index in context... tensor([7])\n",
            "\tdecoded target id...  Microsoft\n",
            "\tmost probable prediction id decoded...  Apple\n",
            "Done\n",
            "\n"
          ]
        }
      ],
      "source": [
        "score_dict_full, score_dict_succinct, score_dict_summary = main(config)"
      ]
    },
    {
      "cell_type": "code",
      "execution_count": 27,
      "metadata": {
        "colab": {
          "base_uri": "https://localhost:8080/"
        },
        "id": "G0FH3XA0PTDp",
        "outputId": "8c551160-84b6-4e85-be13-f0748347beda"
      },
      "outputs": [
        {
          "output_type": "execute_result",
          "data": {
            "text/plain": [
              "{'distilroberta-base': [{'The 2020 Olympics were held in <mask>.': {'p_true': 0.6587,\n",
              "    'p_false': 0.0084228515625,\n",
              "    'p_true - p_false': 0.6502685546875,\n",
              "    'p_true > p_false': True}},\n",
              "  {'Operation Overlord took place in <mask>.': {'p_true': 0.0015335,\n",
              "    'p_false': 0.00012105703353881836,\n",
              "    'p_true - p_false': 0.0014124512672424316,\n",
              "    'p_true > p_false': True}},\n",
              "  {'Steve Jobs is the founder of <mask>.': {'p_true': 0.5645,\n",
              "    'p_false': 0.076416015625,\n",
              "    'p_true - p_false': 0.488037109375,\n",
              "    'p_true > p_false': True}}]}"
            ]
          },
          "metadata": {},
          "execution_count": 27
        }
      ],
      "source": [
        "score_dict_full"
      ]
    },
    {
      "cell_type": "code",
      "execution_count": 28,
      "metadata": {
        "colab": {
          "base_uri": "https://localhost:8080/"
        },
        "id": "xjRvVU9DPTDp",
        "outputId": "709aff8b-3724-4183-e063-2d444a20d526"
      },
      "outputs": [
        {
          "output_type": "execute_result",
          "data": {
            "text/plain": [
              "{'distilroberta-base': [{'The 2020 Olympics were held in <mask>.': {'p_true > p_false': True}},\n",
              "  {'Operation Overlord took place in <mask>.': {'p_true > p_false': True}},\n",
              "  {'Steve Jobs is the founder of <mask>.': {'p_true > p_false': True}}]}"
            ]
          },
          "metadata": {},
          "execution_count": 28
        }
      ],
      "source": [
        "score_dict_succinct"
      ]
    },
    {
      "cell_type": "code",
      "source": [
        "score_dict_summary"
      ],
      "metadata": {
        "colab": {
          "base_uri": "https://localhost:8080/"
        },
        "id": "XoL4emnhU9xa",
        "outputId": "b5b37cc3-bc8d-4b3a-b1fc-519c57ecb87d"
      },
      "execution_count": 29,
      "outputs": [
        {
          "output_type": "execute_result",
          "data": {
            "text/plain": [
              "{'distilroberta-base': 'This model got 3/3 facts correct'}"
            ]
          },
          "metadata": {},
          "execution_count": 29
        }
      ]
    },
    {
      "cell_type": "code",
      "source": [],
      "metadata": {
        "id": "AGFcOIO0XU6O"
      },
      "execution_count": 29,
      "outputs": []
    }
  ],
  "metadata": {
    "accelerator": "GPU",
    "colab": {
      "provenance": []
    },
    "gpuClass": "standard",
    "kernelspec": {
      "display_name": "Python 3",
      "name": "python3"
    },
    "language_info": {
      "name": "python"
    }
  },
  "nbformat": 4,
  "nbformat_minor": 0
}