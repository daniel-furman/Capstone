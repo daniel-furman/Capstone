{
  "nbformat": 4,
  "nbformat_minor": 0,
  "metadata": {
    "colab": {
      "provenance": []
    },
    "kernelspec": {
      "name": "python3",
      "display_name": "Python 3"
    },
    "language_info": {
      "name": "python"
    },
    "accelerator": "GPU",
    "gpuClass": "standard"
  },
  "cells": [
    {
      "cell_type": "markdown",
      "source": [
        "# Dev contrastive knowledge assesment (CKA) notebook\n",
        "\n",
        "* See [Capstone Repo](https://github.com/daniel-furman/Capstone) for more details\n",
        "---"
      ],
      "metadata": {
        "id": "Am_Ubq6xTaBz"
      }
    },
    {
      "cell_type": "markdown",
      "source": [
        "## Dependencies"
      ],
      "metadata": {
        "id": "uccv2X7WeJGv"
      }
    },
    {
      "cell_type": "code",
      "source": [
        "!git clone https://github.com/daniel-furman/Capstone.git"
      ],
      "metadata": {
        "colab": {
          "base_uri": "https://localhost:8080/"
        },
        "id": "A4gro-sOZz-O",
        "outputId": "baafa7e2-758c-47a2-e7fe-d22706ddaf21"
      },
      "execution_count": 77,
      "outputs": [
        {
          "output_type": "stream",
          "name": "stdout",
          "text": [
            "fatal: destination path 'Capstone' already exists and is not an empty directory.\n"
          ]
        }
      ]
    },
    {
      "cell_type": "code",
      "source": [
        "!pip install -r /content/Capstone/src/cka/scripts/requirements.txt"
      ],
      "metadata": {
        "colab": {
          "base_uri": "https://localhost:8080/"
        },
        "id": "qaXMJaroH_TI",
        "outputId": "1fc9e58a-8646-4bc3-eaa3-e7d5269eb04b"
      },
      "execution_count": 78,
      "outputs": [
        {
          "output_type": "stream",
          "name": "stdout",
          "text": [
            "Looking in indexes: https://pypi.org/simple, https://us-python.pkg.dev/colab-wheels/public/simple/\n",
            "Requirement already satisfied: numpy==1.22.4 in /usr/local/lib/python3.9/dist-packages (from -r /content/Capstone/src/cka/scripts/requirements.txt (line 1)) (1.22.4)\n",
            "Requirement already satisfied: torch==1.13.1 in /usr/local/lib/python3.9/dist-packages (from -r /content/Capstone/src/cka/scripts/requirements.txt (line 2)) (1.13.1+cu116)\n",
            "Requirement already satisfied: transformers==4.26.1 in /usr/local/lib/python3.9/dist-packages (from -r /content/Capstone/src/cka/scripts/requirements.txt (line 3)) (4.26.1)\n",
            "Requirement already satisfied: sentencepiece==0.1.97 in /usr/local/lib/python3.9/dist-packages (from -r /content/Capstone/src/cka/scripts/requirements.txt (line 4)) (0.1.97)\n",
            "Requirement already satisfied: accelerate==0.16.0 in /usr/local/lib/python3.9/dist-packages (from -r /content/Capstone/src/cka/scripts/requirements.txt (line 5)) (0.16.0)\n",
            "Requirement already satisfied: bitsandbytes==0.37.0 in /usr/local/lib/python3.9/dist-packages (from -r /content/Capstone/src/cka/scripts/requirements.txt (line 6)) (0.37.0)\n",
            "Requirement already satisfied: typing-extensions in /usr/local/lib/python3.9/dist-packages (from torch==1.13.1->-r /content/Capstone/src/cka/scripts/requirements.txt (line 2)) (4.5.0)\n",
            "Requirement already satisfied: packaging>=20.0 in /usr/local/lib/python3.9/dist-packages (from transformers==4.26.1->-r /content/Capstone/src/cka/scripts/requirements.txt (line 3)) (23.0)\n",
            "Requirement already satisfied: tqdm>=4.27 in /usr/local/lib/python3.9/dist-packages (from transformers==4.26.1->-r /content/Capstone/src/cka/scripts/requirements.txt (line 3)) (4.65.0)\n",
            "Requirement already satisfied: regex!=2019.12.17 in /usr/local/lib/python3.9/dist-packages (from transformers==4.26.1->-r /content/Capstone/src/cka/scripts/requirements.txt (line 3)) (2022.6.2)\n",
            "Requirement already satisfied: requests in /usr/local/lib/python3.9/dist-packages (from transformers==4.26.1->-r /content/Capstone/src/cka/scripts/requirements.txt (line 3)) (2.25.1)\n",
            "Requirement already satisfied: tokenizers!=0.11.3,<0.14,>=0.11.1 in /usr/local/lib/python3.9/dist-packages (from transformers==4.26.1->-r /content/Capstone/src/cka/scripts/requirements.txt (line 3)) (0.13.2)\n",
            "Requirement already satisfied: pyyaml>=5.1 in /usr/local/lib/python3.9/dist-packages (from transformers==4.26.1->-r /content/Capstone/src/cka/scripts/requirements.txt (line 3)) (6.0)\n",
            "Requirement already satisfied: huggingface-hub<1.0,>=0.11.0 in /usr/local/lib/python3.9/dist-packages (from transformers==4.26.1->-r /content/Capstone/src/cka/scripts/requirements.txt (line 3)) (0.13.0)\n",
            "Requirement already satisfied: filelock in /usr/local/lib/python3.9/dist-packages (from transformers==4.26.1->-r /content/Capstone/src/cka/scripts/requirements.txt (line 3)) (3.9.0)\n",
            "Requirement already satisfied: psutil in /usr/local/lib/python3.9/dist-packages (from accelerate==0.16.0->-r /content/Capstone/src/cka/scripts/requirements.txt (line 5)) (5.4.8)\n",
            "Requirement already satisfied: chardet<5,>=3.0.2 in /usr/local/lib/python3.9/dist-packages (from requests->transformers==4.26.1->-r /content/Capstone/src/cka/scripts/requirements.txt (line 3)) (4.0.0)\n",
            "Requirement already satisfied: urllib3<1.27,>=1.21.1 in /usr/local/lib/python3.9/dist-packages (from requests->transformers==4.26.1->-r /content/Capstone/src/cka/scripts/requirements.txt (line 3)) (1.26.14)\n",
            "Requirement already satisfied: idna<3,>=2.5 in /usr/local/lib/python3.9/dist-packages (from requests->transformers==4.26.1->-r /content/Capstone/src/cka/scripts/requirements.txt (line 3)) (2.10)\n",
            "Requirement already satisfied: certifi>=2017.4.17 in /usr/local/lib/python3.9/dist-packages (from requests->transformers==4.26.1->-r /content/Capstone/src/cka/scripts/requirements.txt (line 3)) (2022.12.7)\n"
          ]
        }
      ]
    },
    {
      "cell_type": "markdown",
      "source": [
        "## Imports"
      ],
      "metadata": {
        "id": "3yjnEaRtKd8L"
      }
    },
    {
      "cell_type": "code",
      "source": [
        "import os\n",
        "import numpy as np\n",
        "\n",
        "import torch\n",
        "from torch.nn.functional import softmax\n",
        "\n",
        "from transformers import (\n",
        "    set_seed,\n",
        "    AutoTokenizer,\n",
        "    AutoModelForCausalLM,\n",
        "    AutoModelForMaskedLM,\n",
        "    T5Tokenizer,\n",
        "    T5ForConditionalGeneration,\n",
        ")"
      ],
      "metadata": {
        "id": "IJQImaEDTRMr"
      },
      "execution_count": 79,
      "outputs": []
    },
    {
      "cell_type": "code",
      "source": [
        "device = torch.device(\"cuda\")"
      ],
      "metadata": {
        "id": "IcsgN58-SbSE"
      },
      "execution_count": 80,
      "outputs": []
    },
    {
      "cell_type": "markdown",
      "source": [
        "## Dev functions for new models"
      ],
      "metadata": {
        "id": "_4FP9EpRc7H1"
      }
    },
    {
      "cell_type": "code",
      "source": [
        "def probe_flan(model, tokenizer, target_id, context, verbose=False):\n",
        "\n",
        "    # tokenize context\n",
        "    tokenized_context = tokenizer(\n",
        "        context,\n",
        "        padding=\"longest\",\n",
        "        max_length=512,\n",
        "        truncation=True,\n",
        "        return_tensors=\"pt\",\n",
        "    ).to(device) \n",
        "\n",
        "    input_ids = tokenized_context[\"input_ids\"]\n",
        "\n",
        "    # use model to solicit a prediction\n",
        "    outputs = model(\n",
        "        input_ids=input_ids,\n",
        "        decoder_input_ids=torch.tensor([[0, 32099]], device=\"cuda:0\"),\n",
        "        output_hidden_states=True,\n",
        "        return_dict=True,\n",
        "    )\n",
        "\n",
        "    # We have batch size of 1, so grab that, then,\n",
        "    # Take the entire last matrix which corresponds to the last layer\n",
        "    logits = outputs[\"logits\"][0, -1]\n",
        "\n",
        "    # convert our prediction scores to a probability distribution with softmax\n",
        "    probs = softmax(logits, dim=-1)\n",
        "\n",
        "    probs = probs.detach().cpu().numpy()\n",
        "\n",
        "    if verbose:\n",
        "        print(f'\\tcontext... {context}')\n",
        "        print(f'\\ttokenized_context ids... {tokenized_context[\"input_ids\"]}')\n",
        "        print(f'\\tdecoded tokenized_context... {tokenizer.decode(tokenized_context[\"input_ids\"][0])}')\n",
        "        print(f'\\tdecoded target id... {tokenizer.decode([target_id.item()])}')\n",
        "\n",
        "    return probs[target_id.item()]\n",
        "\n",
        "\n",
        "def probe_gpt2(model, tokenizer, target_id, context, verbose=False):\n",
        "\n",
        "    # tokenize context\n",
        "    tokenized_context = tokenizer(\n",
        "        context,\n",
        "        return_tensors=\"pt\",\n",
        "    ).to(device) \n",
        "\n",
        "    input_ids = tokenized_context[\"input_ids\"]\n",
        "\n",
        "    # grab value\n",
        "    target_scalar = target_id.detach().cpu().numpy()\n",
        "\n",
        "    # use model to solicit a prediction\n",
        "    outputs = model(input_ids=input_ids, output_hidden_states=True, return_dict=True)\n",
        "\n",
        "    # shape of 50257 which corresponds to the vocab size of GPT\n",
        "    # every token in GPT's vocab gets a representative prediction from the model\n",
        "    logits = outputs[\"logits\"][0, -1]\n",
        "    # convert our prediction scores to a probability distribution with softmax\n",
        "    probs = softmax(logits, dim=-1)\n",
        "\n",
        "    probs = list(probs.detach().cpu().numpy())\n",
        "\n",
        "    if verbose:\n",
        "        print(f'\\tcontext... {context}')\n",
        "        print(f'\\ttokenized_context ids... {tokenized_context[\"input_ids\"]}')\n",
        "        print(f'\\tdecoded tokenized_context... {tokenizer.decode(tokenized_context[\"input_ids\"][0])}')\n",
        "        print(f'\\tdecoded target id... {tokenizer.decode([target_id.item()])}')\n",
        "        \n",
        "    # double check weird-ness before accessing prob\n",
        "    if len(probs) < target_id:\n",
        "        return None\n",
        "\n",
        "    # return the likelihood that our stipulated target would follow the context,\n",
        "    # according to the model\n",
        "    try:\n",
        "        return np.take(probs, [target_scalar])[0]\n",
        "\n",
        "    except IndexError:\n",
        "\n",
        "        print(\"target index not in model vocabulary scope; raising IndexError\")\n",
        "        return None\n",
        "\n",
        "\n",
        "def probe_bert(model, tokenizer, target_id, context, verbose=False):\n",
        "\n",
        "    # tokenize context\n",
        "    tokenized_context = tokenizer(\n",
        "        context,\n",
        "        padding=\"longest\",\n",
        "        max_length=512,\n",
        "        truncation=True,\n",
        "        return_tensors=\"pt\",\n",
        "    )\n",
        "\n",
        "    mask_token_index = torch.where(tokenized_context[\"input_ids\"] == tokenizer.mask_token_id)[1]\n",
        "\n",
        "    # use model to solicit a prediction\n",
        "    logits = model(**tokenized_context.to(device)).logits\n",
        "    mask_token_logits = logits[0, mask_token_index, :]\n",
        "\n",
        "    # Convert our prediction scores to a probability distribution with softmax\n",
        "    probs = torch.squeeze(softmax(mask_token_logits, dim=-1))\n",
        "\n",
        "    probs = probs.detach().cpu().numpy()\n",
        "\n",
        "    if verbose:\n",
        "        print(f'\\tcontext... {context}')\n",
        "        print(f'\\ttokenized_context ids... {tokenized_context[\"input_ids\"]}')\n",
        "        print(f'\\tdecoded tokenize_context... {tokenizer.decode(tokenized_context[\"input_ids\"][0])}')\n",
        "        print(f'\\tmask token id... {tokenizer.mask_token_id}')\n",
        "        print(f'\\tmask token index in context... {mask_token_index}')\n",
        "        print(f'\\tdecoded target id... {tokenizer.decode([target_id.item()])}')\n",
        "\n",
        "    return probs[target_id.item()]"
      ],
      "metadata": {
        "id": "a_ZuMXQ3STf4"
      },
      "execution_count": 81,
      "outputs": []
    },
    {
      "cell_type": "code",
      "source": [
        "# first, write helper to pull a pretrained LM and tokenizer off the shelf\n",
        "def get_model_and_tokenizer(model_name):\n",
        "    if \"flan\" in model_name.lower():\n",
        "        return T5Tokenizer.from_pretrained(\n",
        "            model_name\n",
        "        ), T5ForConditionalGeneration.from_pretrained(\n",
        "            model_name, load_in_8bit=True, device_map=\"auto\"\n",
        "        )\n",
        "\n",
        "    elif \"gpt\" in model_name.lower():\n",
        "        return AutoTokenizer.from_pretrained(\n",
        "            model_name\n",
        "        ), AutoModelForCausalLM.from_pretrained(\n",
        "            model_name, load_in_8bit=True, device_map=\"auto\"\n",
        "        )\n",
        "\n",
        "    elif \"bert\" in model_name.lower():\n",
        "        return AutoTokenizer.from_pretrained(\n",
        "            model_name\n",
        "        ), AutoModelForMaskedLM.from_pretrained(\n",
        "            model_name, torch_dtype=torch.float16\n",
        "        ).to(device)\n",
        "\n",
        "\n",
        "# next, write a helper to pull a probe function for the given LM\n",
        "def get_probe_function(prefix):\n",
        "    probe_functions = [probe_flan, probe_gpt2, probe_bert]\n",
        "    for func in probe_functions:\n",
        "        if prefix.lower() in func.__name__:\n",
        "            return func\n",
        "\n",
        "\n",
        "# lastly, write a wrapper function to compare models\n",
        "def compare_models(model_name_list, input_pairings, verbose):\n",
        "\n",
        "    \"\"\"\n",
        "    Model-wise comparison helper function\n",
        "\n",
        "    we should be able to do the following:\n",
        "      * input a set of models we want to evaluate\n",
        "      * input an expression of interest\n",
        "      * input a 'true' next-token alonside a false\n",
        "      * and get an output report that contains..\n",
        "        * the 'result' ie is true > false\n",
        "        * the probabilities of both of those values\n",
        "      * running this method over a large set of positive/negative pairings should result in a large pool of information that can be used to compare model-families\n",
        "      * we can also look at the relative 'certainty' across different models (at least in orders of magnitude)\n",
        "\n",
        "    \"\"\"\n",
        "\n",
        "    score_dict_full = {}\n",
        "    score_dict_succinct = {}\n",
        "\n",
        "    for model_name in model_name_list:\n",
        "        print(f\"CKA for {model_name}\")\n",
        "        print(\"Loading  model...\")\n",
        "\n",
        "        # get proper model and tokenizer\n",
        "        tokenizer, model = get_model_and_tokenizer(model_name)\n",
        "\n",
        "        print(\"Running comparisons...\")\n",
        "\n",
        "        # establish prefix\n",
        "        prefix = \"\"\n",
        "        probe_func = None\n",
        "\n",
        "        # get correct CKA function\n",
        "        if (\"t5\" in model_name.lower()) or (\"ul2\" in model_name.lower()):\n",
        "            prefix = \"flan\"\n",
        "            probe_func = get_probe_function(prefix)\n",
        "\n",
        "        elif \"gpt\" in model_name.lower():\n",
        "            prefix = \"gpt\"\n",
        "            probe_func = get_probe_function(prefix)\n",
        "\n",
        "        elif \"bert\" in model_name.lower():\n",
        "            prefix = \"bert\"\n",
        "            probe_func = get_probe_function(prefix)\n",
        "\n",
        "        # iterate over context/entity pairings\n",
        "        # input_pairings is a dict\n",
        "        # context is a plain string (since our context's will be unique)\n",
        "        # and entities is a list containing, in the first slot, the true\n",
        "        # value for the statement and in the subsequent slots, incorrect information\n",
        "\n",
        "        for context, entities in input_pairings.items():\n",
        "            entity_count = 0\n",
        "            p_true = 0.0\n",
        "            p_false = 0.0\n",
        "\n",
        "            if prefix == \"flan\":\n",
        "                context += \" <extra_id_0>.\"\n",
        "\n",
        "            if prefix == \"bert\":\n",
        "                context += \" [MASK].\"\n",
        "\n",
        "            for entity in entities:\n",
        "                target_id = None\n",
        "                # first find target vocab id\n",
        "                # default to the very first token that get's predicted\n",
        "                # e.g. in the case of Tokyo, which gets split into <Tok> <yo>,\n",
        "\n",
        "                if prefix == \"flan\":\n",
        "                    target_id = tokenizer.encode(\n",
        "                        entity,\n",
        "                        padding=\"longest\",\n",
        "                        max_length=512,\n",
        "                        truncation=True,\n",
        "                        return_tensors=\"pt\",\n",
        "                    ).to(device)[0][0]\n",
        "\n",
        "                elif prefix == \"gpt\":\n",
        "                    target_id = tokenizer.encode(entity, return_tensors=\"pt\").to(device)[0][0]\n",
        "                \n",
        "                elif prefix == \"bert\":\n",
        "                    target_id = tokenizer.encode(\n",
        "                        entity,\n",
        "                        padding=\"longest\",\n",
        "                        max_length=512,\n",
        "                        truncation=True,\n",
        "                        return_tensors=\"pt\",\n",
        "                    ).to(device)[0][1]\n",
        "                \n",
        "                # next call probe function\n",
        "                model_prob = probe_func(model, tokenizer, target_id, context, verbose)\n",
        "                \n",
        "                # lastly, register results\n",
        "                if entity_count == 0:\n",
        "                    p_true = model_prob\n",
        "\n",
        "                else:\n",
        "                    p_false += model_prob\n",
        "\n",
        "                entity_count += 1\n",
        "\n",
        "            p_false /= entity_count - 1\n",
        "            score_dict_full[model_name.lower() + \": \" + context] = {\n",
        "                \"p_true\": p_true,\n",
        "                \"p_false\": p_false,\n",
        "                \"p_true - p_false\": p_true - p_false,\n",
        "                \"p_true > p_false\": p_true > p_false,\n",
        "            }\n",
        "\n",
        "            score_dict_succinct[model_name.lower() + \": \" + context] = {\n",
        "                \"p_true > p_false\": p_true > p_false\n",
        "            }\n",
        "\n",
        "        print(\"Done\\n\")\n",
        "        del tokenizer\n",
        "        del model\n",
        "        torch.cuda.empty_cache()\n",
        "\n",
        "    return score_dict_full, score_dict_succinct\n"
      ],
      "metadata": {
        "id": "fLR5_MOvZjCo"
      },
      "execution_count": 82,
      "outputs": []
    },
    {
      "cell_type": "markdown",
      "source": [
        "## Test the functions"
      ],
      "metadata": {
        "id": "2emIMZ2ilA6G"
      }
    },
    {
      "cell_type": "code",
      "source": [
        "def main(config):\n",
        "\n",
        "    set_seed(42)\n",
        "\n",
        "    score_dict_full, score_dict_succinct = compare_models(\n",
        "        config[\"models\"], config[\"input_information\"], config[\"verbosity\"]\n",
        "    )\n",
        "\n",
        "    return score_dict_full, score_dict_succinct"
      ],
      "metadata": {
        "id": "owTTbePjkpDW"
      },
      "execution_count": 83,
      "outputs": []
    },
    {
      "cell_type": "markdown",
      "source": [
        "### Bert"
      ],
      "metadata": {
        "id": "wjc5I0IeyXPe"
      }
    },
    {
      "cell_type": "code",
      "source": [
        "config = {\n",
        "    \"models\": [\n",
        "        \"bert-base-uncased\", # 110M params\n",
        "    ],\n",
        "    \"input_information\": {\n",
        "        \"The 2020 Olympics were held in\": [\"Tokyo\", \"Berlin\"],\n",
        "        \"Operation Overlord took place in\": [\"Normandy\", \"Manila\"],\n",
        "        \"Steve Jobs is the founder of\": [\"Apple\", \"Microsoft\"],\n",
        "    },\n",
        "    \"verbosity\": True\n",
        "}\n"
      ],
      "metadata": {
        "id": "13NVylxhao2Y"
      },
      "execution_count": 84,
      "outputs": []
    },
    {
      "cell_type": "code",
      "source": [
        "score_dict_full, score_dict_succinct = main(config)"
      ],
      "metadata": {
        "colab": {
          "base_uri": "https://localhost:8080/"
        },
        "id": "oVkmOngqRp2I",
        "outputId": "0ca7eee6-dad8-4775-faf4-bb342d259fcb"
      },
      "execution_count": 85,
      "outputs": [
        {
          "output_type": "stream",
          "name": "stdout",
          "text": [
            "CKA for bert-base-uncased\n",
            "Loading  model...\n"
          ]
        },
        {
          "output_type": "stream",
          "name": "stderr",
          "text": [
            "Some weights of the model checkpoint at bert-base-uncased were not used when initializing BertForMaskedLM: ['cls.seq_relationship.bias', 'cls.seq_relationship.weight']\n",
            "- This IS expected if you are initializing BertForMaskedLM from the checkpoint of a model trained on another task or with another architecture (e.g. initializing a BertForSequenceClassification model from a BertForPreTraining model).\n",
            "- This IS NOT expected if you are initializing BertForMaskedLM from the checkpoint of a model that you expect to be exactly identical (initializing a BertForSequenceClassification model from a BertForSequenceClassification model).\n"
          ]
        },
        {
          "output_type": "stream",
          "name": "stdout",
          "text": [
            "Running comparisons...\n",
            "\tcontext... The 2020 Olympics were held in [MASK].\n",
            "\ttokenized_context ids... tensor([[  101,  1996, 12609,  3783,  2020,  2218,  1999,   103,  1012,   102]],\n",
            "       device='cuda:0')\n",
            "\tdecoded tokenize_context... [CLS] the 2020 olympics were held in [MASK]. [SEP]\n",
            "\tmask token id... 103\n",
            "\tmask token index in context... tensor([7])\n",
            "\tdecoded target id... tokyo\n",
            "\tcontext... The 2020 Olympics were held in [MASK].\n",
            "\ttokenized_context ids... tensor([[  101,  1996, 12609,  3783,  2020,  2218,  1999,   103,  1012,   102]],\n",
            "       device='cuda:0')\n",
            "\tdecoded tokenize_context... [CLS] the 2020 olympics were held in [MASK]. [SEP]\n",
            "\tmask token id... 103\n",
            "\tmask token index in context... tensor([7])\n",
            "\tdecoded target id... berlin\n",
            "\tcontext... Operation Overlord took place in [MASK].\n",
            "\ttokenized_context ids... tensor([[  101,  3169,  2058, 19980,  2165,  2173,  1999,   103,  1012,   102]],\n",
            "       device='cuda:0')\n",
            "\tdecoded tokenize_context... [CLS] operation overlord took place in [MASK]. [SEP]\n",
            "\tmask token id... 103\n",
            "\tmask token index in context... tensor([7])\n",
            "\tdecoded target id... normandy\n",
            "\tcontext... Operation Overlord took place in [MASK].\n",
            "\ttokenized_context ids... tensor([[  101,  3169,  2058, 19980,  2165,  2173,  1999,   103,  1012,   102]],\n",
            "       device='cuda:0')\n",
            "\tdecoded tokenize_context... [CLS] operation overlord took place in [MASK]. [SEP]\n",
            "\tmask token id... 103\n",
            "\tmask token index in context... tensor([7])\n",
            "\tdecoded target id... manila\n",
            "\tcontext... Steve Jobs is the founder of [MASK].\n",
            "\ttokenized_context ids... tensor([[ 101, 3889, 5841, 2003, 1996, 3910, 1997,  103, 1012,  102]],\n",
            "       device='cuda:0')\n",
            "\tdecoded tokenize_context... [CLS] steve jobs is the founder of [MASK]. [SEP]\n",
            "\tmask token id... 103\n",
            "\tmask token index in context... tensor([7])\n",
            "\tdecoded target id... apple\n",
            "\tcontext... Steve Jobs is the founder of [MASK].\n",
            "\ttokenized_context ids... tensor([[ 101, 3889, 5841, 2003, 1996, 3910, 1997,  103, 1012,  102]],\n",
            "       device='cuda:0')\n",
            "\tdecoded tokenize_context... [CLS] steve jobs is the founder of [MASK]. [SEP]\n",
            "\tmask token id... 103\n",
            "\tmask token index in context... tensor([7])\n",
            "\tdecoded target id... microsoft\n",
            "Done\n",
            "\n"
          ]
        }
      ]
    },
    {
      "cell_type": "code",
      "source": [
        "score_dict_full"
      ],
      "metadata": {
        "id": "eN3ov6pRdR6O",
        "colab": {
          "base_uri": "https://localhost:8080/"
        },
        "outputId": "ac8227aa-630d-4554-8dc9-6ce2c221ca2f"
      },
      "execution_count": 86,
      "outputs": [
        {
          "output_type": "execute_result",
          "data": {
            "text/plain": [
              "{'bert-base-uncased: The 2020 Olympics were held in [MASK].': {'p_true': 0.7124,\n",
              "  'p_false': 0.0009756088256835938,\n",
              "  'p_true - p_false': 0.7114267349243164,\n",
              "  'p_true > p_false': True},\n",
              " 'bert-base-uncased: Operation Overlord took place in [MASK].': {'p_true': 0.01952,\n",
              "  'p_false': 1.3828277587890625e-05,\n",
              "  'p_true - p_false': 0.01950216293334961,\n",
              "  'p_true > p_false': True},\n",
              " 'bert-base-uncased: Steve Jobs is the founder of [MASK].': {'p_true': 0.2837,\n",
              "  'p_false': 0.10113525390625,\n",
              "  'p_true - p_false': 0.18255615234375,\n",
              "  'p_true > p_false': True}}"
            ]
          },
          "metadata": {},
          "execution_count": 86
        }
      ]
    },
    {
      "cell_type": "code",
      "source": [
        "score_dict_succinct"
      ],
      "metadata": {
        "colab": {
          "base_uri": "https://localhost:8080/"
        },
        "id": "U-yCRhR8ZzrU",
        "outputId": "7f199ded-2d33-4eb8-8335-8501700d5b0a"
      },
      "execution_count": 87,
      "outputs": [
        {
          "output_type": "execute_result",
          "data": {
            "text/plain": [
              "{'bert-base-uncased: The 2020 Olympics were held in [MASK].': {'p_true > p_false': True},\n",
              " 'bert-base-uncased: Operation Overlord took place in [MASK].': {'p_true > p_false': True},\n",
              " 'bert-base-uncased: Steve Jobs is the founder of [MASK].': {'p_true > p_false': True}}"
            ]
          },
          "metadata": {},
          "execution_count": 87
        }
      ]
    },
    {
      "cell_type": "markdown",
      "source": [
        "### gpt2s"
      ],
      "metadata": {
        "id": "RR-ujx3myY6d"
      }
    },
    {
      "cell_type": "code",
      "source": [
        "config = {\n",
        "    \"models\": [\n",
        "        \"distilgpt2\",  # 82M params\n",
        "        #\"gpt2\",  # 124M params\n",
        "        #\"gpt2-medium\",  # 355M params\n",
        "        #\"gpt2-large\",  # 774M params\n",
        "        #\"gpt2-xl\",  # 1.5B params\n",
        "    ],\n",
        "    \"input_information\": {\n",
        "        \"The 2020 Olympics were held in\": [\"Tokyo\", \"Berlin\"],\n",
        "        \"Operation Overlord took place in\": [\"Normandy\", \"Manila\"],\n",
        "        \"Steve Jobs is the founder of\": [\"Apple\", \"Microsoft\"],\n",
        "    },\n",
        "    \"verbosity\": True\n",
        "\n",
        "}\n"
      ],
      "metadata": {
        "id": "fXTO0xG4Zzx5"
      },
      "execution_count": 88,
      "outputs": []
    },
    {
      "cell_type": "code",
      "source": [
        "score_dict_full, score_dict_succinct = main(config)"
      ],
      "metadata": {
        "id": "1fHCY2r9Zzx6",
        "colab": {
          "base_uri": "https://localhost:8080/"
        },
        "outputId": "d2f5b0e9-c24f-4c6d-ed01-fbb35720dc05"
      },
      "execution_count": 89,
      "outputs": [
        {
          "output_type": "stream",
          "name": "stdout",
          "text": [
            "CKA for distilgpt2\n",
            "Loading  model...\n",
            "Running comparisons...\n",
            "\tcontext... The 2020 Olympics were held in\n",
            "\ttokenized_context ids... tensor([[  464, 12131, 14935,   547,  2714,   287]], device='cuda:0')\n",
            "\tdecoded tokenized_context... The 2020 Olympics were held in\n",
            "\tdecoded target id... Tok\n",
            "\tcontext... The 2020 Olympics were held in\n",
            "\ttokenized_context ids... tensor([[  464, 12131, 14935,   547,  2714,   287]], device='cuda:0')\n",
            "\tdecoded tokenized_context... The 2020 Olympics were held in\n",
            "\tdecoded target id... Ber\n",
            "\tcontext... Operation Overlord took place in\n",
            "\ttokenized_context ids... tensor([[32180,  3827, 10572,  1718,  1295,   287]], device='cuda:0')\n",
            "\tdecoded tokenized_context... Operation Overlord took place in\n",
            "\tdecoded target id... Norm\n",
            "\tcontext... Operation Overlord took place in\n",
            "\ttokenized_context ids... tensor([[32180,  3827, 10572,  1718,  1295,   287]], device='cuda:0')\n",
            "\tdecoded tokenized_context... Operation Overlord took place in\n",
            "\tdecoded target id... Man\n",
            "\tcontext... Steve Jobs is the founder of\n",
            "\ttokenized_context ids... tensor([[19206, 19161,   318,   262,  9119,   286]], device='cuda:0')\n",
            "\tdecoded tokenized_context... Steve Jobs is the founder of\n",
            "\tdecoded target id... Apple\n",
            "\tcontext... Steve Jobs is the founder of\n",
            "\ttokenized_context ids... tensor([[19206, 19161,   318,   262,  9119,   286]], device='cuda:0')\n",
            "\tdecoded tokenized_context... Steve Jobs is the founder of\n",
            "\tdecoded target id... Microsoft\n",
            "Done\n",
            "\n"
          ]
        }
      ]
    },
    {
      "cell_type": "code",
      "source": [
        "score_dict_full"
      ],
      "metadata": {
        "id": "tEPONKOhZzx6",
        "colab": {
          "base_uri": "https://localhost:8080/"
        },
        "outputId": "625fb6dd-d53a-4dd6-d1f7-987e948043b1"
      },
      "execution_count": 90,
      "outputs": [
        {
          "output_type": "execute_result",
          "data": {
            "text/plain": [
              "{'distilgpt2: The 2020 Olympics were held in': {'p_true': 4e-07,\n",
              "  'p_false': 5.960464477539063e-08,\n",
              "  'p_true - p_false': 3.5762786865234375e-07,\n",
              "  'p_true > p_false': True},\n",
              " 'distilgpt2: Operation Overlord took place in': {'p_true': 0.0,\n",
              "  'p_false': 1.1920928955078125e-07,\n",
              "  'p_true - p_false': -1.1920928955078125e-07,\n",
              "  'p_true > p_false': False},\n",
              " 'distilgpt2: Steve Jobs is the founder of': {'p_true': 9.36e-06,\n",
              "  'p_false': 6.258487701416016e-06,\n",
              "  'p_true - p_false': 3.0994415283203125e-06,\n",
              "  'p_true > p_false': True}}"
            ]
          },
          "metadata": {},
          "execution_count": 90
        }
      ]
    },
    {
      "cell_type": "code",
      "source": [
        "score_dict_succinct"
      ],
      "metadata": {
        "id": "K4bojZ4oZzx6",
        "colab": {
          "base_uri": "https://localhost:8080/"
        },
        "outputId": "65e95324-a433-46cd-8f2a-731ce66ffa11"
      },
      "execution_count": 91,
      "outputs": [
        {
          "output_type": "execute_result",
          "data": {
            "text/plain": [
              "{'distilgpt2: The 2020 Olympics were held in': {'p_true > p_false': True},\n",
              " 'distilgpt2: Operation Overlord took place in': {'p_true > p_false': False},\n",
              " 'distilgpt2: Steve Jobs is the founder of': {'p_true > p_false': True}}"
            ]
          },
          "metadata": {},
          "execution_count": 91
        }
      ]
    },
    {
      "cell_type": "markdown",
      "source": [
        "### Google/flans"
      ],
      "metadata": {
        "id": "4M_QOAlk4Gvn"
      }
    },
    {
      "cell_type": "code",
      "source": [
        "config = {\n",
        "    \"models\": [\n",
        "        \"google/flan-t5-small\",  # 80M params\n",
        "        # \"google/flan-t5-base\",  # 250M params\n",
        "        # \"google/flan-t5-large\",  # 780M params\n",
        "        # \"google/flan-t5-xl\",  # 3B params\n",
        "        # \"google/flan-t5-xxl\",  # 11B params\n",
        "        # \"google/flan-ul2\",  # 20B params\n",
        "    ],\n",
        "    \"input_information\": {\n",
        "        \"The 2020 Olympics were held in\": [\"Tokyo\", \"Berlin\"],\n",
        "        \"Operation Overlord took place in\": [\"Normandy\", \"Manila\"],\n",
        "        \"Steve Jobs is the founder of\": [\"Apple\", \"Microsoft\"],\n",
        "    },\n",
        "    \"verbosity\": True\n",
        "\n",
        "}\n"
      ],
      "metadata": {
        "id": "h-jeQ58Q4If2"
      },
      "execution_count": 92,
      "outputs": []
    },
    {
      "cell_type": "code",
      "source": [
        "score_dict_full, score_dict_succinct = main(config)"
      ],
      "metadata": {
        "colab": {
          "base_uri": "https://localhost:8080/"
        },
        "outputId": "bc639c32-5c55-41c2-b35f-992cefdfbc8e",
        "id": "Q2zKxFlB4If3"
      },
      "execution_count": 93,
      "outputs": [
        {
          "output_type": "stream",
          "name": "stdout",
          "text": [
            "CKA for google/flan-t5-small\n",
            "Loading  model...\n",
            "Running comparisons...\n",
            "\tcontext... The 2020 Olympics were held in <extra_id_0>.\n",
            "\ttokenized_context ids... tensor([[   37,  6503, 17793,   130,  1213,    16, 32099,     3,     5,     1]],\n",
            "       device='cuda:0')\n",
            "\tdecoded tokenized_context... The 2020 Olympics were held in<extra_id_0>.</s>\n",
            "\tdecoded target id... Tokyo\n",
            "\tcontext... The 2020 Olympics were held in <extra_id_0>.\n",
            "\ttokenized_context ids... tensor([[   37,  6503, 17793,   130,  1213,    16, 32099,     3,     5,     1]],\n",
            "       device='cuda:0')\n",
            "\tdecoded tokenized_context... The 2020 Olympics were held in<extra_id_0>.</s>\n",
            "\tdecoded target id... Berlin\n",
            "\tcontext... Operation Overlord took place in <extra_id_0>.\n",
            "\ttokenized_context ids... tensor([[ 6411,  1575,  2035,   322,    26,   808,   286,    16, 32099,     3,\n",
            "             5,     1]], device='cuda:0')\n",
            "\tdecoded tokenized_context... Operation Overlord took place in<extra_id_0>.</s>\n",
            "\tdecoded target id... Norman\n",
            "\tcontext... Operation Overlord took place in <extra_id_0>.\n",
            "\ttokenized_context ids... tensor([[ 6411,  1575,  2035,   322,    26,   808,   286,    16, 32099,     3,\n",
            "             5,     1]], device='cuda:0')\n",
            "\tdecoded tokenized_context... Operation Overlord took place in<extra_id_0>.</s>\n",
            "\tdecoded target id... Manila\n",
            "\tcontext... Steve Jobs is the founder of <extra_id_0>.\n",
            "\ttokenized_context ids... tensor([[ 5659, 15106,    19,     8,  7174,    13, 32099,     3,     5,     1]],\n",
            "       device='cuda:0')\n",
            "\tdecoded tokenized_context... Steve Jobs is the founder of<extra_id_0>.</s>\n",
            "\tdecoded target id... Apple\n",
            "\tcontext... Steve Jobs is the founder of <extra_id_0>.\n",
            "\ttokenized_context ids... tensor([[ 5659, 15106,    19,     8,  7174,    13, 32099,     3,     5,     1]],\n",
            "       device='cuda:0')\n",
            "\tdecoded tokenized_context... Steve Jobs is the founder of<extra_id_0>.</s>\n",
            "\tdecoded target id... Microsoft\n",
            "Done\n",
            "\n"
          ]
        }
      ]
    },
    {
      "cell_type": "code",
      "source": [
        "score_dict_full"
      ],
      "metadata": {
        "colab": {
          "base_uri": "https://localhost:8080/"
        },
        "outputId": "8e2a38b5-b916-4bf7-c80d-accd2ba33f95",
        "id": "B-P8m5dU4If3"
      },
      "execution_count": 94,
      "outputs": [
        {
          "output_type": "execute_result",
          "data": {
            "text/plain": [
              "{'google/flan-t5-small: The 2020 Olympics were held in <extra_id_0>.': {'p_true': 3.46e-06,\n",
              "  'p_false': 3.5762786865234375e-07,\n",
              "  'p_true - p_false': 3.0994415283203125e-06,\n",
              "  'p_true > p_false': True},\n",
              " 'google/flan-t5-small: Operation Overlord took place in <extra_id_0>.': {'p_true': 2.06e-05,\n",
              "  'p_false': 1.0728836059570312e-06,\n",
              "  'p_true - p_false': 1.9550323486328125e-05,\n",
              "  'p_true > p_false': True},\n",
              " 'google/flan-t5-small: Steve Jobs is the founder of <extra_id_0>.': {'p_true': 0.0005684,\n",
              "  'p_false': 1.8715858459472656e-05,\n",
              "  'p_true - p_false': 0.0005496740341186523,\n",
              "  'p_true > p_false': True}}"
            ]
          },
          "metadata": {},
          "execution_count": 94
        }
      ]
    },
    {
      "cell_type": "code",
      "source": [
        "score_dict_succinct"
      ],
      "metadata": {
        "colab": {
          "base_uri": "https://localhost:8080/"
        },
        "outputId": "30d0d8c0-c100-4b09-f15e-5825c07620d0",
        "id": "WMxxBOMy4If4"
      },
      "execution_count": 95,
      "outputs": [
        {
          "output_type": "execute_result",
          "data": {
            "text/plain": [
              "{'google/flan-t5-small: The 2020 Olympics were held in <extra_id_0>.': {'p_true > p_false': True},\n",
              " 'google/flan-t5-small: Operation Overlord took place in <extra_id_0>.': {'p_true > p_false': True},\n",
              " 'google/flan-t5-small: Steve Jobs is the founder of <extra_id_0>.': {'p_true > p_false': True}}"
            ]
          },
          "metadata": {},
          "execution_count": 95
        }
      ]
    },
    {
      "cell_type": "code",
      "source": [],
      "metadata": {
        "id": "w0sXjIGc5r2S"
      },
      "execution_count": 95,
      "outputs": []
    }
  ]
}