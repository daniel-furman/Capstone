{
  "nbformat": 4,
  "nbformat_minor": 0,
  "metadata": {
    "colab": {
      "provenance": [],
      "collapsed_sections": [
        "mZ3qkD5meSgQ",
        "0DYBtsxM8gdy"
      ]
    },
    "kernelspec": {
      "name": "python3",
      "display_name": "Python 3"
    },
    "language_info": {
      "name": "python"
    },
    "accelerator": "GPU",
    "gpuClass": "standard",
    "widgets": {
      "application/vnd.jupyter.widget-state+json": {
        "4c42c375725d45d2916d61d17d429d2e": {
          "model_module": "@jupyter-widgets/controls",
          "model_name": "HBoxModel",
          "model_module_version": "1.5.0",
          "state": {
            "_dom_classes": [],
            "_model_module": "@jupyter-widgets/controls",
            "_model_module_version": "1.5.0",
            "_model_name": "HBoxModel",
            "_view_count": null,
            "_view_module": "@jupyter-widgets/controls",
            "_view_module_version": "1.5.0",
            "_view_name": "HBoxView",
            "box_style": "",
            "children": [
              "IPY_MODEL_330b26aa75d14668a3da584590914807",
              "IPY_MODEL_d84f926f1f75401eae43a106d1629769",
              "IPY_MODEL_0300c36002144ec4836991b90908b631"
            ],
            "layout": "IPY_MODEL_1a5d9d651ace4a3d92ab218a313cb0b7"
          }
        },
        "330b26aa75d14668a3da584590914807": {
          "model_module": "@jupyter-widgets/controls",
          "model_name": "HTMLModel",
          "model_module_version": "1.5.0",
          "state": {
            "_dom_classes": [],
            "_model_module": "@jupyter-widgets/controls",
            "_model_module_version": "1.5.0",
            "_model_name": "HTMLModel",
            "_view_count": null,
            "_view_module": "@jupyter-widgets/controls",
            "_view_module_version": "1.5.0",
            "_view_name": "HTMLView",
            "description": "",
            "description_tooltip": null,
            "layout": "IPY_MODEL_e1a014d9567a4f4985b35a2b4f0dccef",
            "placeholder": "​",
            "style": "IPY_MODEL_3a77a00c262a4ce186ed59c7ba545278",
            "value": "Downloading (…)lve/main/config.json: 100%"
          }
        },
        "d84f926f1f75401eae43a106d1629769": {
          "model_module": "@jupyter-widgets/controls",
          "model_name": "FloatProgressModel",
          "model_module_version": "1.5.0",
          "state": {
            "_dom_classes": [],
            "_model_module": "@jupyter-widgets/controls",
            "_model_module_version": "1.5.0",
            "_model_name": "FloatProgressModel",
            "_view_count": null,
            "_view_module": "@jupyter-widgets/controls",
            "_view_module_version": "1.5.0",
            "_view_name": "ProgressView",
            "bar_style": "success",
            "description": "",
            "description_tooltip": null,
            "layout": "IPY_MODEL_3168956c37214c1bb85e5abdf5206c73",
            "max": 1206,
            "min": 0,
            "orientation": "horizontal",
            "style": "IPY_MODEL_e6a06d51f7674818802933c83d885b64",
            "value": 1206
          }
        },
        "0300c36002144ec4836991b90908b631": {
          "model_module": "@jupyter-widgets/controls",
          "model_name": "HTMLModel",
          "model_module_version": "1.5.0",
          "state": {
            "_dom_classes": [],
            "_model_module": "@jupyter-widgets/controls",
            "_model_module_version": "1.5.0",
            "_model_name": "HTMLModel",
            "_view_count": null,
            "_view_module": "@jupyter-widgets/controls",
            "_view_module_version": "1.5.0",
            "_view_name": "HTMLView",
            "description": "",
            "description_tooltip": null,
            "layout": "IPY_MODEL_36fa353f16bc45d8a1fddd3f82d6a7d1",
            "placeholder": "​",
            "style": "IPY_MODEL_840a9c3fdead43e4848d6d97a6848a73",
            "value": " 1.21k/1.21k [00:00&lt;00:00, 15.2kB/s]"
          }
        },
        "1a5d9d651ace4a3d92ab218a313cb0b7": {
          "model_module": "@jupyter-widgets/base",
          "model_name": "LayoutModel",
          "model_module_version": "1.2.0",
          "state": {
            "_model_module": "@jupyter-widgets/base",
            "_model_module_version": "1.2.0",
            "_model_name": "LayoutModel",
            "_view_count": null,
            "_view_module": "@jupyter-widgets/base",
            "_view_module_version": "1.2.0",
            "_view_name": "LayoutView",
            "align_content": null,
            "align_items": null,
            "align_self": null,
            "border": null,
            "bottom": null,
            "display": null,
            "flex": null,
            "flex_flow": null,
            "grid_area": null,
            "grid_auto_columns": null,
            "grid_auto_flow": null,
            "grid_auto_rows": null,
            "grid_column": null,
            "grid_gap": null,
            "grid_row": null,
            "grid_template_areas": null,
            "grid_template_columns": null,
            "grid_template_rows": null,
            "height": null,
            "justify_content": null,
            "justify_items": null,
            "left": null,
            "margin": null,
            "max_height": null,
            "max_width": null,
            "min_height": null,
            "min_width": null,
            "object_fit": null,
            "object_position": null,
            "order": null,
            "overflow": null,
            "overflow_x": null,
            "overflow_y": null,
            "padding": null,
            "right": null,
            "top": null,
            "visibility": null,
            "width": null
          }
        },
        "e1a014d9567a4f4985b35a2b4f0dccef": {
          "model_module": "@jupyter-widgets/base",
          "model_name": "LayoutModel",
          "model_module_version": "1.2.0",
          "state": {
            "_model_module": "@jupyter-widgets/base",
            "_model_module_version": "1.2.0",
            "_model_name": "LayoutModel",
            "_view_count": null,
            "_view_module": "@jupyter-widgets/base",
            "_view_module_version": "1.2.0",
            "_view_name": "LayoutView",
            "align_content": null,
            "align_items": null,
            "align_self": null,
            "border": null,
            "bottom": null,
            "display": null,
            "flex": null,
            "flex_flow": null,
            "grid_area": null,
            "grid_auto_columns": null,
            "grid_auto_flow": null,
            "grid_auto_rows": null,
            "grid_column": null,
            "grid_gap": null,
            "grid_row": null,
            "grid_template_areas": null,
            "grid_template_columns": null,
            "grid_template_rows": null,
            "height": null,
            "justify_content": null,
            "justify_items": null,
            "left": null,
            "margin": null,
            "max_height": null,
            "max_width": null,
            "min_height": null,
            "min_width": null,
            "object_fit": null,
            "object_position": null,
            "order": null,
            "overflow": null,
            "overflow_x": null,
            "overflow_y": null,
            "padding": null,
            "right": null,
            "top": null,
            "visibility": null,
            "width": null
          }
        },
        "3a77a00c262a4ce186ed59c7ba545278": {
          "model_module": "@jupyter-widgets/controls",
          "model_name": "DescriptionStyleModel",
          "model_module_version": "1.5.0",
          "state": {
            "_model_module": "@jupyter-widgets/controls",
            "_model_module_version": "1.5.0",
            "_model_name": "DescriptionStyleModel",
            "_view_count": null,
            "_view_module": "@jupyter-widgets/base",
            "_view_module_version": "1.2.0",
            "_view_name": "StyleView",
            "description_width": ""
          }
        },
        "3168956c37214c1bb85e5abdf5206c73": {
          "model_module": "@jupyter-widgets/base",
          "model_name": "LayoutModel",
          "model_module_version": "1.2.0",
          "state": {
            "_model_module": "@jupyter-widgets/base",
            "_model_module_version": "1.2.0",
            "_model_name": "LayoutModel",
            "_view_count": null,
            "_view_module": "@jupyter-widgets/base",
            "_view_module_version": "1.2.0",
            "_view_name": "LayoutView",
            "align_content": null,
            "align_items": null,
            "align_self": null,
            "border": null,
            "bottom": null,
            "display": null,
            "flex": null,
            "flex_flow": null,
            "grid_area": null,
            "grid_auto_columns": null,
            "grid_auto_flow": null,
            "grid_auto_rows": null,
            "grid_column": null,
            "grid_gap": null,
            "grid_row": null,
            "grid_template_areas": null,
            "grid_template_columns": null,
            "grid_template_rows": null,
            "height": null,
            "justify_content": null,
            "justify_items": null,
            "left": null,
            "margin": null,
            "max_height": null,
            "max_width": null,
            "min_height": null,
            "min_width": null,
            "object_fit": null,
            "object_position": null,
            "order": null,
            "overflow": null,
            "overflow_x": null,
            "overflow_y": null,
            "padding": null,
            "right": null,
            "top": null,
            "visibility": null,
            "width": null
          }
        },
        "e6a06d51f7674818802933c83d885b64": {
          "model_module": "@jupyter-widgets/controls",
          "model_name": "ProgressStyleModel",
          "model_module_version": "1.5.0",
          "state": {
            "_model_module": "@jupyter-widgets/controls",
            "_model_module_version": "1.5.0",
            "_model_name": "ProgressStyleModel",
            "_view_count": null,
            "_view_module": "@jupyter-widgets/base",
            "_view_module_version": "1.2.0",
            "_view_name": "StyleView",
            "bar_color": null,
            "description_width": ""
          }
        },
        "36fa353f16bc45d8a1fddd3f82d6a7d1": {
          "model_module": "@jupyter-widgets/base",
          "model_name": "LayoutModel",
          "model_module_version": "1.2.0",
          "state": {
            "_model_module": "@jupyter-widgets/base",
            "_model_module_version": "1.2.0",
            "_model_name": "LayoutModel",
            "_view_count": null,
            "_view_module": "@jupyter-widgets/base",
            "_view_module_version": "1.2.0",
            "_view_name": "LayoutView",
            "align_content": null,
            "align_items": null,
            "align_self": null,
            "border": null,
            "bottom": null,
            "display": null,
            "flex": null,
            "flex_flow": null,
            "grid_area": null,
            "grid_auto_columns": null,
            "grid_auto_flow": null,
            "grid_auto_rows": null,
            "grid_column": null,
            "grid_gap": null,
            "grid_row": null,
            "grid_template_areas": null,
            "grid_template_columns": null,
            "grid_template_rows": null,
            "height": null,
            "justify_content": null,
            "justify_items": null,
            "left": null,
            "margin": null,
            "max_height": null,
            "max_width": null,
            "min_height": null,
            "min_width": null,
            "object_fit": null,
            "object_position": null,
            "order": null,
            "overflow": null,
            "overflow_x": null,
            "overflow_y": null,
            "padding": null,
            "right": null,
            "top": null,
            "visibility": null,
            "width": null
          }
        },
        "840a9c3fdead43e4848d6d97a6848a73": {
          "model_module": "@jupyter-widgets/controls",
          "model_name": "DescriptionStyleModel",
          "model_module_version": "1.5.0",
          "state": {
            "_model_module": "@jupyter-widgets/controls",
            "_model_module_version": "1.5.0",
            "_model_name": "DescriptionStyleModel",
            "_view_count": null,
            "_view_module": "@jupyter-widgets/base",
            "_view_module_version": "1.2.0",
            "_view_name": "StyleView",
            "description_width": ""
          }
        },
        "2dd09c7d52f743ba8b7c95ab58a8d9bc": {
          "model_module": "@jupyter-widgets/controls",
          "model_name": "HBoxModel",
          "model_module_version": "1.5.0",
          "state": {
            "_dom_classes": [],
            "_model_module": "@jupyter-widgets/controls",
            "_model_module_version": "1.5.0",
            "_model_name": "HBoxModel",
            "_view_count": null,
            "_view_module": "@jupyter-widgets/controls",
            "_view_module_version": "1.5.0",
            "_view_name": "HBoxView",
            "box_style": "",
            "children": [
              "IPY_MODEL_356075d669104e61b1e1d26a5c3106ef",
              "IPY_MODEL_05ba4b4eff864cb79c625d2f2dadba5b",
              "IPY_MODEL_4b208135c8fb44978dc79e1df069c7ec"
            ],
            "layout": "IPY_MODEL_72a31e594a974e51a97275c9cc0ec82e"
          }
        },
        "356075d669104e61b1e1d26a5c3106ef": {
          "model_module": "@jupyter-widgets/controls",
          "model_name": "HTMLModel",
          "model_module_version": "1.5.0",
          "state": {
            "_dom_classes": [],
            "_model_module": "@jupyter-widgets/controls",
            "_model_module_version": "1.5.0",
            "_model_name": "HTMLModel",
            "_view_count": null,
            "_view_module": "@jupyter-widgets/controls",
            "_view_module_version": "1.5.0",
            "_view_name": "HTMLView",
            "description": "",
            "description_tooltip": null,
            "layout": "IPY_MODEL_536d594d64c2467fa94cc09be41150ca",
            "placeholder": "​",
            "style": "IPY_MODEL_14065b034d904d0aaf40b6fdd800dc86",
            "value": "Downloading (…)ve/main/spiece.model: 100%"
          }
        },
        "05ba4b4eff864cb79c625d2f2dadba5b": {
          "model_module": "@jupyter-widgets/controls",
          "model_name": "FloatProgressModel",
          "model_module_version": "1.5.0",
          "state": {
            "_dom_classes": [],
            "_model_module": "@jupyter-widgets/controls",
            "_model_module_version": "1.5.0",
            "_model_name": "FloatProgressModel",
            "_view_count": null,
            "_view_module": "@jupyter-widgets/controls",
            "_view_module_version": "1.5.0",
            "_view_name": "ProgressView",
            "bar_style": "success",
            "description": "",
            "description_tooltip": null,
            "layout": "IPY_MODEL_1629e80bd8a9406c95521dd8a52a3490",
            "max": 791656,
            "min": 0,
            "orientation": "horizontal",
            "style": "IPY_MODEL_027b0c2a0672469185c44399be85f211",
            "value": 791656
          }
        },
        "4b208135c8fb44978dc79e1df069c7ec": {
          "model_module": "@jupyter-widgets/controls",
          "model_name": "HTMLModel",
          "model_module_version": "1.5.0",
          "state": {
            "_dom_classes": [],
            "_model_module": "@jupyter-widgets/controls",
            "_model_module_version": "1.5.0",
            "_model_name": "HTMLModel",
            "_view_count": null,
            "_view_module": "@jupyter-widgets/controls",
            "_view_module_version": "1.5.0",
            "_view_name": "HTMLView",
            "description": "",
            "description_tooltip": null,
            "layout": "IPY_MODEL_f0686ddf5bdd4879a613edbded0d2ac3",
            "placeholder": "​",
            "style": "IPY_MODEL_bb40219a137841698e8067e65b1359f7",
            "value": " 792k/792k [00:00&lt;00:00, 2.53MB/s]"
          }
        },
        "72a31e594a974e51a97275c9cc0ec82e": {
          "model_module": "@jupyter-widgets/base",
          "model_name": "LayoutModel",
          "model_module_version": "1.2.0",
          "state": {
            "_model_module": "@jupyter-widgets/base",
            "_model_module_version": "1.2.0",
            "_model_name": "LayoutModel",
            "_view_count": null,
            "_view_module": "@jupyter-widgets/base",
            "_view_module_version": "1.2.0",
            "_view_name": "LayoutView",
            "align_content": null,
            "align_items": null,
            "align_self": null,
            "border": null,
            "bottom": null,
            "display": null,
            "flex": null,
            "flex_flow": null,
            "grid_area": null,
            "grid_auto_columns": null,
            "grid_auto_flow": null,
            "grid_auto_rows": null,
            "grid_column": null,
            "grid_gap": null,
            "grid_row": null,
            "grid_template_areas": null,
            "grid_template_columns": null,
            "grid_template_rows": null,
            "height": null,
            "justify_content": null,
            "justify_items": null,
            "left": null,
            "margin": null,
            "max_height": null,
            "max_width": null,
            "min_height": null,
            "min_width": null,
            "object_fit": null,
            "object_position": null,
            "order": null,
            "overflow": null,
            "overflow_x": null,
            "overflow_y": null,
            "padding": null,
            "right": null,
            "top": null,
            "visibility": null,
            "width": null
          }
        },
        "536d594d64c2467fa94cc09be41150ca": {
          "model_module": "@jupyter-widgets/base",
          "model_name": "LayoutModel",
          "model_module_version": "1.2.0",
          "state": {
            "_model_module": "@jupyter-widgets/base",
            "_model_module_version": "1.2.0",
            "_model_name": "LayoutModel",
            "_view_count": null,
            "_view_module": "@jupyter-widgets/base",
            "_view_module_version": "1.2.0",
            "_view_name": "LayoutView",
            "align_content": null,
            "align_items": null,
            "align_self": null,
            "border": null,
            "bottom": null,
            "display": null,
            "flex": null,
            "flex_flow": null,
            "grid_area": null,
            "grid_auto_columns": null,
            "grid_auto_flow": null,
            "grid_auto_rows": null,
            "grid_column": null,
            "grid_gap": null,
            "grid_row": null,
            "grid_template_areas": null,
            "grid_template_columns": null,
            "grid_template_rows": null,
            "height": null,
            "justify_content": null,
            "justify_items": null,
            "left": null,
            "margin": null,
            "max_height": null,
            "max_width": null,
            "min_height": null,
            "min_width": null,
            "object_fit": null,
            "object_position": null,
            "order": null,
            "overflow": null,
            "overflow_x": null,
            "overflow_y": null,
            "padding": null,
            "right": null,
            "top": null,
            "visibility": null,
            "width": null
          }
        },
        "14065b034d904d0aaf40b6fdd800dc86": {
          "model_module": "@jupyter-widgets/controls",
          "model_name": "DescriptionStyleModel",
          "model_module_version": "1.5.0",
          "state": {
            "_model_module": "@jupyter-widgets/controls",
            "_model_module_version": "1.5.0",
            "_model_name": "DescriptionStyleModel",
            "_view_count": null,
            "_view_module": "@jupyter-widgets/base",
            "_view_module_version": "1.2.0",
            "_view_name": "StyleView",
            "description_width": ""
          }
        },
        "1629e80bd8a9406c95521dd8a52a3490": {
          "model_module": "@jupyter-widgets/base",
          "model_name": "LayoutModel",
          "model_module_version": "1.2.0",
          "state": {
            "_model_module": "@jupyter-widgets/base",
            "_model_module_version": "1.2.0",
            "_model_name": "LayoutModel",
            "_view_count": null,
            "_view_module": "@jupyter-widgets/base",
            "_view_module_version": "1.2.0",
            "_view_name": "LayoutView",
            "align_content": null,
            "align_items": null,
            "align_self": null,
            "border": null,
            "bottom": null,
            "display": null,
            "flex": null,
            "flex_flow": null,
            "grid_area": null,
            "grid_auto_columns": null,
            "grid_auto_flow": null,
            "grid_auto_rows": null,
            "grid_column": null,
            "grid_gap": null,
            "grid_row": null,
            "grid_template_areas": null,
            "grid_template_columns": null,
            "grid_template_rows": null,
            "height": null,
            "justify_content": null,
            "justify_items": null,
            "left": null,
            "margin": null,
            "max_height": null,
            "max_width": null,
            "min_height": null,
            "min_width": null,
            "object_fit": null,
            "object_position": null,
            "order": null,
            "overflow": null,
            "overflow_x": null,
            "overflow_y": null,
            "padding": null,
            "right": null,
            "top": null,
            "visibility": null,
            "width": null
          }
        },
        "027b0c2a0672469185c44399be85f211": {
          "model_module": "@jupyter-widgets/controls",
          "model_name": "ProgressStyleModel",
          "model_module_version": "1.5.0",
          "state": {
            "_model_module": "@jupyter-widgets/controls",
            "_model_module_version": "1.5.0",
            "_model_name": "ProgressStyleModel",
            "_view_count": null,
            "_view_module": "@jupyter-widgets/base",
            "_view_module_version": "1.2.0",
            "_view_name": "StyleView",
            "bar_color": null,
            "description_width": ""
          }
        },
        "f0686ddf5bdd4879a613edbded0d2ac3": {
          "model_module": "@jupyter-widgets/base",
          "model_name": "LayoutModel",
          "model_module_version": "1.2.0",
          "state": {
            "_model_module": "@jupyter-widgets/base",
            "_model_module_version": "1.2.0",
            "_model_name": "LayoutModel",
            "_view_count": null,
            "_view_module": "@jupyter-widgets/base",
            "_view_module_version": "1.2.0",
            "_view_name": "LayoutView",
            "align_content": null,
            "align_items": null,
            "align_self": null,
            "border": null,
            "bottom": null,
            "display": null,
            "flex": null,
            "flex_flow": null,
            "grid_area": null,
            "grid_auto_columns": null,
            "grid_auto_flow": null,
            "grid_auto_rows": null,
            "grid_column": null,
            "grid_gap": null,
            "grid_row": null,
            "grid_template_areas": null,
            "grid_template_columns": null,
            "grid_template_rows": null,
            "height": null,
            "justify_content": null,
            "justify_items": null,
            "left": null,
            "margin": null,
            "max_height": null,
            "max_width": null,
            "min_height": null,
            "min_width": null,
            "object_fit": null,
            "object_position": null,
            "order": null,
            "overflow": null,
            "overflow_x": null,
            "overflow_y": null,
            "padding": null,
            "right": null,
            "top": null,
            "visibility": null,
            "width": null
          }
        },
        "bb40219a137841698e8067e65b1359f7": {
          "model_module": "@jupyter-widgets/controls",
          "model_name": "DescriptionStyleModel",
          "model_module_version": "1.5.0",
          "state": {
            "_model_module": "@jupyter-widgets/controls",
            "_model_module_version": "1.5.0",
            "_model_name": "DescriptionStyleModel",
            "_view_count": null,
            "_view_module": "@jupyter-widgets/base",
            "_view_module_version": "1.2.0",
            "_view_name": "StyleView",
            "description_width": ""
          }
        },
        "30f9960f613b4b0082556d0bb2e1070b": {
          "model_module": "@jupyter-widgets/controls",
          "model_name": "HBoxModel",
          "model_module_version": "1.5.0",
          "state": {
            "_dom_classes": [],
            "_model_module": "@jupyter-widgets/controls",
            "_model_module_version": "1.5.0",
            "_model_name": "HBoxModel",
            "_view_count": null,
            "_view_module": "@jupyter-widgets/controls",
            "_view_module_version": "1.5.0",
            "_view_name": "HBoxView",
            "box_style": "",
            "children": [
              "IPY_MODEL_36f7f69de25442f8ac21391db3a96c9a",
              "IPY_MODEL_7d8b7ce813eb4b73a413f382cbba64b9",
              "IPY_MODEL_14088e181b8343ab9e7a1a3140bd13cb"
            ],
            "layout": "IPY_MODEL_b3cbd6a64dee49399f9d84fb8ab1f7c5"
          }
        },
        "36f7f69de25442f8ac21391db3a96c9a": {
          "model_module": "@jupyter-widgets/controls",
          "model_name": "HTMLModel",
          "model_module_version": "1.5.0",
          "state": {
            "_dom_classes": [],
            "_model_module": "@jupyter-widgets/controls",
            "_model_module_version": "1.5.0",
            "_model_name": "HTMLModel",
            "_view_count": null,
            "_view_module": "@jupyter-widgets/controls",
            "_view_module_version": "1.5.0",
            "_view_name": "HTMLView",
            "description": "",
            "description_tooltip": null,
            "layout": "IPY_MODEL_cbef75114f894038b4e0d298d328ea0a",
            "placeholder": "​",
            "style": "IPY_MODEL_f6fd1ef849704af6b579b61f2ee2679b",
            "value": "Downloading (…)/main/tokenizer.json: 100%"
          }
        },
        "7d8b7ce813eb4b73a413f382cbba64b9": {
          "model_module": "@jupyter-widgets/controls",
          "model_name": "FloatProgressModel",
          "model_module_version": "1.5.0",
          "state": {
            "_dom_classes": [],
            "_model_module": "@jupyter-widgets/controls",
            "_model_module_version": "1.5.0",
            "_model_name": "FloatProgressModel",
            "_view_count": null,
            "_view_module": "@jupyter-widgets/controls",
            "_view_module_version": "1.5.0",
            "_view_name": "ProgressView",
            "bar_style": "success",
            "description": "",
            "description_tooltip": null,
            "layout": "IPY_MODEL_d374b19646914993be52a7a83ca6e242",
            "max": 1389353,
            "min": 0,
            "orientation": "horizontal",
            "style": "IPY_MODEL_fa1b831c299b4e9ea706b0f9089a66c3",
            "value": 1389353
          }
        },
        "14088e181b8343ab9e7a1a3140bd13cb": {
          "model_module": "@jupyter-widgets/controls",
          "model_name": "HTMLModel",
          "model_module_version": "1.5.0",
          "state": {
            "_dom_classes": [],
            "_model_module": "@jupyter-widgets/controls",
            "_model_module_version": "1.5.0",
            "_model_name": "HTMLModel",
            "_view_count": null,
            "_view_module": "@jupyter-widgets/controls",
            "_view_module_version": "1.5.0",
            "_view_name": "HTMLView",
            "description": "",
            "description_tooltip": null,
            "layout": "IPY_MODEL_62ef217efbfc43ac96ce04c94cec113b",
            "placeholder": "​",
            "style": "IPY_MODEL_2df7317a8e2f418083ed01b33f9f4a6d",
            "value": " 1.39M/1.39M [00:00&lt;00:00, 3.20MB/s]"
          }
        },
        "b3cbd6a64dee49399f9d84fb8ab1f7c5": {
          "model_module": "@jupyter-widgets/base",
          "model_name": "LayoutModel",
          "model_module_version": "1.2.0",
          "state": {
            "_model_module": "@jupyter-widgets/base",
            "_model_module_version": "1.2.0",
            "_model_name": "LayoutModel",
            "_view_count": null,
            "_view_module": "@jupyter-widgets/base",
            "_view_module_version": "1.2.0",
            "_view_name": "LayoutView",
            "align_content": null,
            "align_items": null,
            "align_self": null,
            "border": null,
            "bottom": null,
            "display": null,
            "flex": null,
            "flex_flow": null,
            "grid_area": null,
            "grid_auto_columns": null,
            "grid_auto_flow": null,
            "grid_auto_rows": null,
            "grid_column": null,
            "grid_gap": null,
            "grid_row": null,
            "grid_template_areas": null,
            "grid_template_columns": null,
            "grid_template_rows": null,
            "height": null,
            "justify_content": null,
            "justify_items": null,
            "left": null,
            "margin": null,
            "max_height": null,
            "max_width": null,
            "min_height": null,
            "min_width": null,
            "object_fit": null,
            "object_position": null,
            "order": null,
            "overflow": null,
            "overflow_x": null,
            "overflow_y": null,
            "padding": null,
            "right": null,
            "top": null,
            "visibility": null,
            "width": null
          }
        },
        "cbef75114f894038b4e0d298d328ea0a": {
          "model_module": "@jupyter-widgets/base",
          "model_name": "LayoutModel",
          "model_module_version": "1.2.0",
          "state": {
            "_model_module": "@jupyter-widgets/base",
            "_model_module_version": "1.2.0",
            "_model_name": "LayoutModel",
            "_view_count": null,
            "_view_module": "@jupyter-widgets/base",
            "_view_module_version": "1.2.0",
            "_view_name": "LayoutView",
            "align_content": null,
            "align_items": null,
            "align_self": null,
            "border": null,
            "bottom": null,
            "display": null,
            "flex": null,
            "flex_flow": null,
            "grid_area": null,
            "grid_auto_columns": null,
            "grid_auto_flow": null,
            "grid_auto_rows": null,
            "grid_column": null,
            "grid_gap": null,
            "grid_row": null,
            "grid_template_areas": null,
            "grid_template_columns": null,
            "grid_template_rows": null,
            "height": null,
            "justify_content": null,
            "justify_items": null,
            "left": null,
            "margin": null,
            "max_height": null,
            "max_width": null,
            "min_height": null,
            "min_width": null,
            "object_fit": null,
            "object_position": null,
            "order": null,
            "overflow": null,
            "overflow_x": null,
            "overflow_y": null,
            "padding": null,
            "right": null,
            "top": null,
            "visibility": null,
            "width": null
          }
        },
        "f6fd1ef849704af6b579b61f2ee2679b": {
          "model_module": "@jupyter-widgets/controls",
          "model_name": "DescriptionStyleModel",
          "model_module_version": "1.5.0",
          "state": {
            "_model_module": "@jupyter-widgets/controls",
            "_model_module_version": "1.5.0",
            "_model_name": "DescriptionStyleModel",
            "_view_count": null,
            "_view_module": "@jupyter-widgets/base",
            "_view_module_version": "1.2.0",
            "_view_name": "StyleView",
            "description_width": ""
          }
        },
        "d374b19646914993be52a7a83ca6e242": {
          "model_module": "@jupyter-widgets/base",
          "model_name": "LayoutModel",
          "model_module_version": "1.2.0",
          "state": {
            "_model_module": "@jupyter-widgets/base",
            "_model_module_version": "1.2.0",
            "_model_name": "LayoutModel",
            "_view_count": null,
            "_view_module": "@jupyter-widgets/base",
            "_view_module_version": "1.2.0",
            "_view_name": "LayoutView",
            "align_content": null,
            "align_items": null,
            "align_self": null,
            "border": null,
            "bottom": null,
            "display": null,
            "flex": null,
            "flex_flow": null,
            "grid_area": null,
            "grid_auto_columns": null,
            "grid_auto_flow": null,
            "grid_auto_rows": null,
            "grid_column": null,
            "grid_gap": null,
            "grid_row": null,
            "grid_template_areas": null,
            "grid_template_columns": null,
            "grid_template_rows": null,
            "height": null,
            "justify_content": null,
            "justify_items": null,
            "left": null,
            "margin": null,
            "max_height": null,
            "max_width": null,
            "min_height": null,
            "min_width": null,
            "object_fit": null,
            "object_position": null,
            "order": null,
            "overflow": null,
            "overflow_x": null,
            "overflow_y": null,
            "padding": null,
            "right": null,
            "top": null,
            "visibility": null,
            "width": null
          }
        },
        "fa1b831c299b4e9ea706b0f9089a66c3": {
          "model_module": "@jupyter-widgets/controls",
          "model_name": "ProgressStyleModel",
          "model_module_version": "1.5.0",
          "state": {
            "_model_module": "@jupyter-widgets/controls",
            "_model_module_version": "1.5.0",
            "_model_name": "ProgressStyleModel",
            "_view_count": null,
            "_view_module": "@jupyter-widgets/base",
            "_view_module_version": "1.2.0",
            "_view_name": "StyleView",
            "bar_color": null,
            "description_width": ""
          }
        },
        "62ef217efbfc43ac96ce04c94cec113b": {
          "model_module": "@jupyter-widgets/base",
          "model_name": "LayoutModel",
          "model_module_version": "1.2.0",
          "state": {
            "_model_module": "@jupyter-widgets/base",
            "_model_module_version": "1.2.0",
            "_model_name": "LayoutModel",
            "_view_count": null,
            "_view_module": "@jupyter-widgets/base",
            "_view_module_version": "1.2.0",
            "_view_name": "LayoutView",
            "align_content": null,
            "align_items": null,
            "align_self": null,
            "border": null,
            "bottom": null,
            "display": null,
            "flex": null,
            "flex_flow": null,
            "grid_area": null,
            "grid_auto_columns": null,
            "grid_auto_flow": null,
            "grid_auto_rows": null,
            "grid_column": null,
            "grid_gap": null,
            "grid_row": null,
            "grid_template_areas": null,
            "grid_template_columns": null,
            "grid_template_rows": null,
            "height": null,
            "justify_content": null,
            "justify_items": null,
            "left": null,
            "margin": null,
            "max_height": null,
            "max_width": null,
            "min_height": null,
            "min_width": null,
            "object_fit": null,
            "object_position": null,
            "order": null,
            "overflow": null,
            "overflow_x": null,
            "overflow_y": null,
            "padding": null,
            "right": null,
            "top": null,
            "visibility": null,
            "width": null
          }
        },
        "2df7317a8e2f418083ed01b33f9f4a6d": {
          "model_module": "@jupyter-widgets/controls",
          "model_name": "DescriptionStyleModel",
          "model_module_version": "1.5.0",
          "state": {
            "_model_module": "@jupyter-widgets/controls",
            "_model_module_version": "1.5.0",
            "_model_name": "DescriptionStyleModel",
            "_view_count": null,
            "_view_module": "@jupyter-widgets/base",
            "_view_module_version": "1.2.0",
            "_view_name": "StyleView",
            "description_width": ""
          }
        },
        "464db55812a646aa8b3315628f63d003": {
          "model_module": "@jupyter-widgets/controls",
          "model_name": "HBoxModel",
          "model_module_version": "1.5.0",
          "state": {
            "_dom_classes": [],
            "_model_module": "@jupyter-widgets/controls",
            "_model_module_version": "1.5.0",
            "_model_name": "HBoxModel",
            "_view_count": null,
            "_view_module": "@jupyter-widgets/controls",
            "_view_module_version": "1.5.0",
            "_view_name": "HBoxView",
            "box_style": "",
            "children": [
              "IPY_MODEL_09d4b1a208cb49f19f9a366fb38eda5f",
              "IPY_MODEL_10f4e4d06d574b688d0d4667c008ec19",
              "IPY_MODEL_40bd667ef36b4e36a52267b017b66296"
            ],
            "layout": "IPY_MODEL_33c1b204b8574bd58dfc683cb316aa06"
          }
        },
        "09d4b1a208cb49f19f9a366fb38eda5f": {
          "model_module": "@jupyter-widgets/controls",
          "model_name": "HTMLModel",
          "model_module_version": "1.5.0",
          "state": {
            "_dom_classes": [],
            "_model_module": "@jupyter-widgets/controls",
            "_model_module_version": "1.5.0",
            "_model_name": "HTMLModel",
            "_view_count": null,
            "_view_module": "@jupyter-widgets/controls",
            "_view_module_version": "1.5.0",
            "_view_name": "HTMLView",
            "description": "",
            "description_tooltip": null,
            "layout": "IPY_MODEL_b8910570626f4dd99948a9319812142c",
            "placeholder": "​",
            "style": "IPY_MODEL_ee6213224a104dc48c6f4e830e52d670",
            "value": "Downloading (…)&quot;pytorch_model.bin&quot;;: 100%"
          }
        },
        "10f4e4d06d574b688d0d4667c008ec19": {
          "model_module": "@jupyter-widgets/controls",
          "model_name": "FloatProgressModel",
          "model_module_version": "1.5.0",
          "state": {
            "_dom_classes": [],
            "_model_module": "@jupyter-widgets/controls",
            "_model_module_version": "1.5.0",
            "_model_name": "FloatProgressModel",
            "_view_count": null,
            "_view_module": "@jupyter-widgets/controls",
            "_view_module_version": "1.5.0",
            "_view_name": "ProgressView",
            "bar_style": "success",
            "description": "",
            "description_tooltip": null,
            "layout": "IPY_MODEL_136532cfd3234981ae4d4cbfb39fd139",
            "max": 242065649,
            "min": 0,
            "orientation": "horizontal",
            "style": "IPY_MODEL_62589d62a57a432a99cbfd72411c7f7a",
            "value": 242065649
          }
        },
        "40bd667ef36b4e36a52267b017b66296": {
          "model_module": "@jupyter-widgets/controls",
          "model_name": "HTMLModel",
          "model_module_version": "1.5.0",
          "state": {
            "_dom_classes": [],
            "_model_module": "@jupyter-widgets/controls",
            "_model_module_version": "1.5.0",
            "_model_name": "HTMLModel",
            "_view_count": null,
            "_view_module": "@jupyter-widgets/controls",
            "_view_module_version": "1.5.0",
            "_view_name": "HTMLView",
            "description": "",
            "description_tooltip": null,
            "layout": "IPY_MODEL_d48a186de19d4f0992c254aa4421925d",
            "placeholder": "​",
            "style": "IPY_MODEL_77027bf4f75c454ea6f108a0c7eff9dd",
            "value": " 242M/242M [00:01&lt;00:00, 209MB/s]"
          }
        },
        "33c1b204b8574bd58dfc683cb316aa06": {
          "model_module": "@jupyter-widgets/base",
          "model_name": "LayoutModel",
          "model_module_version": "1.2.0",
          "state": {
            "_model_module": "@jupyter-widgets/base",
            "_model_module_version": "1.2.0",
            "_model_name": "LayoutModel",
            "_view_count": null,
            "_view_module": "@jupyter-widgets/base",
            "_view_module_version": "1.2.0",
            "_view_name": "LayoutView",
            "align_content": null,
            "align_items": null,
            "align_self": null,
            "border": null,
            "bottom": null,
            "display": null,
            "flex": null,
            "flex_flow": null,
            "grid_area": null,
            "grid_auto_columns": null,
            "grid_auto_flow": null,
            "grid_auto_rows": null,
            "grid_column": null,
            "grid_gap": null,
            "grid_row": null,
            "grid_template_areas": null,
            "grid_template_columns": null,
            "grid_template_rows": null,
            "height": null,
            "justify_content": null,
            "justify_items": null,
            "left": null,
            "margin": null,
            "max_height": null,
            "max_width": null,
            "min_height": null,
            "min_width": null,
            "object_fit": null,
            "object_position": null,
            "order": null,
            "overflow": null,
            "overflow_x": null,
            "overflow_y": null,
            "padding": null,
            "right": null,
            "top": null,
            "visibility": null,
            "width": null
          }
        },
        "b8910570626f4dd99948a9319812142c": {
          "model_module": "@jupyter-widgets/base",
          "model_name": "LayoutModel",
          "model_module_version": "1.2.0",
          "state": {
            "_model_module": "@jupyter-widgets/base",
            "_model_module_version": "1.2.0",
            "_model_name": "LayoutModel",
            "_view_count": null,
            "_view_module": "@jupyter-widgets/base",
            "_view_module_version": "1.2.0",
            "_view_name": "LayoutView",
            "align_content": null,
            "align_items": null,
            "align_self": null,
            "border": null,
            "bottom": null,
            "display": null,
            "flex": null,
            "flex_flow": null,
            "grid_area": null,
            "grid_auto_columns": null,
            "grid_auto_flow": null,
            "grid_auto_rows": null,
            "grid_column": null,
            "grid_gap": null,
            "grid_row": null,
            "grid_template_areas": null,
            "grid_template_columns": null,
            "grid_template_rows": null,
            "height": null,
            "justify_content": null,
            "justify_items": null,
            "left": null,
            "margin": null,
            "max_height": null,
            "max_width": null,
            "min_height": null,
            "min_width": null,
            "object_fit": null,
            "object_position": null,
            "order": null,
            "overflow": null,
            "overflow_x": null,
            "overflow_y": null,
            "padding": null,
            "right": null,
            "top": null,
            "visibility": null,
            "width": null
          }
        },
        "ee6213224a104dc48c6f4e830e52d670": {
          "model_module": "@jupyter-widgets/controls",
          "model_name": "DescriptionStyleModel",
          "model_module_version": "1.5.0",
          "state": {
            "_model_module": "@jupyter-widgets/controls",
            "_model_module_version": "1.5.0",
            "_model_name": "DescriptionStyleModel",
            "_view_count": null,
            "_view_module": "@jupyter-widgets/base",
            "_view_module_version": "1.2.0",
            "_view_name": "StyleView",
            "description_width": ""
          }
        },
        "136532cfd3234981ae4d4cbfb39fd139": {
          "model_module": "@jupyter-widgets/base",
          "model_name": "LayoutModel",
          "model_module_version": "1.2.0",
          "state": {
            "_model_module": "@jupyter-widgets/base",
            "_model_module_version": "1.2.0",
            "_model_name": "LayoutModel",
            "_view_count": null,
            "_view_module": "@jupyter-widgets/base",
            "_view_module_version": "1.2.0",
            "_view_name": "LayoutView",
            "align_content": null,
            "align_items": null,
            "align_self": null,
            "border": null,
            "bottom": null,
            "display": null,
            "flex": null,
            "flex_flow": null,
            "grid_area": null,
            "grid_auto_columns": null,
            "grid_auto_flow": null,
            "grid_auto_rows": null,
            "grid_column": null,
            "grid_gap": null,
            "grid_row": null,
            "grid_template_areas": null,
            "grid_template_columns": null,
            "grid_template_rows": null,
            "height": null,
            "justify_content": null,
            "justify_items": null,
            "left": null,
            "margin": null,
            "max_height": null,
            "max_width": null,
            "min_height": null,
            "min_width": null,
            "object_fit": null,
            "object_position": null,
            "order": null,
            "overflow": null,
            "overflow_x": null,
            "overflow_y": null,
            "padding": null,
            "right": null,
            "top": null,
            "visibility": null,
            "width": null
          }
        },
        "62589d62a57a432a99cbfd72411c7f7a": {
          "model_module": "@jupyter-widgets/controls",
          "model_name": "ProgressStyleModel",
          "model_module_version": "1.5.0",
          "state": {
            "_model_module": "@jupyter-widgets/controls",
            "_model_module_version": "1.5.0",
            "_model_name": "ProgressStyleModel",
            "_view_count": null,
            "_view_module": "@jupyter-widgets/base",
            "_view_module_version": "1.2.0",
            "_view_name": "StyleView",
            "bar_color": null,
            "description_width": ""
          }
        },
        "d48a186de19d4f0992c254aa4421925d": {
          "model_module": "@jupyter-widgets/base",
          "model_name": "LayoutModel",
          "model_module_version": "1.2.0",
          "state": {
            "_model_module": "@jupyter-widgets/base",
            "_model_module_version": "1.2.0",
            "_model_name": "LayoutModel",
            "_view_count": null,
            "_view_module": "@jupyter-widgets/base",
            "_view_module_version": "1.2.0",
            "_view_name": "LayoutView",
            "align_content": null,
            "align_items": null,
            "align_self": null,
            "border": null,
            "bottom": null,
            "display": null,
            "flex": null,
            "flex_flow": null,
            "grid_area": null,
            "grid_auto_columns": null,
            "grid_auto_flow": null,
            "grid_auto_rows": null,
            "grid_column": null,
            "grid_gap": null,
            "grid_row": null,
            "grid_template_areas": null,
            "grid_template_columns": null,
            "grid_template_rows": null,
            "height": null,
            "justify_content": null,
            "justify_items": null,
            "left": null,
            "margin": null,
            "max_height": null,
            "max_width": null,
            "min_height": null,
            "min_width": null,
            "object_fit": null,
            "object_position": null,
            "order": null,
            "overflow": null,
            "overflow_x": null,
            "overflow_y": null,
            "padding": null,
            "right": null,
            "top": null,
            "visibility": null,
            "width": null
          }
        },
        "77027bf4f75c454ea6f108a0c7eff9dd": {
          "model_module": "@jupyter-widgets/controls",
          "model_name": "DescriptionStyleModel",
          "model_module_version": "1.5.0",
          "state": {
            "_model_module": "@jupyter-widgets/controls",
            "_model_module_version": "1.5.0",
            "_model_name": "DescriptionStyleModel",
            "_view_count": null,
            "_view_module": "@jupyter-widgets/base",
            "_view_module_version": "1.2.0",
            "_view_name": "StyleView",
            "description_width": ""
          }
        },
        "e32f8a5eff254715a88baaa31c995736": {
          "model_module": "@jupyter-widgets/controls",
          "model_name": "HBoxModel",
          "model_module_version": "1.5.0",
          "state": {
            "_dom_classes": [],
            "_model_module": "@jupyter-widgets/controls",
            "_model_module_version": "1.5.0",
            "_model_name": "HBoxModel",
            "_view_count": null,
            "_view_module": "@jupyter-widgets/controls",
            "_view_module_version": "1.5.0",
            "_view_name": "HBoxView",
            "box_style": "",
            "children": [
              "IPY_MODEL_6ab25f1ef9cf485e933da84ff47659aa",
              "IPY_MODEL_a45c6163668340699b3c1b509c788292",
              "IPY_MODEL_8cf211d19b88461aa5972e1fba8cd999"
            ],
            "layout": "IPY_MODEL_8dc0da9450944353b0f0a482827d2790"
          }
        },
        "6ab25f1ef9cf485e933da84ff47659aa": {
          "model_module": "@jupyter-widgets/controls",
          "model_name": "HTMLModel",
          "model_module_version": "1.5.0",
          "state": {
            "_dom_classes": [],
            "_model_module": "@jupyter-widgets/controls",
            "_model_module_version": "1.5.0",
            "_model_name": "HTMLModel",
            "_view_count": null,
            "_view_module": "@jupyter-widgets/controls",
            "_view_module_version": "1.5.0",
            "_view_name": "HTMLView",
            "description": "",
            "description_tooltip": null,
            "layout": "IPY_MODEL_3c4be383a9504210ba4803b0faa8f51c",
            "placeholder": "​",
            "style": "IPY_MODEL_a01972aef0284c5390fc532e661bae60",
            "value": "Downloading (…)neration_config.json: 100%"
          }
        },
        "a45c6163668340699b3c1b509c788292": {
          "model_module": "@jupyter-widgets/controls",
          "model_name": "FloatProgressModel",
          "model_module_version": "1.5.0",
          "state": {
            "_dom_classes": [],
            "_model_module": "@jupyter-widgets/controls",
            "_model_module_version": "1.5.0",
            "_model_name": "FloatProgressModel",
            "_view_count": null,
            "_view_module": "@jupyter-widgets/controls",
            "_view_module_version": "1.5.0",
            "_view_name": "ProgressView",
            "bar_style": "success",
            "description": "",
            "description_tooltip": null,
            "layout": "IPY_MODEL_ddbe4a1737b04434bf62615f2bfa964c",
            "max": 147,
            "min": 0,
            "orientation": "horizontal",
            "style": "IPY_MODEL_52b21592324b4230b21c5e9a3ebd2878",
            "value": 147
          }
        },
        "8cf211d19b88461aa5972e1fba8cd999": {
          "model_module": "@jupyter-widgets/controls",
          "model_name": "HTMLModel",
          "model_module_version": "1.5.0",
          "state": {
            "_dom_classes": [],
            "_model_module": "@jupyter-widgets/controls",
            "_model_module_version": "1.5.0",
            "_model_name": "HTMLModel",
            "_view_count": null,
            "_view_module": "@jupyter-widgets/controls",
            "_view_module_version": "1.5.0",
            "_view_name": "HTMLView",
            "description": "",
            "description_tooltip": null,
            "layout": "IPY_MODEL_89da7257130049b49daa525a4319462f",
            "placeholder": "​",
            "style": "IPY_MODEL_6a29dbdef0f3408dac9495d9888574b2",
            "value": " 147/147 [00:00&lt;00:00, 2.57kB/s]"
          }
        },
        "8dc0da9450944353b0f0a482827d2790": {
          "model_module": "@jupyter-widgets/base",
          "model_name": "LayoutModel",
          "model_module_version": "1.2.0",
          "state": {
            "_model_module": "@jupyter-widgets/base",
            "_model_module_version": "1.2.0",
            "_model_name": "LayoutModel",
            "_view_count": null,
            "_view_module": "@jupyter-widgets/base",
            "_view_module_version": "1.2.0",
            "_view_name": "LayoutView",
            "align_content": null,
            "align_items": null,
            "align_self": null,
            "border": null,
            "bottom": null,
            "display": null,
            "flex": null,
            "flex_flow": null,
            "grid_area": null,
            "grid_auto_columns": null,
            "grid_auto_flow": null,
            "grid_auto_rows": null,
            "grid_column": null,
            "grid_gap": null,
            "grid_row": null,
            "grid_template_areas": null,
            "grid_template_columns": null,
            "grid_template_rows": null,
            "height": null,
            "justify_content": null,
            "justify_items": null,
            "left": null,
            "margin": null,
            "max_height": null,
            "max_width": null,
            "min_height": null,
            "min_width": null,
            "object_fit": null,
            "object_position": null,
            "order": null,
            "overflow": null,
            "overflow_x": null,
            "overflow_y": null,
            "padding": null,
            "right": null,
            "top": null,
            "visibility": null,
            "width": null
          }
        },
        "3c4be383a9504210ba4803b0faa8f51c": {
          "model_module": "@jupyter-widgets/base",
          "model_name": "LayoutModel",
          "model_module_version": "1.2.0",
          "state": {
            "_model_module": "@jupyter-widgets/base",
            "_model_module_version": "1.2.0",
            "_model_name": "LayoutModel",
            "_view_count": null,
            "_view_module": "@jupyter-widgets/base",
            "_view_module_version": "1.2.0",
            "_view_name": "LayoutView",
            "align_content": null,
            "align_items": null,
            "align_self": null,
            "border": null,
            "bottom": null,
            "display": null,
            "flex": null,
            "flex_flow": null,
            "grid_area": null,
            "grid_auto_columns": null,
            "grid_auto_flow": null,
            "grid_auto_rows": null,
            "grid_column": null,
            "grid_gap": null,
            "grid_row": null,
            "grid_template_areas": null,
            "grid_template_columns": null,
            "grid_template_rows": null,
            "height": null,
            "justify_content": null,
            "justify_items": null,
            "left": null,
            "margin": null,
            "max_height": null,
            "max_width": null,
            "min_height": null,
            "min_width": null,
            "object_fit": null,
            "object_position": null,
            "order": null,
            "overflow": null,
            "overflow_x": null,
            "overflow_y": null,
            "padding": null,
            "right": null,
            "top": null,
            "visibility": null,
            "width": null
          }
        },
        "a01972aef0284c5390fc532e661bae60": {
          "model_module": "@jupyter-widgets/controls",
          "model_name": "DescriptionStyleModel",
          "model_module_version": "1.5.0",
          "state": {
            "_model_module": "@jupyter-widgets/controls",
            "_model_module_version": "1.5.0",
            "_model_name": "DescriptionStyleModel",
            "_view_count": null,
            "_view_module": "@jupyter-widgets/base",
            "_view_module_version": "1.2.0",
            "_view_name": "StyleView",
            "description_width": ""
          }
        },
        "ddbe4a1737b04434bf62615f2bfa964c": {
          "model_module": "@jupyter-widgets/base",
          "model_name": "LayoutModel",
          "model_module_version": "1.2.0",
          "state": {
            "_model_module": "@jupyter-widgets/base",
            "_model_module_version": "1.2.0",
            "_model_name": "LayoutModel",
            "_view_count": null,
            "_view_module": "@jupyter-widgets/base",
            "_view_module_version": "1.2.0",
            "_view_name": "LayoutView",
            "align_content": null,
            "align_items": null,
            "align_self": null,
            "border": null,
            "bottom": null,
            "display": null,
            "flex": null,
            "flex_flow": null,
            "grid_area": null,
            "grid_auto_columns": null,
            "grid_auto_flow": null,
            "grid_auto_rows": null,
            "grid_column": null,
            "grid_gap": null,
            "grid_row": null,
            "grid_template_areas": null,
            "grid_template_columns": null,
            "grid_template_rows": null,
            "height": null,
            "justify_content": null,
            "justify_items": null,
            "left": null,
            "margin": null,
            "max_height": null,
            "max_width": null,
            "min_height": null,
            "min_width": null,
            "object_fit": null,
            "object_position": null,
            "order": null,
            "overflow": null,
            "overflow_x": null,
            "overflow_y": null,
            "padding": null,
            "right": null,
            "top": null,
            "visibility": null,
            "width": null
          }
        },
        "52b21592324b4230b21c5e9a3ebd2878": {
          "model_module": "@jupyter-widgets/controls",
          "model_name": "ProgressStyleModel",
          "model_module_version": "1.5.0",
          "state": {
            "_model_module": "@jupyter-widgets/controls",
            "_model_module_version": "1.5.0",
            "_model_name": "ProgressStyleModel",
            "_view_count": null,
            "_view_module": "@jupyter-widgets/base",
            "_view_module_version": "1.2.0",
            "_view_name": "StyleView",
            "bar_color": null,
            "description_width": ""
          }
        },
        "89da7257130049b49daa525a4319462f": {
          "model_module": "@jupyter-widgets/base",
          "model_name": "LayoutModel",
          "model_module_version": "1.2.0",
          "state": {
            "_model_module": "@jupyter-widgets/base",
            "_model_module_version": "1.2.0",
            "_model_name": "LayoutModel",
            "_view_count": null,
            "_view_module": "@jupyter-widgets/base",
            "_view_module_version": "1.2.0",
            "_view_name": "LayoutView",
            "align_content": null,
            "align_items": null,
            "align_self": null,
            "border": null,
            "bottom": null,
            "display": null,
            "flex": null,
            "flex_flow": null,
            "grid_area": null,
            "grid_auto_columns": null,
            "grid_auto_flow": null,
            "grid_auto_rows": null,
            "grid_column": null,
            "grid_gap": null,
            "grid_row": null,
            "grid_template_areas": null,
            "grid_template_columns": null,
            "grid_template_rows": null,
            "height": null,
            "justify_content": null,
            "justify_items": null,
            "left": null,
            "margin": null,
            "max_height": null,
            "max_width": null,
            "min_height": null,
            "min_width": null,
            "object_fit": null,
            "object_position": null,
            "order": null,
            "overflow": null,
            "overflow_x": null,
            "overflow_y": null,
            "padding": null,
            "right": null,
            "top": null,
            "visibility": null,
            "width": null
          }
        },
        "6a29dbdef0f3408dac9495d9888574b2": {
          "model_module": "@jupyter-widgets/controls",
          "model_name": "DescriptionStyleModel",
          "model_module_version": "1.5.0",
          "state": {
            "_model_module": "@jupyter-widgets/controls",
            "_model_module_version": "1.5.0",
            "_model_name": "DescriptionStyleModel",
            "_view_count": null,
            "_view_module": "@jupyter-widgets/base",
            "_view_module_version": "1.2.0",
            "_view_name": "StyleView",
            "description_width": ""
          }
        }
      }
    }
  },
  "cells": [
    {
      "cell_type": "markdown",
      "source": [
        "## Imports"
      ],
      "metadata": {
        "id": "uccv2X7WeJGv"
      }
    },
    {
      "cell_type": "code",
      "source": [
        "!pip install transformers"
      ],
      "metadata": {
        "colab": {
          "base_uri": "https://localhost:8080/"
        },
        "id": "A4gro-sOZz-O",
        "outputId": "bc258d3f-ff48-4386-cc97-7ef83ca54ad8"
      },
      "execution_count": 1,
      "outputs": [
        {
          "output_type": "stream",
          "name": "stdout",
          "text": [
            "Looking in indexes: https://pypi.org/simple, https://us-python.pkg.dev/colab-wheels/public/simple/\n",
            "Collecting transformers\n",
            "  Downloading transformers-4.26.1-py3-none-any.whl (6.3 MB)\n",
            "\u001b[2K     \u001b[90m━━━━━━━━━━━━━━━━━━━━━━━━━━━━━━━━━━━━━━━━\u001b[0m \u001b[32m6.3/6.3 MB\u001b[0m \u001b[31m47.6 MB/s\u001b[0m eta \u001b[36m0:00:00\u001b[0m\n",
            "\u001b[?25hRequirement already satisfied: pyyaml>=5.1 in /usr/local/lib/python3.8/dist-packages (from transformers) (6.0)\n",
            "Requirement already satisfied: numpy>=1.17 in /usr/local/lib/python3.8/dist-packages (from transformers) (1.22.4)\n",
            "Requirement already satisfied: filelock in /usr/local/lib/python3.8/dist-packages (from transformers) (3.9.0)\n",
            "Requirement already satisfied: regex!=2019.12.17 in /usr/local/lib/python3.8/dist-packages (from transformers) (2022.6.2)\n",
            "Collecting huggingface-hub<1.0,>=0.11.0\n",
            "  Downloading huggingface_hub-0.12.1-py3-none-any.whl (190 kB)\n",
            "\u001b[2K     \u001b[90m━━━━━━━━━━━━━━━━━━━━━━━━━━━━━━━━━━━━━━━\u001b[0m \u001b[32m190.3/190.3 KB\u001b[0m \u001b[31m9.3 MB/s\u001b[0m eta \u001b[36m0:00:00\u001b[0m\n",
            "\u001b[?25hRequirement already satisfied: requests in /usr/local/lib/python3.8/dist-packages (from transformers) (2.25.1)\n",
            "Collecting tokenizers!=0.11.3,<0.14,>=0.11.1\n",
            "  Downloading tokenizers-0.13.2-cp38-cp38-manylinux_2_17_x86_64.manylinux2014_x86_64.whl (7.6 MB)\n",
            "\u001b[2K     \u001b[90m━━━━━━━━━━━━━━━━━━━━━━━━━━━━━━━━━━━━━━━━\u001b[0m \u001b[32m7.6/7.6 MB\u001b[0m \u001b[31m15.0 MB/s\u001b[0m eta \u001b[36m0:00:00\u001b[0m\n",
            "\u001b[?25hRequirement already satisfied: packaging>=20.0 in /usr/local/lib/python3.8/dist-packages (from transformers) (23.0)\n",
            "Requirement already satisfied: tqdm>=4.27 in /usr/local/lib/python3.8/dist-packages (from transformers) (4.64.1)\n",
            "Requirement already satisfied: typing-extensions>=3.7.4.3 in /usr/local/lib/python3.8/dist-packages (from huggingface-hub<1.0,>=0.11.0->transformers) (4.5.0)\n",
            "Requirement already satisfied: urllib3<1.27,>=1.21.1 in /usr/local/lib/python3.8/dist-packages (from requests->transformers) (1.26.14)\n",
            "Requirement already satisfied: certifi>=2017.4.17 in /usr/local/lib/python3.8/dist-packages (from requests->transformers) (2022.12.7)\n",
            "Requirement already satisfied: chardet<5,>=3.0.2 in /usr/local/lib/python3.8/dist-packages (from requests->transformers) (4.0.0)\n",
            "Requirement already satisfied: idna<3,>=2.5 in /usr/local/lib/python3.8/dist-packages (from requests->transformers) (2.10)\n",
            "Installing collected packages: tokenizers, huggingface-hub, transformers\n",
            "Successfully installed huggingface-hub-0.12.1 tokenizers-0.13.2 transformers-4.26.1\n"
          ]
        }
      ]
    },
    {
      "cell_type": "code",
      "source": [
        "import torch\n",
        "import torch.nn.functional as F\n",
        "from transformers import AutoTokenizer, AutoModelForCausalLM\n",
        "from transformers import T5ForConditionalGeneration\n",
        "import numpy as np"
      ],
      "metadata": {
        "id": "3a0gYtW0uBPD"
      },
      "execution_count": 2,
      "outputs": []
    },
    {
      "cell_type": "code",
      "source": [
        "# set device\n",
        "device = torch.device(\"cuda\")"
      ],
      "metadata": {
        "id": "prUx8libwb5R"
      },
      "execution_count": 3,
      "outputs": []
    },
    {
      "cell_type": "markdown",
      "source": [
        "## Load Models"
      ],
      "metadata": {
        "id": "LVCq8I6R7-TZ"
      }
    },
    {
      "cell_type": "code",
      "source": [
        "# load t5-small\n",
        "model_name = \"t5-small\"\n",
        "\n",
        "t5_tokenizer = AutoTokenizer.from_pretrained(model_name)\n",
        "\n",
        "t5_model = T5ForConditionalGeneration.from_pretrained(model_name).to(device)"
      ],
      "metadata": {
        "colab": {
          "base_uri": "https://localhost:8080/",
          "height": 308,
          "referenced_widgets": [
            "4c42c375725d45d2916d61d17d429d2e",
            "330b26aa75d14668a3da584590914807",
            "d84f926f1f75401eae43a106d1629769",
            "0300c36002144ec4836991b90908b631",
            "1a5d9d651ace4a3d92ab218a313cb0b7",
            "e1a014d9567a4f4985b35a2b4f0dccef",
            "3a77a00c262a4ce186ed59c7ba545278",
            "3168956c37214c1bb85e5abdf5206c73",
            "e6a06d51f7674818802933c83d885b64",
            "36fa353f16bc45d8a1fddd3f82d6a7d1",
            "840a9c3fdead43e4848d6d97a6848a73",
            "2dd09c7d52f743ba8b7c95ab58a8d9bc",
            "356075d669104e61b1e1d26a5c3106ef",
            "05ba4b4eff864cb79c625d2f2dadba5b",
            "4b208135c8fb44978dc79e1df069c7ec",
            "72a31e594a974e51a97275c9cc0ec82e",
            "536d594d64c2467fa94cc09be41150ca",
            "14065b034d904d0aaf40b6fdd800dc86",
            "1629e80bd8a9406c95521dd8a52a3490",
            "027b0c2a0672469185c44399be85f211",
            "f0686ddf5bdd4879a613edbded0d2ac3",
            "bb40219a137841698e8067e65b1359f7",
            "30f9960f613b4b0082556d0bb2e1070b",
            "36f7f69de25442f8ac21391db3a96c9a",
            "7d8b7ce813eb4b73a413f382cbba64b9",
            "14088e181b8343ab9e7a1a3140bd13cb",
            "b3cbd6a64dee49399f9d84fb8ab1f7c5",
            "cbef75114f894038b4e0d298d328ea0a",
            "f6fd1ef849704af6b579b61f2ee2679b",
            "d374b19646914993be52a7a83ca6e242",
            "fa1b831c299b4e9ea706b0f9089a66c3",
            "62ef217efbfc43ac96ce04c94cec113b",
            "2df7317a8e2f418083ed01b33f9f4a6d",
            "464db55812a646aa8b3315628f63d003",
            "09d4b1a208cb49f19f9a366fb38eda5f",
            "10f4e4d06d574b688d0d4667c008ec19",
            "40bd667ef36b4e36a52267b017b66296",
            "33c1b204b8574bd58dfc683cb316aa06",
            "b8910570626f4dd99948a9319812142c",
            "ee6213224a104dc48c6f4e830e52d670",
            "136532cfd3234981ae4d4cbfb39fd139",
            "62589d62a57a432a99cbfd72411c7f7a",
            "d48a186de19d4f0992c254aa4421925d",
            "77027bf4f75c454ea6f108a0c7eff9dd",
            "e32f8a5eff254715a88baaa31c995736",
            "6ab25f1ef9cf485e933da84ff47659aa",
            "a45c6163668340699b3c1b509c788292",
            "8cf211d19b88461aa5972e1fba8cd999",
            "8dc0da9450944353b0f0a482827d2790",
            "3c4be383a9504210ba4803b0faa8f51c",
            "a01972aef0284c5390fc532e661bae60",
            "ddbe4a1737b04434bf62615f2bfa964c",
            "52b21592324b4230b21c5e9a3ebd2878",
            "89da7257130049b49daa525a4319462f",
            "6a29dbdef0f3408dac9495d9888574b2"
          ]
        },
        "id": "82Mdy22xuNDJ",
        "outputId": "c19a656c-6907-44f3-a5e2-6f6d2b4f7215"
      },
      "execution_count": 4,
      "outputs": [
        {
          "output_type": "display_data",
          "data": {
            "text/plain": [
              "Downloading (…)lve/main/config.json:   0%|          | 0.00/1.21k [00:00<?, ?B/s]"
            ],
            "application/vnd.jupyter.widget-view+json": {
              "version_major": 2,
              "version_minor": 0,
              "model_id": "4c42c375725d45d2916d61d17d429d2e"
            }
          },
          "metadata": {}
        },
        {
          "output_type": "display_data",
          "data": {
            "text/plain": [
              "Downloading (…)ve/main/spiece.model:   0%|          | 0.00/792k [00:00<?, ?B/s]"
            ],
            "application/vnd.jupyter.widget-view+json": {
              "version_major": 2,
              "version_minor": 0,
              "model_id": "2dd09c7d52f743ba8b7c95ab58a8d9bc"
            }
          },
          "metadata": {}
        },
        {
          "output_type": "display_data",
          "data": {
            "text/plain": [
              "Downloading (…)/main/tokenizer.json:   0%|          | 0.00/1.39M [00:00<?, ?B/s]"
            ],
            "application/vnd.jupyter.widget-view+json": {
              "version_major": 2,
              "version_minor": 0,
              "model_id": "30f9960f613b4b0082556d0bb2e1070b"
            }
          },
          "metadata": {}
        },
        {
          "output_type": "stream",
          "name": "stderr",
          "text": [
            "/usr/local/lib/python3.8/dist-packages/transformers/models/t5/tokenization_t5_fast.py:155: FutureWarning: This tokenizer was incorrectly instantiated with a model max length of 512 which will be corrected in Transformers v5.\n",
            "For now, this behavior is kept to avoid breaking backwards compatibility when padding/encoding with `truncation is True`.\n",
            "- Be aware that you SHOULD NOT rely on t5-small automatically truncating your input to 512 when padding/encoding.\n",
            "- If you want to encode/pad to sequences longer than 512 you can either instantiate this tokenizer with `model_max_length` or pass `max_length` when encoding/padding.\n",
            "- To avoid this warning, please instantiate this tokenizer with `model_max_length` set to your preferred value.\n",
            "  warnings.warn(\n"
          ]
        },
        {
          "output_type": "display_data",
          "data": {
            "text/plain": [
              "Downloading (…)\"pytorch_model.bin\";:   0%|          | 0.00/242M [00:00<?, ?B/s]"
            ],
            "application/vnd.jupyter.widget-view+json": {
              "version_major": 2,
              "version_minor": 0,
              "model_id": "464db55812a646aa8b3315628f63d003"
            }
          },
          "metadata": {}
        },
        {
          "output_type": "display_data",
          "data": {
            "text/plain": [
              "Downloading (…)neration_config.json:   0%|          | 0.00/147 [00:00<?, ?B/s]"
            ],
            "application/vnd.jupyter.widget-view+json": {
              "version_major": 2,
              "version_minor": 0,
              "model_id": "e32f8a5eff254715a88baaa31c995736"
            }
          },
          "metadata": {}
        }
      ]
    },
    {
      "cell_type": "code",
      "execution_count": 16,
      "metadata": {
        "id": "_Dmr6W7vZwPt"
      },
      "outputs": [],
      "source": [
        "# load gpt2\n",
        "model_name = \"gpt2\"\n",
        "\n",
        "gpt_2_tokenizer = AutoTokenizer.from_pretrained(model_name)\n",
        "\n",
        "gpt_2_model = AutoModelForCausalLM.from_pretrained(model_name).to(device)"
      ]
    },
    {
      "cell_type": "code",
      "source": [
        "# load distilgpt2 - https://huggingface.co/distilgpt2\n",
        "model_name = \"distilgpt2\"\n",
        "\n",
        "distilgpt2_tokenizer = AutoTokenizer.from_pretrained(model_name)\n",
        "\n",
        "distilgpt2_model = AutoModelForCausalLM.from_pretrained(model_name).to(device)"
      ],
      "metadata": {
        "id": "BC95NHH8-JU8"
      },
      "execution_count": 8,
      "outputs": []
    },
    {
      "cell_type": "code",
      "source": [
        "# load gpt2-large - \n",
        "model_name = \"gpt2-large\"\n",
        "\n",
        "gpt2_large_tokenizer = AutoTokenizer.from_pretrained(model_name)\n",
        "\n",
        "gpt2_large_model = AutoModelForCausalLM.from_pretrained(model_name).to(device)"
      ],
      "metadata": {
        "id": "wDj2dmviZ7_9"
      },
      "execution_count": 13,
      "outputs": []
    },
    {
      "cell_type": "markdown",
      "source": [
        "## T5 Work (reproducing/tweaking [existing CKA method](https://github.com/dqxiu/CaliNet/blob/master/cka/assessing_score.py))"
      ],
      "metadata": {
        "id": "mZ3qkD5meSgQ"
      }
    },
    {
      "cell_type": "code",
      "source": [
        "def probe_t5(model,input_ids, target):\n",
        "    # T5 is an encoder-decoder mode, so we have to provide both input_ids and decoder_input_ids to the model\n",
        "    # this is in contrast to BERT whose transformer follows the original attention paper and is 'encoder' only\n",
        "    # and the GPT-family of models which is decoder only (which really is quite similar to BERT other than the fact that)\n",
        "    # BERT can optimize reps based on the entire context before/after a word\n",
        "    # while GPT models are auto-regressive or 'causal' so they can only look at tokens that precede a given word \n",
        "    # the input id's correspond to the \n",
        "    # where 0 is the corresponding id for <pad>\n",
        "    # and 32099 is the corresponding id for <extra_id_0>\n",
        "    # this <extra_id_0> essentially stands in for the 'blank' predictor token\n",
        "    # which is how we'll solicit text-generation\n",
        "    outputs = model(input_ids=input_ids, decoder_input_ids=torch.tensor([[0, 32099]],device='cuda:0'),\n",
        "                    output_hidden_states=True, return_dict=True)\n",
        "    \n",
        "    # outputs contains:\n",
        "      # logits -- Prediction scores of the language modeling head)\n",
        "        # unnormalized scores for each possible token at the masked token position\n",
        "      # past_key_values -- Contains pre-computed hidden-states (key and values in the attention blocks) \n",
        "      # decoder_hidden_states  -- Hidden-states of the decoder at the output of each layer plus the initial embedding outputs.\n",
        "      # encoder_last_hidden_state -- Sequence of hidden-states at the output of the last layer of the encoder of the model.\n",
        "      # encoder_hidden_states -- Hidden-states of the encoder at the output of each layer plus the initial embedding outputs.\n",
        "    \n",
        "    # torch.Size([1, 2, 32128]) \n",
        "    # 1 x 2 x 32128 because \n",
        "    # we have batch_size of 1\n",
        "    # and a sequence length of 2\n",
        "    # and the vocab size for t5 is 32128\n",
        "\n",
        "    # torch.Size([32128])\n",
        "    # We have batch size of 1, so grab that, then, \n",
        "    # Take the entire last matrix which corresponds to the last layer\n",
        "    logits = outputs['logits'][0, -1]\n",
        "\n",
        "    # convert our prediction scores to a probability distribution with softmax\n",
        "    # https://pytorch.org/docs/stable/generated/torch.nn.functional.softmax.html#torch.nn.functional.softmax\n",
        "    probs = F.softmax(logits, dim=-1)\n",
        "\n",
        "    # originally, they had \n",
        "    # torch.reshape(probs, (-1,)).detach().cpu().numpy()\n",
        "    # but that reshape line doesn't do anything since probs is already just 1-dimension (= to the embedding size)\n",
        "    # in this case, for every token in T5's vocabulary, we're getting.. \n",
        "    # a prediction that the hidden token is that word?\n",
        "    probs = probs.detach().cpu().numpy()\n",
        "\n",
        "    # so let's just grab that by its given\n",
        "    return probs[target.item()]"
      ],
      "metadata": {
        "id": "BpdvRZituHnF"
      },
      "execution_count": null,
      "outputs": []
    },
    {
      "cell_type": "markdown",
      "source": [
        "## Test out T5 Implementation"
      ],
      "metadata": {
        "id": "0DYBtsxM8gdy"
      }
    },
    {
      "cell_type": "markdown",
      "source": [
        "### (base) t5_small"
      ],
      "metadata": {
        "id": "uH9UwRoP8Ra5"
      }
    },
    {
      "cell_type": "code",
      "source": [
        "src_true = \"Operation Overlord took place in <extra_id_0> .\"\n",
        "target_token = \"France\"\n",
        "\n",
        "target = t5_tokenizer.encode(target_token, return_tensors=\"pt\").to(device)[0][0]\n",
        "            \n",
        "input_ids = t5_tokenizer.encode(src_true, return_tensors=\"pt\").to(device)\n",
        "\n",
        "P_true = probe_t5(t5_model,input_ids, target) \n",
        "\n",
        "P_true"
      ],
      "metadata": {
        "id": "z9xoM1y1p1hr",
        "colab": {
          "base_uri": "https://localhost:8080/"
        },
        "outputId": "8e6796be-23b9-4e4a-b426-82e574108971"
      },
      "execution_count": null,
      "outputs": [
        {
          "output_type": "execute_result",
          "data": {
            "text/plain": [
              "0.0018174488"
            ]
          },
          "metadata": {},
          "execution_count": 7
        }
      ]
    },
    {
      "cell_type": "code",
      "source": [
        "src_true = \"Operation Overlord took place in <extra_id_0> .\"\n",
        "target_token = \"Belgium\"\n",
        "\n",
        "target = t5_tokenizer.encode(target_token, return_tensors=\"pt\").to(device)[0][0]\n",
        "            \n",
        "input_ids = t5_tokenizer.encode(src_true, return_tensors=\"pt\").to(device)\n",
        "\n",
        "P_false = probe_t5(t5_model,input_ids, target) \n",
        "\n",
        "P_false"
      ],
      "metadata": {
        "id": "vLD9cy1Uz-Cq",
        "colab": {
          "base_uri": "https://localhost:8080/"
        },
        "outputId": "f30e8d8e-4300-4faa-d270-f09ae1b03532"
      },
      "execution_count": null,
      "outputs": [
        {
          "output_type": "execute_result",
          "data": {
            "text/plain": [
              "0.00039698844"
            ]
          },
          "metadata": {},
          "execution_count": 8
        }
      ]
    },
    {
      "cell_type": "code",
      "source": [
        "P_true"
      ],
      "metadata": {
        "colab": {
          "base_uri": "https://localhost:8080/"
        },
        "id": "Ikr8cxIVwdF4",
        "outputId": "78bf93b6-2b12-4d94-c1a5-a089b989a156"
      },
      "execution_count": null,
      "outputs": [
        {
          "output_type": "execute_result",
          "data": {
            "text/plain": [
              "0.0018174488"
            ]
          },
          "metadata": {},
          "execution_count": 262
        }
      ]
    },
    {
      "cell_type": "code",
      "source": [
        "P_false"
      ],
      "metadata": {
        "colab": {
          "base_uri": "https://localhost:8080/"
        },
        "id": "fddxQuLW0LBT",
        "outputId": "912d33f8-d6aa-4864-ce01-705586581c44"
      },
      "execution_count": null,
      "outputs": [
        {
          "output_type": "execute_result",
          "data": {
            "text/plain": [
              "0.00039698844"
            ]
          },
          "metadata": {},
          "execution_count": 263
        }
      ]
    },
    {
      "cell_type": "code",
      "source": [
        "P_true > P_false"
      ],
      "metadata": {
        "colab": {
          "base_uri": "https://localhost:8080/"
        },
        "id": "dXSFpPfRfJQC",
        "outputId": "702798ac-8d16-48ca-e774-58651d2c3b6c"
      },
      "execution_count": null,
      "outputs": [
        {
          "output_type": "execute_result",
          "data": {
            "text/plain": [
              "True"
            ]
          },
          "metadata": {},
          "execution_count": 264
        }
      ]
    },
    {
      "cell_type": "markdown",
      "source": [
        "### flan_t5-small"
      ],
      "metadata": {
        "id": "X7ddC32v8Tbu"
      }
    },
    {
      "cell_type": "markdown",
      "source": [
        "## GPT work for CKA (adapting CKA method)"
      ],
      "metadata": {
        "id": "KhlH8d-HebTX"
      }
    },
    {
      "cell_type": "code",
      "source": [
        "'''\n",
        "  model: a pretrained model pulled in from HuggingFace; in this case \n",
        "    the architecture we'll use is be guessed from the name or the path of the pretrained model \n",
        "    we supplied in the from_pretrained() method called in the setup for this notebook\n",
        "  see more - https://huggingface.co/docs/transformers/model_doc/auto#transformers.AutoModelForCausalLM\n",
        "  input_ids: the indices (in gpt's vocabulary) of our left-context tokens\n",
        "  target: the index (in gpt's vocabulary) of the token we're gathering a prediction for\n",
        "\n",
        "  return: a float indicating the likelihood of the target following the left-context according to the model\n",
        "    in case of error, return None\n",
        "'''\n",
        "def probe_gpt(model, input_ids, target):\n",
        "\n",
        "  # ensure we're only asking for a single token prediction \n",
        "  if len(target) > 1:\n",
        "    # default to the very first token that get's predicted\n",
        "    # e.g. in the case of Tokyo, which gets split into <Tok> <yo>,\n",
        "    # we can presume that if the model produces a highprob for <Tok> that's sufficient enough to\n",
        "    # conclude that it's individual prob is fairly representative to\n",
        "    # the likelihood that Tokyou would be predicted\n",
        "    target = target[0]\n",
        "  \n",
        "  # sanity check - do a conversion that tells us the exact \"token\" that's being predicted on\n",
        "  # print(model.convert_)\n",
        "  \n",
        "  # grab value\n",
        "  target_scalar = target.detach().cpu().numpy()\n",
        "\n",
        "  # use model to solicit a prediction\n",
        "  outputs = model(input_ids=input_ids, output_hidden_states=True, return_dict=True)\n",
        "\n",
        "  # shape of 50257 which corresponds to the vocab size of GPT\n",
        "  # every token in GPT's vocab gets a representative prediction from the model\n",
        "  logits = outputs['logits'][0, -1]\n",
        "\n",
        "  # grab those probabilities\n",
        "  probs = F.softmax(logits, dim=-1)\n",
        "\n",
        "  probs = list(probs.detach().cpu().numpy())\n",
        "\n",
        "  # double check weird-ness before accessing prob\n",
        "  if len(probs) < target:\n",
        "    return None\n",
        "  \n",
        "  # return the likelihood that our stipulated target would follow the context, according to the model\n",
        "  try:\n",
        "     return np.take(probs, [target_scalar])[0]\n",
        "  except IndexError:\n",
        "\n",
        "    print(f\"target index not in model vocabulary scope; raising IndexError\")\n",
        "    return None"
      ],
      "metadata": {
        "id": "_pQXiZ1ebCX3"
      },
      "execution_count": 6,
      "outputs": []
    },
    {
      "cell_type": "markdown",
      "source": [
        "## Test out GPT Implementation"
      ],
      "metadata": {
        "id": "liO5AafU77wG"
      }
    },
    {
      "cell_type": "markdown",
      "source": [
        "### GPT-2"
      ],
      "metadata": {
        "id": "YT_ITmY-8GZj"
      }
    },
    {
      "cell_type": "code",
      "source": [
        "phrase = 'The 2020 Olympic Games took place in '\n",
        "target_token = 'Tokyo'\n",
        "\n",
        "target = gpt_2_tokenizer.encode(target_token, return_tensors='pt').to(device)[0]\n",
        "\n",
        "# these input ids correspond to the tokenized representation of the words preceding the blank space we're soliciting a prediction for\n",
        "input_ids = gpt_2_tokenizer.encode(phrase, return_tensors='pt').to(device)\n",
        "\n",
        "# what are we looking for, exactly?\n",
        "tokenized_target_of_interest = gpt_2_tokenizer.convert_ids_to_tokens(list(target.detach().cpu().numpy()))[0]\n",
        "\n",
        "P_true = probe_gpt(gpt_2_model,input_ids, target)\n",
        "\n",
        "print(f\"prob. the next token in the input sequence is {tokenized_target_of_interest} = {P_true}\")"
      ],
      "metadata": {
        "colab": {
          "base_uri": "https://localhost:8080/"
        },
        "id": "qkv-YyZkZrtL",
        "outputId": "26e31dcd-3ce1-47fd-a43e-c314a4e91206"
      },
      "execution_count": 28,
      "outputs": [
        {
          "output_type": "stream",
          "name": "stdout",
          "text": [
            "prob. the next token in the input sequence is Tok = 2.607206965876685e-07\n"
          ]
        }
      ]
    },
    {
      "cell_type": "code",
      "source": [
        "phrase = 'The 2020 Olympic Games took place in '\n",
        "target_token = 'Berlin'\n",
        "\n",
        "target = gpt_2_tokenizer.encode(target_token, return_tensors='pt').to(device)[0]\n",
        "\n",
        "input_ids = gpt_2_tokenizer.encode(phrase, return_tensors='pt').to(device)\n",
        "\n",
        "tokenized_target_of_interest = gpt_2_tokenizer.convert_ids_to_tokens(list(target.detach().cpu().numpy()))[0]\n",
        "\n",
        "P_false = probe_gpt(gpt_2_model,input_ids, target)\n",
        "\n",
        "print(f\"prob. the next token in the input sequence is {tokenized_target_of_interest} = {P_false}\")"
      ],
      "metadata": {
        "colab": {
          "base_uri": "https://localhost:8080/"
        },
        "id": "eKK-0ADraZar",
        "outputId": "e1fef88a-a4e8-45f7-901b-85c830d73ebf"
      },
      "execution_count": 32,
      "outputs": [
        {
          "output_type": "stream",
          "name": "stdout",
          "text": [
            "prob. the next token in the input sequence is Ber = 2.477075327078637e-07\n"
          ]
        }
      ]
    },
    {
      "cell_type": "code",
      "source": [
        "P_true > P_false"
      ],
      "metadata": {
        "colab": {
          "base_uri": "https://localhost:8080/"
        },
        "id": "emTTdJ1MfHap",
        "outputId": "c0ca5499-6f3e-4564-b814-6308329eaa57"
      },
      "execution_count": 33,
      "outputs": [
        {
          "output_type": "execute_result",
          "data": {
            "text/plain": [
              "True"
            ]
          },
          "metadata": {},
          "execution_count": 33
        }
      ]
    },
    {
      "cell_type": "markdown",
      "source": [
        "### distill-gpt2"
      ],
      "metadata": {
        "id": "5z8hPESW8Jdl"
      }
    },
    {
      "cell_type": "code",
      "source": [
        "phrase = 'The 2020 Olympic Games took place in '\n",
        "target_token = 'Tokyo'\n",
        "\n",
        "target = distilgpt2_tokenizer.encode(target_token, return_tensors='pt').to(device)[0]\n",
        "\n",
        "# these input ids correspond to the tokenized representation of the words preceding the blank space we're soliciting a prediction for\n",
        "input_ids = distilgpt2_tokenizer.encode(phrase, return_tensors='pt').to(device)\n",
        "\n",
        "# what are we looking for, exactly?\n",
        "tokenized_target_of_interest = distilgpt2_tokenizer.convert_ids_to_tokens(list(target.detach().cpu().numpy()))[0]\n",
        "\n",
        "P_true = probe_gpt(distilgpt2_model,input_ids, target)\n",
        "\n",
        "print(f\"prob. the next token in the input sequence is {tokenized_target_of_interest} = {P_true}\")"
      ],
      "metadata": {
        "colab": {
          "base_uri": "https://localhost:8080/"
        },
        "id": "0yZ5Dyj88LsL",
        "outputId": "92178a9d-2f3b-434d-8127-594bbf67f77e"
      },
      "execution_count": 24,
      "outputs": [
        {
          "output_type": "stream",
          "name": "stdout",
          "text": [
            "prob. the next token in the input sequence is Tok = 5.20289745509217e-07\n"
          ]
        }
      ]
    },
    {
      "cell_type": "code",
      "source": [
        "phrase = 'The 2020 Olympic Games took place in '\n",
        "target_token = 'Berlin'\n",
        "\n",
        "target = distilgpt2_tokenizer.encode(target_token, return_tensors='pt').to(device)[0]\n",
        "\n",
        "# these input ids correspond to the tokenized representation of the words preceding the blank space we're soliciting a prediction for\n",
        "input_ids = distilgpt2_tokenizer.encode(phrase, return_tensors='pt').to(device)\n",
        "\n",
        "# what are we looking for, exactly?\n",
        "tokenized_target_of_interest = distilgpt2_tokenizer.convert_ids_to_tokens(list(target.detach().cpu().numpy()))[0]\n",
        "\n",
        "P_false = probe_gpt(distilgpt2_model,input_ids, target)\n",
        "\n",
        "print(f\"prob. the next token in the input sequence is {tokenized_target_of_interest} = {P_false}\")"
      ],
      "metadata": {
        "colab": {
          "base_uri": "https://localhost:8080/"
        },
        "id": "f12xciQwZkAN",
        "outputId": "233a2247-29e1-4ea0-8560-7823af740777"
      },
      "execution_count": 25,
      "outputs": [
        {
          "output_type": "stream",
          "name": "stdout",
          "text": [
            "prob. the next token in the input sequence is Ber = 3.7727363633166533e-07\n"
          ]
        }
      ]
    },
    {
      "cell_type": "code",
      "source": [
        "P_true > P_false"
      ],
      "metadata": {
        "colab": {
          "base_uri": "https://localhost:8080/"
        },
        "id": "ePBji4mJZouA",
        "outputId": "45c6e6c5-da06-4094-fbdc-90f213807d21"
      },
      "execution_count": 11,
      "outputs": [
        {
          "output_type": "execute_result",
          "data": {
            "text/plain": [
              "True"
            ]
          },
          "metadata": {},
          "execution_count": 11
        }
      ]
    },
    {
      "cell_type": "markdown",
      "source": [
        "### gpt2_large"
      ],
      "metadata": {
        "id": "1SmdsPaE8OGP"
      }
    },
    {
      "cell_type": "code",
      "source": [
        "phrase = 'The 2020 Olympic Games took place in '\n",
        "target_token = 'Tokyo'\n",
        "\n",
        "target = gpt2_large_tokenizer.encode(target_token, return_tensors='pt').to(device)[0]\n",
        "\n",
        "# these input ids correspond to the tokenized representation of the words preceding the blank space we're soliciting a prediction for\n",
        "input_ids = gpt2_large_tokenizer.encode(phrase, return_tensors='pt').to(device)\n",
        "\n",
        "tokenized_target_of_interest = gpt2_large_tokenizer.convert_ids_to_tokens(list(target.detach().cpu().numpy()))[0]\n",
        "\n",
        "P_true = probe_gpt(gpt2_large_model,input_ids, target)\n",
        "\n",
        "print(f\"prob. the next token in the input sequence is {tokenized_target_of_interest} = {P_true}\")"
      ],
      "metadata": {
        "colab": {
          "base_uri": "https://localhost:8080/"
        },
        "id": "n7HuQpEX8PVc",
        "outputId": "fa63a6ee-925c-4645-b2d1-10e2fb45b673"
      },
      "execution_count": 26,
      "outputs": [
        {
          "output_type": "stream",
          "name": "stdout",
          "text": [
            "prob. the next token in the input sequence is Tok = 5.20289745509217e-07\n"
          ]
        }
      ]
    },
    {
      "cell_type": "code",
      "source": [
        "phrase = 'The 2020 Olympic Games took place in '\n",
        "target_token = 'Berlin'\n",
        "\n",
        "target = gpt2_large_tokenizer.encode(target_token, return_tensors='pt').to(device)[0]\n",
        "\n",
        "# these input ids correspond to the tokenized representation of the words preceding the blank space we're soliciting a prediction for\n",
        "input_ids = gpt2_large_tokenizer.encode(phrase, return_tensors='pt').to(device)\n",
        "\n",
        "tokenized_target_of_interest = gpt2_large_tokenizer.convert_ids_to_tokens(list(target.detach().cpu().numpy()))[0]\n",
        "\n",
        "P_false = probe_gpt(gpt2_large_model,input_ids, target)\n",
        "\n",
        "print(f\"prob. the next token in the input sequence is {tokenized_target_of_interest} = {P_false}\")"
      ],
      "metadata": {
        "colab": {
          "base_uri": "https://localhost:8080/"
        },
        "id": "_ED-6NxbbHVK",
        "outputId": "44300c48-8478-425b-80e3-c7b0e9cfe871"
      },
      "execution_count": 27,
      "outputs": [
        {
          "output_type": "stream",
          "name": "stdout",
          "text": [
            "prob. the next token in the input sequence is Ber = 3.7727363633166533e-07\n"
          ]
        }
      ]
    },
    {
      "cell_type": "code",
      "source": [
        "P_true > P_false"
      ],
      "metadata": {
        "colab": {
          "base_uri": "https://localhost:8080/"
        },
        "id": "2Txt9un3bL5R",
        "outputId": "972de670-fe3e-40a7-942e-93e85656412b"
      },
      "execution_count": 16,
      "outputs": [
        {
          "output_type": "execute_result",
          "data": {
            "text/plain": [
              "True"
            ]
          },
          "metadata": {},
          "execution_count": 16
        }
      ]
    }
  ]
}